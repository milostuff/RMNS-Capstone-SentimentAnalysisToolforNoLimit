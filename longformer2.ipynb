{
 "cells": [
  {
   "cell_type": "code",
   "execution_count": 1,
   "metadata": {},
   "outputs": [
    {
     "name": "stdout",
     "output_type": "stream",
     "text": [
      "WARNING:tensorflow:From c:\\Users\\rache\\AppData\\Local\\Programs\\Python\\Python311\\Lib\\site-packages\\tf_keras\\src\\losses.py:2976: The name tf.losses.sparse_softmax_cross_entropy is deprecated. Please use tf.compat.v1.losses.sparse_softmax_cross_entropy instead.\n",
      "\n"
     ]
    }
   ],
   "source": [
    "import pandas as pd\n",
    "from sklearn.model_selection import train_test_split\n",
    "from transformers import LongformerTokenizer, LongformerForSequenceClassification, Trainer, TrainingArguments, EarlyStoppingCallback\n",
    "import torch\n",
    "import numpy as np\n",
    "from sklearn.metrics import accuracy_score, f1_score, precision_score, recall_score\n",
    "from sklearn.utils.class_weight import compute_class_weight"
   ]
  },
  {
   "cell_type": "code",
   "execution_count": 2,
   "metadata": {},
   "outputs": [],
   "source": [
    "# Load the dataset\n",
    "df = pd.read_csv(\"combined_output.csv\", on_bad_lines='skip')"
   ]
  },
  {
   "cell_type": "code",
   "execution_count": 3,
   "metadata": {},
   "outputs": [
    {
     "data": {
      "text/html": [
       "<div>\n",
       "<style scoped>\n",
       "    .dataframe tbody tr th:only-of-type {\n",
       "        vertical-align: middle;\n",
       "    }\n",
       "\n",
       "    .dataframe tbody tr th {\n",
       "        vertical-align: top;\n",
       "    }\n",
       "\n",
       "    .dataframe thead th {\n",
       "        text-align: right;\n",
       "    }\n",
       "</style>\n",
       "<table border=\"1\" class=\"dataframe\">\n",
       "  <thead>\n",
       "    <tr style=\"text-align: right;\">\n",
       "      <th></th>\n",
       "      <th>original_id</th>\n",
       "      <th>source_name</th>\n",
       "      <th>title</th>\n",
       "      <th>url</th>\n",
       "      <th>body</th>\n",
       "      <th>date_published</th>\n",
       "      <th>language</th>\n",
       "      <th>date_modified</th>\n",
       "      <th>author_list</th>\n",
       "      <th>images</th>\n",
       "      <th>description</th>\n",
       "      <th>sentiment</th>\n",
       "      <th>emotions</th>\n",
       "      <th>entities</th>\n",
       "      <th>quotations</th>\n",
       "      <th>prValues</th>\n",
       "      <th>clipping</th>\n",
       "      <th>label</th>\n",
       "      <th>category</th>\n",
       "    </tr>\n",
       "  </thead>\n",
       "  <tbody>\n",
       "    <tr>\n",
       "      <th>0</th>\n",
       "      <td>'5404c9d2fd24852afa122f2cc01cb3acba3c5d05b682d...</td>\n",
       "      <td>'kabargayo.com</td>\n",
       "      <td>'Kredit sepeda motor bisa terbayar jika Anda m...</td>\n",
       "      <td>'https://www.kabargayo.com/2024/09/19/kredit-s...</td>\n",
       "      <td>'Jakarta, VIVA – Pembayaran kredit sepeda moto...</td>\n",
       "      <td>19/09/2024 22.32</td>\n",
       "      <td>'id</td>\n",
       "      <td>19/09/2024 22.32</td>\n",
       "      <td>'Aldi Hadad</td>\n",
       "      <td>'https://i1.wp.com/thumb.viva.co.id/media/fron...</td>\n",
       "      <td>NaN</td>\n",
       "      <td>'positive</td>\n",
       "      <td>NaN</td>\n",
       "      <td>'Hari Pembayaran Berbayar atau Harcilnas 2024,...</td>\n",
       "      <td>NaN</td>\n",
       "      <td>5250000</td>\n",
       "      <td>Adira</td>\n",
       "      <td>NaN</td>\n",
       "      <td>NaN</td>\n",
       "    </tr>\n",
       "    <tr>\n",
       "      <th>1</th>\n",
       "      <td>'e1e3f8d68b58568e8217b7562d48de634fceb0d837135...</td>\n",
       "      <td>'viva.co.id</td>\n",
       "      <td>'Kredit Motor Bisa Lunas Jika Bayar Cicilan Te...</td>\n",
       "      <td>'https://www.viva.co.id/otomotif/tips/1753596-...</td>\n",
       "      <td>'Jakarta, VIVA – Cicilan kredit motor yang ser...</td>\n",
       "      <td>19/09/2024 22.30</td>\n",
       "      <td>'id</td>\n",
       "      <td>19/09/2024 22.30</td>\n",
       "      <td>'Krisna Wicaksono</td>\n",
       "      <td>'https://thumb.viva.co.id/media/frontend/thumb...</td>\n",
       "      <td>NaN</td>\n",
       "      <td>'positive</td>\n",
       "      <td>NaN</td>\n",
       "      <td>'Harinya Cicilan Lunas,2024,PT Adira Dinamika ...</td>\n",
       "      <td>NaN</td>\n",
       "      <td>5250000</td>\n",
       "      <td>Adira</td>\n",
       "      <td>NaN</td>\n",
       "      <td>NaN</td>\n",
       "    </tr>\n",
       "    <tr>\n",
       "      <th>2</th>\n",
       "      <td>'dca74b8fa4eabf60cebfa7b811ecb385872a0fd301eaf...</td>\n",
       "      <td>'kabarmegapolitan.pikiran-rakyat.com</td>\n",
       "      <td>'Adira Finance Umumkan Pemenang HARCILNAS 2024...</td>\n",
       "      <td>'https://kabarmegapolitan.pikiran-rakyat.com/b...</td>\n",
       "      <td>'KABARMEGAPOLITAN.com - PT Adira Dinamika Mult...</td>\n",
       "      <td>19/09/2024 21.45</td>\n",
       "      <td>'id</td>\n",
       "      <td>19/09/2024 21.45</td>\n",
       "      <td>'Yuliansyah</td>\n",
       "      <td>'https://assets.pikiran-rakyat.com/www/network...</td>\n",
       "      <td>NaN</td>\n",
       "      <td>'positive</td>\n",
       "      <td>'HARCILNAS merupakan wujud apresiasi kami kepa...</td>\n",
       "      <td>'PT Adira Dinamika,Cicilan Lunas HARCILNAS,12 ...</td>\n",
       "      <td>(Person :Tania Endah Budhi ,Quote : HARCILNAS ...</td>\n",
       "      <td>5250000</td>\n",
       "      <td>Adira</td>\n",
       "      <td>NaN</td>\n",
       "      <td>NaN</td>\n",
       "    </tr>\n",
       "    <tr>\n",
       "      <th>3</th>\n",
       "      <td>'56c73e2a6d254a17a5cc21dee7ed0b4660c3af70c093b...</td>\n",
       "      <td>'banggairaya.id</td>\n",
       "      <td>'Dapatkan Promo Menarik, Yamaha Prima Motor Ra...</td>\n",
       "      <td>'https://banggairaya.id/dapatkan-promo-menarik...</td>\n",
       "      <td>'BANGGAI RAYA- Yamaha Prima Motor ramaikan pam...</td>\n",
       "      <td>19/09/2024 19.45</td>\n",
       "      <td>'id</td>\n",
       "      <td>19/09/2024 19.45</td>\n",
       "      <td>'Chikal Connect</td>\n",
       "      <td>'https://i0.wp.com/banggairaya.id/wp-content/u...</td>\n",
       "      <td>NaN</td>\n",
       "      <td>'neutral</td>\n",
       "      <td>NaN</td>\n",
       "      <td>'RAYA- Yamaha Prima Motor,Banggai Goverment Ex...</td>\n",
       "      <td>NaN</td>\n",
       "      <td>5250000</td>\n",
       "      <td>Adira</td>\n",
       "      <td>NaN</td>\n",
       "      <td>NaN</td>\n",
       "    </tr>\n",
       "    <tr>\n",
       "      <th>4</th>\n",
       "      <td>'1cd6c6db60224b6ee5f49cd5d6c62cd2850d9f3255721...</td>\n",
       "      <td>'jakarta.tribunnews.com</td>\n",
       "      <td>'Sindikat Penipuan Leasing, Satu Bulan Ajukan ...</td>\n",
       "      <td>'https://jakarta.tribunnews.com/2024/09/19/sin...</td>\n",
       "      <td>'Laporan wartawan TribunJakarta.com Yusuf Bach...</td>\n",
       "      <td>19/09/2024 18.43</td>\n",
       "      <td>'id</td>\n",
       "      <td>19/09/2024 18.43</td>\n",
       "      <td>'Yusuf Bachtiar</td>\n",
       "      <td>'https://asset-2.tstatic.net/jakarta/foto/bank...</td>\n",
       "      <td>NaN</td>\n",
       "      <td>'neutral</td>\n",
       "      <td>'Pelaku ini melakukan pembiayaan pembelian ken...</td>\n",
       "      <td>'Yusuf Bachtiar TRIBUNJAKARTACOM,MEDAN,SATRIA,...</td>\n",
       "      <td>(Person :Dedi ,Quote : Pelaku ini melakukan pe...</td>\n",
       "      <td>5250000</td>\n",
       "      <td>Adira</td>\n",
       "      <td>NaN</td>\n",
       "      <td>NaN</td>\n",
       "    </tr>\n",
       "  </tbody>\n",
       "</table>\n",
       "</div>"
      ],
      "text/plain": [
       "                                         original_id  \\\n",
       "0  '5404c9d2fd24852afa122f2cc01cb3acba3c5d05b682d...   \n",
       "1  'e1e3f8d68b58568e8217b7562d48de634fceb0d837135...   \n",
       "2  'dca74b8fa4eabf60cebfa7b811ecb385872a0fd301eaf...   \n",
       "3  '56c73e2a6d254a17a5cc21dee7ed0b4660c3af70c093b...   \n",
       "4  '1cd6c6db60224b6ee5f49cd5d6c62cd2850d9f3255721...   \n",
       "\n",
       "                            source_name  \\\n",
       "0                        'kabargayo.com   \n",
       "1                           'viva.co.id   \n",
       "2  'kabarmegapolitan.pikiran-rakyat.com   \n",
       "3                       'banggairaya.id   \n",
       "4               'jakarta.tribunnews.com   \n",
       "\n",
       "                                               title  \\\n",
       "0  'Kredit sepeda motor bisa terbayar jika Anda m...   \n",
       "1  'Kredit Motor Bisa Lunas Jika Bayar Cicilan Te...   \n",
       "2  'Adira Finance Umumkan Pemenang HARCILNAS 2024...   \n",
       "3  'Dapatkan Promo Menarik, Yamaha Prima Motor Ra...   \n",
       "4  'Sindikat Penipuan Leasing, Satu Bulan Ajukan ...   \n",
       "\n",
       "                                                 url  \\\n",
       "0  'https://www.kabargayo.com/2024/09/19/kredit-s...   \n",
       "1  'https://www.viva.co.id/otomotif/tips/1753596-...   \n",
       "2  'https://kabarmegapolitan.pikiran-rakyat.com/b...   \n",
       "3  'https://banggairaya.id/dapatkan-promo-menarik...   \n",
       "4  'https://jakarta.tribunnews.com/2024/09/19/sin...   \n",
       "\n",
       "                                                body    date_published  \\\n",
       "0  'Jakarta, VIVA – Pembayaran kredit sepeda moto...  19/09/2024 22.32   \n",
       "1  'Jakarta, VIVA – Cicilan kredit motor yang ser...  19/09/2024 22.30   \n",
       "2  'KABARMEGAPOLITAN.com - PT Adira Dinamika Mult...  19/09/2024 21.45   \n",
       "3  'BANGGAI RAYA- Yamaha Prima Motor ramaikan pam...  19/09/2024 19.45   \n",
       "4  'Laporan wartawan TribunJakarta.com Yusuf Bach...  19/09/2024 18.43   \n",
       "\n",
       "  language     date_modified        author_list  \\\n",
       "0      'id  19/09/2024 22.32        'Aldi Hadad   \n",
       "1      'id  19/09/2024 22.30  'Krisna Wicaksono   \n",
       "2      'id  19/09/2024 21.45        'Yuliansyah   \n",
       "3      'id  19/09/2024 19.45    'Chikal Connect   \n",
       "4      'id  19/09/2024 18.43    'Yusuf Bachtiar   \n",
       "\n",
       "                                              images description  sentiment  \\\n",
       "0  'https://i1.wp.com/thumb.viva.co.id/media/fron...         NaN  'positive   \n",
       "1  'https://thumb.viva.co.id/media/frontend/thumb...         NaN  'positive   \n",
       "2  'https://assets.pikiran-rakyat.com/www/network...         NaN  'positive   \n",
       "3  'https://i0.wp.com/banggairaya.id/wp-content/u...         NaN   'neutral   \n",
       "4  'https://asset-2.tstatic.net/jakarta/foto/bank...         NaN   'neutral   \n",
       "\n",
       "                                            emotions  \\\n",
       "0                                                NaN   \n",
       "1                                                NaN   \n",
       "2  'HARCILNAS merupakan wujud apresiasi kami kepa...   \n",
       "3                                                NaN   \n",
       "4  'Pelaku ini melakukan pembiayaan pembelian ken...   \n",
       "\n",
       "                                            entities  \\\n",
       "0  'Hari Pembayaran Berbayar atau Harcilnas 2024,...   \n",
       "1  'Harinya Cicilan Lunas,2024,PT Adira Dinamika ...   \n",
       "2  'PT Adira Dinamika,Cicilan Lunas HARCILNAS,12 ...   \n",
       "3  'RAYA- Yamaha Prima Motor,Banggai Goverment Ex...   \n",
       "4  'Yusuf Bachtiar TRIBUNJAKARTACOM,MEDAN,SATRIA,...   \n",
       "\n",
       "                                          quotations  prValues clipping label  \\\n",
       "0                                                NaN   5250000    Adira   NaN   \n",
       "1                                                NaN   5250000    Adira   NaN   \n",
       "2  (Person :Tania Endah Budhi ,Quote : HARCILNAS ...   5250000    Adira   NaN   \n",
       "3                                                NaN   5250000    Adira   NaN   \n",
       "4  (Person :Dedi ,Quote : Pelaku ini melakukan pe...   5250000    Adira   NaN   \n",
       "\n",
       "   category  \n",
       "0       NaN  \n",
       "1       NaN  \n",
       "2       NaN  \n",
       "3       NaN  \n",
       "4       NaN  "
      ]
     },
     "execution_count": 3,
     "metadata": {},
     "output_type": "execute_result"
    }
   ],
   "source": [
    "df.head()"
   ]
  },
  {
   "cell_type": "code",
   "execution_count": 3,
   "metadata": {},
   "outputs": [],
   "source": [
    "# Clean extra characters from all columns in the DataFrame\n",
    "for column in df.columns:\n",
    "    if df[column].dtype == 'object':  # Check if the column is of string type\n",
    "        df[column] = df[column].str.strip(\"'\")  # Remove extra characters\n",
    "\n",
    "# Filter relevant columns\n",
    "df_filtered = df[['body', 'sentiment']].dropna()\n"
   ]
  },
  {
   "cell_type": "code",
   "execution_count": 5,
   "metadata": {},
   "outputs": [
    {
     "data": {
      "text/html": [
       "<div>\n",
       "<style scoped>\n",
       "    .dataframe tbody tr th:only-of-type {\n",
       "        vertical-align: middle;\n",
       "    }\n",
       "\n",
       "    .dataframe tbody tr th {\n",
       "        vertical-align: top;\n",
       "    }\n",
       "\n",
       "    .dataframe thead th {\n",
       "        text-align: right;\n",
       "    }\n",
       "</style>\n",
       "<table border=\"1\" class=\"dataframe\">\n",
       "  <thead>\n",
       "    <tr style=\"text-align: right;\">\n",
       "      <th></th>\n",
       "      <th>original_id</th>\n",
       "      <th>source_name</th>\n",
       "      <th>title</th>\n",
       "      <th>url</th>\n",
       "      <th>body</th>\n",
       "      <th>date_published</th>\n",
       "      <th>language</th>\n",
       "      <th>date_modified</th>\n",
       "      <th>author_list</th>\n",
       "      <th>images</th>\n",
       "      <th>description</th>\n",
       "      <th>sentiment</th>\n",
       "      <th>emotions</th>\n",
       "      <th>entities</th>\n",
       "      <th>quotations</th>\n",
       "      <th>prValues</th>\n",
       "      <th>clipping</th>\n",
       "      <th>label</th>\n",
       "      <th>category</th>\n",
       "    </tr>\n",
       "  </thead>\n",
       "  <tbody>\n",
       "    <tr>\n",
       "      <th>0</th>\n",
       "      <td>5404c9d2fd24852afa122f2cc01cb3acba3c5d05b682d4...</td>\n",
       "      <td>kabargayo.com</td>\n",
       "      <td>Kredit sepeda motor bisa terbayar jika Anda me...</td>\n",
       "      <td>https://www.kabargayo.com/2024/09/19/kredit-se...</td>\n",
       "      <td>Jakarta, VIVA – Pembayaran kredit sepeda motor...</td>\n",
       "      <td>19/09/2024 22.32</td>\n",
       "      <td>id</td>\n",
       "      <td>19/09/2024 22.32</td>\n",
       "      <td>Aldi Hadad</td>\n",
       "      <td>https://i1.wp.com/thumb.viva.co.id/media/front...</td>\n",
       "      <td>NaN</td>\n",
       "      <td>positive</td>\n",
       "      <td>NaN</td>\n",
       "      <td>Hari Pembayaran Berbayar atau Harcilnas 2024,P...</td>\n",
       "      <td>NaN</td>\n",
       "      <td>5250000</td>\n",
       "      <td>Adira</td>\n",
       "      <td>NaN</td>\n",
       "      <td>NaN</td>\n",
       "    </tr>\n",
       "    <tr>\n",
       "      <th>1</th>\n",
       "      <td>e1e3f8d68b58568e8217b7562d48de634fceb0d8371356...</td>\n",
       "      <td>viva.co.id</td>\n",
       "      <td>Kredit Motor Bisa Lunas Jika Bayar Cicilan Tep...</td>\n",
       "      <td>https://www.viva.co.id/otomotif/tips/1753596-k...</td>\n",
       "      <td>Jakarta, VIVA – Cicilan kredit motor yang seri...</td>\n",
       "      <td>19/09/2024 22.30</td>\n",
       "      <td>id</td>\n",
       "      <td>19/09/2024 22.30</td>\n",
       "      <td>Krisna Wicaksono</td>\n",
       "      <td>https://thumb.viva.co.id/media/frontend/thumbs...</td>\n",
       "      <td>NaN</td>\n",
       "      <td>positive</td>\n",
       "      <td>NaN</td>\n",
       "      <td>Harinya Cicilan Lunas,2024,PT Adira Dinamika M...</td>\n",
       "      <td>NaN</td>\n",
       "      <td>5250000</td>\n",
       "      <td>Adira</td>\n",
       "      <td>NaN</td>\n",
       "      <td>NaN</td>\n",
       "    </tr>\n",
       "    <tr>\n",
       "      <th>2</th>\n",
       "      <td>dca74b8fa4eabf60cebfa7b811ecb385872a0fd301eaf5...</td>\n",
       "      <td>kabarmegapolitan.pikiran-rakyat.com</td>\n",
       "      <td>Adira Finance Umumkan Pemenang HARCILNAS 2024:...</td>\n",
       "      <td>https://kabarmegapolitan.pikiran-rakyat.com/bi...</td>\n",
       "      <td>KABARMEGAPOLITAN.com - PT Adira Dinamika Multi...</td>\n",
       "      <td>19/09/2024 21.45</td>\n",
       "      <td>id</td>\n",
       "      <td>19/09/2024 21.45</td>\n",
       "      <td>Yuliansyah</td>\n",
       "      <td>https://assets.pikiran-rakyat.com/www/network/...</td>\n",
       "      <td>NaN</td>\n",
       "      <td>positive</td>\n",
       "      <td>HARCILNAS merupakan wujud apresiasi kami kepad...</td>\n",
       "      <td>PT Adira Dinamika,Cicilan Lunas HARCILNAS,12 p...</td>\n",
       "      <td>(Person :Tania Endah Budhi ,Quote : HARCILNAS ...</td>\n",
       "      <td>5250000</td>\n",
       "      <td>Adira</td>\n",
       "      <td>NaN</td>\n",
       "      <td>NaN</td>\n",
       "    </tr>\n",
       "    <tr>\n",
       "      <th>3</th>\n",
       "      <td>56c73e2a6d254a17a5cc21dee7ed0b4660c3af70c093b2...</td>\n",
       "      <td>banggairaya.id</td>\n",
       "      <td>Dapatkan Promo Menarik, Yamaha Prima Motor Ram...</td>\n",
       "      <td>https://banggairaya.id/dapatkan-promo-menarik-...</td>\n",
       "      <td>BANGGAI RAYA- Yamaha Prima Motor ramaikan pame...</td>\n",
       "      <td>19/09/2024 19.45</td>\n",
       "      <td>id</td>\n",
       "      <td>19/09/2024 19.45</td>\n",
       "      <td>Chikal Connect</td>\n",
       "      <td>https://i0.wp.com/banggairaya.id/wp-content/up...</td>\n",
       "      <td>NaN</td>\n",
       "      <td>neutral</td>\n",
       "      <td>NaN</td>\n",
       "      <td>RAYA- Yamaha Prima Motor,Banggai Goverment Exp...</td>\n",
       "      <td>NaN</td>\n",
       "      <td>5250000</td>\n",
       "      <td>Adira</td>\n",
       "      <td>NaN</td>\n",
       "      <td>NaN</td>\n",
       "    </tr>\n",
       "    <tr>\n",
       "      <th>4</th>\n",
       "      <td>1cd6c6db60224b6ee5f49cd5d6c62cd2850d9f3255721d...</td>\n",
       "      <td>jakarta.tribunnews.com</td>\n",
       "      <td>Sindikat Penipuan Leasing, Satu Bulan Ajukan K...</td>\n",
       "      <td>https://jakarta.tribunnews.com/2024/09/19/sind...</td>\n",
       "      <td>Laporan wartawan TribunJakarta.com Yusuf Bacht...</td>\n",
       "      <td>19/09/2024 18.43</td>\n",
       "      <td>id</td>\n",
       "      <td>19/09/2024 18.43</td>\n",
       "      <td>Yusuf Bachtiar</td>\n",
       "      <td>https://asset-2.tstatic.net/jakarta/foto/bank/...</td>\n",
       "      <td>NaN</td>\n",
       "      <td>neutral</td>\n",
       "      <td>Pelaku ini melakukan pembiayaan pembelian kend...</td>\n",
       "      <td>Yusuf Bachtiar TRIBUNJAKARTACOM,MEDAN,SATRIA,T...</td>\n",
       "      <td>(Person :Dedi ,Quote : Pelaku ini melakukan pe...</td>\n",
       "      <td>5250000</td>\n",
       "      <td>Adira</td>\n",
       "      <td>NaN</td>\n",
       "      <td>NaN</td>\n",
       "    </tr>\n",
       "  </tbody>\n",
       "</table>\n",
       "</div>"
      ],
      "text/plain": [
       "                                         original_id  \\\n",
       "0  5404c9d2fd24852afa122f2cc01cb3acba3c5d05b682d4...   \n",
       "1  e1e3f8d68b58568e8217b7562d48de634fceb0d8371356...   \n",
       "2  dca74b8fa4eabf60cebfa7b811ecb385872a0fd301eaf5...   \n",
       "3  56c73e2a6d254a17a5cc21dee7ed0b4660c3af70c093b2...   \n",
       "4  1cd6c6db60224b6ee5f49cd5d6c62cd2850d9f3255721d...   \n",
       "\n",
       "                           source_name  \\\n",
       "0                        kabargayo.com   \n",
       "1                           viva.co.id   \n",
       "2  kabarmegapolitan.pikiran-rakyat.com   \n",
       "3                       banggairaya.id   \n",
       "4               jakarta.tribunnews.com   \n",
       "\n",
       "                                               title  \\\n",
       "0  Kredit sepeda motor bisa terbayar jika Anda me...   \n",
       "1  Kredit Motor Bisa Lunas Jika Bayar Cicilan Tep...   \n",
       "2  Adira Finance Umumkan Pemenang HARCILNAS 2024:...   \n",
       "3  Dapatkan Promo Menarik, Yamaha Prima Motor Ram...   \n",
       "4  Sindikat Penipuan Leasing, Satu Bulan Ajukan K...   \n",
       "\n",
       "                                                 url  \\\n",
       "0  https://www.kabargayo.com/2024/09/19/kredit-se...   \n",
       "1  https://www.viva.co.id/otomotif/tips/1753596-k...   \n",
       "2  https://kabarmegapolitan.pikiran-rakyat.com/bi...   \n",
       "3  https://banggairaya.id/dapatkan-promo-menarik-...   \n",
       "4  https://jakarta.tribunnews.com/2024/09/19/sind...   \n",
       "\n",
       "                                                body    date_published  \\\n",
       "0  Jakarta, VIVA – Pembayaran kredit sepeda motor...  19/09/2024 22.32   \n",
       "1  Jakarta, VIVA – Cicilan kredit motor yang seri...  19/09/2024 22.30   \n",
       "2  KABARMEGAPOLITAN.com - PT Adira Dinamika Multi...  19/09/2024 21.45   \n",
       "3  BANGGAI RAYA- Yamaha Prima Motor ramaikan pame...  19/09/2024 19.45   \n",
       "4  Laporan wartawan TribunJakarta.com Yusuf Bacht...  19/09/2024 18.43   \n",
       "\n",
       "  language     date_modified       author_list  \\\n",
       "0       id  19/09/2024 22.32        Aldi Hadad   \n",
       "1       id  19/09/2024 22.30  Krisna Wicaksono   \n",
       "2       id  19/09/2024 21.45        Yuliansyah   \n",
       "3       id  19/09/2024 19.45    Chikal Connect   \n",
       "4       id  19/09/2024 18.43    Yusuf Bachtiar   \n",
       "\n",
       "                                              images description sentiment  \\\n",
       "0  https://i1.wp.com/thumb.viva.co.id/media/front...         NaN  positive   \n",
       "1  https://thumb.viva.co.id/media/frontend/thumbs...         NaN  positive   \n",
       "2  https://assets.pikiran-rakyat.com/www/network/...         NaN  positive   \n",
       "3  https://i0.wp.com/banggairaya.id/wp-content/up...         NaN   neutral   \n",
       "4  https://asset-2.tstatic.net/jakarta/foto/bank/...         NaN   neutral   \n",
       "\n",
       "                                            emotions  \\\n",
       "0                                                NaN   \n",
       "1                                                NaN   \n",
       "2  HARCILNAS merupakan wujud apresiasi kami kepad...   \n",
       "3                                                NaN   \n",
       "4  Pelaku ini melakukan pembiayaan pembelian kend...   \n",
       "\n",
       "                                            entities  \\\n",
       "0  Hari Pembayaran Berbayar atau Harcilnas 2024,P...   \n",
       "1  Harinya Cicilan Lunas,2024,PT Adira Dinamika M...   \n",
       "2  PT Adira Dinamika,Cicilan Lunas HARCILNAS,12 p...   \n",
       "3  RAYA- Yamaha Prima Motor,Banggai Goverment Exp...   \n",
       "4  Yusuf Bachtiar TRIBUNJAKARTACOM,MEDAN,SATRIA,T...   \n",
       "\n",
       "                                          quotations  prValues clipping label  \\\n",
       "0                                                NaN   5250000    Adira   NaN   \n",
       "1                                                NaN   5250000    Adira   NaN   \n",
       "2  (Person :Tania Endah Budhi ,Quote : HARCILNAS ...   5250000    Adira   NaN   \n",
       "3                                                NaN   5250000    Adira   NaN   \n",
       "4  (Person :Dedi ,Quote : Pelaku ini melakukan pe...   5250000    Adira   NaN   \n",
       "\n",
       "   category  \n",
       "0       NaN  \n",
       "1       NaN  \n",
       "2       NaN  \n",
       "3       NaN  \n",
       "4       NaN  "
      ]
     },
     "execution_count": 5,
     "metadata": {},
     "output_type": "execute_result"
    }
   ],
   "source": [
    "df.head()"
   ]
  },
  {
   "cell_type": "code",
   "execution_count": 4,
   "metadata": {},
   "outputs": [],
   "source": [
    "# Balance dataset classes\n",
    "class_counts = df_filtered['sentiment'].value_counts()\n",
    "min_class = class_counts.min()\n",
    "df_balanced = df_filtered.groupby('sentiment').apply(lambda x: x.sample(min_class)).reset_index(drop=True)"
   ]
  },
  {
   "cell_type": "code",
   "execution_count": 5,
   "metadata": {},
   "outputs": [],
   "source": [
    "# Split the data into training and validation sets (80% training, 20% validation)\n",
    "train_texts, val_texts, train_labels, val_labels = train_test_split(\n",
    "    df_filtered['body'].tolist(), df_filtered['sentiment'].tolist(), test_size=0.2, random_state=42\n",
    ")"
   ]
  },
  {
   "cell_type": "code",
   "execution_count": 9,
   "metadata": {},
   "outputs": [
    {
     "ename": "KeyboardInterrupt",
     "evalue": "",
     "output_type": "error",
     "traceback": [
      "\u001b[1;31m---------------------------------------------------------------------------\u001b[0m",
      "\u001b[1;31mKeyboardInterrupt\u001b[0m                         Traceback (most recent call last)",
      "Cell \u001b[1;32mIn[9], line 6\u001b[0m\n\u001b[0;32m      2\u001b[0m tokenizer \u001b[38;5;241m=\u001b[39m LongformerTokenizer\u001b[38;5;241m.\u001b[39mfrom_pretrained(\u001b[38;5;124m\"\u001b[39m\u001b[38;5;124mallenai/longformer-base-4096\u001b[39m\u001b[38;5;124m\"\u001b[39m)\n\u001b[0;32m      4\u001b[0m \u001b[38;5;66;03m# Tokenize the training and validation texts\u001b[39;00m\n\u001b[0;32m      5\u001b[0m \u001b[38;5;66;03m# Increase sequence length\u001b[39;00m\n\u001b[1;32m----> 6\u001b[0m train_encodings \u001b[38;5;241m=\u001b[39m \u001b[43mtokenizer\u001b[49m\u001b[43m(\u001b[49m\u001b[43mtrain_texts\u001b[49m\u001b[43m,\u001b[49m\u001b[43m \u001b[49m\u001b[43mtruncation\u001b[49m\u001b[38;5;241;43m=\u001b[39;49m\u001b[38;5;28;43;01mTrue\u001b[39;49;00m\u001b[43m,\u001b[49m\u001b[43m \u001b[49m\u001b[43mpadding\u001b[49m\u001b[38;5;241;43m=\u001b[39;49m\u001b[38;5;124;43m\"\u001b[39;49m\u001b[38;5;124;43mmax_length\u001b[39;49m\u001b[38;5;124;43m\"\u001b[39;49m\u001b[43m,\u001b[49m\u001b[43m \u001b[49m\u001b[43mmax_length\u001b[49m\u001b[38;5;241;43m=\u001b[39;49m\u001b[38;5;241;43m1024\u001b[39;49m\u001b[43m)\u001b[49m\n\u001b[0;32m      7\u001b[0m val_encodings \u001b[38;5;241m=\u001b[39m tokenizer(val_texts, truncation\u001b[38;5;241m=\u001b[39m\u001b[38;5;28;01mTrue\u001b[39;00m, padding\u001b[38;5;241m=\u001b[39m\u001b[38;5;124m\"\u001b[39m\u001b[38;5;124mmax_length\u001b[39m\u001b[38;5;124m\"\u001b[39m, max_length\u001b[38;5;241m=\u001b[39m\u001b[38;5;241m1024\u001b[39m)\n",
      "File \u001b[1;32mc:\\Users\\rache\\AppData\\Local\\Programs\\Python\\Python311\\Lib\\site-packages\\transformers\\tokenization_utils_base.py:3016\u001b[0m, in \u001b[0;36mPreTrainedTokenizerBase.__call__\u001b[1;34m(self, text, text_pair, text_target, text_pair_target, add_special_tokens, padding, truncation, max_length, stride, is_split_into_words, pad_to_multiple_of, padding_side, return_tensors, return_token_type_ids, return_attention_mask, return_overflowing_tokens, return_special_tokens_mask, return_offsets_mapping, return_length, verbose, **kwargs)\u001b[0m\n\u001b[0;32m   3014\u001b[0m     \u001b[38;5;28;01mif\u001b[39;00m \u001b[38;5;129;01mnot\u001b[39;00m \u001b[38;5;28mself\u001b[39m\u001b[38;5;241m.\u001b[39m_in_target_context_manager:\n\u001b[0;32m   3015\u001b[0m         \u001b[38;5;28mself\u001b[39m\u001b[38;5;241m.\u001b[39m_switch_to_input_mode()\n\u001b[1;32m-> 3016\u001b[0m     encodings \u001b[38;5;241m=\u001b[39m \u001b[38;5;28;43mself\u001b[39;49m\u001b[38;5;241;43m.\u001b[39;49m\u001b[43m_call_one\u001b[49m\u001b[43m(\u001b[49m\u001b[43mtext\u001b[49m\u001b[38;5;241;43m=\u001b[39;49m\u001b[43mtext\u001b[49m\u001b[43m,\u001b[49m\u001b[43m \u001b[49m\u001b[43mtext_pair\u001b[49m\u001b[38;5;241;43m=\u001b[39;49m\u001b[43mtext_pair\u001b[49m\u001b[43m,\u001b[49m\u001b[43m \u001b[49m\u001b[38;5;241;43m*\u001b[39;49m\u001b[38;5;241;43m*\u001b[39;49m\u001b[43mall_kwargs\u001b[49m\u001b[43m)\u001b[49m\n\u001b[0;32m   3017\u001b[0m \u001b[38;5;28;01mif\u001b[39;00m text_target \u001b[38;5;129;01mis\u001b[39;00m \u001b[38;5;129;01mnot\u001b[39;00m \u001b[38;5;28;01mNone\u001b[39;00m:\n\u001b[0;32m   3018\u001b[0m     \u001b[38;5;28mself\u001b[39m\u001b[38;5;241m.\u001b[39m_switch_to_target_mode()\n",
      "File \u001b[1;32mc:\\Users\\rache\\AppData\\Local\\Programs\\Python\\Python311\\Lib\\site-packages\\transformers\\tokenization_utils_base.py:3104\u001b[0m, in \u001b[0;36mPreTrainedTokenizerBase._call_one\u001b[1;34m(self, text, text_pair, add_special_tokens, padding, truncation, max_length, stride, is_split_into_words, pad_to_multiple_of, padding_side, return_tensors, return_token_type_ids, return_attention_mask, return_overflowing_tokens, return_special_tokens_mask, return_offsets_mapping, return_length, verbose, split_special_tokens, **kwargs)\u001b[0m\n\u001b[0;32m   3099\u001b[0m         \u001b[38;5;28;01mraise\u001b[39;00m \u001b[38;5;167;01mValueError\u001b[39;00m(\n\u001b[0;32m   3100\u001b[0m             \u001b[38;5;124mf\u001b[39m\u001b[38;5;124m\"\u001b[39m\u001b[38;5;124mbatch length of `text`: \u001b[39m\u001b[38;5;132;01m{\u001b[39;00m\u001b[38;5;28mlen\u001b[39m(text)\u001b[38;5;132;01m}\u001b[39;00m\u001b[38;5;124m does not match batch length of `text_pair`:\u001b[39m\u001b[38;5;124m\"\u001b[39m\n\u001b[0;32m   3101\u001b[0m             \u001b[38;5;124mf\u001b[39m\u001b[38;5;124m\"\u001b[39m\u001b[38;5;124m \u001b[39m\u001b[38;5;132;01m{\u001b[39;00m\u001b[38;5;28mlen\u001b[39m(text_pair)\u001b[38;5;132;01m}\u001b[39;00m\u001b[38;5;124m.\u001b[39m\u001b[38;5;124m\"\u001b[39m\n\u001b[0;32m   3102\u001b[0m         )\n\u001b[0;32m   3103\u001b[0m     batch_text_or_text_pairs \u001b[38;5;241m=\u001b[39m \u001b[38;5;28mlist\u001b[39m(\u001b[38;5;28mzip\u001b[39m(text, text_pair)) \u001b[38;5;28;01mif\u001b[39;00m text_pair \u001b[38;5;129;01mis\u001b[39;00m \u001b[38;5;129;01mnot\u001b[39;00m \u001b[38;5;28;01mNone\u001b[39;00m \u001b[38;5;28;01melse\u001b[39;00m text\n\u001b[1;32m-> 3104\u001b[0m     \u001b[38;5;28;01mreturn\u001b[39;00m \u001b[38;5;28;43mself\u001b[39;49m\u001b[38;5;241;43m.\u001b[39;49m\u001b[43mbatch_encode_plus\u001b[49m\u001b[43m(\u001b[49m\n\u001b[0;32m   3105\u001b[0m \u001b[43m        \u001b[49m\u001b[43mbatch_text_or_text_pairs\u001b[49m\u001b[38;5;241;43m=\u001b[39;49m\u001b[43mbatch_text_or_text_pairs\u001b[49m\u001b[43m,\u001b[49m\n\u001b[0;32m   3106\u001b[0m \u001b[43m        \u001b[49m\u001b[43madd_special_tokens\u001b[49m\u001b[38;5;241;43m=\u001b[39;49m\u001b[43madd_special_tokens\u001b[49m\u001b[43m,\u001b[49m\n\u001b[0;32m   3107\u001b[0m \u001b[43m        \u001b[49m\u001b[43mpadding\u001b[49m\u001b[38;5;241;43m=\u001b[39;49m\u001b[43mpadding\u001b[49m\u001b[43m,\u001b[49m\n\u001b[0;32m   3108\u001b[0m \u001b[43m        \u001b[49m\u001b[43mtruncation\u001b[49m\u001b[38;5;241;43m=\u001b[39;49m\u001b[43mtruncation\u001b[49m\u001b[43m,\u001b[49m\n\u001b[0;32m   3109\u001b[0m \u001b[43m        \u001b[49m\u001b[43mmax_length\u001b[49m\u001b[38;5;241;43m=\u001b[39;49m\u001b[43mmax_length\u001b[49m\u001b[43m,\u001b[49m\n\u001b[0;32m   3110\u001b[0m \u001b[43m        \u001b[49m\u001b[43mstride\u001b[49m\u001b[38;5;241;43m=\u001b[39;49m\u001b[43mstride\u001b[49m\u001b[43m,\u001b[49m\n\u001b[0;32m   3111\u001b[0m \u001b[43m        \u001b[49m\u001b[43mis_split_into_words\u001b[49m\u001b[38;5;241;43m=\u001b[39;49m\u001b[43mis_split_into_words\u001b[49m\u001b[43m,\u001b[49m\n\u001b[0;32m   3112\u001b[0m \u001b[43m        \u001b[49m\u001b[43mpad_to_multiple_of\u001b[49m\u001b[38;5;241;43m=\u001b[39;49m\u001b[43mpad_to_multiple_of\u001b[49m\u001b[43m,\u001b[49m\n\u001b[0;32m   3113\u001b[0m \u001b[43m        \u001b[49m\u001b[43mpadding_side\u001b[49m\u001b[38;5;241;43m=\u001b[39;49m\u001b[43mpadding_side\u001b[49m\u001b[43m,\u001b[49m\n\u001b[0;32m   3114\u001b[0m \u001b[43m        \u001b[49m\u001b[43mreturn_tensors\u001b[49m\u001b[38;5;241;43m=\u001b[39;49m\u001b[43mreturn_tensors\u001b[49m\u001b[43m,\u001b[49m\n\u001b[0;32m   3115\u001b[0m \u001b[43m        \u001b[49m\u001b[43mreturn_token_type_ids\u001b[49m\u001b[38;5;241;43m=\u001b[39;49m\u001b[43mreturn_token_type_ids\u001b[49m\u001b[43m,\u001b[49m\n\u001b[0;32m   3116\u001b[0m \u001b[43m        \u001b[49m\u001b[43mreturn_attention_mask\u001b[49m\u001b[38;5;241;43m=\u001b[39;49m\u001b[43mreturn_attention_mask\u001b[49m\u001b[43m,\u001b[49m\n\u001b[0;32m   3117\u001b[0m \u001b[43m        \u001b[49m\u001b[43mreturn_overflowing_tokens\u001b[49m\u001b[38;5;241;43m=\u001b[39;49m\u001b[43mreturn_overflowing_tokens\u001b[49m\u001b[43m,\u001b[49m\n\u001b[0;32m   3118\u001b[0m \u001b[43m        \u001b[49m\u001b[43mreturn_special_tokens_mask\u001b[49m\u001b[38;5;241;43m=\u001b[39;49m\u001b[43mreturn_special_tokens_mask\u001b[49m\u001b[43m,\u001b[49m\n\u001b[0;32m   3119\u001b[0m \u001b[43m        \u001b[49m\u001b[43mreturn_offsets_mapping\u001b[49m\u001b[38;5;241;43m=\u001b[39;49m\u001b[43mreturn_offsets_mapping\u001b[49m\u001b[43m,\u001b[49m\n\u001b[0;32m   3120\u001b[0m \u001b[43m        \u001b[49m\u001b[43mreturn_length\u001b[49m\u001b[38;5;241;43m=\u001b[39;49m\u001b[43mreturn_length\u001b[49m\u001b[43m,\u001b[49m\n\u001b[0;32m   3121\u001b[0m \u001b[43m        \u001b[49m\u001b[43mverbose\u001b[49m\u001b[38;5;241;43m=\u001b[39;49m\u001b[43mverbose\u001b[49m\u001b[43m,\u001b[49m\n\u001b[0;32m   3122\u001b[0m \u001b[43m        \u001b[49m\u001b[43msplit_special_tokens\u001b[49m\u001b[38;5;241;43m=\u001b[39;49m\u001b[43msplit_special_tokens\u001b[49m\u001b[43m,\u001b[49m\n\u001b[0;32m   3123\u001b[0m \u001b[43m        \u001b[49m\u001b[38;5;241;43m*\u001b[39;49m\u001b[38;5;241;43m*\u001b[39;49m\u001b[43mkwargs\u001b[49m\u001b[43m,\u001b[49m\n\u001b[0;32m   3124\u001b[0m \u001b[43m    \u001b[49m\u001b[43m)\u001b[49m\n\u001b[0;32m   3125\u001b[0m \u001b[38;5;28;01melse\u001b[39;00m:\n\u001b[0;32m   3126\u001b[0m     \u001b[38;5;28;01mreturn\u001b[39;00m \u001b[38;5;28mself\u001b[39m\u001b[38;5;241m.\u001b[39mencode_plus(\n\u001b[0;32m   3127\u001b[0m         text\u001b[38;5;241m=\u001b[39mtext,\n\u001b[0;32m   3128\u001b[0m         text_pair\u001b[38;5;241m=\u001b[39mtext_pair,\n\u001b[1;32m   (...)\u001b[0m\n\u001b[0;32m   3146\u001b[0m         \u001b[38;5;241m*\u001b[39m\u001b[38;5;241m*\u001b[39mkwargs,\n\u001b[0;32m   3147\u001b[0m     )\n",
      "File \u001b[1;32mc:\\Users\\rache\\AppData\\Local\\Programs\\Python\\Python311\\Lib\\site-packages\\transformers\\tokenization_utils_base.py:3306\u001b[0m, in \u001b[0;36mPreTrainedTokenizerBase.batch_encode_plus\u001b[1;34m(self, batch_text_or_text_pairs, add_special_tokens, padding, truncation, max_length, stride, is_split_into_words, pad_to_multiple_of, padding_side, return_tensors, return_token_type_ids, return_attention_mask, return_overflowing_tokens, return_special_tokens_mask, return_offsets_mapping, return_length, verbose, split_special_tokens, **kwargs)\u001b[0m\n\u001b[0;32m   3296\u001b[0m \u001b[38;5;66;03m# Backward compatibility for 'truncation_strategy', 'pad_to_max_length'\u001b[39;00m\n\u001b[0;32m   3297\u001b[0m padding_strategy, truncation_strategy, max_length, kwargs \u001b[38;5;241m=\u001b[39m \u001b[38;5;28mself\u001b[39m\u001b[38;5;241m.\u001b[39m_get_padding_truncation_strategies(\n\u001b[0;32m   3298\u001b[0m     padding\u001b[38;5;241m=\u001b[39mpadding,\n\u001b[0;32m   3299\u001b[0m     truncation\u001b[38;5;241m=\u001b[39mtruncation,\n\u001b[1;32m   (...)\u001b[0m\n\u001b[0;32m   3303\u001b[0m     \u001b[38;5;241m*\u001b[39m\u001b[38;5;241m*\u001b[39mkwargs,\n\u001b[0;32m   3304\u001b[0m )\n\u001b[1;32m-> 3306\u001b[0m \u001b[38;5;28;01mreturn\u001b[39;00m \u001b[38;5;28;43mself\u001b[39;49m\u001b[38;5;241;43m.\u001b[39;49m\u001b[43m_batch_encode_plus\u001b[49m\u001b[43m(\u001b[49m\n\u001b[0;32m   3307\u001b[0m \u001b[43m    \u001b[49m\u001b[43mbatch_text_or_text_pairs\u001b[49m\u001b[38;5;241;43m=\u001b[39;49m\u001b[43mbatch_text_or_text_pairs\u001b[49m\u001b[43m,\u001b[49m\n\u001b[0;32m   3308\u001b[0m \u001b[43m    \u001b[49m\u001b[43madd_special_tokens\u001b[49m\u001b[38;5;241;43m=\u001b[39;49m\u001b[43madd_special_tokens\u001b[49m\u001b[43m,\u001b[49m\n\u001b[0;32m   3309\u001b[0m \u001b[43m    \u001b[49m\u001b[43mpadding_strategy\u001b[49m\u001b[38;5;241;43m=\u001b[39;49m\u001b[43mpadding_strategy\u001b[49m\u001b[43m,\u001b[49m\n\u001b[0;32m   3310\u001b[0m \u001b[43m    \u001b[49m\u001b[43mtruncation_strategy\u001b[49m\u001b[38;5;241;43m=\u001b[39;49m\u001b[43mtruncation_strategy\u001b[49m\u001b[43m,\u001b[49m\n\u001b[0;32m   3311\u001b[0m \u001b[43m    \u001b[49m\u001b[43mmax_length\u001b[49m\u001b[38;5;241;43m=\u001b[39;49m\u001b[43mmax_length\u001b[49m\u001b[43m,\u001b[49m\n\u001b[0;32m   3312\u001b[0m \u001b[43m    \u001b[49m\u001b[43mstride\u001b[49m\u001b[38;5;241;43m=\u001b[39;49m\u001b[43mstride\u001b[49m\u001b[43m,\u001b[49m\n\u001b[0;32m   3313\u001b[0m \u001b[43m    \u001b[49m\u001b[43mis_split_into_words\u001b[49m\u001b[38;5;241;43m=\u001b[39;49m\u001b[43mis_split_into_words\u001b[49m\u001b[43m,\u001b[49m\n\u001b[0;32m   3314\u001b[0m \u001b[43m    \u001b[49m\u001b[43mpad_to_multiple_of\u001b[49m\u001b[38;5;241;43m=\u001b[39;49m\u001b[43mpad_to_multiple_of\u001b[49m\u001b[43m,\u001b[49m\n\u001b[0;32m   3315\u001b[0m \u001b[43m    \u001b[49m\u001b[43mpadding_side\u001b[49m\u001b[38;5;241;43m=\u001b[39;49m\u001b[43mpadding_side\u001b[49m\u001b[43m,\u001b[49m\n\u001b[0;32m   3316\u001b[0m \u001b[43m    \u001b[49m\u001b[43mreturn_tensors\u001b[49m\u001b[38;5;241;43m=\u001b[39;49m\u001b[43mreturn_tensors\u001b[49m\u001b[43m,\u001b[49m\n\u001b[0;32m   3317\u001b[0m \u001b[43m    \u001b[49m\u001b[43mreturn_token_type_ids\u001b[49m\u001b[38;5;241;43m=\u001b[39;49m\u001b[43mreturn_token_type_ids\u001b[49m\u001b[43m,\u001b[49m\n\u001b[0;32m   3318\u001b[0m \u001b[43m    \u001b[49m\u001b[43mreturn_attention_mask\u001b[49m\u001b[38;5;241;43m=\u001b[39;49m\u001b[43mreturn_attention_mask\u001b[49m\u001b[43m,\u001b[49m\n\u001b[0;32m   3319\u001b[0m \u001b[43m    \u001b[49m\u001b[43mreturn_overflowing_tokens\u001b[49m\u001b[38;5;241;43m=\u001b[39;49m\u001b[43mreturn_overflowing_tokens\u001b[49m\u001b[43m,\u001b[49m\n\u001b[0;32m   3320\u001b[0m \u001b[43m    \u001b[49m\u001b[43mreturn_special_tokens_mask\u001b[49m\u001b[38;5;241;43m=\u001b[39;49m\u001b[43mreturn_special_tokens_mask\u001b[49m\u001b[43m,\u001b[49m\n\u001b[0;32m   3321\u001b[0m \u001b[43m    \u001b[49m\u001b[43mreturn_offsets_mapping\u001b[49m\u001b[38;5;241;43m=\u001b[39;49m\u001b[43mreturn_offsets_mapping\u001b[49m\u001b[43m,\u001b[49m\n\u001b[0;32m   3322\u001b[0m \u001b[43m    \u001b[49m\u001b[43mreturn_length\u001b[49m\u001b[38;5;241;43m=\u001b[39;49m\u001b[43mreturn_length\u001b[49m\u001b[43m,\u001b[49m\n\u001b[0;32m   3323\u001b[0m \u001b[43m    \u001b[49m\u001b[43mverbose\u001b[49m\u001b[38;5;241;43m=\u001b[39;49m\u001b[43mverbose\u001b[49m\u001b[43m,\u001b[49m\n\u001b[0;32m   3324\u001b[0m \u001b[43m    \u001b[49m\u001b[43msplit_special_tokens\u001b[49m\u001b[38;5;241;43m=\u001b[39;49m\u001b[43msplit_special_tokens\u001b[49m\u001b[43m,\u001b[49m\n\u001b[0;32m   3325\u001b[0m \u001b[43m    \u001b[49m\u001b[38;5;241;43m*\u001b[39;49m\u001b[38;5;241;43m*\u001b[39;49m\u001b[43mkwargs\u001b[49m\u001b[43m,\u001b[49m\n\u001b[0;32m   3326\u001b[0m \u001b[43m\u001b[49m\u001b[43m)\u001b[49m\n",
      "File \u001b[1;32mc:\\Users\\rache\\AppData\\Local\\Programs\\Python\\Python311\\Lib\\site-packages\\transformers\\tokenization_utils.py:885\u001b[0m, in \u001b[0;36mPreTrainedTokenizer._batch_encode_plus\u001b[1;34m(self, batch_text_or_text_pairs, add_special_tokens, padding_strategy, truncation_strategy, max_length, stride, is_split_into_words, pad_to_multiple_of, padding_side, return_tensors, return_token_type_ids, return_attention_mask, return_overflowing_tokens, return_special_tokens_mask, return_offsets_mapping, return_length, verbose, split_special_tokens, **kwargs)\u001b[0m\n\u001b[0;32m    882\u001b[0m \u001b[38;5;28;01melse\u001b[39;00m:\n\u001b[0;32m    883\u001b[0m     ids, pair_ids \u001b[38;5;241m=\u001b[39m ids_or_pair_ids\n\u001b[1;32m--> 885\u001b[0m first_ids \u001b[38;5;241m=\u001b[39m \u001b[43mget_input_ids\u001b[49m\u001b[43m(\u001b[49m\u001b[43mids\u001b[49m\u001b[43m)\u001b[49m\n\u001b[0;32m    886\u001b[0m second_ids \u001b[38;5;241m=\u001b[39m get_input_ids(pair_ids) \u001b[38;5;28;01mif\u001b[39;00m pair_ids \u001b[38;5;129;01mis\u001b[39;00m \u001b[38;5;129;01mnot\u001b[39;00m \u001b[38;5;28;01mNone\u001b[39;00m \u001b[38;5;28;01melse\u001b[39;00m \u001b[38;5;28;01mNone\u001b[39;00m\n\u001b[0;32m    887\u001b[0m input_ids\u001b[38;5;241m.\u001b[39mappend((first_ids, second_ids))\n",
      "File \u001b[1;32mc:\\Users\\rache\\AppData\\Local\\Programs\\Python\\Python311\\Lib\\site-packages\\transformers\\tokenization_utils.py:852\u001b[0m, in \u001b[0;36mPreTrainedTokenizer._batch_encode_plus.<locals>.get_input_ids\u001b[1;34m(text)\u001b[0m\n\u001b[0;32m    850\u001b[0m \u001b[38;5;28;01mdef\u001b[39;00m \u001b[38;5;21mget_input_ids\u001b[39m(text):\n\u001b[0;32m    851\u001b[0m     \u001b[38;5;28;01mif\u001b[39;00m \u001b[38;5;28misinstance\u001b[39m(text, \u001b[38;5;28mstr\u001b[39m):\n\u001b[1;32m--> 852\u001b[0m         tokens \u001b[38;5;241m=\u001b[39m \u001b[38;5;28;43mself\u001b[39;49m\u001b[38;5;241;43m.\u001b[39;49m\u001b[43mtokenize\u001b[49m\u001b[43m(\u001b[49m\u001b[43mtext\u001b[49m\u001b[43m,\u001b[49m\u001b[43m \u001b[49m\u001b[38;5;241;43m*\u001b[39;49m\u001b[38;5;241;43m*\u001b[39;49m\u001b[43mkwargs\u001b[49m\u001b[43m)\u001b[49m\n\u001b[0;32m    853\u001b[0m         \u001b[38;5;28;01mreturn\u001b[39;00m \u001b[38;5;28mself\u001b[39m\u001b[38;5;241m.\u001b[39mconvert_tokens_to_ids(tokens)\n\u001b[0;32m    854\u001b[0m     \u001b[38;5;28;01melif\u001b[39;00m \u001b[38;5;28misinstance\u001b[39m(text, (\u001b[38;5;28mlist\u001b[39m, \u001b[38;5;28mtuple\u001b[39m)) \u001b[38;5;129;01mand\u001b[39;00m \u001b[38;5;28mlen\u001b[39m(text) \u001b[38;5;241m>\u001b[39m \u001b[38;5;241m0\u001b[39m \u001b[38;5;129;01mand\u001b[39;00m \u001b[38;5;28misinstance\u001b[39m(text[\u001b[38;5;241m0\u001b[39m], \u001b[38;5;28mstr\u001b[39m):\n",
      "File \u001b[1;32mc:\\Users\\rache\\AppData\\Local\\Programs\\Python\\Python311\\Lib\\site-packages\\transformers\\tokenization_utils.py:695\u001b[0m, in \u001b[0;36mPreTrainedTokenizer.tokenize\u001b[1;34m(self, text, **kwargs)\u001b[0m\n\u001b[0;32m    693\u001b[0m         tokenized_text\u001b[38;5;241m.\u001b[39mappend(token)\n\u001b[0;32m    694\u001b[0m     \u001b[38;5;28;01melse\u001b[39;00m:\n\u001b[1;32m--> 695\u001b[0m         tokenized_text\u001b[38;5;241m.\u001b[39mextend(\u001b[38;5;28;43mself\u001b[39;49m\u001b[38;5;241;43m.\u001b[39;49m\u001b[43m_tokenize\u001b[49m\u001b[43m(\u001b[49m\u001b[43mtoken\u001b[49m\u001b[43m)\u001b[49m)\n\u001b[0;32m    696\u001b[0m \u001b[38;5;66;03m# [\"This\", \" is\", \" something\", \"<special_token_1>\", \"else\"]\u001b[39;00m\n\u001b[0;32m    697\u001b[0m \u001b[38;5;28;01mreturn\u001b[39;00m tokenized_text\n",
      "File \u001b[1;32mc:\\Users\\rache\\AppData\\Local\\Programs\\Python\\Python311\\Lib\\site-packages\\transformers\\models\\longformer\\tokenization_longformer.py:270\u001b[0m, in \u001b[0;36mLongformerTokenizer._tokenize\u001b[1;34m(self, text)\u001b[0m\n\u001b[0;32m    268\u001b[0m \u001b[38;5;250m\u001b[39m\u001b[38;5;124;03m\"\"\"Tokenize a string.\"\"\"\u001b[39;00m\n\u001b[0;32m    269\u001b[0m bpe_tokens \u001b[38;5;241m=\u001b[39m []\n\u001b[1;32m--> 270\u001b[0m \u001b[38;5;28;01mfor\u001b[39;00m token \u001b[38;5;129;01min\u001b[39;00m \u001b[43mre\u001b[49m\u001b[38;5;241;43m.\u001b[39;49m\u001b[43mfindall\u001b[49m\u001b[43m(\u001b[49m\u001b[38;5;28;43mself\u001b[39;49m\u001b[38;5;241;43m.\u001b[39;49m\u001b[43mpat\u001b[49m\u001b[43m,\u001b[49m\u001b[43m \u001b[49m\u001b[43mtext\u001b[49m\u001b[43m)\u001b[49m:\n\u001b[0;32m    271\u001b[0m     token \u001b[38;5;241m=\u001b[39m \u001b[38;5;124m\"\u001b[39m\u001b[38;5;124m\"\u001b[39m\u001b[38;5;241m.\u001b[39mjoin(\n\u001b[0;32m    272\u001b[0m         \u001b[38;5;28mself\u001b[39m\u001b[38;5;241m.\u001b[39mbyte_encoder[b] \u001b[38;5;28;01mfor\u001b[39;00m b \u001b[38;5;129;01min\u001b[39;00m token\u001b[38;5;241m.\u001b[39mencode(\u001b[38;5;124m\"\u001b[39m\u001b[38;5;124mutf-8\u001b[39m\u001b[38;5;124m\"\u001b[39m)\n\u001b[0;32m    273\u001b[0m     )  \u001b[38;5;66;03m# Maps all our bytes to unicode strings, avoiding control tokens of the BPE (spaces in our case)\u001b[39;00m\n\u001b[0;32m    274\u001b[0m     bpe_tokens\u001b[38;5;241m.\u001b[39mextend(bpe_token \u001b[38;5;28;01mfor\u001b[39;00m bpe_token \u001b[38;5;129;01min\u001b[39;00m \u001b[38;5;28mself\u001b[39m\u001b[38;5;241m.\u001b[39mbpe(token)\u001b[38;5;241m.\u001b[39msplit(\u001b[38;5;124m\"\u001b[39m\u001b[38;5;124m \u001b[39m\u001b[38;5;124m\"\u001b[39m))\n",
      "File \u001b[1;32mc:\\Users\\rache\\AppData\\Local\\Programs\\Python\\Python311\\Lib\\site-packages\\regex\\regex.py:338\u001b[0m, in \u001b[0;36mfindall\u001b[1;34m(pattern, string, flags, pos, endpos, overlapped, concurrent, timeout, ignore_unused, **kwargs)\u001b[0m\n\u001b[0;32m    333\u001b[0m \u001b[38;5;250m\u001b[39m\u001b[38;5;124;03m\"\"\"Return a list of all matches in the string. The matches may be overlapped\u001b[39;00m\n\u001b[0;32m    334\u001b[0m \u001b[38;5;124;03mif overlapped is True. If one or more groups are present in the pattern,\u001b[39;00m\n\u001b[0;32m    335\u001b[0m \u001b[38;5;124;03mreturn a list of groups; this will be a list of tuples if the pattern has\u001b[39;00m\n\u001b[0;32m    336\u001b[0m \u001b[38;5;124;03mmore than one group. Empty matches are included in the result.\"\"\"\u001b[39;00m\n\u001b[0;32m    337\u001b[0m pat \u001b[38;5;241m=\u001b[39m _compile(pattern, flags, ignore_unused, kwargs, \u001b[38;5;28;01mTrue\u001b[39;00m)\n\u001b[1;32m--> 338\u001b[0m \u001b[38;5;28;01mreturn\u001b[39;00m \u001b[43mpat\u001b[49m\u001b[38;5;241;43m.\u001b[39;49m\u001b[43mfindall\u001b[49m\u001b[43m(\u001b[49m\u001b[43mstring\u001b[49m\u001b[43m,\u001b[49m\u001b[43m \u001b[49m\u001b[43mpos\u001b[49m\u001b[43m,\u001b[49m\u001b[43m \u001b[49m\u001b[43mendpos\u001b[49m\u001b[43m,\u001b[49m\u001b[43m \u001b[49m\u001b[43moverlapped\u001b[49m\u001b[43m,\u001b[49m\u001b[43m \u001b[49m\u001b[43mconcurrent\u001b[49m\u001b[43m,\u001b[49m\u001b[43m \u001b[49m\u001b[43mtimeout\u001b[49m\u001b[43m)\u001b[49m\n",
      "\u001b[1;31mKeyboardInterrupt\u001b[0m: "
     ]
    }
   ],
   "source": [
    "# Load the Longformer tokenizer\n",
    "tokenizer = LongformerTokenizer.from_pretrained(\"allenai/longformer-base-4096\")\n",
    "\n",
    "# Tokenize the training and validation texts\n",
    "# Increase sequence length\n",
    "train_encodings = tokenizer(train_texts, truncation=True, padding=\"max_length\", max_length=1024)\n",
    "val_encodings = tokenizer(val_texts, truncation=True, padding=\"max_length\", max_length=1024)\n"
   ]
  },
  {
   "cell_type": "code",
   "execution_count": 6,
   "metadata": {},
   "outputs": [],
   "source": [
    "# Map sentiment labels to integers\n",
    "label_mapping = {'positive': 2, 'neutral': 1, 'negative': 0}\n",
    "train_labels = [label_mapping[label] for label in train_labels]\n",
    "val_labels = [label_mapping[label] for label in val_labels]"
   ]
  },
  {
   "cell_type": "code",
   "execution_count": 9,
   "metadata": {},
   "outputs": [],
   "source": [
    "class SentimentDataset(torch.utils.data.Dataset):\n",
    "    def __init__(self, encodings, labels):\n",
    "        self.encodings = encodings\n",
    "        self.labels = labels\n",
    "\n",
    "    def __getitem__(self, idx):\n",
    "        item = {key: torch.tensor(val[idx]) for key, val in self.encodings.items()}\n",
    "        item['labels'] = torch.tensor(self.labels[idx])\n",
    "        return item\n",
    "\n",
    "    def __len__(self):\n",
    "        return len(self.labels)\n"
   ]
  },
  {
   "cell_type": "code",
   "execution_count": 10,
   "metadata": {},
   "outputs": [],
   "source": [
    "# Create datasets\n",
    "train_dataset = SentimentDataset(train_encodings, train_labels)\n",
    "val_dataset = SentimentDataset(val_encodings, val_labels)"
   ]
  },
  {
   "cell_type": "code",
   "execution_count": 11,
   "metadata": {},
   "outputs": [
    {
     "name": "stdout",
     "output_type": "stream",
     "text": [
      "Using device: cuda\n"
     ]
    }
   ],
   "source": [
    "# Check if GPU is available\n",
    "device = \"cuda\" if torch.cuda.is_available() else \"cpu\"\n",
    "print(f\"Using device: {device}\")"
   ]
  },
  {
   "cell_type": "code",
   "execution_count": 12,
   "metadata": {},
   "outputs": [
    {
     "name": "stderr",
     "output_type": "stream",
     "text": [
      "Some weights of LongformerForSequenceClassification were not initialized from the model checkpoint at allenai/longformer-base-4096 and are newly initialized: ['classifier.dense.bias', 'classifier.dense.weight', 'classifier.out_proj.bias', 'classifier.out_proj.weight']\n",
      "You should probably TRAIN this model on a down-stream task to be able to use it for predictions and inference.\n"
     ]
    }
   ],
   "source": [
    "# Load Longformer model for sequence classification\n",
    "model = LongformerForSequenceClassification.from_pretrained(\"allenai/longformer-base-4096\", num_labels=3)"
   ]
  },
  {
   "cell_type": "code",
   "execution_count": 13,
   "metadata": {},
   "outputs": [],
   "source": [
    "class_weights = compute_class_weight('balanced', classes=np.unique(train_labels), y=train_labels)\n",
    "class_weights = torch.tensor(class_weights, dtype=torch.float).to(device)\n",
    "\n",
    "# Adjust model's loss function to include class weights\n",
    "model.config.problem_type = \"single_label_classification\"\n",
    "model.config.class_weights = class_weights.tolist()"
   ]
  },
  {
   "cell_type": "code",
   "execution_count": 36,
   "metadata": {},
   "outputs": [],
   "source": [
    "training_args = TrainingArguments(\n",
    "    output_dir='./results',\n",
    "    eval_strategy=\"epoch\",            # Evaluate at the end of each epoch\n",
    "    save_strategy=\"epoch\",            # Save at the end of each epoch\n",
    "    per_device_train_batch_size=2,    # Small batch size for memory\n",
    "    per_device_eval_batch_size=2,\n",
    "    gradient_accumulation_steps=4,    # Simulate larger batch size\n",
    "    num_train_epochs=3,               # Fewer epochs for testing\n",
    "    learning_rate=3e-5,\n",
    "    weight_decay=0.01,\n",
    "    fp16=True,                        # Enable mixed precision training\n",
    "    logging_dir='./logs',\n",
    "    logging_steps=10,\n",
    "    load_best_model_at_end=True,      # Load the best model based on eval metric\n",
    "    metric_for_best_model='eval_loss',\n",
    "    greater_is_better=False,\n",
    "    lr_scheduler_type=\"reduce_lr_on_plateau\",\n",
    "    save_total_limit=2,               # Limit number of saved models\n",
    ")\n"
   ]
  },
  {
   "cell_type": "code",
   "execution_count": 37,
   "metadata": {},
   "outputs": [],
   "source": [
    "\n",
    "trainer = Trainer(\n",
    "    model=model,\n",
    "    args=training_args,\n",
    "    train_dataset=train_dataset,\n",
    "    eval_dataset=val_dataset,\n",
    "    callbacks=[EarlyStoppingCallback(early_stopping_patience=10)],  # Increase patience\n",
    ")"
   ]
  },
  {
   "cell_type": "code",
   "execution_count": 38,
   "metadata": {},
   "outputs": [],
   "source": [
    "import torch\n",
    "torch.cuda.empty_cache()\n"
   ]
  },
  {
   "cell_type": "code",
   "execution_count": 39,
   "metadata": {},
   "outputs": [
    {
     "name": "stderr",
     "output_type": "stream",
     "text": [
      "  0%|          | 0/6300 [8:26:32<?, ?it/s]\n",
      "  0%|          | 10/2700 [00:17<1:16:07,  1.70s/it]"
     ]
    },
    {
     "name": "stdout",
     "output_type": "stream",
     "text": [
      "{'loss': 0.661, 'grad_norm': 23.845584869384766, 'learning_rate': 3e-05, 'epoch': 0.01}\n"
     ]
    },
    {
     "name": "stderr",
     "output_type": "stream",
     "text": [
      "  1%|          | 20/2700 [00:34<1:15:29,  1.69s/it]"
     ]
    },
    {
     "name": "stdout",
     "output_type": "stream",
     "text": [
      "{'loss': 0.7739, 'grad_norm': 17.706520080566406, 'learning_rate': 3e-05, 'epoch': 0.02}\n"
     ]
    },
    {
     "name": "stderr",
     "output_type": "stream",
     "text": [
      "  1%|          | 30/2700 [00:51<1:15:21,  1.69s/it]"
     ]
    },
    {
     "name": "stdout",
     "output_type": "stream",
     "text": [
      "{'loss': 0.6265, 'grad_norm': 18.493465423583984, 'learning_rate': 3e-05, 'epoch': 0.03}\n"
     ]
    },
    {
     "name": "stderr",
     "output_type": "stream",
     "text": [
      "  1%|▏         | 40/2700 [01:08<1:14:56,  1.69s/it]"
     ]
    },
    {
     "name": "stdout",
     "output_type": "stream",
     "text": [
      "{'loss': 0.507, 'grad_norm': 20.390769958496094, 'learning_rate': 3e-05, 'epoch': 0.04}\n"
     ]
    },
    {
     "name": "stderr",
     "output_type": "stream",
     "text": [
      "  2%|▏         | 50/2700 [01:24<1:14:49,  1.69s/it]"
     ]
    },
    {
     "name": "stdout",
     "output_type": "stream",
     "text": [
      "{'loss': 0.8101, 'grad_norm': 42.39901351928711, 'learning_rate': 3e-05, 'epoch': 0.06}\n"
     ]
    },
    {
     "name": "stderr",
     "output_type": "stream",
     "text": [
      "  2%|▏         | 60/2700 [01:41<1:14:26,  1.69s/it]"
     ]
    },
    {
     "name": "stdout",
     "output_type": "stream",
     "text": [
      "{'loss': 0.6195, 'grad_norm': 20.2418212890625, 'learning_rate': 3e-05, 'epoch': 0.07}\n"
     ]
    },
    {
     "name": "stderr",
     "output_type": "stream",
     "text": [
      "  3%|▎         | 70/2700 [01:58<1:14:29,  1.70s/it]"
     ]
    },
    {
     "name": "stdout",
     "output_type": "stream",
     "text": [
      "{'loss': 0.7006, 'grad_norm': 26.41986083984375, 'learning_rate': 3e-05, 'epoch': 0.08}\n"
     ]
    },
    {
     "name": "stderr",
     "output_type": "stream",
     "text": [
      "  3%|▎         | 80/2700 [02:15<1:14:05,  1.70s/it]"
     ]
    },
    {
     "name": "stdout",
     "output_type": "stream",
     "text": [
      "{'loss': 0.5482, 'grad_norm': 27.86043357849121, 'learning_rate': 3e-05, 'epoch': 0.09}\n"
     ]
    },
    {
     "name": "stderr",
     "output_type": "stream",
     "text": [
      "  3%|▎         | 90/2700 [02:32<1:13:52,  1.70s/it]"
     ]
    },
    {
     "name": "stdout",
     "output_type": "stream",
     "text": [
      "{'loss': 0.563, 'grad_norm': 52.88494110107422, 'learning_rate': 3e-05, 'epoch': 0.1}\n"
     ]
    },
    {
     "name": "stderr",
     "output_type": "stream",
     "text": [
      "  4%|▎         | 100/2700 [02:49<1:13:38,  1.70s/it]"
     ]
    },
    {
     "name": "stdout",
     "output_type": "stream",
     "text": [
      "{'loss': 0.5926, 'grad_norm': 23.95555305480957, 'learning_rate': 3e-05, 'epoch': 0.11}\n"
     ]
    },
    {
     "name": "stderr",
     "output_type": "stream",
     "text": [
      "  4%|▍         | 110/2700 [03:06<1:13:10,  1.70s/it]"
     ]
    },
    {
     "name": "stdout",
     "output_type": "stream",
     "text": [
      "{'loss': 0.6404, 'grad_norm': 18.1159610748291, 'learning_rate': 3e-05, 'epoch': 0.12}\n"
     ]
    },
    {
     "name": "stderr",
     "output_type": "stream",
     "text": [
      "  4%|▍         | 120/2700 [03:23<1:12:29,  1.69s/it]"
     ]
    },
    {
     "name": "stdout",
     "output_type": "stream",
     "text": [
      "{'loss': 0.5735, 'grad_norm': 10.271347045898438, 'learning_rate': 3e-05, 'epoch': 0.13}\n"
     ]
    },
    {
     "name": "stderr",
     "output_type": "stream",
     "text": [
      "  5%|▍         | 130/2700 [03:40<1:12:29,  1.69s/it]"
     ]
    },
    {
     "name": "stdout",
     "output_type": "stream",
     "text": [
      "{'loss': 0.7041, 'grad_norm': 43.43310546875, 'learning_rate': 3e-05, 'epoch': 0.14}\n"
     ]
    },
    {
     "name": "stderr",
     "output_type": "stream",
     "text": [
      "  5%|▌         | 140/2700 [03:57<1:12:13,  1.69s/it]"
     ]
    },
    {
     "name": "stdout",
     "output_type": "stream",
     "text": [
      "{'loss': 0.7358, 'grad_norm': 22.685922622680664, 'learning_rate': 3e-05, 'epoch': 0.16}\n"
     ]
    },
    {
     "name": "stderr",
     "output_type": "stream",
     "text": [
      "  6%|▌         | 150/2700 [04:14<1:12:04,  1.70s/it]"
     ]
    },
    {
     "name": "stdout",
     "output_type": "stream",
     "text": [
      "{'loss': 0.587, 'grad_norm': 23.87932777404785, 'learning_rate': 3e-05, 'epoch': 0.17}\n"
     ]
    },
    {
     "name": "stderr",
     "output_type": "stream",
     "text": [
      "  6%|▌         | 160/2700 [04:31<1:11:49,  1.70s/it]"
     ]
    },
    {
     "name": "stdout",
     "output_type": "stream",
     "text": [
      "{'loss': 0.6431, 'grad_norm': 17.58639144897461, 'learning_rate': 3e-05, 'epoch': 0.18}\n"
     ]
    },
    {
     "name": "stderr",
     "output_type": "stream",
     "text": [
      "  6%|▋         | 170/2700 [04:48<1:12:05,  1.71s/it]"
     ]
    },
    {
     "name": "stdout",
     "output_type": "stream",
     "text": [
      "{'loss': 0.4229, 'grad_norm': 13.938464164733887, 'learning_rate': 3e-05, 'epoch': 0.19}\n"
     ]
    },
    {
     "name": "stderr",
     "output_type": "stream",
     "text": [
      "  7%|▋         | 180/2700 [05:05<1:10:58,  1.69s/it]"
     ]
    },
    {
     "name": "stdout",
     "output_type": "stream",
     "text": [
      "{'loss': 0.6399, 'grad_norm': 31.31618881225586, 'learning_rate': 3e-05, 'epoch': 0.2}\n"
     ]
    },
    {
     "name": "stderr",
     "output_type": "stream",
     "text": [
      "  7%|▋         | 190/2700 [05:22<1:10:52,  1.69s/it]"
     ]
    },
    {
     "name": "stdout",
     "output_type": "stream",
     "text": [
      "{'loss': 0.7395, 'grad_norm': 30.672386169433594, 'learning_rate': 3e-05, 'epoch': 0.21}\n"
     ]
    },
    {
     "name": "stderr",
     "output_type": "stream",
     "text": [
      "  7%|▋         | 200/2700 [05:39<1:10:30,  1.69s/it]"
     ]
    },
    {
     "name": "stdout",
     "output_type": "stream",
     "text": [
      "{'loss': 0.8384, 'grad_norm': 15.848699569702148, 'learning_rate': 3e-05, 'epoch': 0.22}\n"
     ]
    },
    {
     "name": "stderr",
     "output_type": "stream",
     "text": [
      "  8%|▊         | 210/2700 [05:56<1:10:22,  1.70s/it]"
     ]
    },
    {
     "name": "stdout",
     "output_type": "stream",
     "text": [
      "{'loss': 0.7248, 'grad_norm': 32.971675872802734, 'learning_rate': 3e-05, 'epoch': 0.23}\n"
     ]
    },
    {
     "name": "stderr",
     "output_type": "stream",
     "text": [
      "  8%|▊         | 220/2700 [06:13<1:09:56,  1.69s/it]"
     ]
    },
    {
     "name": "stdout",
     "output_type": "stream",
     "text": [
      "{'loss': 0.6409, 'grad_norm': 9.262778282165527, 'learning_rate': 3e-05, 'epoch': 0.24}\n"
     ]
    },
    {
     "name": "stderr",
     "output_type": "stream",
     "text": [
      "  9%|▊         | 230/2700 [06:30<1:09:46,  1.70s/it]"
     ]
    },
    {
     "name": "stdout",
     "output_type": "stream",
     "text": [
      "{'loss': 0.633, 'grad_norm': 29.9989070892334, 'learning_rate': 3e-05, 'epoch': 0.26}\n"
     ]
    },
    {
     "name": "stderr",
     "output_type": "stream",
     "text": [
      "  9%|▉         | 240/2700 [06:46<1:09:28,  1.69s/it]"
     ]
    },
    {
     "name": "stdout",
     "output_type": "stream",
     "text": [
      "{'loss': 0.5349, 'grad_norm': 8.227778434753418, 'learning_rate': 3e-05, 'epoch': 0.27}\n"
     ]
    },
    {
     "name": "stderr",
     "output_type": "stream",
     "text": [
      "  9%|▉         | 250/2700 [07:03<1:09:07,  1.69s/it]"
     ]
    },
    {
     "name": "stdout",
     "output_type": "stream",
     "text": [
      "{'loss': 0.7675, 'grad_norm': 27.327728271484375, 'learning_rate': 3e-05, 'epoch': 0.28}\n"
     ]
    },
    {
     "name": "stderr",
     "output_type": "stream",
     "text": [
      " 10%|▉         | 260/2700 [07:20<1:08:48,  1.69s/it]"
     ]
    },
    {
     "name": "stdout",
     "output_type": "stream",
     "text": [
      "{'loss': 0.5874, 'grad_norm': 27.159408569335938, 'learning_rate': 3e-05, 'epoch': 0.29}\n"
     ]
    },
    {
     "name": "stderr",
     "output_type": "stream",
     "text": [
      " 10%|█         | 270/2700 [07:37<1:08:53,  1.70s/it]"
     ]
    },
    {
     "name": "stdout",
     "output_type": "stream",
     "text": [
      "{'loss': 0.7209, 'grad_norm': 14.986339569091797, 'learning_rate': 3e-05, 'epoch': 0.3}\n"
     ]
    },
    {
     "name": "stderr",
     "output_type": "stream",
     "text": [
      " 10%|█         | 280/2700 [07:54<1:08:10,  1.69s/it]"
     ]
    },
    {
     "name": "stdout",
     "output_type": "stream",
     "text": [
      "{'loss': 0.7653, 'grad_norm': 14.74843978881836, 'learning_rate': 3e-05, 'epoch': 0.31}\n"
     ]
    },
    {
     "name": "stderr",
     "output_type": "stream",
     "text": [
      " 11%|█         | 290/2700 [08:11<1:08:10,  1.70s/it]"
     ]
    },
    {
     "name": "stdout",
     "output_type": "stream",
     "text": [
      "{'loss': 0.8282, 'grad_norm': 11.164908409118652, 'learning_rate': 3e-05, 'epoch': 0.32}\n"
     ]
    },
    {
     "name": "stderr",
     "output_type": "stream",
     "text": [
      " 11%|█         | 300/2700 [08:28<1:07:44,  1.69s/it]"
     ]
    },
    {
     "name": "stdout",
     "output_type": "stream",
     "text": [
      "{'loss': 0.6987, 'grad_norm': 26.785799026489258, 'learning_rate': 3e-05, 'epoch': 0.33}\n"
     ]
    },
    {
     "name": "stderr",
     "output_type": "stream",
     "text": [
      " 11%|█▏        | 310/2700 [08:45<1:07:13,  1.69s/it]"
     ]
    },
    {
     "name": "stdout",
     "output_type": "stream",
     "text": [
      "{'loss': 0.4681, 'grad_norm': 58.59803771972656, 'learning_rate': 3e-05, 'epoch': 0.34}\n"
     ]
    },
    {
     "name": "stderr",
     "output_type": "stream",
     "text": [
      " 12%|█▏        | 320/2700 [09:02<1:06:45,  1.68s/it]"
     ]
    },
    {
     "name": "stdout",
     "output_type": "stream",
     "text": [
      "{'loss': 0.9263, 'grad_norm': 24.987184524536133, 'learning_rate': 3e-05, 'epoch': 0.36}\n"
     ]
    },
    {
     "name": "stderr",
     "output_type": "stream",
     "text": [
      " 12%|█▏        | 330/2700 [09:19<1:06:48,  1.69s/it]"
     ]
    },
    {
     "name": "stdout",
     "output_type": "stream",
     "text": [
      "{'loss': 0.5995, 'grad_norm': 17.969738006591797, 'learning_rate': 3e-05, 'epoch': 0.37}\n"
     ]
    },
    {
     "name": "stderr",
     "output_type": "stream",
     "text": [
      " 13%|█▎        | 340/2700 [09:36<1:06:38,  1.69s/it]"
     ]
    },
    {
     "name": "stdout",
     "output_type": "stream",
     "text": [
      "{'loss': 0.653, 'grad_norm': 13.151958465576172, 'learning_rate': 3e-05, 'epoch': 0.38}\n"
     ]
    },
    {
     "name": "stderr",
     "output_type": "stream",
     "text": [
      " 13%|█▎        | 350/2700 [09:53<1:06:14,  1.69s/it]"
     ]
    },
    {
     "name": "stdout",
     "output_type": "stream",
     "text": [
      "{'loss': 0.6704, 'grad_norm': 24.605337142944336, 'learning_rate': 3e-05, 'epoch': 0.39}\n"
     ]
    },
    {
     "name": "stderr",
     "output_type": "stream",
     "text": [
      " 13%|█▎        | 360/2700 [10:09<1:05:53,  1.69s/it]"
     ]
    },
    {
     "name": "stdout",
     "output_type": "stream",
     "text": [
      "{'loss': 0.6663, 'grad_norm': 9.485966682434082, 'learning_rate': 3e-05, 'epoch': 0.4}\n"
     ]
    },
    {
     "name": "stderr",
     "output_type": "stream",
     "text": [
      " 14%|█▎        | 370/2700 [10:26<1:05:47,  1.69s/it]"
     ]
    },
    {
     "name": "stdout",
     "output_type": "stream",
     "text": [
      "{'loss': 0.6289, 'grad_norm': 26.5730037689209, 'learning_rate': 3e-05, 'epoch': 0.41}\n"
     ]
    },
    {
     "name": "stderr",
     "output_type": "stream",
     "text": [
      " 14%|█▍        | 380/2700 [10:43<1:05:35,  1.70s/it]"
     ]
    },
    {
     "name": "stdout",
     "output_type": "stream",
     "text": [
      "{'loss': 0.571, 'grad_norm': 25.25967788696289, 'learning_rate': 3e-05, 'epoch': 0.42}\n"
     ]
    },
    {
     "name": "stderr",
     "output_type": "stream",
     "text": [
      " 14%|█▍        | 390/2700 [11:00<1:04:51,  1.68s/it]"
     ]
    },
    {
     "name": "stdout",
     "output_type": "stream",
     "text": [
      "{'loss': 0.5174, 'grad_norm': 12.739999771118164, 'learning_rate': 3e-05, 'epoch': 0.43}\n"
     ]
    },
    {
     "name": "stderr",
     "output_type": "stream",
     "text": [
      " 15%|█▍        | 400/2700 [11:17<1:04:50,  1.69s/it]"
     ]
    },
    {
     "name": "stdout",
     "output_type": "stream",
     "text": [
      "{'loss': 0.6754, 'grad_norm': 18.319398880004883, 'learning_rate': 3e-05, 'epoch': 0.44}\n"
     ]
    },
    {
     "name": "stderr",
     "output_type": "stream",
     "text": [
      " 15%|█▌        | 410/2700 [11:34<1:04:38,  1.69s/it]"
     ]
    },
    {
     "name": "stdout",
     "output_type": "stream",
     "text": [
      "{'loss': 0.5221, 'grad_norm': 15.431280136108398, 'learning_rate': 3e-05, 'epoch': 0.46}\n"
     ]
    },
    {
     "name": "stderr",
     "output_type": "stream",
     "text": [
      " 16%|█▌        | 420/2700 [11:51<1:04:12,  1.69s/it]"
     ]
    },
    {
     "name": "stdout",
     "output_type": "stream",
     "text": [
      "{'loss': 0.8519, 'grad_norm': 8.380884170532227, 'learning_rate': 3e-05, 'epoch': 0.47}\n"
     ]
    },
    {
     "name": "stderr",
     "output_type": "stream",
     "text": [
      " 16%|█▌        | 430/2700 [12:08<1:04:06,  1.69s/it]"
     ]
    },
    {
     "name": "stdout",
     "output_type": "stream",
     "text": [
      "{'loss': 0.7181, 'grad_norm': 7.869940757751465, 'learning_rate': 3e-05, 'epoch': 0.48}\n"
     ]
    },
    {
     "name": "stderr",
     "output_type": "stream",
     "text": [
      " 16%|█▋        | 440/2700 [12:25<1:03:53,  1.70s/it]"
     ]
    },
    {
     "name": "stdout",
     "output_type": "stream",
     "text": [
      "{'loss': 0.6118, 'grad_norm': 11.067415237426758, 'learning_rate': 3e-05, 'epoch': 0.49}\n"
     ]
    },
    {
     "name": "stderr",
     "output_type": "stream",
     "text": [
      " 17%|█▋        | 450/2700 [12:42<1:03:19,  1.69s/it]"
     ]
    },
    {
     "name": "stdout",
     "output_type": "stream",
     "text": [
      "{'loss': 0.454, 'grad_norm': 23.374399185180664, 'learning_rate': 3e-05, 'epoch': 0.5}\n"
     ]
    },
    {
     "name": "stderr",
     "output_type": "stream",
     "text": [
      " 17%|█▋        | 460/2700 [12:59<1:03:15,  1.69s/it]"
     ]
    },
    {
     "name": "stdout",
     "output_type": "stream",
     "text": [
      "{'loss': 0.6399, 'grad_norm': 24.775545120239258, 'learning_rate': 3e-05, 'epoch': 0.51}\n"
     ]
    },
    {
     "name": "stderr",
     "output_type": "stream",
     "text": [
      " 17%|█▋        | 470/2700 [13:16<1:02:51,  1.69s/it]"
     ]
    },
    {
     "name": "stdout",
     "output_type": "stream",
     "text": [
      "{'loss': 0.5806, 'grad_norm': 20.55832862854004, 'learning_rate': 3e-05, 'epoch': 0.52}\n"
     ]
    },
    {
     "name": "stderr",
     "output_type": "stream",
     "text": [
      " 18%|█▊        | 480/2700 [13:33<1:02:27,  1.69s/it]"
     ]
    },
    {
     "name": "stdout",
     "output_type": "stream",
     "text": [
      "{'loss': 0.7506, 'grad_norm': 12.337498664855957, 'learning_rate': 3e-05, 'epoch': 0.53}\n"
     ]
    },
    {
     "name": "stderr",
     "output_type": "stream",
     "text": [
      " 18%|█▊        | 490/2700 [13:49<1:02:30,  1.70s/it]"
     ]
    },
    {
     "name": "stdout",
     "output_type": "stream",
     "text": [
      "{'loss': 0.5224, 'grad_norm': 31.669269561767578, 'learning_rate': 3e-05, 'epoch': 0.54}\n"
     ]
    },
    {
     "name": "stderr",
     "output_type": "stream",
     "text": [
      " 19%|█▊        | 500/2700 [14:06<1:02:02,  1.69s/it]"
     ]
    },
    {
     "name": "stdout",
     "output_type": "stream",
     "text": [
      "{'loss': 0.5323, 'grad_norm': 8.610828399658203, 'learning_rate': 3e-05, 'epoch': 0.56}\n"
     ]
    },
    {
     "name": "stderr",
     "output_type": "stream",
     "text": [
      " 19%|█▉        | 510/2700 [14:23<1:01:54,  1.70s/it]"
     ]
    },
    {
     "name": "stdout",
     "output_type": "stream",
     "text": [
      "{'loss': 0.6126, 'grad_norm': 11.473421096801758, 'learning_rate': 3e-05, 'epoch': 0.57}\n"
     ]
    },
    {
     "name": "stderr",
     "output_type": "stream",
     "text": [
      " 19%|█▉        | 520/2700 [14:40<1:01:31,  1.69s/it]"
     ]
    },
    {
     "name": "stdout",
     "output_type": "stream",
     "text": [
      "{'loss': 0.526, 'grad_norm': 42.936893463134766, 'learning_rate': 3e-05, 'epoch': 0.58}\n"
     ]
    },
    {
     "name": "stderr",
     "output_type": "stream",
     "text": [
      " 20%|█▉        | 530/2700 [14:57<1:01:04,  1.69s/it]"
     ]
    },
    {
     "name": "stdout",
     "output_type": "stream",
     "text": [
      "{'loss': 0.6924, 'grad_norm': 22.829145431518555, 'learning_rate': 3e-05, 'epoch': 0.59}\n"
     ]
    },
    {
     "name": "stderr",
     "output_type": "stream",
     "text": [
      " 20%|██        | 540/2700 [15:14<1:00:56,  1.69s/it]"
     ]
    },
    {
     "name": "stdout",
     "output_type": "stream",
     "text": [
      "{'loss': 0.6521, 'grad_norm': 11.218374252319336, 'learning_rate': 3e-05, 'epoch': 0.6}\n"
     ]
    },
    {
     "name": "stderr",
     "output_type": "stream",
     "text": [
      " 20%|██        | 550/2700 [15:31<1:00:43,  1.69s/it]"
     ]
    },
    {
     "name": "stdout",
     "output_type": "stream",
     "text": [
      "{'loss': 0.5791, 'grad_norm': 25.416812896728516, 'learning_rate': 3e-05, 'epoch': 0.61}\n"
     ]
    },
    {
     "name": "stderr",
     "output_type": "stream",
     "text": [
      " 21%|██        | 560/2700 [15:48<1:00:10,  1.69s/it]"
     ]
    },
    {
     "name": "stdout",
     "output_type": "stream",
     "text": [
      "{'loss': 0.8121, 'grad_norm': 30.163494110107422, 'learning_rate': 3e-05, 'epoch': 0.62}\n"
     ]
    },
    {
     "name": "stderr",
     "output_type": "stream",
     "text": [
      " 21%|██        | 570/2700 [16:05<1:00:15,  1.70s/it]"
     ]
    },
    {
     "name": "stdout",
     "output_type": "stream",
     "text": [
      "{'loss': 0.6053, 'grad_norm': 22.27431869506836, 'learning_rate': 3e-05, 'epoch': 0.63}\n"
     ]
    },
    {
     "name": "stderr",
     "output_type": "stream",
     "text": [
      " 21%|██▏       | 580/2700 [16:22<59:45,  1.69s/it]  "
     ]
    },
    {
     "name": "stdout",
     "output_type": "stream",
     "text": [
      "{'loss': 0.6395, 'grad_norm': 23.65492057800293, 'learning_rate': 3e-05, 'epoch': 0.64}\n"
     ]
    },
    {
     "name": "stderr",
     "output_type": "stream",
     "text": [
      " 22%|██▏       | 590/2700 [16:39<59:29,  1.69s/it]"
     ]
    },
    {
     "name": "stdout",
     "output_type": "stream",
     "text": [
      "{'loss': 0.7208, 'grad_norm': 14.766133308410645, 'learning_rate': 3e-05, 'epoch': 0.66}\n"
     ]
    },
    {
     "name": "stderr",
     "output_type": "stream",
     "text": [
      " 22%|██▏       | 600/2700 [16:56<59:22,  1.70s/it]"
     ]
    },
    {
     "name": "stdout",
     "output_type": "stream",
     "text": [
      "{'loss': 0.6207, 'grad_norm': 26.35855484008789, 'learning_rate': 3e-05, 'epoch': 0.67}\n"
     ]
    },
    {
     "name": "stderr",
     "output_type": "stream",
     "text": [
      " 23%|██▎       | 610/2700 [17:13<58:56,  1.69s/it]"
     ]
    },
    {
     "name": "stdout",
     "output_type": "stream",
     "text": [
      "{'loss': 0.748, 'grad_norm': 12.076324462890625, 'learning_rate': 3e-05, 'epoch': 0.68}\n"
     ]
    },
    {
     "name": "stderr",
     "output_type": "stream",
     "text": [
      " 23%|██▎       | 620/2700 [17:29<58:43,  1.69s/it]"
     ]
    },
    {
     "name": "stdout",
     "output_type": "stream",
     "text": [
      "{'loss': 0.7542, 'grad_norm': 15.957977294921875, 'learning_rate': 3e-05, 'epoch': 0.69}\n"
     ]
    },
    {
     "name": "stderr",
     "output_type": "stream",
     "text": [
      " 23%|██▎       | 630/2700 [17:46<58:30,  1.70s/it]"
     ]
    },
    {
     "name": "stdout",
     "output_type": "stream",
     "text": [
      "{'loss': 0.681, 'grad_norm': 21.19647216796875, 'learning_rate': 3e-05, 'epoch': 0.7}\n"
     ]
    },
    {
     "name": "stderr",
     "output_type": "stream",
     "text": [
      " 24%|██▎       | 640/2700 [18:03<57:58,  1.69s/it]"
     ]
    },
    {
     "name": "stdout",
     "output_type": "stream",
     "text": [
      "{'loss': 0.6139, 'grad_norm': 13.42782974243164, 'learning_rate': 3e-05, 'epoch': 0.71}\n"
     ]
    },
    {
     "name": "stderr",
     "output_type": "stream",
     "text": [
      " 24%|██▍       | 650/2700 [18:20<57:43,  1.69s/it]"
     ]
    },
    {
     "name": "stdout",
     "output_type": "stream",
     "text": [
      "{'loss': 0.6769, 'grad_norm': 24.468170166015625, 'learning_rate': 3e-05, 'epoch': 0.72}\n"
     ]
    },
    {
     "name": "stderr",
     "output_type": "stream",
     "text": [
      " 24%|██▍       | 660/2700 [18:37<57:39,  1.70s/it]"
     ]
    },
    {
     "name": "stdout",
     "output_type": "stream",
     "text": [
      "{'loss': 0.605, 'grad_norm': 16.83454132080078, 'learning_rate': 3e-05, 'epoch': 0.73}\n"
     ]
    },
    {
     "name": "stderr",
     "output_type": "stream",
     "text": [
      " 25%|██▍       | 670/2700 [18:54<57:10,  1.69s/it]"
     ]
    },
    {
     "name": "stdout",
     "output_type": "stream",
     "text": [
      "{'loss': 0.659, 'grad_norm': 14.68783950805664, 'learning_rate': 3e-05, 'epoch': 0.74}\n"
     ]
    },
    {
     "name": "stderr",
     "output_type": "stream",
     "text": [
      " 25%|██▌       | 680/2700 [19:11<57:13,  1.70s/it]"
     ]
    },
    {
     "name": "stdout",
     "output_type": "stream",
     "text": [
      "{'loss': 0.6375, 'grad_norm': 24.747928619384766, 'learning_rate': 3e-05, 'epoch': 0.76}\n"
     ]
    },
    {
     "name": "stderr",
     "output_type": "stream",
     "text": [
      " 26%|██▌       | 690/2700 [19:28<56:36,  1.69s/it]"
     ]
    },
    {
     "name": "stdout",
     "output_type": "stream",
     "text": [
      "{'loss': 0.6977, 'grad_norm': 26.31960678100586, 'learning_rate': 3e-05, 'epoch': 0.77}\n"
     ]
    },
    {
     "name": "stderr",
     "output_type": "stream",
     "text": [
      " 26%|██▌       | 700/2700 [19:45<56:21,  1.69s/it]"
     ]
    },
    {
     "name": "stdout",
     "output_type": "stream",
     "text": [
      "{'loss': 0.7562, 'grad_norm': 5.782916069030762, 'learning_rate': 3e-05, 'epoch': 0.78}\n"
     ]
    },
    {
     "name": "stderr",
     "output_type": "stream",
     "text": [
      " 26%|██▋       | 710/2700 [20:02<56:27,  1.70s/it]"
     ]
    },
    {
     "name": "stdout",
     "output_type": "stream",
     "text": [
      "{'loss': 0.5013, 'grad_norm': 20.13301658630371, 'learning_rate': 3e-05, 'epoch': 0.79}\n"
     ]
    },
    {
     "name": "stderr",
     "output_type": "stream",
     "text": [
      " 27%|██▋       | 720/2700 [20:19<55:44,  1.69s/it]"
     ]
    },
    {
     "name": "stdout",
     "output_type": "stream",
     "text": [
      "{'loss': 0.6791, 'grad_norm': 15.07870864868164, 'learning_rate': 3e-05, 'epoch': 0.8}\n"
     ]
    },
    {
     "name": "stderr",
     "output_type": "stream",
     "text": [
      " 27%|██▋       | 730/2700 [20:36<55:26,  1.69s/it]"
     ]
    },
    {
     "name": "stdout",
     "output_type": "stream",
     "text": [
      "{'loss': 0.8306, 'grad_norm': 8.68587875366211, 'learning_rate': 3e-05, 'epoch': 0.81}\n"
     ]
    },
    {
     "name": "stderr",
     "output_type": "stream",
     "text": [
      " 27%|██▋       | 740/2700 [20:53<55:16,  1.69s/it]"
     ]
    },
    {
     "name": "stdout",
     "output_type": "stream",
     "text": [
      "{'loss': 0.7409, 'grad_norm': 19.008270263671875, 'learning_rate': 3e-05, 'epoch': 0.82}\n"
     ]
    },
    {
     "name": "stderr",
     "output_type": "stream",
     "text": [
      " 28%|██▊       | 750/2700 [21:09<54:54,  1.69s/it]"
     ]
    },
    {
     "name": "stdout",
     "output_type": "stream",
     "text": [
      "{'loss': 0.6594, 'grad_norm': 9.618366241455078, 'learning_rate': 3e-05, 'epoch': 0.83}\n"
     ]
    },
    {
     "name": "stderr",
     "output_type": "stream",
     "text": [
      " 28%|██▊       | 760/2700 [21:26<54:46,  1.69s/it]"
     ]
    },
    {
     "name": "stdout",
     "output_type": "stream",
     "text": [
      "{'loss': 0.5303, 'grad_norm': 26.006317138671875, 'learning_rate': 3e-05, 'epoch': 0.84}\n"
     ]
    },
    {
     "name": "stderr",
     "output_type": "stream",
     "text": [
      " 29%|██▊       | 770/2700 [21:43<54:28,  1.69s/it]"
     ]
    },
    {
     "name": "stdout",
     "output_type": "stream",
     "text": [
      "{'loss': 0.5735, 'grad_norm': 26.22053337097168, 'learning_rate': 3e-05, 'epoch': 0.86}\n"
     ]
    },
    {
     "name": "stderr",
     "output_type": "stream",
     "text": [
      " 29%|██▉       | 780/2700 [22:00<54:04,  1.69s/it]"
     ]
    },
    {
     "name": "stdout",
     "output_type": "stream",
     "text": [
      "{'loss': 0.5722, 'grad_norm': 20.823455810546875, 'learning_rate': 3e-05, 'epoch': 0.87}\n"
     ]
    },
    {
     "name": "stderr",
     "output_type": "stream",
     "text": [
      " 29%|██▉       | 790/2700 [22:17<53:58,  1.70s/it]"
     ]
    },
    {
     "name": "stdout",
     "output_type": "stream",
     "text": [
      "{'loss': 0.7099, 'grad_norm': 10.181968688964844, 'learning_rate': 3e-05, 'epoch': 0.88}\n"
     ]
    },
    {
     "name": "stderr",
     "output_type": "stream",
     "text": [
      " 30%|██▉       | 800/2700 [22:34<53:44,  1.70s/it]"
     ]
    },
    {
     "name": "stdout",
     "output_type": "stream",
     "text": [
      "{'loss': 0.7182, 'grad_norm': 25.265836715698242, 'learning_rate': 3e-05, 'epoch': 0.89}\n"
     ]
    },
    {
     "name": "stderr",
     "output_type": "stream",
     "text": [
      " 30%|███       | 810/2700 [22:51<53:11,  1.69s/it]"
     ]
    },
    {
     "name": "stdout",
     "output_type": "stream",
     "text": [
      "{'loss': 0.5283, 'grad_norm': 8.744075775146484, 'learning_rate': 3e-05, 'epoch': 0.9}\n"
     ]
    },
    {
     "name": "stderr",
     "output_type": "stream",
     "text": [
      " 30%|███       | 820/2700 [23:08<53:06,  1.69s/it]"
     ]
    },
    {
     "name": "stdout",
     "output_type": "stream",
     "text": [
      "{'loss': 0.5189, 'grad_norm': 18.37747573852539, 'learning_rate': 3e-05, 'epoch': 0.91}\n"
     ]
    },
    {
     "name": "stderr",
     "output_type": "stream",
     "text": [
      " 31%|███       | 830/2700 [23:25<52:55,  1.70s/it]"
     ]
    },
    {
     "name": "stdout",
     "output_type": "stream",
     "text": [
      "{'loss': 0.68, 'grad_norm': 31.284048080444336, 'learning_rate': 3e-05, 'epoch': 0.92}\n"
     ]
    },
    {
     "name": "stderr",
     "output_type": "stream",
     "text": [
      " 31%|███       | 840/2700 [23:42<52:34,  1.70s/it]"
     ]
    },
    {
     "name": "stdout",
     "output_type": "stream",
     "text": [
      "{'loss': 0.6389, 'grad_norm': 7.083625793457031, 'learning_rate': 3e-05, 'epoch': 0.93}\n"
     ]
    },
    {
     "name": "stderr",
     "output_type": "stream",
     "text": [
      " 31%|███▏      | 850/2700 [23:59<52:22,  1.70s/it]"
     ]
    },
    {
     "name": "stdout",
     "output_type": "stream",
     "text": [
      "{'loss': 0.7306, 'grad_norm': 30.332155227661133, 'learning_rate': 3e-05, 'epoch': 0.94}\n"
     ]
    },
    {
     "name": "stderr",
     "output_type": "stream",
     "text": [
      " 32%|███▏      | 860/2700 [24:16<51:53,  1.69s/it]"
     ]
    },
    {
     "name": "stdout",
     "output_type": "stream",
     "text": [
      "{'loss': 0.7185, 'grad_norm': 18.09554100036621, 'learning_rate': 3e-05, 'epoch': 0.96}\n"
     ]
    },
    {
     "name": "stderr",
     "output_type": "stream",
     "text": [
      " 32%|███▏      | 870/2700 [24:33<51:36,  1.69s/it]"
     ]
    },
    {
     "name": "stdout",
     "output_type": "stream",
     "text": [
      "{'loss': 0.5864, 'grad_norm': 31.915573120117188, 'learning_rate': 3e-05, 'epoch': 0.97}\n"
     ]
    },
    {
     "name": "stderr",
     "output_type": "stream",
     "text": [
      " 33%|███▎      | 880/2700 [24:50<51:26,  1.70s/it]"
     ]
    },
    {
     "name": "stdout",
     "output_type": "stream",
     "text": [
      "{'loss': 0.5248, 'grad_norm': 2.833437919616699, 'learning_rate': 3e-05, 'epoch': 0.98}\n"
     ]
    },
    {
     "name": "stderr",
     "output_type": "stream",
     "text": [
      " 33%|███▎      | 890/2700 [25:07<51:08,  1.70s/it]"
     ]
    },
    {
     "name": "stdout",
     "output_type": "stream",
     "text": [
      "{'loss': 0.9049, 'grad_norm': 26.748769760131836, 'learning_rate': 3e-05, 'epoch': 0.99}\n"
     ]
    },
    {
     "name": "stderr",
     "output_type": "stream",
     "text": [
      " 33%|███▎      | 900/2700 [25:24<50:54,  1.70s/it]"
     ]
    },
    {
     "name": "stdout",
     "output_type": "stream",
     "text": [
      "{'loss': 0.6706, 'grad_norm': 9.55340576171875, 'learning_rate': 3e-05, 'epoch': 1.0}\n"
     ]
    },
    {
     "name": "stderr",
     "output_type": "stream",
     "text": [
      "\n",
      " 33%|███▎      | 900/2700 [27:53<50:54,  1.70s/it]"
     ]
    },
    {
     "name": "stdout",
     "output_type": "stream",
     "text": [
      "{'eval_loss': 0.6222510933876038, 'eval_runtime': 148.973, 'eval_samples_per_second': 12.089, 'eval_steps_per_second': 6.048, 'epoch': 1.0}\n"
     ]
    },
    {
     "name": "stderr",
     "output_type": "stream",
     "text": [
      " 34%|███▎      | 910/2700 [28:13<1:45:41,  3.54s/it] "
     ]
    },
    {
     "name": "stdout",
     "output_type": "stream",
     "text": [
      "{'loss': 0.409, 'grad_norm': 12.137160301208496, 'learning_rate': 3e-05, 'epoch': 1.01}\n"
     ]
    },
    {
     "name": "stderr",
     "output_type": "stream",
     "text": [
      " 34%|███▍      | 920/2700 [28:30<51:55,  1.75s/it]  "
     ]
    },
    {
     "name": "stdout",
     "output_type": "stream",
     "text": [
      "{'loss': 0.5854, 'grad_norm': 4.380581855773926, 'learning_rate': 3e-05, 'epoch': 1.02}\n"
     ]
    },
    {
     "name": "stderr",
     "output_type": "stream",
     "text": [
      " 34%|███▍      | 930/2700 [28:47<50:08,  1.70s/it]"
     ]
    },
    {
     "name": "stdout",
     "output_type": "stream",
     "text": [
      "{'loss': 0.5293, 'grad_norm': 20.211965560913086, 'learning_rate': 3e-05, 'epoch': 1.03}\n"
     ]
    },
    {
     "name": "stderr",
     "output_type": "stream",
     "text": [
      " 35%|███▍      | 940/2700 [29:04<49:46,  1.70s/it]"
     ]
    },
    {
     "name": "stdout",
     "output_type": "stream",
     "text": [
      "{'loss': 0.7428, 'grad_norm': 24.105323791503906, 'learning_rate': 3e-05, 'epoch': 1.04}\n"
     ]
    },
    {
     "name": "stderr",
     "output_type": "stream",
     "text": [
      " 35%|███▌      | 950/2700 [29:21<49:30,  1.70s/it]"
     ]
    },
    {
     "name": "stdout",
     "output_type": "stream",
     "text": [
      "{'loss': 0.573, 'grad_norm': 10.919942855834961, 'learning_rate': 3e-05, 'epoch': 1.06}\n"
     ]
    },
    {
     "name": "stderr",
     "output_type": "stream",
     "text": [
      " 36%|███▌      | 960/2700 [29:38<49:01,  1.69s/it]"
     ]
    },
    {
     "name": "stdout",
     "output_type": "stream",
     "text": [
      "{'loss': 0.4451, 'grad_norm': 23.95497703552246, 'learning_rate': 3e-05, 'epoch': 1.07}\n"
     ]
    },
    {
     "name": "stderr",
     "output_type": "stream",
     "text": [
      " 36%|███▌      | 970/2700 [29:55<48:48,  1.69s/it]"
     ]
    },
    {
     "name": "stdout",
     "output_type": "stream",
     "text": [
      "{'loss': 0.558, 'grad_norm': 5.9344000816345215, 'learning_rate': 3e-05, 'epoch': 1.08}\n"
     ]
    },
    {
     "name": "stderr",
     "output_type": "stream",
     "text": [
      " 36%|███▋      | 980/2700 [30:12<48:36,  1.70s/it]"
     ]
    },
    {
     "name": "stdout",
     "output_type": "stream",
     "text": [
      "{'loss': 0.4373, 'grad_norm': 20.303647994995117, 'learning_rate': 3e-05, 'epoch': 1.09}\n"
     ]
    },
    {
     "name": "stderr",
     "output_type": "stream",
     "text": [
      " 37%|███▋      | 990/2700 [30:29<48:12,  1.69s/it]"
     ]
    },
    {
     "name": "stdout",
     "output_type": "stream",
     "text": [
      "{'loss': 0.7569, 'grad_norm': 51.0279426574707, 'learning_rate': 3e-05, 'epoch': 1.1}\n"
     ]
    },
    {
     "name": "stderr",
     "output_type": "stream",
     "text": [
      " 37%|███▋      | 1000/2700 [30:46<47:57,  1.69s/it]"
     ]
    },
    {
     "name": "stdout",
     "output_type": "stream",
     "text": [
      "{'loss': 0.8994, 'grad_norm': 9.894545555114746, 'learning_rate': 3e-05, 'epoch': 1.11}\n"
     ]
    },
    {
     "name": "stderr",
     "output_type": "stream",
     "text": [
      " 37%|███▋      | 1010/2700 [31:03<47:46,  1.70s/it]"
     ]
    },
    {
     "name": "stdout",
     "output_type": "stream",
     "text": [
      "{'loss': 0.5771, 'grad_norm': 11.277483940124512, 'learning_rate': 3e-05, 'epoch': 1.12}\n"
     ]
    },
    {
     "name": "stderr",
     "output_type": "stream",
     "text": [
      " 38%|███▊      | 1020/2700 [31:20<47:24,  1.69s/it]"
     ]
    },
    {
     "name": "stdout",
     "output_type": "stream",
     "text": [
      "{'loss': 0.4929, 'grad_norm': 15.806051254272461, 'learning_rate': 3e-05, 'epoch': 1.13}\n"
     ]
    },
    {
     "name": "stderr",
     "output_type": "stream",
     "text": [
      " 38%|███▊      | 1030/2700 [31:37<47:14,  1.70s/it]"
     ]
    },
    {
     "name": "stdout",
     "output_type": "stream",
     "text": [
      "{'loss': 0.5653, 'grad_norm': 18.627334594726562, 'learning_rate': 3e-05, 'epoch': 1.14}\n"
     ]
    },
    {
     "name": "stderr",
     "output_type": "stream",
     "text": [
      " 39%|███▊      | 1040/2700 [31:54<46:54,  1.70s/it]"
     ]
    },
    {
     "name": "stdout",
     "output_type": "stream",
     "text": [
      "{'loss': 0.5616, 'grad_norm': 19.646657943725586, 'learning_rate': 3e-05, 'epoch': 1.16}\n"
     ]
    },
    {
     "name": "stderr",
     "output_type": "stream",
     "text": [
      " 39%|███▉      | 1050/2700 [32:10<46:36,  1.69s/it]"
     ]
    },
    {
     "name": "stdout",
     "output_type": "stream",
     "text": [
      "{'loss': 0.5843, 'grad_norm': 9.986738204956055, 'learning_rate': 3e-05, 'epoch': 1.17}\n"
     ]
    },
    {
     "name": "stderr",
     "output_type": "stream",
     "text": [
      " 39%|███▉      | 1060/2700 [32:27<46:35,  1.70s/it]"
     ]
    },
    {
     "name": "stdout",
     "output_type": "stream",
     "text": [
      "{'loss': 0.5557, 'grad_norm': 19.97524642944336, 'learning_rate': 3e-05, 'epoch': 1.18}\n"
     ]
    },
    {
     "name": "stderr",
     "output_type": "stream",
     "text": [
      " 40%|███▉      | 1070/2700 [32:44<46:03,  1.70s/it]"
     ]
    },
    {
     "name": "stdout",
     "output_type": "stream",
     "text": [
      "{'loss': 0.4487, 'grad_norm': 2.7588419914245605, 'learning_rate': 3e-05, 'epoch': 1.19}\n"
     ]
    },
    {
     "name": "stderr",
     "output_type": "stream",
     "text": [
      " 40%|████      | 1080/2700 [33:01<45:51,  1.70s/it]"
     ]
    },
    {
     "name": "stdout",
     "output_type": "stream",
     "text": [
      "{'loss': 0.524, 'grad_norm': 18.24464988708496, 'learning_rate': 3e-05, 'epoch': 1.2}\n"
     ]
    },
    {
     "name": "stderr",
     "output_type": "stream",
     "text": [
      " 40%|████      | 1090/2700 [33:18<45:34,  1.70s/it]"
     ]
    },
    {
     "name": "stdout",
     "output_type": "stream",
     "text": [
      "{'loss': 0.5572, 'grad_norm': 36.57492446899414, 'learning_rate': 3e-05, 'epoch': 1.21}\n"
     ]
    },
    {
     "name": "stderr",
     "output_type": "stream",
     "text": [
      " 41%|████      | 1100/2700 [33:35<45:10,  1.69s/it]"
     ]
    },
    {
     "name": "stdout",
     "output_type": "stream",
     "text": [
      "{'loss': 0.546, 'grad_norm': 13.897441864013672, 'learning_rate': 3e-05, 'epoch': 1.22}\n"
     ]
    },
    {
     "name": "stderr",
     "output_type": "stream",
     "text": [
      " 41%|████      | 1110/2700 [33:52<45:03,  1.70s/it]"
     ]
    },
    {
     "name": "stdout",
     "output_type": "stream",
     "text": [
      "{'loss': 0.5888, 'grad_norm': 17.376178741455078, 'learning_rate': 3e-05, 'epoch': 1.23}\n"
     ]
    },
    {
     "name": "stderr",
     "output_type": "stream",
     "text": [
      " 41%|████▏     | 1120/2700 [34:09<44:42,  1.70s/it]"
     ]
    },
    {
     "name": "stdout",
     "output_type": "stream",
     "text": [
      "{'loss': 0.4706, 'grad_norm': 18.55080223083496, 'learning_rate': 3e-05, 'epoch': 1.24}\n"
     ]
    },
    {
     "name": "stderr",
     "output_type": "stream",
     "text": [
      " 42%|████▏     | 1130/2700 [34:26<44:21,  1.70s/it]"
     ]
    },
    {
     "name": "stdout",
     "output_type": "stream",
     "text": [
      "{'loss': 0.4992, 'grad_norm': 8.155428886413574, 'learning_rate': 3e-05, 'epoch': 1.26}\n"
     ]
    },
    {
     "name": "stderr",
     "output_type": "stream",
     "text": [
      " 42%|████▏     | 1140/2700 [34:43<44:10,  1.70s/it]"
     ]
    },
    {
     "name": "stdout",
     "output_type": "stream",
     "text": [
      "{'loss': 0.5652, 'grad_norm': 15.082075119018555, 'learning_rate': 3e-05, 'epoch': 1.27}\n"
     ]
    },
    {
     "name": "stderr",
     "output_type": "stream",
     "text": [
      " 43%|████▎     | 1150/2700 [35:00<43:51,  1.70s/it]"
     ]
    },
    {
     "name": "stdout",
     "output_type": "stream",
     "text": [
      "{'loss': 0.4617, 'grad_norm': 22.9457950592041, 'learning_rate': 3e-05, 'epoch': 1.28}\n"
     ]
    },
    {
     "name": "stderr",
     "output_type": "stream",
     "text": [
      " 43%|████▎     | 1160/2700 [35:17<43:27,  1.69s/it]"
     ]
    },
    {
     "name": "stdout",
     "output_type": "stream",
     "text": [
      "{'loss': 0.6075, 'grad_norm': 15.963964462280273, 'learning_rate': 3e-05, 'epoch': 1.29}\n"
     ]
    },
    {
     "name": "stderr",
     "output_type": "stream",
     "text": [
      " 43%|████▎     | 1170/2700 [35:34<43:17,  1.70s/it]"
     ]
    },
    {
     "name": "stdout",
     "output_type": "stream",
     "text": [
      "{'loss': 0.5719, 'grad_norm': 5.875843524932861, 'learning_rate': 3e-05, 'epoch': 1.3}\n"
     ]
    },
    {
     "name": "stderr",
     "output_type": "stream",
     "text": [
      " 44%|████▎     | 1180/2700 [35:51<42:56,  1.70s/it]"
     ]
    },
    {
     "name": "stdout",
     "output_type": "stream",
     "text": [
      "{'loss': 0.6638, 'grad_norm': 16.489017486572266, 'learning_rate': 3e-05, 'epoch': 1.31}\n"
     ]
    },
    {
     "name": "stderr",
     "output_type": "stream",
     "text": [
      " 44%|████▍     | 1190/2700 [36:08<42:21,  1.68s/it]"
     ]
    },
    {
     "name": "stdout",
     "output_type": "stream",
     "text": [
      "{'loss': 0.4042, 'grad_norm': 7.592878818511963, 'learning_rate': 3e-05, 'epoch': 1.32}\n"
     ]
    },
    {
     "name": "stderr",
     "output_type": "stream",
     "text": [
      " 44%|████▍     | 1200/2700 [36:25<42:21,  1.69s/it]"
     ]
    },
    {
     "name": "stdout",
     "output_type": "stream",
     "text": [
      "{'loss': 0.5963, 'grad_norm': 15.445307731628418, 'learning_rate': 3e-05, 'epoch': 1.33}\n"
     ]
    },
    {
     "name": "stderr",
     "output_type": "stream",
     "text": [
      " 45%|████▍     | 1210/2700 [36:42<42:05,  1.69s/it]"
     ]
    },
    {
     "name": "stdout",
     "output_type": "stream",
     "text": [
      "{'loss': 0.6755, 'grad_norm': 24.42418098449707, 'learning_rate': 3e-05, 'epoch': 1.34}\n"
     ]
    },
    {
     "name": "stderr",
     "output_type": "stream",
     "text": [
      " 45%|████▌     | 1220/2700 [36:58<41:43,  1.69s/it]"
     ]
    },
    {
     "name": "stdout",
     "output_type": "stream",
     "text": [
      "{'loss': 0.4482, 'grad_norm': 11.314963340759277, 'learning_rate': 3e-05, 'epoch': 1.36}\n"
     ]
    },
    {
     "name": "stderr",
     "output_type": "stream",
     "text": [
      " 46%|████▌     | 1230/2700 [37:15<41:34,  1.70s/it]"
     ]
    },
    {
     "name": "stdout",
     "output_type": "stream",
     "text": [
      "{'loss': 0.5407, 'grad_norm': 19.86357879638672, 'learning_rate': 3e-05, 'epoch': 1.37}\n"
     ]
    },
    {
     "name": "stderr",
     "output_type": "stream",
     "text": [
      " 46%|████▌     | 1240/2700 [37:32<41:11,  1.69s/it]"
     ]
    },
    {
     "name": "stdout",
     "output_type": "stream",
     "text": [
      "{'loss': 0.6413, 'grad_norm': 16.57012176513672, 'learning_rate': 3e-05, 'epoch': 1.38}\n"
     ]
    },
    {
     "name": "stderr",
     "output_type": "stream",
     "text": [
      " 46%|████▋     | 1250/2700 [37:49<41:07,  1.70s/it]"
     ]
    },
    {
     "name": "stdout",
     "output_type": "stream",
     "text": [
      "{'loss': 0.4464, 'grad_norm': 17.364391326904297, 'learning_rate': 3e-05, 'epoch': 1.39}\n"
     ]
    },
    {
     "name": "stderr",
     "output_type": "stream",
     "text": [
      " 47%|████▋     | 1260/2700 [38:06<40:39,  1.69s/it]"
     ]
    },
    {
     "name": "stdout",
     "output_type": "stream",
     "text": [
      "{'loss': 0.505, 'grad_norm': 16.674497604370117, 'learning_rate': 3e-05, 'epoch': 1.4}\n"
     ]
    },
    {
     "name": "stderr",
     "output_type": "stream",
     "text": [
      " 47%|████▋     | 1270/2700 [38:23<40:23,  1.69s/it]"
     ]
    },
    {
     "name": "stdout",
     "output_type": "stream",
     "text": [
      "{'loss': 0.3682, 'grad_norm': 7.086065292358398, 'learning_rate': 3e-05, 'epoch': 1.41}\n"
     ]
    },
    {
     "name": "stderr",
     "output_type": "stream",
     "text": [
      " 47%|████▋     | 1280/2700 [38:40<40:07,  1.70s/it]"
     ]
    },
    {
     "name": "stdout",
     "output_type": "stream",
     "text": [
      "{'loss': 0.4712, 'grad_norm': 7.9753947257995605, 'learning_rate': 3e-05, 'epoch': 1.42}\n"
     ]
    },
    {
     "name": "stderr",
     "output_type": "stream",
     "text": [
      " 48%|████▊     | 1290/2700 [38:57<39:53,  1.70s/it]"
     ]
    },
    {
     "name": "stdout",
     "output_type": "stream",
     "text": [
      "{'loss': 0.5849, 'grad_norm': 24.09527015686035, 'learning_rate': 3e-05, 'epoch': 1.43}\n"
     ]
    },
    {
     "name": "stderr",
     "output_type": "stream",
     "text": [
      " 48%|████▊     | 1300/2700 [39:14<39:34,  1.70s/it]"
     ]
    },
    {
     "name": "stdout",
     "output_type": "stream",
     "text": [
      "{'loss': 0.6327, 'grad_norm': 14.712800025939941, 'learning_rate': 3e-05, 'epoch': 1.44}\n"
     ]
    },
    {
     "name": "stderr",
     "output_type": "stream",
     "text": [
      " 49%|████▊     | 1310/2700 [39:31<39:16,  1.70s/it]"
     ]
    },
    {
     "name": "stdout",
     "output_type": "stream",
     "text": [
      "{'loss': 0.5412, 'grad_norm': 15.1282958984375, 'learning_rate': 3e-05, 'epoch': 1.46}\n"
     ]
    },
    {
     "name": "stderr",
     "output_type": "stream",
     "text": [
      " 49%|████▉     | 1320/2700 [39:48<38:56,  1.69s/it]"
     ]
    },
    {
     "name": "stdout",
     "output_type": "stream",
     "text": [
      "{'loss': 0.5722, 'grad_norm': 5.667574882507324, 'learning_rate': 3e-05, 'epoch': 1.47}\n"
     ]
    },
    {
     "name": "stderr",
     "output_type": "stream",
     "text": [
      " 49%|████▉     | 1330/2700 [40:05<38:43,  1.70s/it]"
     ]
    },
    {
     "name": "stdout",
     "output_type": "stream",
     "text": [
      "{'loss': 0.5635, 'grad_norm': 10.265473365783691, 'learning_rate': 3e-05, 'epoch': 1.48}\n"
     ]
    },
    {
     "name": "stderr",
     "output_type": "stream",
     "text": [
      " 50%|████▉     | 1340/2700 [40:22<38:26,  1.70s/it]"
     ]
    },
    {
     "name": "stdout",
     "output_type": "stream",
     "text": [
      "{'loss': 0.5953, 'grad_norm': 14.895072937011719, 'learning_rate': 3e-05, 'epoch': 1.49}\n"
     ]
    },
    {
     "name": "stderr",
     "output_type": "stream",
     "text": [
      " 50%|█████     | 1350/2700 [40:39<38:02,  1.69s/it]"
     ]
    },
    {
     "name": "stdout",
     "output_type": "stream",
     "text": [
      "{'loss': 0.3773, 'grad_norm': 23.472070693969727, 'learning_rate': 3e-05, 'epoch': 1.5}\n"
     ]
    },
    {
     "name": "stderr",
     "output_type": "stream",
     "text": [
      " 50%|█████     | 1360/2700 [40:56<37:51,  1.70s/it]"
     ]
    },
    {
     "name": "stdout",
     "output_type": "stream",
     "text": [
      "{'loss': 0.5095, 'grad_norm': 5.888055324554443, 'learning_rate': 3e-05, 'epoch': 1.51}\n"
     ]
    },
    {
     "name": "stderr",
     "output_type": "stream",
     "text": [
      " 51%|█████     | 1370/2700 [41:13<37:32,  1.69s/it]"
     ]
    },
    {
     "name": "stdout",
     "output_type": "stream",
     "text": [
      "{'loss': 0.6943, 'grad_norm': 17.73440933227539, 'learning_rate': 3e-05, 'epoch': 1.52}\n"
     ]
    },
    {
     "name": "stderr",
     "output_type": "stream",
     "text": [
      " 51%|█████     | 1380/2700 [41:30<37:15,  1.69s/it]"
     ]
    },
    {
     "name": "stdout",
     "output_type": "stream",
     "text": [
      "{'loss': 0.5557, 'grad_norm': 12.142821311950684, 'learning_rate': 3e-05, 'epoch': 1.53}\n"
     ]
    },
    {
     "name": "stderr",
     "output_type": "stream",
     "text": [
      " 51%|█████▏    | 1390/2700 [41:47<37:02,  1.70s/it]"
     ]
    },
    {
     "name": "stdout",
     "output_type": "stream",
     "text": [
      "{'loss': 0.5731, 'grad_norm': 14.204543113708496, 'learning_rate': 3e-05, 'epoch': 1.54}\n"
     ]
    },
    {
     "name": "stderr",
     "output_type": "stream",
     "text": [
      " 52%|█████▏    | 1400/2700 [42:03<36:40,  1.69s/it]"
     ]
    },
    {
     "name": "stdout",
     "output_type": "stream",
     "text": [
      "{'loss': 0.5539, 'grad_norm': 12.557682991027832, 'learning_rate': 3e-05, 'epoch': 1.56}\n"
     ]
    },
    {
     "name": "stderr",
     "output_type": "stream",
     "text": [
      " 52%|█████▏    | 1410/2700 [42:20<36:25,  1.69s/it]"
     ]
    },
    {
     "name": "stdout",
     "output_type": "stream",
     "text": [
      "{'loss': 0.5658, 'grad_norm': 9.233183860778809, 'learning_rate': 3e-05, 'epoch': 1.57}\n"
     ]
    },
    {
     "name": "stderr",
     "output_type": "stream",
     "text": [
      " 53%|█████▎    | 1420/2700 [42:37<36:12,  1.70s/it]"
     ]
    },
    {
     "name": "stdout",
     "output_type": "stream",
     "text": [
      "{'loss': 0.5359, 'grad_norm': 14.427935600280762, 'learning_rate': 3e-05, 'epoch': 1.58}\n"
     ]
    },
    {
     "name": "stderr",
     "output_type": "stream",
     "text": [
      " 53%|█████▎    | 1430/2700 [42:54<35:50,  1.69s/it]"
     ]
    },
    {
     "name": "stdout",
     "output_type": "stream",
     "text": [
      "{'loss': 0.6735, 'grad_norm': 13.122344017028809, 'learning_rate': 3e-05, 'epoch': 1.59}\n"
     ]
    },
    {
     "name": "stderr",
     "output_type": "stream",
     "text": [
      " 53%|█████▎    | 1440/2700 [43:11<35:38,  1.70s/it]"
     ]
    },
    {
     "name": "stdout",
     "output_type": "stream",
     "text": [
      "{'loss': 0.7056, 'grad_norm': 13.85396671295166, 'learning_rate': 3e-05, 'epoch': 1.6}\n"
     ]
    },
    {
     "name": "stderr",
     "output_type": "stream",
     "text": [
      " 54%|█████▎    | 1450/2700 [43:28<35:05,  1.68s/it]"
     ]
    },
    {
     "name": "stdout",
     "output_type": "stream",
     "text": [
      "{'loss': 0.7433, 'grad_norm': 14.293429374694824, 'learning_rate': 3e-05, 'epoch': 1.61}\n"
     ]
    },
    {
     "name": "stderr",
     "output_type": "stream",
     "text": [
      " 54%|█████▍    | 1460/2700 [43:45<35:03,  1.70s/it]"
     ]
    },
    {
     "name": "stdout",
     "output_type": "stream",
     "text": [
      "{'loss': 0.5852, 'grad_norm': 9.674415588378906, 'learning_rate': 3e-05, 'epoch': 1.62}\n"
     ]
    },
    {
     "name": "stderr",
     "output_type": "stream",
     "text": [
      " 54%|█████▍    | 1470/2700 [44:02<34:49,  1.70s/it]"
     ]
    },
    {
     "name": "stdout",
     "output_type": "stream",
     "text": [
      "{'loss': 0.5287, 'grad_norm': 7.6532182693481445, 'learning_rate': 3e-05, 'epoch': 1.63}\n"
     ]
    },
    {
     "name": "stderr",
     "output_type": "stream",
     "text": [
      " 55%|█████▍    | 1480/2700 [44:19<34:30,  1.70s/it]"
     ]
    },
    {
     "name": "stdout",
     "output_type": "stream",
     "text": [
      "{'loss': 0.6403, 'grad_norm': 12.074369430541992, 'learning_rate': 3e-05, 'epoch': 1.64}\n"
     ]
    },
    {
     "name": "stderr",
     "output_type": "stream",
     "text": [
      " 55%|█████▌    | 1490/2700 [44:36<34:08,  1.69s/it]"
     ]
    },
    {
     "name": "stdout",
     "output_type": "stream",
     "text": [
      "{'loss': 0.5823, 'grad_norm': 16.985307693481445, 'learning_rate': 3e-05, 'epoch': 1.66}\n"
     ]
    },
    {
     "name": "stderr",
     "output_type": "stream",
     "text": [
      " 56%|█████▌    | 1500/2700 [44:53<33:57,  1.70s/it]"
     ]
    },
    {
     "name": "stdout",
     "output_type": "stream",
     "text": [
      "{'loss': 0.6263, 'grad_norm': 15.248311996459961, 'learning_rate': 3e-05, 'epoch': 1.67}\n"
     ]
    },
    {
     "name": "stderr",
     "output_type": "stream",
     "text": [
      " 56%|█████▌    | 1510/2700 [45:10<33:40,  1.70s/it]"
     ]
    },
    {
     "name": "stdout",
     "output_type": "stream",
     "text": [
      "{'loss': 0.7252, 'grad_norm': 15.501116752624512, 'learning_rate': 3e-05, 'epoch': 1.68}\n"
     ]
    },
    {
     "name": "stderr",
     "output_type": "stream",
     "text": [
      " 56%|█████▋    | 1520/2700 [45:27<33:16,  1.69s/it]"
     ]
    },
    {
     "name": "stdout",
     "output_type": "stream",
     "text": [
      "{'loss': 0.5481, 'grad_norm': 11.180646896362305, 'learning_rate': 3e-05, 'epoch': 1.69}\n"
     ]
    },
    {
     "name": "stderr",
     "output_type": "stream",
     "text": [
      " 57%|█████▋    | 1530/2700 [45:44<33:10,  1.70s/it]"
     ]
    },
    {
     "name": "stdout",
     "output_type": "stream",
     "text": [
      "{'loss': 0.5873, 'grad_norm': 16.084623336791992, 'learning_rate': 3e-05, 'epoch': 1.7}\n"
     ]
    },
    {
     "name": "stderr",
     "output_type": "stream",
     "text": [
      " 57%|█████▋    | 1540/2700 [46:01<32:40,  1.69s/it]"
     ]
    },
    {
     "name": "stdout",
     "output_type": "stream",
     "text": [
      "{'loss': 0.4922, 'grad_norm': 6.710292816162109, 'learning_rate': 3e-05, 'epoch': 1.71}\n"
     ]
    },
    {
     "name": "stderr",
     "output_type": "stream",
     "text": [
      " 57%|█████▋    | 1550/2700 [46:18<32:32,  1.70s/it]"
     ]
    },
    {
     "name": "stdout",
     "output_type": "stream",
     "text": [
      "{'loss': 0.7313, 'grad_norm': 6.740438461303711, 'learning_rate': 3e-05, 'epoch': 1.72}\n"
     ]
    },
    {
     "name": "stderr",
     "output_type": "stream",
     "text": [
      " 58%|█████▊    | 1560/2700 [46:35<32:19,  1.70s/it]"
     ]
    },
    {
     "name": "stdout",
     "output_type": "stream",
     "text": [
      "{'loss': 0.532, 'grad_norm': 6.834597110748291, 'learning_rate': 3e-05, 'epoch': 1.73}\n"
     ]
    },
    {
     "name": "stderr",
     "output_type": "stream",
     "text": [
      " 58%|█████▊    | 1570/2700 [46:52<31:49,  1.69s/it]"
     ]
    },
    {
     "name": "stdout",
     "output_type": "stream",
     "text": [
      "{'loss': 0.6658, 'grad_norm': 11.269732475280762, 'learning_rate': 3e-05, 'epoch': 1.74}\n"
     ]
    },
    {
     "name": "stderr",
     "output_type": "stream",
     "text": [
      " 59%|█████▊    | 1580/2700 [47:09<31:42,  1.70s/it]"
     ]
    },
    {
     "name": "stdout",
     "output_type": "stream",
     "text": [
      "{'loss': 0.4984, 'grad_norm': 10.65108871459961, 'learning_rate': 3e-05, 'epoch': 1.76}\n"
     ]
    },
    {
     "name": "stderr",
     "output_type": "stream",
     "text": [
      " 59%|█████▉    | 1590/2700 [47:26<31:32,  1.70s/it]"
     ]
    },
    {
     "name": "stdout",
     "output_type": "stream",
     "text": [
      "{'loss': 0.5997, 'grad_norm': 10.079826354980469, 'learning_rate': 3e-05, 'epoch': 1.77}\n"
     ]
    },
    {
     "name": "stderr",
     "output_type": "stream",
     "text": [
      " 59%|█████▉    | 1600/2700 [47:43<31:05,  1.70s/it]"
     ]
    },
    {
     "name": "stdout",
     "output_type": "stream",
     "text": [
      "{'loss': 0.5326, 'grad_norm': 8.51492691040039, 'learning_rate': 3e-05, 'epoch': 1.78}\n"
     ]
    },
    {
     "name": "stderr",
     "output_type": "stream",
     "text": [
      " 60%|█████▉    | 1610/2700 [48:00<30:50,  1.70s/it]"
     ]
    },
    {
     "name": "stdout",
     "output_type": "stream",
     "text": [
      "{'loss': 0.5675, 'grad_norm': 23.380624771118164, 'learning_rate': 3e-05, 'epoch': 1.79}\n"
     ]
    },
    {
     "name": "stderr",
     "output_type": "stream",
     "text": [
      " 60%|██████    | 1620/2700 [48:17<30:29,  1.69s/it]"
     ]
    },
    {
     "name": "stdout",
     "output_type": "stream",
     "text": [
      "{'loss': 0.5182, 'grad_norm': 16.90860939025879, 'learning_rate': 3e-05, 'epoch': 1.8}\n"
     ]
    },
    {
     "name": "stderr",
     "output_type": "stream",
     "text": [
      " 60%|██████    | 1630/2700 [48:33<30:10,  1.69s/it]"
     ]
    },
    {
     "name": "stdout",
     "output_type": "stream",
     "text": [
      "{'loss': 0.3997, 'grad_norm': 27.73160171508789, 'learning_rate': 3e-05, 'epoch': 1.81}\n"
     ]
    },
    {
     "name": "stderr",
     "output_type": "stream",
     "text": [
      " 61%|██████    | 1640/2700 [48:50<30:03,  1.70s/it]"
     ]
    },
    {
     "name": "stdout",
     "output_type": "stream",
     "text": [
      "{'loss': 0.3612, 'grad_norm': 16.28911590576172, 'learning_rate': 3e-05, 'epoch': 1.82}\n"
     ]
    },
    {
     "name": "stderr",
     "output_type": "stream",
     "text": [
      " 61%|██████    | 1650/2700 [49:07<29:36,  1.69s/it]"
     ]
    },
    {
     "name": "stdout",
     "output_type": "stream",
     "text": [
      "{'loss': 0.5389, 'grad_norm': 9.44070053100586, 'learning_rate': 3e-05, 'epoch': 1.83}\n"
     ]
    },
    {
     "name": "stderr",
     "output_type": "stream",
     "text": [
      " 61%|██████▏   | 1660/2700 [49:24<29:21,  1.69s/it]"
     ]
    },
    {
     "name": "stdout",
     "output_type": "stream",
     "text": [
      "{'loss': 0.8756, 'grad_norm': 13.458518028259277, 'learning_rate': 3e-05, 'epoch': 1.84}\n"
     ]
    },
    {
     "name": "stderr",
     "output_type": "stream",
     "text": [
      " 62%|██████▏   | 1670/2700 [49:41<29:04,  1.69s/it]"
     ]
    },
    {
     "name": "stdout",
     "output_type": "stream",
     "text": [
      "{'loss': 0.4986, 'grad_norm': 12.669529914855957, 'learning_rate': 3e-05, 'epoch': 1.86}\n"
     ]
    },
    {
     "name": "stderr",
     "output_type": "stream",
     "text": [
      " 62%|██████▏   | 1680/2700 [49:58<28:47,  1.69s/it]"
     ]
    },
    {
     "name": "stdout",
     "output_type": "stream",
     "text": [
      "{'loss': 0.5936, 'grad_norm': 15.629749298095703, 'learning_rate': 3e-05, 'epoch': 1.87}\n"
     ]
    },
    {
     "name": "stderr",
     "output_type": "stream",
     "text": [
      " 63%|██████▎   | 1690/2700 [50:15<28:34,  1.70s/it]"
     ]
    },
    {
     "name": "stdout",
     "output_type": "stream",
     "text": [
      "{'loss': 0.6216, 'grad_norm': 13.081631660461426, 'learning_rate': 3e-05, 'epoch': 1.88}\n"
     ]
    },
    {
     "name": "stderr",
     "output_type": "stream",
     "text": [
      " 63%|██████▎   | 1700/2700 [50:32<28:13,  1.69s/it]"
     ]
    },
    {
     "name": "stdout",
     "output_type": "stream",
     "text": [
      "{'loss': 0.5022, 'grad_norm': 20.43929100036621, 'learning_rate': 3e-05, 'epoch': 1.89}\n"
     ]
    },
    {
     "name": "stderr",
     "output_type": "stream",
     "text": [
      " 63%|██████▎   | 1710/2700 [50:49<27:55,  1.69s/it]"
     ]
    },
    {
     "name": "stdout",
     "output_type": "stream",
     "text": [
      "{'loss': 0.4761, 'grad_norm': 8.022514343261719, 'learning_rate': 3e-05, 'epoch': 1.9}\n"
     ]
    },
    {
     "name": "stderr",
     "output_type": "stream",
     "text": [
      " 64%|██████▎   | 1720/2700 [51:06<27:38,  1.69s/it]"
     ]
    },
    {
     "name": "stdout",
     "output_type": "stream",
     "text": [
      "{'loss': 0.6744, 'grad_norm': 10.52302074432373, 'learning_rate': 3e-05, 'epoch': 1.91}\n"
     ]
    },
    {
     "name": "stderr",
     "output_type": "stream",
     "text": [
      " 64%|██████▍   | 1730/2700 [51:23<27:22,  1.69s/it]"
     ]
    },
    {
     "name": "stdout",
     "output_type": "stream",
     "text": [
      "{'loss': 0.6559, 'grad_norm': 6.229948997497559, 'learning_rate': 3e-05, 'epoch': 1.92}\n"
     ]
    },
    {
     "name": "stderr",
     "output_type": "stream",
     "text": [
      " 64%|██████▍   | 1740/2700 [51:40<27:11,  1.70s/it]"
     ]
    },
    {
     "name": "stdout",
     "output_type": "stream",
     "text": [
      "{'loss': 0.3451, 'grad_norm': 19.975238800048828, 'learning_rate': 3e-05, 'epoch': 1.93}\n"
     ]
    },
    {
     "name": "stderr",
     "output_type": "stream",
     "text": [
      " 65%|██████▍   | 1750/2700 [51:57<26:51,  1.70s/it]"
     ]
    },
    {
     "name": "stdout",
     "output_type": "stream",
     "text": [
      "{'loss': 0.565, 'grad_norm': 28.724090576171875, 'learning_rate': 3e-05, 'epoch': 1.94}\n"
     ]
    },
    {
     "name": "stderr",
     "output_type": "stream",
     "text": [
      " 65%|██████▌   | 1760/2700 [52:14<26:29,  1.69s/it]"
     ]
    },
    {
     "name": "stdout",
     "output_type": "stream",
     "text": [
      "{'loss': 0.5762, 'grad_norm': 30.053682327270508, 'learning_rate': 3e-05, 'epoch': 1.96}\n"
     ]
    },
    {
     "name": "stderr",
     "output_type": "stream",
     "text": [
      " 66%|██████▌   | 1770/2700 [52:31<26:13,  1.69s/it]"
     ]
    },
    {
     "name": "stdout",
     "output_type": "stream",
     "text": [
      "{'loss': 0.6969, 'grad_norm': 25.58304214477539, 'learning_rate': 3e-05, 'epoch': 1.97}\n"
     ]
    },
    {
     "name": "stderr",
     "output_type": "stream",
     "text": [
      " 66%|██████▌   | 1780/2700 [52:48<26:00,  1.70s/it]"
     ]
    },
    {
     "name": "stdout",
     "output_type": "stream",
     "text": [
      "{'loss': 0.5483, 'grad_norm': 8.064355850219727, 'learning_rate': 3e-05, 'epoch': 1.98}\n"
     ]
    },
    {
     "name": "stderr",
     "output_type": "stream",
     "text": [
      " 66%|██████▋   | 1790/2700 [53:04<25:42,  1.70s/it]"
     ]
    },
    {
     "name": "stdout",
     "output_type": "stream",
     "text": [
      "{'loss': 0.4006, 'grad_norm': 19.82209014892578, 'learning_rate': 3e-05, 'epoch': 1.99}\n"
     ]
    },
    {
     "name": "stderr",
     "output_type": "stream",
     "text": [
      " 67%|██████▋   | 1800/2700 [53:21<25:24,  1.69s/it]"
     ]
    },
    {
     "name": "stdout",
     "output_type": "stream",
     "text": [
      "{'loss': 0.5972, 'grad_norm': 17.714855194091797, 'learning_rate': 3e-05, 'epoch': 2.0}\n"
     ]
    },
    {
     "name": "stderr",
     "output_type": "stream",
     "text": [
      "\n",
      " 67%|██████▋   | 1800/2700 [55:50<25:24,  1.69s/it]"
     ]
    },
    {
     "name": "stdout",
     "output_type": "stream",
     "text": [
      "{'eval_loss': 0.5915368795394897, 'eval_runtime': 148.9986, 'eval_samples_per_second': 12.087, 'eval_steps_per_second': 6.047, 'epoch': 2.0}\n"
     ]
    },
    {
     "name": "stderr",
     "output_type": "stream",
     "text": [
      " 67%|██████▋   | 1810/2700 [56:09<52:11,  3.52s/it]   "
     ]
    },
    {
     "name": "stdout",
     "output_type": "stream",
     "text": [
      "{'loss': 0.6032, 'grad_norm': 31.9995174407959, 'learning_rate': 3e-05, 'epoch': 2.01}\n"
     ]
    },
    {
     "name": "stderr",
     "output_type": "stream",
     "text": [
      " 67%|██████▋   | 1820/2700 [56:26<25:34,  1.74s/it]"
     ]
    },
    {
     "name": "stdout",
     "output_type": "stream",
     "text": [
      "{'loss': 0.5263, 'grad_norm': 2.9962635040283203, 'learning_rate': 3e-05, 'epoch': 2.02}\n"
     ]
    },
    {
     "name": "stderr",
     "output_type": "stream",
     "text": [
      " 68%|██████▊   | 1830/2700 [56:43<24:21,  1.68s/it]"
     ]
    },
    {
     "name": "stdout",
     "output_type": "stream",
     "text": [
      "{'loss': 0.3046, 'grad_norm': 15.688782691955566, 'learning_rate': 3e-05, 'epoch': 2.03}\n"
     ]
    },
    {
     "name": "stderr",
     "output_type": "stream",
     "text": [
      " 68%|██████▊   | 1840/2700 [57:00<24:15,  1.69s/it]"
     ]
    },
    {
     "name": "stdout",
     "output_type": "stream",
     "text": [
      "{'loss': 0.3713, 'grad_norm': 36.52560806274414, 'learning_rate': 3e-05, 'epoch': 2.04}\n"
     ]
    },
    {
     "name": "stderr",
     "output_type": "stream",
     "text": [
      " 69%|██████▊   | 1850/2700 [57:17<24:05,  1.70s/it]"
     ]
    },
    {
     "name": "stdout",
     "output_type": "stream",
     "text": [
      "{'loss': 0.4907, 'grad_norm': 11.224919319152832, 'learning_rate': 3e-05, 'epoch': 2.06}\n"
     ]
    },
    {
     "name": "stderr",
     "output_type": "stream",
     "text": [
      " 69%|██████▉   | 1860/2700 [57:34<23:45,  1.70s/it]"
     ]
    },
    {
     "name": "stdout",
     "output_type": "stream",
     "text": [
      "{'loss': 0.4916, 'grad_norm': 23.48061180114746, 'learning_rate': 3e-05, 'epoch': 2.07}\n"
     ]
    },
    {
     "name": "stderr",
     "output_type": "stream",
     "text": [
      " 69%|██████▉   | 1870/2700 [57:51<23:25,  1.69s/it]"
     ]
    },
    {
     "name": "stdout",
     "output_type": "stream",
     "text": [
      "{'loss': 0.5083, 'grad_norm': 10.49889087677002, 'learning_rate': 3e-05, 'epoch': 2.08}\n"
     ]
    },
    {
     "name": "stderr",
     "output_type": "stream",
     "text": [
      " 70%|██████▉   | 1880/2700 [58:08<23:12,  1.70s/it]"
     ]
    },
    {
     "name": "stdout",
     "output_type": "stream",
     "text": [
      "{'loss': 0.4852, 'grad_norm': 16.736125946044922, 'learning_rate': 3e-05, 'epoch': 2.09}\n"
     ]
    },
    {
     "name": "stderr",
     "output_type": "stream",
     "text": [
      " 70%|███████   | 1890/2700 [58:25<22:52,  1.69s/it]"
     ]
    },
    {
     "name": "stdout",
     "output_type": "stream",
     "text": [
      "{'loss': 0.4544, 'grad_norm': 17.880229949951172, 'learning_rate': 3e-05, 'epoch': 2.1}\n"
     ]
    },
    {
     "name": "stderr",
     "output_type": "stream",
     "text": [
      " 70%|███████   | 1900/2700 [58:41<22:36,  1.70s/it]"
     ]
    },
    {
     "name": "stdout",
     "output_type": "stream",
     "text": [
      "{'loss': 0.4231, 'grad_norm': 19.788908004760742, 'learning_rate': 3e-05, 'epoch': 2.11}\n"
     ]
    },
    {
     "name": "stderr",
     "output_type": "stream",
     "text": [
      " 71%|███████   | 1910/2700 [58:58<22:17,  1.69s/it]"
     ]
    },
    {
     "name": "stdout",
     "output_type": "stream",
     "text": [
      "{'loss': 0.6107, 'grad_norm': 21.593217849731445, 'learning_rate': 3e-05, 'epoch': 2.12}\n"
     ]
    },
    {
     "name": "stderr",
     "output_type": "stream",
     "text": [
      " 71%|███████   | 1920/2700 [59:15<21:59,  1.69s/it]"
     ]
    },
    {
     "name": "stdout",
     "output_type": "stream",
     "text": [
      "{'loss': 0.3728, 'grad_norm': 6.178898334503174, 'learning_rate': 3e-05, 'epoch': 2.13}\n"
     ]
    },
    {
     "name": "stderr",
     "output_type": "stream",
     "text": [
      " 71%|███████▏  | 1930/2700 [59:32<21:42,  1.69s/it]"
     ]
    },
    {
     "name": "stdout",
     "output_type": "stream",
     "text": [
      "{'loss': 0.458, 'grad_norm': 9.196873664855957, 'learning_rate': 3e-05, 'epoch': 2.14}\n"
     ]
    },
    {
     "name": "stderr",
     "output_type": "stream",
     "text": [
      " 72%|███████▏  | 1940/2700 [59:49<21:27,  1.69s/it]"
     ]
    },
    {
     "name": "stdout",
     "output_type": "stream",
     "text": [
      "{'loss': 0.5093, 'grad_norm': 33.94918441772461, 'learning_rate': 3e-05, 'epoch': 2.16}\n"
     ]
    },
    {
     "name": "stderr",
     "output_type": "stream",
     "text": [
      " 72%|███████▏  | 1950/2700 [1:00:06<21:07,  1.69s/it]"
     ]
    },
    {
     "name": "stdout",
     "output_type": "stream",
     "text": [
      "{'loss': 0.4845, 'grad_norm': 7.122928619384766, 'learning_rate': 3e-05, 'epoch': 2.17}\n"
     ]
    },
    {
     "name": "stderr",
     "output_type": "stream",
     "text": [
      " 73%|███████▎  | 1960/2700 [1:00:23<20:51,  1.69s/it]"
     ]
    },
    {
     "name": "stdout",
     "output_type": "stream",
     "text": [
      "{'loss': 0.3306, 'grad_norm': 3.465282917022705, 'learning_rate': 3e-05, 'epoch': 2.18}\n"
     ]
    },
    {
     "name": "stderr",
     "output_type": "stream",
     "text": [
      " 73%|███████▎  | 1970/2700 [1:00:40<20:35,  1.69s/it]"
     ]
    },
    {
     "name": "stdout",
     "output_type": "stream",
     "text": [
      "{'loss': 0.5494, 'grad_norm': 24.419513702392578, 'learning_rate': 3e-05, 'epoch': 2.19}\n"
     ]
    },
    {
     "name": "stderr",
     "output_type": "stream",
     "text": [
      " 73%|███████▎  | 1980/2700 [1:00:57<20:18,  1.69s/it]"
     ]
    },
    {
     "name": "stdout",
     "output_type": "stream",
     "text": [
      "{'loss': 0.3876, 'grad_norm': 18.48320960998535, 'learning_rate': 3e-05, 'epoch': 2.2}\n"
     ]
    },
    {
     "name": "stderr",
     "output_type": "stream",
     "text": [
      " 74%|███████▎  | 1990/2700 [1:01:14<20:03,  1.69s/it]"
     ]
    },
    {
     "name": "stdout",
     "output_type": "stream",
     "text": [
      "{'loss': 0.7624, 'grad_norm': 17.878894805908203, 'learning_rate': 3e-05, 'epoch': 2.21}\n"
     ]
    },
    {
     "name": "stderr",
     "output_type": "stream",
     "text": [
      " 74%|███████▍  | 2000/2700 [1:01:31<19:44,  1.69s/it]"
     ]
    },
    {
     "name": "stdout",
     "output_type": "stream",
     "text": [
      "{'loss': 0.6692, 'grad_norm': 15.850090026855469, 'learning_rate': 3e-05, 'epoch': 2.22}\n"
     ]
    },
    {
     "name": "stderr",
     "output_type": "stream",
     "text": [
      " 74%|███████▍  | 2010/2700 [1:01:48<19:28,  1.69s/it]"
     ]
    },
    {
     "name": "stdout",
     "output_type": "stream",
     "text": [
      "{'loss': 0.4328, 'grad_norm': 25.146583557128906, 'learning_rate': 3e-05, 'epoch': 2.23}\n"
     ]
    },
    {
     "name": "stderr",
     "output_type": "stream",
     "text": [
      " 75%|███████▍  | 2020/2700 [1:02:05<19:12,  1.69s/it]"
     ]
    },
    {
     "name": "stdout",
     "output_type": "stream",
     "text": [
      "{'loss': 0.4605, 'grad_norm': 14.31721019744873, 'learning_rate': 3e-05, 'epoch': 2.24}\n"
     ]
    },
    {
     "name": "stderr",
     "output_type": "stream",
     "text": [
      " 75%|███████▌  | 2030/2700 [1:02:21<18:45,  1.68s/it]"
     ]
    },
    {
     "name": "stdout",
     "output_type": "stream",
     "text": [
      "{'loss': 0.5522, 'grad_norm': 23.200979232788086, 'learning_rate': 3e-05, 'epoch': 2.26}\n"
     ]
    },
    {
     "name": "stderr",
     "output_type": "stream",
     "text": [
      " 76%|███████▌  | 2040/2700 [1:02:38<18:36,  1.69s/it]"
     ]
    },
    {
     "name": "stdout",
     "output_type": "stream",
     "text": [
      "{'loss': 0.5176, 'grad_norm': 29.245201110839844, 'learning_rate': 3e-05, 'epoch': 2.27}\n"
     ]
    },
    {
     "name": "stderr",
     "output_type": "stream",
     "text": [
      " 76%|███████▌  | 2050/2700 [1:02:55<18:24,  1.70s/it]"
     ]
    },
    {
     "name": "stdout",
     "output_type": "stream",
     "text": [
      "{'loss': 0.311, 'grad_norm': 30.611705780029297, 'learning_rate': 3e-05, 'epoch': 2.28}\n"
     ]
    },
    {
     "name": "stderr",
     "output_type": "stream",
     "text": [
      " 76%|███████▋  | 2060/2700 [1:03:12<18:03,  1.69s/it]"
     ]
    },
    {
     "name": "stdout",
     "output_type": "stream",
     "text": [
      "{'loss': 0.4088, 'grad_norm': 18.780147552490234, 'learning_rate': 3e-05, 'epoch': 2.29}\n"
     ]
    },
    {
     "name": "stderr",
     "output_type": "stream",
     "text": [
      " 77%|███████▋  | 2070/2700 [1:03:29<17:47,  1.69s/it]"
     ]
    },
    {
     "name": "stdout",
     "output_type": "stream",
     "text": [
      "{'loss': 0.4184, 'grad_norm': 33.60594177246094, 'learning_rate': 3e-05, 'epoch': 2.3}\n"
     ]
    },
    {
     "name": "stderr",
     "output_type": "stream",
     "text": [
      " 77%|███████▋  | 2080/2700 [1:03:46<17:32,  1.70s/it]"
     ]
    },
    {
     "name": "stdout",
     "output_type": "stream",
     "text": [
      "{'loss': 0.5645, 'grad_norm': 38.74845886230469, 'learning_rate': 3e-05, 'epoch': 2.31}\n"
     ]
    },
    {
     "name": "stderr",
     "output_type": "stream",
     "text": [
      " 77%|███████▋  | 2090/2700 [1:04:03<17:11,  1.69s/it]"
     ]
    },
    {
     "name": "stdout",
     "output_type": "stream",
     "text": [
      "{'loss': 0.4782, 'grad_norm': 12.316737174987793, 'learning_rate': 3e-05, 'epoch': 2.32}\n"
     ]
    },
    {
     "name": "stderr",
     "output_type": "stream",
     "text": [
      " 78%|███████▊  | 2100/2700 [1:04:20<16:57,  1.70s/it]"
     ]
    },
    {
     "name": "stdout",
     "output_type": "stream",
     "text": [
      "{'loss': 0.846, 'grad_norm': 21.445486068725586, 'learning_rate': 3e-05, 'epoch': 2.33}\n"
     ]
    },
    {
     "name": "stderr",
     "output_type": "stream",
     "text": [
      " 78%|███████▊  | 2110/2700 [1:04:37<16:42,  1.70s/it]"
     ]
    },
    {
     "name": "stdout",
     "output_type": "stream",
     "text": [
      "{'loss': 0.3157, 'grad_norm': 22.99542236328125, 'learning_rate': 3e-05, 'epoch': 2.34}\n"
     ]
    },
    {
     "name": "stderr",
     "output_type": "stream",
     "text": [
      " 79%|███████▊  | 2120/2700 [1:04:54<16:22,  1.69s/it]"
     ]
    },
    {
     "name": "stdout",
     "output_type": "stream",
     "text": [
      "{'loss': 0.4832, 'grad_norm': 35.8415412902832, 'learning_rate': 3e-05, 'epoch': 2.36}\n"
     ]
    },
    {
     "name": "stderr",
     "output_type": "stream",
     "text": [
      " 79%|███████▉  | 2130/2700 [1:05:11<16:11,  1.70s/it]"
     ]
    },
    {
     "name": "stdout",
     "output_type": "stream",
     "text": [
      "{'loss': 0.4836, 'grad_norm': 32.943912506103516, 'learning_rate': 3e-05, 'epoch': 2.37}\n"
     ]
    },
    {
     "name": "stderr",
     "output_type": "stream",
     "text": [
      " 79%|███████▉  | 2140/2700 [1:05:28<15:46,  1.69s/it]"
     ]
    },
    {
     "name": "stdout",
     "output_type": "stream",
     "text": [
      "{'loss': 0.5448, 'grad_norm': 31.66762351989746, 'learning_rate': 3e-05, 'epoch': 2.38}\n"
     ]
    },
    {
     "name": "stderr",
     "output_type": "stream",
     "text": [
      " 80%|███████▉  | 2150/2700 [1:05:45<15:30,  1.69s/it]"
     ]
    },
    {
     "name": "stdout",
     "output_type": "stream",
     "text": [
      "{'loss': 0.6099, 'grad_norm': 29.3853759765625, 'learning_rate': 3e-05, 'epoch': 2.39}\n"
     ]
    },
    {
     "name": "stderr",
     "output_type": "stream",
     "text": [
      " 80%|████████  | 2160/2700 [1:06:02<15:15,  1.70s/it]"
     ]
    },
    {
     "name": "stdout",
     "output_type": "stream",
     "text": [
      "{'loss': 0.6405, 'grad_norm': 35.12893295288086, 'learning_rate': 3e-05, 'epoch': 2.4}\n"
     ]
    },
    {
     "name": "stderr",
     "output_type": "stream",
     "text": [
      " 80%|████████  | 2170/2700 [1:06:19<15:00,  1.70s/it]"
     ]
    },
    {
     "name": "stdout",
     "output_type": "stream",
     "text": [
      "{'loss': 0.4298, 'grad_norm': 16.04719352722168, 'learning_rate': 3e-05, 'epoch': 2.41}\n"
     ]
    },
    {
     "name": "stderr",
     "output_type": "stream",
     "text": [
      " 81%|████████  | 2180/2700 [1:06:35<14:42,  1.70s/it]"
     ]
    },
    {
     "name": "stdout",
     "output_type": "stream",
     "text": [
      "{'loss': 0.5724, 'grad_norm': 13.543021202087402, 'learning_rate': 3e-05, 'epoch': 2.42}\n"
     ]
    },
    {
     "name": "stderr",
     "output_type": "stream",
     "text": [
      " 81%|████████  | 2190/2700 [1:06:52<14:24,  1.69s/it]"
     ]
    },
    {
     "name": "stdout",
     "output_type": "stream",
     "text": [
      "{'loss': 0.7436, 'grad_norm': 7.066310882568359, 'learning_rate': 3e-05, 'epoch': 2.43}\n"
     ]
    },
    {
     "name": "stderr",
     "output_type": "stream",
     "text": [
      " 81%|████████▏ | 2200/2700 [1:07:09<14:10,  1.70s/it]"
     ]
    },
    {
     "name": "stdout",
     "output_type": "stream",
     "text": [
      "{'loss': 0.4153, 'grad_norm': 4.93094539642334, 'learning_rate': 3e-05, 'epoch': 2.44}\n"
     ]
    },
    {
     "name": "stderr",
     "output_type": "stream",
     "text": [
      " 82%|████████▏ | 2210/2700 [1:07:26<13:51,  1.70s/it]"
     ]
    },
    {
     "name": "stdout",
     "output_type": "stream",
     "text": [
      "{'loss': 0.4645, 'grad_norm': 21.639442443847656, 'learning_rate': 3e-05, 'epoch': 2.46}\n"
     ]
    },
    {
     "name": "stderr",
     "output_type": "stream",
     "text": [
      " 82%|████████▏ | 2220/2700 [1:07:43<13:33,  1.70s/it]"
     ]
    },
    {
     "name": "stdout",
     "output_type": "stream",
     "text": [
      "{'loss': 0.5316, 'grad_norm': 20.512481689453125, 'learning_rate': 3e-05, 'epoch': 2.47}\n"
     ]
    },
    {
     "name": "stderr",
     "output_type": "stream",
     "text": [
      " 83%|████████▎ | 2230/2700 [1:08:00<13:14,  1.69s/it]"
     ]
    },
    {
     "name": "stdout",
     "output_type": "stream",
     "text": [
      "{'loss': 0.5251, 'grad_norm': 13.33505630493164, 'learning_rate': 3e-05, 'epoch': 2.48}\n"
     ]
    },
    {
     "name": "stderr",
     "output_type": "stream",
     "text": [
      " 83%|████████▎ | 2240/2700 [1:08:17<13:00,  1.70s/it]"
     ]
    },
    {
     "name": "stdout",
     "output_type": "stream",
     "text": [
      "{'loss': 0.4987, 'grad_norm': 13.4961576461792, 'learning_rate': 3e-05, 'epoch': 2.49}\n"
     ]
    },
    {
     "name": "stderr",
     "output_type": "stream",
     "text": [
      " 83%|████████▎ | 2250/2700 [1:08:34<12:43,  1.70s/it]"
     ]
    },
    {
     "name": "stdout",
     "output_type": "stream",
     "text": [
      "{'loss': 0.5553, 'grad_norm': 51.2979850769043, 'learning_rate': 3e-05, 'epoch': 2.5}\n"
     ]
    },
    {
     "name": "stderr",
     "output_type": "stream",
     "text": [
      " 84%|████████▎ | 2260/2700 [1:08:51<12:25,  1.69s/it]"
     ]
    },
    {
     "name": "stdout",
     "output_type": "stream",
     "text": [
      "{'loss': 0.5644, 'grad_norm': 13.371354103088379, 'learning_rate': 3e-05, 'epoch': 2.51}\n"
     ]
    },
    {
     "name": "stderr",
     "output_type": "stream",
     "text": [
      " 84%|████████▍ | 2270/2700 [1:09:08<12:09,  1.70s/it]"
     ]
    },
    {
     "name": "stdout",
     "output_type": "stream",
     "text": [
      "{'loss': 0.6319, 'grad_norm': 20.594791412353516, 'learning_rate': 3e-05, 'epoch': 2.52}\n"
     ]
    },
    {
     "name": "stderr",
     "output_type": "stream",
     "text": [
      " 84%|████████▍ | 2280/2700 [1:09:25<11:51,  1.69s/it]"
     ]
    },
    {
     "name": "stdout",
     "output_type": "stream",
     "text": [
      "{'loss': 0.584, 'grad_norm': 32.28022766113281, 'learning_rate': 3e-05, 'epoch': 2.53}\n"
     ]
    },
    {
     "name": "stderr",
     "output_type": "stream",
     "text": [
      " 85%|████████▍ | 2290/2700 [1:09:42<11:36,  1.70s/it]"
     ]
    },
    {
     "name": "stdout",
     "output_type": "stream",
     "text": [
      "{'loss': 0.4947, 'grad_norm': 12.181084632873535, 'learning_rate': 3e-05, 'epoch': 2.54}\n"
     ]
    },
    {
     "name": "stderr",
     "output_type": "stream",
     "text": [
      " 85%|████████▌ | 2300/2700 [1:09:59<11:17,  1.69s/it]"
     ]
    },
    {
     "name": "stdout",
     "output_type": "stream",
     "text": [
      "{'loss': 0.3883, 'grad_norm': 19.67234230041504, 'learning_rate': 3e-05, 'epoch': 2.56}\n"
     ]
    },
    {
     "name": "stderr",
     "output_type": "stream",
     "text": [
      " 86%|████████▌ | 2310/2700 [1:10:16<10:59,  1.69s/it]"
     ]
    },
    {
     "name": "stdout",
     "output_type": "stream",
     "text": [
      "{'loss': 0.2776, 'grad_norm': 5.481626033782959, 'learning_rate': 3e-05, 'epoch': 2.57}\n"
     ]
    },
    {
     "name": "stderr",
     "output_type": "stream",
     "text": [
      " 86%|████████▌ | 2320/2700 [1:10:33<10:42,  1.69s/it]"
     ]
    },
    {
     "name": "stdout",
     "output_type": "stream",
     "text": [
      "{'loss': 0.3874, 'grad_norm': inf, 'learning_rate': 3e-05, 'epoch': 2.58}\n"
     ]
    },
    {
     "name": "stderr",
     "output_type": "stream",
     "text": [
      " 86%|████████▋ | 2330/2700 [1:10:50<10:27,  1.70s/it]"
     ]
    },
    {
     "name": "stdout",
     "output_type": "stream",
     "text": [
      "{'loss': 0.4721, 'grad_norm': 8.11677360534668, 'learning_rate': 3e-05, 'epoch': 2.59}\n"
     ]
    },
    {
     "name": "stderr",
     "output_type": "stream",
     "text": [
      " 87%|████████▋ | 2340/2700 [1:11:07<10:10,  1.69s/it]"
     ]
    },
    {
     "name": "stdout",
     "output_type": "stream",
     "text": [
      "{'loss': 0.3537, 'grad_norm': 31.893033981323242, 'learning_rate': 3e-05, 'epoch': 2.6}\n"
     ]
    },
    {
     "name": "stderr",
     "output_type": "stream",
     "text": [
      " 87%|████████▋ | 2350/2700 [1:11:23<09:53,  1.69s/it]"
     ]
    },
    {
     "name": "stdout",
     "output_type": "stream",
     "text": [
      "{'loss': 0.2165, 'grad_norm': 6.986668586730957, 'learning_rate': 3e-05, 'epoch': 2.61}\n"
     ]
    },
    {
     "name": "stderr",
     "output_type": "stream",
     "text": [
      " 87%|████████▋ | 2360/2700 [1:11:40<09:36,  1.70s/it]"
     ]
    },
    {
     "name": "stdout",
     "output_type": "stream",
     "text": [
      "{'loss': 0.5117, 'grad_norm': 24.394758224487305, 'learning_rate': 3e-05, 'epoch': 2.62}\n"
     ]
    },
    {
     "name": "stderr",
     "output_type": "stream",
     "text": [
      " 88%|████████▊ | 2370/2700 [1:11:57<09:18,  1.69s/it]"
     ]
    },
    {
     "name": "stdout",
     "output_type": "stream",
     "text": [
      "{'loss': 0.6385, 'grad_norm': 2.864692449569702, 'learning_rate': 3e-05, 'epoch': 2.63}\n"
     ]
    },
    {
     "name": "stderr",
     "output_type": "stream",
     "text": [
      " 88%|████████▊ | 2380/2700 [1:12:14<09:03,  1.70s/it]"
     ]
    },
    {
     "name": "stdout",
     "output_type": "stream",
     "text": [
      "{'loss': 0.6123, 'grad_norm': 8.173596382141113, 'learning_rate': 3e-05, 'epoch': 2.64}\n"
     ]
    },
    {
     "name": "stderr",
     "output_type": "stream",
     "text": [
      " 89%|████████▊ | 2390/2700 [1:12:31<08:43,  1.69s/it]"
     ]
    },
    {
     "name": "stdout",
     "output_type": "stream",
     "text": [
      "{'loss': 0.694, 'grad_norm': 17.326812744140625, 'learning_rate': 3e-05, 'epoch': 2.66}\n"
     ]
    },
    {
     "name": "stderr",
     "output_type": "stream",
     "text": [
      " 89%|████████▉ | 2400/2700 [1:12:48<08:27,  1.69s/it]"
     ]
    },
    {
     "name": "stdout",
     "output_type": "stream",
     "text": [
      "{'loss': 0.5147, 'grad_norm': 15.904361724853516, 'learning_rate': 3e-05, 'epoch': 2.67}\n"
     ]
    },
    {
     "name": "stderr",
     "output_type": "stream",
     "text": [
      " 89%|████████▉ | 2410/2700 [1:13:05<08:11,  1.69s/it]"
     ]
    },
    {
     "name": "stdout",
     "output_type": "stream",
     "text": [
      "{'loss': 0.5707, 'grad_norm': 11.132965087890625, 'learning_rate': 3e-05, 'epoch': 2.68}\n"
     ]
    },
    {
     "name": "stderr",
     "output_type": "stream",
     "text": [
      " 90%|████████▉ | 2420/2700 [1:13:22<07:54,  1.70s/it]"
     ]
    },
    {
     "name": "stdout",
     "output_type": "stream",
     "text": [
      "{'loss': 0.3119, 'grad_norm': 1.7227416038513184, 'learning_rate': 3e-05, 'epoch': 2.69}\n"
     ]
    },
    {
     "name": "stderr",
     "output_type": "stream",
     "text": [
      " 90%|█████████ | 2430/2700 [1:13:39<07:38,  1.70s/it]"
     ]
    },
    {
     "name": "stdout",
     "output_type": "stream",
     "text": [
      "{'loss': 0.3397, 'grad_norm': 21.544254302978516, 'learning_rate': 3e-05, 'epoch': 2.7}\n"
     ]
    },
    {
     "name": "stderr",
     "output_type": "stream",
     "text": [
      " 90%|█████████ | 2440/2700 [1:13:56<07:19,  1.69s/it]"
     ]
    },
    {
     "name": "stdout",
     "output_type": "stream",
     "text": [
      "{'loss': 0.5263, 'grad_norm': 10.685531616210938, 'learning_rate': 3e-05, 'epoch': 2.71}\n"
     ]
    },
    {
     "name": "stderr",
     "output_type": "stream",
     "text": [
      " 91%|█████████ | 2450/2700 [1:14:13<07:02,  1.69s/it]"
     ]
    },
    {
     "name": "stdout",
     "output_type": "stream",
     "text": [
      "{'loss': 0.5322, 'grad_norm': 9.497573852539062, 'learning_rate': 3e-05, 'epoch': 2.72}\n"
     ]
    },
    {
     "name": "stderr",
     "output_type": "stream",
     "text": [
      " 91%|█████████ | 2460/2700 [1:14:30<06:47,  1.70s/it]"
     ]
    },
    {
     "name": "stdout",
     "output_type": "stream",
     "text": [
      "{'loss': 0.7006, 'grad_norm': 12.86052417755127, 'learning_rate': 3e-05, 'epoch': 2.73}\n"
     ]
    },
    {
     "name": "stderr",
     "output_type": "stream",
     "text": [
      " 91%|█████████▏| 2470/2700 [1:14:47<06:30,  1.70s/it]"
     ]
    },
    {
     "name": "stdout",
     "output_type": "stream",
     "text": [
      "{'loss': 0.3943, 'grad_norm': 11.097864151000977, 'learning_rate': 3e-05, 'epoch': 2.74}\n"
     ]
    },
    {
     "name": "stderr",
     "output_type": "stream",
     "text": [
      " 92%|█████████▏| 2480/2700 [1:15:04<06:12,  1.69s/it]"
     ]
    },
    {
     "name": "stdout",
     "output_type": "stream",
     "text": [
      "{'loss': 0.4394, 'grad_norm': 14.338196754455566, 'learning_rate': 3e-05, 'epoch': 2.76}\n"
     ]
    },
    {
     "name": "stderr",
     "output_type": "stream",
     "text": [
      " 92%|█████████▏| 2490/2700 [1:15:21<05:57,  1.70s/it]"
     ]
    },
    {
     "name": "stdout",
     "output_type": "stream",
     "text": [
      "{'loss': 0.3786, 'grad_norm': 22.398820877075195, 'learning_rate': 3e-05, 'epoch': 2.77}\n"
     ]
    },
    {
     "name": "stderr",
     "output_type": "stream",
     "text": [
      " 93%|█████████▎| 2500/2700 [1:15:38<05:38,  1.69s/it]"
     ]
    },
    {
     "name": "stdout",
     "output_type": "stream",
     "text": [
      "{'loss': 0.7821, 'grad_norm': 21.2336483001709, 'learning_rate': 3e-05, 'epoch': 2.78}\n"
     ]
    },
    {
     "name": "stderr",
     "output_type": "stream",
     "text": [
      " 93%|█████████▎| 2510/2700 [1:15:55<05:22,  1.70s/it]"
     ]
    },
    {
     "name": "stdout",
     "output_type": "stream",
     "text": [
      "{'loss': 0.4346, 'grad_norm': 17.543264389038086, 'learning_rate': 3e-05, 'epoch': 2.79}\n"
     ]
    },
    {
     "name": "stderr",
     "output_type": "stream",
     "text": [
      " 93%|█████████▎| 2520/2700 [1:16:12<05:05,  1.70s/it]"
     ]
    },
    {
     "name": "stdout",
     "output_type": "stream",
     "text": [
      "{'loss': 0.3634, 'grad_norm': 38.714256286621094, 'learning_rate': 3e-05, 'epoch': 2.8}\n"
     ]
    },
    {
     "name": "stderr",
     "output_type": "stream",
     "text": [
      " 94%|█████████▎| 2530/2700 [1:16:28<04:47,  1.69s/it]"
     ]
    },
    {
     "name": "stdout",
     "output_type": "stream",
     "text": [
      "{'loss': 0.3872, 'grad_norm': 4.941704750061035, 'learning_rate': 3e-05, 'epoch': 2.81}\n"
     ]
    },
    {
     "name": "stderr",
     "output_type": "stream",
     "text": [
      " 94%|█████████▍| 2540/2700 [1:16:45<04:31,  1.70s/it]"
     ]
    },
    {
     "name": "stdout",
     "output_type": "stream",
     "text": [
      "{'loss': 0.3883, 'grad_norm': 21.396713256835938, 'learning_rate': 3e-05, 'epoch': 2.82}\n"
     ]
    },
    {
     "name": "stderr",
     "output_type": "stream",
     "text": [
      " 94%|█████████▍| 2550/2700 [1:17:02<04:13,  1.69s/it]"
     ]
    },
    {
     "name": "stdout",
     "output_type": "stream",
     "text": [
      "{'loss': 0.5389, 'grad_norm': 19.2554874420166, 'learning_rate': 3e-05, 'epoch': 2.83}\n"
     ]
    },
    {
     "name": "stderr",
     "output_type": "stream",
     "text": [
      " 95%|█████████▍| 2560/2700 [1:17:19<03:57,  1.70s/it]"
     ]
    },
    {
     "name": "stdout",
     "output_type": "stream",
     "text": [
      "{'loss': 0.5183, 'grad_norm': 10.557738304138184, 'learning_rate': 3e-05, 'epoch': 2.84}\n"
     ]
    },
    {
     "name": "stderr",
     "output_type": "stream",
     "text": [
      " 95%|█████████▌| 2570/2700 [1:17:36<03:40,  1.69s/it]"
     ]
    },
    {
     "name": "stdout",
     "output_type": "stream",
     "text": [
      "{'loss': 0.5639, 'grad_norm': 25.826622009277344, 'learning_rate': 3e-05, 'epoch': 2.86}\n"
     ]
    },
    {
     "name": "stderr",
     "output_type": "stream",
     "text": [
      " 96%|█████████▌| 2580/2700 [1:17:53<03:23,  1.70s/it]"
     ]
    },
    {
     "name": "stdout",
     "output_type": "stream",
     "text": [
      "{'loss': 0.584, 'grad_norm': 20.841060638427734, 'learning_rate': 3e-05, 'epoch': 2.87}\n"
     ]
    },
    {
     "name": "stderr",
     "output_type": "stream",
     "text": [
      " 96%|█████████▌| 2590/2700 [1:18:10<03:06,  1.69s/it]"
     ]
    },
    {
     "name": "stdout",
     "output_type": "stream",
     "text": [
      "{'loss': 0.4087, 'grad_norm': 7.73178243637085, 'learning_rate': 3e-05, 'epoch': 2.88}\n"
     ]
    },
    {
     "name": "stderr",
     "output_type": "stream",
     "text": [
      " 96%|█████████▋| 2600/2700 [1:18:27<02:49,  1.70s/it]"
     ]
    },
    {
     "name": "stdout",
     "output_type": "stream",
     "text": [
      "{'loss': 0.5397, 'grad_norm': 6.832175254821777, 'learning_rate': 3e-05, 'epoch': 2.89}\n"
     ]
    },
    {
     "name": "stderr",
     "output_type": "stream",
     "text": [
      " 97%|█████████▋| 2610/2700 [1:18:44<02:32,  1.70s/it]"
     ]
    },
    {
     "name": "stdout",
     "output_type": "stream",
     "text": [
      "{'loss': 0.4817, 'grad_norm': 17.84946060180664, 'learning_rate': 3e-05, 'epoch': 2.9}\n"
     ]
    },
    {
     "name": "stderr",
     "output_type": "stream",
     "text": [
      " 97%|█████████▋| 2620/2700 [1:19:01<02:15,  1.69s/it]"
     ]
    },
    {
     "name": "stdout",
     "output_type": "stream",
     "text": [
      "{'loss': 0.5205, 'grad_norm': 6.906545162200928, 'learning_rate': 3e-05, 'epoch': 2.91}\n"
     ]
    },
    {
     "name": "stderr",
     "output_type": "stream",
     "text": [
      " 97%|█████████▋| 2630/2700 [1:19:18<01:58,  1.70s/it]"
     ]
    },
    {
     "name": "stdout",
     "output_type": "stream",
     "text": [
      "{'loss': 0.5474, 'grad_norm': 24.774648666381836, 'learning_rate': 3e-05, 'epoch': 2.92}\n"
     ]
    },
    {
     "name": "stderr",
     "output_type": "stream",
     "text": [
      " 98%|█████████▊| 2640/2700 [1:19:35<01:41,  1.69s/it]"
     ]
    },
    {
     "name": "stdout",
     "output_type": "stream",
     "text": [
      "{'loss': 0.4601, 'grad_norm': 14.284462928771973, 'learning_rate': 3e-05, 'epoch': 2.93}\n"
     ]
    },
    {
     "name": "stderr",
     "output_type": "stream",
     "text": [
      " 98%|█████████▊| 2650/2700 [1:19:52<01:24,  1.70s/it]"
     ]
    },
    {
     "name": "stdout",
     "output_type": "stream",
     "text": [
      "{'loss': 0.4533, 'grad_norm': 13.531791687011719, 'learning_rate': 3e-05, 'epoch': 2.94}\n"
     ]
    },
    {
     "name": "stderr",
     "output_type": "stream",
     "text": [
      " 99%|█████████▊| 2660/2700 [1:20:09<01:07,  1.70s/it]"
     ]
    },
    {
     "name": "stdout",
     "output_type": "stream",
     "text": [
      "{'loss': 0.3374, 'grad_norm': 9.564230918884277, 'learning_rate': 3e-05, 'epoch': 2.96}\n"
     ]
    },
    {
     "name": "stderr",
     "output_type": "stream",
     "text": [
      " 99%|█████████▉| 2670/2700 [1:20:26<00:50,  1.69s/it]"
     ]
    },
    {
     "name": "stdout",
     "output_type": "stream",
     "text": [
      "{'loss': 0.4565, 'grad_norm': 12.344186782836914, 'learning_rate': 3e-05, 'epoch': 2.97}\n"
     ]
    },
    {
     "name": "stderr",
     "output_type": "stream",
     "text": [
      " 99%|█████████▉| 2680/2700 [1:20:43<00:34,  1.71s/it]"
     ]
    },
    {
     "name": "stdout",
     "output_type": "stream",
     "text": [
      "{'loss': 0.4896, 'grad_norm': 28.102771759033203, 'learning_rate': 3e-05, 'epoch': 2.98}\n"
     ]
    },
    {
     "name": "stderr",
     "output_type": "stream",
     "text": [
      "100%|█████████▉| 2690/2700 [1:21:00<00:16,  1.70s/it]"
     ]
    },
    {
     "name": "stdout",
     "output_type": "stream",
     "text": [
      "{'loss': 0.4775, 'grad_norm': 12.020220756530762, 'learning_rate': 3e-05, 'epoch': 2.99}\n"
     ]
    },
    {
     "name": "stderr",
     "output_type": "stream",
     "text": [
      "100%|██████████| 2700/2700 [1:21:17<00:00,  1.69s/it]"
     ]
    },
    {
     "name": "stdout",
     "output_type": "stream",
     "text": [
      "{'loss': 0.3859, 'grad_norm': 3.5067310333251953, 'learning_rate': 3e-05, 'epoch': 3.0}\n"
     ]
    },
    {
     "name": "stderr",
     "output_type": "stream",
     "text": [
      "\n",
      "100%|██████████| 2700/2700 [1:23:48<00:00,  1.69s/it]"
     ]
    },
    {
     "name": "stdout",
     "output_type": "stream",
     "text": [
      "{'eval_loss': 0.7276062965393066, 'eval_runtime': 149.0534, 'eval_samples_per_second': 12.083, 'eval_steps_per_second': 6.045, 'epoch': 3.0}\n"
     ]
    },
    {
     "name": "stderr",
     "output_type": "stream",
     "text": [
      "100%|██████████| 2700/2700 [1:23:49<00:00,  1.86s/it]"
     ]
    },
    {
     "name": "stdout",
     "output_type": "stream",
     "text": [
      "{'train_runtime': 5029.7536, 'train_samples_per_second': 4.294, 'train_steps_per_second': 0.537, 'train_loss': 0.5692158008504797, 'epoch': 3.0}\n"
     ]
    },
    {
     "name": "stderr",
     "output_type": "stream",
     "text": [
      "\n"
     ]
    },
    {
     "data": {
      "text/plain": [
       "TrainOutput(global_step=2700, training_loss=0.5692158008504797, metrics={'train_runtime': 5029.7536, 'train_samples_per_second': 4.294, 'train_steps_per_second': 0.537, 'total_flos': 1.41880968658944e+16, 'train_loss': 0.5692158008504797, 'epoch': 3.0})"
      ]
     },
     "execution_count": 39,
     "metadata": {},
     "output_type": "execute_result"
    }
   ],
   "source": [
    "# Train the model\n",
    "trainer.train()"
   ]
  },
  {
   "cell_type": "code",
   "execution_count": 40,
   "metadata": {},
   "outputs": [
    {
     "name": "stdout",
     "output_type": "stream",
     "text": [
      "Number of training examples: 7200\n",
      "Batch size: 2\n"
     ]
    }
   ],
   "source": [
    "print(f\"Number of training examples: {len(train_dataset)}\")\n",
    "print(f\"Batch size: {training_args.per_device_train_batch_size}\")\n"
   ]
  },
  {
   "cell_type": "code",
   "execution_count": null,
   "metadata": {},
   "outputs": [
    {
     "data": {
      "text/plain": [
       "('./longformer_model2\\\\tokenizer_config.json',\n",
       " './longformer_model2\\\\special_tokens_map.json',\n",
       " './longformer_model2\\\\vocab.json',\n",
       " './longformer_model2\\\\merges.txt',\n",
       " './longformer_model2\\\\added_tokens.json')"
      ]
     },
     "execution_count": 45,
     "metadata": {},
     "output_type": "execute_result"
    }
   ],
   "source": [
    "# Save the trained model and tokenizer\n",
    "model.save_pretrained('./longformer_model2')\n",
    "tokenizer.save_pretrained('./longformer_model2')"
   ]
  },
  {
   "cell_type": "code",
   "execution_count": 42,
   "metadata": {},
   "outputs": [
    {
     "name": "stderr",
     "output_type": "stream",
     "text": [
      "100%|██████████| 901/901 [02:37<00:00,  5.71it/s]\n"
     ]
    }
   ],
   "source": [
    "# Evaluate the model\n",
    "results = trainer.evaluate()"
   ]
  },
  {
   "cell_type": "code",
   "execution_count": 43,
   "metadata": {},
   "outputs": [
    {
     "name": "stdout",
     "output_type": "stream",
     "text": [
      "{'eval_loss': 0.5915368795394897, 'eval_runtime': 158.1829, 'eval_samples_per_second': 11.386, 'eval_steps_per_second': 5.696, 'epoch': 3.0}\n"
     ]
    }
   ],
   "source": [
    "print(results)"
   ]
  },
  {
   "cell_type": "code",
   "execution_count": 44,
   "metadata": {},
   "outputs": [
    {
     "name": "stderr",
     "output_type": "stream",
     "text": [
      "100%|██████████| 901/901 [02:35<00:00,  5.81it/s]"
     ]
    },
    {
     "name": "stdout",
     "output_type": "stream",
     "text": [
      "Accuracy: 0.7629\n"
     ]
    },
    {
     "name": "stderr",
     "output_type": "stream",
     "text": [
      "\n"
     ]
    }
   ],
   "source": [
    "# After training, get predictions on the validation dataset\n",
    "predictions = trainer.predict(val_dataset)\n",
    "\n",
    "# Get the predicted logits\n",
    "logits = predictions.predictions\n",
    "\n",
    "# Convert logits to predicted class labels\n",
    "predicted_labels = np.argmax(logits, axis=1)\n",
    "\n",
    "# Get the true labels\n",
    "true_labels = val_labels\n",
    "\n",
    "# Calculate accuracy\n",
    "accuracy = accuracy_score(true_labels, predicted_labels)\n",
    "\n",
    "print(f\"Accuracy: {accuracy:.4f}\")"
   ]
  },
  {
   "cell_type": "code",
   "execution_count": 10,
   "metadata": {},
   "outputs": [
    {
     "name": "stdout",
     "output_type": "stream",
     "text": [
      "Using device: cuda\n"
     ]
    }
   ],
   "source": [
    "# Check if GPU is available\n",
    "device = \"cuda\" if torch.cuda.is_available() else \"cpu\"\n",
    "print(f\"Using device: {device}\")"
   ]
  },
  {
   "cell_type": "code",
   "execution_count": 12,
   "metadata": {},
   "outputs": [
    {
     "name": "stdout",
     "output_type": "stream",
     "text": [
      "Model and tokenizer successfully loaded!\n",
      "Text 1: AKURAT.CO Menteri Pariwisata dan Ekonomi Kreatif (Menparekraf), Sandiaga Uno berharap, kepemimpinan pemerintah baru bisa melanjutkan program pengembangan destinasi wisata nusantara.  \"Kebijakan kita terkait pariwisata ini juga adalah inklusif membuka kepada semua pihak untuk dapat berpartisipasi. Jangan sampai 10 tahun sudah dibangun dan di penghujung ini narasi kita malah tidak tersampaikan,\" kata Sandiaga di Tangerang, Jumat.  Ia mengatakan, selama sisa masa kepemimpinan Kabinet Indonesia Maju (IKM) yang hanya tersisa sekitar beberapa pekan ini, nantinya dapat diteruskan oleh pemerintah baru yang dipimpin langsung Presiden terpilih Prabowo Subianto.  Dia juga mengatakan, di akhir masa jabatannya sebagai Menparekraf bakal fokus pada percepatan penyelesaian pada lima program-program yang telah berjalan sebelumnya.  Adapun program-program unggulan sektor pariwisata yang ditargetkan untuk segera rampung itu di antaranya wisata Danau Toba, Borobudur, Mandalika, Labuan Bajo dan Kupang.  \"Kalau dari kita ada lima destinasi prioritas yang kami rekomendasi untuk dilanjutkan dan diselesaikan. Seperti dari segi infrastruktur, sudah hampir semua sudah di atas 80 persen malah ada yang juga sudah selesai,\" katanya.  \"Ini kita lihat hasil yang menjanjikan, seperti di Danau Toba, Borobudur, Mandalika, Labuan Bajo dan Kupang. Dan untuk di Kupang sendiri peningkatan kunjungan mengalami peningkatan signifikan saat ini,\" tambahnya.  Sandi mengungkapkan, selain lima program destinasi wisata, aspek peningkatan dan pengembangan sektor sumber daya manusia (SDM) juga menjadi target penyelesaian Kementerian Pariwisata dan Ekonomi Kreatif pada masa akhir Kabinet Indonesia Maju tersebut.  \"Selain daripada lima destinasi yang kita prioritaskan, ada juga yang bakal dilanjutkan program desa wisata dan ini program yang menyentuh tujuh belas poin,\" ungkapnya.  Kemudian, lanjut Sandi, disamping menuntaskan pengembangan sektor wisata dan SDM, terdapat sisi ekonomi kreatif seperti peningkatan nilai tambah atau nilai ekspor, akses pembiayaan pada pelaku ekonomi kreatif sedang terus digenjot untuk penciptaan target 4,4 juta lapangan pekerjaan di Indonesia.  \"Kita terus genjot untuk penciptaan pada 4,4 juta lapangan pekerjaan dan juga peningkatan kesejahteraan pada pelaku ekonomi kreatif diseluruh pelosok nusantara,\" kata dia.\n",
      "True Label: Negative, Predicted Label: Negative\n",
      "\n",
      "Text 2: KOMPAS.com - Majelis Ulama Indonesia (MUI) Daerah Khusus Ibu Kota (DKI) Jakarta menggandeng Le Minerale untuk memberikan bantuan berupa 2.600 galon air Le Minerale untuk korban kebakaran di Manggarai, Jakarta.  Pemberian bantuan tersebut dilaksanakan di area relokasi warga, tepatnya di Rumah Susun (Rusun) Pasar Rumput, Setiabudi, Jakarta Selatan, Jumat (23/8/2024).  Adapun kegiatan serah terima bantuan dilakukan oleh perwakilan MUI DKI Jakarta bersama perwakilan Le Minerale kepada Lurah Manggarai Muhammad Arafat.  Atas bantuan yang diberikan kepada warganya, Arafat pun mengucapkan terima kasih kepada MUI DKI Jakarta dan Le Minerale.  “Kami sangat berterima kasih kepada Le Minerale dan MUI atas kepedulian dan dukungan mereka. Bantuan ini tidak hanya membantu memenuhi kebutuhan mendesak masyarakat kami, tetapi juga memberikan semangat dan harapan baru bagi mereka yang sedang menghadapi masa-masa sulit,” ujar Arafat dalam siaran pers yang diterima Kompas.com, Senin (26/8/2024).  Arafat menambahkan, kehadiran air galon Le Minerale pada masa sulit seperti saat ini sangat dibutuhkan oleh para korban.  Sebagai informasi, berdasarkan data dari pemangku kepentingan setempat, sebanyak 1.016 jiwa dari 254 kartu keluarga (KK) terdampak kebakaran di Manggarai.  Semua korban tersebut jelas membutuhkan berbagai bantuan banyak pihak, termasuk kehadiran air mineral untuk kebutuhan minum.  “Sempat ngobrol dengan warga, bantuan dari Le Minerale sangat dinantikan. Sekali lagi, terima kasih kepada Le Minerale atas kontribusi mereka yang sangat berarti,” terang Arafat.  Apresiasi dari MUI  Atas kesediaan Le Minerale dalam membantu korban kebakaran di Manggarai, Ketua Bidang Sosial dan Corporate Social Responsibility (CSR) MUI DKI Jakarta Z Wennar menyampaikan apresiasi kepada perusahaan air minum dalam kemasan (AMDK) yang telah hadir di Tanah Air sejak 2015 tersebut.  Menurut Wenna, bantuan dari Le Minerale sebagai produk asli milik Indonesia adalah contoh nyata dari tanggung jawab sosial perusahaan yang patut ditiru.  Wennar berharap, kerja sama antara MUI dengan Le Minerale dalam bidang sosial dapat terus terjalin demi kesejahteraan masyarakat yang lebih baik.  “Kami ucapkan terima kasih banyak kepada Le Minerale karena kepedulianya terhadap korban kebakaran di Manggarai. Bantuan ini sangat berarti dalam kondisi darurat dan akan membantu meringankan beban para korban,” kata Wennar.  Hal senada juga diungkapkan oleh Ketua Seni dan Budaya MUI Jakarta KH Lutfi Hakim. Lutfi pun ingin kerja sama dalam hal kemanusiaan harus bisa terus dirawat.  “Kami sangat senang dan bergembira dengan bantuan dari Le Minerale,” ucap Lutfi.  Terkait bantuan, salah satu warga Rusun Pasar Rumput yang menerima bantuan, Endang Lestari (54), mengaku senang saat mendapatkan air galon Le Minerale.  \"Alhamdulillah, dapat bantuan Le Minerale. Terima kasih atas bantuannya. Air ini betul-betul bermanfaat buat kami di sini,\" terang Endang.  Rasa gembira juga turut dirasakan oleh warga Rusun Pasar Rumput lainnya, Dewi Puji Astuti, atas bantuan dari Le Minerale.  Warga korban kebakaran Manggarai mengaku senang mendapatkan bantuan air galon Le Minerale.  \"Saya senang bisa dapat air Le Minerale. Sebab, kami butuh sekali air minum. Di sini, semuanya terbatas. Kami sudah enggak punya apa-apa lagi karena semuanya habis terbakar,” ujar Dewi.  Sementara itu, Head of Public Relations and Digital Le Minerale Yuna Eka Kristina mengatakan, kerja sama bantuan kemanusiaan dengan MUI merupakan bukti nyata dan kontribusi positif Le Minerale bagi masyarakat.  Yuna Berharap, bantuan yang diberikan pihaknya dapat memberikan banyak manfaat, khususnya bagi para korban terdampak.  “Bantuan ini merupakan bukti kepedulian dan solidaritas dari Le Minerale. Kami sebagai produk asli Indonesia ingin selalu ada bagi kebaikan masyarakat. Semoga bantuan kemanusiaan ini dapat memberikan manfaat, meringankan beban di masa sulit ini, dan menjadi harapan baru bagi mereka,” kata Yuna.\n",
      "True Label: Negative, Predicted Label: Negative\n",
      "\n",
      "Text 3: TRIBUN-TIMUR.COM - Inilah informasi Lowongan Kerja Terbaru atau lowongan kerja hari ini, Senin (29/7/2024).  Update lowongan kerja untuk wilayah Makassar, Jakarta, Surabaya, Semarang, dan kota-kota lainnya di Indonesia.  PT Adira Dinamika Multi Finance Tbk atau Adira Finance buka lowongan kerja banyak posisi.  Lowongan kerja Adira Finance terbuka untuk lulusan D3 dan S1 semua jurusan.  PT Adira Dinamika Multi Finance Tbk atau Adira Finance merupakan perusahaan pembiayaan yang sudah didirikan tahun 1990 dan mulai beroperasi pada tahun 1991.  Berikut informasi lowongan kerja Adira Finance dilansir Tribun-Timur.com dari laman resminya:  - Memahami dasar-dasar Manajemen Risiko Cyber ​​dan Kepatuhan & Tata Kelola TI.  - Keterampilan kepemimpinan dan manajemen tim, dengan komitmen untuk membina lingkungan kerja yang kolaboratif dan inklusif.  - Individu yang memiliki motivasi diri dan secara konsisten mematuhi prosedur dan standar yang ditetapkan  - Memiliki kemampuan komunikasi interpersonal yang baik untuk berkoordinasi dengan pihak internal & eksternal.  - Mampu mengembangkan dan memberikan dorongan kepada bawahan  - Memiliki pola pikir analitis, kreatif dan menyeluruh.  Persyaratan Pendidikan:  - Kandidat setidaknya harus memiliki gelar sarjana dari jurusan apa pun dengan IPK minimal 3,00.  - Memiliki sertifikasi Manajemen Risiko sesuai ketentuan OJK.  - Memiliki sertifikasi ISO 27001.  Batas daftar 16 September 2024.  2. SALES OFFICER CHANNELING  Kualifikasi:  - Laki-laki dengan usia maksimal 29 tahun.  - Mampu mengoperasikan komputer, terutama Ms. Office.  - Memiliki kemampuan komunikasi yang baik, berintegritas, kreatif, jujur dan ulet.  Persyaratan Pendidikan:  - Pendidikan minimal D3 dari semua jurusan dengan minimal IPK 2,50.  Batas daftar 16 September 2024.  3. HEAD OF DIGITAL COLLABORATION  Kualifikasi:  - Keterampilan kepemimpinan dan manajemen tim, dengan komitmen untuk membina lingkungan kerja yang kolaboratif dan inklusif.  - Kemampuan untuk memprioritaskan tugas, mengatur waktu secara efisien, dan memenuhi tenggat waktu dalam lingkungan yang bergerak cepat  - Individu yang memiliki motivasi diri dan secara konsisten mematuhi prosedur dan standar yang ditetapkan  - Menunjukkan kemampuan untuk melakukan tugas dengan presisi dan akurasi  - Komunikasi tertulis dan verbal yang sangat baik, dan keterampilan negosiasi  - Lancar berbahasa Inggris lisan dan tulisan.  Persyaratan pendidikan:  - Kandidat setidaknya harus memiliki gelar Sarjana dari jurusan apa pun dengan IPK minimal 3,00.  Batas daftar 16 September 2024.  - Usia Maksimal 33 Tahun  - Jenis Kelamin yang diutamakan Laki-Laki  - Memiliki SIM A atau C  Persyaratan pendidikan:  - Minimal pendidikan D3/S1 dengan IPK minimal 2.50 dari Jurusan Hukum  Batas daftar 21 September 2024.  *Untuk mengetahui lokasi penempatan, ketikkan nama kabupaten/kota di kolom Search.\n",
      "True Label: Neutral, Predicted Label: Neutral\n",
      "\n",
      "Text 4: Aceh Utara | BidikIndonesia – Kondisi jalan lintas kecamatan yang menghubungkan antar desa menuju makam Pahlawan Nasional Cut Meutia di Gampong Alue Rimee, Kecamatan Pirak Timu, Kabupaten Aceh Utara, dilaporkan mengalami kerusakan parah.  Jalan yang baru saja dibangun dua tahun lalu ini kini berlubang dan rusak, menghambat mobilitas masyarakat setempat dan menimbulkan kekhawatiran terkait keselamatan pengguna jalan.  Menurut informasi yang diterima oleh Serikat Aksi Peduli Aceh (SAPA) dari warga setempat, kerusakan ini diduga kuat disebabkan oleh aktivitas operasional truk-truk milik PT Perkebunan kelapa sawit Nusantara 1 Cot Girek.  Truk-truk tersebut dilaporkan sering melintas di jalan desa dengan muatan yang melebihi batas berat yang telah ditentukan. Akibatnya, kondisi jalan yang seharusnya dapat bertahan dalam jangka waktu yang lebih lama menjadi rusak parah hanya dalam waktu singkat.  SAPA menyatakan keprihatinan mendalam terhadap kondisi ini dan menegaskan bahwa perusahaan tersebut harus bertanggung jawab atas kerusakan yang terjadi. Jika terbukti bahwa kerusakan jalan ini disebabkan oleh aktivitas operasional perusahaan, maka tidak ada alasan bagi perusahaan untuk mengelak dari tanggung jawabnya.  “Mereka harus segera memperbaiki jalan yang rusak agar tidak semakin memperburuk kondisi dan mengganggu kehidupan masyarakat yang mengandalkan jalan tersebut sebagai akses utama,” kata Ketua Umum SAPA Fauzan Adami kepada media ini, Jumat 30 Agustus 2024.  Kerusakan infrastruktur publik yang disebabkan oleh aktivitas swasta merupakan bentuk pelanggaran serius terhadap hak-hak masyarakat. SAPA menegaskan bahwa tindakan semacam ini tidak bisa dibiarkan begitu saja.  “Kami akan terus memantau situasi ini dan mendesak agar ada tindakan tegas dari pihak berwenang. Setiap pelanggaran yang merugikan kepentingan umum harus ditangani dengan serius. Perusahaan tidak boleh mengorbankan kepentingan masyarakat demi keuntungan mereka semata,” tegas Fauzan.  Dalam pernyataan resmi tersebut, SAPA juga mendesak Pj Bupati Aceh Utara untuk segera turun ke lokasi dan meninjau langsung kondisi jalan yang rusak. Fauzan menilai bahwa keterlibatan langsung pemerintah daerah sangat diperlukan untuk memastikan bahwa masalah ini segera diatasi.  “Pemerintah harus hadir dan menunjukkan kepeduliannya terhadap keluhan masyarakat. Kami meminta Pj Bupati Aceh Utara untuk segera turun ke lapangan, melihat langsung kondisi jalan yang memprihatinkan ini, dan mengambil tindakan yang diperlukan untuk memperbaikinya,” katanya  “Selain itu, perusahaan-perusahaan yang beroperasi di wilayah ini harus diberi peringatan keras agar tidak merusak fasilitas umum yang menjadi milik bersama,” tambahnya.  Tidak hanya itu, SAPA juga menyerukan kepada masyarakat untuk terus aktif melaporkan setiap bentuk kerusakan infrastruktur atau fasilitas umum yang merugikan mereka.  SAPA mengajak seluruh warga untuk tidak diam dan terus melaporkan setiap ketidakadilan yang mereka alami. Kita harus bersama-sama menjaga dan melindungi hak-hak kita sebagai warga negara.  Pembangunan yang dilakukan di Aceh harus benar-benar berkelanjutan dan bermanfaat bagi semua pihak, bukan hanya untuk segelintir pihak yang mencari keuntungan semata,” kata Fauzan.  SAPA akan terus mengawal kasus ini hingga ada tindakan konkret dari perusahaan maupun pemerintah daerah. Mereka berjanji untuk tidak tinggal diam sampai keadilan bagi masyarakat terwujud dan akses jalan yang rusak tersebut kembali pulih seperti sediakala.[Busersiaga]\n",
      "True Label: Positive, Predicted Label: Positive\n",
      "\n",
      "Text 5: Medan, IDN Times - Dalam rangka memperingati Hari Ulang Tahun (HUT) Ke-79 RI, PT Hyundai Motors Indonesia kini menghadirkan all-new KONA Electric secara resmi di kota Medan. Sebelumnya, peluncuran perdana di Gaikindo Indonesia International Auto Show (GIIAS) 2024 bulan Juli lalu.  Peluncuran KONA ini dilakukan dalam rangka Festival Merdeka Berkendara, pada Sabtu (24/8/2024) dan Minggu (25/8/2024) di Plaza Medan Fair, serta di tujuh kota lainnya di Indonesia.  Fransiscus Soerjopranoto, Chief Operating Officer PT Hyundai Motors Indonesia, mengungkapkan kebanggaannya atas peluncuran ini dapat menghadirkan all-new KONA Electric untuk masyarakat Medan pada kesempatan kali ini.  Hyundai telah merancang all-new KONA Electric dengan inovasi teknologi terdepan, untuk menghadirkan pengalaman mobilitas terbarukan seutuhnya di segmen B-SUV yang terus berkembang di pasar otomotif Indonesia.  \"Hadir dengan desain futuristis, all-new KONA Electric memiliki varian dengan driving range terpanjang hingga mencapai lebih dari 600 km. Kami tentu berharap all-new KONA Electric dapat menjadi preferensi masyarakat Medan untuk mobilitas sehari-hari,\" katanya.  1. Baterai lokal dan teknologi canggih  All-new KONA Electric merupakan EV pertama di Indonesia yang menggunakan baterai buatan dalam negeri, diproduksi oleh PT HLI Green Power yang diresmikan pada 3 Juli lalu. Dengan baterai yang diproduksi secara lokal, Hyundai tidak hanya mendukung industri otomotif tanah air tetapi juga berkontribusi pada pencapaian target net zero emission pemerintah di tahun 2060.  All-new KONA Electric menawarkan desain futuristis dengan dimensi yang cukup besar namun tetap compact, yakni panjang 4.355 mm, lebar 1.825 mm, tinggi 1.580 mm, dan wheelbase 2.660 mm. Interiornya yang lapang memberikan kenyamanan maksimal bagi pengendara dan penumpang.  Selain itu, kendaraan ini dilengkapi dengan fitur-fitur canggih seperti wireless connectivity dengan Android Auto dan Apple Carplay serta teknologi Hyundai Bluelink yang memungkinkan pengguna untuk memperbarui sistem secara over-the-air (OTA).  “Soerjopranoto menambahkan, ‘Hadirnya Festival Merdeka Berkendara adalah bentuk upaya Hyundai untuk selalu mengutamakan pelanggan dan masyarakat luas melalui penawaran spesial untuk kepemilikan produk Hyundai. Kami ingin memastikan bahwa masyarakat dapat merasakan solusi mobilitas terdepan dari Hyundai dalam kehidupan sehari-hari mereka,\" jelasnya.  2. Varian dan performa  All-new KONA Electric hadir dalam lima varian, yaitu Signature Long Range, Signature Standard Range, Prime Long Range, Prime Standard Range, dan Style, dengan berbagai pilihan kapasitas baterai. Varian Signature Long Range dan Prime Long Range dilengkapi dengan baterai 66 kWh yang menawarkan jarak tempuh masing-masing lebih dari 500 km dan 600 km, sementara varian lainnya menggunakan baterai 48,9 kWh dengan jarak tempuh lebih dari 400 km.  Seluruh varian dilengkapi dengan motor penggerak yang mampu menghasilkan torsi sebesar 255 Nm, menjamin performa berkendara yang menyenangkan dan powerful.  KONA Electric mampu mencapai kecepatan maksimum 167 km/jam untuk varian long range dan 155 km/jam untuk varian standard range. Dengan sembilan pilihan warna eksterior, termasuk Optic White Matte, Titan Grey Metallic, dan Midnight Black Pearl, konsumen dapat memilih sesuai dengan selera mereka.  3. Festival merdeka berkendara  Festival Merdeka Berkendara merupakan puncak dari rangkaian acara perayaan HUT RI yang diselenggarakan di delapan kota, termasuk Medan. Festival ini tidak hanya menampilkan all-new KONA Electric tetapi juga berbagai model kendaraan listrik Hyundai lainnya seperti STARGAZER, CRETA, dan IONIQ 5.  Pengunjung festival dapat merasakan langsung pengalaman berkendara dengan melakukan test drive serta berpartisipasi dalam berbagai kegiatan menarik seperti Photo Challenge with KONA Monsters, Hyundai Bakiak Race, dan Kids Coloring Competition. “Festival ini adalah kesempatan emas bagi pelanggan untuk mengenal lebih dekat produk-produk Hyundai dan mendapatkan penawaran spesial,” ujar Soerjopranoto.  Hyundai juga menawarkan berbagai benefit bagi pengunjung, termasuk voucher dari Garuda Indonesia, gratis layanan pengisian daya EV di lebih dari 600 charging station Hyundai selama 1 tahun, serta kemudahan cicilan dengan bunga 0% selama 2 tahun. Selain itu, ada kesempatan untuk memenangkan hadiah berupa IONIQ 6.  4. Penawaran spesial dan layanan purna jual  Sebagai bentuk apresiasi kepada tenaga kesehatan dan pahlawan masa kini, Hyundai menghadirkan penawaran spesial dalam program “Merdeka Berkendara”. Para pahlawan masa kini seperti guru, dosen, dokter, perawat, anggota damkar, kepolisian, dan TNI dapat menikmati berbagai keuntungan, termasuk voucher dari Garuda Indonesia dan layanan gratis pengisian daya.  Hyundai juga menyediakan layanan Hyundai Before Service™️ yang meliputi pengecekan kendaraan, cuci kering, vakum interior, serta pengisian angin. Untuk pemilik kendaraan Hyundai, tersedia pengecekan dengan Hyundai GDS, gratis 2 liter oli untuk ganti oli, dan voucher 20 persen untuk servis selanjutnya.  Peluncuran all-new KONA Electric di Medan merupakan bagian dari upaya Hyundai untuk terus menghadirkan inovasi dan solusi mobilitas yang ramah lingkungan kepada masyarakat Indonesia. Festival Merdeka Berkendara tidak hanya merayakan kemerdekaan tetapi juga menunjukkan komitmen Hyundai terhadap masa depan mobilitas yang lebih bersih dan efisien.\n",
      "True Label: Negative, Predicted Label: Negative\n",
      "\n",
      "Text 6: PERTANIAN - JAKARTA. Kementerian Pertanian (Kementan) terus mendorong sinkronisasi antara dinas pertanian dan stakeholders di lima kabupaten di Jawa Timur, Pacitan, Malang, Pasuruan, Tulungagung, dan Banyuwangi, untuk mendukung pengembangan petani muda.  Sinkronisasi ini dilakukan melalui program Youth Entrepreneurship And Employment Support Services Programme (YESS) yang dikelola oleh Politeknik Pembangunan Pertanian (Polbangtan) Malang sebagai Provincial Project Implementation Unit (PPIU).  Pertemuan bertajuk “Kerjasama Provinsi” yang digelar di Malang, Rabu (4/9), menegaskan pentingnya sinergi antara program YESS dan program dinas terkait di tingkat provinsi.  Project Manager PPIU Jawa Timur, Acep Hariri, menekankan bahwa kolaborasi ini sejalan dengan arahan Menteri Pertanian, Andi Amran Sulaiman, untuk memperkuat sektor pertanian melalui peningkatan produktivitas dan kemandirian pangan.  Kepala Badan Pengembangan Sumber Daya Manusia Pertanian (BPPSDMP) Kementan, Idha Widi Arsanti, menyatakan bahwa program YESS tidak hanya memberikan pelatihan, tetapi juga membangun jaringan dukungan kuat bagi petani muda.  \"Hal ini bertujuan untuk memastikan mereka dapat berkembang dan memberikan dampak positif bagi komunitasnya,\" ujarnya dalam siaran pers, Selasa (10/9).  Direktur Polbangtan Malang, Setya Budhi Udrayana, menegaskan komitmen Kementan untuk mendampingi petani muda dari hulu ke hilir melalui program YESS, termasuk menyediakan akses permodalan dan kesempatan magang luar negeri.  Pada pertemuan ini juga dibahas strategi keluar (exit strategy) Program YESS, yang diharapkan dapat melibatkan Badan Perencanaan Pembangunan Daerah (Bappeda) untuk merancang Forum Multi-Stakeholders Tingkat Kabupaten (District Multi Stakeholders Forum).  Program YESS telah membina 60 ribu petani muda, namun sebagian besar masih didominasi oleh subsektor peternakan.  Kepala Bappeda Kabupaten Malang, Tomie Herawanto, melaporkan adanya peningkatan perhatian terhadap sektor pertanian, sementara Bappeda Banyuwangi berfokus pada pengembangan inovatif yang mengintegrasikan sektor pertanian dengan pariwisata.  Bappeda Pasuruan menargetkan pembentukan 1.000 petani muda, sedangkan Bappeda Tulungagung dan Pacitan menekankan pentingnya kolaborasi untuk memperkuat sektor pertanian melalui berbagai inisiatif lokal.  Dengan strategi-strategi yang dirancang, Kementan berharap pengembangan petani muda di Jawa Timur dapat berlangsung secara optimal dan berkelanjutan.\n",
      "True Label: Neutral, Predicted Label: Neutral\n",
      "\n",
      "Text 7: Jakarta, Beritasatu.com - Pemerintah menyiapkan anggaran Rp 124,4 triliun untuk anggaran ketahanan pangan dalam Rancangan Undang-Undang (RUU) Anggaran Pendapatan Belanja Negara (APBN) 2025. Alokasi ini akan digunakan untuk mendukung rantai pasok pangan dan memperkuat ketahanan pangan.  “Ketahanan pangan menjadi perhatian dari presiden terpilih. Kita mengalokasikan Rp 124,4 triliun dari sisi praproduksi, produksi, distribusi, pemasaran, hingga di sisi konsumen,” ucap Menteri Keuangan Sri Mulyani Indrawati dalam konferensi pers RUU APBN 2025 dan nota keuangan di kantor Direktorat Jenderal Pajak (DJP), Jakarta Jumat (16/8/2024) dilansir Investor Daily.  Anggaran ketahanan pangan tersebut diarahkan untuk mendukung peningkatan produktivitas, menjaga ketersediaan dan keterjangkauan harga pangan, perbaikan rantai distribusi hasil pertanian, serta meningkatkan akses pembiayaan bagi petani.  Untuk program praproduksi dilakukan untuk belanja bantuan alat tangkap, subsidi pupuk, alat mesin, benih, baik pangan maupun ikan. Alokasi dari sisi produksi dalam bentuk food estate, cetak sawah, pengembagan kawasan padi, pengembangan kawasan jagung, bendungan, jaringan irigasi, lahan pertanian pangan produktif, dan asuransi pertanian.  “ Food estate dilakukan pada tiga lokasi, yaitu Kalimantan Tengah, Sumatera Utara, dan Nusa Tenggara Timur. Sedangkan pencetakan sawah baru, akan mengembangkan kawasan padi, jagung,\" kata dia.  Sedangkan untuk distribusi, kata dia, terutama untuk perbaikan jalan supaya tidak menimbulkan harga bergejolak.\n",
      "True Label: Negative, Predicted Label: Negative\n",
      "\n",
      "Text 8: DISTRIK NEWS - Seri pameran otomotif GIIAS Surabaya 2024 memasuki hari ke empat penyelenggaraanya pada 31 Agustus 2024 ini.  Gelaran GIIAS Surabaya 2024, yang merupakan bagian dari GIIAS The Series 2024, digelar sejak 28 Agustus hingga 1 September 2024.  Setelah resmi dibuka pada 28 Agustus 2024, pameran ini menawarkan kesempatan di pekan terakhir bagi para pecinta otomotif di Jawa Timur, khususnya Surabaya, untuk mengeksplorasi area pameran yang menampilkan total 34 merek kendaraan bermotor.  Dengan luas pameran yang terbesar sepanjang sejarah penyelenggaraan GIIAS Surabaya, pengunjung dapat menikmati pengalaman berkeliling yang lebih nyaman.  Di area Convention Hall, merek-merek kendaraan seperti Daihatsu, Honda, Hyundai, Lexus, Toyota, Toyota Commercial, dan VinFast memamerkan inovasi terbaru mereka.  Sementara itu, di area Exhibition Hall, pengunjung dapat menjelajahi booth dari merek-merek seperti Audi, BYD, Chery, Citroen, DFSK, KIA, Mazda, MG, Mitsubishi Motors, Nissan, Seres, Suzuki, VW, dan Wuling.  Selain itu, 12 merek kendaraan roda dua juga turut serta, di antaranya Alva, Aprilia, Benelli, Keeway, Kupprum, Moto Guzzi, Piaggio, Polytron, Royal Enfield, United E-motor, Vespa, dan Volta.  Menambah keseruan akhir pekan ini, GIIAS Surabaya 2024 menghadirkan Audio Kontes yangbekerja sama dengan EMMA (European Mobile Media Association).  Kontes ini menampilkan mobil-mobil dengan modifikasi audio terbaik, menawarkan pengunjung kesempatan untuk menyaksikan langsung keunggulan sistem audio mobil mutakhir.  Sri Vista Limbong, Project Director GIIAS Surabaya 2024, mengungkapkan, “GIIAS Surabaya 2024 hadir tidak hanya sebagai ajang pameran otomotif, tetapi juga sebagai platform yang menghubungkan berbagai inovasi dan teknologi terbaru di industri otomotif bagi para pecinta otomotif.”  “Kami berharap acara ini dapat memberikan pengalaman berharga dan inspiratif bagi setiap pengunjung. Oleh karena itu, kami mengundang seluruh masyarakat Jawa Timur khususnya Surabaya untuk menjadikan GIIAS Surabaya 2024 sebagai destinasi akhir pekan mereka bersama keluarga, teman, dan komunitas,” ujar Vista.  GIIAS Surabaya 2024 mendapatkan dukungan penuh dari berbagai sponsor dan mitra industri.  Astra Financial sebagai platinum sponsor didukung oleh FIFGROUP, Astra Credit Companies, Toyota Astra Finance Services, Asuransi Astra, Astra Life, AstraPay, Maucash, Moxa, SEVA, BANK SAQU by Bank Jasa Jakarta, serta dukungan dari Shell Helix, PLN, JKIND, Superchallenge, dan Kahf.\n",
      "True Label: Neutral, Predicted Label: Neutral\n",
      "\n",
      "Text 9: Terkini, Makassar - Wali Kota Makassar Moh Ramdhan Pomanto menyerap banyak aspirasi warga pulau Kecamatan Samgkarrang pada malam Pesta Rakyat HUT RI di Pulau Kodingareng, Jumat, 30 Agustus 2024.  “Daripada pidato mendingan kita diskusi dan menyerap semua aspirasi masyarakat,” kata Danny Pomanto sapaan akrabnya pada sela-sela acara, malam tadi.  Alhasil diskusi dan sharing terbuka antara warga Pulau Kodingareng dan Danny Pomanto berlangsung seru.  Masyarakat secara langsung mengutarakan pendapatnya di hadapan Danny. Wali kota dua periode ini pun langsung menanggapi aspirasi warga.  “Insyaallah bisa semua. Pemkot Makassar punya banyak anggaran jadi tentu ditumpahkan ke rakyat semua,” tekan Danny.  Beberapa permintaan warga juga ditampung Danny dan bakal diakomodir pada APBD selanjutnya.  Seperti, memprioritaskan 100 masyarakat pulau agar masuk sebagai Laskar Pelangi, penganggaran perbaikan dermaga kapal;  Mengadakan kapal khusus mengangkut bank sampah yang telah dipilah dan pembayaran bank sampah dilakukan langsung kepada warga di lokasi.  Selain itu juga soal perbaikan lapangan sepakbola.  Wali kota berlatar belakang pendidikan arsitektur ini ingin ada lapangan Mini Soccer baru dengan rumput sintetis.\n",
      "True Label: Neutral, Predicted Label: Positive\n",
      "\n",
      "Text 10: Waspada.co.id – Harus diakui bahwa perkembangan teknologi di era modern ini sangatlah pesat dan membawa dampak besar dalam kehidupan manusia. Setiap hari, kita bisa melihat banyak inovasi baru yang terus muncul dalam berbagai bidang, termasuk teknologi dan aplikasi.  Lantas, di era digital seperti saat ini, memiliki aplikasi yang serba bisa adalah suatu keharusan. MyTelkomsel Super App hadir sebagai solusi lengkap bagi kamu yang ingin segala kebutuhan telekomunikasi berada dalam satu genggaman.  Aplikasi Multi Layanan Berbasis Super App dirancang untuk memudahkan dalam melakukan berbagai tugas, seperti mengirim saldo ke rekening bank dan memesan tiket acara. Selain itu, program ini memungkinkan pengguna untuk mengisi saldo dengan mudah tanpa harus mengunjungi ATM (Automated Teller Machine) atau cabang bank terdekat.  Fitur utama dari program ini adalah kemampuannya mengirimkan saldo ke rekening bank dalam jumlah nominal yang dapat diubah berdasarkan kebutuhan pengguna, tanpa memerlukan kunjungan fisik ke ATM atau bank.  Hal ini memungkinkan operasional transaksi diselesaikan dengan cepat dan efisien, memberikan kenyamanan dan fleksibilitas bagi pengguna. Selain operasional transaksi finansial, Aplikasi Multi Layanan Berbasis Super App menawarkan layanan pemesanan tiket event. Penggemar event akan mendapatkan keuntungan besar dari kemudahan mereka mempelajari berbagai jenis acara yang tersedia dan lokasinya.  Aplikasi Multi Layanan Berbasis Super ini tidak hanya menyederhanakan transaksi keuangan, tetapi juga menawarkan solusi komprehensif untuk hiburan pengguna. Tujuan dari program ini adalah untuk memberikan otomatisasi yang lebih baik kepada pengguna, menjadikan pengalaman mereka lebih efisien dan menyenangkan. (http://jurnal.polinema.ac.id/index.php/eltek/article/view/5053/3754)  MyTelkomsel Super App hadir sebagai jawaban atas kebutuhan masyarakat akan kemudahan, kenyamanan, dan kecepatan dalam mengakses berbagai layanan digital. Penulis pun menilai setidaknya ada lima alasan kenapa kamu wajib menggunakan MyTelkomsel Super App, yakni:  MyTelkomsel Super App menawarkan beragam fitur yang memudahkan penggunanya. Mulai dari pembelian pulsa, paket data, pembayaran tagihan, hingga berbagai layanan hiburan. Semua ini dapat diakses hanya dengan beberapa kali sentuh, membuat hidupmu lebih praktis dan efisien.  Dengan menggunakan MyTelkomsel Super App, kamu bisa mendapatkan berbagai penawaran menarik, seperti diskon khusus dan promosi eksklusif yang tidak tersedia di platform lain. Ini adalah cara terbaik untuk menghemat pengeluaran telekomunikasi sambil tetap mendapatkan layanan berkualitas.  Kemudahan Akses Layanan Pelanggan  Aplikasi ini juga memudahkan kamu dalam mengakses layanan pelanggan. Dengan fitur chat dan bantuan langsung di aplikasi, masalah apapun yang kamu hadapi bisa diselesaikan dengan cepat tanpa perlu repot-repot menghubungi call center.  Transaksi Aman dan Terpercaya  MyTelkomsel Super App menjamin keamanan setiap transaksi yang dilakukan. Sistem enkripsi dan protokol keamanan yang canggih memastikan data dan informasi pribadimu tetap terlindungi, sehingga kamu bisa bertransaksi dengan tenang.  Pengguna yang Lebih Baik Aplikasi ini dirancang untuk memberikan pengalaman pengguna yang lebih personal. Dengan fitur rekomendasi yang disesuaikan dengan kebiasaan penggunaanmu, kamu akan selalu mendapatkan saran paket atau layanan yang paling sesuai dengan kebutuhanmu.  Direktur Utama Telkomsel, Nugroho mengatakan penyelenggaraan Telkomsel Awards 2024 dan peluncuran MyTelkomsel super app mencerminkan komitmen strategis Telkomsel yang sejalan dengan Visi dan Misi perusahaan sebagai penyedia layanan telekomunikasi digital terdepan di Kawasan  “Untuk memberdayakan masyarakat dengan menyediakan konektivitas yang andal, solusi inovatif, dan layanan digital yang unggul guna memberikan kemudahan dalam memenuhi kebutuhan sehari-hari, serta membuka peluang bagi kemajuan semua orang, setiap rumah, dan kegiatan usaha di seluruh Indonesia,” jelasnya dalam rilis yang diterima awak media, beberapa waktu lalu.  Direktur Marketing Telkomsel, Derrick Heng menjelaskan sejak pertama kali dihadirkan Telkomsel pada tahun 2013, layanan pelanggan MyTelkomsel hadir untuk mempermudah pelanggan dalam memenuhi kebutuhan produk dan layanan Telkomsel melalui fitur-fitur terdepan yang terus dikembangkan dengan memanfaatkan teknologi terkini.  “Kini dengan hadirnya beragam fitur unggulan seperti health, travel, payment, entertainment dan commerce di MyTelkomsel super app, kami yakin pelanggan akan memiliki pengalaman yang lebih baik, di mana kemudahan menjadi pembeda dan alasan yang kuat bagi pelanggan untuk memilih Telkomsel sebagai pilihan utamanya,” tambahnya.  Sementara itu, Direktur Sales Telkomsel, Adiwinahyu Basuki Sigit menambahkan, MyTelkomsel super app juga akan menghadirkan lebih banyak manfaat bagi berbagai segmen pelanggan dengan memanfaatkan jalinan kerjasama strategis antara Telkomsel dan berbagai mitra korporasi.  “Dengan kapabilitas super app ini, pengguna dapat menikmati berbagai layanan yang relevan dengan kebutuhan sehari-hari, mulai dari layanan perbankan, solusi energi dan transportasi, hingga layanan publik. Melalui kapabilitas baru ini, MyTelkomsel super app tidak hanya memudahkan aktivitas harian pelanggan tetapi juga meningkatkan kualitas hidup mereka dengan menawarkan berbagai layanan yang lebih terintegrasi dan komprehensif,” tutupnya.  Dengan kelima alasan di atas, tidak ada lagi alasan untuk tidak segera beralih ke MyTelkomsel Super App. Segera unduh dan nikmati kemudahan serta manfaatnya sekarang juga! (wol/ari)\n",
      "True Label: Positive, Predicted Label: Positive\n",
      "\n",
      "Text 11: KRAKATOA.ID, BANDARLAMPUNG — Trisakti School of Management (TSM) kembali menggelar lomba cerdas cermat tingkat SMA dan SMK Sumatra Selatan dan Lampung di SMA Xaverius Bandarlampung pada tanggal 31 Agustus 2024. Sebelum mengikuti lomba cerdas cermat hari ini, peserta mengikuti seleksi secara online pada tanggal 28-29 Agustus 2024.  Sebanyak 64 tim Ekonomi, 26 tim Akuntansi dari berbagai sekolah di Palembang, Lampung dan sekitarnya. TSM sebagai barometer kampus terbaik di Indonesia bidang Akuntansi dan Manajemen selalu mencari bibit unggul dari siswa-siswi dari tiap daerah potensial melalui kegiatan kompetisi Akuntansi dan Ekonomi. Salah satu wilayah cakupan kompetisinya meliputi Lampung-Palembang. TSM terkenal dengan dengan Kualitas Akademik yang sangat baik, terbukti dari berbagai prestasi yang sangat prestisius dibidang akuntansi, case bisnis dan pasar modal yang selalu menjuarai tingkat nasional dan asean.  Ketua Pelaksana Kegiatan LCT TSM, Satriyo Wibowo, S.E., M.M., kepada Krakatoa.id menyampaikan alasan memilih SMA Xaverius sebagai tuan rumah dalam penyelanggaraan kegiatan ini. Menurut Satriyo, SMA Xaverius Bandarlampung mempunyai lokasi strategis, sudah dikenal banyak sekolah di lampung-palembang, fasilitas teknologi yang mumpuni, fasilitas pendukung lainnya seperti ruang kelas, lahan parkir, genset. “Dan yang tidak kalah kerennya adalah tim panitia dari SMA Xaverius Bandarlampung yang sangat satset, gercep dan penuh senyum dalam melayani para undangan. TOP Banget deh,” kata dia.  Lebih lanjut, Satriyo juga berharap melalui kompetisi ini TSM Trisakti akan mendapatkan siswa-siswi yang memiliki semangat belajar tinggi, prestasi unggul, rata-rata akademik sangat baik sehingga akan didapatkan lulusan yang berkualitas kedepannya. Dengan demikian akan membuat rekanan Perusahaan mitra semakin terpuaskan bahkan akan mendorong perusahan-perusahaan baru untuk merekrut lulusan TSM. Selain itu calon-calon wirausaha muda akan tercipta dengan baik.  Sebagai informasi Perusahaan kelas dunia yang selalu merekrut lulusan TSM dikampus adalah Kantor Akuntan Publik (KAP) Dunia, EY, Deloitte, KPMG dan PWC. Lalu Perusahaan besar nasional dan multinasional, PT Astra, PT.Bank BCA, PT. Bank Panin, PT. OT, PT.OCBC NISP, PT. SinarMas dan masih banyak lagi.  “Kami juga melihat, dengan banyaknya talenta-talenta berbakat yang memiliki prestasi terbaik di daerah masing-masing, akan membawa perspektif yang berbeda-beda, sehingga dapat memperkaya suasana akademik di kampus dan dapat meningkatkan kemampuan mahasiswa untuk beradaptasi dengan lingkungan yang beragam. Artinya saat mereka bekerja dan berwirausaha akan lebih mudah menyikapi dan berani ambil keputusan saat kondisi ekonomi dan teknologi berubah dengan sangat cepatnya,” ungkap Satriyo dalam wawancara terpisah.  Semoga lomba ini menghasilkan putra putri tebaik untuk bersaing dalam dunia yang terus berubah dan berkembang serta menjadi ajang pengembangan diri para peserta untuk bersaing dalam dunia global.  Resti Hosiana selaku Waka Humas SMA Xaverius Bandarlampung mengucapkan selamat kepada para peserta lomba dan selamat bertanding semoga hasilnya memuaskan. Selamat berlomba dan selamat bertanding. Salam Xavepa Hebat.***\n",
      "True Label: Neutral, Predicted Label: Neutral\n",
      "\n",
      "Text 12: Dari hasil Investigasi yang dilakukan Dewan Pimpinan Pusat Corruption Investigation Commiittee (CIC) Oknum Pegawai Pajak Jaktim bernisial M diduga kuat telah menerima suap, TPPU dan gratifikasi ratusan miliaran rupiah dari sejumlah wajib pajak perusahaan.  inisial M oknum pegawai Direktorat Jenderal Pajak Kementerian Keuangan Jakarta Timur diduga kuat telah menerima suap, TPPU dan gratifikasi ratusan miliaran rupiah dari sejumlah wajib pajak perusahaan karena turut merekayasa pajak. M oknum pegawai pajak Jakarta Timur dimaksud akan segera dilaporkan oleh Sekretaris Jenderal CIC DJ sembiring ke Mabes Polri, Kejagung dan Komisi Pemberantasan Korupsi (KPK) dalam waktu dekat ini.  Sekjen CIC DJ Sembiring menegaskan, “Kami (CIC) akan segera melaporkan inisial M oknum pegawai Pajak Jakrta Timur,diduga kuat melakukan tindak pidana korupsi dan TPPU kepada Polri, Kekagung dan KPK dari hasil temuan kitatersebut dengan nilai transaksi ratusan miliar dan sudah kita siapkan data datanya. Jadi kami memang tidak banyak bicara, mohon izin, Polri, Kejagung dan KPK,kita nggak banyak bicara kita kerja aja, Pak, karena kita kerja memang CIC pendukung penegak hukum jadi kita tidak akan berikan sedikitpun ruang bagi para koruptor,”tegas DJ Sembiring kepada wartawan Jumat (23/8/2024) di Gedung Merah Putih KPK.  DJ Sembiring menam bahkan, pihaknya meminta KPK segera melakukan penyidikan terhadap inisial M oknum pegawai pajak Jaktim setelah CIC melaporkan dan memberikan data akurat terkait dugaan korupsi dan TPPU yang dilakukan M oknum pegawai pajak Jaktim untuk alat bukti dan segera memanggilnya ngak bersangkutan, yakni inisial M.  inisial M merupakan oknum pegawai pajak Jaktim dengan jabatan sebagai pemeriksa pajak.  Sekjen CIC DJ Sembiring menjelaskan,”Ada sejumlah barang bukti yang akan dilaporkan ke Polri, Kejagung dan KPK. Untuk itu, CIC meminta Polri, Kejagung dan KPK agar segera melakukan pemeriksaan terhadap M yang diduga kuat terindikasi korupsi sesuai data yang ada,jadi senin kita akan laporkan, “pungkasnya.\n",
      "True Label: Positive, Predicted Label: Positive\n",
      "\n",
      "Text 13: JAKARTA, suaramerdeka-solo.com – Komitmen untuk terus tumbuh dan memberikan layanan terbaik kepada para nasabahnya terus ditunjukkan oleh PT Bank Rakyat Indonesia (Pesero) Tbk atau BRI.  Hal ini dibuktikan melalui penghargaan Total Service Quality Satisfaction based on Customer Perception Survey SQIndex 2024 dengan Predikat Diamond di ajang Service Quality Awards 2024.  SQ Award merupakan penghargaan bergengsi bertaraf nasional yang telah diadakan sejak tahun 2007 oleh Majalah Marketing dan Customer Action Recognition and Reward Experience (CARRE). Kali ini, penghargaan diberikan pada 7 Agustus 2024 di Sky Ayana Jimbaran, Bali.  Penghargaan ini bertujuan untuk menganugerahkan perusahaan-perusahaan yang berhasil memberikan layanan terbaik pada industrinya masing-masing dengan meraih nilai tertinggi dan di atas standar industri pada Service Quality Index (SQIndex).  Adapun indikator utama yang dinilai yakni kualitas layanan, meliputi Service Accessibility, Service Process, People, Service Solution dan Perceived Service Value.  Terkait hal ini, Direktur Bisnis Konsumer BRI Handayani mengatakanbahwa penghargaan ini menjadi bukti nyata dari upaya BRI untuk terus berinovasi dan memberikan layanan terbaik bagi para nasabah prima, atau yang kerap dikenal sebagai Pribadi Terpilih BRI.  “Per 2024 ini, BRI Prioritas telah memenangkan SQ Award selama enamtahun berturut-turut dari penghargaan pertama diterima pada tahun 2019,” ujarnya.  Seiring dengan penghargaan tersebut BRI juga terus memperluas dan meningkatkan layanannya untuk memenuhi kebutuhan nasabah dengan berbagai fasilitas yang tersedia.\n",
      "True Label: Positive, Predicted Label: Positive\n",
      "\n",
      "Text 14: Lokasi strategis De Batara Hotel memudahkan tamu menjelajahi berbagai tempat menarik di Bandung.  Hotel ini hanya berjarak 15 menit dari bandara dan 3 km dari pusat kotaTidak hanya itu.  De Batara Hotel dibangun pada tahun 2013, membuat fasilitas dan desainnya masih relatif baru dan modern.  Seperti diketahui, Gendis Siti Hatmanti merupakan anak kedua Bambang Trihatmodjo dan Halimah.  Dia lahir di Jakarta pada 26 September 1982.  Tahun 2024 ini, Panji genap berusia 42 tahun.  Gendis menempuh pendidikan di Sekolah Pelita Harapan, Jakarta.  Setelah lulus SMA, ia melanjutkan pendidikan di Universitas Indonesia jurusan Ilmu Komunikasi.  Gendis kemudian mengambil pendidikan pascasarjana di Universitas Pelita Harapan jurusan Magister Manajemen.  Bisnis 2 saudara Gendis Siti Hatmanti, Panji Adhikumoro dan Aditya Trihatmanto  Panji Adhikumoro  Panji merupakan anak sulung Bambang Trihatmodjo dan Halimah, memiliki nama lengkap Bambang Panji Adhikumoro Trihatmodjo.  Dia lahir pada 22 Juni 1986 di Surakarta.  Tahun 2024 ini, Panji genap berusia 38 tahun.  Panji Adhikumoro merupakan lulusan kampus luar negeri.  Dia menyelesaikan kuliah di American Interconintal University  Panji Adhikumoro menjalani kehidupan yang glamor dan bahagia bersama istri bulenya Varsha Strauss dan putri kecil mereka.  Dia diketahui merupakan seorang pengusaha yang menjabat sebagai Vice President Director di PT Hyundai Motors Indonesia (HMI) Hyundai Group.\n",
      "True Label: Neutral, Predicted Label: Neutral\n",
      "\n",
      "Text 15: KOSADATA - Menteri Pariwisata dan Ekonomi Kreatif/Kepala Badan Pariwisata dan Ekonomi Kreatif (Menparekraf /Kabaparekraf) Sandiaga Salahuddin Uno mengajak komunitas pelaku parekraf Palembang, Sumatra Selatan, untuk ikut memajukan sektor parekraf daerah.  \" Komunitas ini adalah garda terdepan kita (di sektor parekraf). Karena mereka yang terjun langsung di lapangan, mereka menggeluti bidang sesuai dengan passion mereka dan menjadi mitra pemerintah,\" kata Menparekraf Sandiaga dalam acara Netas (Nemuin Komunitas) Palembang di Taki Coffee, Minggu (15/9/2024).  Sandiaga menilai selama ini komunitas masih kurang banyak dilibatkan dalam upaya pengembangan potensi sektor parekraf.  Oleh karena itu, ia mengingatkan kepada pemerintah daerah, dalam hal ini Pemerintah Provinsi Sumatra Selatan dan Pemerintah Kota Palembang, untuk senantiasa merangkul komunitas dalam menggarap setiap potensi ekraf yang ada.  \"Itu karena komunitas merupakan bagian dari unsur pentahelix dalam membangun parekraf, ke depan kita ingin mereka menjadi bagian dari pengambilan kebijakan dan penyusunan program-program prioritas yang sesuai dengan apa yang dibutuhkan oleh masyarakat,\" katanya.  Selain itu, kehadiran komunitas juga penting untuk menjaga bahkan memperkuat pertumbuhan sektor pariwisata dan ekonomi kreatif yang banyak ditopang oleh UMKM. UMKM berkontribusi sebesar 97 persen ke penciptaan lapangan kerja di Indonesia.  \"Saya harap komunitas dapat terus menjadi mitra strategis pemerintah dalam menyosialisasikan berbagai langkah dan upaya kita bersama dalam mendorong pengembangan sektor pariwisata dan ekonomi kreatif terutama dengan memaksimalkan digitalisasi. Komunitas harus dapat memainkan peran dalam mengisi konten-konten atau narasi positif yang membangun pertumbuhan parekraf menuju Indonesia Emas 2045,\"  1 2\n",
      "True Label: Negative, Predicted Label: Negative\n",
      "\n",
      "Text 16: AYOBOGOR.COM -- Pencairan bansos Juli-September 2024 masih ditunggu oleh keluarga penerima manfaat.  Mengingat proses penyaluran PKH BPNT Juli-Agustus akan sudah selesai disalurkan secara umum. Dan hanya menyisakan beberapa pencairan lagi.  Ini menjadi angin segar bagi KPM yang pencairan bansosnya lewat PT Pos Indonesia.  Namun demikian akan ada peralihan penerima bantuan dari PT Pos Indonesia ke kartu KKS Merah Putih.  Melansir dari berbagai sumber, saat ini status di SIKS-NG masih dalam proses pembuatan rekening kolektif.  Beberapa KPM meski belum banyak, sudah ada yang menerima buku rekening sejahtera dan kartu KKS Merah Putih. Meski demikian dana bantuan belum dicairkan.  Diperkirakan bank penyaluran akan membutuhkan waktu yang cukup lama untuk membuatkan semua buku rekening dan kartu KKS bagi KPM yang terpilih.  Meski demikian, tidak semua KPM bakal dialihkan pencairannya ke kartu KKS.  Bagi KPM yang berada di wilayah 3T, pengambilan bansos diperkirakan masih menggunakan PT Pos Indonesia.  Jadi apabila proses burekol ini bisa dipercepat pembuatannya oleh bank penyalur, kemungkinan PKH dan BPNT Juli-September juga bakal dipercepat pencairannya.  Jadi KPM harap bersabar ya, diprediksi bansos cair di akhir September 2024.\n",
      "True Label: Positive, Predicted Label: Negative\n",
      "\n",
      "Text 17: kumparan Hadir di WhatsApp Channel  Follow  Kriyanusa yang merupakan pameran kerajinan dan seni kriya berskala nasional kembali hadir dengan mengusung tema “Perajin Muda, Lestarikan Warisan Budaya” pada 28 Agustus – 1 September 2024 di Hall A & Hall B, Jakarta Convention Center (JCC).  ADVERTISEMENT  Diselenggarakan setiap tahun oleh Dewan Kerajinan Nasional (DEKRANAS), acara ini merupakan bentuk komitmen untuk melestarikan serta mengembangkan hasil produk kriya Indonesia. Acara ini juga dirancang untuk mendorong pertumbuhan ekonomi dan perluasan pasar kriya Indonesia.  Dalam sambutannya, Ketua Umum Dewan Kerajinan Nasional (DEKRANAS) Wury Ma’ruf Amin yang merupakan istri Wakil Presiden Ma’ruf Amin mengungkapkan bahwa pameran tersebut mencerminkan komitmen untuk meneruskan tradisi dan warisan leluhur kepada generasi muda.  \"Indonesia adalah negeri yang kaya akan budaya dan tradisi. Seni kerajinan berbagai daerah yang diwariskan tidak hanya mencerminkan keindahan dan keterampilan, tetapi juga nilai-nilai identitas bangsa,\" katanya. Ia menambahkan, Kriyanusa adalah panggung bagi para perajin muda Indonesia untuk mempersembahkan karya-karya yang menghidupkan kembali kekayaan budaya Nusantara.  ADVERTISEMENT  Karya Kerajinan Tangan (Kriya) menjadi salah satu aset berharga untuk memenuhi permintaan pasar global akan kerajinan tangan yang khas Indonesia. Sebanyak ratusan produk milik pengrajin terampil dari seluruh pelosok negeri pun terpajang indah di acara tersebut.  PT Bank Rakyat Indonesia (Persero) Tbk atau BRI sebagai bank dengan fokus pada pemberdayaan UMKM di Indonesia mendukung acara tersebut dan turut serta menampilkan produk kriya terbaik dari UMKM binaan di Rumah BUMN BRI.  BRI pun berkesempatan memfasilitasi usaha lokal yang bergerak di bidang kriya tersebut agar semakin dikenal dunia. Sejumlah UMKM binaan hadir memamerkan sejumlah produk, yakni MINIMIZU dan Dannes Teakwood.  Pertama, MINIMIZU yang merupakan brand di bidang seni kreatif yang memiliki produk aquascape, paludarium, terrarium, dan moss art. UMKM ini memproduksi produk unik yang menyediakan berbagai macam bentuk model dan design sesuai permintaan konsumen.  Kemudian UMKM kedua, yakni Danesteakwood, produsen kerajinan kayu jati berbasis social enterprise dan green economy yang memanfaatkan limbah kayu jati untuk dijadikan produk homedecor dan housewares. UMKM ini menggunakan kualitas kayu terbaik dan berupaya memberdayakan pengrajin secara luas hingga ke seluruh pelosok Indonesia.  Terkait dukungan BRI terhadap pameran Kriyanusa 2024, Wakil Direktur Utama Catur Budi Harto mengungkapkan bahwa kesempatan berpartisipasi dalam kegiatan tahunan Dekranas merupakan bentuk komitmen nyata BRI dalam memberdayakan UMKM binaan. Hal ini sejalan dengan komitmen BRI dalam mewujudkan UMKM naik kelas hingga pasar global.  “Harapannya dengan adanya event berskala nasional seperti ini akan terus membuka akses dan kesempatan kepada para pelaku UMKM yang ujungnya dapat membuat mereka naik kelas,” ucapnya.  ADVERTISEMENT  Adapun UMKM yang bergabung mencapai 420 stan kriya, di antaranya 30% berasal dari pengrajin muda, kemudian ada 24 stan kuliner. Pameran yang tahun ini mengangkat ikon kebudayaan Kalimantan Timur tersebut dimeriahkan dengan berbagai acara seperti pameran, fashion show, talk show, dan lokakarya, serta musik.\n",
      "True Label: Positive, Predicted Label: Neutral\n",
      "\n",
      "Text 18: Liputan6.com, Samarinda - Seni tari merupakan salah satu seni pertunjukan yang ada di setiap sudut Nusantara. Tari tradisional di Kalimantan Timur juga merupakan kesenian yang berkembang tak hanya sebagai hiburan, melainkan juga sebagai identitas wilayah.  Kalimantan Timur memiliki kekayaan dan ragam budaya penuh makna, termasuk tarian-tariannya yang beragam. Mengutip dari kemenparekraf.go.id, berikut beberapa tari Kalimantan Timur yang penuh pesona:  Tari burung enggang atau tari kancet lasan merupakan tarian yang berasal dari Suku Dayak Kenyah. Pada zaman dahulu, tarian ini digunakan untuk menyambut pahlawan perang yang menang dalam peperangan.  Menurut kepercayaan masyarakat setempat, tarian ini dilambangkan sebagai simbol perpindahan masyarakat Dayak Kenyah dari satu tempat ke tempat lainnya. Hal itu berkaitan dengan kebiasaan masyarakat lokal yang dulunya sering berpindah tempat untuk mencari keselamatan dan menghindari perang antar suku.  Saat ini, tari burung enggang tak lagi digunakan untuk menyambut pahlawan perang. Kini, tarian ini sudah biasa ditampilkan untuk menyambut tamu pemerintahan, tamu kebesaran, hingga muncul di berbagai upacara adat.  2. Tari Datun Ngentau  Tari datun ngentau merupakan sebuah tarian adat Suku Dayak Kenyah di Kalimantan Timur. Tarian ini konon sudah berkembang sejak zaman nenek moyang.  Tarian ini kerap ditampilkan dalam upacara mecaq undat sebagai wujud ungkapan syukur atas hasil panen padi yang diperoleh. Setiap gerakan dalam tari datun ngentau memiliki arti tersendiri.  Sebut saja gerakan hentakan kaki dan gerakan maju yang menggambarkan kehidupan masyarakat Dayak Kenyah yang bergantung pada tenaga maupun kekuatan manusia secara fisik. Masyarakat setempat terbiasa berjalan kaki, masuk-keluar hutan, hingga naik gunung dalam aktivitasnya sehari-hari.  Selain itu, ada juga gerakan lambaian dan ayunan tangan yang melambangkan wujud syukur dan kegembiraan. Gerakan itu juga bisa disimbolkan sebagai permohonan keselamatan agar dijauhkan dari pengaruh jahat.\n",
      "True Label: Neutral, Predicted Label: Neutral\n",
      "\n",
      "Text 19: Detikntbcom – Menjelang ditetapkannya Calon Gubernur NTB Periode 2024-2029 oleh KPU NTB, dukungan sosial maupun politik ke pasangan Bacagub NTB Lalu Muhammad Iqbal dan Indah Dhamayanti Putri (Iqbal-Dinda) kian menguat.  Selain ditandai dengan kompaknya dukungan sepuluh partai politik, arus dukungan dari kelompok sosial, organisasi keagamaan dan masyarakat terus berdatangan.  Fakta terus mengalirnya dukungan sosial, masyarakat dan organisasi keagamaan kepada pasangan Iqbal – Dinda adalah bentuk real apresiasi terhadap tawaran-tawaran program dalam visi dan misi yang disampaikan pasangan ini dalam berbagai bentuk pertemuan dengan warga masyarakat.  Masyarakat dinilai mudah memahami dan dapat mencerna secara sederhana dan cepat ide-ide yang ditawarkan pasangan Iqbal-Dinda.  Juru Bicara Pasangan Iqbal-Dinda, Adhar Hakim menjelaskan kondisi seperti itu sebagai sebuah bentuk dukungan yang berbasis pada kesadaran rasional yang bersifat partisipatip. Bukan digerakan dengan bentuk-bentuk pemikiran irasional.  “Fakta-fakta seperti ini bagi kami menggembirakan dan sangat positif dalam memetakan agenda pemenangan pasangan Iqbal-Dinda,” ujar Adhar Hakim kepada Detikntbcom, Selasa 10 September 2024 di Mataram.  Tim Iqbal-Dinda memahami sejak awal publik memang harus diajak berfikir kritis rasional. Karena itu tawaran ide-ide Iqbal-Dinda juga selalu berbasis pada tawaran program yang real.  “Kami sadar sejak awal, biasanya godaan terbesar bagi kandidat jika terpilih kelak sebagai gubenur adalah memainkan kewenangan politik. Padahal selain politik, tanggung jawab yang jauh lebih besar dari seorang gubernur adalah menjalankan fungsinya sebagai kepala pemerintahan di daerah,” kata mantan Ketua Ombudsman NTB itu.  Karena itu katanya, baik visi maupun misi Iqbal-Dinda selalu berbasis pada nomenklatur kapasitas belanja APBD, dan fungsi, tugas dan kewenangan pemerintah provinsi.  Karena itulah juga sambungnya, disadari basis ideal penopang visi dan misi Iqbal-Dinda adalah kerja birokrasi yang akan ditata dengan pendekatan kapasitas dan kapabilitas kelembagaan ASN.  “Kami punya gagasan yang antara satu gagasan dengan gagasan lain tidak terlepas,” bebernya.  Misalnya katanya, ide pariwisata dan ekosistim industri komoditas unggulan, lalu pengembangan infrastruktur dan konektifitas serta isu lingkungan dan mitigasi bencana adalah ide-ide yang saling menunjang.  “Tapi kami juga sadar hal tersebut bisa cepat terlaksana jika ditunjang tranformasi kerja birokrasi yang berbasis enterpreneur kuat,” kata Adhar Hakim. Kami sepakat psikologikal ASN tidak boleh diganggu dengan praktek-praktek politisasi birokrasi.  Katanya, tawaran ide yang berbasis faktual yang mudah dicerna ini dapat diterima publik. Karena itu interaksi dan dialog akan terus dilakukan Iqbal-Dinda yang lebih suka blusukan ke berbagai kantong sosial baik di Pulau Lombok maupun Sumbawa.  “Tim juga sedang mematangkan terus agenda kampanye resmi yang sebentar lagi dimulai,” kata Adhar. (Iba)\n",
      "True Label: Neutral, Predicted Label: Neutral\n",
      "\n",
      "Text 20: SURABAYA (Suarapubliknews) ~ Kantor Wilayah Direktorat Jenderal Pajak (DJP) Jawa Timur I memulai kegiatan diseminasi Coretax System kepada wajib pajak strategis. Acara perdana ini berlangsung di Ruang Penyuluhan Kanwil DJP Jawa Timur I.  Kepala Bidang P2Humas Kanwil DJP Jawa Timur I Sugeng Pamilu Karyawan, yang mewakili Kepala Kanwil DJP Jawa Timur I, Sigit Danang Joyo mengatakan kegiatan diseminasi ini direncanakan berlangsung hingga November 2024, dengan sesi edukasi yang diadakan setiap dua hari sekali.  “Setiap sesi akan melibatkan 20 wajib pajak strategis yang diharapkan akan mendapatkan pemahaman mendalam Coretax, termasuk pengenalan antarmuka pengguna (user interface) dan tata cara penggunaan sistem tersebut,” katanya.  Coretax merupakan sistem administrasi layanan Direktorat Jenderal Pajak yang memberikan kemudahan bagi pengguna, baik internal maupun eksternal. Coretax meningkatkan otomatisasi dan digitalisasi layanan administrasi perpajakan dan mengintegrasikan berbagai layanan yang selama ini telah disediakan DJP seperti layanan pada DJP Online, e-Nofa, pembayaran, Eol, dan lainnya dengan menyatukan layanan tersebut dalam Coretax.  Coretax menyediakan layanan Perpajakan yang cepat, dapat diakses dari berbagai saluran (omni channel), dan dapat dimonitor secara real-time oleh wajib pajak (tracking) sehingga dapat menurunkan biaya kepatuhan (cost of compliance) wajlb pajak.  Coretax juga memberikan transparansi akun Wajib Pajak yang memungkinkan wajib pajak dapat melihat seluruh transaksi (360-degree view) sehingga mempermudah wajib pajak melakukan pemenuhan hak dan kewajiban perpajakannya dan menghadirkan pengawasan dan penegakan hukum yang lebih berkeadilan bagi wajib pajak melalui penerapan kepatuhan berbasis risiko.  Pada kegiatan ini, Coretax System diperkenalkan sebagai solusi untuk memudahkan dan mengurangi biaya kepatuhan wajib pajak. Wajib pajak yang diundang dalam sesi hari ini, langsung mempraktikkan penggunaan Coretax System dalam proses bisnis mereka, dengan pendampingan interaktif dari tim edukator Coretax Kanwil DJP Jawa Timur I.  “Kami sangat mengharapkan masukan dari Bapak/Ibu setelah menerima edukasi ini. Masukan tersebut akan kami eskalasi untuk penyempurnaan layanan saat Coretax diimplementasikan secara nasional,” ungkapnya.  Sugeng juga menambahkan bahwa diseminasi ini merupakan langkah strategis dalam mendukung transformasi digital di bidang perpajakan. “Dengan diperkenalkannya Coretax, kami berharap wajib pajak dapat merasakan kemudahan dan kecepatan dalam mengurus administrasi perpajakan. Sistem ini dirancang untuk meningkatkan akurasi dan efisiensi, sekaligus mengurangi potensi kesalahan dalam proses pelaporan,” tambahnya.  Kegiatan diseminasi ini diharapkan dapat menjadi katalisator dalam mempercepat implementasi Coretax di seluruh Indonesia, serta mendukung upaya pemerintah dalam meningkatkan layanan perpajakan yang modern dan berbasis teknologi.  Diseminasi ini juga menjadi bagian dari upaya DJP Jawa Timur I untuk mengedukasi wajib pajak tentang pentingnya transformasi digital dalam administrasi perpajakan. Dengan diperkenalkannya Coretax, diharapkan tidak hanya meningkatkan efisiensi dalam pelaporan pajak, tetapi juga meningkatkan kepatuhan wajib pajak melalui kemudahan dan kecepatan akses layanan.  Selain itu, DJP Jawa Timur I berkomitmen untuk terus mengembangkan program edukasi yang lebih komprehensif, sehingga semua wajib pajak di wilayah ini dapat beradaptasi dengan baik terhadap perubahan teknologi dalam sistem perpajakan. Melalui pendekatan yang proaktif dan inklusif, DJP berharap dapat menciptakan ekosistem perpajakan yang lebih modern dan responsif terhadap kebutuhan wajib pajak. (q cox, tama dini)\n",
      "True Label: Negative, Predicted Label: Negative\n",
      "\n",
      "Text 21: Liputan6.com, Jakarta - Rangkaian seri pameran otomotif Gaikindo Indonesia International Auto Show (GIIAS) 2024 siap dihelat di Surabaya. Gelaran yang diikuti puluhan merek otomotif ini, akan berlangsung 28 Agustus hingga 1 September, di Grand City Convex.  Merek-merek yang turut serta, total ada 32 yaitu kendaraan penumpang yang terdiri dari; Audi, BYD, Chery, Citroen, Daihatsu, DFSK, Honda, Hyundai, KIA, Lexus, Mazda, MG, Mitsubishi Motors, Nissan, Seres, Suzuki, Toyota, VinFast, Volkswagen dan Wuling, serta dari kendaraan komersial hadir DFSK dan juga Toyota Commercial.  Melengkapi merek merek kendaraan roda empat, hadir juga 10 kendaraan roda dua seperti; Alva, Aprilia, Kupprum, Moto Guzzi, Piaggio, Polytron, Royal Enfield, United E-motor, Vespa dan Volta.  Setiap peserta akan menampilkan model terbaru, teknologi serta desain inovatif hingga penawaran menarik yang dapat dieksplorasi lebih mendalam oleh pengunjung.  \"Kami telah mempersiapkan seluruh rangkaian kegiatan dan fasilitas yang akan membuat para pengunjung GIIAS Surabaya 2024 merasakan momen yang tidak terlupakan selama berkunjung,\" ujar Sri Vista Limbong, Project Director GIIAS 2024, dalam keterangan resmi, Jumat (23/8/2024).  Pengunjung dapat menjajal berbagai kendaraan impian di area outdoor Grand City Convex yang berada sepanjang 1.4 kilometer.  Area Test Drive dan Test Ride ini menjadi kesempatan yang tidak boleh dilewatkan pengunjung untuk dapat merasakan langsung performa, kenyamanan, dan fitur kendaraan secara langsung sebelum membuat keputusan pembelian.\n",
      "True Label: Neutral, Predicted Label: Neutral\n",
      "\n",
      "Text 22: JawaPos.com - Polres Metro Bekasi Kota resmi menahan Pegawai Direktorat Jenderal Pajak berinisial FAF. Dia sebelumnya sudah ditetapkan sebagai tersangka kekerasan dalam rumah tangga (KDRT) terhadap istrinya.  \"Perkemarin malam kita lakukan penangkapan dan tadi siang hari ini sudah kita lakukan penahanan,\" ucap Kasat Reskrim Polres Metro Bekasi Kota, Kompol Audy Joize Oroh, Rabu (28/8).  Penahanan dilakukan usai FAF diperiksa sebagai tersangka. Penyidik menilai, pelaku sudah memenuhi syarat untuk ditahan.  \"Untuk tersangka kita sudah lakukan pemeriksaan tersangka kemarin dan tersangka sudah didampingi pengacaranya juga,\" jelasnya.  Sebelumnya, pegawai Direktorat Jenderal Pajak berinisial FAF ditetapkan sebagai tersangka karena diduga melakukan KDRT terhadap istrinya. Keputusan ini diambil setelah melalui gelar perkara pada 23 Agustus 2024.  \"Sudah ditetapkan sebagai tersangka,\" ujar Kabid Humas Polda Metro Jaya Kombes Pol Ade Ary Syam Indradi.\n",
      "True Label: Positive, Predicted Label: Positive\n",
      "\n",
      "Text 23: \"Kerja sama pengembangan ekosistem hidrogen merupakan bagian dari upaya perseroan untuk mempercepat transisi energi sekaligus mendukung target pemerintah mencapai Net Zero Emission pada 2060,\" ujar Direktur Strategi, Portofolio, dan Pengembangan Usaha Pertamina Salyadi Dariah Saputra melalui keterangan tertulis, Kamis .  Salyadi menambahkan pengembangan hidrogen hijau akan jadi tren dunia dan bisa menjadi salah satu bisnis masa depan Pertamina. Pengembangan hidrogen memerlukan investasi besar serta dukungan regulasi dari Pemerintah sehingga ekosistem hidrogen di sektor transportasi bisa terbangun dengan baik.“Pertamina menyambut baik kerja sama dengan Hyundai Motor Company dan kolaborasi ini diharapkan akan mendorong upaya dekarbonisasi dan penggunaan energi bersih di sektor transportasi,” imbuhnya.  Kesepakatan antara Pertamina dengan Hyundai Motor Company diwujudkan melalui Perjanjian Kerja Sama oleh Direktur Strategi, Portofolio dan Pengembangan Usaha Pertamina, Salyadi Dariah Saputra dan representative dari Hyundai Motor Company pada 30 Mei 2024. Arco Ardjuna, kapal penampung produksi minyak mentah milik Pertamina Hulu Energi Offshore North West Java , mengakhiri masa baktinya pada 14 Agustus 2024.  Berita ini telah kami rangkum agar Anda dapat membacanya dengan cepat. Jika Anda tertarik dengan beritanya, Anda dapat membaca teks lengkapnya di sini. Baca lebih lajut:  Indonesia Berita Terbaru, Indonesia Berita utama  Similar News: Anda juga dapat membaca berita serupa dengan ini yang kami kumpulkan dari sumber berita lain.  Percepat Transisi Energi, Pertamina-Hyundai Motor Company Sepakat Kembangkan Ekosistem Hidrogen Pertamina secara berkelanjutan menjalin kerja sama dengan mitra strategis global dalam mengembangkan energi hijau yang lebih ramah lingkungan. Sumber: KompasTV - 🏆 22. / 63 Baca lebih lajut »  Hyundai STARGAZER Tampilkan Fitur Canggih untuk Keluarga Modern di GIIAS 2024 Hyundai menampilkan sederet produk unggulannya, salah satunya MPV tujuh penumpang Hyundai STARGAZER Sumber: suaradotcom - 🏆 28. / 53 Baca lebih lajut »\n",
      "True Label: Negative, Predicted Label: Negative\n",
      "\n",
      "Text 24: JAKARTA, iNews. id - Menteri Keuangan atau Menkeu Sri Mulyani Indrawati menyebutkan bahwa Program Makan Bergizi Gratis adalah program prioritas pemerintahan baru di bawah kepemimpinan Presiden dan Wakil Presiden terpilih Prabowo Subianto-Gibran Rakabuming Raka.  Untuk anggaran yang akan dialokasikan sendiri sebesar Rp71 trilun di 2025. Hingga saat ini program unggulan Prabowo-Gibran terus disempurnakan oleh tim khusus yang sudah dibentuk. Sehingga, Sri Mulyani belum mengungkap detailnya.  \"Untuk program prioritas Presiden terpilih makanan bergizi yang Rp71 triliun sudah ada di sini. Nanti akan dijelaskan dari tim makanan bergizi gratis yang saat ini terus disempurnakan,\" ujar Menkeu Sri Mulyani saat konferensi pers RAPBN 2025 di Kantor Pusat Direktorat Jenderal Pajak, Jakarta Selatan, Jumat (16/8/2024).\n",
      "True Label: Negative, Predicted Label: Negative\n",
      "\n",
      "Text 25: Sebanyak enam wakil Indonesia tampil di babak pertama hari kedua Korea Open 2024, namun sayang, tak semua pemain berhasil melaju ke 16 besar ajang bergengsi iniSebanyak enam wakil Indonesia tampil di babak pertama Korea Open 2024, namun sayang, tak semuanya berhasil melaju ke babak selanjutnya.Chico Aura Dwi Wardoyo menjadi wakil Garuda pertama yang tersingkir, usai kalah dari Jason Gunawan selaku tunggal putra keturunan Indonesia.  Ustaz Abdul Somad menerangkan hukum orang telah mengambil air wudhu langsung shalat tiba-tiba disentuh atau dijilat kucing. Mari simak penjelasannya di sini! Polisi mengungkap bahwa istri dari pegawai Direktorat Jenderal Pajak yang menjadi korban Kekerasan Dalam Rumah Tangga suaminya, mengalami stres.  Dalam sebuah kajian, Habib Novel Alaydrus mengungkapkan hukum dalam Islam ketika seseorang berwudhu tanpa mengenakan pakaian. Seperti apa? Simak artikelnya  Berita ini telah kami rangkum agar Anda dapat membacanya dengan cepat. Jika Anda tertarik dengan beritanya, Anda dapat membaca teks lengkapnya di sini. Baca lebih lajut:  Indonesia Berita Terbaru, Indonesia Berita utama  Similar News: Anda juga dapat membaca berita serupa dengan ini yang kami kumpulkan dari sumber berita lain.  Rekap Hasil Wakil Indonesia di Olimpiade 2024 Hari Ini: 2 Wakil Tersingkir, 1 Wakil Melaju ke Perempat Final Rekap hasil wakil Indonesia di Olimpiade 2024 hari ini, 1 Agustus 2024. Sumber: Bolanet - 🏆 20. / 63 Baca lebih lajut »  Daftar Pebulu Tangkis Indonesia dan Hasil Drawing Korea Open 2024 Daftar pebulu tangkis Indonesia dan hasil drawing Korea Open 2024 pada 27 Agustus-1 September 2024. Sumber: Bolanet - 🏆 20. / 63 Baca lebih lajut »  Rekap Hasil Korea Open 2024: Leo/Bagas dan Fikri/Daniel ke 16 Besar Dua pasangan ganda putra Indonesia, Leo/Bagas dan Fikri/Daniel, berhasil menembus babak 16 besar Korea Open 2024. Sumber: KompasTV - 🏆 22. / 63 Baca lebih lajut »  Jadwal Lengkap Korea Open 2024, 27 Agustus-1 September 2024 Jadwal lengkap pertandingan Korea Open 2024 pada 27 Agustus-1 September 2024. Sumber: Bolanet - 🏆 20. / 63 Baca lebih lajut »\n",
      "True Label: Neutral, Predicted Label: Negative\n",
      "\n",
      "Text 26: POS-KUPANG.COM, KUPANG - Adira Finance Cabang Kupang kembali menggelar Green Expo yang kedua dengan pengajuan kredit akan mendapatkan cashback sebesar Rp 500 ribu.  Green Expo kedua ini disponsori oleh Adira Finance dan Adira Finance Syariah berlangsung di Ramayana Mall Kupang, mulai tanggal 27 Agustus sampai dengan 1 September 2024.  Head Of Branch SSD Adira Finance Cabang Kupang, Andrianus Manu mengatakan, kegiatan tersebut merupakan lanjutan dari green expo pertama yang digelar pada bulan Juli 2023 lalu.  \"Kegiatan ini merupakan kegiatan kedua kami yaitu \"Green Expo\" yang sudah dijalankan di bulan Juli lalu dan sukses kami adakan. Saat ini kami adakan pada bulan Agustus ini dalam rangka HUT RI juga,\" kata Andrianus atau yang akrab disapa Andre.  Dalam pameran ini, kata Andre, Adira Finance Cabang Kupang mengadakan pameran mobil, motor dan sepeda listrik yang baru maupun yang bekas dari semua jenis merek.  \"Adapun benefit yang didapat jika mengajukan kredit di sini yaitu cashback sampai dengan Rp 500 ribu adira point, uang muka motor mulai dari 10 persen, uang muka mobil mulai dari 15 persen, ada approval atau persetujuan di tempat, begitu pun bunga untuk mobil baru khusus untuk passanger 2,68 persen per tahun. Kemudian untuk motor listrik subsidi Rp 7 juta dan tentunya berhadiah langsung,\" ungkap Andre.  Andre mengimbau kepada masyarakat Kota Kupang yang mau menggantikan mobil atau pun tukar tambah mobil lama, misalnya tahun 2010 ke atas, untuk passenger bisa ditukar dengan mobil baru dalam pameran tersebut.  \"Jadi tukarnya ini tanpa DP, langsung ditukar saja. Begitu juga dengan motor yang tahun 2015 ke atas, mungkin sudah dirasa lama dan mau ditukar dengan yang baru dengan semua jenis merek bisa kita layani tukar tambah di sini,\" bebernya.  Andre menambahan dalam kegiatan itu juga, Adira Finance membagikan paket sekolah untuk panti asuhan At-Tin, Namosain dan paket bantuan operasional panti asuhan At-Tin sebesar Rp 10 juta.  \"Harapan kami dengan acara ini mudah-mudahan animo masyarakat besar yang mau berbelanja di Ramayana maupun mau mengajukan pembiayaan di Adira Finance Karena, pada bulan Juni kemarin kami membukukan penjualan sebesar Rp 1,6 miliar. Harapan kami dalam Green Expo ini di atas itu, minimal Rp 1,8 miliar atau sebanyak 10 unit mobil terjual, selebihnya motor, baik yang baru maupun yang bekas,\" ungkapnya. (cr20)\n",
      "True Label: Negative, Predicted Label: Negative\n",
      "\n",
      "Text 27: Semoga dalam lingkup ASEAN ini bisa semakin mempererat hubungan antar bangsa dan talenta-talenta terbaik kita  Kupang (ANTARA) - Menteri Pariwisata dan Ekonomi Kreatif/Kepala Badan Pariwisata dan Ekonomi Kreatif (Menparekraf/Kabaparekraf) Sandiaga Salahuddin Uno menyebutkan pembukaan IndoFringe InovArt Exhibition sekaligus pameran karya Duta Besar India untuk ASEAN (Asosiasi Negara Asia Tenggara/Association of Southeast Asian Nations) Jayant N. Khobragade, sebagai perekat hubungan diplomatik antara Indonesia dan India.  Menparekraf dalam keterangan yang diterima di Kupang, Jumat mengatakan pameran yang mengusung tema \"A Nature's Symphony: Whispering Leaves, Joyful Dances, Gods of Grace\" dinilai mampu menggerakkan salah satu dari 17 subsektor ekraf di Indonesia, yaitu seni rupa.  \"Saya sangat mengapresiasi produk ekonomi kreatif ini. Semoga dalam lingkup ASEAN ini bisa semakin mempererat hubungan antar bangsa dan talenta-talenta terbaik kita,\" kata Sandiaga.  Tak hanya itu, ia juga meyakini lukisan karya Jayant N. Khobragade ini bisa mempererat hubungan Indonesia sebagai salah satu anggota ASEAN, dengan India sebagai mitra di sektor ekonomi kreatif.  Ia menuturkan pameran ini diisi dengan lelang berbagai lukisan karya Jayant yang akan dilelang untuk disumbangkan sebagai beasiswa bagi kaum perempuan.  \"Oleh karena itu, saya berharap bagi para pengunjung pameran ini bisa berpartisipasi dalam lelang tersebut. Sehingga kapasitas sumber daya manusia kaum perempuan di Indonesia bisa meningkat,” katanya.  Pameran ini juga dihadiri oleh Sekretaris Deputi Bidang Produk Wisata dan Penyelenggaraan Kegiatan (Events) Kemenparekraf/Baparekraf Ni Komang Ayu Astiti.\n",
      "True Label: Negative, Predicted Label: Negative\n",
      "\n",
      "Text 28: Jakarta, CNBC Indonesia - Ketua Umum Asosiasi Pengusaha Indonesia (Apindo) Shinta Widjaja Kamdani menyebut, pengusaha yang patuh dengan peraturan berlaku tidak akan terdampak ataupun merasa was-was dengan kewenangan tambahan Direktorat Jenderal Pajak (DJP) yang bisa mengakses informasi rekening nasabah, yang menyimpan uang sebesar Rp1 miliar, untuk kepentingan perpajakan.  Ia mengatakan, sebetulnya kewenangan tambahan tersebut bukan merupakan hal baru yang diatur terkait dengan automatic exchange of financial information. Katanya, hal itu sudah dulu diatur dalam Undang-undang (UU) Nomor 9 Tahun 2017 tentang Akses Informasi Keuangan untuk Kepentingan Perpajakan, beserta aturan turunannya.  \"PMK terbaru ini lebih mengatur petunjuk teknis bagi Lembaga Jasa Keuangan dan pendukungnya,\" kata Shinta kepada CNBC Indonesia, Rabu (14/8/2024).  Hanya saja, Shinta menyoroti bahwa kepatuhan pajak pada hakikatnya merupakan kewajiban wajib pajak masing-masing. Sehingga, apabila terjadi ketidakpatuhan maka wajib pajak yang bersangkutan lah yang harus mempertanggungjawabkannya.  \"Pengusaha yang sudah patuh tidak akan terdampak atas pengaturan ini, dan yang belum patuh tentu menimbulkan rasa was-was,\" ujarnya.  Kendati demikian, ia tetap berharap agar DJP tidak melakukan tindakan yang berpotensi terjadi penyalahgunaan wewenang atau abuse of power.  Foto: CNBC Indonesia/Muhammad Sabki Ilustrasi Uang  \"Harapannya, pengaturan yang lebih seksama ini, termasuk pengenaan sanksi pemeriksaan bukti permulaan, agar jangan menimbulkan potensi-potensi terjadinya penyalahgunaan kewenangan. Perhatian khusus juga perlu diberikan atas keamanan pertukaran data secara elektronik, karena rawan terjadinya kebocoran informasi oleh pihak yang tidak berwenang,\" pungkas dia.  Sebelumnya, DJP telah memiliki kewenangan tambahan untuk mendapatkan akses informasi keuangan untuk kepentingan perpajakan. Pemilik rekening bank yang bisa diintip isinya oleh otoritas pajak pun dilarang bersekongkol untuk menutup akses tersebut.  Nominal pemilik rekening yang bisa diintip isinya oleh Ditjen Pajak ialah sebesar Rp 1 miliar, sebagaimana tertuang dalam Pasal 19 Peraturan Menteri Keuangan (PMK) Nomor 19 Tahun 2018, yang menggantikan batasan sebelumnya dalam PMK 70/2017 sebesar Rp 200 juta.  Selain itu, dalam pasal 7 PMK tersebut disebutkan pihak lembaga jasa keuangan juga wajib menyampaikan laporan yang berisi informasi keuangan untuk setiap Rekening Keuangan yang agregat saldo atau nilai rekening keuangannya melebihi US$ 250.000.  \"Bank merupakan salah satu jenis lembaga keuangan pelapor informasi keuangan dan berkewajiban untuk melakukan identifikasi rekening keuangan (due diligence) serta melaporkannya kepada DJP seusai standar yang berlaku,\" kata Direktur Penyuluhan, Pelayanan, dan Hubungan Masyarakat DJP Dwi Astuti kepada CNBC Indonesia, dikutip Senin (12/8/2024).  Adapun pihak-pihak yang melakukan persekongkolan untuk menghalang-halangi Direktorat Jenderal Pajak mendapatkan akses informasi keuangan untuk kepentingan perpajakan tersebut, akan kehilangan layanan pembukaan rekening baru hingga transaksi di perbankan.\n",
      "True Label: Negative, Predicted Label: Negative\n",
      "\n",
      "Text 29: JAKARTA - PT Bank Danamon Indonesia Tbk (Danamon) and PT Adira Dinamika Multi Finance Tbk (Adira Finance) participated in the SPOGOMI activity which took place on Sunday, September 1, 2024, during Car Free Day in front of the Mori Tower Building, Sudirman, Jakarta. Jin Yoshida, as Director of the Global Alliance Strategy Danamon (low right) was also present with Danamon volunteers.  Jin Yoshida said: 'SPOGOMI is a sports activity while collecting popular garbage in Japan, and through this activity we together with our subsidiary, Adira Finance, participate to show our commitment to helping reduce the amount of garbage on the road which of course can have a good impact on the environment.'  This SPOGOMI event is in the form of a competition, where there are regulations, namely that participants must remain in the area that has been determined by the committee, if participants leave the designated area they will be disqualified.  There are several types of waste collected at this event, where Danamon and Adira collect the type of 'Residu' waste or the type of garbage that is difficult or cannot be recycled easily which will get 50 points for every 100gr of waste collected.  Through SPOGOMI activities, Danamon and Adira collaborate with the Recosystem and show their commitment to continue to provide the best not only for the environment but also for the community in carrying out transaction activities, through various services offered such as: D-Bank PRO, the mobile banking Danamon application where customers can enjoy cashback of 10% for transactions at the diversity, and the opening of JCB credit cards with attractive souvenirs during this event.  The English, Chinese, Japanese, Arabic, and French versions are automatically generated by the AI. So there may still be inaccuracies in translating, please always see Indonesian as our main language. (system supported by DigitalSiber.id)\n",
      "True Label: Negative, Predicted Label: Negative\n",
      "\n",
      "Text 30: Palembang (ANTARA) -  Kementerian Pariwisata dan Ekonomi Kreatif mendorong Kota Palembang, Sumatera Selatan menjadi kota kreatif UNESCO agar dapat membuka lapangan usaha dan lapangan kerja lebih besar lagi untuk masyarakat.  Menteri Pariwisata dan Ekonomi Kreatif Sandiaga Uno di Palembang, Minggu, mengatakan bahwa dengan mengajukan Kota Palembang sebagai kota kreatif UNESCO agar bisa membuka lapangan usaha dan lapangan kerja lebih besar lagi untuk masyarakat.  Ia menyampaikan bahwa untuk mendorong hal tersebut, inovasi-inovasi di bidang usaha mikro kecil menengah (UMKM) harus lebih banyak dikembangkan begitu juga dengan berbagai event atau kegiatan sehingga dapat menciptakan kolaborasi dalam pengembangan usaha.  \"Kita harapkan Kota Palembang bisa menjadi kota kreatif dari UNESCO bakal diajukan. Sehingga bisa membuka lapangan usaha dan lapangan kerja lebih besar lagi untuk masyarakat,\" katanya.  Sementara itu Pj Wali Kota Palembang Ucok Abdulrauf Darmenta berkomitmen untuk terus mendukung para pelaku UMKM dan ekonomi kreatif di Kota Palembang.  Termasuk dengan pemanfaatan lokasi- lokasi baru yang bisa diberdayakan oleh para pelaku UMKM dan ekonomi kreatif.  \"Kami melihat banyak aset di Palembang bukan aset kita, tapi provinsi maka kami sudah koordinasi. Ada aset museum tekstil yang akan dihidupkan kembali sehingga UMKM dan yang berkaitan dengan ekonomi kreatif kita bisa display disana,\" ucapnya.  Ia menambahkan bahwa saat ini Palembang sudah masuk dalam Karisma Event Nusantara (KEN) yang diseleksi oleh Kemenparekraf mengalahkan ratusan kabupaten/kota lainnya.  Hal ini menunjukkan bahwa pemerintah kota terus berkomitmen dalam pengembangan dan kemajuan Kota Palembang dari berbagai sektor terkhusus UMKM dan ekonomi kreatif.\n",
      "True Label: Negative, Predicted Label: Negative\n",
      "\n",
      "Text 31: MEDIANEKITA.com - Ketegangan antara kelompok organisasi masyarakat (ormas) dan debt collector kembali pecah.  Kali ini, bentrokan terjadi di kawasan Cikarang Square, Cikarang Selatan, Kabupaten Bekasi.  Insiden ini dipicu oleh penarikan mobil leasing oleh pihak Adira Finance terhadap salah satu anggota ormas.  Konfirmasi ini disampaikan langsung oleh Kapolsek Cikarang Selatan, Kompol Rudi Wiransyah.  Menurutnya, bentrokan bermula saat petugas debt collector hendak menarik mobil yang cicilannya menunggak selama lima bulan.  Tidak terima kendaraan pribadinya ditarik, anggota ormas tersebut kemudian mengajak rekan-rekannya untuk mendatangi kantor leasing.  \"Awalnya ada penarikan mobil leasing, lalu terjadi pertemuan antara kedua belah pihak. Namun, karena tidak menemukan titik temu, akhirnya terjadilah keributan,\" ujar Rudi, Kamis (29/8/2024).  Bentrokan yang melibatkan puluhan orang ini sempat terekam kamera dan viral di media sosial.  Dalam video yang beredar, terlihat kedua kelompok terlibat aksi saling dorong dan pukul.  Akibat kejadian ini, setidaknya dua orang dari pihak leasing mengalami luka-luka.  \"Kedua belah pihak sudah membuat laporan polisi. Kami akan melakukan penyelidikan lebih lanjut untuk mengungkap penyebab pasti dari bentrokan ini,\" tegas Rudi.***\n",
      "True Label: Neutral, Predicted Label: Neutral\n",
      "\n",
      "Text 32: JAKARTA, SUDUTPANDANG.ID – Kantor Wilayah (Kanwil) Direktorat Jenderal Pajak (DJP) Jakarta Barat hingga 31 Juli 2024 telah membukukan capaian penerimaan bruto sebesar Rp41,12 triliun dan penerimaan neto sebesar Rp36,29 triliun atau 55,98 persen dari target APBN sebesar Rp64,83 triliun.  Dalam taklimat media yang diterima Sudutpandang.id di Jakarta, Jumat (16/8/2024) disebutkan capaian ini mengalami pertumbuhan dibandingkan tahun lalu sebesar 3,33 persen.  Sedangkan secara nasional, realisasi penerimaan pajak sampai dengan 30 Juni 2024 penerimaan bruto sebesar Rp1.240,13 triliun dan penerimaan neto sebesar Rp1.045,32 triliun atau 52,56 persen dari target APBN sebesar Rp1.988,88 triliun.  Capaian Kanwil DJP Jakarta Barat Semester I tahun 2024 berdasarkan jenis pajaknya terdiri atas Pajak Penghasilan sebesar Rp17,53 triliun, Pajak Pertambahan Nilai dan Pajak Penjualan Barang Mewah sebesar Rp18,73 triliun, PBB dan BPHTB negatif sebesar Rp18,7 juta, Pendapatan PPh DTP sebesar Rp1,37 juta, dan Pajak lainnya sebesar Rp23,65 miliar.  Empat sektor kegiatan usaha di Jakarta Barat yang memberi kontribusi dominan sebesar 75,96 persen terhadap realisasi penerimaan adalah sektor perdagangan sebesar Rp17,99 triliun (49,59 persen), sektor industri pengolahan sebesar Rp5,62 triliun (15,50 persen), sektor pengangkutan pergudangan sebesar Rp2,15 triliun (5,94 persen), dan sektor konstruksi sebesar Rp1,79 triliun (4,94 persen).  Dari sisi kepatuhan pelaporan SPT Tahunan, kinerja penerimaan SPT Tahunan Kanwil DJP Jakarta Barat sampai dengan 30 Juli 2024 telah mencapai 84,35 persen, atau telah menerima 347.998 SPT Tahunan dari target sebanyak 412.582 SPT.  Kepala Kanwil DJP Jakarta Barat Farid Bachtiar menyampaikan optimismenya dalam pencapaian target 2024.  Ia yakin bahwa pengusaha atau wajib pajak di Jakarta Barat memiliki optimisme yang sama sehingga dukungan dari para wajib pajak tersebut akan bisa mendorong penerimaan Kanwil DJP Jakarta Barat diatas 100%.  Menambahkan dasar optimismenya, Farid menyampaikan bahwa jumlah wajib pajak di Jakarta Barat dan jumlah wajib pajak yang membayar pajaknya tahun ini mengalami peningkatan, sehingga diharapkan berdampak pada kenaikan pencapaian penerimaan tahun ini.  Melansir konferensi pers Forum Assets Liabilities Committee (ALCO) Regional DKI Jakarta pada tanggal 16 Agustus 2024, Kepala Kanwil Direktorat Jenderal Perbendaharaan Provinsi DKI Jakarta Mei Ling menyampaikan perkembangan beberapa indikator ekonomi di Provinsi DKI Jakarta.  Ekonomi Jakarta pada Triwulan II tahun 2024 bertumbuh sebesar 4,90 persen (yoy) dan sebesar 1,38 persen (qtq), melambat 0,12 poin dari triwulan I 2024 dan di bawah batas psikologis (5 persen).  Pada Juli 2024 terjadi inflasi 1,97 persen (yoy) turun 0,26 poin dari bulan Juni (2,23 persen) dengan IHK 105,04 dan deflasi 0,06 persen (mtm) serta inflasi 0,85 persen (ytd).  Neraca Perdagangan bulan Juli menyajikan kinerja ekspor mencapai 5,10 miliar dolar AS dan impor mencapai 6,50 miliar dolar AS, sehingga tercatat defisit neraca perdagangan sebesar 1,40 miliar dolar AS.  Secara kumulatif Jan-Juli 2024, neraca perdagangan tercatat defisit 6,34 miliar dolar AS atau naik 6,71 miliar dolar AS.  Defisit ini antara lain akibat karakteristik perdagangan Jakarta yang menjadi salah satu hub internasional yang didominasi impor.  Dari sisi penerimaan pajak DKI Jakarta, Kepala Bidang Penyuluhan Pelayanan dan Hubungan Masyarakat Kanwil DJP Jakarta Utara Hendriyan menyampaikan secara rinci kinerja pendapatan pajak di DKI Jakarta yang mengalami perlambatan dengan total capaian sebesar Rp741,43 triliun dengan total capaian 56,29 persen dari target pajak 2024.  Tren penurunan pendapatan pajak akibat penurunan komoditas dan kenaikan restitusi masih berdampak sampai dengan periode Juli dengan kontraksi sebesar 10,28 persen (yoy) akibat penurunan di beberapa jenis pajak, utamanya PPh Non Migas yang turun 10,70 persen (yoy).  Mayoritas jenis pajak utama masih tumbuh positif dengan pertumbuhan tertinggi pada PPh Pasal 21 (25,69 persen), terutama pajak-pajak transaksional (non-PPh Badan) yang masih tumbuh seiring dengan aktivitas ekonomi yang terjaga.  Kinerja PPN terkontraksi, utamanya akibat penurunan PPN Dalam Negeri sebagai dampak kenaikan restitusi.  PPh Migas menurun akibat turunnya penerimaan PPh Minyak Bumi dan Gas Alam karena penurunan lifting migas.  PBB dan Pajak lainnya menurun karena tidak terulangnya pembayaran tagihan pajak pada tahun 2023.  Kepala Bidang Kepabeaan dan Cukai Kanwil Direktorat Jenderal Bea dan Cukai DKI Jakarta Muhammad Hilal Nur Sholihin melengkapi konferensi pers dengan menyampaikan kinerja penerimaan Kepabeanan dan Cukai DKI Jakarta hingga dengan 31 Juli 2024 membaik.  Penerimaan Kepabeanan dan Cukai sebesar Rp12,71 triliun dengan capaian sebesar 45,91 persen dari target APBN, turun 5,84 persen (yoy).  Kinerja Penerimaan Negara Bukan Pajak (PNBP) tetap terjaga ditopang kenaikan PNBP SDA.  Hal ini disampaikan oleh Didik Hariyanto, Kepala Bidang Kepatuhan Internal, Hukum, dan Informasi Kanwil Direktorat Jenderal Kekayaan Negara DKI Jakarta.  Sampai dengan 31 Juli 2024, PNBP mencapai Rp241,61 triliun atau 102,39 persen dari target dan mengalami kenaikan sebesar 2,96 persen (yoy). (PR/02)\n",
      "True Label: Negative, Predicted Label: Negative\n",
      "\n",
      "Text 33: PortalMagetan.com -Info seputar lowongan kerja di industri makanan dan minuman bakal diulas dalam artikel ini memasuki bulan September 2024. Setelah PT Tirta Fresindo Jaya resmi membuka rekrutmen karyawan baru.  Jobseeker yang ingin bergabung dan mendaftar ke PT Tirta Fresindo Jaya agar menyiapkan CV terbaik sehingga meningkatkan potensi dipanggil oleh rekruter untuk sesi wawancara atau interview.  PT Tirta Fresindo Jaya dalam membuka lowongan kerja menetapkan kualifikasi pendidikan minimal S1, dengan jurusan sesuai formasi yang tersedia. Lowongan kerja ini terbuka baik bagi fresh graduate maupun pengalaman.  PT Tirta Fresindo Jaya menyatakan kandidat yang lolos dalam seleksi ini bakal ditempatkan diseluruh wilayah PT Tirta Fresindo Jaya.  PT Tirta Fresindo Jaya (Mayora Group) merupakan anak perusahaan PT. MAYORA INDAH Tbk yang berdiri pada tahun 1977 dengan pabrik pertama berlokasi di Tangerang menjadi perusahaan pablik pada tahun 1990. Kegiatan usaha serta jenis produk yang dihasilkan sesuai dengan anggaran dasarnya, kegiatan usaha perseroan diantaranya adalah dalam bidang industri. Saat ini PT. Mayora Indah Tbk memproduksi dan memiliki 6 devisi yang masing masing menghasilkan berbeda namun terintegrasi. Di Indonesia, perseroan tidak hanya dikenal sebagai perusahaan yang memproduksi makanan dan minuman olahan, tetapi juga dikenal sebgai market leader yang sukses menghasilkan produk produk yang menjadi pelopor pada kategorinya masing masing.  PT Mayora Indah Tbk (MYOR) tak pernah berhenti berinovasi mengeluarkan produk baru. Tiap kali menampilkan iklan di televisi, slogan “Satu Lagi dari Mayora” selalu muncul di akhir iklan. Slogan pemasaran ini mengisyaratkan selalu ada produk baru dari salah satu pemain dalam industri makanan dan minuman di Indonesia itu. Lewat PT Tirta Fresindo Jaya, Mayora merambah pula ke pasar air minum dalam kemasan dengan merek Le Minerale.  Saat ini PT Tirta Fresindo Jaya kembali membuka lowongan kerja terbaru pada bulan September 2024. Adapun dibawah ini adalah posisi jabatan yang saat ini tersedia bagi Anda para pencari kerja yang tertarik untuk mengembangkan karir Anda bersama PT Tirta Fresindo Jaya dengan kualifikasi sebagai berikut.  Lowongan Kerja PT Tirta Fresindo Jaya (Mayora Group)\n",
      "True Label: Neutral, Predicted Label: Neutral\n",
      "\n",
      "Text 34: Dalam momentum hari jadi Provinsi Jabar yang ke-79 tahun, sejumlah rangkaian disiapkan dalam acara West Java Festival 2024. Acara perayaan hari ulang tahun Jabar ini akan diselenggarakan sejak tanggal 21-25 Agustus 2024.  Pada hari puncaknya yakni Minggu nanti malam, ditutup dengan konser musik di Lapangan Saparua Bandung. Konser musik ini akan menampilkan sejumlah artis top ibu kota asal Jabar. Siapa saja kah mereka? Simak berikut daftar pengisi acara dan lini masa mereka yang bakal tampil dalam WJF 2024.Aturan Boleh dan Tidak Boleh di Lapangan Saparua  Sebelum berangkat ada baiknya mengetahui terlebih dahulu apa saja yang boleh dan tidak boleh dibawa. Ini untuk kepentingan dan kenyamanan seluruh pengunjung.Nah detikers, itulah tadi penjelasan terkait panduan dan hal yang perlu diketahui sebelum datang ke Konser WJF 2024 malam ini. Pantau terus update kegiatannya di lamanWest Java Festival 2024 didukung oleh Bank BJB sebagai Official Bank Partner, Le Minerale sebagai Official Mineral Water dan PT Migas Utama Jabar.  Tulis Komentar  Writer:  Terima kasih atas komentar Anda. Komentar Anda akan dipublikasikan setelah ditinjau.  Berita ini telah kami rangkum agar Anda dapat membacanya dengan cepat. Jika Anda tertarik dengan beritanya, Anda dapat membaca teks lengkapnya di sini. Baca lebih lajut:  Indonesia Berita Terbaru, Indonesia Berita utama  Similar News: Anda juga dapat membaca berita serupa dengan ini yang kami kumpulkan dari sumber berita lain.  Ini Rute Angkot Menuju Lapangan Saparua Venue West Java Festival 2024 Puncak event West Java Festival (WJF) 2024 akan berlangsung sore ini, Minggu (25/8/2024). Berikut rute angkot yang melewati kawasan Lapangan Saparua. Sumber: detikcom - 🏆 29. / 51 Baca lebih lajut »  Puncak West Java Festival 2024 Hari Ini, Begini Imbauan Polisi Puncak acara West Java (WJF) 2024 digelar di Lapangan Saparua, Kota Bandung. Berikut imbauan polisi demi kelancaran lalu lintas. Sumber: detikcom - 🏆 29. / 51 Baca lebih lajut »  Seru-Seruan di West Java Festival 2024 Bareng Nidji Sampai Rocket Rockers West Java Festival 2024 hadir di Bandung hingga 25 Agustus. Nikmati penampilan Yovie and Nuno, Nidji, Wali, dan banyak lagi. Dapatkan tiket gratis di Sapawarga! Sumber: detikcom - 🏆 29. / 51 Baca lebih lajut »  Pemprov Jabar libatkan 1.600 seniman pada West Java Festival 2024 Pemerintah Provinsi (Pemprov) Jawa Barat melibatkan 1.600 seniman dari berbagai bidang untuk mengikuti rangkaian kegiatan West Java Festival (WJF) yang ... Sumber: antaranews - 🏆 6. / 78 Baca lebih lajut »\n",
      "True Label: Neutral, Predicted Label: Neutral\n",
      "\n",
      "Text 35: KONTAN.CO.ID - JAKARTA. Laju kredit masih tetap komit di semester kedua tahun 2024 ini, PT Bank Danamon Indonesia Tbk memproyeksikan pertumbuhan penyaluran kredit bakal tumbuh double digit pada semester kedua tahun ini, sejalan dengan target pertumbuhan kredit industri perbankan.  Direktur Bank Danamon, Dadi Budiana mengatakan, pertumbuhan kredit di semester kedua nanti akan tetap ditopang oleh keempat lini bisnis utama, diantaranya enterprise banking, usah kecil dan menengah (UKM), perbankan konsumer dan Adira Finance yang telah menunjukkan pertumbuhan kredit secara konsisten hingga kuartal I-2024.  Guna mencapai rencana bisnis kredit tersebut, Bank Danamon senantiasa mempererat hubungan dengan nasabah yang sudah ada dan mengakuisisi nasabah baru melalui pendekatan pada ekosistem tertentu dan kolaborasi yang kuat dengan MUFG, serta terus meningkatkan proses dan kapabilitas internal untuk menghadirkan solusi keuangan yang inovatif dan sesuai kebutuhan usaha Nasabah.  \"Danamon juga akan terus menjaga penyaluran kreditnya yang terdiversifikasi dengan baik ke berbagai sektor, termasuk sektor trading, household, manufaktur dan sektor potensial lainnya sejalan dengan upaya Pemerintah dalam mendorong pertumbuhan perekonomian nasional,\" ucap Dadi kepada KONTAN, belum lama ini.  Dalam rencana bisnisnya, bank berkode saham BDMN ini menitikberatkan penyaluran kredit pada nasabah di sektor yang potensial, serta memiliki rekam jejak yang baik dengan selalu berpegang pada prinsip kehati-hatian melalui penerapan manajemen risiko yang disiplin. Melalui berbagai upaya ini, Danamon optimis dapat mencapai pertumbuhan kredit yang berkelanjutan dan terus berkembang menjadi grup finansial terkemuka.  Sejauh ini, Bank Danamon mencatat pertumbuhan kredit sebesar 17,94%. Dalam laporan bulanan, kredit Bank Danamon mencapai Rp 136,68 triliun per Mei 2024 dari realisasi penyaluran kredit sebesar Rp 115,89 triliun.\n",
      "True Label: Neutral, Predicted Label: Neutral\n",
      "\n",
      "Text 36: INDODAILY.CO, JAKARTA — Bertepatan dengan hari ulang tahunnya yang ke 68, PT Bank Danamon Indonesia Tbk (Danamon), didukung oleh jaringan global dan lokal bersama MUFG sebagai induk perusahaannya, dan group members-nya yaitu Adira Finance, Home Credit Indonesia, Mandala Finance, dan Zurich Asuransi Indonesia.  Untuk mitra strategisnya yaitu Grab, Akulaku, dan Manulife Indonesia, menegaskan komitmennya untuk terus bertransformasi sebagai Satu Grup Finansial.  ”Tujuan kami adalah untuk menjadi mitra keuangan terpercaya yang senantiasa berorientasi pada nasabah dan inovatif, guna memenuhi kebutuhan para pemangku kepentingan, dengan menyediakan solusi finansial menyeluruh dan kita tumbuh bersama,” ujar Direktur Utama (Dirut) PT Bank Danamon Indonesia Tbk Daisuke Ejima, Rabu (17/7/2024).  Ejima menjelaskan, kesempatan ini bukan sekadar perayaan atas umur panjang Danamon. Namun juga komitmen Danamon untuk tumbuh sebagai grup finansial dan menjadi salah satu dari Top 5 Institusi Keuangan di Indonesia.  Menurut dia, Danamon akan terus fokus pada optimalisasi bisnis melalui pembangunan fondasi infrastruktur teknologi informasi dan digital, sumber daya manusia, branding, serta jaringan kantor cabang dan ATM.  “Arahan strategis ini bertujuan untuk mempertahankan pertumbuhan dua digit dalam penyaluran kredit dan pendanaan dengan profitabilitas yang berkelanjutan,” tuturnya.  Sebagai refleksi dari komitmen untuk terus bertransformasi tersebut, Danamon akan melakukan pembaruan terhadap logo perusahaan, yang akan diumumkan kepada publik bersamaan dengan momentum ulang tahunnya, dan akan mulai berlaku efektif pada 16 Juli 2024.  Ajak Nasabah dan Masyarakat Merayakan Ulang Tahunnya, Danamon Gelar Berbagai Kegiatan, Promo Menarik, dan DXPO by Danamon  Pada momen ulang tahun yang ke 68, Danamon dengan bangga mengajak para nasabah dan seluruh elemen masyarakat untuk bersama-sama merayakan hari yang istimewa bagi Danamon, yang telah berdiri sejak tahun 1956.  Selama periode ulang tahun ini, Danamon akan menghadirkan berbagai program menarik, mulai dari promo spesial hingga kegiatan sosial, untuk merayakan momen berharga ini.  Selama bulan Juli, Danamon menghadirkan promo unggulan berupa cashback untuk pembelanjaan di Toko UNIQLO & UNIQLO.com hingga Rp168.000,-.  Promo ini dapat digunakan selama tanggal 1-31 Juli 2024, dengan transaksi menggunakan QRIS D-Bank PRO, Kartu Debit, Kredit, dan Charge Danamon  Selain itu, Danamon juga untuk kedua kalinya akan menghadirkan DXPO by Danamon di Jakarta pada tanggal 18-21 Juli 2024 di Central Park Mall, dan tahun ini akan hadir juga di Makassar pada tanggal 22-25 Agustus 2024.  DXPO by Danamon dirancang untuk menampilkan jaringan luas Danamon bersama grup perusahaannya, yang menawarkan solusi keuangan menyeluruh, yang disesuaikan dengan kebutuhan nasabah, antara lain: Danamon LEBIH PRO/Danamon LEBIH PRO iB dengan promo hemat 50% hingga Rp35.000.000,- liburan keliling dunia dan naik haji dengan membuka rekening di Travel Fair DXPO by Danamon; Kartu Debit, Kredit, dan Charge Danamon dengan promo hemat hingga Rp6.800.000,-; KPR Danamon dengan promo spesial angsuran setara bunga mulai 1,68% tetap 1 tahun; Kredit Pemilikan Mobil (KPM Prima & KPM Prima Syariah) dengan bunga/margin 2,68% per tahun bersama Adira Finance; D-Bank PRO dengan promo cashback Rp68.000,- untuk transaksi menggunakan QRIS D-Bank PRO di DXPO Market, yang secara khusus menampilkan berbagai tenant beauty dan lifestyle, serta Festival Kuliner Nusantara yang menghadirkan kuliner dari berbagai penjuru daerah di Indonesia yang tidak dapat ditemui di Jakarta; serta Home Credit Indonesia dengan promo dapatkan cicilan ringan bunga 0% dengan tabungan Danamon LEBIH PRO/Danamon LEBIH PRO iB untuk pembelian berbagai produk elektronik.  Sementara, beberapa kegiatan sosial yang akan diadakan antara lain yaitu program edukasi Financial Hospital, yang merupakan program literasi keuangan untuk komunitas Sandwich Generation; donasi panel surya, literasi keuangan, lingkungan, dan kebencanaan untuk komunitas Fadhlul Fadhlan; literasi keuangan serta pelatihan barista bagi komunitas difabel yang diadakan bersama Sunyi Academy; juga pengenalan aktivitas profesi dan produk perbankan, edukasi keuangan, lingkungan dan kebencanaan untuk sekolah-sekolah.  “Inisiatif-inisiatif ini mencerminkan pendekatan holistik Danamon terhadap CSR, dengan menekankan pada pentingnya pendidikan, keberlanjutan lingkungan, dan keterlibatan komunitas,” jelas Ejima.  Untuk informasi lebih lanjut mengenai DXPO by Danamon, serta berbagai program dan promo ulang tahun Danamon, kunjungi bdi.co.id/dxpo dan bdi.co.id/hut68.\n",
      "True Label: Neutral, Predicted Label: Neutral\n",
      "\n",
      "Text 37: TRIBUNNEWS.COM - Kabar terbaru jelang Liga Voli Korea musim 2024/25, Kim Yeon-koung sang kapten Pink Spiders bakal minim bermain, Senin (26/8/2024).  Idola Megawati Hangestri yang merupakan andalan Pink Spiders itu akan lebih banyak diistirahatkan musim ini mengingat kondisi fisiknya.  Minim bermain termasuk siasat pelatih Pink Spiders, Marcello Abbondanza yang tengah mencari penerus Kim Yeon-koung (KYK) kedepannya.  Karena bagi Abbondanza, itulah yang bisa ia lakukan demi mengurangi beban pemain legendaris seperti KYK di Liga Voli Korea musim depan.  Strategi tersebut juga diiringi dengan misi merebut gelar juara yang luput didapat Pink Spiders musim lalu karena kalah dari Hyundai Hillstate.  Abbondaza paham tekanan yang didapat olek KYK untuk bisa mengantar Pink Spiders menjadi juara.  \"Mengurangi beban Kim Yeon-koung adalah bagian terpenting dalam manajemen liga,\" buka Abbondanza dilansir Naver Sports.  \"Kami harus membiarkannya (KYK) beristirahat dengan baik selama musim ini.\"  \"Saya berharap para Outside Hitter kami akan berkembang pesat sehingga mereka dapat bermain menggantikan Kim Yeon-koung sesekali,\" katanya menambahkan.  Dari kacamata Abbondanza, akan sulit bagi KYK untuk bermain di semua pertandingan Liga Voli Korea musim ini.  Sehingga dia akan mengatur sedemikian rupa agar sang pemain andalan tetap fit jika Pink Spiders bisa melaju ke playoff atau final.  \"Akan sulit baginya (Kim Yeon-koung) untuk bermain di setiap pertandingan seperti musim lalu.\"  \"Setelah bermain di semua pertandingan liga dan bermain di babak playoff dan kejuaraan (final), ia pasti akan kelelahan di akhir pertandingan,\" papar Abbondanza.\n",
      "True Label: Positive, Predicted Label: Neutral\n",
      "\n",
      "Text 38: Indramayu,- Kepolisian Sektor Terisi jajaran Polres Indramayu Polda Jabar melakukan patroli rutin yakni sambang Perbankan warga di wilayah Kecamatan Terisi Kabupaten Indramayu. Sabtu (31/8/2024)  Patroli ini difokuskan pada sejumlah lokasi strategis, seperti objek vital (OBVIT), perkantoran, perumahan, jalanan sepi, serta titik-titik kumpul masyarakat.  Kapolres Indramayu, AKBP Ari Setyawan Wibowo, melalui Kapolsek Terisi AKP Joni, menyampaikan bahwa patroli ini merupakan langkah preventif yang dilaksanakan secara rutin untuk menjaga keamanan dan ketertiban di masyarakat.  “Kami memastikan kehadiran polisi di tengah masyarakat, terutama di lokasi-lokasi yang rawan tindak kriminal, sebagai bentuk pencegahan dini terhadap potensi kejahatan,” ujar AKP Joni didampingi Kasi Humas Polres Indramayu, IPTU Junata.  Selain patroli, personel Polsek Terisi juga memberikan himbauan kamtibmas kepada warga yang ditemui selama patroli.  “Kami mengajak masyarakat untuk selalu waspada dan tidak ragu melaporkan hal-hal yang mencurigakan kepada pihak kepolisian,” tambah AKP Joni.  Apabila ada informasi gangguan kamtibmas dapat menghubungi kami melalui Lapor Pak Polisi Siap Mas Indramayu 081999700110 dan call center 110  “Kegiatan ini diharapkan dapat memberikan rasa aman dan nyaman bagi masyarakat serta meminimalisir angka kriminalitas di wilayah hukum Polres Indramayu,” tutup Kapolsek.\n",
      "True Label: Positive, Predicted Label: Positive\n",
      "\n",
      "Text 39: JAM'IYYATUL Qurra wal Huffazh Nahdlatul Ulama (JQHNU), badan otonom Nahdlatul Ulama, menyelenggarakan Multaqo Nasional Ulama Al-Qur'an pada 26-28 Juni 2024. Kegiatan tersebut mendorong pengurangan buta huruf masyarakat akan Al-Qur'an serta untuk meningkatkan kesadaran masyarakat untuk mengkaji sambil melestarikan kitab suci demi kebaikan.  Ketua Umum JQHNU KH Saifullah Ma'shum mengatakan Multaqo Nasional juga bertujuan mengidentifikasi serta merumuskan berbagai persoalan dan tantangan sambil menghimpun gagasan konstruktif bagi kemajuan pendidikan dan dakwah Al-Qur’an di Indonesia.  \"Dalam misi ini, kami tidak bersikap inklusif karena ini penting bagi masyarakat banyak sehingga kami akan bekerja sama dengan siapapun selama ini baik,\" kata Kiai Saifullah di Jombang, Rabu (26/6).  Acara yang dihadiri lebih dari seribu santri dan penghafal Al-Qur'an ini juga diramaikan dengan beragam kegiatan lain seperti dakwah Al-Qur’an serta pembinaan para qurra’ dan huffadz, bazar, ziarah dan tahlil akbar, pengajian umum. Selain itu, juga dilaksanakan dengan seminar seperti tantangan dan strategi dakwah Al-Qur'an di era digital.  Hadir sebagai pembicara cendekiawan NU Nadirsyah Hosen dan KH Musta’in Syafi’i. Seminar membahas tentang kiat-kiat melakukan dakwah Al-Qur'an menggunakan sarana komunikasi populer seperti media sosial.  KH Saifullah melanjutkan bahwa kerja sama dengan berbagai pihak diperlukan untuk negeri dan masyarakat. Menurutnya, setiap pihak tentu memiliki kekuatan dan potensi masing-masing dalam upaya membangun bangsa.  Menurut Saifullah, kolaborasi tidak perlu memandang motif politik atau hal-hal lain selama demi kepentingan publik. Penghafal Al-Qur'an kelahiran Malang ini juga meminta masyarakat agar dapat saling memahami.  \"Kemitraan itu harus kita lakukan. Sebab kita di era sekarang tidak bisa sendirian. Jadi kita saling memahami. Dari sisi industri ingin berpartisipasi terhadap program kami, maka mari kita lakukan bersama-sama. Saya kira yang diuntungkan masyarakat,\" ujar Saifullah.  Sekretaris Umum JQHNU, Muhammad Ulinnuha berterima kasih atas dukungan Aqua dan berharap kolaborasi antara keduanya dapat membawa keberkahan bagi semua yang terlibat dan berkontribusi.  Dia menegaskan, apapun yang diproduksi perusahaan lokal termasuk Aqua tentu akan memberikan manfaat kembali ke seluruh masyarakat Indonesia.  \"Insya Allah mudah-mudahan dicatat sebagai manusia-manusia yang dekat dengan Al-Quranul Karim dan kita berharap semua mendapat keberkahan,\" katanya.  Ini bukan kali pertama Aqua berkolaborasi bersama NU untuk memajukan kesejahteraan umat. Sebelumnya, Aqua juga mendukung akses air bersih dan pengelolaan sampah di beberapa pesantren NU. Air bersih dan fasilitas pengelolaan sampah itu dimanfaatkan santri dan warga sekitar untuk kegiatan sehari-hari.  Direktur Sustainable Development Danone Indonesia, Karyanto Wibowo mengatakan bahwa semua pihak harus saling membantu dalam memajukan umat.  Dia melanjutkan, Aqua akan terus berupaya mendukung peningkatan potensi warga Nahdliyin, khususnya generasi muda NU untuk menghadapi tantangan di masa depan.  \"Alhamdulillah, mewakili Aqua kami bangga diberikan kesempatan untuk mendukung kegiatan Multaqo Nasional Ulama Al-Qur'an,\" kata Karyanto Wibowo.  Multaqo Nasional Ulama merupakan salah satu agenda penting JQHNU. Konsolidasi seluruh ulama Al-Qur'an ini akan mengidentifikasi dan merumuskan berbagai persoalan dan tantangan yang dihadapi JQH. Di dalamnya juga akan melakukan sidang pleno guna melahirkan rekomendasi berkenaan dengan isu-isu terkini. (Z-1)\n",
      "True Label: Negative, Predicted Label: Negative\n",
      "\n",
      "Text 40: Jakarta, 19 Juli 2024 – Adira Finance berkolaborasi dengan Danamon dan MUFG Group dalam acara Danamon Expo (DXPO) 2024 di Central Park Mall, 18-21 Juli. Acara ini digelar untuk merayakan HUT Danamon ke-68.  Adira Finance menghadirkan produk pembiayaan unggulan, seperti Kredit Pemilikan Mobil/Motor (KPM) Prima, yang bekerja sama dengan lebih dari 20 dealer kendaraan.  Pengunjung dapat menikmati promo bunga spesial mulai 2,68 persen (tenor 12 bulan) dan biaya provisi nol persen untuk kredit mobil. Di area test drive, pengunjung bisa mencoba kendaraan pilihan hanya dengan menunjukkan KTP dan SIM.  Selain itu, Adira Finance juga memperkenalkan pembiayaan kendaraan listrik dengan bunga spesial 2,68 persen untuk kredit mobil listrik dan diskon angsuran untuk kredit motor listrik.  Adira Finance juga mengajak pengunjung untuk ikut serta dalam program CSR Sayang Bumiku, bekerja sama dengan Zurich Asuransi Indonesia, dengan edukasi tentang pentingnya menjaga lingkungan dan donasi carbon offset yang akan dikonversi dengan penanaman mangrove.  Untuk pengunjung yang membutuhkan pinjaman dana tunai, Adira Finance menawarkan #SahabatDanaTunai dengan tenor hingga 60 bulan dan dana cair hingga Rp500 juta. Selama acara, tersedia fasilitas persetujuan langsung di tempat.  “DXPO by Danamon menampilkan kemampuan Danamon dengan jaringan luas dari anggota grup dan mitra strategis untuk menawarkan solusi keuangan terintegrasi yang sesuai dengan kebutuhan nasabah agar kita dapat tumbuh bersama,” ujar Wakil Presiden Direktur Danamon, Hafid Hadeli, dikutip VIVA Otomotif dari keterangan resmi.  Home Credit Indonesia, sebagai bagian dari grup MUFG, juga turut berpartisipasi dengan menawarkan cicilan bunga nol persen dan biaya admin Rp68 ribu untuk berbagai produk elektronik.  Selama DXPO, Adira Finance juga memberikan kupon undian HARCILNAS untuk konsumen yang pengajuan pembiayaannya disetujui, dengan hadiah pelunasan cicilan bagi 34 pemenang utama.\n",
      "True Label: Neutral, Predicted Label: Negative\n",
      "\n",
      "Text 41: Kolaborasi kedua perusahaan tersebut pun bertekad untuk saling mendukung dan berbagi keberkahan bagi masyarakat Indonesia, dimulai dari lingkaran terdalam, yaitu bagi para karyawan.  'Sebagai produk nasional dan asli milik Indonesia, kolaborasi Le Minerale dan Pagi Sore ini merupakan upaya kami untuk saling mendukung dalam memajukan produk asli Indonesia, dari Indonesia untuk Indonesia,” jelasnya. “Pengalaman spiritual saat menjalankan ibadah umrah tidak hanya akan memberikan ketenangan, tetapi juga meningkatkan motivasi karyawan untuk terus memberikan yang terbaik dalam pekerjaan sehari-hari,” ujar Febri.Contoh untuk Perusahaan LainDirektur Pagi Sore, Rifky Ramdani berharap agar kerja sama yang terjalin antara pihaknya dan Le Minerale dapat menjadi contoh untuk perusahan lainnya untuk berbuat hal yang serupa.  Ia juga menyebut, program umrah yang digelar Pagi Sore sudah masuk tahun keempat. Ia mengatakan, di tahun pertama, memberangkatkan 60 orang dan sempat terhenti karena Covid-19.  Berita ini telah kami rangkum agar Anda dapat membacanya dengan cepat. Jika Anda tertarik dengan beritanya, Anda dapat membaca teks lengkapnya di sini. Baca lebih lajut:  Indonesia Berita Terbaru, Indonesia Berita utama  Similar News: Anda juga dapat membaca berita serupa dengan ini yang kami kumpulkan dari sumber berita lain.  Perkuat Kolaborasi, Le Minerale Biayai Karyawan Pagi Sore Berangkat ke Tanah Suci JPNN.com : Memperkuat kolaborasi, Le Minerale berbagi hadiah ibadah umrah untuk karyawan restoran padang Pagi Sore. Sumber: jpnncom - 🏆 25. / 59 Baca lebih lajut »  Doa Mohon Terbebas dari Lilitan Utang, Baca Setiap Pagi dan Sore Berita Doa Mohon Terbebas dari Lilitan Utang, Baca Setiap Pagi dan Sore terbaru hari ini 2024-07-25 10:26:21 dari sumber yang terpercaya Sumber: tvOneNews - 🏆 1. / 99 Baca lebih lajut »  Gunung Ibu di Halmahera Meletus 7 kali sejak Rabu Pagi hingga Sore Gunung Ibu di Pulau Halmahera, Maluku Utara, tujuh kali meletus dan mengembuskan abu lebih kurang setinggi 300 meter - 1,2 kilometer ke udara dari puncak kawah. Sumber: VIVAcoid - 🏆 3. / 90 Baca lebih lajut »  Sesibuk Apapun Sempatkanlah Zikir Terutama saat Pagi dan Sore Hari, Ini Hadisnya Berita Sesibuk Apapun Sempatkanlah Zikir Terutama saat Pagi dan Sore Hari, Ini Hadisnya terbaru hari ini 2024-07-17 17:39:17 dari sumber yang terpercaya Sumber: tvOneNews - 🏆 1. / 99 Baca lebih lajut »\n",
      "True Label: Negative, Predicted Label: Negative\n",
      "\n",
      "Text 42: ● Pinjaman dana tunai dengan benefit cair hingga Rp500 juta dan tenor panjang hingga 60 bulan.  ● Doorprize adirapoin s.d 3 juta untuk semua produk pembiayaan.  Bagi konsumen yang ingin mencoba kendaraan impian, dapat mengikuti test drive dengan mengunjungi booth Adira Finance di Corridor Trans Square yang terdapat di Lobby Barat Trans Studio Mall untuk kemudian lakukan registrasi di meja admin.  Lebih lanjut, Adira Finance menyediakan fasilitas approval di tempat untuk kemudahan proses pengajuan pembiayaan.  Konsumen yang pengajuan pembiayaannya disetujui oleh Adira Finance akan langsung mendapatkan tambahan benefit berupa kupon undian HARCILNAS (Harinya Cicilan Lunas).  Sebagai bagian dari perayaan HUT ke-34, Adira Finance memberikan kesempatan kepada 34 pemenang untuk dilunasi cicilan seluruhnya, sedangkan 340 pemenang akan dilunasi cicilan 1 bulan dan 100 pemenang akan mendapatkan hadiah tambahan berupa cashback adirapoin sebesar 5%.  Tidak hanya Adira Finance, pengunjung juga bisa mendapatkan solusi finansial komprehensif dari entitas grup lainnya seperti Danamon dan Home Credit dengan berbagai promo menarik, yaitu:  ● Danamon LEBIH PRO/Danamon LEBIH PRO iB dengan promo hemat 50% hingga Rp35.000.000 untuk liburan keliling dunia, ibadah ke tanah suci, pembelian gadget dan elektronik  ● Kartu Debit, Kredit dan Charge Danamon dengan promo hemat hingga Rp6.800.000 untuk pembelian produk travel, gadget, dan elektronik  ● Home Credit Indonesia dengan promo cicilan 0% untuk pembelian gadget dan elektronik ● KPR Danamon dengan promo spesial suku bunga mulai 4,68% tetap selama 5 tahun dan menghadirkan 6 developer rekanan Danamon, serta\n",
      "True Label: Negative, Predicted Label: Negative\n",
      "\n",
      "Text 43: Dukungan masyarakat dunia terhadap Palestina mengalir deras di berbagai ruang. Tak hanya di media sosial, tapi juga dimanifestasikan dalam aksi konkret seperti penggalangan dana, unjuk rasa, hingga pemboikotan terhadap produk-produk terafiliasi Israel.  Seperti diketahui, konflik Israel-Hamas yang berlangsung sejak Oktober 2023 lalu telah memanaskan situasi di Jalur Gaza.  Biro Pusat Statistik Palestina/Palestinian Central Bureau of Statistics (PCBS) mencatat ada sebanyak 40.188 warga Palestina yang tewas akibat agresi Israel ke wilayah Palestina, terhitung sejak 7 Oktober 2023 hingga 4 Agustus 2024.  Hasil survei GoodStats bertajuk “Sikap dan Perilaku Masyarakat terhadap Aksi Boikot Produk Terafiliasi Israel” mengungkap pola pendirian serta pandangan publik di Indonesia secara spesifik mengenai aksi boikot terhadap produk-produk terafiliasi Israel.  Menurut hasil survei ini, hampir seluruh responden (95,3%) mengaku aware /mengetahui tentang aksi boikot terhadap produk yang terafiliasi Israel.  Mayoritas Warga Indonesia Mendukung Aksi Boikot  Menurut survei GoodStats, mayoritas responden (70,2%) menyatakan mendukung gerakan boikot produk terafiliasi Israel.  Sebaliknya, hanya ada sedikit responden (12,8%) yang mengaku kontra terhadap aksi boikot ini. Sementara sebagian kecil lainnya (17%) mengaku netral.  “Tak cuma mendukung, aksi boikot produk-produk terafiliasi Israel secara konkret juga saat ini diakui tengah dilakukan oleh sebanyak 77,2% responden dalam kesehariannya,” jelas Managing Editor GoodStats, Iip M. Aditiya, Selasa (6/8).  Bagi mereka yang melakukan boikot, motif solidaritas terhadap Palestina (68,1%) dan ingin memberikan tekanan kepada Israel (55,3%) jadi alasan utamanya menurut survei ini.  Selain itu, sebanyak 30% responden juga menjadikan agama/keyakinan sebagai alasan untuk ikut dalam gerakan boikot.  Produk Makanan & Minuman Jadi Sasaran Utama Boikot  Produk makanan dan minuman (81,5%) jadi sasaran utama produk yang diboikot masyarakat dalam aksi boikot terhadap produk terafiliasi Israel.  “Dibandingkan pakaian atau produk elektronik, makanan dan minuman jadi jenis produk paling banyak kena boikot” tutur Iip.  Dalam hal ini, survei GoodStats juga menangkap pola preferensi masyarakat Indonesia terkait pilihan produk alternatif untuk menggantikan produk yang mereka boikot menurut sejumlah kategori.  Untuk kategori makanan cepat saji misalnya, Hoka-Hoka Bento (24,2%) dan Richeese Factory (22,1%) ada di urutan teratas sebagai produk pengganti pilihan masyarakat.  Kemudian di kategori air mineral, Le Minerale jadi produk alternatif utama masyarakat untuk menggantikan produk yang diboikot.  Aksi Boikot Efektif Hentikan Agresi Israel?  Merujuk kembali pada latar belakangnya, gerakan boikot produk terafiliasi Israel timbul sebagai respons publik atas rentetan serangan dan upaya okupansi Israel di teritori Palestina.  Berkaitan dengan ini, sebagian besar responden (55,1%) dalam survei GoodStats yakin bahwa gerakan boikot yang dilakukan akan efektif untuk menekan/menghentikan aksi agresi Israel tersebut.  Terdapat pula 15,8% responden yang menyatakan bahwa aksi boikot ini tak akan efektif dalam meredam agresi Israel terhadap Palestina. Sedangkan 30,1% responden lainnya merasa tak yakin/ragu akan hal ini.  Tentang Survei  Pengumpulan data dalam survei GoodStats ini dilakukan secara daring menggunakan 1.000 sampel responden dengan profil tersegmentasi yang tersebar di seluruh wilayah Indonesia.  Kriteria usia responden dalam survei ini ada di rentang 18-58 tahun, dengan proporsi responden terbanyak (41,2%) ada di kelompok usia 18-25 tahun, dan 26-34 tahun (37,2%).  Managing Editor GoodStats, Iip M. Aditiya menyebut hasil survei ini cukup memberi gambaran soal ketegasan masyarakat Indonesia dalam mempromosikan perdamaian.  “Hasil survei ini secara umum cukup menegaskan bahwa masyarakat merasa punya peran krusial dalam upaya kolektif untuk mempromosikan perdamaian, salah satunya melalui aksi boikot,” tutur Iip.\n",
      "True Label: Negative, Predicted Label: Positive\n",
      "\n",
      "Text 44: TRIBUNNEWSMAKER.COM - 16 posisi siap diisi, Adira Finance buka lowongan kerja 2024, usia 33 tahun boleh daftar.  PT Adira Dinamika Multi Finance Tbk atau Adira Finance buka lowongan kerja untuk mengisi sejumlah posisi.  Pendaftaran lowongan kerja di Adira Finance dibuka sampai 16 September hingga 21 September 2024.  Lowongan kerja Adira Finance terbuka untuk lulusan D3 dan S1 semua jurusan.  PT Adira Dinamika Multi Finance Tbk atau Adira Finance merupakan perusahaan pembiayaan yang sudah didirikan tahun 1990 dan mulai beroperasi pada tahun 1991.  Berikut informasi Lowongan Kerja Adira Finance dilansir Tribun-Timur.com dari laman resminya:  1. HEAD OF DIGITAL COLLABORATION  - Keterampilan kepemimpinan dan manajemen tim, dengan komitmen untuk membina lingkungan kerja yang kolaboratif dan inklusif.  - Kemampuan untuk memprioritaskan tugas, mengatur waktu secara efisien, dan memenuhi tenggat waktu dalam lingkungan yang bergerak cepat  - Individu yang memiliki motivasi diri dan secara konsisten mematuhi prosedur dan standar yang ditetapkan  - Menunjukkan kemampuan untuk melakukan tugas dengan presisi dan akurasi  - Komunikasi tertulis dan verbal yang sangat baik, dan keterampilan negosiasi\n",
      "True Label: Neutral, Predicted Label: Neutral\n",
      "\n",
      "Text 45: FANEWS.ID – Menteri Keuangan, Sri Mulyani, menambah kewenangan Direktorat Jenderal Pajak (DJP) untuk dapat membatasi pembukaan rekening baru bagi nasabah pribadi maupun entitas yang menolak ketentuan identifikasi kegiatan transaksi keuangan. Aturan ini tertuang dalam Pasal 10A ayat (1) Peraturan Menteri Keuangan (PMK) Nomor 47 Tahun 2024 tentang Perubahan Ketiga atas PMK Nomor 70 Tahun 2017 tentang Petunjuk Teknis Mengenai Akses Informasi Keuangan untuk Kepentingan Perpajakan.  Sementara itu, ketentuan ini dirilis untuk memberikan kepastian hukum bagi lembaga jasa keuangan (LJK), lembaga jasa keuangan lainnya, dan/atau entitas lain dalam menyampaikan laporan yang berisi informasi keuangan untuk kepentingan perpajakan. Perubahan PMK ini juga telah mempertimbangkan tidak adanya ketentuan mengenai anti penghindaran sesuai dengan standar pelaporan umum (common reporting standard) pada PMK 70 Tahun 2017.  “Perubahan Kedua atas Peraturan Menteri Keuangan Nomor 70/PMK.03/2017 tentang Petunjuk Teknis mengenai Akses Informasi Keuangan untuk Kepentingan Perpajakan belum mengatur ketentuan anti penghindaran sesuai dengan standar pelaporan umum (common reporting standard), sehingga perlu dilakukan perubahan,” tulis beleid tersebut, dikutip Tirto, Senin (12/8/2024).  Selain membatasi pembukaan rekening baru, PMK ini juga tidak mengizinkan LJK pelapor melayani transaksi baru nasabah lama yang menolak identifikasi kegiatan transaksi keuangan oleh DJP. Adapun transaksi baru yang dimaksud dalam Pasal 9 ayat (1) PMK 47 Tahun 2024 antara lain, setoran, penarikan, transfer, pembukaan rekening atau pembuatan kontrak bagi nasabah perbankan; pembukaan rekening, transaksi beli atau pengalihan bagi nasabah pasar modal; serta penutupan polis baru.  “Dan kegiatan transaksi lainnya bagi pemegang Rekening Keuangan Lama pada lembaga keuangan pelapor yang merupakan LJK Lainnya dan/atau Entitas Lain,” bunyi beleid itu.  Meski begitu, ketentuan larangan bagi LJK pelapor untuk melayani transaksi beru tidak berlaku untuk transaksi atas pemenuhan kewajiban yang telah diperjanjikan sebelumnya antara pemilik Rekening Keuangan Lama dengan lembaga keuangan pelapor; penutupan rekening; atau pemenuhan kewajiban berdasarkan ketentuan peraturan perundang-undangan.  Sementara itu, dalam ketentuan anti penghindaran yang tercantum dalam Bab VA, Sri Mulyani juga melarang setiap orang termasuk LJK, LJK Lainnya, Entitas Lain; pimpinan dan/atau pegawai LJK; pimpinan dan/atau pegawai LJK Lainnya; pimpinan dan/atau pegawai Entitas Lain; Pemegang Rekening Keuangan Orang Pribadi; Pemegang Rekening Keuangan Entitas; penyedia jasa; perantara; dan/atau pihak lain untuk melakukan kesepakatan dan/atau praktik dengan maksud dan tujuan untuk menghindari akses informasi keuangan untuk kepentingan perpajakan. Jika DJP mengetahui adanya kesepakatan antara pihak-pihak tersebut, kesepakatan dianggap tidak berlaku dan/atau tidak terjadi.  Sebaliknya, kewajiban pengungkapan akses informasi tetap harus dijalankan oleh pihak-pihak tersebut. “Direktur Jenderal Pajak berwenang menentukan kesepakatan dan/atau praktik sebagai suatu kesepakatan dan/atau praktik dengan maksud dan tujuan untuk menghindari kewajiban sebagaimana diatur dalam peraturan perundang-undangan yang mengatur mengenai akses informasi keuangan untuk kepentingan perpajakan,” kata PMK 47 Tahun 2024.  Selain itu, DJP juga berwenang untuk memperoleh informasi keuangan yang berkaitan dengan kesepakatan dan/atau praktik penghindaran pengungkapan informasi perpajakan oleh pihak-pihak yang bersepakat. Dalam pengungkapan informasi, terlapor juga dilarang membuat pernyataan palsu atau menyembunyikan atau mengurangkan informasi yang sebenarnya dari informasi yang wajib disampaikan kepada DJP.  Jika terdapat indikasi pelanggaran, DJP berhak meminta surat klarifikasi kepada terlapor dan pihak-pihak lain yang melakukan pelanggaran. Namun, jika surat klarifikasi tidak juga dikirimkan dalam 14 hari sejak permintaan diajukan, DJP berwenang melakukan penelitian terhadap pihak-pihak terkait dan member surat teguran kepada mereka.  Selanjutnya, ketika pelapor tidak juga membuka akses informasi terkait transaksi keuangan meski surat teguran telah dikirimkan, DJP berwenang melakukan pemeriksaan sesuai ketentuan perundang-undangan yang mengatur mengenai tata cara pemeriksaan.\n",
      "True Label: Negative, Predicted Label: Negative\n",
      "\n",
      "Text 46: Liputan6.com, Jakarta Baru-baru ini, pabrik PT Tirta Fresindo Jaya, produsen air minum dalam kemasan (AMDK) Le Minerale, mendapatkan kunjungan dari Kementerian Perindustrian (Kemenperin) pada Jumat (12/07/2024) lalu. Adapun agenda kunjungan tersebut dilakukan untuk menyaksikan langsung proses produksi yang berlokasi di Ciherang, Bogor.  Tak hanya itu, kunjungan ini juga untuk melihat paparan perusahaan memastikan proses terbaik dari hulu hingga hilir. Mulai dari konservasi sumber daya air, proses produksi teknologi modern, pemilihan kemasan, sistem distribusi yang aman dan terhindar dari paparan sinar matahari langsung, sampai upaya mengurangi timbulan sampah lewat gerakan ekonomi sirkular.  \"Le Minerale telah membuktikan komitmennya dalam menjaga kualitas produk dan lingkungan melalui berbagai inisiatif yang menginspirasi. Apa yang dilakukan Le Minerale ini, merupakan praktik bisnis yang patuh dan menunjukan komitmen tinggi terhadap semua regulasi yang ditetapkan pemerintah terkait industri AMDK (air minum dalam kemasan). Kami berharap lebih banyak perusahaan dapat mengikuti jejak Le Minerale dalam menjalankan bisnis yang taat dan berkelanjutan,\" kata Direktur Industri Minuman, Hasil Tembakau dan Bahan Penyegar (Mintemgar) Merrijantij Punguan Pintaria, dalam kunjungannya ke pabrik Le Minerale.\n",
      "True Label: Neutral, Predicted Label: Negative\n",
      "\n",
      "Text 47: Diwarnai semangat transformasi sebagai Satu Grup Finansial, Danamon resmi buka DXPO by Danamon di Central Park Mall, yang akan berlangsung tanggal 18-21 Juli 2024. Pameran ini akan menghadirkan berbagai kegiatan, program, dan promo menarik bagi nasabah dan pengunjung.  Jakarta, Upeks – PT Bank Danamon Indonesia Tbk resmi membuka DXPO by Danamon sebagai bagian dari rangkaian perayaan ulang tahunnya yang ke-68 di Central Park Mall, Jakarta. Acara pembukaan ini diwarnai oleh semangat transformasi Danamon sebagai Satu Grup Finansial.  Hadir pula pada acara ini MUFG sebagai induk perusahaan Danamon, dan grup perusahaan yaitu Adira Finance, Home Credit Indonesia, Zurich Asuransi Indonesia, serta mitra Danamon yaitu Central Park, PT Hankyu Hanshin Properti Indonesia, JCB dan Mastercard.  DXPO by Danamon hadir selama empat hari ke depan (18-21 Juli 2024) dengan tujuan untuk menampilkan jaringan luas Danamon bersama grup perusahaannya, yang menawarkan solusi keuangan menyeluruh yang disesuaikan dengan kebutuhan nasabah, serta untuk mengapresiasi nasabah atas kepercayaan dan loyalitasnya terhadap Danamon selama ini.  “Atas nama Danamon, sayamenyampaikan terima kasih kepada semua pihak yang telah menjadi bagian dari perjalanan kami – para pemegang saham, nasabah, karyawan, dan regulator atas kepercayaan dan dukungan Anda terhadap Danamon selama ini,”ujar Daisuke Ejima, Direktur Utama PT Bank Danamon Indonesia Tbk, Rabu 18 Juli 2024.  Pada acara pembukaan DXPO by Danamon ini, Danamon juga secara resmi memperkenalkan Tabungan Danamon LEBIH PRO, yang merupakan tabungan dengan 9 mata uang sekaligus dalam 1 rekening.  Sementara Consumer Business & Wealth Business Head, PT Bank Danamon Indonesia Tbk, Ivan Jaya mengatakan dalam paparannya, selama 68 tahun, Danamon telah hadir menjadi pionir dalam menyediakan kenyamanan dalam transaksi untuk nasabah kami.  “Pada momentum spesial kali ini, tepatnya di acara DXPO by Danamon, kami dengan bangga mempersembahkan Tabungan Danamon LEBIH PRO, tabungan 9 mata uang, yang menawarkan berbagai fitur menarik untuk memberikan kemudahan bagi nasabah dalam bertransaksi valuta asing, yang dilengkapi dengan Kartu Debit yang didukung oleh Mastercard. Dengan tagline #BanyakLebihnya, Tabungan Danamon LEBIH PRO memiliki berbagai manfaat, antara lain rate berani diadu, di mana Danamon ganti 5X selisihnya jika ada rate yang lebih kompetitif,”paparnya.  Kartu Debit Danamon LEBIH PRO juga dilengkapi dengan beragam fitur lainnya, sehingga nasabah yang sedang traveling dapat menikmati keuntungan seperti:  • Cashback 5% transaksi di luar negeri, tapi khusus selama bulan Juli, transaksi di luar negeri dengan menggunakan Kartu Debit akan mendapatkan cashback sebesar 6,8%.  • Bebas biaya tarik tunai di luar negeri.  • Transaksi dengan fitur contactless.  • Bebas biaya konversi kurs untuk transaksi kartu debit di luar negeri.  • Auto-switching currency. Sebagai contoh, jika nasabah bertransaksi dengan Kartu Debit Danamon LEBIH PRO di Singapura, maka transaksi akan langsung mendebet saldo mata uang SGD.  Adapun promo dan program unggulan di DXPO by Danamon yang dapat dinikmati oleh seluruh konsumen dan nasabah Danamon adalah:  1. Travel Fair: Danamon menyediakan berbagai opsi paket dan promo untuk liburan ke seluruh dunia, bekerja sama dengan 7 travel agent yaitu Antavaya, Bayu Buana, Dwidaya Tour, Golden Rama, Panorama, Smailing Tour dan 4 travel agent Syariah Dream Tour, Iskandaria, Al Magfirah, Tibi Tours. Promo Travel Fair mencakup:  • Hemat 50% Liburan Keliling Dunia dan Naik Haji dengan potongan hingga Rp35 juta dengan membuka tabungan Danamon LEBIH PRO/Danamon LEBIH PRO iB.  • Hemat hingga Rp6,8 juta untuk pembelanjaan di booth Travel Fair untuk penggunaan Kartu Debit, Kredit dan Charge Danamon.  • Cukup bayar 68% untuk mendapatkan proteksi perjalanan dengan pembelian Zurich Travel Insurance, hasil kerja sama dengan group member, Zurich Asuransi Indonesia via D-Bank PRO.  2. KPR Danamon: Nasabah dapat mengunjungi booth KPR Danamon di DXPO by Danamon untuk mendapatkan promo spesial angsuran setara bunga mulai 1,68% tetap selama 1 tahun dari developer terkemuka di Indonesia yang ikut serta dalam DXPO by Danamon, yaitu Alam Sutera, Jababeka, Hankyu Hanshin Group dan Springhill, Tokyu Land Indonesia, Sinar Mas Land dan Panasonic, Paramount, Ciputra, Sinar Mas Land, Mitbana Group dan Sinar Mas Land, serta Agung Podomoro. Selain itu, terdapat juga promo lainnya seperti:  • Bunga KPR hingga setara Rp0 dengan melakukan penempatan dana.  • Program balance transfer (take over) dengan angsuran setara bunga mulai 4,68% secara tetap selama 5 tahun, dan Kredit Multi Guna (KMG) dengan angsuran setara bunga mulai 7,68% secara tetap selama 5 tahun.  3. Festival Kuliner Nusantara: Danamon menghadirkan kuliner dari berbagai penjuru daerah di Indonesia yang tidak dapat ditemui di Jakarta di Festival Kuliner Nusantara, yang berada di DXPO Market yang berlokasi di Tribeca Park, Central Park Mall. Festival ini akan menghadirkan 18 pengusaha makanan khas daerah, mulai dari Seblak Mamang Rapael asal Bandung hingga Bakso Ati Raja asal Makassar, dan masih banyak lagi. Pada festival ini, Danamon juga akan mengadakan acara Celebrity Pop Up yang menghadirkan Rafael Tan, pemilik warung Seblak Mamang Rapael dan anggota boyband Smash, yang akan menyapa dan memasak untuk para pengunjung.  4. Promo Kredit Pemilikan Mobil (KPM) Prima: Booth kolaborasi Danamon dengan Adira Finance akan menampilkan deretan mobil dan motor terbaru serta memberikan kesempatan bagi nasabah dan pengunjung untuk konsultansi dengan para tenaga pemasaran terkait produk Kredit Pemilikan Mobil (KPM Prima & KPM Prima Syariah) dengan penawaran bunga/margin spesial mulai dari 2,68% per tahun.  5. Promo Elektronik dengan Home Credit Indonesia: Promo hemat hingga Rp500.000,-, cicilan 0% dan biaya admin hanya Rp68.000,- untuk berbagai produk elektronik, memberikan kemudahan berbelanja bagi nasabah Danamon.  6. D-Bank PRO: Nasabah dapat menikmati cashback hingga Rp68.000,- untuk transaksi menggunakan QRIS D-Bank PRO di DXPO Market, serta mengunjungi Festival Kuliner Nusantara dan tenant beauty serta lifestyle.  “Berangkat dari visi Danamon untuk menjadi enabler bagi nasabah, Danamon juga memiliki beragam solusi finansial yang sesuai dengan kebutuhan nasabah. Selama DXPO by Danamon, kami menampilkan KPR Danamon Lebih yang bekerja sama dengan sepuluh developer terkemuka di Indonesia dengan total 21 proyek yang akan memberikan banyak pilihan kepada Nasabah yang sedang mencari unit properti. Selain itu, kami juga mengangkat Kartu Kredit Danamon JCB Precious yang bisa mewujudkan keinginan nasabah untuk #BebasDariRutinitas, dan cocok untuk para pecinta traveling karena memiliki keunggulan nilai pertukaran miles yang menarik dan kurs yang kompetitif, serta bebas akses airport lounge domestik dan internasional. Bagi pengunjung yang tertarik bisa langsung mengajukan Kartu Kredit Danamon JCB Precious dengan persetujuan dalam 1 menit.” tutup Enriko Sutarto, Consumer Lending Business Head, PT Bank Danamon Indonesia Tbk. (*)\n",
      "True Label: Neutral, Predicted Label: Neutral\n",
      "\n",
      "Text 48: TRIBUNSTYLE.COM - Inilah jawaban teka-teki Masa Pengenalan Lingkungan Sekolah (MPLS) atau Masa Orientasi Sekolah (MOS) berisi makanan minuman.  Teka-teki MPLS biasanya diberikan panitia kepada para murid baru untuk mengasah kreaktivitas dan mengakrabkan para peserta.  Adapun teka-teki MPLS ini berisikan mengenai makanan dan minuman yang familiar dengan jawaban yang ini.  Selain untuk MPLS, teka-teki ini juga diberikan kepada para mahasiswa baru di perguruan tinggi.  : Jadwal Hari Pertama Masuk Sekolah TK, SD, SMP, SMA Tahun Ajaran Baru 2024/2025 Provinsi di Jawa  Dikutip dari berbagai sumber, inilah teka-teki MPLS yang dapat dijadikan panduan untuk menjawab pertanyaan dari panitia MPLS.  1. Teka-teki Makanan  - Chiki pembohong: snack Lay's  - Planet sedih: Marshmello  - Ayam selimut: Ayam goreng tepung  - Permen gunung cinta: Alpenlible  - Buah selimut: Buah pir atau apel yang dibungkus dengan jaring busa putih  - Nasi suci: Nasi putih  - Roti sundel bolong: donat  - Spongebob goreng: roti goreng  - Snack anak ayam: Chiki  - Biskuit 3d/3 Cara: Oreo  - Nasi jelek: nasi goreng  - Cokelat pintar: smarties  - Permen Ac: Relaxa  - Batu bata Italy: Tango  - Permen cium: chupacup  - Permen Band: Goliat  - Nasi orang meninggal: nasi kuning  - Cemilan jempol: Waffer gerry saluut  - Cokelat lebih baik: Better  - Buah jantung: Pisang  - Pisang 1 sisir: pisang sama sisir  - Biskuit Nabi: Kurma  - Kue bantal: Kue Odading  - Minuman band: Teh Kotak  - Nasi betadine: Nasi merah atau nasi dengan sambal merah  - Permen haram: Permen Kiss  - Permen dangdut: Permen lolipop  - Biskuit raja dangdut: biscuit Roma Kelapa  - Wafer cokelat merk oli: Top  - Telor kerajaan: Egg kingdom  - Kelereng mas: Snack Polong Mas  - Snack 3 saudara: tini wini biti  - Cemilan jempol: Waffer Gerry Saluut  - Buah waktu mama: buah jambu  - Buah mata najwa lagi sauna: buah pisang (banana) yang dikupas  - Biskuit Cium Itali: Malkist Roma  - Buah janda: buah anggur atau terong  - Snack monyet monyet gila: MOnyet MOnyet GIla (MOMOGI)  - Snack mahal mewah: Lexus  - Snack tornado: Twister  - Permen Zebra: Blaster  - Telur kotak: martabak  - Cahaya matahari yang mencair: sabun Sunlight  - Lengket rapet atau jaring spiderman: lem atau lakban  - Jajanan tepat waktu: Good time  - Makanan orang kayu: Richeese  - Cokelat Marshanda: Cha Cha  - Ikan berdiri: teri jengky  - Makanan upin ipin di atas awan: ayam goreng di atas nasi  - Snack obat: pilus kapsul  2. Teka-teki Minuman  - Air putih merdeka: Susu Bendera putih  - Air ustad: Air putih/air mineral  - Teh sawadikap: Thai tea  - Minuman band: Teh Kotak  - Air desa: Air mineral merek Ades  - Teh ulat mendaki: minuman teh Pucuk Harum  - Air tanah: susu cokelat  - Air putih dihormati: Susu bendera putih  - Air semut: Sprite  - Air desa: air putih/Aqua atau minuman merek Ades  - Air lumpur: susu coklat  - Air kehidupan: Air mineral Nestle Pure Life  - Air gunung: Air mineral Aqua  - Air minum orang sehat: Air mineral VIT  - Air minum 6t: Air mineral VIT  - Air keruh: Susu cokelat  - Susu nusantara: Susu Bendera  - Minuman superhero: Ultra(man) Milk  - Minuman kanibal: Nutrisari  - Teh gunung: teh kemasan merek Mountea  - Air Suci: Air kelapa muda atau air putih biasa  - Air penjumlahan: air kali  - Minuman wilayahku: Mizone  - Saya minum 2: Yakult  - Air semut: minuman merek Sprite  - Minuman ratu Mesir: Air mineral merek Cleo  - Air lumpur coklat: Susu cokelat  - Teh hijau baru: minuman merek Nu Greentea  - Air putih: susu  - Minuman sopan: minuman merek Marimas  - Air ketek: Pocari Sweat  - Air putih tidur: Susu bantal  - Minuman anak kembar: Ichi ocha  - Minuman ringan pembangkit ulama: NU Green Tea  - Teletubies mencari keringa: Pocari Sweat  - Minuman matahari hijau: minuman dari SunGreen  - Darah beku: cincau  - Minuman pahlawan: Ultramilk  - Minuman anak kembar: Ichi ocha  - Air mineral yang ada manis-manisnya: Le Minerale  - Air gak loyo: Air vit  - Minuman ratu mesir: Cleo  - Minuman superhero: Ultra(man) Milk  - Minuman kanibal: Nutrisari  - Minuman ustad: air putih  - Air desa: Ades  - Minuman bengkel: 2 Tang\n",
      "True Label: Neutral, Predicted Label: Neutral\n",
      "\n",
      "Text 49: Bisnis.com, JAKARTA — PT Adira Dinamika Multi Finance Tbk. (ADMF) atau Adira Finance mencatat tingkat kredit bermasalah atau non performing financing (NPF) mencapai 2,2% pada Agustus 2024. Angka tersebut masih di bawah batas yang ditetapkan Otoritas Jasa Keuangan (OJK) yakni 5%.  Dalam hal menjaga NPF, Chief of Financial Officer Adira Finance Sylvanus Gani M mengatakan perusahaan terus berusaha untuk menjaga rasio kualitas aset dengan menerapkan prinsip manajemen risiko yang diterapkan dengan hati-hati, memberikan pembiayaan secara segmented sesuai dengan risk appetite perusahaan.  “Serta menerapkan kegiatan collection yang efektif, termasuk menambah kapasitas [jumlah karyawan]pada sejumlah titik-titik tertentu [cabang atau area] yang membutuhkannya,” kata Gani saat dihubungi Bisnis Rabu (11/9/2024).  Gani melihat peningkatan kredit bermasalah perusahaan pembiayaan bisa saja terjadi karena beberapa hal. Pertama melemahnya daya beli masyarakat, khususnya kelas menengah, yang secara umum diakibatkan peningkatan harga kebutuhan pokok.  “Peningkatan harga kebutuhan pokok tersebut tidak diiringi dengan peningkatan upah yang sepadan, sehingga terjadi penurunan pendapatan riil masyarakat karena kenaikan kebutuhan hidup,” katanya.  OJK sebelumnya mencatat piutang pembiayaan perusahaan multifinance mencapai sebanyak Rp494,10 triliun per Juli 2024. Angka tersebut naik 10,53% apabila dibandingkan dengan periode yang sama pada tahun sebelumnya.  Dari sisi kredit bermasalah, OJK mencatat tingkat NPF perusahaan pembiayaan masih terjaga. Adapun rasio NPF gross perusahaan pembiayaan 2,75% pada Juli 2024, yang turun dibandingkan 2,80% pada Juni 2024. Sementara NPF nett mencapai sebanyak sebesar 0,84% pada Juli 2024, dan pada Juni 2024 mencapai 0,87%.\n",
      "True Label: Negative, Predicted Label: Negative\n",
      "\n",
      "Text 50: Jakarta – Beberapa perusahaan pembiayaan saat ini memang belum all-out untuk melakukan pembiayaan kendaraan listrik. Namun beberapa brand pembiayaan ternama sudah memberikan pembiayaan khusus untuk kendaraan listrik terutama untuk brand molis yang sudah punya nama besar di pasar otomotif Indonesia.  Namun jika Anda masih sulit untuk mendapatkan perusahaan pembiayaan atau leasing untuk memberikan kendaraan listrik seperti motor listrik, United E-Motor punya solusinya dengan memfasilitasi masyarakat yang ingin mendapatkan motor listrik cepat dan mudah.  Anda bisa datang ke perhelatan Jakarta Fair Kemayoran (PRJ) 2024 dan mulai menanyakannya di zona pamer milik motor listrik United E-Motor yang berada di bawah PT Terang Dunia Internusa Tbk. Mereka menghadirkan pilihan yang beragam bagi masyarakat yang ingin membeli motor listrik dengan sistem cicilan. Tak tanggung-tanggung, United E-Motor menggandeng 4 nama besar leasing selama PRJ berlangsung, yaitu Adira, Mega Finance, Moladin serta BliBli. “Semakin banyak alternatif pembiayaan, semakin besar pula kesempatan bagi seluruh lapisan masyarakat untuk dapat memiliki motor listrik pilihannya,” ungkap Head of Marketing Communication UNTD, Meilany Suryanata dalam pernyataan resminya.  Tenor cicilan yang ditawarkan masing-masing leasing sangat beragam, mulai dari 3 hingga 36 bulan. Kemudahan ini tentunya menjadi salah satu keunggulan brand molis ini. Selama perhelatan 33 hari, mereka memajang koleksi sepeda motor listrik teranyarnya di JIEXPO Kemayoran Hall A3. Mulai dari tipe T1800, TX1800, TX3000 hingga The All-New MX1200 yang hadir dengan pilihan warna baru.  “Masyarakat masih cukup antusias terhadap produk motor listrik. Masih banyak yang penasaran dengan ketangguhannya, hematnya, serta keunggulan-keunggulan lainnya yang didapatkan jika mereka pakai motor listrik untuk aktivitas sehari-hari. Nah, motor punya beragam tipe yang bisa memenuhi kebutuhan masyarakat, bisa disesuaikan dengan kebutuhan penggunanya.\"  Keseluruhan tipe motor listrik United E-Motor yang ditawarkan mendapatkan subsidi pemerintah sebesar 7 juta Rupiah. Jangan lupa untuk selalu menanyakan program yang bisa Anda manfaatkan agar lebih untung lagi dalam memiliki kendaraan listrik impian.\n",
      "True Label: Neutral, Predicted Label: Neutral\n",
      "\n",
      "Text 51: --  Saat ini super app BRImo menjadi aplikasi mobile banking dengan rating terbaik dibandingkan aplikasi mobile banking perbankan konvensional lainnya di Indonesia. Data tersebut didapatkan berdasarkan review para pengguna Android (Playstore) yang memberikan rating 4,7 dan pengguna IOS (AppStore) memberikan rating 4,7. Hal tersebut menunjukkan kepuasan nasabah terhadap BRImo.  4. Salurkan Kredit UMKM Terbesar di Indonesia Sebesar Rp1.095,64T  Hingga akhir Triwulan II 2024, penyaluran kredit BRI tercatat Rp1.336,78 triliun atau tumbuh 11,20% year on year (yoy). Segmen UMKM masih mendominasi penyaluran kredit BRI, dengan porsi mencapai 81,96% dari total penyaluran kredit BRI, atau sekitar Rp1.095,64 triliun.  Sunarso mengungkapkan bahwa salah satu bentuk komitmen BRI dalam mendukung pertumbuhan ekonomi nasional yakni dengan tetap mendorong penciptaan lapangan pekerjaan khususnya pada segmen UMKM melalui penyaluran kredit yang berkualitas.  5. Berdayakan UMKM Melalui 31.488 Klaster Usaha & 3.602 Desa BRILiaN  Tak hanya pembiayaan semata, BRI juga memiliki berbagai program pemberdayaan UMKM, diantaranya adalah pemberdayaan melalui program Klasterku Hidupku dan Desa BRILiaN. Pemberdayaan Klaster Usaha sendiri merupakan pemberdayaan kepada kelompok usaha yang terbentuk berdasarkan kesamaan usaha, dalam satu wilayah sehingga tercipta keakraban dan kebersamaan dalam peningkatan maupun pengembangan usaha para anggotanya.  Hingga akhir Juli 2024 tercatat BRI telah memiliki 31.488 klaster usaha yang tergabung dalam program Klasterku Hidupku. BRI juga telah menyelenggarakan 2.184 pelatihan dalam program Klasterku Hidupku tersebut.  Disamping itu juga ada program Desa BRILiaN. Desa BRILiaN merupakan program pemberdayaan desa yang bertujuan menghasilkan role model dalam pengembangan desa yang diinisiasi BRI sebagai bentuk agent of development dalam mengembangkan desa. Hingga akhir Juni 2024 tercatat terdapat 3.602 desa yang telah mendapatkan pemberdayaan Desa BRILiaN.  Program ini diawali sejak tahun 2020 yang tidak lepas dari strategi perseroan untuk lebih dalam mengenal potensi wilayah dan merupakan salah satu bagian dari integrasi aktivitas pemberdayaan dan eksistensi mantri BRI bersama inisiatif-inistiatif lainnya yakni Klaster usaha binaan BRI, pasar.id, serta Hyperlocal Ecosystem yang merupakan suatu bentuk Ekosistem Konsolidasi Mikro.  6. Memiliki Portofolio Sustainable Financing Terbesar di Indonesia, Capai Rp793,6T  Hingga Triwulan II 2024 BRI telah membukukan portofolio sustainable financing sebesar Rp793,6 triliun, atau sebesar 65.2% dari total pembiayaan dan investasi corporate bond yang dilakukan BRI. Dalam menyalurkan kredit berkelanjutan, BRI tetap berfokus pada penyaluran kredit kepada Kredit KKUB (Kategori Kegiatan Usaha Berkelanjutan) yang mencapai Rp699,8 triliun pada periode ini, kemudian disusul kredit KUBL (Kegiatan Usaha Berwawasan Lingkungan) sebesar Rp89,8 triliun, yang terdiri dari penyaluran kredit kepada sektor pengelolaan sumber daya alam hayati dan penggunaan lahan yang berwawasan lingkungan senilai Rp60,83 triliun, transportasi hijau sebesar Rp11,47 triliun, energi terbarukan Rp6,48 triliun, dan sektor KUBL lainnya sebesar Rp11 triliun.  Karena komitmennya terhadap sustainable banking, BRI menjadi salah satu First Movers on Sustainable Banking di Indonesia pada 2017. Selanjutnya, pada 2018, BRI menyusun Rencana Aksi Keuangan Berkelanjutan untuk periode 2019 – 2023. Sebagai bentuk penerapan sustainability governance, BRI telah membentuk Komite ESG pada tahun 2021, yang merupakan forum bagi jajaran direksi dalam memonitor dan mengevaluasi implementasi ESG di BRI. Tak hanya itu, BRI juga telah resmi bergabung sebagai anggota di United Nations Global Compact (UNGC) pada 12 Maret 2023. UNGC merupakan lembaga yang mendorong kebijakan dan implementasi keberlanjutan perusahaan, khususnya pada ranah sustainable development goals (SDGs).  7. Penyetor Dividen Terbesar Dengan Setoran Pajak Ke Kas Negara Capai Rp192T Sejak 2019  Di sepanjang tahun 2023 lalu BRI berhasil mencatatkan laba bersih senilai Rp60,4 triliun, atau tumbuh 16,5% yoy. Sebagai bentuk komitmen penciptaan economic value, BRI membagikan dividen sebesar 80% dari total laba bersih atau senilai Rp43,49 triliun kepada pemegang saham baik pemerintah maupun publik. Atas pembagian dividen kepada pemegang saham tersebut, BRI menjadi perusahaan dengan setoran dividen terbesar di tahun 2024. Kementerian BUMN mencatat total dividen BUMN yang disetorkan ke negara mencapai Rp85,5 triliun, dan sebesar 30% diantaranya atau senilai Rp25,7 triliun merupakan kontribusi BRI.  Sementara itu dari sisi pembayaran pajak, pada akhir Juli 2024 lalu BRI mendapatkan apresiasi dari Direktorat Jenderal Pajak Kementerian Keuangan RI. BRI menjadi salah satu diantara 20 grup perusahaan di Indonesia yang menjadi penyumbang setoran pajak terbesar sepanjang 2023. Apabila ditarik lebih jauh, terhitung sejak tahun 2019 hingga akhir Kuartal I 2024 BRI telah menyetorkan Rp192,06 triliun kepada kas negara. Apabila dirinci, pada tahun 2019 BRI menyetorkan Rp26,56 triliun, tahun 2020 menyetorkan Rp28,38 triliun, tahun 2021 menyetorkan Rp27,09 triliun, tahun 2022 menyetorkan Rp34,18 triliun dan tahun 2023 menyetorkan Rp45,34 triliun. Sedangkan untuk 3 bulan pertama di tahun 2024, BRI telah menyetorkan senilai Rp31,03 triliun ke kas negara. Setoran ini berasal dari pembayaran Pajak Penghasilan, Pajak Pertambahan Nilai & Bea Materai, Pajak Penghasilan Badan, Dividen dan Pajak Daerah.\n",
      "True Label: Negative, Predicted Label: Positive\n",
      "\n",
      "Text 52: FAJAR.CO.ID, JAKARTA - Sebagai brand air mineral asli milik Indonesia, Le MInerale berhasil mendapat apresiasi dari Majalah SWA dan Business Digest melalui ajang penghargaan Indonesia Original Brand (IOB) Award 2024, sebagai The 1 st Champion of Indonesia Original Brand 2024 di kategori Air Minum Dalam Kemasan (AMDK) dengan predikat Very Good. Penghargaan ini merupakan program survei, pemeringkatan, dan pemberian penghargaan kepada merek-merek asli Indonesia terbaik. Pada survey ini, Le Minerale berhasil memenangkan indeks tertinggi dibandingkan merk lain dalam hal Kepuasan, Loyalitas, Advokasi dan Daya Saing terhadap Merek Asing.  Rohmat Purnadi, Head of Business Digest SWA mengungkapkan, “Secara keseluruhan, Le Minerale meraih indeks lebih tinggi di parameter parameter survei Indonesia Original Brand 2024. Dari sisi kepuasan pelanggan misalnya, Le Minerale meraih indeks 8.26, lebih tinggi dibanding merek-merek lain yang masuk dalam nominasi survei.”  Survei independen ini dilakukan kepada 5.000 responden di enam kota besar yakni Medan, Jabodetabek, Bandung, Semarang, Surabaya dan Makassar. Adapun survei Indonesia Original Brand 2024 dilakukan pada 111 kategori produk dengan skala penilaian 1-10 meliputi Kepuasan, Loyalitas, Advokasi dan Daya Saing terhadap Merek Asing.  Selain dari sisi kepuasaan pelanggan, Le MInerale juga meraih indeks 8.35 pada daya saing terhadap merk asing. Oleh sebab itu, penghargaan ini membuktikan bahwa, sebagai air mineral, Le Minerale diakui oleh masyarakat sebagai air mineral asli milik Indonesia yang berhasil membuktikan kualitasnya dan tidak kalah dengan merek asing yang ada di Tanah Air.\n",
      "True Label: Negative, Predicted Label: Negative\n",
      "\n",
      "Text 53: JAKARTA, KOMPAS.com - Kepala Badan Gizi Nasional Dadan Hindayana mengatakan, anggaran makan bergizi gratis sebesar Rp 71 triliun seluruhnya akan dikelola oleh lembaga tersebut.  Menurut Dadan, peruntukan anggaran tersebut mencakup pelaksanaan program makan bergizi gratis dan operasional badan gizi itu sendiri.  \"Iya (semua ada di Badan Gizi). Enggak (tidak dipecah-pecah di kementerian lain),\" ujar Dadan di Istana Negara, Jakarta, Senin (19/8/2024).  \"(Rp 71 triliun) menyangkut seluruh program Badan Gizi,\" tegasnya.  Termasuk di dalamnya nanti untuk membayar gaji pegawai di Badan Gizi Nasional.  Dadan menambahkan, nantinya Badan Gizi Nasional akan menggandeng pihak swasta. Sebab program makan bergizi nasional dilaksanakan setiap hari dan menyangkut target yang besar.  \"Ini kan program yang sangat besar, ya, dan dilaksanakan setiap hari, menyangkut target yang besar juga. Jadi, semua pihak pasti welcome terlibat,\" tambahnya.  Sebelumnya, Menteri Keuangan (Menkeu) Sri Mulyani Indrawati mengungkapkan, pemerintah menganggarkan Rp 71 triliun untuk program Makan Bergizi Gratis (MBG) pada 2025.  \"Untuk program Presiden Terpilih Makan Bergizi Gratis sebesar Rp 71 triliun sudah ada di sini (RAPBN 2025), nanti akan dijelaskan dari tim makan bergizi gratis yang terus disempurnakan,\" kata Sri Mulyani dalam Konferensi Pers RAPBN 2025 di Kantor Direktorat Jenderal Pajak, Jakarta, Jumat (16/8/2024).  Sri Mulyani mengatakan program Makan Bergizi Gratis bertujuan untuk menciptakan anak yang cerdas dan pemberdayaan UMKM.  \"Tapi ini multiplayer ekonomi di daerah ditekankan UMKM makin berdaya sehingga ekonomi daerah bisa bergerak,\" ujarnya.  Adapun dalam RAPBN 2025, anggaran untuk program Makan Bergizi Gratis ini masuk ke dalam kategori anggaran pendidikan sebesar Rp 722,6 triliun.  Anggaran pendidikan tersebut akan digunakan untuk peningkatan akses san kualitas pendidikan melalui PIP, KIP Kuliah, BOS, BOP PAUD, dan beasiswa LPDP.  Kemudian pemberian makan bergizi gratis, renovasi sekolah, dan pembangunan sekolah unggulan serta penguatan link and match dengan pasar kerja (vokasi dan sertifikasi).\n",
      "True Label: Neutral, Predicted Label: Neutral\n",
      "\n",
      "Text 54: TRIBUN-PANTURA.COM - Mobil listrik di Indonesia semakin semakin digemari oleh masyarakat. Kondisi tersebut membuat persaingan pasar mobil listrik semakin sengit.  Karenanya, PT Hyundai Motors Indonesia memperkenalkan mobil listrik terbarunya yaitu All-New KONA Electric kepada masyarakat.  All-New KONA Electric merupakan kendaraan listrik (EV) pertama di Indonesia yang menggunakan baterai buatan dalam negeri.  Menjadikannya pelengkap sempurna dalam lini kendaraan listrik Hyundai yang semakin memperkuat posisi Hyundai sebagai game changer di industri otomotif.  \"Kami dengan bangga mengenalkan All-New KONA Electric kepada masyarakat Solo,\" kata Branch Manager Hyundai Adisucipto Solo, Erik Engkwang, saat pameran di atrium Solo Paragon Mall, yang digelar mulai Senin-Minggu (19-25/8/2024).  \"Ini adalah mobil listrik pertama di Indonesia yang memiliki komponen produk dalam negeri,\" jelasnya.  Kehadiran All-New KONA Electric menambah pilihan kendaraan listrik (EV) Hyundai di Indonesia.  Mobil ini menampilkan desain eksterior futuristis, interior yang lapang, serta all-electric range (AER) lebih dari 600 km.  Tersedia dalam lima varian: Signature Long Range, Signature Standard Range, Prime Long Range, Prime Standard Range, dan Style, setiap varian memiliki keunggulan masing-masing.  \"Mobil listrik kini semakin diminati masyarakat, dan All-New KONA Electric ini menambah variasi pilihan yang ideal sesuai kebutuhan mobilitas konsumen,\" tambah Erik.  Di pameran Solo Paragon Mall ini, masyarakat dapat melakukan test drive dan trade-in kendaraan dengan fasilitas One Stop Service.  Pengunjung juga dapat mendapatkan car inspection lengkap serta memilih program pembiayaan terbaik untuk tukar tambah mobil secara aman dan menguntungkan.\n",
      "True Label: Negative, Predicted Label: Negative\n",
      "\n",
      "Text 55: Liputan6.com, Bandung - Media sosial tengah dihebohkan dengan konten viral seorang pria bernama “ Bobby Saputra ” yang mengklaim bahwa dirinya adalah keturunan dari salah satu tokoh miliarder Indonesia.  Melansir dari media sosial TikTok, pria tersebut memperkenalkan dirinya sebagai bagian dari keluarga pemilik perusahaan air minum terkemuka di Indonesia yang dikenal dengan brand “Aqua”.  “Nama saya Bobby, keluarga saya pemilik Aqua,” ucapnya dalam bahasa Inggris.  Pada kesempatan yang sama, sosok Bobby Saputra ini juga menuturkan bahwa ayahnya mempunyai kekayaan yang tidak terbatas sehingga banyak warganet percaya sosoknya adalah salah satu orang terkaya di Indonesia.  “Karena ayah saya punya uang tak terbatas,” ucapnya.  Selain dengan tutur katanya banyak warganet percaya bahwa Bobby Saputra adalah anak keturunan pemilik Aqua dari cara berpakaiannya. Sejumlah warganet menilai tampilannya yang terlihat old money jadi alasan mereka percaya.  Sejak kemunculannya tersebut di media sosial, mulai banyak warganet yang mencari tahu kebenaran sosoknya. Bahkan, belum lama ini “Bobby Saputra” juga hadir dalam sebuah acara di kanal Youtube Deddy Corbuzier.  Belakangan diketahui bahwa sosok Bobby Saputra hanya sebuah tokoh atau person dalam konten. Di balik itu semua, orang sebenarnya memiliki nama Ben Sumadiwiria.  Melansir dari beberapa sumber terungkapnya fakta sosok Bobby Saputra sendiri dibagikan dalam sebuah video podcast di kanal YouTube Bule GoVlog. Beberapa warganet pun kini telah mengetahui siapa sosok sebenarnya di balik karakter “Bobby Saputra”.\n",
      "True Label: Neutral, Predicted Label: Neutral\n",
      "\n",
      "Text 56: VIVA – Kriyanusa yang merupakan pameran kerajinan dan seni kriya berskala nasional kembali hadir dengan mengusung tema “Perajin Muda, Lestarikan Warisan Budaya” pada 28 Agustus – 1 September 2024 di Hall A & Hall B, Jakarta Convention Center (JCC).  Diselenggarakan setiap tahun oleh Dewan Kerajinan Nasional (DEKRANAS), acara ini merupakan bentuk komitmen untuk melestarikan serta mengembangkan hasil produk kriya Indonesia. Acara ini juga dirancang untuk mendorong pertumbuhan ekomoni dan perluasan pasar kriya Indonesia.  Dalam sambutannya, Ketua Umum Dewan Kerajinan Nasional (DEKRANAS) Wury Ma’ruf Amin yang merupakan istri Wakil Presiden Ma’ruf Amin mengungkapkan bahwa pameran tersebut mencerminkan komitmen untuk meneruskan tradisi dan warisan leluhur kepada generasi muda.  \"Indonesia adalah negeri yang kaya akan budaya dan tradisi. Seni kerajinan berbagai daerah yang diwariskan tidak hanya mencerminkan keindahan dan keterampilan, tetapi juga nilai-nilai identitas bangsa,\" katanya.  Ia menambahkan, Kriyanusa adalah panggung bagi para perajin muda Indonesia untuk mempersembahkan karya-karya yang menghidupkan kembali kekayaan budaya Nusantara.  Seperti diketahui, Karya Kerajinan Tangan (Kriya) menjadi salah satu aset berharga untuk memenuhi permintaan pasar global akan kerajinan tangan yang khas Indonesia. Sebanyak ratusan produk milik pengrajin terampil dari seluruh pelosok negeri pun terpajang indah di acara tersebut.  PT Bank Rakyat Indonesia (Persero) Tbk atau BRI sebagai bank dengan fokus pada pemberdayaan UMKM di Indonesia mendukung acara tersebut dan turut serta menampilkan produk kriya terbaik dari UMKM binaan di Rumah BUMN BRI. BRI pun berkesempatan memfasilitasi usaha lokal yang bergerak di bidang kriya tersebut agar semakin dikenal dunia. Sejumlah UMKM binaan hadir memamerkan sejumlah produk, yakni MINIMIZU dan Dannes Teakwood.  Pertama, MINIMIZU yang merupakan brand di bidang seni kreatif yang memiliki produk aquascape, paludarium, terrarium, dan moss art. UMKM ini memproduksi produk unik yang menyediakan berbagai macam bentuk model dan design sesuai permintaan konsumen.  Kemudian UMKM kedua, yakni Danesteakwood, produsen kerajinan kayu jati berbasis social enterprise dan green economy yang memanfaatkan limbah kayu jati untuk dijadikan produk homedecor dan housewares. UMKM ini menggunakan kualitas kayu terbaik dan berupaya memberdayakan pengrajin secara luas hingga ke seluruh pelosok Indonesia.  Terkait dukungan BRI terhadap pameran Kriyanusa 2024, Wakil Direktur Utama Catur Budi Harto mengungkapkan bahwa kesempatan berpartisipasi dalam kegiatan tahunan Dekranas merupakan bentuk komitmen nyata BRI dalam memberdayakan UMKM binaan. Hal ini sejalan dengan komitmen BRI dalam mewujudkan UMKM naik kelas hingga pasar global.  “Harapannya dengan adanya event berskala nasional seperti ini akan terus membuka akses dan kesempatan kepada para pelaku UMKM yang ujungnya dapat membuat mereka naik kelas,” ucapnya.  Adapun UMKM yang bergabung mencapai 420 stan kriya, di antaranya 30% berasal dari pengrajin muda, kemudian ada 24 stan kuliner. Pameran yang tahun ini mengangkat ikon kebudayaan Kalimantan Timur tersebut dimeriahkan dengan berbagai acara seperti pameran, fashion show, talk show, dan lokakarya, serta musik.\n",
      "True Label: Positive, Predicted Label: Neutral\n",
      "\n",
      "Text 57: KONTAN.CO.ID - Promo Indomaret hemat banget masih memberikan harga lebih murah hingga Rp 5.000. Ada promo Indomaret hemat banget sampai paling murah yang akan berakhir besok.  Indomaret memberikan banyak penawaran menarik setiap harinya untuk produk kebutuhan harian sampai promo es krim.  Ada promo ice cream fair Indomaret sampai promo Indomaret super hemat mingguan di bulan Juli tahun 2024.  Kini masih ada banyak penawaran menarik di promo Indomaret weekday hari ini Juli 2024.  Promo Indomaret weekday edisi promo Indomaret hemat banget dan promo Indomaret paling murah.  Ada apa saja? Berikut katalog promo Indomaret hari ini untuk rekomendasi belanja lebih murah.  Promo Indomaret Hemat Banget  Di promo Indomaret hemat banget hari ini ada harga lebih murah Rp 5.000 dengan kartu kredit Mandiri atau debit BRI.  Dapatkan Pop Mie beli 2 lebih hemat harga Rp 9.000 dan belanja produk lain harga hemat mulai Rp 3.000 saja.  Ada HIT semprotan serangga, Le Minerale, Potabee, minyak Tropical, Pepsodent, sampai kopi bubuk Kapal Api.  Katalog promo Indomaret hemat banget terbaru tersebut berlaku mulai tanggal 11-17 Juli 2024 mendatang.  Belanja produk lain minimal Rp 150.000 (tidak termasuk item promo) Berlaku 1 kali/kartu/hari Tidak berlaku kelipatan Pembelian di toko Indomaret  S&K Potongan Rp 5.000 dengan Kartu Debit BRI (Mastercard):  Belanja produk lain minimal Rp 100.000 (tidak termasuk item promo) Berlaku 1 kali/kartu/hari Tidak berlaku kelipatan Pembelian di toko Indomaret  Promo Indomaret Paling Murah  Selanjutnya yaitu promo Indomaret hari ini edisi promo paling murah mulai tanggal 11-17 Juli 2024.  Promo Indomaret paling murah memberikan promo tambah Rp 3.000 dapat 2 atau beli 3 lebih hemat.  Selain itu promo Indomaret paling murah hari ini juga memberikan potongan harga selama akhir pekan.  Ada potongan harga untuk susu Ultra Milk, shampoo Head & Shoulders, Nabati, Garnie Men dan So Klin.  Dapatkan cashback coin Rp 5.000 belanja dengan Gopay atau diskon Rp 2.000 belanja dengan Kredivo.  S&K Bayar dengan Gopay:  Khusus pembayaran penuh di toko Indomaret Minimal belanja Rp 15.000 Limit maksimal 2(dua) kali/ user /periode.  S&K Diskon Rp 2.000 dengan Kredivo:  Untuk pembayaran di toko Indomaret Minimal belanja Rp 50.000  Promo Indomaret paling murah dan hemat banget berlaku nasional. Namun ada selisih harga di luar pulau Jawa, Bali dan Lombok.  Promo Indomaret paling murah dan hemat banget di pertengahan bulan Juli 2024 ini tidak berlaku di toko Indomaret Point.  Syarat dan ketentuan bertanda kartu kredit atau debit ini tidak berlaku untuk produk virtual, rokok, gas elpiji, susu di bawah 1 tahun.\n",
      "True Label: Neutral, Predicted Label: Neutral\n",
      "\n",
      "Text 58: PT Bank Pembangunan Daerah Jawa Timur Tbk melakukan penandatanganan perjanjian kredit dengan PT Petrokimia Gresik di Surabaya, Jawa Timur, Jumat . ANTARA/HO-Bank Jatim  Direktur Mikro, Ritel, dan Menengah Bank Jatim R. Arief Wicaksono menyatakan pihaknya sangat mendukung proyek Phonska V karena bisa memenuhi kebutuhan pupuk majemuk dalam negeri, substitusi impor, serta penghematan devisa negara. Karena sifatnya modifikasi/rehabilitasi, secara keseluruhan peralatan yang ada dapat dikategorikan sebagai peralatan baru, peralatan modifikasi, dan peralatan eksisting.  Berita ini telah kami rangkum agar Anda dapat membacanya dengan cepat. Jika Anda tertarik dengan beritanya, Anda dapat membaca teks lengkapnya di sini. Baca lebih lajut:  Indonesia Berita Terbaru, Indonesia Berita utama  Similar News: Anda juga dapat membaca berita serupa dengan ini yang kami kumpulkan dari sumber berita lain.  Punya 31 Pabrik Pupuk, Begini Upaya Petrokimia Gresik Mitigasi Perubahan Iklim 'Sebagai perusahaan yang memiliki 31 pabrik, Petrokimia Gresik tentu memiliki dampak terhadap lingkungan,' Sumber: suaradotcom - 🏆 28. / 53 Baca lebih lajut »  Semarakkan HUT RI dan Lestarikan Bumi, Petrokimia Gresik Gelar Lomba Bersih Lingkungan Masyarakat Sekitar Berita Semarakkan HUT RI dan Lestarikan Bumi, Petrokimia Gresik Gelar Lomba Bersih Lingkungan Masyarakat Sekitar terbaru hari ini 2024-08-14 14:35:05 dari sumber yang terpercaya Sumber: tvOneNews - 🏆 1. / 99 Baca lebih lajut »  Petrokimia Gresik kirim 19 atlet binaan untuk berlaga di PON 2024 Petrokimia Gresik yang merupakan perusahaan Solusi Agroindustri anggota holding Pupuk Indonesia mengirimkan 19 atlet senam dan voli binaan untuk berlaga dalam ... Sumber: antaranews - 🏆 6. / 78 Baca lebih lajut »\n",
      "True Label: Positive, Predicted Label: Positive\n",
      "\n",
      "Text 59: Jakarta-(10/09/2024) Pelantikan Presiden RI Selanjutnya kian dekat, publik bertanya tanya siapakah pengisi di kabinet pemerintahan yang baru, apakah akan sama dengan sebelumnya, atau justru di isi oleh banyak orang orang yang di luar partai/profesional.  Menurut Pak Hasyim Djoyokusumo saudara dari presiden terpilih bapak Prabowo mengatakan, para pengisi kabinet yang baru akan di isi oleh alumni SMA Taruna Nusantara. Ini menandakan bahwa akan ada banyak orang baru di kabinet Prabowo-Gibran.  Lalu siapakah yang akan mengisi Menparekraf Selanjutnya Pengganti Sandi Uno, apakah dari Partai atau justru dari Profesional. Menurut Ridho Direktur Politik Kita salah satu mahasiswa alumni Universitas Mataram Nusa Tenggara Barat menjelaskan bahwa Menparekraf Selanjutnya harus orang yang bener bener menggeluti pariwisata.  Ridho juga mengungkapkan bahwa Menparekraf Selanjutnya harus orang yang bener bener dekat dengan pelaku wisata di daerah daerah serta mampu merangkul mereka untuk setiap event yang nanti akan di laksanakan oleh Menparekraf itu sendiri.  Besar harapan seluruh masyarakat Indonesia khususnya pelaku wisata bahwa Mentri pariwisata selanjutnya itu pro kepada mereka, dan mensupport seluruh ide dan gagasan dari kelompok kelompok pelaku wisata.\n",
      "True Label: Neutral, Predicted Label: Neutral\n",
      "\n",
      "Text 60: ADVERTISEMENT  kumparan Hadir di WhatsApp Channel  Follow  Menurut Departemen Perdagangan RI Tahun 2009 bahwa industri kreatif adalah industri yang berasal dari pemanfaatan keterampilan, kreativitas, dan bakat yang dimiliki individu dalam menciptakan kesejahteraan dan lapangan pekerjaan. Kemudian Industri Kreatif ini akan berfokus untuk memberdayakan daya cipta dan daya kreasi suatu Individu. Munculnya istilah industri kreatif ini menjadi peluang bagi kaum Gen-z atau pemuda lainnya dalam mencari usaha yang mereka minati dan pasarnya pun sudah jelas ada.  ADVERTISEMENT  Pengertian Industri Kreatif dan Ciri-cirinya dalam Dunia Ekonomi  Kehadiran industri kreatif ini dapat mendorong dalam sektor ekonomi yang berfokus untuk menciptakan produk dan layanan bisnis yang kreatif dan penuh dengan keahlian. Di dorong dengan daya fasilitas yang lengkap, dunia industri kreatif tentunya tidak menutup kemungkinan akan menjadi mata pencaharian yang cukup menjanjikan. Memang fasilitas seperti apa? Yang terpenting dari pergerakan indsutri kreatif ialah mengkoneksikan layanan internet serta handphone/laptop yang memadai.  Peluang mendapatkan pekerjaan dalam dunia industri kreatif sebenarnya dinamis, selaku pelaku dalam dunia industri kreatif kita perlu betul-betul memiliki daya analisis serta jiwa krratif yang tinggi. Karena kita tidak hanya bersaing pada satu dua orang saja, mungkin puluhan ribu sudah menyiapkan hal yang sama. Dari situ kita perlu membutuhkan jiwa kreatif yang tinggi dalam menghadapi dunia industri krearif ini. Ketika kita sudah menguasai hal tersebut, maka tidak menutup kemungkinan kita dapat bersaing secara sehat dengan saingan ratusan ribu pelaku industri kreatif.  ADVERTISEMENT  Relasi industri kreatif dengan sektor ekonomi  Saat ini industri kreatif di Indonesia tengah menjadi sorotan karena telah menyumbang yang cukup signifikan terhadap perekonomian Indonesia. Berdasarkan data dari BEKRAF capaian kontribusi ekonomi kreatif terhadap domestic bruto Indonesia tahun 2017 sebesar 7,28%. Dengan capaian yang cukup besar tersebut, maka kita selaku gen-z harus bisa membaca serta mencermati mengenai sumber apa saja yang terdapat di Industri kreatif.  Berikut beberapa sumber industri kreatif yang menjadi referensi kita bersama, di antaranya ialah:  1. kuliner, sumber kuliner menjadi usaha yang menjanjikan, karena semua orang akan membutuhkan yang namanya makanan. Namun untuk menjadi ciri khas dari kuliner yang kita buat harus memiliki nilai otentik dan ciri khas, supaya menjadi nilai branding tersendiri.  ADVERTISEMENT  2. Fashion, seperti yang kita ketahui bahwa fashion akan menjadi pembahasan yang dinamis dari masa-ke masa. Orang bilang outif lu apa? Ketika sudah terjadi seperti itu, maka fashion akan menjadi tawaran yang menarik. Terlebih fashion yang sifatnya kekinian/trendi.  3. Periklanan, sub sektor periklanan pada umumnya menjadi sumber yang akan terus berputar, karena pada dasarnya periklanan merupakan metode untuk menyampaikan informasi kepada khalayak umum. Dan orang yang memiliki usaha tentu akan membutuhkan iklan sebagai cara mempromosikan produk yang mereka miliki.  4. Fotografi, jenis industri fotografi ini menjadi sektor yang menjanjikan. Karena sepertinya semua moment yang dibuat tentunya akan sangat membutuhkan dokumentasi,dan peran potografi itulah yang akan berperan sangat penting, terlebih dengan maraknya dunia digital ini potografi akan menjadi garda depan untuk mengabadikan setiap moment yang klien inginkan. Seperti kegiatan wisuda, wedding, ulang tahun, kegiatan family gathering, dan kegiatan yang lainnya lagi  ADVERTISEMENT  5. Musik, musik menjadi tawaran yang menjanjikan bagi para musisi, di sisi lain musisi ini memiliki idealisnya masing-masing, namun industri akan menjadi nilai tambah buat mereka untuk memenuhi kebutuhan lainnya, seperti produksi itu senditi. Dan music sekarang sudah tersebar di setiap lini, baik digital atau pun di kehidupan sehari-hari.  Apakah hanya itu saja? tidak, tentunya sangat banyak sekali sub sektor industri kreatif yang lainnya, seperti Tv, radio, podcast, arsitektur, designer, penerbitan, film, animasi, video, seni pertunjukan, aplikasi dan pengembangan permainan dan seni rupa. Dengan melihat besarnya peluang industri kreatif di Indonesia, tidak ada salahnya bagi kita semua untuk bisa mengembangkan jenis usaha ini agar menjadi wirausaha yang sukses dalam bidangnya masing-masing. Selain berfokus terhadap keuntungan atau nilai profit, pengembangan usaha ini juga sangat berpotensi untuk membuka lapangan pekerjaan bagi yang akan membutuhkan. Tentu ini akan sangat berdampak terhadap perputaran roda ekonomi, baik secara makrp ataupun mikro.  Personal Branding terhadap dunia Industri Kreatif  Industri kreatif tidak akan pernah kehabisan dalam membangun roda ekonomi sejauh kita bisa mengelolanya dengan baik. Pengelolaan yang baik itu perlu di tanamkan terlebih dahulu pada diri kita selaku pelaku usaha. Karena kedepannya kita akan bersaing dengan puluhan ribu pelaku industri lainnya, maka dengan hal itu kita perlu membangun dan terus menggali potensi yang kita miliki agar bisa sesuai dengan pasar yang terjadi di industri kreatif.  Kreativitas Generasi Z dalam Industri Kreatif  Untuk terus bertahan pada dunia industri kreatif ini salah satunya kita harus memiliki personal branding yang kuat. Apa itu personal branding? Hemat penulis personal branding ialah bagaimana caranya konsumen harus mengingat kita secara terus menerus dari kondisi dan situasi bagaimanapun. Hal ini berupaya untuk membangun relasi antara pelaku usaha dengan konsumen, sehingga bisa menghasilkan yang Namanya pelanggan. Ketika industri kita sudah berada di tahap memiliki pelanggan, maka secara tidak langsung personal branding kita berhasil di serap oleh konsumen yang kita miliki.\n",
      "True Label: Neutral, Predicted Label: Negative\n",
      "\n",
      "Text 61: A Damenta juga menuturkan bahwa saat ini Palembang sudah masuk dalam Karisma Event Nusantara (KEN) yang diseleksi oleh Kemenparekraf mengalahkan ratusan kabupaten/kota lainya.  Hal ini menunjukan bahwa pemerintah kota terus berkomitmen dalam pengembangan dan kemajuan Kota Palembang dari berbagai sektor terkhusus UMKM dan ekonomi kreatif.***\n",
      "True Label: Negative, Predicted Label: Neutral\n",
      "\n",
      "Text 62: Perajin menghaluskan kayu saat membuat kerajinan replika mobil pesanan pasar ekspor di rumah produksi Tetap Jaya Art, Kemiri, Mojosongo, Boyolali, Jawa Tengah, Rabu (11/9/2024). Berdasarkan data Kementerian Pariwisata dan Ekonomi Kreatif nilai ekspor ekonomi kreatif hingga pertengahan 2024 telah mencapai 12,36 miliar dolar AS atau sudah mencapai 44,89 persen dari target ekspor sebesar 27,53 miliar dolar AS untuk tahun ini. ANTARA FOTO/Aloysius Jarot Nugroho/foc.\n",
      "True Label: Neutral, Predicted Label: Negative\n",
      "\n",
      "Text 63: Newslampungterkini.com – Pemerintah Kota Bandar Lampung kembali mendapatkan penghargaan di tingkat nasional. Kali ini dari Menteri Pariwisata dan Ekonomi Kreatif (Kemenparekraf).  Penghargaan yang diterima langsung Walikota Bandar lampung Eva Dwiana, pada Senin, 9 September 2024. Ini merupakan penghargaan pada program Apresiasi Pemasaran Pariwisata Indonesia (APPI).  Penghargaan yang diterima itu sebelumnya melalui kompetisi Lomba Video Kreatif Bangga Berwisata di Indonesia (BBWI) antar Dinas Pariwisata Daerah se-Indonesia.  Tak tanggung-tanggung, dalam lomba video tersebut Pemkot Bandar Lampung menyabet empat kategori lamba sekaligus, yakni tema Destinasi Wisata meraih Juara ke-3; tema Kuliner juara ke-5; tema Seni dan Budaya juara ke-7; dan tema Even Daerah juara ke-10.  Atas raihan penghargaan tersebut, Walikota Bandar Lampung Eva Dwiana, mengapresiasi penghargaan APPI 2024 yang diserahkan langsung oleh Menparekraf RI Sandiaga Uno.  “Alhamdulilah, Pemerintah Kota Bandar Lampung meraih empat penghargaan di malam APPI 2024 yang diadakan Kementerian Pariwisata dan Ekonomi Kreatif,” kata Walikota Eva Dwiana, Selasa (10/9/2024).  Menurutnya, kolaborasi dalam mengembangkan sektor pariwisata dan ekonomi kreatif menjadi penting agar kunjungan di Kota Bandar Lampung terus meningkat.  Sebelumnya, Walikota Bandar Lampung Eva Dwiana telah lebih dulu menerima penghargaan bergengsi, Satyalancana Wira Karya, di Jakabaring Sport City, Palembang, Sumatera Selatan.  Penghargaan tersebut diserahkan oleh Menteri Koperasi dan UKM (MenKopUKM) Teten Masduki, pada puncak peringatan Hari Usaha Mikro, Kecil, dan Menengah (UMKM) Nasional.\n",
      "True Label: Neutral, Predicted Label: Neutral\n",
      "\n",
      "Text 64: INIBENGKULU – Pinjam KUR BSI ternyata ada yang bisa tanpa agunan, segini jumlah maksimal yang bisa diajukan dan daftar simulasi angsurannya.  KUR BSI merupakan produk pembiayaan untuk modal usaha dan investasi dari pemerintah yang disalurkan melalui Bank Syariah Indonesia (BSI).  Pinjam KUR BSI bisa menjadi pilihan bagi pelaku usaha yang ingin mendapatkan pinjaman untuk usaha namun bebas dari riba. Pasalnya BSI merupakan bank yang menerapkan prinsip syariah.  Pinjaman di Bank BSI tidak menggunakan sistem bunga seperti bank-bank konvensional lainnya melainkan menerapkan prinsip Murabahah dan Ijarah dimana nasabah hanya dikenakan margin atau bagi hasil.  Pada produk pinjaman KUR BSI, nasabah akan dikenakan margin dengan perhitungan setara 6 persen per tahun dalam pembayaran angsurannya.  Kabar baiknya lagi, pinjam KUR BSI ternyata bisa tanpa agunan. Pinjaman KUR BSI yang dapat diajukan tanpa agunan tersedia pada layanan pembiayaan super mikro dan mikro dengan limit pinjaman maksimal masing-masing 10 juta dan 100 juta.  Apa saja syarat pinjaman KUR BSI?  Dikutip dari laman resmi salamdigital.bankbsi.co.id, syarat pinjaman KUR BSI yakni perorangan/individu yang melakukan usaha produktif dengan pengalaman usaha minimal 6 bulan. Tidak pernah menerima pembiayaan/kredit jenis komersial, memiliki izin usaha, NPWP serta KTP dan Kartu Keluarga (KK).  Bagaimana jika memiliki kredit konsumtif seperti pinjol? Tidak masalah, penerima KUR BSI diperbolehkan jika memiliki pembiayaan konsumsi untuk keperluan rumah tangga, pembiayaan skema/skala ultra mikro, pembiayaan pada perusahaan layanan pendanaan bersama berbasis teknologi informasi.  Bahkan bisa menerima KUR secara bersamaan dengan kredit lain seperti KPR, KKP roda 2 produktif, pembiayaan dengan jaminan SK pensiun, kartu kredit, pembiayaan Resi Gudang dan pembiayaan konsumsi untuk keperluan rumah tangga.  Bank BSI hanya memberikan batas maksimal jangka waktu angsuran selama 3 tahun kepada nasabah KUR super mikro dan KUR Mikro. Sebagai pertimbangan sebelum mengajukan pinjaman berikut ini simulasi angsurannya.  Limit Rp 10 juta\n",
      "True Label: Negative, Predicted Label: Negative\n",
      "\n",
      "Text 65: Warta Ekonomi, Jakarta -  PT Bank Danamon Indonesia Tbk (Danamon) dan Badan Penyelenggara Jaminan Sosial (BPJS) Ketenagakerjaan resmi menandatangi nota kesepahaman (Memorandum of Understanding /MoU) terkait penerimaan iuran dan pembayaran klaim di Menara Bank Danamon, Jakarta, Senin (3/6/2024).  Direktur Utama PT Bank Danamon, Daisuke Ejima menuturkan, kerja sama tersebut menjadi salah satu potensi bisnis Bank Danamon dalam meningkatkan jumlah nasabah dan transaksi ke depan.  ”Sebagai salah satu bank persepsi, Danamon juga mendukung program BPJS Ketenagakerjaan dan pemerintah untuk meningkatkan jangkauan perlindungan BPJS Ketenagakerjaan untuk setiap lapisan masyarakat,” ujar Ejima dalam keterangan tertulisnya, Senin (3/6/2024).  Seperti diketahui, sebagai bank yang customer centric, Danamon menawarkan solusi keuangan holistik (one stop financial solution provider) yang sesuai dengan tahapan kehidupan masyarakat.  Hal ini didukung oleh posisi Danamon sebagai bagian dari grup MUFG, dengan ekosistem layanan yang luas, terutama setelah selesainya akuisisi Home Credit Indonesia oleh MUFG; Mandala Finance dan Zurich oleh Adira Finance; serta dukungan mitra strategis Danamon seperti Akulaku, Grab, dan Dana Ventura Garuda Fund oleh MUFG Innovation Partners Co., Ltd (MUIP).  Berkomitmen untuk tumbuh bersama nasabah, Danamon terus meningkatkan kemampuan ekosistem digitalnya dan berupaya menawarkan solusi keuangan terbaik melalui serangkaian inisiatif yang salah satunya adalah kerja sama dengan BPJS Ketenagakerjaan.  Ejima menuturkan, dalam mendukung kerja sama tersebut, Danamon menyediakan berbagai kanal penerimaan iuran dari peserta BPJS Ketenagakerjaan dan pembayaran klaim dari BPJS Ketenagakerjaan.\n",
      "True Label: Neutral, Predicted Label: Neutral\n",
      "\n",
      "Text 66: - Platform jual beli dan investasi aset kriptografi PT Pintu Kemana Saja (Pintu) meyakini Indonesia bisa jadi pemain kunci pasar kripto global.  CMO Pintu Timothius Martin menyatakan, dirinya meyakini Asia Tenggara merupakan kawasan yang sangat penting bagi industri kripto secara global, khususnya Indonesia yang bisa menjadi pemain kunci yang menonjol di Asia Tenggara.  Ini karena didukung dengan banyak faktor positif di antaranya jumlah investor kripto yang mencapai 20 juta orang hingga nilai transaksi dalam enam bulan terakhir mencapai 20 juta dollar AS.  Ilustrasi aset kripto.  \"Angka tersebut sangat besar yang disumbang dari satu negara saja. Jadi pasar kripto di Asia Tenggara punya potensi yang besar karena didukung oleh regulasi yang ramah sehingga membuat penggunanya bisa berinvestasi dengan aman,” kata Timothius dalam siaran pers, Sabtu (31/8/2024).  Indonesia menjadi negara yang tanggap dalam mengatur perdagangan aset kripto dengan berbagai regulasi yang dikeluarkan oleh Badan Pengawas Berjangka Perdagangan Komoditi (Bappebti), di antaranya aturan yang mengkategorikan bahwa aset kripto diakui sebagai komoditas yang dapat diperdagangkan di bursa berjangka.  Kemudian, aturan tentang deretan aset crypto yang diizinkan untuk diperdagangkan, hingga peluncuran lembaga Self-Regulatory Organizations (SRO) yang diresmikan oleh Bappebti untuk mengawasi perdagangan para pelaku usaha kripto agar dapat berlangsung dengan aman dan transparan.  “Kerangka regulasi yang jelas dari Bappebti, hingga dukungan infrastruktur berbagai mitra dari bank-bank besar menjadikan industri kripto dalam negeri dapat tumbuh dengan baik,\" ujar Timothius.  Dia pun meyakini, adopsi kripto yang sekarang baru mencapai 7 persen dari total jumlah populasi Indonesia akan terus tumbuh karena potensinya masih sangat besar.  \"Untuk mendukung peningkatan tersebut, kami akan fokus mengedukasi pasar domestik melalui platform aplikasi crypto all-in-one yang bisa digunakan untuk belajar menjelajahi dunia kripto,” ungkap Timothius.  Aplikasi Pintu, imbuh dia, menjadi perusahaan berbasis teknologi blockchain yang menghadirkan fitur investasi kripto terlengkap. Tiga fitur utamanya antara lain aplikasi Pintu yang fokus pada investor pemula yang di dalamnya juga banyak fitur seperti Pintu Earn, Limit Order, dan Auto Dollar-Cost Averaging (DCA).  Fitur kedua adalah Pintu Web3 Wallet sebuah wallet crypto yang memberikan kemudahan akses ke berbagai aset kripto, mengoleksi non-fungible token (NFT), berinteraksi ke beragam Decentralized Applications (dApps), platform Decentralized Finance (DeFi), hingga Decentralized Exchange (DEX).\n",
      "True Label: Positive, Predicted Label: Positive\n",
      "\n",
      "Text 67: LINGKARPENA.ID | Desa wisata Hanjeli, Desa Waluran/Kecamatan Waluran, Kabupaten Sukabumi, Jawa Barat, berhasil meraih penghargaan Wonderful Indonesia Impact, dari Kementerian Pariwisata dan Ekonomi Kreatif Republik Indonesia.  Penghargaan tersebut diterima pengelola Desa Wisata Hanjeli, Asep Hidayat, pada Kamis, 19 September 2024, bertempat di Hotel Painmon, Jakarta.  “Kami bersyukur Desa Wisata Hanjeli terpilih sebagai Desa wisata terbaik. Malam ini saya langsung menerima penghargaan Indonesia Wonderful Impact,” kat Asep Hidayat kepada Lingkarpena melalui saluran teleponnya.  Untuk meraih penghargaan itu, kata Asep Hidayat, empat bulan yang lalu kami menerima formulir dari Kementetian Pariwisata dan Ekonomi Kreatif Indonesia. Ada 200 desa wisata yang menerima formulir itu, ” jelas Asep.  “Proses pemilihanya sangat ketat. Dari 200 desa wisata diseleksi menjadi 30 terpilih, lalu diseleksi menjadi 6. Desa wisata Hanjeli dari Sukabumi dan Selamik dari Ciamis. Alhamdulilah Desa Wisata Hanjeli bisa mengharumkan nama Kabupaten Sukabumi,” ujarnya.  “Untuk temen-temen desa wisata jangan berkecil hati bahwa potensi apa yang kita punya hari ini, tinggal kita olah, kita terus berinovasi, kita jangan menyerah,” pesan Asep Hidayat, founder Desa Wisata Hanjeli.  Diketahui, Untuk mendukung pengembangan pariwisata di tingkat desa, pemerintah meluncurkan program Wonderful Indonesia Impact.  Program ini bertujuan untuk mendorong inovasi dan kreativitas dalam pengelolaan potensi wisata lokal.  Dengan adanya “Wonderful Indonesia Impact”, diharapkan industri pariwisata Indonesia dapat lebih fokus pada implementasi keberlanjutan dan meningkatkan kualitas pariwisata di tanah air.  Dengan demikian, Indonesia dapat terus menjadi destinasi wisata yang menarik dan berkelanjutan bagi wisatawan dari seluruh dunia. Daftar Pemenang Wonderful Indonesia Impact: Meningkatkan Pariwisata Desa  Berikut adalah daftar 6 pemenang Wonderful Indonesia Impact 2024 dari Kemenparekraf RI:  1. Desa Wisata Pela, Provinsi Kalimantan Timur  2. Desa Wisata Kreatif Terong, Provinsi Bangka Belitung  3. Desa Wisata Hanjeli, Provinsi Jawa Barat  4. Desa Wisata Osing Kemiren, Provinsi Jawa Timur\n",
      "True Label: Neutral, Predicted Label: Neutral\n",
      "\n",
      "Text 68: TRIBUNJATENG.COM - Etawalin Dieng Run 2024 (EDR 2024) adalah event lari yang mengundang atlet dan masyarakat umum dari seluruh Indonesia, khususnya Jawa Tengah.  Setelah sukses pada penyelenggaraan perdana di 2023, tahun ini EDR kembali digelar pada 13 Oktober 2024 dengan rute yang lebih menantang di kawasan dataran tinggi Dieng.  Dengan tema \"Warisan Budaya di Setiap Langkah\", EDR 2024 menawarkan pengalaman unik, memadukan semangat olahraga dengan kekayaan budaya lokal Dieng.  Peserta akan memulai dan mengakhiri lomba di Lapangan Pandawa - Dieng Kulon, dengan pilihan jarak 5K (road run) dan 10K (semi trail run). Rute ini memberikan pemandangan memukau serta udara sejuk khas Dieng, menjadikan pengalaman berlari semakin istimewa.  Pada penyelenggaraan kali ini, hadiah dan doorprize senilai total Rp 100 juta akan diberikan kepada para pemenang kategori 5K dan 10K, baik untuk pria maupun wanita, dengan masing-masing lima pemenang podium.  Event Director, Cacik Gunarti, menjelaskan bahwa rute 10K tahun ini akan lebih menantang dengan kategori semi trail run. “Untuk kategori 10K, sebagian rute merupakan jalur non-aspal, meskipun masih banyak yang melewati jalan aspal,” ujarnya.  Mengapa Dieng?  Dieng dikenal sebagai destinasi wisata eksotis yang menawarkan pemandangan indah dan medan yang menantang bagi para pelari. Dengan elevasi hingga hampir 200 meter, Dieng menawarkan pengalaman yang menggabungkan street run dan trail run.  Ke depannya, rute EDR berpotensi dikembangkan menjadi half marathon (21K) dan full marathon (42K), menambah daya tarik Dieng sebagai destinasi sport tourism nasional maupun internasional.  Selain menjadi event lari, EDR 2024 juga diharapkan dapat meningkatkan perekonomian dan pariwisata lokal melalui partisipasi aktif masyarakat setempat.  Etawalin sebagai Sponsor Utama EDR 2024  Etawalin, minuman sehat berbahan dasar susu kambing etawa dengan 5 herbal alami, kembali menjadi sponsor utama EDR 2024.  Produk ini dipercaya oleh konsumen karena khasiatnya dalam menjaga kesehatan sendi dan tulang. Etawalin mendukung penuh event ini sebagai bagian dari komitmen mereka dalam mendorong gaya hidup sehat di Indonesia.  Pendaftaran EDR 2024 telah dibuka hingga 13 September 2024 dengan kuota 2.500 pelari untuk kategori 5K dan 10K. Acara ini juga akan dimeriahkan dengan pameran kuliner lokal, penampilan tari, dan musik tradisional, yang berlangsung di area start dan finish pada 11-12 Oktober 2024.  Untuk mendapat harga special promo, peserta dapat mendaftar melalui aplikasi TribunX atau website Tribun Booking, serta melalui tautan berikut:  Jangan lewatkan kesempatan untuk merasakan pengalaman berlari di dataran tinggi Dieng yang menantang sekaligus merayakan kekayaan budaya lokal!  Segera daftarkan diri Anda dan dapatkan informasi lebih lanjut di akun Instagram atau TikTok @diengrun.\n",
      "True Label: Neutral, Predicted Label: Neutral\n",
      "\n",
      "Text 69: JAKARTA,SUARAINVESTOR.COM – Komisi X DPR RI menekankan pengaturan RUU tentang Perubahan Ketiga atas UU Nomor 10 Tahun 2009 tentang Kepariwisataan akan didasarkan pada paradigma baru kepariwisataan yakni pariwisata berkualitas.  “Pengaturan substansi RUU Kepariwisataan didasarkan paradigma baru kepariwisataan dari pariwisata massal (mass tourism) kepada pariwisata berkualitas (quality tourism),” ujar Wakil Ketua Komisi X DPR RI Abdul Fikri Faqih saat membacakan kesimpulan Rapat Kerja Komisi X dan Kemenparekraf di Gedung Nusantara I, DPR RI, Senayan, Jakarta, Selasa (17/09/2024).  Selain itu, adapun penguatan identitas bangsa, perekonomian dan pertahanan bangsa dengan tetap menjaga nilai-nilai masyarakat, adat istiadat, kekayaan alam dan warisan budaya di mana pengenalannya dimulai dari pendidikan.  Kemudian pengaturan kelembagaan pariwisata dengan merujuk kelembagaan di Tingkat global dengan mengutamakan spirit kolaborasi serta menjadikan pariwisata sebagai sektor prioritas pembangunan.  Pembahasan pembicaraan tingkat I mengenai RUU tentang Perubahan Ketiga atas UU Nomor 10 Tahun 2009 tentang Kepariwisataan ini juga disepakati untuk dilakukan pada masa Persidangan I Tahun 2024-2025. Namun apabila tidak memungkinkan maka akan dilakukan carry over pada DPR RI periode 2024-2029.\n",
      "True Label: Neutral, Predicted Label: Neutral\n",
      "\n",
      "Text 70: Bisnis.com, JAKARTA— PT Adira Dinamika Multifinance Tbk. (ADMF) atau Adira Finance mencatatkan piutang pembiayaan dikelola mencapai Rp58,4 triliun pada semester I/2024. Angka tersebut meningkat sekitar 15% apabila dibandingkan dengan periode yang sama pada tahun sebelumnya.  “Piutang pembiayaan yang dikelola Perusahaan [termasuk pembiayaan bersama] mengalami pertumbuhan sebesar 15% yoy menjadi Rp58,4 triliun,” kata Presiden Direktur Adira Finance, Dewa Made Susila, dalam Media Update Kinerja Keuangan Adira Finance Semester I/2024 di Jakarta pada Kamis (1/8/2024).  Namun demikian, Made menambahkan seiring dengan lesunya industri otomotif di sepanjang semester pertama tahun ini, pembiayaan baru Adira Finance sedikit mengalami penurunan sebesar 2% yoy menjadi Rp20 triliun.  Diketahui, penjualan ritel mobil baru mengalami penurunan sebesar 15% yoy menjadi 432.000 unit selama semester I/2024. Sementara untuk penjualan sepeda motor baru relatif stabil yaitu sebesar 3 juta unit.  Made mengatakan Adira Finance akan terus menerapkan berbagai inisiatif strategi untuk mendorong kinerja bisnis di tengah tantangan yang terjadi saat ini. Salah satunya adalah terus mengembangkan bisnis nonotomotif seperti pinjaman multiguna.  Selain itu, untuk dapat terus meningkatkan penyaluran pembiayaan, Adira Finance juga akan memperluas jaringan bisnisnya secara selektif di wilayah-wilayah yang berpotensi tinggi.  Hingga 30 Juni 2024, Adira Finance telah mengoperasikan 476 jaringan bisnis di seluruh Indonesia, termasuk cabang syariah. Dari sisi digital, perusahaan terus mengoptimalkan penjualan melalui platform digital seperti Adiraku, momobil.id, momotor.id, dan dicicilaja.com.  Sepanjang semester pertama tahun 2024, perusahaan mencatat pertumbuhan pembiayaan baru di segmen non otomotif sebesar 21% yoy mencapai Rp4,6 triliun.  Pembiayaan multiguna berkontribusi terbesar dalam pembiayaan non-otomotif perusahaan. Selain itu, perusahaan mencatatkan pembiayaan baru di segmen syariah sebesar Rp4,3 triliun atau mewakili 22% dari total pembiayaan baru.  Untuk dapat mendorong pertumbuhan pembiayaan syariah, perusahaan akan terus melakukan kegiatan pemasaran, ekspansi dari kanal-kanal penjualan di komunitas syariah, serta memaksimalkan penjualan produk syariah khususnya non-otomotif seperti produk Adira Multi Dana Syariah (AMANAH).  Direktur Keuangan Adira Finance, Sylvanus Gani Kukuh Mendrofa, menambahkan dari sisi keuangan, Adira Finance membukukan total pendapatan mencapai Rp 5,0 triliun, naik sebesar 11% yoy.  Sementara itu, total beban meningkat sebesar 16% yoy menjadi Rp4,0 triliun pada Semester I/2024.  “Peningkatan pada beban disebabkan in naiknya biaya pendanaan perusahaan seiring dengan peningkatan suku bunga. Dengan demikian, laba bersih perusahaan setelah pajak dibukukan sebesar Rp 765 miliar 7 atau mengalami penurunan sebesar 7% yoy,” kata Gani.  Sementara, Return on Asset (ROA) dan Return on Equity (ROE) perusahaan masing-masing tercatat menjadi sebesar 6,1% dan 14,2% pada semester 1/2024.  Dari sisi pendanaan, Gani menambahkan Adira Finance terus melakukan diversifikasi sumber pendanaan baik melalui dukungan berkelanjutan dari pembiayaan bersama dengan perusahaan induknya, Bank Danamon.  Adira Finance juga memperoleh pinjaman eksternal dari bank baik dalam negeri maupun luar negeri, serta pasar modal melalui obligasi lokal dan sukuk mudharabah.  Per posisi Juni 2024, pembiayaan bersama mewakili 47% dari piutang yang dikelola. Sementara itu, total pinjaman perusahaan pada Juni 2024 meningkat sebesar 44% yoy menjadi Rp21,5 triliun. Perinciannya dari pinjaman bank baik dalam negeri maupun luar negeri, obligasi dan sukuk masing-masing berkontribusi 64% dan 36%.\n",
      "True Label: Neutral, Predicted Label: Neutral\n",
      "\n",
      "Text 71: TANGERANG RAYA, iNewsSerpong.id - Ratusan santri di Kabupaten Tangerang mengikuti pelatihan kecakapan digital melalui program Santri Digitalpreneur, yang digelar Kementerian Pariwisata dan Ekonomi Kreatif (Kemenparekraf).  Program Kemenparekraf ini bertujuan agar para santri dapat menciptakan konten dakwah yang menarik, kreatif, dan inspiratif, serta menyebarkan nilai-nilai kehidupan yang positif secara luas dan efektif.  \"Program ini diselenggarakan untuk mempersiapkan santri menjadi digitalpreneur. Digitalisasi saat ini sudah menjadi keniscayaan yang tidak bisa kita pungkiri,\" ungkap Sandiaga Uno saat menghadiri acara Santri Digitalpreneur di Pondok Pesantren Nur Antika, pada Sabtu, 14 September 2024.  Transformasi Digital  Sandiaga menekankan bahwa pemerintah telah memulai transformasi digital, dan santri diharapkan dapat mengambil peran aktif dalam mengisi ruang-ruang digital dengan konten dakwah yang menarik.  \"Santri bisa menjadi pionir dalam menyebarkan dakwah Islam, membangun komunitas online yang positif, dan memberikan pengaruh bagi perkembangan Islam di Indonesia,\" tambahnya.  Sandiaga menjelaskan bahwa santri akan dibimbing oleh mentor super, Kang Ferry (Ferry Ardiansyah), untuk memahami cara membuat konten yang baik dan menyampaikan narasi positif untuk persatuan bangsa.  \"Konten-konten yang positif dan inspiratif akan memberikan dampak yang luas. Dalam produksinya, kita memerlukan inovasi, adaptasi, dan kolaborasi,\" ungkapnya.  “Menghadapi digitalisasi, kita perlu totalitas dan kreativitas. Kita yakin santri akan berada di garis depan menuju Indonesia Emas 2045. Santri harus bijak dan kreatif dalam menggunakan media digital, yang saat ini merupakan bagian penting dari kehidupan kita,” tegas Sandiaga.  Program Santri Digitalpreneur di Pondok Pesantren Nur Antika berlangsung selama empat hari, dari 14 hingga 17 September 2024, diikuti oleh santri dari 10 pondok pesantren.\n",
      "True Label: Negative, Predicted Label: Negative\n",
      "\n",
      "Text 72: POJOKSATU.id, JAKARTA -- Jakarta International Marathon (JAKIM) 2024 sukses digelar. Sebanyak 15 ribu peserta baik lokal maupun mancanegara ikut serta pada perhelatan yang digelar di Jakarta Pusat, Minggu (23/6/2024).  Sejak dini hari peserta sudah siap dan antusias mengikuti lomba. Ada tiga kategori yang dilombakan, yakni Marathon (42,195K) yang dimulai pukul 04.00 WIB, Half Marathon (21,0975K) mulai pukul 05.15 WIB, dan 10K pada pukul 06.15 WIB. Adapun semua kategori ini mulai start dari Monas.  Salah satu kesuksesan pelaksanaan Jakarta Internasional Marathon 2024 dinilai melalui pemenuhan standarisasi penyelenggaraan dan keselamatan peserta yang telah sesuai, termasuk standar hydration point.  Race Director JAKIM 2024, Satrio Guardian menyatakan, pihaknya telah berupaya maksimal memenuhi standarisasi internasional.  \"Kami telah menyiapkan water station di 20 titik sesuai standar Internasional. Peserta tidak perlu khawatir karena kami telah berkolaborasi dengan Le Minerale, air mineral dengan mineral berkualitas dan berstandar Internasional juga,\" kata Satrio, Minggu (23/6/2024).  Secara keseluruhan acara berlangsung dengan baik, termasuk keamanan para peserta serta kebutuhan hidrasi dan kecukupan mineral peserta. Le Minerale dengan kandungan mineral esensialnya mampu membantu mengatur suhu tubuh pelari agar tetap stabil dan juga berfungsi menyalurkan oksigen ke berbagai jaringan tubuh. Apabila transfer oksigen terhambat, pelari akan mengalami pusing saat mengalami kekurangan cairan dan mineral terutama saat kepanasan saat berlari.  \"Kami memilih Le Minerale sebagai Official Mineral Water karena memiliki kandungan mineral essensial yang terjaga kualitasnya dan telah berstandar Internasional. Terlebih, Le Minerale merupakan satu-satunya Air Mineral Dalam Kemasan (AMDK) yang secara jelas mencantumkan jumlah kandungan mineral di kemasannya.\" jelas Satrio.  Sementara itu, Yuna Eka Kristina, Head of Public Relations and Digital Le Minerale menyampaikan banyak terima kasih atas kepercayaan masyarakat kepada Le Minerale, sehingga terpilih menjadi Official Mineral Water JAKIM 2024.  \"Kami selalu antusias dipercaya untuk mendukung event-event olahraga nasional. Semoga dengan kehadiran Le Minerale sebagai official mineral water, dapat membantu memenuhi kebutuhan mineral tubuh serta mendukung performa para runners, hingga membantu rekondisi fisik para atlet setelah berlari,\" ungkapnya.  Sependapat dengan hal tersebut, salah satu peserta JAKIM 2024 Denny Nurjaya mengatakan pelaksanaan Jakarta Internasional Marathon kali ini sangat baik.  \"Penempatan water station yang tersedia sudah tepat dengan kebutuhan para pelari, di saat butuh air mineral untuk mengembalikan kebugaran tubuh,\" ujarnya.***\n",
      "True Label: Negative, Predicted Label: Negative\n",
      "\n",
      "Text 73: TRIBUNPALU.COM, SIGI - Sekretaris Daerah Kabupaten Sigi, Nuim Hayat, menghadiri kegiatan Libu Bete (Musyawarah Besar) yang diikuti oleh seluruh tokoh adat, majelis adat, dan tim akademik.  Kegiatan ini membahas pengembangan pariwisata di Kecamatan Lindu dengan tetap mempertahankan adat, istiadat, serta kearifan lokal.  Acara ini merupakan bagian dari Festival Danau Lindu 2024, bertujuan mempromosikan potensi pariwisata Lindu secara berkelanjutan.  Dalam musyawarah tersebut, Sekda Nuim Hayat menekankan pentingnya kerja sama antara pemerintah, tokoh adat, dan akademisi dalam mengembangkan potensi pariwisata di Kecamatan Lindu.  \"Saya berharap masukan dari akademisi, tokoh adat, dan Kementerian Pariwisata dapat menjadi catatan untuk evaluasi dan inovasi guna meningkatkan potensi pariwisata Danau Lindu,\" ujar Sekda melalui keterangan tertulisnya Senin, (9/9/2024).  Kegiatan ini juga dihadiri oleh Direktur Pemasaran Pariwisata Nusantara dari Kementerian Pariwisata dan Ekonomi Kreatif Republik Indonesia.  Dalam paparannya, beliau menekankan pentingnya memadukan potensi alam dengan budaya lokal sebagai daya tarik utama wisata.  Ada empat hal penting yang perlu diperhatikan agar Danau Lindu menjadi destinasi wisata unggulan:  1. Ketersediaan Kuliner Tradisional dan Akomodasi: Menyediakan makanan khas dan tempat tinggal dengan konsep kearifan lokal untuk menarik wisatawan, khususnya wisatawan asing.  2. Infrastruktur Jalan: Memperhatikan kualitas infrastruktur jalan sebagai faktor penting dalam kenyamanan wisatawan.  3. Adat Istiadat dan Budaya : Menunjukkan keramahan masyarakat serta melestarikan adat dan budaya untuk menciptakan pengalaman yang menyenangkan bagi wisatawan. 4. Keindahan Alam : Menjaga kebersihan dan keindahan alam, termasuk memastikan lingkungan bebas dari sampah plastik untuk meningkatkan daya tarik wisatawan. (*)  Dengan perhatian pada empat aspek ini, diharapkan Danau Lindu dapat berkembang menjadi salah satu destinasi wisata yang harus dikunjungi. (*)\n",
      "True Label: Neutral, Predicted Label: Neutral\n",
      "\n",
      "Text 74: JAKARTA, Bisnistoday- PT Bank Danamon Indonesia Tbk (Danamon) mengumumkan Laporan Keuangan pada Semester I-2024 melalui Konferensi Pers di Jakarta, Selasa (30/7) yang dilakukan secara virtual.  Danamon berhasil mencapai pertumbuhan tahunan dua digit untuk total Kredit dan Dana Pihak Ketiga, didukung oleh pertumbuhan berkelanjutan di seluruh lini bisnis (Enterprise Banking & Financial Institution, Consumer Banking, SME Banking & Adira Finance).  “Hari ulang tahun ke-68 ini menandai perjalanan berkelanjutan kami sebagai Grup Finansial terkemuka dalam memberikan kontribusi aktif terhadap pertumbuhan perekonomian Indonesia,” ujar Daisuke Ejima, Direktur Utama, PT Bank Danamon Indonesia Tbk.  Kinerja positif Danamon juga ditopang oleh optimalisasi jaringan kantor dan pendekatan ekosistem turut berkontribusi dalam pencapaian finansial di semester ini.  Total Kredit termasuk Trade Finance meningkat sebesar 14% Year-on-Year (YoY) menjadi Rp183,9 triliun. Sejalan dengan pertumbuhan kredit, Dana Pihak Ketiga meningkat sebesar 15% YoY menjadi Rp 146,1 triliun disokong oleh pertumbuhan Granular Funding sebesar 10% pada semester pertama tahun 2024.  Pertumbuhan kredit juga diiringi dengan kualitas aset yang terus terjaga. Hal ini tercermin dari rasio cakupan Non-Performing Loan (NPL) yang meningkat menjadi 263,2% dari 259,9% pada tahun lalu dan rasio Gross NPL membaik 10bps YoY menjadi 2,2%.  Dari sisi rentabilitas, Danamon mencatatkan kenaikan Pendapatan Operasional menjadi Rp9,4 triliun, yang didukung oleh pertumbuhan pendapatan bunga bersih dan pendapatan komisi.  Danamon berhasil membukukan Pre-Provision Operating Profit (PPOP) Rp4,3 triliun ditopang oleh kenaikan Pendapatan Operasional dengan tetap memprioritaskan investasi berkelanjutan untuk pembangunan fondasi bisnis. Pencapaian tersebut berkontribusi terhadap Laba Bersih Setelah Pajak (NPAT) sebesar Rp1,5 triliun.  Komitmen Bertransformasi  Daisuke Ejima, dalam keterangannya menhutarakan, bersama MUFG sebagai perusahaan induk dengan jaringan global dan lokal serta grup perusahaan (Adira Finance, Home Credit Indonesia, Mandala Finance, dan Zurich Indonesia) juga mitra strategis lainnya, Danamon berkomitmen untuk terus bertransformasi sebagai satu grup finansial guna menjadi mitra keuangan terpercaya yang berorientasi kepada nasabah.  Danamon akan terus berinovasi untuk tumbuh bersama menjadi grup finansial terkemuka yang memenuhi kebutuhan nasabah, karyawan, pemegang saham dan regulator.  Sebagai refleksi dari komitmen untuk terus bertransformasi, Danamon dengan bangga mengumumkan pembaruan dari logo Danamon yang diluncurkan bertepatan dengan hari ulang tahun yang ke-68 pada tanggal 16 Juli 2024. Pembaruan logo akan dilakukan secara bertahap, oleh karena itu, akan ada dua logo yang digunakan secara bersamaan di publik yaitu logo sebelum dan sesudah pembaruan. //\n",
      "True Label: Neutral, Predicted Label: Neutral\n",
      "\n",
      "Text 75: GIIAS Surabaya 2024 diikuti oleh 34 merek otomotif global, termasuk 20 kendaraan penumpang seperti Audi, BYD, Chery, Citroen, Daihatsu, DFSK, Honda, Hyundai, KIA, Lexus, Mazda, MG, Mitsubishi Motors, Nissan, Seres, Suzuki, Toyota, VinFast, Volkswagen, dan Wuling.  Untuk kendaraan komersial, hadir DFSK dan Toyota Commercial.  Selain itu, ada juga 12 merek kendaraan roda dua seperti Alva, Aprilia, Benelli, Keeway, Kupprum, Moto Guzzi, Piaggio, Polytron, Royal Enfield, United E-motor, Vespa, dan Volta, serta lebih dari 15 merek industri pendukung yang turut meramaikan pameran.  Pameran ini juga mendapatkan dukungan penuh dari berbagai lini industri, dengan Astra Financial kembali hadir sebagai platinum sponsor bersama FIFGROUP, Astra Credit Companies, Toyota Astra Finance Services, Asuransi Astra, Astra Life, AstraPay, Maucash, Moxa, SEVA, dan BANK SAQU by Bank Jasa Jakarta.  Selain itu, dukungan juga datang dari Shell Helix, PLN, JKIND, Superchallenge, dan Kahf.  Keseruan dan pengalaman otomotif yang hanya bisa didapatkan selama lima hari penyelenggaraan GIIAS Surabaya 2024 tentu menjadi agenda yang tidak boleh dilewatkan oleh para pengunjung.  Tiket dapat dibeli secara online melalui aplikasi Auto360 dengan harga Rp 25.000 untuk weekdays (Rabu-Jumat) dan Rp 40.000 untuk weekends (Sabtu-Minggu).  Tiket on the spot tersedia di tiket box lantai 3 dan mezzanine floor lantai 1, Grand City Convex, dengan harga Rp 35.000 untuk weekdays dan Rp 50.000 untuk weekends.  Jangan lewatkan kesempatan untuk merasakan berbagai inovasi dan teknologi terkini dari industri otomotif di GIIAS Surabaya 2024!***\n",
      "True Label: Neutral, Predicted Label: Neutral\n",
      "\n",
      "Text 76: 12. Buah khatulistiwa = jambu  14. Air manis tidur = le minerale  15. Sapi melihat = telur mata sapi  16. Air mahal = air mineral club  18. Sayur tepat waktu = sayur sop  19. Sayur aturan kerja = sayur sop  20. Makanan khas Sunda = seblak  21. Buah matahari cinta = jeruk sunkist  22. Permen serigala = Foxs\n",
      "True Label: Neutral, Predicted Label: Neutral\n",
      "\n",
      "Text 77: Bandung -  Project Pop ikut memeriahkan konser West Java Festival tahun 2024 di Lapangan Saparua, Kota Bandung, Minggu (25/8/2024) malam. Penonton terlihat ikut digoyang dengan lantunan lagu khas dari Project Pop.  Penampilan Project Pop di WJF 2024 ini sayang tidak komplit karena salah satu personil Project Pop yakni Tika Panggabean tidak bisa hadir dalam konser WJF 2024. Project Pop hanya menghadirkan Udjo, Yosi Mokalu, Odie, serta Gugum.  Meski tanpa Tika, Project Pop tetap menghadirkan Tika lewat beberapa foto yang ditampilkan pada layar panggung. Di dalam foto tersebut Tika tengah berselfie bersama dengan artis seperti Jefri Nicol, Iqbal Ramadan, serta RAN.  Dengan dihadirkannya Tika melalui foto bersama artis, sontak membuat penonton pun berteriak histeris. Dalam penampilan Project Pop di WJF 2024, mereka menyanyikan beberapa lagu andalan seperti My Country, P.O.P, Goyang Duyung, Batal Kawin, hingga Metal vs Dugem.  Tak hanya itu, Project Pop juga sempat menyanyikan satu lagu dari musisi Glenn Fredly yang di mana dilakukan untuk mengenang musisi terkenal tanah air tersebut.  Konser WJF 2024 sendiri telah menampilkan beberapa band terkenal seperti Kuburan Band sebagai pembuka konser, dilanjutkan dengan Nidji, serta Yovie & Nuno.  Sementara sebelumnya, malam pertama konser WJF 2024, Jumat (23/8/2024), menampilkan sederet musisi Tanah Air. Mulai dari grup musik nyentrik asal Majalengka, Mother Bank, Rahardja, Rocket Rockers, Club Dangdut Racun dan RAN.  Di tahun ini, konser WJF akan menghadirkan sejumlah musisi top tanah air. Kuburan Band, Nidji, Tiara Andini, Yovie and Nuno, Project Pop hingga Wali bakal menghibur pengunjung yang hadir.  West Java Festival 2024 didukung oleh Bank BJB sebagai Official Bank Partner, Le Minerale sebagai Official Mineral Water dan PT Migas Utama Jabar.  Acara ini didukung oleh seluruh perangkat daerah di lingkungan Pemdaprov Jabar. Kegiatan ini juga dirangkaikan dengan program Gerakan Nasional Bangga Buatan Indonesia (BBI) dan Bangga Berwisata di Indonesia (BBWI) BBI-BBWI, khususnya di Jawa Barat.  Acara ini bertujuan untuk meningkatkan promosi pariwisata dan ekonomi daerah, serta memperkuat ikatan keluarga dan masyarakat.\n",
      "True Label: Neutral, Predicted Label: Neutral\n",
      "\n",
      "Text 78: REPUBLIKA.CO.ID,JAKARTA -- Daftar produk-produk yang pro Israel selalu mendapat respons pemboikotan dari masyarakat Indonesia. Namun, terkadang ada hoaks yang menyebar. Seperti yang dialami Le Mineral, yang baru-baru ini diterpa hoaks yang menuding bahwa produk asli Indonesia ini terafiliasi dengan Israel.  Menanggapi hal itu, Marketing Director Le Minerale, Febri Satria Hutama menegaskan bahwa Le Minerale tidak terafiliasi dengan negara zionis tersebut. Menurut dia, PT Tirta Fresindo Jaya selaku produsen air kemasan Le Minerale justru dimiliki 100 persen orang Indonesia.  \"Jadi Le Minerale ini bisa kita pastikan 100 persen pemiliknya ini kita adalah orang Indonesia.  Karyawan kita sendiri juga 100 persen warga negara Indonesia. Jadi tentunya kami ingin memberikan manfaat yang sebesar-besarnya untuk masyarakat Indonesia juga,\" ujar Febri saat diwawancara dalam acara \"Le Mineral Berbagi Berkah Ibadah Karyawan Pagi Sore di Restoran Pagi Sore, Jeruk Purut, Jakarta, Jumat (26/7/2024).  Karena itu, dia pun tidak khawatir dengan isu pemboikotan yang dihembuskan pihak-pihak yang tidak bertanggung jawab. Menurut dia, masyarakat Indonesia sudah bisa menilai sendiri produknya, yang mana menjadi kebanggaan Indonesia.  \"Jadi ya kami tidak terlalu khawatir gitu (dengan pemboikotan), karena publik bisa menilai sendiri, bisa melihat sendiri bahwa itu cukup jelas,\" ucap Febri kepada Republika.co.id.  Dia menambahkan, pihaknya juga sudah memberikan pernyataan bahwa Le Minerale sangat menentang bahkan mengutuk agresi yang dilakukan oleh Israel kepada masyarakat Palestina. Bahkan, menurut dia, Le Minerale selalu mendukung kemerdekaan masyarakat Palestina untuk menjadi negara yang berdaulat.  \"Kami juga sudah membuktikan dengan berbagai macam kegiatan yang kita lakukan. Kami berikan sumbangan donasi dan sebagainya. Tetapi yang paling penting pernyataan sikap kita sudah cukup jelas, kami tidak punya afiliasi dan bahkan kami mengutuk apa yang dilakukan oleh Israel teehadap masyarakat Palestina,\" kata Febri.\n",
      "True Label: Negative, Predicted Label: Negative\n",
      "\n",
      "Text 79: Mantan Kepala Sekretaris Kerala SM Vijayanand telah menekankan kebutuhan penting akan sistem peringatan bencana regional yang secara aktif melibatkan partisipasi masyarakat untuk secara efektif mengurangi dampak bencana alam yang berulang di Western Ghats.  Saat meresmikan seminar berjudul 'Wayanad setelah Mundakkai: pelajaran dan strategi', yang diselenggarakan bersama oleh Pusat Ekologi dan Biologi Satwa Liar Hume, Wayanad Prakrithi Samrakshana Samithi, dan Yayasan Penelitian MS Swaminathan di Puthoorvayal, Tn. Vijayanand menganjurkan kerangka kerja perencanaan penggunaan lahan agro-ekologi yang kuat di wilayah tersebut. Ia menggarisbawahi pentingnya menilai daya dukung untuk pertambangan dan pariwisata sambil menumbuhkan kesadaran lingkungan di antara penduduk.  Dalam seminar tersebut, Abhilash, ilmuwan iklim di Universitas Sains dan Teknologi Cochin (Cusat), mengaitkan peningkatan tanah longsor dan longsor di Western Ghats dengan perubahan distribusi curah hujan dan pola intensitas. Dr. Abhilash mengatakan risiko tersebut dapat dikurangi secara efektif melalui penerapan strategi penggunaan lahan ilmiah di lereng dan pemantauan pola cuaca lokal.  Jayaraman, peneliti senior di MS Swaminathan Research Foundation, menyoroti sifat multifaktorial dari prediksi tanah longsor. Ia menyerukan pendekatan analitis untuk menilai ketahanan curah hujan di berbagai medan dalam kondisi konstan, yang memfasilitasi penilaian risiko dini untuk potensi tanah longsor. Dr. Jayaraman juga menunjukkan perlunya pemilihan lokasi rehabilitasi yang cermat bagi para penyintas Mundakkai, dengan mempertimbangkan faktor manusia dan ekologi untuk memastikan solusi pemukiman kembali yang aman, efektif, dan berkelanjutan.  TV Sajeev, Kepala Ilmuwan di Institut Penelitian Hutan Kerala, mengatakan banyak hutan di daerah yang dilanda bencana bukanlah hutan primer, melainkan hutan sekunder yang merupakan hasil penggundulan hutan di masa lampau. Dr. Sajeev mengatakan degradasi ekosistem tersebut dapat menjadi faktor signifikan yang berkontribusi terhadap bencana terkini. Ia menekankan pentingnya menggabungkan pengetahuan iklim asli dengan wawasan ilmiah untuk merancang strategi adaptasi yang lebih baik di tengah bencana alam yang sedang berlangsung yang memengaruhi Negara Bagian tersebut.\n",
      "True Label: Neutral, Predicted Label: Neutral\n",
      "\n",
      "Text 80: KOMPAS.com - Beredar narasi air mineral dalam kemasan merek Le Minerale dan Aqua tidak aman dikonsumsi karena mengandung zat besi dalam kadar tinggi.  Narasi itu disertai video seorang pria membuktikan kandungan zat besi dalam air mineral dengan cara mencelupkan ujung kabel ke air untuk menyalakan lampu.  Terdapat tiga gelas air yang diuji. Air di gelas pertama gagal menyalakan lampu, sedangkan air dari gelas Le Minerale dan Aqua berhasil membuat lampu menyala.  Menurut pria tersebut, air dari gelas Le Minerale dan Aqua dapat menyalakan lampu karena mengandung zat besi tinggi.  Berdasarkan penelusuran Tim Cek Fakta Kompas.com, narasi tersebut hoaks.  Narasi yang beredar  Narasi soal air mineral merek Le Minerale dan Aqua tidak aman dikonsumsi karena mengandung zat besi tinggi dibagikan oleh akun Facebook ini, ini, dan ini, pada Kamis (18/7/2024).  Berikut narasi yang dibagikan:  Kenapa Produk yg berAfiliasi dgn IsraHell berbahaya.. contoh m Air Mineral seperti Aqua dan Le Mineral..? Simak sampai habis..  Hoaks, air mineral tidak layak dikonsumsi karena mengandung zat besi dalam kadar tinggi  Penelusuran Kompas.com  Setelah ditelusuri, narasi air mineral tidak aman dikonsumsi karena mengandung zat besi dalam kadar tinggi sudah lama beredar.  Narasi itu telah dibantah oleh Badan Pengawas Obat dan Makanan (BPOM), pada 2 Juli 2020, melalui keterangan di situs resmi.  BPOM menjelaskan, air mineral bisa menghantarkan listrik karena mengandung mineral yang merupakan sumber elektrolit dan mempunyai sifat penghantar listrik.  Adapun persyaratan keamanan dan mutu produk air mineral, termasuk batas kandungan zat besi, telah ditetapkan mengikuti Standar Nasional Indonesia (SNI) dan diberlakukan secara wajib berdasarkan Peraturan Menteri Perindustrian No. 78/M-IND/Per/11/2016.  BPOM akan menilai keamanan, mutu, dan gizi produk pangan sebelum diedarkan. Produk yang memiliki kandungan cemaran melebihi batas, tidak akan mendapat izin edar.  \"Kepada masyarakat diimbau agar menjadi konsumen cerdas yang tidak mudah terpengaruh oleh isu yang beredar di media sosial,\" kata BPOM.  Sementara itu, pihak Le Minerale melalui Corporate Secretary Mayora, Indah Yuni Gunawan mengatakan, narasi tersebut tidak benar.\n",
      "True Label: Negative, Predicted Label: Negative\n",
      "\n",
      "Text 81: JOGJA - Salah satu perusahaan air minum kemasan asal Indonesia berupaya meminimalisir dampak lingkungan dari penggunaan botol plastik. Bentuknya dengan mendaur ulang botol bekas pakai menjadi berbagai produk.  Sustainability Manager Le Minerale Irene Atmadja mengatakan, sejak tahun 2021 lalu pihaknya telah menjalankan Gerakan Ekonomi Sirkular Nasional (GESN). Hal tersebut sejalan dengan Peraturan Menteri P75/2019 tentang Peta Jalan Pengurangan Sampah melalui Gerakan Ekonomi Sirkular Nasional.  Menurut Irene, selama kurang lebih tiga terakhir Le Minerale telah berhasil menarik kembali 35.000 ton sampah botol dan galon plastik PET. Barang bekas pakai tersebut diolah kembali menjadi bahan baku botol plastik dan galon serta berbagai produk lainnya.  Lebih dari itu, kata dia, Le Minerale juga menggandeng sejumlah brand-brand lokal untuk ikut mendaur ulang plastik botol bekas tersebut. Contohnya seperti Aerostreet dan Cosmonauts untuk membuat baju, jaket, hingga sepatu.  “Kami pun akan segera meluncurkan produk fesyen hasil kolaborasi terbaru dengan brand lokal seperti Pijakbumi dan Kivee,\" ujat Irene dalam keterangan tertulis yang diterima Radar Jogja, Sabtu (10/8).  Dia menyatakan, bahwa sejumlah inovasi daur ulang dari botol plastik itu juga dipamerkan dalam Festival Lingkungan dan Kelestarian Alam (LIKE) 2024, Jakarta. Harapannya, inovasi tersebut juga menginspirasi masyarakat dan industri lain.\n",
      "True Label: Negative, Predicted Label: Negative\n",
      "\n",
      "Text 82: SURABAYA | ARTIK.ID - Seri pameran otomotif GIIAS Surabaya 2024 memasuki hari keempat penyelenggaraannya, yang berlangsung dari 31 Agustus hingga 1 September 2024. Setelah resmi dibuka pada 28 Agustus 2024, pameran ini menawarkan kesempatan bagi para pecinta otomotif di Jawa Timur, khususnya Surabaya, untuk menjelajahi berbagai kendaraan bermotor dari total 34 merek yang dipamerkan di pekan terakhir ini.  Dengan luas pameran terbesar sepanjang sejarah GIIAS Surabaya, pengunjung dapat menikmati pengalaman berkeliling yang lebih nyaman. Di area Convention Hall, merek-merek seperti Daihatsu, Honda, Hyundai, Lexus, Toyota, Toyota Commercial, dan VinFast memamerkan inovasi-inovasi terbaru mereka.  Sementara itu, di area Exhibition Hall, pengunjung dapat menemukan booth dari merek-merek seperti Audi, BYD, Chery, Citroen, DFSK, KIA, Mazda, MG, Mitsubishi Motors, Nissan, Seres, Suzuki, VW, dan Wuling. Selain itu, ada 12 merek kendaraan roda dua yang juga ikut serta, termasuk Alva, Aprilia, Benelli, Keeway, Kupprum, Moto Guzzi, Piaggio, Polytron, Royal Enfield, United E-motor, Vespa, dan Volta.  Untuk menambah keseruan akhir pekan, GIIAS Surabaya 2024 juga menghadirkan Audio Kontes yang bekerja sama dengan EMMA (European Mobile Media Association). Kontes ini menampilkan mobil-mobil dengan modifikasi audio terbaik, memberikan kesempatan bagi pengunjung untuk menyaksikan langsung keunggulan sistem audio mobil mutakhir.  Project Director GIIAS Surabaya 2024, Sri Vista Limbong, Sabtu (32/8) menyatakan, bahwa GIIAS Surabaya 2024 hadir bukan hanya sebagai ajang pameran otomotif, tetapi juga sebagai platform untuk memperkenalkan berbagai inovasi dan teknologi terbaru di industri otomotif kepada para pecinta otomotif.  \"Kami berharap acara ini dapat memberikan pengalaman berharga dan inspiratif bagi setiap pengunjung. Oleh karena itu, kami mengundang seluruh masyarakat Jawa Timur, khususnya Surabaya, untuk menjadikan GIIAS Surabaya 2024 sebagai destinasi akhir pekan mereka bersama keluarga, teman, dan komunitas,” ujar Vista.  GIIAS Surabaya 2024 mendapat dukungan penuh dari berbagai sponsor dan mitra industri. Astra Financial sebagai platinum sponsor didukung oleh FIFGROUP, Astra Credit Companies, Toyota Astra Finance Services, Asuransi Astra, Astra Life, AstraPay, Maucash, Moxa, SEVA, BANK SAQU by Bank Jasa Jakarta, serta dukungan dari Shell Helix, PLN, JKIND, Superchallenge, dan Kahf.  Pengunjung tidak boleh melewatkan kesempatan untuk merasakan berbagai keseruan dan inovasi yang hanya bisa ditemukan di GIIAS Surabaya 2024. Untuk merencanakan kunjungan di akhir pekan terakhir pameran ini bersama keluarga, sahabat, atau rekan kerja.  Pengunjung dapat membeli tiket secara online melalui aplikasi Auto360 dengan harga tiket weekday (Rabu-Jumat) Rp 25.000,- dan Rp 40.000,- untuk weekend (Sabtu-Minggu). Tiket on the spot dapat dibeli di ticket box lantai 3 dan mezzanine floor lantai 1 Grand City Convex dengan harga weekday (Rabu-Jumat) Rp 35.000,- dan Rp 50.000,- pada weekend (Sabtu-Minggu).\n",
      "True Label: Neutral, Predicted Label: Neutral\n",
      "\n",
      "Text 83: JawaPos.com - Lebih dari 12.700 peserta lari lomba ‘Elite’ Label Road Race pertama dan satu-satunya di Indonesia, Maybank Marathon, merampungkan pelaksanaan lomba larinya dengan aman dan lancar. Para peserta lari yang berasal dari 57 negara berdiri dengan antusias di depan start line di Bali United Training Center, Gianyar untuk flag off setiap kategori.  Flag-off pertama dilakukan untuk kategori Marathon dengan melepas sebanyak 3.500 peserta pada pukul 04.30 WITA, kemudian kategori Half Marathon dengan melepas 6.200 peserta pada pukul 05.30 WITA dan sebanyak 3.000 peserta kategori 10K yang dilepas pada pukul 06.00 WITA. Selain itu, flag-off juga dilakukan untuk melepas 100 peserta kategori Wheelchair pada pukul 06.10 WITA dan Children Sprint.  Jelang siang, panitia mengumumkan para pemenang lomba di podium yang sekaligus menjadi penanda selesainya rangkaian Maybank Marathon 2024 yang kerap dijuluki sebagai ‘lebaran’ para pelari. Terdapat 83 pemenang yang berhasil membawa pulang hadiah uang tunai total lebih dari Rp 2,4 miliar.  Pada konferensi pers yang digelar di media center race village Bali United Training Center mengumumkan juara Maybank Marathon 2024 kepada awak media. Untuk kategori Marathon Open Male dimenangkan oleh Paul Tiongik pelari asal Kenya nomor punggung 03 dengan catatan waktu terbaik 02:18:25, sedangkan untuk kategori Marathon Open Female dimenangkan oleh Aurelia Kiptui asal Kenya nomor punggung 22 dengan catatan waktu terbaik 02:36:59. Dengan demikian, kedua juara pertama tersebut menerima hadiah uang tunai masing-masing senilai Rp 250.000.000.  Kemudian, untuk kategori Marathon National Male dimenangkan oleh La Ode Safrudin nomor punggung 21914 dengan catatan waktu terbaik 02:31:16, sedangkan untuk kategori Marathon National Female dimenangkan oleh Isania Tarigan nomor punggung 20124 dengan catatan waktu terbaik 03:14:40. Seluruh juara pertama tersebut menerima hadiah uang tunai masing-masing senilai Rp 100.000.000.  Presiden Direktur Maybank Indonesia Steffano Ridwan mengucapkan selamat kepada para pemenang yang telah berhasil meraih prestasi dan membawa pulang hadiah dari penyelenggaraan Elite Label Road Race Maybank Marathon tahun ini.  Dari segi penyelenggaraan lomba, Steffano juga menyampaikan kekaguman terhadap antusiasme ribuan peserta yang sudah bersiap-siap sejak pagi dini hari untuk berlari di sepanjang rute lomba.  Steffano menyebut bahwa tolok ukur kesuksesan penyelenggaraan Maybank Marathon bukan semata dari prestasi partisipasi jumlah peserta lari, tetapi faktor keamanan dan kenyamanan peserta saat berlari di rute merupakan hal terpenting dalam pelaksanaan event ini.  Steffano mengutarakan pentingnya untuk terus meningkatkan kualitas penyelenggaraan Maybank Marathon. Hal ini terwujud nyata dengan pemilihan lokasi baru di Bali United Training Center, dan predikat Elite Label dari World Athletics yang disandangnya.  “Mewakili Maybank Indonesia dan seluruh panitia Maybank Marathon 2024, kami mengucapkan terima kasih kepada para peserta yang telah mengikuti lomba dengan tertib, dan kepada para petugas di lapangan mulai dari tim pengamanan, medis, pacers, marshalls, dan pecalang yang terus berjaga dengan sigap di sepanjang rute. Selain itu, tidak lupa kami juga ucapkan terima kasih kepada warga Gianyar yang telah menyemangati para peserta di sepanjang rute sehingga turut menambah semarak penyelenggaraan Maybank Marathon 2024,” tukas Steffano.  Penyelenggaraan Maybank Marathon 2024 mendapatkan dukungan dari berbagai elemen termasuk, Pemerintah dan Kepolisian Daerah Provinsi Bali, Palang Merah Indonesia Provinsi Bali, Pemerintah Kabupaten Gianyar, Kodim 1616 Gianyar, Persatuan Atletik Seluruh Indonesia (PASI), sponsor, dan media partner.  Project Director Maybank Marathon Widya Permana menutup acara konferensi pers pengumuman pemenang Maybank Marathon 2024 dengan menyampaikan bahwa panitia akan melanjutkan persiapan untuk Maybank Marathon 2025.  “Peserta yang belum mendapatkan kesempatan berpartisipasi pada Maybank Marathon 2024, masih memiliki kesempatan untuk mengikuti Elite Label Road Race Maybank Marathon 2025. Terus berlatih dan siapkan diri untuk berjumpa tahun depan,” kata Widya.  Maybank Marathon 2024 didukung sponsor yakni, 2XU, Aqua, Etiqa, New Balance, Pocari Sweat, BMW, EJ Sport, Etawalin, Herbalife, MS Glow for Men, Pelita Air, Fitbar, Garmin, Kahf, On Point, Salonpas, Rexona, Shokz, YAMAtune, ZINC, 180spm, Bali Beach Hotel, The Meru, Bali Island School, Bintang Crystal, Biznet, Cardea, Date Crown, Dekoruma, Eva Air, Bali Physio & Sports Injury Center, Nisuma, Optik Tunggal, Prama, Prima, Quick Fresh, Bali Royal Hospital, St Ives, Sunpride, Vaseline, Wadimor, The Westin, dan Wyndham.\n",
      "True Label: Neutral, Predicted Label: Neutral\n",
      "\n",
      "Text 84: Bisnis.com, JAKARTA -- PT Adira Dinamika Multi Finance Tbk. (ADMF) atau Adira Finance memastikan PT Mandala Multifinance Tbk. (MFIN) tetap tercatat di Bursa Efek Indonesia (BEI).  Direktur Adira Finance Sylvanus Gani Mendrofa menyebut, pemegang saham pengendali yakni MUFG Bank Ltd., tengah dalam proses untuk memborong sisa saham publik MFIN dengan harga Rp3.297 per lembar.  \"Sampai saat ini, menurut MUFG, kami ingin masih dalam rencana dan siatuasi yang tetap sama dengan saat ini, sebagai listed-company,\" kata Gani kepada Bisnis, Senin (22/07/2024).  MUFG telah mengumumkan melaksanakan tender offer sisa saham MFIN. Perusahaan keuangan raksasa asal Jepang itu menyiapkan Rp1,69 triliun.  Tender sukarela itu dijalankan setelah MUFG dan Adira Finance rampung mengakuisisi Mandala Finance pada 13 Maret 2024 . Kepemilikan MUFG dan cucu usahanya itu melalui Bank Danamon secara berurutan sebesar 70,16% dan 10%.  MUFG menawarkan tender sukarela rampung dalam 30 hari. Periode penawarannya dilakukan pada 23 Juli-21 Agustus 2024 dan tanggal terakhir pembayaran pada 28 Agustus 2024.  Sedangkan dalam prospektusnya, MUFG belum memutuskan apakah setelah tender offer akan menjadikan Mandala Finance perusahaan tertutup atau tetap menjadi perusahaan terbuka.  Namun demikian, jika aksi korporasi lanjutan dilakukan, perusahaan memastikan akan mematuhi peraturan dan perundang-undangan yang berlaku.  Adapun untuk kinerjanya, MFIN telah menyalurkan pembiayaan sebesar Rp3,2 triliun pada semester I/2024, melesat 17% secara yahunan (year-on-year/yoy) dibanding periode yang sama tahun sebelumnya.  Kontributor terbesar dalam pembiayaan tersebut didominasi oleh pembiayaan motor baru dan bekas. Selain itu juga pembiayaan multiguna untuk berbagai kebutuhan salah satunya sebagai modal kerja sektor produktif UMKM khususnya segmen usaha berskala mikro dan kecil.\n",
      "True Label: Neutral, Predicted Label: Neutral\n",
      "\n",
      "Text 85: KONTAN.CO.ID - JAKARTA. Presiden Joko Widodo (Jokowi) resmi membentuk Badan Gizi Nasional melalui Peraturan Presiden (Perpres) nomor 83 tahun 2024. Beleid itu diundangkan pada 15 Agustus 2024.  \"Badan Gizi Nasional merupakan lembaga pemerintah yang berada di bawah dan bertanggung jawab kepada Presiden,\" tulis Pasal 2 ayat (2) dikutip Minggu (18/8).  Dalam pertimbangannya disebutkan bahwa dalam rangka pembangunan sumber daya manusia berkualitas, perlu dilakukan optimalisasi terhadap penyelenggaraan pemenuhan gizi nasional yang merupakan perwujudan hak asasi manusia sebagaimana yang dijamin dalam UUD 1945.Pemerintah perlu melakukan upaya untuk mengatur tata kelola tercukupinya konsumsi yang aman dan bergizi bagi masyarakat.  \"Badan Gizi Nasional dipimpin oleh Kepala,\" tulis Pasal 2 ayat (3).  Adapun sasaran pemenuhan gizi yang menjadi tugas dan fungsi Badan Gizi Nasional diberikan kepada peserta didik pada jenjang pendidikan anak usia dini, pendidikan dasar, dan pendidikan menengah di lingkungan pendidikan umum, pendidikan kejuruan, pendidikan keagamaan, pendidikan khusus, pendidikan layanan khusus, dan pendidikan pesantren. Selain itu juga diberikan kepada anak usia di bawah lima tahun, ibu hamil, dan ibu menyusui.  Presiden Jokowi mengatakan, strategi kebijakan jangka pendek pelaksanaan APBN tahun 2025 akan difokuskan untuk mengakselerasi pertumbuhan ekonomi, menguatkan kesejahteraan, dan pemerataan antar daerah.  \"Program makan bergizi gratis dilakukan secara bertahap, diselaraskan dengan kesiapan teknis dan kelembagaan, serta tata kelola yang akuntabel,\" jelas Jokowi saat menyampaikan pengantar RAPBN dan Nota Keuangan tahun 2025, Jumat (16/8).  Menteri Keuangan Sri Mulyani mengatakan, RAPBN tahun 2025 telah mengakomodasi program presiden dan wakil presiden terpilih. Termasuk program makan bergizi gratis yang anggarannya sebesar Rp 71 triliun.  Tujuan program ini untuk menciptakan anak yang cerdas, memberi multiplier ekonomi lokal yang membuat UMKM makin berdaya dan ekonomi daerah bisa bergerak.  \"Nanti akan dijelaskan dari tim makanan bergizi gratis yang saat ini terus disempurnakan,\" ujar Sri Mulyani dalam konferensi pers RAPBN dan Nota Keuangan Tahun Anggaran 2025 di Kantor Direktorat Jenderal Pajak Kementerian Keuangan Jakarta, Jumat (16/8).  Ketua Tim Gugus Tugas Sinkronisasi Pemerintahan Prabowo-Gibran, Sufmi Dasco Ahmad mengatakan, pihaknya telah melakukan sinkronisasi pada saat penyusunan APBN tahun 2025. Pelaksanaan berbagai program telah memperhitungkan fiskal dan defisit anggaran tahun 2025 yang direncanakan sebesar 2,53%.  \"Makan bergizi gratis itu masuk ke dalam program pemerintah yang akan dilaksanakan tahun 2025,\" ujar Dasco ditemui usai sidang bersama MPR, DPR, dan DPD di Kompleks Parlemen, Jumat (16/8).\n",
      "True Label: Negative, Predicted Label: Neutral\n",
      "\n",
      "Text 86: TRIBUNJAMBI.COM, JAMBI - Hasil pemeriksaan, polisi Polda Jambi Briptu OB membeli mobil bekas atau seken dari marketplace di sosial media, mobil ini diduga milik bos rental Burhais yang tewas dibakar massa di Sukolilo, Pati, Jawa Tengah beberapa waktu lalu.  Informasi tersebut diketahui dari hasil pemeriksaan yang dilakukan Paminal Propam dan Ditreskrimum Polda Jambi terkait kasus tersebut.  Dirreskrimum Polda Jambi, Kombes Pol Andri Ananta bilang anggota Polri tersebut sudah dimintai keterangan.  Dari pengakuan anggota itu diketahui bahwa dia membeli mobil tersebut dari marketplace sosial media.  \"Paminal sudah mengambil keterangan, kita direktorat juga sudah mengambil keterangan. Belum ada laporan polisi yang dibuat debitur apa mobil itu kehilangan sehingga ada pemblokiran kendaraan tersebut itu tidak ada,\" kata Andri, Minggu (7/7/2024).  Dia menjelaskan, Honda Mobilio yang sebelumnya berada di Briptu OB telah diamankan Ditreskrimum Polda Jambi. Ditreskrimum Polda Jambi pun telah melakukan verifikasi ke pihak leasing.  \"Kami sudah melakukan verifikasi berdasarkan nomor polisi nomor rangka kami kroscek bukan hanya di sini tapi juga di Polda Metro, tidak ada pemblokiran artinya tidak ada laporan polisi,\" jelasnya.  Dari hasil itu Ditreskrimum Polda Jambi melakukan koordinasi pihak Adira selaku leasing, sebab mobil tersebut terdaftar atas nama Sinar Jaya Utama.  \"Sehingga yang bersangkutan (Burhanis) melakukan perikatan dengan leasing Adira Finance. Sampai saat ini pun leasing Adira Finance belum membuat laporan. Jadi kami masih mengamankan kendaraan tersebut,\" ujar Andri.  Untuk diketahui bahwa kasus kematian Burhanis, bos rental mobil asal Jakarta Pusat itu ternyata terkait dengan Jambi.  Burhanis pernah melakukan penarikan mobil ke beberapa daerah, termasuk Jambi. Ada mobil rental milik Burhanis berada di Jambi.  Plh Kasubbid Penmas Humas Polda Jambi Kompol Amin Nasution mengatakan membenarkan adanya kabar tersebut. Namun, menurut pengakuan personel yang bersangkutan mobil Honda Mobilio itu sudah dikembalikan.  Amin juga membenarkan oknum polisi itu berdinas di Jatanras Ditreskrimum Polda Jambi. \"Iya pangkat Briptu, Kami sudah tanyakan kepada anggota yang bersangkutan, pengakuan dia sudah dikembalikan,\" kata Amin, Kamis (20/6).\n",
      "True Label: Neutral, Predicted Label: Neutral\n",
      "\n",
      "Text 87: JAKARTA, KOMPAS.com - Hyundai banyak memberikan ubahan yang cukup signifikan pada Kona Electric. Tidak hanya pada eksterior dan interiornya saja, tapi juga fitur-fitur yang disematkan.  Pada generasi terbaru Kona Electric, Hyundai banyak menyematkan fitur canggih yang dapat menunjang kenyamanan, keselamatan, hingga keamanan penggunanya. Apalagi, pada varian tertinggi, Signature Long Range, fiturnya tidak jauh berbeda dengan Ioniq 5 dan Ioniq 6.  Fitur Hyundai Kona Electric  Untuk menunjang kenyamanan, Kona Electric memiliki fitur Dual Zone Climate. Fitur ini tidak hanya menambah kenyamanan, tapi juga bisa menghemat konsumsi daya. Jika sedang berkendara sendiri, cukup aktifkan \"Driver Only\".  Fitur Hyundai Kona Electric  Kemudian, joknya juga sudah dilengkapi dengan mode \"Heated/Ventilated Seats\". Fitur ini tidak hanya disematkan pada jok pengendara, tapi juga penumpang di baris depan.  Hyundai juga menyediakan cukup banyak power outlet untuk mengecas ponsel, ditambah juga dengan wireless charging pada konsol tengah. Fitur unggulan lainnya adalah \"Vehicle-to Load\" atau V2L. Sehingga, penggunanya bisa mengecas laptop atau menggunakan perangkat elektronik rumahan lainnya.  Kompas.com/Donny Fitur Hyundai Kona Electric  Hyundai juga menyematkan teknologi Bluelink. Dengan adanya Hyundai Bluelink, pengguna mobil ini bisa memantau kondisi atau bahkan mengoperasikan beberapa fiturnya hanya melalui smartphone. Selain itu, terdapat juga bantuan darurat dengan menghubungi Call Center Hyundai melalui tombol yang ada di plafon.  Fitur Hyundai Kona Electric  Tentunya, All New Kona Electric juga sudah dibekali dengan teknologi sistem bantuan pengemudi atau Advanced Driver Assistance Systems (ADAS). Teknologi ini meliputi banyak fitur canggih, seperti Forward Collision-Avoidance Assist (FCA), Lane Keeping Assist (LKA), Smart Cruise Control with Stop and Go, Blind-Spot Collision-Avoidance Assist (BCA), dan masih banyak lainnya.  Namun, sedikit catatan bagi pengendara yang tidak terbiasa dengan ADAS, khususnya fitur FCA. Jika fitur ini diaktifkan, mobil bisa mengambil tindakan sendiri berupa pengereman darurat jika terdeteksi akan menabrak objek di depannya.  Hyundai Kona Electric Signature Long Range  Pada satu sisi, fitur ini membantu agar mobil terhindar dari tabrakan depan. Tapi, di sisi lain, saat pengereman mendadak, belum tentu kendaraan di belakang kita menjaga jarak dengan baik atau bahkan sigap juga untuk melakukan pengereman. Sehingga, ada risiko ditabrak dari belakang ketika mobil melakukan pengereman darurat secara otomatis.  Secara keseluruhan, fitur-fitur yang ada pada All New Kona Electric cukup lengkap dan terbilang canggih. Mobil listrik produksi Indonesia ini dibanderol mulai Rp 499 juta (OTR Jakarta) hingga Rp 590 juta (OTR Jakarta).\n",
      "True Label: Negative, Predicted Label: Negative\n",
      "\n",
      "Text 88: Hyundai Alcazar atau Grand Creta ini jika dihadirkan di Indonesia cocok hadir di kelas medium SUV.  Dengan dimensi yang ga beda jauh dari Honda CR-V maupun Mazda CX-5, Creta bongsor ini bisa jadi opsi baru Hyundai masuk di kelas tersebut.  Namun sejatinya justru malah Hyundai Tucson yang kemungkinan isi segmen ini.  Karena tercatat tertangkap kamera sedang tes jalan dengan balutan kamuflase.***\n",
      "True Label: Neutral, Predicted Label: Negative\n",
      "\n",
      "Text 89: NgertiHukum.id – Untuk melakukan transfer dari Mandiri ke DANA, kamu bisa memilih beberapa cara yang cukup mudah, baik melalui aplikasi Livin’ by Mandiri maupun melalui mesin ATM Mandiri.  Setiap cara memiliki langkah-langkah yang perlu diikuti agar proses transfer berjalan lancar dan saldo DANA kamu terisi dengan cepat.  Dengan mengetahui caranya, kamu tidak perlu khawatir lagi ketika ingin melakukan top-up saldo DANA menggunakan rekening Mandiri.  Nah, kita akan membahas secara detail cara melakukan transfer dari Mandiri ke DANA lewat Livin’ dan juga melalui ATM, sehingga kamu bisa memilih metode yang paling sesuai dengan kebutuhanmu.  Cara Transfer Mandiri Ke Dana  Lewat Livin  Jika kamu lebih suka menggunakan aplikasi mobile banking, Livin’ by Mandiri adalah solusi yang tepat. Berikut ini adalah langkah-langkah yang harus kamu ikuti untuk transfer saldo ke DANA melalui aplikasi ini:  Buka aplikasi Livin’ by Mandiri. Mulailah dengan membuka aplikasi Livin’ di smartphone kamu dan pilih menu Top Up yang ada di halaman utama. Klik opsi E-Wallet. Di dalam menu Top Up, kamu akan menemukan beberapa pilihan, klik pada opsi E-Wallet. Pilih DANA. Dari daftar e-wallet yang tersedia, pilih DANA sebagai tujuan transfer. Masukkan kode virtual account. Masukkan kode virtual account yang dimulai dengan angka 89508, diikuti dengan nomor telepon kamu yang terhubung dengan akun DANA. Input jumlah nominal. Masukkan jumlah nominal yang ingin kamu transfer ke DANA, lalu klik Lanjut. Masukkan PIN Livin’ by Mandiri:. Terakhir, masukkan PIN Livin’ by Mandiri untuk memproses transaksi. Saldo DANA kamu akan segera terisi setelah transaksi selesai.  Setelah proses transfer selesai melalui Livin’ by Mandiri, saldo DANA kamu akan langsung bertambah, dan kamu bisa mengeceknya melalui aplikasi DANA.  Lewat ATM  Jika kamu sedang berada di luar rumah dan tidak memiliki akses ke aplikasi mobile banking, kamu bisa melakukan transfer melalui mesin ATM Mandiri. Berikut ini adalah langkah-langkahnya:  Masukkan kartu dan input PIN ATM: Masukkan kartu ATM Mandiri ke mesin dan masukkan PIN kamu. Pilih menu Pembayaran atau Pembelian: Pada layar menu utama, pilih opsi Pembayaran atau Pembelian. Pilih Multipayment dan masukkan kode virtual account: Pilih menu Multipayment, lalu masukkan kode virtual account DANA yaitu 89508, diikuti dengan nomor telepon yang terdaftar di DANA. Input nominal saldo: Masukkan jumlah saldo yang ingin kamu transfer ke DANA, kemudian tekan Benar. Selesaikan transaksi: Setelah semua informasi sudah benar, lanjutkan dengan menekan tombol konfirmasi. Struk transaksi akan dicetak, dan saldo DANA kamu akan segera terisi.  Proses ini bisa kamu lakukan dengan mudah dan cepat di ATM Mandiri terdekat, dan saldo DANA akan langsung masuk setelah transaksi selesai.  Kode Mandiri Ke DANA  Untuk melakukan transfer dari Mandiri ke DANA, kamu perlu memasukkan kode virtual account DANA yang dimulai dengan angka 89508. Kode ini harus diikuti dengan nomor telepon yang terdaftar di akun DANA kamu. Pastikan kode dan nomor telepon dimasukkan dengan benar agar proses transfer berjalan lancar tanpa hambatan.  Dengan menggunakan kode virtual account ini, transfer dari Mandiri ke DANA bisa dilakukan kapan saja baik melalui Livin’ by Mandiri maupun ATM Mandiri.  Penutup, dengan memahami cara-cara di atas, kamu bisa memilih metode transfer yang paling nyaman dan sesuai dengan situasimu. Apakah menggunakan aplikasi Livin’ yang praktis atau ATM Mandiri yang tersedia di banyak lokasi, semuanya bisa dilakukan dengan mudah untuk mengisi saldo DANA kamu.\n",
      "True Label: Neutral, Predicted Label: Positive\n",
      "\n",
      "Text 90: Ketua Umum PP Pordasi, Triwatty Marciano saat menghadiri Technical Meeting Le Minerale Kejuaraan Nasional Pacu Kuda Seri I 2024 di Lapangan Pacu Kuda Sultan Agung Bantul, Daerah Istimewa Yogyakarta , Sabtu .  Dalam keterangan resmi, PP Pordasi, Sabtu, lapangan pacuan kuda yang dipersiapkan untuk gelaran Pekan Olahraga Nasional Aceh-Sumut 2024 dapat diselesaikan tepat waktu agar dapat menjadi lokasi 10 nomor pertandingan pada tanggal 10-11 September. Venue pacu kuda HM Hasan Gayo, Takengon memiliki panjang lintasan sejauh 1.400 meter dan diproyeksikan akan menjadi pengganti arena pacu kuda Pulomas, Jakarta, sebagai arena terbaik di Indonesia.  Sebelumnya, venue pacu kuda yang dibangun Kementerian PUPR tersebut dikabarkan sudah mencapai perkembangan pembangunan sebesar 72,97 persen pada pertengahan Juli lalu.  Berita ini telah kami rangkum agar Anda dapat membacanya dengan cepat. Jika Anda tertarik dengan beritanya, Anda dapat membaca teks lengkapnya di sini. Baca lebih lajut:  Indonesia Berita Terbaru, Indonesia Berita utama  Similar News: Anda juga dapat membaca berita serupa dengan ini yang kami kumpulkan dari sumber berita lain.  Hasan Nasbi Klaim Prabowo Sedang Beri Arahan Keamanan Negara, Bukan Penyesalan Pembangunan Prabowo justru memberikan arahan kepada TNI-Polri untuk berperan menjaga keamanan negara agar pembangunan tak sia-sia. Sumber: jawapos - 🏆 35. / 51 Baca lebih lajut »  Heru Budi: Jakarta Gelontorkan Rp 18,96 Triliun untuk SDGs Sejak tahun 2017 Jakarta telah menerapkan prinsip tujuan pembangunan berkelanjutan ke dalam rencana pembangunan daerah. Sumber: cnbcindonesia - 🏆 7. / 74 Baca lebih lajut »  Bappenas: Penggunaan data akurat jadi dasar pembuatan program efektif Deputi Bidang Kependudukan dan Ketenagakerjaan Kementerian Perencanaan Pembangunan Nasional/Badan Perencanaan Pembangunan Nasional (PPN/Bappenas) ... Sumber: antaranews - 🏆 6. / 78 Baca lebih lajut »  Bupati Kotim Komitmen Buka Jalan hingga Aliri Listrik ke Pelosok Desa JPNN.com : Pembangunan dan peningkatan infrastruktur menjadi salah satu prioritas pembangunan di bawah kepemimpinan Halikinnor. Sumber: jpnncom - 🏆 25. / 59 Baca lebih lajut »  Budaya Aceh Gayo Menginspirasi Barista Mikael Jasin Racik 3 Kreasi Kopi Baru, Selipkan Semangat Keberlanjutan Barista Mikael Jasin meracik kopi kreasi terbaru untuk Fore Coffee yang memadukan buah tropis dan aroma teh hitam dengan bahan-bahan yang digunakan adalah biji kopi Kamala Pantan Sinaku dari Gayo, susu, oat, dan susu kacang mete. Sumber: liputan6dotcom - 🏆 4. / 83 Baca lebih lajut »\n",
      "True Label: Neutral, Predicted Label: Neutral\n",
      "\n",
      "Text 91: ● Pinjaman dana tunai dengan benefit cair hingga Rp500 juta dan tenor panjang hingga 60 bulan.  ● Doorprize adirapoin s.d 3 juta untuk semua produk pembiayaan.  Bagi konsumen yang ingin mencoba kendaraan impian, dapat mengikuti test drive dengan mengunjungi booth Adira Finance di Corridor Trans Square yang terdapat di Lobby Barat Trans Studio Mall untuk kemudian lakukan registrasi di meja admin.  Lebih lanjut, Adira Finance menyediakan fasilitas approval di tempat untuk kemudahan proses pengajuan pembiayaan.  Konsumen yang pengajuan pembiayaannya disetujui oleh Adira Finance akan langsung mendapatkan tambahan benefit berupa kupon undian HARCILNAS (Harinya Cicilan Lunas).  Sebagai bagian dari perayaan HUT ke-34, Adira Finance memberikan kesempatan kepada 34 pemenang untuk dilunasi cicilan seluruhnya, sedangkan 340 pemenang akan dilunasi cicilan 1 bulan dan 100 pemenang akan mendapatkan hadiah tambahan berupa cashback adirapoin sebesar 5%.  Tidak hanya Adira Finance, pengunjung juga bisa mendapatkan solusi finansial komprehensif dari entitas grup lainnya seperti Danamon dan Home Credit dengan berbagai promo menarik, yaitu:  ● Danamon LEBIH PRO/Danamon LEBIH PRO iB dengan promo hemat 50% hingga Rp35.000.000 untuk liburan keliling dunia, ibadah ke tanah suci, pembelian gadget dan elektronik  ● Kartu Debit, Kredit dan Charge Danamon dengan promo hemat hingga Rp6.800.000 untuk pembelian produk travel, gadget, dan elektronik  ● Home Credit Indonesia dengan promo cicilan 0% untuk pembelian gadget dan elektronik ● KPR Danamon dengan promo spesial suku bunga mulai 4,68% tetap selama 5 tahun dan menghadirkan 6 developer rekanan Danamon, serta\n",
      "True Label: Negative, Predicted Label: Negative\n",
      "\n",
      "Text 92: KOMPAS.com - Provinsi Gorontalo di Pulau Sulawesi bagian utara, dikenal punya banyak wisata bahari.  Salah satunya adalah melihat hiu paus di Botubarani, Kecamatan Kabila Bone, Kabupaten Bone Bolango.  Waktu tempuhnya cukup singkat dari pusat Kota Gorontalo, yakni sekitar setengah jam. Wisatawan juga tidak perlu ke tengah laut lepas untuk bertemu hiu paus.  Itu karena hiu paus bisa ditemukan dengan jarak sekitar 25 meter dari bibir pantai. Wisatawan bahkan bisa berenang dari pantai menuju lokasi hiu paus.  Lihat postingan ini di Instagram  Sebuah kiriman dibagikan oleh Kompas Travel (@kompas.travel)  Kompas.com sempat menjajal sensasi wisata hiu paus Botubarani ini pada Sabtu (30/8/2024) saat agenda Press Tour Gorontalo yang diselenggarakan oleh Kementerian Pariwisata dan Ekonomi Kreatif (Kemenparekraf).  Waktu yang tepat melihat hiu paus di Botubarani  Jika ingin melihat hiu paus di Botubarani, Gorontalo, maka ada waktu-waktu tertentu yang disarankan.  Pemandu wisata bernama Iman mengatakan, pihaknya selalu memantau dan mencatat kemunculan hiu paus di perairan Botubarani selama bertahun-tahun sejak 2016.  “Berdasarkan pengamatan kami, hiu paus paling banyak terlihat antara bulan Mei sampai Juli.” kata dia saat melakukan briefing kepada peserta tur.  Pada periode Mei hingga Juli, sambung dia, biasanya ada lebih dari satu individu hiu paus yang muncul. Bahkan, pernah sampai ada empat hiu paus yang muncul bersamaan.  Hiu Paus Gorontalo menghilang.  Wisatawan yang ingin melihat hiu paus di Botubarani pun disarankan untuk datang pada periode waktu tersebut.  Adapun saat Kompas.com berkunjung pada 30 Agustus 2024, hanya ada satu individu hiu paus yang terlihat.  Pengelola memberi nama hiu paus yang muncul itu dengan sebutan Serli. Meski begitu, nama itu bukan berarti disematkan untuk satu individu hiu paus.  “Serli itu singkatan dari sering terlihat. Jadi hiu paus yang muncul di sini kami beri nama Serli,” ujar Iman.\n",
      "True Label: Neutral, Predicted Label: Neutral\n",
      "\n",
      "Text 93: BANDUNG, KejakimpolNews,com - Ahad 4 Agustus hari ini, Persib Bandung siap akan memperkenalkan seluruh anggota tim, jersey, dan para mitra yang akan menyertai perjalanan tim kebanggaan Bobotoh ini mengarungi kompetisi Liga 1 musim 2024/2025.  Rangkaian ritual menyambut musim baru tersebut dikemas dalam sebuah acara bertajuk \"Pesta Rakyat Persib\" yang digelar di GOR C-Tra Arena, Jalan Cikutra, Kota Bandung.  Commercial Director PT Persib Bandung Bermartabat, Sandy Tantra menjelaskan, acara ini merupakan bentuk komitmen Persib Bandung untuk selalu mendekatkan diri dengan pendukungnya, melibatkan Bobotoh sebagai bagian dari momentum penting awal perjalanan Pangeran Biru mempertahankan gelar juara di musim baru 2024/2025 ini.  \"Untuk menyambut musim baru 2024/2025, kami mengajak seluruh Bobotoh untuk memberikan dukungan semangat kepada Pangeran Biru yang akan memulai perjalanan di musim yang baru ini. Kemenangan di musim sebelumnya tidak lepas dari dukungan para Bobotoh di seluruh dunia,\" katanya.  \"Karenanya, di Pesta Rakyat Persib, kami mengundang Bobotoh dan keluarga untuk hadir berolahraga bersama, berinteraksi dengan sesama pendukung sambil menikmati hiburan dan kuliner lokal. Peluncuran tim dan jersey baru adalah simbol dari semangat baru dan dedikasi kami untuk meraih prestasi terbaik di musim mendatang. Kehadiran mitra sponsor juga sangat berarti bagi keberlanjutan dan perkembangan klub kami, sehingga kami harapkan Pesta Rakyat PERSIB menjadi ajang silaturahmi dan perayaan bersama tim kebanggaan, mitra, dan semua Bobotoh,\" kata Sandy.  Para mitra Persib Bandung akan diperkenalkan dan hadir menjadi bagian penting dalam penyelenggaraan musim baru. Pada musim ini, Persib akan didukung para mitra yaitu Indofood, Kopi ABC, Intersport by Pria Punya Selera, Planet Persib, Greenfields, Le Minerale, Teh Pucuk Harum, Panther Energy Drink, dan Socios.  Selain launching tim, jersey, dan para mitra, Persib juga akan memperkenalkan program terbaru, MemberSIB, program keanggotaan Bobotoh, serta fitur-fitur baru yang akan diluncurkan di acara tersebut.  Dukungan terbaik  Sementara itu, Interim Director of Sports PT Persib Bandung Bermartabat, Adhitia Putra Herawan menambahkan, peluncuran tim dan jersey diharapkan dapat meningkatkan semangat dan antusiasme para pemain serta penggemar untuk berjuang bersama-sama mencetak prestasi terbaik di kompetisi Liga 1 musim 2024/2025 dan AFC Champions League 2 (ACL 2).  Sebagai bentuk dukungan, Adhit mengajak Bobotoh untuk hadir dan merayakan Pesta Rakyat Persib menyambut kompetisi Liga 1 musim 2024/2025. \"Dukungan Bobotoh adalah kekuatan terbesar kami. Dengan semangat kebersamaan ini, kami yakin bisa membawa Persib mencapai prestasi yang lebih tinggi di musim depan. Mari kita sambut musim baru dengan semangat dan optimisme” jelas Adhit.  Lalu, Gelandang Persib, Dedi Kusnandar juga menyambut antusias momen-momen penting yang akan terjadi di Pesta Rakyat Persib.  \"Peluncuran tim dan jersey baru ini merupakan simbol semangat baru dan tekad kami untuk memberikan yang terbaik di kompetisi Liga 1 musim 2024/2025. Kami juga menyambut baik kehadiran mitra sponsor baru yang tentunya akan memberikan banyak dukungan bagi perjalanan kami di musim ini,\" kata pemain yang akrab disapa Dado ini.  Ia pun mengajak Bobotoh untuk datang, memberikan dukungan dan meramaikan acara pembuka musim 2024/2025 ini.  \"Kami mengajak semua Bobotoh untuk datang dan merayakan acara ini bersama-sama. Dukungan kalian adalah motivasi terbesar kami untuk terus berjuang dan meraih prestasi. Mari kita satukan semangat dan tekad untuk membawa Persib ke puncak kejayaan di musim ini,\" ajak Dado.  Segera dapatkan tiketnya melalui link goers.co/persibpestarakyat hanya dengan membayar HTM seharga Rp. 35.000,- yang sudah termasuk 1 bulan keanggotaan MemberSIB Putih.  Berikan dukungan terbaik, jadilah MemberSIB, sampai jumpa di Pesta Rakyat Persib, GOR C-Tra Arena Kota Bandung, Minggu, 4 Agustus 2024 mendatang, mulai pukul 09.00 WIB.**\n",
      "True Label: Neutral, Predicted Label: Neutral\n",
      "\n",
      "Text 94: JAKARTA – Kriyanusa yang merupakan pameran kerajinan dan seni kriya berskala nasional kembali hadir dengan mengusung tema “Perajin Muda, Lestarikan Warisan Budaya” pada 28 Agustus – 1 September 2024 di Hall A & Hall B, Jakarta Convention Center (JCC).  Diselenggarakan setiap tahun oleh Dewan Kerajinan Nasional (DEKRANAS), acara ini merupakan bentuk komitmen untuk melestarikan serta mengembangkan hasil produk kriya Indonesia. Acara ini juga dirancang untuk mendorong pertumbuhan ekomoni dan perluasan pasar kriya Indonesia.  Dalam sambutannya, Ketua Umum Dewan Kerajinan Nasional (DEKRANAS) Wury Ma’ruf Amin yang merupakan istri Wakil Presiden Ma’ruf Amin mengungkapkan bahwa pameran tersebut mencerminkan komitmen untuk meneruskan tradisi dan warisan leluhur kepada generasi muda.  \"Indonesia adalah negeri yang kaya akan budaya dan tradisi. Seni kerajinan berbagai daerah yang diwariskan tidak hanya mencerminkan keindahan dan keterampilan, tetapi juga nilai-nilai identitas bangsa,\" katanya.  Ia menambahkan, Kriyanusa adalah panggung bagi para perajin muda Indonesia untuk mempersembahkan karya-karya yang menghidupkan kembali kekayaan budaya Nusantara.  Seperti diketahui, Karya Kerajinan Tangan (Kriya) menjadi salah satu aset berharga untuk memenuhi permintaan pasar global akan kerajinan tangan yang khas Indonesia. Sebanyak ratusan produk milik pengrajin terampil dari seluruh pelosok negeri pun terpajang indah di acara tersebut.  PT Bank Rakyat Indonesia (Persero) Tbk atau BRI sebagai bank dengan fokus pada pemberdayaan UMKM di Indonesia mendukung acara tersebut dan turut serta menampilkan produk kriya terbaik dari UMKM binaan di Rumah BUMN BRI. BRI pun berkesempatan memfasilitasi usaha lokal yang bergerak di bidang kriya tersebut agar semakin dikenal dunia. Sejumlah UMKM binaan hadir memamerkan sejumlah produk, yakni MINIMIZU dan Dannes Teakwood.  Pertama, MINIMIZU yang merupakan brand di bidang seni kreatif yang memiliki produk aquascape, paludarium, terrarium, dan moss art. UMKM ini memproduksi produk unik yang menyediakan berbagai macam bentuk model dan design sesuai permintaan konsumen.Kemudian UMKM kedua, yakni Danesteakwood, produsen kerajinan kayu jati berbasis social enterprise dan green economy yang memanfaatkan limbah kayu jati untuk dijadikan produk homedecor dan housewares. UMKM ini menggunakan kualitas kayu terbaik dan berupaya memberdayakan pengrajin secara luas hingga ke seluruh pelosok Indonesia.  Terkait dukungan BRI terhadap pameran Kriyanusa 2024, Wakil Direktur Utama Catur Budi Harto mengungkapkan bahwa kesempatan berpartisipasi dalam kegiatan tahunan Dekranas merupakan bentuk komitmen nyata BRI dalam memberdayakan UMKM binaan. Hal ini sejalan dengan komitmen BRI dalam mewujudkan UMKM naik kelas hingga pasar global.  “Harapannya dengan adanya event berskala nasional seperti ini akan terus membuka akses dan kesempatan kepada para pelaku UMKM yang ujungnya dapat membuat mereka naik kelas,” ucapnya.  Adapun UMKM yang bergabung mencapai 420 stan kriya, di antaranya 30% berasal dari pengrajin muda, kemudian ada 24 stan kuliner. Pameran yang tahun ini mengangkat ikon kebudayaan Kalimantan Timur tersebut dimeriahkan dengan berbagai acara seperti pameran, fashion show, talk show, dan lokakarya, serta musik. ***\n",
      "True Label: Positive, Predicted Label: Neutral\n",
      "\n",
      "Text 95: Liputan6.com, Jakarta Momen menarik terjadi dalam konferensi pers Rancangan Anggaran Pendapatan dan Belanja Negara (RAPBN) 2025. Menteri Koordinator Bidang Perekonomian Airlangga Hartarto kembali melontarkan candaan terkait 'kursi diambil'.  Hal itu bermula saat salah satu jurnalis yang akan mengajukan pertanyaan merasa bingung apakah akan berdiri atau duduk ketika memberikan pertanyaan. Kemudian, Airlangga pun melontarkan candaan mengenai ' kursi '.  \"Duduk aja, jangan berdiri. Bahaya kalau berdiri, kursi bisa hilang,\" ujar Airlangga.  Sontak candaan tersebut mengundang tawa semua orang yang berada di dalam ruang konferensi pers di Auditorium Cakti Buddhi Bhakti, Direktorat Jenderal Pajak.  Tak berhenti di situ saja, Airlangga juga kembali menyinggung perebutan mic yang terjadi pada sesi tanya jawab. Ia mengatakan, ternyata perebutan tidak hanya soal kursi saja, melainkan juga mic.  \"Mbak mengambil mic, silakan, boleh. Jadi sekarang berebutan bukan hanya kursi, tapi juga mic,\" imbuh Airlangga.  Mundur dari Ketum Golkar  Diketahui, candaan itu bermula sebelum para menteri mengikuti sidang kabinet perdana di Ibu Kota Nusantara (IKN), Kalimantan Timur, Senin (12/8/2024).  Sebagai informasi, Airlangga baru saja mengundurkan diri dari posisi Ketua Umum Partai Golkar, sedangkan Bahlil disebut-sebut menjadi penggantinya.\n",
      "True Label: Negative, Predicted Label: Negative\n",
      "\n",
      "Text 96: - Pecinta Modest ware di Indonesia tentu sangat senang dengan hadirnya Modinity Warehouse Sale 2024.Acara tahunan ini menawarkan beragam koleksi terbaik dari limaSiapa yang tidak kenal dengan Buttonscarves? Lini fashion Muslim untuk wanita ini berfokus pada beberapa produk seperti hijab, pakaian, dan aksesoris. Selain hadir dengan desain yang elegan dan modern, Buttonscarves juga sangat memperhatikan kualitas bahan dari setiap produk yang dikeluarkannya.  Ada beragam promo menarik yang bisa didapatkan di Modinity Warehouse Sale 2024. Pertama, setiap belanja denganSetiap belanja dengan Debit BRI, Kartu Kredit BRI, dan QRIS di BRImo minimal Rp 5.000.000, 3 orang yang beruntung berhak mendapatkan kesempatan untuk memenangkanSelanjutnya, setiap belanja dengan Debit BRI, Kartu Kredit BRI, dan QRIS di BRImo minimal Rp 10.000.000, 3 orang yang beruntung berhak mendapatkan kesempatan untuk memenangkanproduk Modinity senilai Rp 10.000.000.  Promo spesial ini berlangsung mulai dari 29 Agustus hingga 1 September 2024. Untuk informasi lebih detil mengenai promo spesial BRI di Modinity Warehouse Sale 2024, silahkan kunjungiBRImo di Google Play Store, App Store, dan Huawei App Gallery sekarang untuk merasakan kemudahan bertransaksi perbankan dalam genggaman. Untuk informasi ter-  Berita ini telah kami rangkum agar Anda dapat membacanya dengan cepat. Jika Anda tertarik dengan beritanya, Anda dapat membaca teks lengkapnya di sini. Baca lebih lajut:  Indonesia Berita Terbaru, Indonesia Berita utama  Similar News: Anda juga dapat membaca berita serupa dengan ini yang kami kumpulkan dari sumber berita lain.  5 Brand Ternama dengan Promo Spesial BRI di Modinity Warehouse Sale 2024 Yuk, download BRImo di Google Play Store, App Store, dan Huawei AppGallery sekarang untuk merasakan kemudahan bertransaksi perbankan dalam genggaman. Sumber: suaradotcom - 🏆 28. / 53 Baca lebih lajut »  Borong Fashion di Modinity Warehouse Sale 2024, BRI Bagi-bagi Lucky Dip Rp15 Juta! Portal berita yang menyajikan informasi terhangat baik peristiwa politik, entertainment dan lain lain Sumber: suaradotcom - 🏆 28. / 53 Baca lebih lajut »  Perbedaan Paralimpiade dan Olimpiade Paris 2024, Jangan Salah Sebut Paralimpiade 2024 diselenggarakan setelah berlangsungnya Olimpiade Paris 2024 yang telah usai pada 11 Agustus 2024. Sumber: liputan6dotcom - 🏆 4. / 83 Baca lebih lajut »  Sambut HUT Kemerdekaan RI, 12 Mal dan 15 Hotel di Tangerang Kasih Diskon 79 Persen Tangerang Great Sale 2024 digelar selama satu bulan dari tanggal 14 Agustus-14 September 2024. Sumber: merdekadotcom - 🏆 36. / 51 Baca lebih lajut »\n",
      "True Label: Neutral, Predicted Label: Neutral\n",
      "\n",
      "Text 97: AYOSURABAYA.COM -- Arti air bisa tambah dan minuman anak kembar MPLS bisa kamu temukan di sini.  Air bisa tambah dan minuman anak kembar mungkin saja menjadi teka teki minuman MPLS yang harus dipecahkan.  Biasanya, panitia akan memberikan beberapa teka-teki untuk dipecahkan oleh peserta saat pelaksanaan Masa Pengenalan Lingkungan Sekolah (MPLS).  Setelah peserta memecahkan teka-teki, maka jawabannya yang berupa makanan. minuman, atau barang, bisa dibawa ke sekolah saat kegiatan MPLS.  Inilah arti air bisa tambah, minuman anak kembar, dan teka teki minuman MPLS lainnya, yag sudah dikumpulkan AyoSurabaya dari berbagai sumber.  Air lumpur: Susu cokelat Air mineral merk oasis: Air mineral Cap Oasis Air mineral yang ada manis-manisnya: Le Minerale Air penjumlahan: Air kali Air putih dihormati: Susu  Teh 2 huruf: NU Green Tea Teh yang berkelas: Teh Poci Teletubbies mencari keringat: Pocari sweat The band: Teh kotak Wafer Seduh: Energen  Air bilangan '2,3,5': Air minum Cap Prima Air desa: Ades Air emas dari hutan tropis: Minyak goreng Tropical Air gak loyo: Air vit Air kencing banteng: Kratingdaeng  Buah dari kedai kopi: Fruit Tea Buah teh macintosh: Fruit Tea Apel Darah beku: Cincau Jus Pancasila: Jus belimbing Jus Teknologi: Jus apel  Minuman kanibal: Nutrisari Minuman Miss Universe: UC 1000 Minuman pahlawan: Ultra Milk Minuman perkakas: 2Tang Minuman permisi: mangga\n",
      "True Label: Neutral, Predicted Label: Neutral\n",
      "\n",
      "Text 98: Jakarta (ANTARA) -  PT Toyota-Astra Motor (TAM) menerjunkan sebanyak 13 unit kendaraan elektrifikasi mereka untuk diuji mulai dari Jakarta, Solo, Semarang hingga Yogyakarta, menjadikan kegiatan uji coba kendaraan kali ini paling ramah lingkungan yang diselenggarakan oleh perusahaan tersebut.  Hal itu juga sempat dinyatakan oleh Vice President Director PT Toyota Astra Motor, Henry Tanoto di Solo.  Dalam kegiatan yang bertajuk “Toyota Eco Journey – JTD Electrification Line Up 2024”, ANTARA berkesempatan mengikuti rangkaian yang dilaksanakan sejak 26 sampai dengan 28 Agustus 2024.  Berbagai kendaraan elektrifikasi yang didominasi dengan kendaraan hybrid milik Toyota hampir ANTARA rasakan semua. Dari 13 kendaraan, Toyota menyediakan 4 unit All New Yaris Cross HEV, 3 unit All New Kijang Innova Zenix Q HEV.  Selain itu terdapat juga 1 unit All New Kijang Innova Zenix V HEV, 1 unit All New Alphard HEV, 1 unit All New Vellfire HEV, 1 unit All New RAV4 GR Sport PHEV, dan 1 unit All New Prius HEV yang baru diluncurkan pada GIIAS 2024.  Pada hari pertama, ANTARA bersama tiga orang media lainnya berkesempatan untuk mencoba keandalan, kelincahan serta keiritan yang dimiliki oleh All New Yaris Cross HEV untuk menjajal jalan Trans Jawa.  Terbukti, kendaraan ini memberikan sensasi berkendara yang memberikan rasa nyaman dan juga aman kepada pengendara maupun penumpang dengan kecepatan rata-rata 80 km/h kami berhasil menembus angka 23 km/l.  Untuk angka konsumsi bahan bakar, setiap pengendara akan memberikan hasil yang berbeda tergantung cara mengemudi dan beban yang dibawa. Dalam kegiatan ini, bahkan terdapat salah satu peserta yang berhasil mendapatkan angka efisien yang lebih besar.  Selain All New Yaris Cross HEV, ANTARA juga diberikan kesempatan untuk menjajal All New Kijang Innova Zenix Q HEV yang memberikan kenyamanan dalam berkendara dengan interior yang lapang.  ANTARA juga mendapatkan kesempatan untuk merasakan kenyamanan yang dihadirkan oleh kendaraan Multi Purpose Vehicle (MPV) premium dari Toyota, yakni All New Alphard HEV. Kendaraan canggih dan modern ini, memberikan sensasi kepada para penumpangnya layaknya eksekutif muda. Berbagai peralatan modern juga turut dibenamkan dalam kendaraan ini.  All New Alphard HEV sudah menggunakan Detachable Smartphone-like Remote Control untuk mengatur berbagai fitur yang ada, mulai dari hiburan sampai privasi seperti Adjustable Rear Side Shade.  Tidak hanya itu saja, ruang yang lapang juga dihadirkan berkat desain bangku dengan model Captain Seat yang Fully Electric mampu menambah kenyamanan penumpang di baris kedua.  Tidak heran, jika kendaraan yang memiliki dimensi panjang 5.010 mm, lebar 1.850 mm, dan tinggi 1.945 mm dengan jarak poros roda (wheelbase) 3.000 mm dengan ukuran ban 225/55 R19 ini digemari oleh konsumen yang menginginkan kenyamanan dalam berkendara.  Selain itu, ANTARA juga sempat merasakan berkendara dengan menggunakan All New RAV4 GR Sport PHEV. Kendaraan yang dibanderol dengan harga Rp1,15 miliar ini juga tidak kalah dengan kendaraan-kendaraan yang sudah diuji coba lainnya dalam segi performa.  Kendaraan yang bersaing dengan Mazda CX 9 AWD, Audi Q5 2.0 TFSI Quattro, BMW X1 sDrive18i xLine, Mercedes Benz GLB-Class 200 Progressive Line dan Hyundai Palisade Signature AWD ini hadir dengan mesin PHEV 2487 cc dengan konfigurasi 4 silinder segaris, 4 valve, DOHC.  Dengan bekal yang mumpuni itu, kendaraan ini sanggup mengeluarkan tenaga sebesar 182 hp dengan torsi 227 Nm. Tidak heran, jika kendaraan sanggup memberikan sensasi berkendara yang menyenangkan.  All New RAV4 GR Sport PHEV pada dasarnya memiliki karakter berkendara yang sama dengan HEV Toyota. Bedanya, fitur charging port memberikan fleksibilitas kepada pelanggan yang mau memanfaatkan fasilitas charging station untuk mengisi baterai hybrid, guna menambah jarak tempuh zero emission ala BEV.  Yang menjadi bintang pada uji coba kali ini adalah All New Prius HEV. Mobil hybrid yang baru saja diluncurkan pada ajang Gaikindo Indonesia International Auto Show (GIIAS) 2024 lalu ini memang banyak mendapatkan perhatian baik dari kalangan media hingga masyarakat yang ada di jalan.  Dengan warna kuning yang mencolok, kendaraan ini seolah berbeda dengan kendaraan-kendaraan yang digunakan oleh kebanyakan media yang mengikuti rangkaian tersebut.  Desain yang aerodinamis dan futuristik ini juga seolah mengisyaratkan bahwa kendaraan ini siap untuk memuaskan para penggunanya dalam berkendara di atas rata-rata.  Dalam uji coba ini, Prius generasi kelima ini mencatatkan tingkat efisiensi bahan bakar yang cukup tinggi, yaitu sekitar 29.4 km/L.  Dengan jarak berkendara 215 km dari Jakarta menuju Cirebon dan jarak 225 km dari Cirebon menuju Semarang gabungan dari 12 unit yang dibawa ini berhasil mengurangi emisi karbon sebanyak lebih dari 41 kg CO2 jika dibandingkan dengan mobil ICE.  “HEV Toyota dapat diterima dengan baik karena sesuai ekosistem, ketersediaan infrastruktur, dan kebiasaan berkendara masyarakat. Supaya dapat memberikan informasi lebih komprehensif terkait Hybrid EV Toyota, serta membuktikan keandalannya di medan jalan yang beragam, kami mengajak para jurnalis nasional untuk merasakan langsung kinerjanya dalam journalist test drive kolosal ini,” tutup Marketing Director PT Toyota-Astra Motor (TAM), Anton Jimmi Suwandy.\n",
      "True Label: Neutral, Predicted Label: Neutral\n",
      "\n",
      "Text 99: KONTAN.CO.ID - JAKARTA. Raksasa bank asal Jepang, MUFG, Ltd telah menyiapkan dana senilai Rp 1,69 triliun untuk membeli sisa kepemilikan saham PT Mandala Finance Tbk (MFIN) milik publik. Langkah tersebut dilakukan melalui aksi tender offer wajib sebagai kelanjutan proses akuisisi perusahaan pembiayaan tersebut pada tahun lalu.  Seperti diketahui, saat ini kepemilikan publik atas saham MFIN sebanyak 513.961.400 saham. Harga penawaran tender saham MFIN tersebut telah ditentukan dengan senilai Rp 3.297 per saham.  “MUFG menyatakan memiliki dana yang cukup dan sanggup untuk melaksanakan kewajibannya untuk melakukan pembayaran penuh kepada pemegang saham yang ditawarkan sehubungan dengan penawaran tender wajib,” tulis keterbukaan informasi MUFG, Senin (22/7).  Periode pelaksanaan tender offer wajib ini akan berlangsung selama 30 hari setelah keterbukaan informasi. Artinya, periode tersebut akan berakhir pada 21 Agustus 2024 pukul 15.00 Waktu Indonesia Barat.  MUFG mengungkapkan tujuan dari pembelian saham tersebut untuk memanfaatkan kekuatan MFIN, baik dalam produk maupun keberadaannya, untuk selanjutnya memperkuat dan memperluas usaha pembiayaan otomotif MUFG di Indonesia bersama dengan PT Adira Dinamika Multifinance Tbk (ADMF).  Setelah penawaran tender wajib ini selesai, MUFG berencana terus menjalankan hal-hal yang terkandung di dalam rencana pengembangan operasional yang telah disampaikan MFIN kepada OJK.  Adapun, jika pemegang saham publik melaksanakan hak nya untuk mengikuti tender wajib ini, maka MFIN kemungkinan akan menjadi perusahaan tertutup. Di mana, MUFG akan memegang saham MFIN terbanyak dengan kepemilikan 90%.  “Pengendali baru tidak memiliki rencana konkret untuk mengajukan perubahaan status perusahaan sasaran (MFIN) dari perusahaan terbuka menjadi perusahaan tertutup,” tulis keterbukaan tersebut.\n",
      "True Label: Neutral, Predicted Label: Neutral\n",
      "\n",
      "Text 100: BICARANETWORK.COM - PT Adira Dinamika Multi Finance Tbk. (Adira Finance) membukukan lebih dari 1.500 transaksi Surat Pemesanan Kendaraan (SPK) dalam pelaksanaan Jakarta Fair Kemayoran 2024 sejak 12 Juni lalu.  “Selama tiga minggu pelaksanaan Jakarta Fair Kemayoran 2024, Adira Finance telah berhasil mendapatkan lebih dari 1.500 transaksi SPK,” ucap Head of Retail Motorcycle Financing Adira Finance Andy Sutanto dalam pernyataannya yang diterima di Jakarta, Minggu.  Di Kampung Adira, sebutan bagi booth Adira Finance pada Jakarta Fair kali ini, ia mengatakan bahwa pihaknya memajang puluhan display kendaraan roda dua, baik konvensional maupun listrik dari berbagai merek, untuk membantu para pengunjung mendapatkan informasi lengkap mengenai spesifikasi kendaraan yang mereka inginkan.  Pihaknya juga memberikan fasilitas persetujuan (approval) di tempat sehingga pengunjung bisa langsung mendapatkan persetujuan pembiayaan dengan cepat dan mudah untuk membawa pulang produk yang mereka inginkan tanpa menunggu lama.  Andy menyampaikan bahwa terdapat berbagai penawaran diskon dan hadiah bagi para pengunjung yang bertransaksi di Kampung Adira maupun booth lainnya yang memiliki kerja sama pembiayaan dengan pihaknya.  Salah satunya adalah benefit cicilan ringan dan potongan tenor hingga empat bulan untuk pengajuan kredit motor baru serta cicilan ringan dan bonus asuransi mesin 180 hari dari PT Zurich Asuransi Indonesia (Zurich Indonesia) untuk pengajuan kredit motor bekas.  Terdapat pula benefit bunga spesial mulai dari 2,99 persen per tahun serta bebas biaya provisi untuk pembiayaan mobil cashback hingga 1,5 juta adirapoin untuk tukar tambah kendaraan, serta uang muka atau DP mulai 0 persen untuk pembiayaan sepeda listrik.  Tidak hanya kredit kendaraan, Andy menuturkan bahwa pihaknya juga memfasilitasi pengajuan pembiayaan umroh dengan benefit uang saku Rp1 juta dan 100 ribu adirapoin, serta pinjaman dana tunai multiguna dengan tenor hingga 60 bulan dan plafon hingga Rp500 juta.  Ia mengatakan bahwa bagi konsumen yang beruntung, pihaknya juga menyediakan hadiah pelunasan cicilan seluruhnya untuk 34 pemenang dan pelunasan satu kali cicilan untuk 340 pemenang melalui program Harinya Cicilan Lunas (HARCILNAS) serta lima paket umrah gratis melalui Program UMRAH Untuk Sahabat.  “Kami sudah mendapatkan tiga pemenang Program UMRAH Untuk Sahabat. Masih ada kesempatan untuk pengunjung bisa mendapatkan berbagai promo serta penawaran menarik khusus di Jakarta Fair Kemayoran, termasuk memenangkan umroh gratis dari Adira Finance hingga 14 Juli 2024,” imbuhnya.(*)\n",
      "True Label: Neutral, Predicted Label: Negative\n",
      "\n",
      "Accuracy on the validation set: 0.8200\n",
      "Time taken for tokenization: 0.3765 seconds\n",
      "Time taken for inference: 16.0596 seconds\n",
      "Total time taken: 16.4361 seconds\n"
     ]
    }
   ],
   "source": [
    "import random\n",
    "import torch\n",
    "import time\n",
    "from transformers import LongformerForSequenceClassification, LongformerTokenizer\n",
    "\n",
    "torch.cuda.empty_cache()\n",
    "\n",
    "\n",
    "# Set random seed for reproducibility\n",
    "random.seed(42)\n",
    "\n",
    "# Load the saved model and tokenizer\n",
    "device = torch.device(\"cuda\" if torch.cuda.is_available() else \"cpu\")\n",
    "model_path = './longformer_model2'  # Path to your saved model\n",
    "model = LongformerForSequenceClassification.from_pretrained(model_path).to(device)\n",
    "tokenizer = LongformerTokenizer.from_pretrained(model_path)\n",
    "\n",
    "print(\"Model and tokenizer successfully loaded!\")\n",
    "\n",
    "# Limit to 100 articles from the validation set\n",
    "val_texts_subset = val_texts[:100]\n",
    "val_labels_subset = val_labels[:100]\n",
    "\n",
    "# Tokenize the subset of the validation set\n",
    "start_tokenization_time = time.time()\n",
    "inputs = tokenizer(val_texts_subset, return_tensors=\"pt\", truncation=True, padding=True, max_length=512).to(device)\n",
    "end_tokenization_time = time.time()\n",
    "\n",
    "# Perform inference\n",
    "model.eval()\n",
    "start_inference_time = time.time()\n",
    "with torch.no_grad():\n",
    "    outputs = model(**inputs)\n",
    "end_inference_time = time.time()\n",
    "\n",
    "# Get the predicted class for each input\n",
    "logits = outputs.logits\n",
    "predicted_classes = torch.argmax(logits, dim=1).tolist()\n",
    "\n",
    "# Print results for the validation set subset\n",
    "label_mapping = {0: \"Positive\", 1: \"Neutral\", 2: \"Negative\"}\n",
    "correct_predictions = 0\n",
    "\n",
    "for i, (text, true_label, predicted_label) in enumerate(zip(val_texts_subset, val_labels_subset, predicted_classes)):\n",
    "    print(f\"Text {i+1}: {text}\")\n",
    "    print(f\"True Label: {label_mapping[true_label]}, Predicted Label: {label_mapping[predicted_label]}\\n\")\n",
    "    if true_label == predicted_label:\n",
    "        correct_predictions += 1\n",
    "\n",
    "# Calculate overall accuracy\n",
    "accuracy = correct_predictions / len(val_labels_subset)\n",
    "print(f\"Accuracy on the validation set: {accuracy:.4f}\")\n",
    "\n",
    "# Calculate timing metrics\n",
    "tokenization_time = end_tokenization_time - start_tokenization_time\n",
    "inference_time = end_inference_time - start_inference_time\n",
    "print(f\"Time taken for tokenization: {tokenization_time:.4f} seconds\")\n",
    "print(f\"Time taken for inference: {inference_time:.4f} seconds\")\n",
    "print(f\"Total time taken: {tokenization_time + inference_time:.4f} seconds\")"
   ]
  },
  {
   "cell_type": "code",
   "execution_count": 7,
   "metadata": {},
   "outputs": [
    {
     "name": "stdout",
     "output_type": "stream",
     "text": [
      "Model and tokenizer successfully loaded!\n"
     ]
    },
    {
     "name": "stderr",
     "output_type": "stream",
     "text": [
      "Initializing global attention on CLS token...\n"
     ]
    },
    {
     "name": "stdout",
     "output_type": "stream",
     "text": [
      "Text 1: AKURAT.CO Menteri Pariwisata dan Ekonomi Kreatif (Menparekraf), Sandiaga Uno berharap, kepemimpinan pemerintah baru bisa melanjutkan program pengembangan destinasi wisata nusantara.  \"Kebijakan kita terkait pariwisata ini juga adalah inklusif membuka kepada semua pihak untuk dapat berpartisipasi. Jangan sampai 10 tahun sudah dibangun dan di penghujung ini narasi kita malah tidak tersampaikan,\" kata Sandiaga di Tangerang, Jumat.  Ia mengatakan, selama sisa masa kepemimpinan Kabinet Indonesia Maju (IKM) yang hanya tersisa sekitar beberapa pekan ini, nantinya dapat diteruskan oleh pemerintah baru yang dipimpin langsung Presiden terpilih Prabowo Subianto.  Dia juga mengatakan, di akhir masa jabatannya sebagai Menparekraf bakal fokus pada percepatan penyelesaian pada lima program-program yang telah berjalan sebelumnya.  Adapun program-program unggulan sektor pariwisata yang ditargetkan untuk segera rampung itu di antaranya wisata Danau Toba, Borobudur, Mandalika, Labuan Bajo dan Kupang.  \"Kalau dari kita ada lima destinasi prioritas yang kami rekomendasi untuk dilanjutkan dan diselesaikan. Seperti dari segi infrastruktur, sudah hampir semua sudah di atas 80 persen malah ada yang juga sudah selesai,\" katanya.  \"Ini kita lihat hasil yang menjanjikan, seperti di Danau Toba, Borobudur, Mandalika, Labuan Bajo dan Kupang. Dan untuk di Kupang sendiri peningkatan kunjungan mengalami peningkatan signifikan saat ini,\" tambahnya.  Sandi mengungkapkan, selain lima program destinasi wisata, aspek peningkatan dan pengembangan sektor sumber daya manusia (SDM) juga menjadi target penyelesaian Kementerian Pariwisata dan Ekonomi Kreatif pada masa akhir Kabinet Indonesia Maju tersebut.  \"Selain daripada lima destinasi yang kita prioritaskan, ada juga yang bakal dilanjutkan program desa wisata dan ini program yang menyentuh tujuh belas poin,\" ungkapnya.  Kemudian, lanjut Sandi, disamping menuntaskan pengembangan sektor wisata dan SDM, terdapat sisi ekonomi kreatif seperti peningkatan nilai tambah atau nilai ekspor, akses pembiayaan pada pelaku ekonomi kreatif sedang terus digenjot untuk penciptaan target 4,4 juta lapangan pekerjaan di Indonesia.  \"Kita terus genjot untuk penciptaan pada 4,4 juta lapangan pekerjaan dan juga peningkatan kesejahteraan pada pelaku ekonomi kreatif diseluruh pelosok nusantara,\" kata dia.\n",
      "True Label: Negative, Predicted Label: Negative\n",
      "\n",
      "Text 2: KOMPAS.com - Majelis Ulama Indonesia (MUI) Daerah Khusus Ibu Kota (DKI) Jakarta menggandeng Le Minerale untuk memberikan bantuan berupa 2.600 galon air Le Minerale untuk korban kebakaran di Manggarai, Jakarta.  Pemberian bantuan tersebut dilaksanakan di area relokasi warga, tepatnya di Rumah Susun (Rusun) Pasar Rumput, Setiabudi, Jakarta Selatan, Jumat (23/8/2024).  Adapun kegiatan serah terima bantuan dilakukan oleh perwakilan MUI DKI Jakarta bersama perwakilan Le Minerale kepada Lurah Manggarai Muhammad Arafat.  Atas bantuan yang diberikan kepada warganya, Arafat pun mengucapkan terima kasih kepada MUI DKI Jakarta dan Le Minerale.  “Kami sangat berterima kasih kepada Le Minerale dan MUI atas kepedulian dan dukungan mereka. Bantuan ini tidak hanya membantu memenuhi kebutuhan mendesak masyarakat kami, tetapi juga memberikan semangat dan harapan baru bagi mereka yang sedang menghadapi masa-masa sulit,” ujar Arafat dalam siaran pers yang diterima Kompas.com, Senin (26/8/2024).  Arafat menambahkan, kehadiran air galon Le Minerale pada masa sulit seperti saat ini sangat dibutuhkan oleh para korban.  Sebagai informasi, berdasarkan data dari pemangku kepentingan setempat, sebanyak 1.016 jiwa dari 254 kartu keluarga (KK) terdampak kebakaran di Manggarai.  Semua korban tersebut jelas membutuhkan berbagai bantuan banyak pihak, termasuk kehadiran air mineral untuk kebutuhan minum.  “Sempat ngobrol dengan warga, bantuan dari Le Minerale sangat dinantikan. Sekali lagi, terima kasih kepada Le Minerale atas kontribusi mereka yang sangat berarti,” terang Arafat.  Apresiasi dari MUI  Atas kesediaan Le Minerale dalam membantu korban kebakaran di Manggarai, Ketua Bidang Sosial dan Corporate Social Responsibility (CSR) MUI DKI Jakarta Z Wennar menyampaikan apresiasi kepada perusahaan air minum dalam kemasan (AMDK) yang telah hadir di Tanah Air sejak 2015 tersebut.  Menurut Wenna, bantuan dari Le Minerale sebagai produk asli milik Indonesia adalah contoh nyata dari tanggung jawab sosial perusahaan yang patut ditiru.  Wennar berharap, kerja sama antara MUI dengan Le Minerale dalam bidang sosial dapat terus terjalin demi kesejahteraan masyarakat yang lebih baik.  “Kami ucapkan terima kasih banyak kepada Le Minerale karena kepedulianya terhadap korban kebakaran di Manggarai. Bantuan ini sangat berarti dalam kondisi darurat dan akan membantu meringankan beban para korban,” kata Wennar.  Hal senada juga diungkapkan oleh Ketua Seni dan Budaya MUI Jakarta KH Lutfi Hakim. Lutfi pun ingin kerja sama dalam hal kemanusiaan harus bisa terus dirawat.  “Kami sangat senang dan bergembira dengan bantuan dari Le Minerale,” ucap Lutfi.  Terkait bantuan, salah satu warga Rusun Pasar Rumput yang menerima bantuan, Endang Lestari (54), mengaku senang saat mendapatkan air galon Le Minerale.  \"Alhamdulillah, dapat bantuan Le Minerale. Terima kasih atas bantuannya. Air ini betul-betul bermanfaat buat kami di sini,\" terang Endang.  Rasa gembira juga turut dirasakan oleh warga Rusun Pasar Rumput lainnya, Dewi Puji Astuti, atas bantuan dari Le Minerale.  Warga korban kebakaran Manggarai mengaku senang mendapatkan bantuan air galon Le Minerale.  \"Saya senang bisa dapat air Le Minerale. Sebab, kami butuh sekali air minum. Di sini, semuanya terbatas. Kami sudah enggak punya apa-apa lagi karena semuanya habis terbakar,” ujar Dewi.  Sementara itu, Head of Public Relations and Digital Le Minerale Yuna Eka Kristina mengatakan, kerja sama bantuan kemanusiaan dengan MUI merupakan bukti nyata dan kontribusi positif Le Minerale bagi masyarakat.  Yuna Berharap, bantuan yang diberikan pihaknya dapat memberikan banyak manfaat, khususnya bagi para korban terdampak.  “Bantuan ini merupakan bukti kepedulian dan solidaritas dari Le Minerale. Kami sebagai produk asli Indonesia ingin selalu ada bagi kebaikan masyarakat. Semoga bantuan kemanusiaan ini dapat memberikan manfaat, meringankan beban di masa sulit ini, dan menjadi harapan baru bagi mereka,” kata Yuna.\n",
      "True Label: Negative, Predicted Label: Negative\n",
      "\n",
      "Text 3: TRIBUN-TIMUR.COM - Inilah informasi Lowongan Kerja Terbaru atau lowongan kerja hari ini, Senin (29/7/2024).  Update lowongan kerja untuk wilayah Makassar, Jakarta, Surabaya, Semarang, dan kota-kota lainnya di Indonesia.  PT Adira Dinamika Multi Finance Tbk atau Adira Finance buka lowongan kerja banyak posisi.  Lowongan kerja Adira Finance terbuka untuk lulusan D3 dan S1 semua jurusan.  PT Adira Dinamika Multi Finance Tbk atau Adira Finance merupakan perusahaan pembiayaan yang sudah didirikan tahun 1990 dan mulai beroperasi pada tahun 1991.  Berikut informasi lowongan kerja Adira Finance dilansir Tribun-Timur.com dari laman resminya:  - Memahami dasar-dasar Manajemen Risiko Cyber ​​dan Kepatuhan & Tata Kelola TI.  - Keterampilan kepemimpinan dan manajemen tim, dengan komitmen untuk membina lingkungan kerja yang kolaboratif dan inklusif.  - Individu yang memiliki motivasi diri dan secara konsisten mematuhi prosedur dan standar yang ditetapkan  - Memiliki kemampuan komunikasi interpersonal yang baik untuk berkoordinasi dengan pihak internal & eksternal.  - Mampu mengembangkan dan memberikan dorongan kepada bawahan  - Memiliki pola pikir analitis, kreatif dan menyeluruh.  Persyaratan Pendidikan:  - Kandidat setidaknya harus memiliki gelar sarjana dari jurusan apa pun dengan IPK minimal 3,00.  - Memiliki sertifikasi Manajemen Risiko sesuai ketentuan OJK.  - Memiliki sertifikasi ISO 27001.  Batas daftar 16 September 2024.  2. SALES OFFICER CHANNELING  Kualifikasi:  - Laki-laki dengan usia maksimal 29 tahun.  - Mampu mengoperasikan komputer, terutama Ms. Office.  - Memiliki kemampuan komunikasi yang baik, berintegritas, kreatif, jujur dan ulet.  Persyaratan Pendidikan:  - Pendidikan minimal D3 dari semua jurusan dengan minimal IPK 2,50.  Batas daftar 16 September 2024.  3. HEAD OF DIGITAL COLLABORATION  Kualifikasi:  - Keterampilan kepemimpinan dan manajemen tim, dengan komitmen untuk membina lingkungan kerja yang kolaboratif dan inklusif.  - Kemampuan untuk memprioritaskan tugas, mengatur waktu secara efisien, dan memenuhi tenggat waktu dalam lingkungan yang bergerak cepat  - Individu yang memiliki motivasi diri dan secara konsisten mematuhi prosedur dan standar yang ditetapkan  - Menunjukkan kemampuan untuk melakukan tugas dengan presisi dan akurasi  - Komunikasi tertulis dan verbal yang sangat baik, dan keterampilan negosiasi  - Lancar berbahasa Inggris lisan dan tulisan.  Persyaratan pendidikan:  - Kandidat setidaknya harus memiliki gelar Sarjana dari jurusan apa pun dengan IPK minimal 3,00.  Batas daftar 16 September 2024.  - Usia Maksimal 33 Tahun  - Jenis Kelamin yang diutamakan Laki-Laki  - Memiliki SIM A atau C  Persyaratan pendidikan:  - Minimal pendidikan D3/S1 dengan IPK minimal 2.50 dari Jurusan Hukum  Batas daftar 21 September 2024.  *Untuk mengetahui lokasi penempatan, ketikkan nama kabupaten/kota di kolom Search.\n",
      "True Label: Neutral, Predicted Label: Neutral\n",
      "\n",
      "Text 4: Aceh Utara | BidikIndonesia – Kondisi jalan lintas kecamatan yang menghubungkan antar desa menuju makam Pahlawan Nasional Cut Meutia di Gampong Alue Rimee, Kecamatan Pirak Timu, Kabupaten Aceh Utara, dilaporkan mengalami kerusakan parah.  Jalan yang baru saja dibangun dua tahun lalu ini kini berlubang dan rusak, menghambat mobilitas masyarakat setempat dan menimbulkan kekhawatiran terkait keselamatan pengguna jalan.  Menurut informasi yang diterima oleh Serikat Aksi Peduli Aceh (SAPA) dari warga setempat, kerusakan ini diduga kuat disebabkan oleh aktivitas operasional truk-truk milik PT Perkebunan kelapa sawit Nusantara 1 Cot Girek.  Truk-truk tersebut dilaporkan sering melintas di jalan desa dengan muatan yang melebihi batas berat yang telah ditentukan. Akibatnya, kondisi jalan yang seharusnya dapat bertahan dalam jangka waktu yang lebih lama menjadi rusak parah hanya dalam waktu singkat.  SAPA menyatakan keprihatinan mendalam terhadap kondisi ini dan menegaskan bahwa perusahaan tersebut harus bertanggung jawab atas kerusakan yang terjadi. Jika terbukti bahwa kerusakan jalan ini disebabkan oleh aktivitas operasional perusahaan, maka tidak ada alasan bagi perusahaan untuk mengelak dari tanggung jawabnya.  “Mereka harus segera memperbaiki jalan yang rusak agar tidak semakin memperburuk kondisi dan mengganggu kehidupan masyarakat yang mengandalkan jalan tersebut sebagai akses utama,” kata Ketua Umum SAPA Fauzan Adami kepada media ini, Jumat 30 Agustus 2024.  Kerusakan infrastruktur publik yang disebabkan oleh aktivitas swasta merupakan bentuk pelanggaran serius terhadap hak-hak masyarakat. SAPA menegaskan bahwa tindakan semacam ini tidak bisa dibiarkan begitu saja.  “Kami akan terus memantau situasi ini dan mendesak agar ada tindakan tegas dari pihak berwenang. Setiap pelanggaran yang merugikan kepentingan umum harus ditangani dengan serius. Perusahaan tidak boleh mengorbankan kepentingan masyarakat demi keuntungan mereka semata,” tegas Fauzan.  Dalam pernyataan resmi tersebut, SAPA juga mendesak Pj Bupati Aceh Utara untuk segera turun ke lokasi dan meninjau langsung kondisi jalan yang rusak. Fauzan menilai bahwa keterlibatan langsung pemerintah daerah sangat diperlukan untuk memastikan bahwa masalah ini segera diatasi.  “Pemerintah harus hadir dan menunjukkan kepeduliannya terhadap keluhan masyarakat. Kami meminta Pj Bupati Aceh Utara untuk segera turun ke lapangan, melihat langsung kondisi jalan yang memprihatinkan ini, dan mengambil tindakan yang diperlukan untuk memperbaikinya,” katanya  “Selain itu, perusahaan-perusahaan yang beroperasi di wilayah ini harus diberi peringatan keras agar tidak merusak fasilitas umum yang menjadi milik bersama,” tambahnya.  Tidak hanya itu, SAPA juga menyerukan kepada masyarakat untuk terus aktif melaporkan setiap bentuk kerusakan infrastruktur atau fasilitas umum yang merugikan mereka.  SAPA mengajak seluruh warga untuk tidak diam dan terus melaporkan setiap ketidakadilan yang mereka alami. Kita harus bersama-sama menjaga dan melindungi hak-hak kita sebagai warga negara.  Pembangunan yang dilakukan di Aceh harus benar-benar berkelanjutan dan bermanfaat bagi semua pihak, bukan hanya untuk segelintir pihak yang mencari keuntungan semata,” kata Fauzan.  SAPA akan terus mengawal kasus ini hingga ada tindakan konkret dari perusahaan maupun pemerintah daerah. Mereka berjanji untuk tidak tinggal diam sampai keadilan bagi masyarakat terwujud dan akses jalan yang rusak tersebut kembali pulih seperti sediakala.[Busersiaga]\n",
      "True Label: Positive, Predicted Label: Positive\n",
      "\n",
      "Text 5: Medan, IDN Times - Dalam rangka memperingati Hari Ulang Tahun (HUT) Ke-79 RI, PT Hyundai Motors Indonesia kini menghadirkan all-new KONA Electric secara resmi di kota Medan. Sebelumnya, peluncuran perdana di Gaikindo Indonesia International Auto Show (GIIAS) 2024 bulan Juli lalu.  Peluncuran KONA ini dilakukan dalam rangka Festival Merdeka Berkendara, pada Sabtu (24/8/2024) dan Minggu (25/8/2024) di Plaza Medan Fair, serta di tujuh kota lainnya di Indonesia.  Fransiscus Soerjopranoto, Chief Operating Officer PT Hyundai Motors Indonesia, mengungkapkan kebanggaannya atas peluncuran ini dapat menghadirkan all-new KONA Electric untuk masyarakat Medan pada kesempatan kali ini.  Hyundai telah merancang all-new KONA Electric dengan inovasi teknologi terdepan, untuk menghadirkan pengalaman mobilitas terbarukan seutuhnya di segmen B-SUV yang terus berkembang di pasar otomotif Indonesia.  \"Hadir dengan desain futuristis, all-new KONA Electric memiliki varian dengan driving range terpanjang hingga mencapai lebih dari 600 km. Kami tentu berharap all-new KONA Electric dapat menjadi preferensi masyarakat Medan untuk mobilitas sehari-hari,\" katanya.  1. Baterai lokal dan teknologi canggih  All-new KONA Electric merupakan EV pertama di Indonesia yang menggunakan baterai buatan dalam negeri, diproduksi oleh PT HLI Green Power yang diresmikan pada 3 Juli lalu. Dengan baterai yang diproduksi secara lokal, Hyundai tidak hanya mendukung industri otomotif tanah air tetapi juga berkontribusi pada pencapaian target net zero emission pemerintah di tahun 2060.  All-new KONA Electric menawarkan desain futuristis dengan dimensi yang cukup besar namun tetap compact, yakni panjang 4.355 mm, lebar 1.825 mm, tinggi 1.580 mm, dan wheelbase 2.660 mm. Interiornya yang lapang memberikan kenyamanan maksimal bagi pengendara dan penumpang.  Selain itu, kendaraan ini dilengkapi dengan fitur-fitur canggih seperti wireless connectivity dengan Android Auto dan Apple Carplay serta teknologi Hyundai Bluelink yang memungkinkan pengguna untuk memperbarui sistem secara over-the-air (OTA).  “Soerjopranoto menambahkan, ‘Hadirnya Festival Merdeka Berkendara adalah bentuk upaya Hyundai untuk selalu mengutamakan pelanggan dan masyarakat luas melalui penawaran spesial untuk kepemilikan produk Hyundai. Kami ingin memastikan bahwa masyarakat dapat merasakan solusi mobilitas terdepan dari Hyundai dalam kehidupan sehari-hari mereka,\" jelasnya.  2. Varian dan performa  All-new KONA Electric hadir dalam lima varian, yaitu Signature Long Range, Signature Standard Range, Prime Long Range, Prime Standard Range, dan Style, dengan berbagai pilihan kapasitas baterai. Varian Signature Long Range dan Prime Long Range dilengkapi dengan baterai 66 kWh yang menawarkan jarak tempuh masing-masing lebih dari 500 km dan 600 km, sementara varian lainnya menggunakan baterai 48,9 kWh dengan jarak tempuh lebih dari 400 km.  Seluruh varian dilengkapi dengan motor penggerak yang mampu menghasilkan torsi sebesar 255 Nm, menjamin performa berkendara yang menyenangkan dan powerful.  KONA Electric mampu mencapai kecepatan maksimum 167 km/jam untuk varian long range dan 155 km/jam untuk varian standard range. Dengan sembilan pilihan warna eksterior, termasuk Optic White Matte, Titan Grey Metallic, dan Midnight Black Pearl, konsumen dapat memilih sesuai dengan selera mereka.  3. Festival merdeka berkendara  Festival Merdeka Berkendara merupakan puncak dari rangkaian acara perayaan HUT RI yang diselenggarakan di delapan kota, termasuk Medan. Festival ini tidak hanya menampilkan all-new KONA Electric tetapi juga berbagai model kendaraan listrik Hyundai lainnya seperti STARGAZER, CRETA, dan IONIQ 5.  Pengunjung festival dapat merasakan langsung pengalaman berkendara dengan melakukan test drive serta berpartisipasi dalam berbagai kegiatan menarik seperti Photo Challenge with KONA Monsters, Hyundai Bakiak Race, dan Kids Coloring Competition. “Festival ini adalah kesempatan emas bagi pelanggan untuk mengenal lebih dekat produk-produk Hyundai dan mendapatkan penawaran spesial,” ujar Soerjopranoto.  Hyundai juga menawarkan berbagai benefit bagi pengunjung, termasuk voucher dari Garuda Indonesia, gratis layanan pengisian daya EV di lebih dari 600 charging station Hyundai selama 1 tahun, serta kemudahan cicilan dengan bunga 0% selama 2 tahun. Selain itu, ada kesempatan untuk memenangkan hadiah berupa IONIQ 6.  4. Penawaran spesial dan layanan purna jual  Sebagai bentuk apresiasi kepada tenaga kesehatan dan pahlawan masa kini, Hyundai menghadirkan penawaran spesial dalam program “Merdeka Berkendara”. Para pahlawan masa kini seperti guru, dosen, dokter, perawat, anggota damkar, kepolisian, dan TNI dapat menikmati berbagai keuntungan, termasuk voucher dari Garuda Indonesia dan layanan gratis pengisian daya.  Hyundai juga menyediakan layanan Hyundai Before Service™️ yang meliputi pengecekan kendaraan, cuci kering, vakum interior, serta pengisian angin. Untuk pemilik kendaraan Hyundai, tersedia pengecekan dengan Hyundai GDS, gratis 2 liter oli untuk ganti oli, dan voucher 20 persen untuk servis selanjutnya.  Peluncuran all-new KONA Electric di Medan merupakan bagian dari upaya Hyundai untuk terus menghadirkan inovasi dan solusi mobilitas yang ramah lingkungan kepada masyarakat Indonesia. Festival Merdeka Berkendara tidak hanya merayakan kemerdekaan tetapi juga menunjukkan komitmen Hyundai terhadap masa depan mobilitas yang lebih bersih dan efisien.\n",
      "True Label: Negative, Predicted Label: Negative\n",
      "\n",
      "Text 6: PERTANIAN - JAKARTA. Kementerian Pertanian (Kementan) terus mendorong sinkronisasi antara dinas pertanian dan stakeholders di lima kabupaten di Jawa Timur, Pacitan, Malang, Pasuruan, Tulungagung, dan Banyuwangi, untuk mendukung pengembangan petani muda.  Sinkronisasi ini dilakukan melalui program Youth Entrepreneurship And Employment Support Services Programme (YESS) yang dikelola oleh Politeknik Pembangunan Pertanian (Polbangtan) Malang sebagai Provincial Project Implementation Unit (PPIU).  Pertemuan bertajuk “Kerjasama Provinsi” yang digelar di Malang, Rabu (4/9), menegaskan pentingnya sinergi antara program YESS dan program dinas terkait di tingkat provinsi.  Project Manager PPIU Jawa Timur, Acep Hariri, menekankan bahwa kolaborasi ini sejalan dengan arahan Menteri Pertanian, Andi Amran Sulaiman, untuk memperkuat sektor pertanian melalui peningkatan produktivitas dan kemandirian pangan.  Kepala Badan Pengembangan Sumber Daya Manusia Pertanian (BPPSDMP) Kementan, Idha Widi Arsanti, menyatakan bahwa program YESS tidak hanya memberikan pelatihan, tetapi juga membangun jaringan dukungan kuat bagi petani muda.  \"Hal ini bertujuan untuk memastikan mereka dapat berkembang dan memberikan dampak positif bagi komunitasnya,\" ujarnya dalam siaran pers, Selasa (10/9).  Direktur Polbangtan Malang, Setya Budhi Udrayana, menegaskan komitmen Kementan untuk mendampingi petani muda dari hulu ke hilir melalui program YESS, termasuk menyediakan akses permodalan dan kesempatan magang luar negeri.  Pada pertemuan ini juga dibahas strategi keluar (exit strategy) Program YESS, yang diharapkan dapat melibatkan Badan Perencanaan Pembangunan Daerah (Bappeda) untuk merancang Forum Multi-Stakeholders Tingkat Kabupaten (District Multi Stakeholders Forum).  Program YESS telah membina 60 ribu petani muda, namun sebagian besar masih didominasi oleh subsektor peternakan.  Kepala Bappeda Kabupaten Malang, Tomie Herawanto, melaporkan adanya peningkatan perhatian terhadap sektor pertanian, sementara Bappeda Banyuwangi berfokus pada pengembangan inovatif yang mengintegrasikan sektor pertanian dengan pariwisata.  Bappeda Pasuruan menargetkan pembentukan 1.000 petani muda, sedangkan Bappeda Tulungagung dan Pacitan menekankan pentingnya kolaborasi untuk memperkuat sektor pertanian melalui berbagai inisiatif lokal.  Dengan strategi-strategi yang dirancang, Kementan berharap pengembangan petani muda di Jawa Timur dapat berlangsung secara optimal dan berkelanjutan.\n",
      "True Label: Neutral, Predicted Label: Neutral\n",
      "\n",
      "Text 7: Jakarta, Beritasatu.com - Pemerintah menyiapkan anggaran Rp 124,4 triliun untuk anggaran ketahanan pangan dalam Rancangan Undang-Undang (RUU) Anggaran Pendapatan Belanja Negara (APBN) 2025. Alokasi ini akan digunakan untuk mendukung rantai pasok pangan dan memperkuat ketahanan pangan.  “Ketahanan pangan menjadi perhatian dari presiden terpilih. Kita mengalokasikan Rp 124,4 triliun dari sisi praproduksi, produksi, distribusi, pemasaran, hingga di sisi konsumen,” ucap Menteri Keuangan Sri Mulyani Indrawati dalam konferensi pers RUU APBN 2025 dan nota keuangan di kantor Direktorat Jenderal Pajak (DJP), Jakarta Jumat (16/8/2024) dilansir Investor Daily.  Anggaran ketahanan pangan tersebut diarahkan untuk mendukung peningkatan produktivitas, menjaga ketersediaan dan keterjangkauan harga pangan, perbaikan rantai distribusi hasil pertanian, serta meningkatkan akses pembiayaan bagi petani.  Untuk program praproduksi dilakukan untuk belanja bantuan alat tangkap, subsidi pupuk, alat mesin, benih, baik pangan maupun ikan. Alokasi dari sisi produksi dalam bentuk food estate, cetak sawah, pengembagan kawasan padi, pengembangan kawasan jagung, bendungan, jaringan irigasi, lahan pertanian pangan produktif, dan asuransi pertanian.  “ Food estate dilakukan pada tiga lokasi, yaitu Kalimantan Tengah, Sumatera Utara, dan Nusa Tenggara Timur. Sedangkan pencetakan sawah baru, akan mengembangkan kawasan padi, jagung,\" kata dia.  Sedangkan untuk distribusi, kata dia, terutama untuk perbaikan jalan supaya tidak menimbulkan harga bergejolak.\n",
      "True Label: Negative, Predicted Label: Negative\n",
      "\n",
      "Text 8: DISTRIK NEWS - Seri pameran otomotif GIIAS Surabaya 2024 memasuki hari ke empat penyelenggaraanya pada 31 Agustus 2024 ini.  Gelaran GIIAS Surabaya 2024, yang merupakan bagian dari GIIAS The Series 2024, digelar sejak 28 Agustus hingga 1 September 2024.  Setelah resmi dibuka pada 28 Agustus 2024, pameran ini menawarkan kesempatan di pekan terakhir bagi para pecinta otomotif di Jawa Timur, khususnya Surabaya, untuk mengeksplorasi area pameran yang menampilkan total 34 merek kendaraan bermotor.  Dengan luas pameran yang terbesar sepanjang sejarah penyelenggaraan GIIAS Surabaya, pengunjung dapat menikmati pengalaman berkeliling yang lebih nyaman.  Di area Convention Hall, merek-merek kendaraan seperti Daihatsu, Honda, Hyundai, Lexus, Toyota, Toyota Commercial, dan VinFast memamerkan inovasi terbaru mereka.  Sementara itu, di area Exhibition Hall, pengunjung dapat menjelajahi booth dari merek-merek seperti Audi, BYD, Chery, Citroen, DFSK, KIA, Mazda, MG, Mitsubishi Motors, Nissan, Seres, Suzuki, VW, dan Wuling.  Selain itu, 12 merek kendaraan roda dua juga turut serta, di antaranya Alva, Aprilia, Benelli, Keeway, Kupprum, Moto Guzzi, Piaggio, Polytron, Royal Enfield, United E-motor, Vespa, dan Volta.  Menambah keseruan akhir pekan ini, GIIAS Surabaya 2024 menghadirkan Audio Kontes yangbekerja sama dengan EMMA (European Mobile Media Association).  Kontes ini menampilkan mobil-mobil dengan modifikasi audio terbaik, menawarkan pengunjung kesempatan untuk menyaksikan langsung keunggulan sistem audio mobil mutakhir.  Sri Vista Limbong, Project Director GIIAS Surabaya 2024, mengungkapkan, “GIIAS Surabaya 2024 hadir tidak hanya sebagai ajang pameran otomotif, tetapi juga sebagai platform yang menghubungkan berbagai inovasi dan teknologi terbaru di industri otomotif bagi para pecinta otomotif.”  “Kami berharap acara ini dapat memberikan pengalaman berharga dan inspiratif bagi setiap pengunjung. Oleh karena itu, kami mengundang seluruh masyarakat Jawa Timur khususnya Surabaya untuk menjadikan GIIAS Surabaya 2024 sebagai destinasi akhir pekan mereka bersama keluarga, teman, dan komunitas,” ujar Vista.  GIIAS Surabaya 2024 mendapatkan dukungan penuh dari berbagai sponsor dan mitra industri.  Astra Financial sebagai platinum sponsor didukung oleh FIFGROUP, Astra Credit Companies, Toyota Astra Finance Services, Asuransi Astra, Astra Life, AstraPay, Maucash, Moxa, SEVA, BANK SAQU by Bank Jasa Jakarta, serta dukungan dari Shell Helix, PLN, JKIND, Superchallenge, dan Kahf.\n",
      "True Label: Neutral, Predicted Label: Neutral\n",
      "\n",
      "Text 9: Terkini, Makassar - Wali Kota Makassar Moh Ramdhan Pomanto menyerap banyak aspirasi warga pulau Kecamatan Samgkarrang pada malam Pesta Rakyat HUT RI di Pulau Kodingareng, Jumat, 30 Agustus 2024.  “Daripada pidato mendingan kita diskusi dan menyerap semua aspirasi masyarakat,” kata Danny Pomanto sapaan akrabnya pada sela-sela acara, malam tadi.  Alhasil diskusi dan sharing terbuka antara warga Pulau Kodingareng dan Danny Pomanto berlangsung seru.  Masyarakat secara langsung mengutarakan pendapatnya di hadapan Danny. Wali kota dua periode ini pun langsung menanggapi aspirasi warga.  “Insyaallah bisa semua. Pemkot Makassar punya banyak anggaran jadi tentu ditumpahkan ke rakyat semua,” tekan Danny.  Beberapa permintaan warga juga ditampung Danny dan bakal diakomodir pada APBD selanjutnya.  Seperti, memprioritaskan 100 masyarakat pulau agar masuk sebagai Laskar Pelangi, penganggaran perbaikan dermaga kapal;  Mengadakan kapal khusus mengangkut bank sampah yang telah dipilah dan pembayaran bank sampah dilakukan langsung kepada warga di lokasi.  Selain itu juga soal perbaikan lapangan sepakbola.  Wali kota berlatar belakang pendidikan arsitektur ini ingin ada lapangan Mini Soccer baru dengan rumput sintetis.\n",
      "True Label: Neutral, Predicted Label: Positive\n",
      "\n",
      "Text 10: Waspada.co.id – Harus diakui bahwa perkembangan teknologi di era modern ini sangatlah pesat dan membawa dampak besar dalam kehidupan manusia. Setiap hari, kita bisa melihat banyak inovasi baru yang terus muncul dalam berbagai bidang, termasuk teknologi dan aplikasi.  Lantas, di era digital seperti saat ini, memiliki aplikasi yang serba bisa adalah suatu keharusan. MyTelkomsel Super App hadir sebagai solusi lengkap bagi kamu yang ingin segala kebutuhan telekomunikasi berada dalam satu genggaman.  Aplikasi Multi Layanan Berbasis Super App dirancang untuk memudahkan dalam melakukan berbagai tugas, seperti mengirim saldo ke rekening bank dan memesan tiket acara. Selain itu, program ini memungkinkan pengguna untuk mengisi saldo dengan mudah tanpa harus mengunjungi ATM (Automated Teller Machine) atau cabang bank terdekat.  Fitur utama dari program ini adalah kemampuannya mengirimkan saldo ke rekening bank dalam jumlah nominal yang dapat diubah berdasarkan kebutuhan pengguna, tanpa memerlukan kunjungan fisik ke ATM atau bank.  Hal ini memungkinkan operasional transaksi diselesaikan dengan cepat dan efisien, memberikan kenyamanan dan fleksibilitas bagi pengguna. Selain operasional transaksi finansial, Aplikasi Multi Layanan Berbasis Super App menawarkan layanan pemesanan tiket event. Penggemar event akan mendapatkan keuntungan besar dari kemudahan mereka mempelajari berbagai jenis acara yang tersedia dan lokasinya.  Aplikasi Multi Layanan Berbasis Super ini tidak hanya menyederhanakan transaksi keuangan, tetapi juga menawarkan solusi komprehensif untuk hiburan pengguna. Tujuan dari program ini adalah untuk memberikan otomatisasi yang lebih baik kepada pengguna, menjadikan pengalaman mereka lebih efisien dan menyenangkan. (http://jurnal.polinema.ac.id/index.php/eltek/article/view/5053/3754)  MyTelkomsel Super App hadir sebagai jawaban atas kebutuhan masyarakat akan kemudahan, kenyamanan, dan kecepatan dalam mengakses berbagai layanan digital. Penulis pun menilai setidaknya ada lima alasan kenapa kamu wajib menggunakan MyTelkomsel Super App, yakni:  MyTelkomsel Super App menawarkan beragam fitur yang memudahkan penggunanya. Mulai dari pembelian pulsa, paket data, pembayaran tagihan, hingga berbagai layanan hiburan. Semua ini dapat diakses hanya dengan beberapa kali sentuh, membuat hidupmu lebih praktis dan efisien.  Dengan menggunakan MyTelkomsel Super App, kamu bisa mendapatkan berbagai penawaran menarik, seperti diskon khusus dan promosi eksklusif yang tidak tersedia di platform lain. Ini adalah cara terbaik untuk menghemat pengeluaran telekomunikasi sambil tetap mendapatkan layanan berkualitas.  Kemudahan Akses Layanan Pelanggan  Aplikasi ini juga memudahkan kamu dalam mengakses layanan pelanggan. Dengan fitur chat dan bantuan langsung di aplikasi, masalah apapun yang kamu hadapi bisa diselesaikan dengan cepat tanpa perlu repot-repot menghubungi call center.  Transaksi Aman dan Terpercaya  MyTelkomsel Super App menjamin keamanan setiap transaksi yang dilakukan. Sistem enkripsi dan protokol keamanan yang canggih memastikan data dan informasi pribadimu tetap terlindungi, sehingga kamu bisa bertransaksi dengan tenang.  Pengguna yang Lebih Baik Aplikasi ini dirancang untuk memberikan pengalaman pengguna yang lebih personal. Dengan fitur rekomendasi yang disesuaikan dengan kebiasaan penggunaanmu, kamu akan selalu mendapatkan saran paket atau layanan yang paling sesuai dengan kebutuhanmu.  Direktur Utama Telkomsel, Nugroho mengatakan penyelenggaraan Telkomsel Awards 2024 dan peluncuran MyTelkomsel super app mencerminkan komitmen strategis Telkomsel yang sejalan dengan Visi dan Misi perusahaan sebagai penyedia layanan telekomunikasi digital terdepan di Kawasan  “Untuk memberdayakan masyarakat dengan menyediakan konektivitas yang andal, solusi inovatif, dan layanan digital yang unggul guna memberikan kemudahan dalam memenuhi kebutuhan sehari-hari, serta membuka peluang bagi kemajuan semua orang, setiap rumah, dan kegiatan usaha di seluruh Indonesia,” jelasnya dalam rilis yang diterima awak media, beberapa waktu lalu.  Direktur Marketing Telkomsel, Derrick Heng menjelaskan sejak pertama kali dihadirkan Telkomsel pada tahun 2013, layanan pelanggan MyTelkomsel hadir untuk mempermudah pelanggan dalam memenuhi kebutuhan produk dan layanan Telkomsel melalui fitur-fitur terdepan yang terus dikembangkan dengan memanfaatkan teknologi terkini.  “Kini dengan hadirnya beragam fitur unggulan seperti health, travel, payment, entertainment dan commerce di MyTelkomsel super app, kami yakin pelanggan akan memiliki pengalaman yang lebih baik, di mana kemudahan menjadi pembeda dan alasan yang kuat bagi pelanggan untuk memilih Telkomsel sebagai pilihan utamanya,” tambahnya.  Sementara itu, Direktur Sales Telkomsel, Adiwinahyu Basuki Sigit menambahkan, MyTelkomsel super app juga akan menghadirkan lebih banyak manfaat bagi berbagai segmen pelanggan dengan memanfaatkan jalinan kerjasama strategis antara Telkomsel dan berbagai mitra korporasi.  “Dengan kapabilitas super app ini, pengguna dapat menikmati berbagai layanan yang relevan dengan kebutuhan sehari-hari, mulai dari layanan perbankan, solusi energi dan transportasi, hingga layanan publik. Melalui kapabilitas baru ini, MyTelkomsel super app tidak hanya memudahkan aktivitas harian pelanggan tetapi juga meningkatkan kualitas hidup mereka dengan menawarkan berbagai layanan yang lebih terintegrasi dan komprehensif,” tutupnya.  Dengan kelima alasan di atas, tidak ada lagi alasan untuk tidak segera beralih ke MyTelkomsel Super App. Segera unduh dan nikmati kemudahan serta manfaatnya sekarang juga! (wol/ari)\n",
      "True Label: Positive, Predicted Label: Positive\n",
      "\n",
      "Text 11: KRAKATOA.ID, BANDARLAMPUNG — Trisakti School of Management (TSM) kembali menggelar lomba cerdas cermat tingkat SMA dan SMK Sumatra Selatan dan Lampung di SMA Xaverius Bandarlampung pada tanggal 31 Agustus 2024. Sebelum mengikuti lomba cerdas cermat hari ini, peserta mengikuti seleksi secara online pada tanggal 28-29 Agustus 2024.  Sebanyak 64 tim Ekonomi, 26 tim Akuntansi dari berbagai sekolah di Palembang, Lampung dan sekitarnya. TSM sebagai barometer kampus terbaik di Indonesia bidang Akuntansi dan Manajemen selalu mencari bibit unggul dari siswa-siswi dari tiap daerah potensial melalui kegiatan kompetisi Akuntansi dan Ekonomi. Salah satu wilayah cakupan kompetisinya meliputi Lampung-Palembang. TSM terkenal dengan dengan Kualitas Akademik yang sangat baik, terbukti dari berbagai prestasi yang sangat prestisius dibidang akuntansi, case bisnis dan pasar modal yang selalu menjuarai tingkat nasional dan asean.  Ketua Pelaksana Kegiatan LCT TSM, Satriyo Wibowo, S.E., M.M., kepada Krakatoa.id menyampaikan alasan memilih SMA Xaverius sebagai tuan rumah dalam penyelanggaraan kegiatan ini. Menurut Satriyo, SMA Xaverius Bandarlampung mempunyai lokasi strategis, sudah dikenal banyak sekolah di lampung-palembang, fasilitas teknologi yang mumpuni, fasilitas pendukung lainnya seperti ruang kelas, lahan parkir, genset. “Dan yang tidak kalah kerennya adalah tim panitia dari SMA Xaverius Bandarlampung yang sangat satset, gercep dan penuh senyum dalam melayani para undangan. TOP Banget deh,” kata dia.  Lebih lanjut, Satriyo juga berharap melalui kompetisi ini TSM Trisakti akan mendapatkan siswa-siswi yang memiliki semangat belajar tinggi, prestasi unggul, rata-rata akademik sangat baik sehingga akan didapatkan lulusan yang berkualitas kedepannya. Dengan demikian akan membuat rekanan Perusahaan mitra semakin terpuaskan bahkan akan mendorong perusahan-perusahaan baru untuk merekrut lulusan TSM. Selain itu calon-calon wirausaha muda akan tercipta dengan baik.  Sebagai informasi Perusahaan kelas dunia yang selalu merekrut lulusan TSM dikampus adalah Kantor Akuntan Publik (KAP) Dunia, EY, Deloitte, KPMG dan PWC. Lalu Perusahaan besar nasional dan multinasional, PT Astra, PT.Bank BCA, PT. Bank Panin, PT. OT, PT.OCBC NISP, PT. SinarMas dan masih banyak lagi.  “Kami juga melihat, dengan banyaknya talenta-talenta berbakat yang memiliki prestasi terbaik di daerah masing-masing, akan membawa perspektif yang berbeda-beda, sehingga dapat memperkaya suasana akademik di kampus dan dapat meningkatkan kemampuan mahasiswa untuk beradaptasi dengan lingkungan yang beragam. Artinya saat mereka bekerja dan berwirausaha akan lebih mudah menyikapi dan berani ambil keputusan saat kondisi ekonomi dan teknologi berubah dengan sangat cepatnya,” ungkap Satriyo dalam wawancara terpisah.  Semoga lomba ini menghasilkan putra putri tebaik untuk bersaing dalam dunia yang terus berubah dan berkembang serta menjadi ajang pengembangan diri para peserta untuk bersaing dalam dunia global.  Resti Hosiana selaku Waka Humas SMA Xaverius Bandarlampung mengucapkan selamat kepada para peserta lomba dan selamat bertanding semoga hasilnya memuaskan. Selamat berlomba dan selamat bertanding. Salam Xavepa Hebat.***\n",
      "True Label: Neutral, Predicted Label: Neutral\n",
      "\n",
      "Text 12: Dari hasil Investigasi yang dilakukan Dewan Pimpinan Pusat Corruption Investigation Commiittee (CIC) Oknum Pegawai Pajak Jaktim bernisial M diduga kuat telah menerima suap, TPPU dan gratifikasi ratusan miliaran rupiah dari sejumlah wajib pajak perusahaan.  inisial M oknum pegawai Direktorat Jenderal Pajak Kementerian Keuangan Jakarta Timur diduga kuat telah menerima suap, TPPU dan gratifikasi ratusan miliaran rupiah dari sejumlah wajib pajak perusahaan karena turut merekayasa pajak. M oknum pegawai pajak Jakarta Timur dimaksud akan segera dilaporkan oleh Sekretaris Jenderal CIC DJ sembiring ke Mabes Polri, Kejagung dan Komisi Pemberantasan Korupsi (KPK) dalam waktu dekat ini.  Sekjen CIC DJ Sembiring menegaskan, “Kami (CIC) akan segera melaporkan inisial M oknum pegawai Pajak Jakrta Timur,diduga kuat melakukan tindak pidana korupsi dan TPPU kepada Polri, Kekagung dan KPK dari hasil temuan kitatersebut dengan nilai transaksi ratusan miliar dan sudah kita siapkan data datanya. Jadi kami memang tidak banyak bicara, mohon izin, Polri, Kejagung dan KPK,kita nggak banyak bicara kita kerja aja, Pak, karena kita kerja memang CIC pendukung penegak hukum jadi kita tidak akan berikan sedikitpun ruang bagi para koruptor,”tegas DJ Sembiring kepada wartawan Jumat (23/8/2024) di Gedung Merah Putih KPK.  DJ Sembiring menam bahkan, pihaknya meminta KPK segera melakukan penyidikan terhadap inisial M oknum pegawai pajak Jaktim setelah CIC melaporkan dan memberikan data akurat terkait dugaan korupsi dan TPPU yang dilakukan M oknum pegawai pajak Jaktim untuk alat bukti dan segera memanggilnya ngak bersangkutan, yakni inisial M.  inisial M merupakan oknum pegawai pajak Jaktim dengan jabatan sebagai pemeriksa pajak.  Sekjen CIC DJ Sembiring menjelaskan,”Ada sejumlah barang bukti yang akan dilaporkan ke Polri, Kejagung dan KPK. Untuk itu, CIC meminta Polri, Kejagung dan KPK agar segera melakukan pemeriksaan terhadap M yang diduga kuat terindikasi korupsi sesuai data yang ada,jadi senin kita akan laporkan, “pungkasnya.\n",
      "True Label: Positive, Predicted Label: Positive\n",
      "\n",
      "Text 13: JAKARTA, suaramerdeka-solo.com – Komitmen untuk terus tumbuh dan memberikan layanan terbaik kepada para nasabahnya terus ditunjukkan oleh PT Bank Rakyat Indonesia (Pesero) Tbk atau BRI.  Hal ini dibuktikan melalui penghargaan Total Service Quality Satisfaction based on Customer Perception Survey SQIndex 2024 dengan Predikat Diamond di ajang Service Quality Awards 2024.  SQ Award merupakan penghargaan bergengsi bertaraf nasional yang telah diadakan sejak tahun 2007 oleh Majalah Marketing dan Customer Action Recognition and Reward Experience (CARRE). Kali ini, penghargaan diberikan pada 7 Agustus 2024 di Sky Ayana Jimbaran, Bali.  Penghargaan ini bertujuan untuk menganugerahkan perusahaan-perusahaan yang berhasil memberikan layanan terbaik pada industrinya masing-masing dengan meraih nilai tertinggi dan di atas standar industri pada Service Quality Index (SQIndex).  Adapun indikator utama yang dinilai yakni kualitas layanan, meliputi Service Accessibility, Service Process, People, Service Solution dan Perceived Service Value.  Terkait hal ini, Direktur Bisnis Konsumer BRI Handayani mengatakanbahwa penghargaan ini menjadi bukti nyata dari upaya BRI untuk terus berinovasi dan memberikan layanan terbaik bagi para nasabah prima, atau yang kerap dikenal sebagai Pribadi Terpilih BRI.  “Per 2024 ini, BRI Prioritas telah memenangkan SQ Award selama enamtahun berturut-turut dari penghargaan pertama diterima pada tahun 2019,” ujarnya.  Seiring dengan penghargaan tersebut BRI juga terus memperluas dan meningkatkan layanannya untuk memenuhi kebutuhan nasabah dengan berbagai fasilitas yang tersedia.\n",
      "True Label: Positive, Predicted Label: Positive\n",
      "\n",
      "Text 14: Lokasi strategis De Batara Hotel memudahkan tamu menjelajahi berbagai tempat menarik di Bandung.  Hotel ini hanya berjarak 15 menit dari bandara dan 3 km dari pusat kotaTidak hanya itu.  De Batara Hotel dibangun pada tahun 2013, membuat fasilitas dan desainnya masih relatif baru dan modern.  Seperti diketahui, Gendis Siti Hatmanti merupakan anak kedua Bambang Trihatmodjo dan Halimah.  Dia lahir di Jakarta pada 26 September 1982.  Tahun 2024 ini, Panji genap berusia 42 tahun.  Gendis menempuh pendidikan di Sekolah Pelita Harapan, Jakarta.  Setelah lulus SMA, ia melanjutkan pendidikan di Universitas Indonesia jurusan Ilmu Komunikasi.  Gendis kemudian mengambil pendidikan pascasarjana di Universitas Pelita Harapan jurusan Magister Manajemen.  Bisnis 2 saudara Gendis Siti Hatmanti, Panji Adhikumoro dan Aditya Trihatmanto  Panji Adhikumoro  Panji merupakan anak sulung Bambang Trihatmodjo dan Halimah, memiliki nama lengkap Bambang Panji Adhikumoro Trihatmodjo.  Dia lahir pada 22 Juni 1986 di Surakarta.  Tahun 2024 ini, Panji genap berusia 38 tahun.  Panji Adhikumoro merupakan lulusan kampus luar negeri.  Dia menyelesaikan kuliah di American Interconintal University  Panji Adhikumoro menjalani kehidupan yang glamor dan bahagia bersama istri bulenya Varsha Strauss dan putri kecil mereka.  Dia diketahui merupakan seorang pengusaha yang menjabat sebagai Vice President Director di PT Hyundai Motors Indonesia (HMI) Hyundai Group.\n",
      "True Label: Neutral, Predicted Label: Neutral\n",
      "\n",
      "Text 15: KOSADATA - Menteri Pariwisata dan Ekonomi Kreatif/Kepala Badan Pariwisata dan Ekonomi Kreatif (Menparekraf /Kabaparekraf) Sandiaga Salahuddin Uno mengajak komunitas pelaku parekraf Palembang, Sumatra Selatan, untuk ikut memajukan sektor parekraf daerah.  \" Komunitas ini adalah garda terdepan kita (di sektor parekraf). Karena mereka yang terjun langsung di lapangan, mereka menggeluti bidang sesuai dengan passion mereka dan menjadi mitra pemerintah,\" kata Menparekraf Sandiaga dalam acara Netas (Nemuin Komunitas) Palembang di Taki Coffee, Minggu (15/9/2024).  Sandiaga menilai selama ini komunitas masih kurang banyak dilibatkan dalam upaya pengembangan potensi sektor parekraf.  Oleh karena itu, ia mengingatkan kepada pemerintah daerah, dalam hal ini Pemerintah Provinsi Sumatra Selatan dan Pemerintah Kota Palembang, untuk senantiasa merangkul komunitas dalam menggarap setiap potensi ekraf yang ada.  \"Itu karena komunitas merupakan bagian dari unsur pentahelix dalam membangun parekraf, ke depan kita ingin mereka menjadi bagian dari pengambilan kebijakan dan penyusunan program-program prioritas yang sesuai dengan apa yang dibutuhkan oleh masyarakat,\" katanya.  Selain itu, kehadiran komunitas juga penting untuk menjaga bahkan memperkuat pertumbuhan sektor pariwisata dan ekonomi kreatif yang banyak ditopang oleh UMKM. UMKM berkontribusi sebesar 97 persen ke penciptaan lapangan kerja di Indonesia.  \"Saya harap komunitas dapat terus menjadi mitra strategis pemerintah dalam menyosialisasikan berbagai langkah dan upaya kita bersama dalam mendorong pengembangan sektor pariwisata dan ekonomi kreatif terutama dengan memaksimalkan digitalisasi. Komunitas harus dapat memainkan peran dalam mengisi konten-konten atau narasi positif yang membangun pertumbuhan parekraf menuju Indonesia Emas 2045,\"  1 2\n",
      "True Label: Negative, Predicted Label: Negative\n",
      "\n",
      "Text 16: AYOBOGOR.COM -- Pencairan bansos Juli-September 2024 masih ditunggu oleh keluarga penerima manfaat.  Mengingat proses penyaluran PKH BPNT Juli-Agustus akan sudah selesai disalurkan secara umum. Dan hanya menyisakan beberapa pencairan lagi.  Ini menjadi angin segar bagi KPM yang pencairan bansosnya lewat PT Pos Indonesia.  Namun demikian akan ada peralihan penerima bantuan dari PT Pos Indonesia ke kartu KKS Merah Putih.  Melansir dari berbagai sumber, saat ini status di SIKS-NG masih dalam proses pembuatan rekening kolektif.  Beberapa KPM meski belum banyak, sudah ada yang menerima buku rekening sejahtera dan kartu KKS Merah Putih. Meski demikian dana bantuan belum dicairkan.  Diperkirakan bank penyaluran akan membutuhkan waktu yang cukup lama untuk membuatkan semua buku rekening dan kartu KKS bagi KPM yang terpilih.  Meski demikian, tidak semua KPM bakal dialihkan pencairannya ke kartu KKS.  Bagi KPM yang berada di wilayah 3T, pengambilan bansos diperkirakan masih menggunakan PT Pos Indonesia.  Jadi apabila proses burekol ini bisa dipercepat pembuatannya oleh bank penyalur, kemungkinan PKH dan BPNT Juli-September juga bakal dipercepat pencairannya.  Jadi KPM harap bersabar ya, diprediksi bansos cair di akhir September 2024.\n",
      "True Label: Positive, Predicted Label: Negative\n",
      "\n",
      "Text 17: kumparan Hadir di WhatsApp Channel  Follow  Kriyanusa yang merupakan pameran kerajinan dan seni kriya berskala nasional kembali hadir dengan mengusung tema “Perajin Muda, Lestarikan Warisan Budaya” pada 28 Agustus – 1 September 2024 di Hall A & Hall B, Jakarta Convention Center (JCC).  ADVERTISEMENT  Diselenggarakan setiap tahun oleh Dewan Kerajinan Nasional (DEKRANAS), acara ini merupakan bentuk komitmen untuk melestarikan serta mengembangkan hasil produk kriya Indonesia. Acara ini juga dirancang untuk mendorong pertumbuhan ekonomi dan perluasan pasar kriya Indonesia.  Dalam sambutannya, Ketua Umum Dewan Kerajinan Nasional (DEKRANAS) Wury Ma’ruf Amin yang merupakan istri Wakil Presiden Ma’ruf Amin mengungkapkan bahwa pameran tersebut mencerminkan komitmen untuk meneruskan tradisi dan warisan leluhur kepada generasi muda.  \"Indonesia adalah negeri yang kaya akan budaya dan tradisi. Seni kerajinan berbagai daerah yang diwariskan tidak hanya mencerminkan keindahan dan keterampilan, tetapi juga nilai-nilai identitas bangsa,\" katanya. Ia menambahkan, Kriyanusa adalah panggung bagi para perajin muda Indonesia untuk mempersembahkan karya-karya yang menghidupkan kembali kekayaan budaya Nusantara.  ADVERTISEMENT  Karya Kerajinan Tangan (Kriya) menjadi salah satu aset berharga untuk memenuhi permintaan pasar global akan kerajinan tangan yang khas Indonesia. Sebanyak ratusan produk milik pengrajin terampil dari seluruh pelosok negeri pun terpajang indah di acara tersebut.  PT Bank Rakyat Indonesia (Persero) Tbk atau BRI sebagai bank dengan fokus pada pemberdayaan UMKM di Indonesia mendukung acara tersebut dan turut serta menampilkan produk kriya terbaik dari UMKM binaan di Rumah BUMN BRI.  BRI pun berkesempatan memfasilitasi usaha lokal yang bergerak di bidang kriya tersebut agar semakin dikenal dunia. Sejumlah UMKM binaan hadir memamerkan sejumlah produk, yakni MINIMIZU dan Dannes Teakwood.  Pertama, MINIMIZU yang merupakan brand di bidang seni kreatif yang memiliki produk aquascape, paludarium, terrarium, dan moss art. UMKM ini memproduksi produk unik yang menyediakan berbagai macam bentuk model dan design sesuai permintaan konsumen.  Kemudian UMKM kedua, yakni Danesteakwood, produsen kerajinan kayu jati berbasis social enterprise dan green economy yang memanfaatkan limbah kayu jati untuk dijadikan produk homedecor dan housewares. UMKM ini menggunakan kualitas kayu terbaik dan berupaya memberdayakan pengrajin secara luas hingga ke seluruh pelosok Indonesia.  Terkait dukungan BRI terhadap pameran Kriyanusa 2024, Wakil Direktur Utama Catur Budi Harto mengungkapkan bahwa kesempatan berpartisipasi dalam kegiatan tahunan Dekranas merupakan bentuk komitmen nyata BRI dalam memberdayakan UMKM binaan. Hal ini sejalan dengan komitmen BRI dalam mewujudkan UMKM naik kelas hingga pasar global.  “Harapannya dengan adanya event berskala nasional seperti ini akan terus membuka akses dan kesempatan kepada para pelaku UMKM yang ujungnya dapat membuat mereka naik kelas,” ucapnya.  ADVERTISEMENT  Adapun UMKM yang bergabung mencapai 420 stan kriya, di antaranya 30% berasal dari pengrajin muda, kemudian ada 24 stan kuliner. Pameran yang tahun ini mengangkat ikon kebudayaan Kalimantan Timur tersebut dimeriahkan dengan berbagai acara seperti pameran, fashion show, talk show, dan lokakarya, serta musik.\n",
      "True Label: Positive, Predicted Label: Neutral\n",
      "\n",
      "Text 18: Liputan6.com, Samarinda - Seni tari merupakan salah satu seni pertunjukan yang ada di setiap sudut Nusantara. Tari tradisional di Kalimantan Timur juga merupakan kesenian yang berkembang tak hanya sebagai hiburan, melainkan juga sebagai identitas wilayah.  Kalimantan Timur memiliki kekayaan dan ragam budaya penuh makna, termasuk tarian-tariannya yang beragam. Mengutip dari kemenparekraf.go.id, berikut beberapa tari Kalimantan Timur yang penuh pesona:  Tari burung enggang atau tari kancet lasan merupakan tarian yang berasal dari Suku Dayak Kenyah. Pada zaman dahulu, tarian ini digunakan untuk menyambut pahlawan perang yang menang dalam peperangan.  Menurut kepercayaan masyarakat setempat, tarian ini dilambangkan sebagai simbol perpindahan masyarakat Dayak Kenyah dari satu tempat ke tempat lainnya. Hal itu berkaitan dengan kebiasaan masyarakat lokal yang dulunya sering berpindah tempat untuk mencari keselamatan dan menghindari perang antar suku.  Saat ini, tari burung enggang tak lagi digunakan untuk menyambut pahlawan perang. Kini, tarian ini sudah biasa ditampilkan untuk menyambut tamu pemerintahan, tamu kebesaran, hingga muncul di berbagai upacara adat.  2. Tari Datun Ngentau  Tari datun ngentau merupakan sebuah tarian adat Suku Dayak Kenyah di Kalimantan Timur. Tarian ini konon sudah berkembang sejak zaman nenek moyang.  Tarian ini kerap ditampilkan dalam upacara mecaq undat sebagai wujud ungkapan syukur atas hasil panen padi yang diperoleh. Setiap gerakan dalam tari datun ngentau memiliki arti tersendiri.  Sebut saja gerakan hentakan kaki dan gerakan maju yang menggambarkan kehidupan masyarakat Dayak Kenyah yang bergantung pada tenaga maupun kekuatan manusia secara fisik. Masyarakat setempat terbiasa berjalan kaki, masuk-keluar hutan, hingga naik gunung dalam aktivitasnya sehari-hari.  Selain itu, ada juga gerakan lambaian dan ayunan tangan yang melambangkan wujud syukur dan kegembiraan. Gerakan itu juga bisa disimbolkan sebagai permohonan keselamatan agar dijauhkan dari pengaruh jahat.\n",
      "True Label: Neutral, Predicted Label: Neutral\n",
      "\n",
      "Text 19: Detikntbcom – Menjelang ditetapkannya Calon Gubernur NTB Periode 2024-2029 oleh KPU NTB, dukungan sosial maupun politik ke pasangan Bacagub NTB Lalu Muhammad Iqbal dan Indah Dhamayanti Putri (Iqbal-Dinda) kian menguat.  Selain ditandai dengan kompaknya dukungan sepuluh partai politik, arus dukungan dari kelompok sosial, organisasi keagamaan dan masyarakat terus berdatangan.  Fakta terus mengalirnya dukungan sosial, masyarakat dan organisasi keagamaan kepada pasangan Iqbal – Dinda adalah bentuk real apresiasi terhadap tawaran-tawaran program dalam visi dan misi yang disampaikan pasangan ini dalam berbagai bentuk pertemuan dengan warga masyarakat.  Masyarakat dinilai mudah memahami dan dapat mencerna secara sederhana dan cepat ide-ide yang ditawarkan pasangan Iqbal-Dinda.  Juru Bicara Pasangan Iqbal-Dinda, Adhar Hakim menjelaskan kondisi seperti itu sebagai sebuah bentuk dukungan yang berbasis pada kesadaran rasional yang bersifat partisipatip. Bukan digerakan dengan bentuk-bentuk pemikiran irasional.  “Fakta-fakta seperti ini bagi kami menggembirakan dan sangat positif dalam memetakan agenda pemenangan pasangan Iqbal-Dinda,” ujar Adhar Hakim kepada Detikntbcom, Selasa 10 September 2024 di Mataram.  Tim Iqbal-Dinda memahami sejak awal publik memang harus diajak berfikir kritis rasional. Karena itu tawaran ide-ide Iqbal-Dinda juga selalu berbasis pada tawaran program yang real.  “Kami sadar sejak awal, biasanya godaan terbesar bagi kandidat jika terpilih kelak sebagai gubenur adalah memainkan kewenangan politik. Padahal selain politik, tanggung jawab yang jauh lebih besar dari seorang gubernur adalah menjalankan fungsinya sebagai kepala pemerintahan di daerah,” kata mantan Ketua Ombudsman NTB itu.  Karena itu katanya, baik visi maupun misi Iqbal-Dinda selalu berbasis pada nomenklatur kapasitas belanja APBD, dan fungsi, tugas dan kewenangan pemerintah provinsi.  Karena itulah juga sambungnya, disadari basis ideal penopang visi dan misi Iqbal-Dinda adalah kerja birokrasi yang akan ditata dengan pendekatan kapasitas dan kapabilitas kelembagaan ASN.  “Kami punya gagasan yang antara satu gagasan dengan gagasan lain tidak terlepas,” bebernya.  Misalnya katanya, ide pariwisata dan ekosistim industri komoditas unggulan, lalu pengembangan infrastruktur dan konektifitas serta isu lingkungan dan mitigasi bencana adalah ide-ide yang saling menunjang.  “Tapi kami juga sadar hal tersebut bisa cepat terlaksana jika ditunjang tranformasi kerja birokrasi yang berbasis enterpreneur kuat,” kata Adhar Hakim. Kami sepakat psikologikal ASN tidak boleh diganggu dengan praktek-praktek politisasi birokrasi.  Katanya, tawaran ide yang berbasis faktual yang mudah dicerna ini dapat diterima publik. Karena itu interaksi dan dialog akan terus dilakukan Iqbal-Dinda yang lebih suka blusukan ke berbagai kantong sosial baik di Pulau Lombok maupun Sumbawa.  “Tim juga sedang mematangkan terus agenda kampanye resmi yang sebentar lagi dimulai,” kata Adhar. (Iba)\n",
      "True Label: Neutral, Predicted Label: Neutral\n",
      "\n",
      "Text 20: SURABAYA (Suarapubliknews) ~ Kantor Wilayah Direktorat Jenderal Pajak (DJP) Jawa Timur I memulai kegiatan diseminasi Coretax System kepada wajib pajak strategis. Acara perdana ini berlangsung di Ruang Penyuluhan Kanwil DJP Jawa Timur I.  Kepala Bidang P2Humas Kanwil DJP Jawa Timur I Sugeng Pamilu Karyawan, yang mewakili Kepala Kanwil DJP Jawa Timur I, Sigit Danang Joyo mengatakan kegiatan diseminasi ini direncanakan berlangsung hingga November 2024, dengan sesi edukasi yang diadakan setiap dua hari sekali.  “Setiap sesi akan melibatkan 20 wajib pajak strategis yang diharapkan akan mendapatkan pemahaman mendalam Coretax, termasuk pengenalan antarmuka pengguna (user interface) dan tata cara penggunaan sistem tersebut,” katanya.  Coretax merupakan sistem administrasi layanan Direktorat Jenderal Pajak yang memberikan kemudahan bagi pengguna, baik internal maupun eksternal. Coretax meningkatkan otomatisasi dan digitalisasi layanan administrasi perpajakan dan mengintegrasikan berbagai layanan yang selama ini telah disediakan DJP seperti layanan pada DJP Online, e-Nofa, pembayaran, Eol, dan lainnya dengan menyatukan layanan tersebut dalam Coretax.  Coretax menyediakan layanan Perpajakan yang cepat, dapat diakses dari berbagai saluran (omni channel), dan dapat dimonitor secara real-time oleh wajib pajak (tracking) sehingga dapat menurunkan biaya kepatuhan (cost of compliance) wajlb pajak.  Coretax juga memberikan transparansi akun Wajib Pajak yang memungkinkan wajib pajak dapat melihat seluruh transaksi (360-degree view) sehingga mempermudah wajib pajak melakukan pemenuhan hak dan kewajiban perpajakannya dan menghadirkan pengawasan dan penegakan hukum yang lebih berkeadilan bagi wajib pajak melalui penerapan kepatuhan berbasis risiko.  Pada kegiatan ini, Coretax System diperkenalkan sebagai solusi untuk memudahkan dan mengurangi biaya kepatuhan wajib pajak. Wajib pajak yang diundang dalam sesi hari ini, langsung mempraktikkan penggunaan Coretax System dalam proses bisnis mereka, dengan pendampingan interaktif dari tim edukator Coretax Kanwil DJP Jawa Timur I.  “Kami sangat mengharapkan masukan dari Bapak/Ibu setelah menerima edukasi ini. Masukan tersebut akan kami eskalasi untuk penyempurnaan layanan saat Coretax diimplementasikan secara nasional,” ungkapnya.  Sugeng juga menambahkan bahwa diseminasi ini merupakan langkah strategis dalam mendukung transformasi digital di bidang perpajakan. “Dengan diperkenalkannya Coretax, kami berharap wajib pajak dapat merasakan kemudahan dan kecepatan dalam mengurus administrasi perpajakan. Sistem ini dirancang untuk meningkatkan akurasi dan efisiensi, sekaligus mengurangi potensi kesalahan dalam proses pelaporan,” tambahnya.  Kegiatan diseminasi ini diharapkan dapat menjadi katalisator dalam mempercepat implementasi Coretax di seluruh Indonesia, serta mendukung upaya pemerintah dalam meningkatkan layanan perpajakan yang modern dan berbasis teknologi.  Diseminasi ini juga menjadi bagian dari upaya DJP Jawa Timur I untuk mengedukasi wajib pajak tentang pentingnya transformasi digital dalam administrasi perpajakan. Dengan diperkenalkannya Coretax, diharapkan tidak hanya meningkatkan efisiensi dalam pelaporan pajak, tetapi juga meningkatkan kepatuhan wajib pajak melalui kemudahan dan kecepatan akses layanan.  Selain itu, DJP Jawa Timur I berkomitmen untuk terus mengembangkan program edukasi yang lebih komprehensif, sehingga semua wajib pajak di wilayah ini dapat beradaptasi dengan baik terhadap perubahan teknologi dalam sistem perpajakan. Melalui pendekatan yang proaktif dan inklusif, DJP berharap dapat menciptakan ekosistem perpajakan yang lebih modern dan responsif terhadap kebutuhan wajib pajak. (q cox, tama dini)\n",
      "True Label: Negative, Predicted Label: Negative\n",
      "\n",
      "Text 21: Liputan6.com, Jakarta - Rangkaian seri pameran otomotif Gaikindo Indonesia International Auto Show (GIIAS) 2024 siap dihelat di Surabaya. Gelaran yang diikuti puluhan merek otomotif ini, akan berlangsung 28 Agustus hingga 1 September, di Grand City Convex.  Merek-merek yang turut serta, total ada 32 yaitu kendaraan penumpang yang terdiri dari; Audi, BYD, Chery, Citroen, Daihatsu, DFSK, Honda, Hyundai, KIA, Lexus, Mazda, MG, Mitsubishi Motors, Nissan, Seres, Suzuki, Toyota, VinFast, Volkswagen dan Wuling, serta dari kendaraan komersial hadir DFSK dan juga Toyota Commercial.  Melengkapi merek merek kendaraan roda empat, hadir juga 10 kendaraan roda dua seperti; Alva, Aprilia, Kupprum, Moto Guzzi, Piaggio, Polytron, Royal Enfield, United E-motor, Vespa dan Volta.  Setiap peserta akan menampilkan model terbaru, teknologi serta desain inovatif hingga penawaran menarik yang dapat dieksplorasi lebih mendalam oleh pengunjung.  \"Kami telah mempersiapkan seluruh rangkaian kegiatan dan fasilitas yang akan membuat para pengunjung GIIAS Surabaya 2024 merasakan momen yang tidak terlupakan selama berkunjung,\" ujar Sri Vista Limbong, Project Director GIIAS 2024, dalam keterangan resmi, Jumat (23/8/2024).  Pengunjung dapat menjajal berbagai kendaraan impian di area outdoor Grand City Convex yang berada sepanjang 1.4 kilometer.  Area Test Drive dan Test Ride ini menjadi kesempatan yang tidak boleh dilewatkan pengunjung untuk dapat merasakan langsung performa, kenyamanan, dan fitur kendaraan secara langsung sebelum membuat keputusan pembelian.\n",
      "True Label: Neutral, Predicted Label: Neutral\n",
      "\n",
      "Text 22: JawaPos.com - Polres Metro Bekasi Kota resmi menahan Pegawai Direktorat Jenderal Pajak berinisial FAF. Dia sebelumnya sudah ditetapkan sebagai tersangka kekerasan dalam rumah tangga (KDRT) terhadap istrinya.  \"Perkemarin malam kita lakukan penangkapan dan tadi siang hari ini sudah kita lakukan penahanan,\" ucap Kasat Reskrim Polres Metro Bekasi Kota, Kompol Audy Joize Oroh, Rabu (28/8).  Penahanan dilakukan usai FAF diperiksa sebagai tersangka. Penyidik menilai, pelaku sudah memenuhi syarat untuk ditahan.  \"Untuk tersangka kita sudah lakukan pemeriksaan tersangka kemarin dan tersangka sudah didampingi pengacaranya juga,\" jelasnya.  Sebelumnya, pegawai Direktorat Jenderal Pajak berinisial FAF ditetapkan sebagai tersangka karena diduga melakukan KDRT terhadap istrinya. Keputusan ini diambil setelah melalui gelar perkara pada 23 Agustus 2024.  \"Sudah ditetapkan sebagai tersangka,\" ujar Kabid Humas Polda Metro Jaya Kombes Pol Ade Ary Syam Indradi.\n",
      "True Label: Positive, Predicted Label: Positive\n",
      "\n",
      "Text 23: \"Kerja sama pengembangan ekosistem hidrogen merupakan bagian dari upaya perseroan untuk mempercepat transisi energi sekaligus mendukung target pemerintah mencapai Net Zero Emission pada 2060,\" ujar Direktur Strategi, Portofolio, dan Pengembangan Usaha Pertamina Salyadi Dariah Saputra melalui keterangan tertulis, Kamis .  Salyadi menambahkan pengembangan hidrogen hijau akan jadi tren dunia dan bisa menjadi salah satu bisnis masa depan Pertamina. Pengembangan hidrogen memerlukan investasi besar serta dukungan regulasi dari Pemerintah sehingga ekosistem hidrogen di sektor transportasi bisa terbangun dengan baik.“Pertamina menyambut baik kerja sama dengan Hyundai Motor Company dan kolaborasi ini diharapkan akan mendorong upaya dekarbonisasi dan penggunaan energi bersih di sektor transportasi,” imbuhnya.  Kesepakatan antara Pertamina dengan Hyundai Motor Company diwujudkan melalui Perjanjian Kerja Sama oleh Direktur Strategi, Portofolio dan Pengembangan Usaha Pertamina, Salyadi Dariah Saputra dan representative dari Hyundai Motor Company pada 30 Mei 2024. Arco Ardjuna, kapal penampung produksi minyak mentah milik Pertamina Hulu Energi Offshore North West Java , mengakhiri masa baktinya pada 14 Agustus 2024.  Berita ini telah kami rangkum agar Anda dapat membacanya dengan cepat. Jika Anda tertarik dengan beritanya, Anda dapat membaca teks lengkapnya di sini. Baca lebih lajut:  Indonesia Berita Terbaru, Indonesia Berita utama  Similar News: Anda juga dapat membaca berita serupa dengan ini yang kami kumpulkan dari sumber berita lain.  Percepat Transisi Energi, Pertamina-Hyundai Motor Company Sepakat Kembangkan Ekosistem Hidrogen Pertamina secara berkelanjutan menjalin kerja sama dengan mitra strategis global dalam mengembangkan energi hijau yang lebih ramah lingkungan. Sumber: KompasTV - 🏆 22. / 63 Baca lebih lajut »  Hyundai STARGAZER Tampilkan Fitur Canggih untuk Keluarga Modern di GIIAS 2024 Hyundai menampilkan sederet produk unggulannya, salah satunya MPV tujuh penumpang Hyundai STARGAZER Sumber: suaradotcom - 🏆 28. / 53 Baca lebih lajut »\n",
      "True Label: Negative, Predicted Label: Negative\n",
      "\n",
      "Text 24: JAKARTA, iNews. id - Menteri Keuangan atau Menkeu Sri Mulyani Indrawati menyebutkan bahwa Program Makan Bergizi Gratis adalah program prioritas pemerintahan baru di bawah kepemimpinan Presiden dan Wakil Presiden terpilih Prabowo Subianto-Gibran Rakabuming Raka.  Untuk anggaran yang akan dialokasikan sendiri sebesar Rp71 trilun di 2025. Hingga saat ini program unggulan Prabowo-Gibran terus disempurnakan oleh tim khusus yang sudah dibentuk. Sehingga, Sri Mulyani belum mengungkap detailnya.  \"Untuk program prioritas Presiden terpilih makanan bergizi yang Rp71 triliun sudah ada di sini. Nanti akan dijelaskan dari tim makanan bergizi gratis yang saat ini terus disempurnakan,\" ujar Menkeu Sri Mulyani saat konferensi pers RAPBN 2025 di Kantor Pusat Direktorat Jenderal Pajak, Jakarta Selatan, Jumat (16/8/2024).\n",
      "True Label: Negative, Predicted Label: Negative\n",
      "\n",
      "Text 25: Sebanyak enam wakil Indonesia tampil di babak pertama hari kedua Korea Open 2024, namun sayang, tak semua pemain berhasil melaju ke 16 besar ajang bergengsi iniSebanyak enam wakil Indonesia tampil di babak pertama Korea Open 2024, namun sayang, tak semuanya berhasil melaju ke babak selanjutnya.Chico Aura Dwi Wardoyo menjadi wakil Garuda pertama yang tersingkir, usai kalah dari Jason Gunawan selaku tunggal putra keturunan Indonesia.  Ustaz Abdul Somad menerangkan hukum orang telah mengambil air wudhu langsung shalat tiba-tiba disentuh atau dijilat kucing. Mari simak penjelasannya di sini! Polisi mengungkap bahwa istri dari pegawai Direktorat Jenderal Pajak yang menjadi korban Kekerasan Dalam Rumah Tangga suaminya, mengalami stres.  Dalam sebuah kajian, Habib Novel Alaydrus mengungkapkan hukum dalam Islam ketika seseorang berwudhu tanpa mengenakan pakaian. Seperti apa? Simak artikelnya  Berita ini telah kami rangkum agar Anda dapat membacanya dengan cepat. Jika Anda tertarik dengan beritanya, Anda dapat membaca teks lengkapnya di sini. Baca lebih lajut:  Indonesia Berita Terbaru, Indonesia Berita utama  Similar News: Anda juga dapat membaca berita serupa dengan ini yang kami kumpulkan dari sumber berita lain.  Rekap Hasil Wakil Indonesia di Olimpiade 2024 Hari Ini: 2 Wakil Tersingkir, 1 Wakil Melaju ke Perempat Final Rekap hasil wakil Indonesia di Olimpiade 2024 hari ini, 1 Agustus 2024. Sumber: Bolanet - 🏆 20. / 63 Baca lebih lajut »  Daftar Pebulu Tangkis Indonesia dan Hasil Drawing Korea Open 2024 Daftar pebulu tangkis Indonesia dan hasil drawing Korea Open 2024 pada 27 Agustus-1 September 2024. Sumber: Bolanet - 🏆 20. / 63 Baca lebih lajut »  Rekap Hasil Korea Open 2024: Leo/Bagas dan Fikri/Daniel ke 16 Besar Dua pasangan ganda putra Indonesia, Leo/Bagas dan Fikri/Daniel, berhasil menembus babak 16 besar Korea Open 2024. Sumber: KompasTV - 🏆 22. / 63 Baca lebih lajut »  Jadwal Lengkap Korea Open 2024, 27 Agustus-1 September 2024 Jadwal lengkap pertandingan Korea Open 2024 pada 27 Agustus-1 September 2024. Sumber: Bolanet - 🏆 20. / 63 Baca lebih lajut »\n",
      "True Label: Neutral, Predicted Label: Negative\n",
      "\n",
      "Text 26: POS-KUPANG.COM, KUPANG - Adira Finance Cabang Kupang kembali menggelar Green Expo yang kedua dengan pengajuan kredit akan mendapatkan cashback sebesar Rp 500 ribu.  Green Expo kedua ini disponsori oleh Adira Finance dan Adira Finance Syariah berlangsung di Ramayana Mall Kupang, mulai tanggal 27 Agustus sampai dengan 1 September 2024.  Head Of Branch SSD Adira Finance Cabang Kupang, Andrianus Manu mengatakan, kegiatan tersebut merupakan lanjutan dari green expo pertama yang digelar pada bulan Juli 2023 lalu.  \"Kegiatan ini merupakan kegiatan kedua kami yaitu \"Green Expo\" yang sudah dijalankan di bulan Juli lalu dan sukses kami adakan. Saat ini kami adakan pada bulan Agustus ini dalam rangka HUT RI juga,\" kata Andrianus atau yang akrab disapa Andre.  Dalam pameran ini, kata Andre, Adira Finance Cabang Kupang mengadakan pameran mobil, motor dan sepeda listrik yang baru maupun yang bekas dari semua jenis merek.  \"Adapun benefit yang didapat jika mengajukan kredit di sini yaitu cashback sampai dengan Rp 500 ribu adira point, uang muka motor mulai dari 10 persen, uang muka mobil mulai dari 15 persen, ada approval atau persetujuan di tempat, begitu pun bunga untuk mobil baru khusus untuk passanger 2,68 persen per tahun. Kemudian untuk motor listrik subsidi Rp 7 juta dan tentunya berhadiah langsung,\" ungkap Andre.  Andre mengimbau kepada masyarakat Kota Kupang yang mau menggantikan mobil atau pun tukar tambah mobil lama, misalnya tahun 2010 ke atas, untuk passenger bisa ditukar dengan mobil baru dalam pameran tersebut.  \"Jadi tukarnya ini tanpa DP, langsung ditukar saja. Begitu juga dengan motor yang tahun 2015 ke atas, mungkin sudah dirasa lama dan mau ditukar dengan yang baru dengan semua jenis merek bisa kita layani tukar tambah di sini,\" bebernya.  Andre menambahan dalam kegiatan itu juga, Adira Finance membagikan paket sekolah untuk panti asuhan At-Tin, Namosain dan paket bantuan operasional panti asuhan At-Tin sebesar Rp 10 juta.  \"Harapan kami dengan acara ini mudah-mudahan animo masyarakat besar yang mau berbelanja di Ramayana maupun mau mengajukan pembiayaan di Adira Finance Karena, pada bulan Juni kemarin kami membukukan penjualan sebesar Rp 1,6 miliar. Harapan kami dalam Green Expo ini di atas itu, minimal Rp 1,8 miliar atau sebanyak 10 unit mobil terjual, selebihnya motor, baik yang baru maupun yang bekas,\" ungkapnya. (cr20)\n",
      "True Label: Negative, Predicted Label: Negative\n",
      "\n",
      "Text 27: Semoga dalam lingkup ASEAN ini bisa semakin mempererat hubungan antar bangsa dan talenta-talenta terbaik kita  Kupang (ANTARA) - Menteri Pariwisata dan Ekonomi Kreatif/Kepala Badan Pariwisata dan Ekonomi Kreatif (Menparekraf/Kabaparekraf) Sandiaga Salahuddin Uno menyebutkan pembukaan IndoFringe InovArt Exhibition sekaligus pameran karya Duta Besar India untuk ASEAN (Asosiasi Negara Asia Tenggara/Association of Southeast Asian Nations) Jayant N. Khobragade, sebagai perekat hubungan diplomatik antara Indonesia dan India.  Menparekraf dalam keterangan yang diterima di Kupang, Jumat mengatakan pameran yang mengusung tema \"A Nature's Symphony: Whispering Leaves, Joyful Dances, Gods of Grace\" dinilai mampu menggerakkan salah satu dari 17 subsektor ekraf di Indonesia, yaitu seni rupa.  \"Saya sangat mengapresiasi produk ekonomi kreatif ini. Semoga dalam lingkup ASEAN ini bisa semakin mempererat hubungan antar bangsa dan talenta-talenta terbaik kita,\" kata Sandiaga.  Tak hanya itu, ia juga meyakini lukisan karya Jayant N. Khobragade ini bisa mempererat hubungan Indonesia sebagai salah satu anggota ASEAN, dengan India sebagai mitra di sektor ekonomi kreatif.  Ia menuturkan pameran ini diisi dengan lelang berbagai lukisan karya Jayant yang akan dilelang untuk disumbangkan sebagai beasiswa bagi kaum perempuan.  \"Oleh karena itu, saya berharap bagi para pengunjung pameran ini bisa berpartisipasi dalam lelang tersebut. Sehingga kapasitas sumber daya manusia kaum perempuan di Indonesia bisa meningkat,” katanya.  Pameran ini juga dihadiri oleh Sekretaris Deputi Bidang Produk Wisata dan Penyelenggaraan Kegiatan (Events) Kemenparekraf/Baparekraf Ni Komang Ayu Astiti.\n",
      "True Label: Negative, Predicted Label: Negative\n",
      "\n",
      "Text 28: Jakarta, CNBC Indonesia - Ketua Umum Asosiasi Pengusaha Indonesia (Apindo) Shinta Widjaja Kamdani menyebut, pengusaha yang patuh dengan peraturan berlaku tidak akan terdampak ataupun merasa was-was dengan kewenangan tambahan Direktorat Jenderal Pajak (DJP) yang bisa mengakses informasi rekening nasabah, yang menyimpan uang sebesar Rp1 miliar, untuk kepentingan perpajakan.  Ia mengatakan, sebetulnya kewenangan tambahan tersebut bukan merupakan hal baru yang diatur terkait dengan automatic exchange of financial information. Katanya, hal itu sudah dulu diatur dalam Undang-undang (UU) Nomor 9 Tahun 2017 tentang Akses Informasi Keuangan untuk Kepentingan Perpajakan, beserta aturan turunannya.  \"PMK terbaru ini lebih mengatur petunjuk teknis bagi Lembaga Jasa Keuangan dan pendukungnya,\" kata Shinta kepada CNBC Indonesia, Rabu (14/8/2024).  Hanya saja, Shinta menyoroti bahwa kepatuhan pajak pada hakikatnya merupakan kewajiban wajib pajak masing-masing. Sehingga, apabila terjadi ketidakpatuhan maka wajib pajak yang bersangkutan lah yang harus mempertanggungjawabkannya.  \"Pengusaha yang sudah patuh tidak akan terdampak atas pengaturan ini, dan yang belum patuh tentu menimbulkan rasa was-was,\" ujarnya.  Kendati demikian, ia tetap berharap agar DJP tidak melakukan tindakan yang berpotensi terjadi penyalahgunaan wewenang atau abuse of power.  Foto: CNBC Indonesia/Muhammad Sabki Ilustrasi Uang  \"Harapannya, pengaturan yang lebih seksama ini, termasuk pengenaan sanksi pemeriksaan bukti permulaan, agar jangan menimbulkan potensi-potensi terjadinya penyalahgunaan kewenangan. Perhatian khusus juga perlu diberikan atas keamanan pertukaran data secara elektronik, karena rawan terjadinya kebocoran informasi oleh pihak yang tidak berwenang,\" pungkas dia.  Sebelumnya, DJP telah memiliki kewenangan tambahan untuk mendapatkan akses informasi keuangan untuk kepentingan perpajakan. Pemilik rekening bank yang bisa diintip isinya oleh otoritas pajak pun dilarang bersekongkol untuk menutup akses tersebut.  Nominal pemilik rekening yang bisa diintip isinya oleh Ditjen Pajak ialah sebesar Rp 1 miliar, sebagaimana tertuang dalam Pasal 19 Peraturan Menteri Keuangan (PMK) Nomor 19 Tahun 2018, yang menggantikan batasan sebelumnya dalam PMK 70/2017 sebesar Rp 200 juta.  Selain itu, dalam pasal 7 PMK tersebut disebutkan pihak lembaga jasa keuangan juga wajib menyampaikan laporan yang berisi informasi keuangan untuk setiap Rekening Keuangan yang agregat saldo atau nilai rekening keuangannya melebihi US$ 250.000.  \"Bank merupakan salah satu jenis lembaga keuangan pelapor informasi keuangan dan berkewajiban untuk melakukan identifikasi rekening keuangan (due diligence) serta melaporkannya kepada DJP seusai standar yang berlaku,\" kata Direktur Penyuluhan, Pelayanan, dan Hubungan Masyarakat DJP Dwi Astuti kepada CNBC Indonesia, dikutip Senin (12/8/2024).  Adapun pihak-pihak yang melakukan persekongkolan untuk menghalang-halangi Direktorat Jenderal Pajak mendapatkan akses informasi keuangan untuk kepentingan perpajakan tersebut, akan kehilangan layanan pembukaan rekening baru hingga transaksi di perbankan.\n",
      "True Label: Negative, Predicted Label: Negative\n",
      "\n",
      "Text 29: JAKARTA - PT Bank Danamon Indonesia Tbk (Danamon) and PT Adira Dinamika Multi Finance Tbk (Adira Finance) participated in the SPOGOMI activity which took place on Sunday, September 1, 2024, during Car Free Day in front of the Mori Tower Building, Sudirman, Jakarta. Jin Yoshida, as Director of the Global Alliance Strategy Danamon (low right) was also present with Danamon volunteers.  Jin Yoshida said: 'SPOGOMI is a sports activity while collecting popular garbage in Japan, and through this activity we together with our subsidiary, Adira Finance, participate to show our commitment to helping reduce the amount of garbage on the road which of course can have a good impact on the environment.'  This SPOGOMI event is in the form of a competition, where there are regulations, namely that participants must remain in the area that has been determined by the committee, if participants leave the designated area they will be disqualified.  There are several types of waste collected at this event, where Danamon and Adira collect the type of 'Residu' waste or the type of garbage that is difficult or cannot be recycled easily which will get 50 points for every 100gr of waste collected.  Through SPOGOMI activities, Danamon and Adira collaborate with the Recosystem and show their commitment to continue to provide the best not only for the environment but also for the community in carrying out transaction activities, through various services offered such as: D-Bank PRO, the mobile banking Danamon application where customers can enjoy cashback of 10% for transactions at the diversity, and the opening of JCB credit cards with attractive souvenirs during this event.  The English, Chinese, Japanese, Arabic, and French versions are automatically generated by the AI. So there may still be inaccuracies in translating, please always see Indonesian as our main language. (system supported by DigitalSiber.id)\n",
      "True Label: Negative, Predicted Label: Negative\n",
      "\n",
      "Text 30: Palembang (ANTARA) -  Kementerian Pariwisata dan Ekonomi Kreatif mendorong Kota Palembang, Sumatera Selatan menjadi kota kreatif UNESCO agar dapat membuka lapangan usaha dan lapangan kerja lebih besar lagi untuk masyarakat.  Menteri Pariwisata dan Ekonomi Kreatif Sandiaga Uno di Palembang, Minggu, mengatakan bahwa dengan mengajukan Kota Palembang sebagai kota kreatif UNESCO agar bisa membuka lapangan usaha dan lapangan kerja lebih besar lagi untuk masyarakat.  Ia menyampaikan bahwa untuk mendorong hal tersebut, inovasi-inovasi di bidang usaha mikro kecil menengah (UMKM) harus lebih banyak dikembangkan begitu juga dengan berbagai event atau kegiatan sehingga dapat menciptakan kolaborasi dalam pengembangan usaha.  \"Kita harapkan Kota Palembang bisa menjadi kota kreatif dari UNESCO bakal diajukan. Sehingga bisa membuka lapangan usaha dan lapangan kerja lebih besar lagi untuk masyarakat,\" katanya.  Sementara itu Pj Wali Kota Palembang Ucok Abdulrauf Darmenta berkomitmen untuk terus mendukung para pelaku UMKM dan ekonomi kreatif di Kota Palembang.  Termasuk dengan pemanfaatan lokasi- lokasi baru yang bisa diberdayakan oleh para pelaku UMKM dan ekonomi kreatif.  \"Kami melihat banyak aset di Palembang bukan aset kita, tapi provinsi maka kami sudah koordinasi. Ada aset museum tekstil yang akan dihidupkan kembali sehingga UMKM dan yang berkaitan dengan ekonomi kreatif kita bisa display disana,\" ucapnya.  Ia menambahkan bahwa saat ini Palembang sudah masuk dalam Karisma Event Nusantara (KEN) yang diseleksi oleh Kemenparekraf mengalahkan ratusan kabupaten/kota lainnya.  Hal ini menunjukkan bahwa pemerintah kota terus berkomitmen dalam pengembangan dan kemajuan Kota Palembang dari berbagai sektor terkhusus UMKM dan ekonomi kreatif.\n",
      "True Label: Negative, Predicted Label: Negative\n",
      "\n",
      "Text 31: MEDIANEKITA.com - Ketegangan antara kelompok organisasi masyarakat (ormas) dan debt collector kembali pecah.  Kali ini, bentrokan terjadi di kawasan Cikarang Square, Cikarang Selatan, Kabupaten Bekasi.  Insiden ini dipicu oleh penarikan mobil leasing oleh pihak Adira Finance terhadap salah satu anggota ormas.  Konfirmasi ini disampaikan langsung oleh Kapolsek Cikarang Selatan, Kompol Rudi Wiransyah.  Menurutnya, bentrokan bermula saat petugas debt collector hendak menarik mobil yang cicilannya menunggak selama lima bulan.  Tidak terima kendaraan pribadinya ditarik, anggota ormas tersebut kemudian mengajak rekan-rekannya untuk mendatangi kantor leasing.  \"Awalnya ada penarikan mobil leasing, lalu terjadi pertemuan antara kedua belah pihak. Namun, karena tidak menemukan titik temu, akhirnya terjadilah keributan,\" ujar Rudi, Kamis (29/8/2024).  Bentrokan yang melibatkan puluhan orang ini sempat terekam kamera dan viral di media sosial.  Dalam video yang beredar, terlihat kedua kelompok terlibat aksi saling dorong dan pukul.  Akibat kejadian ini, setidaknya dua orang dari pihak leasing mengalami luka-luka.  \"Kedua belah pihak sudah membuat laporan polisi. Kami akan melakukan penyelidikan lebih lanjut untuk mengungkap penyebab pasti dari bentrokan ini,\" tegas Rudi.***\n",
      "True Label: Neutral, Predicted Label: Neutral\n",
      "\n",
      "Text 32: JAKARTA, SUDUTPANDANG.ID – Kantor Wilayah (Kanwil) Direktorat Jenderal Pajak (DJP) Jakarta Barat hingga 31 Juli 2024 telah membukukan capaian penerimaan bruto sebesar Rp41,12 triliun dan penerimaan neto sebesar Rp36,29 triliun atau 55,98 persen dari target APBN sebesar Rp64,83 triliun.  Dalam taklimat media yang diterima Sudutpandang.id di Jakarta, Jumat (16/8/2024) disebutkan capaian ini mengalami pertumbuhan dibandingkan tahun lalu sebesar 3,33 persen.  Sedangkan secara nasional, realisasi penerimaan pajak sampai dengan 30 Juni 2024 penerimaan bruto sebesar Rp1.240,13 triliun dan penerimaan neto sebesar Rp1.045,32 triliun atau 52,56 persen dari target APBN sebesar Rp1.988,88 triliun.  Capaian Kanwil DJP Jakarta Barat Semester I tahun 2024 berdasarkan jenis pajaknya terdiri atas Pajak Penghasilan sebesar Rp17,53 triliun, Pajak Pertambahan Nilai dan Pajak Penjualan Barang Mewah sebesar Rp18,73 triliun, PBB dan BPHTB negatif sebesar Rp18,7 juta, Pendapatan PPh DTP sebesar Rp1,37 juta, dan Pajak lainnya sebesar Rp23,65 miliar.  Empat sektor kegiatan usaha di Jakarta Barat yang memberi kontribusi dominan sebesar 75,96 persen terhadap realisasi penerimaan adalah sektor perdagangan sebesar Rp17,99 triliun (49,59 persen), sektor industri pengolahan sebesar Rp5,62 triliun (15,50 persen), sektor pengangkutan pergudangan sebesar Rp2,15 triliun (5,94 persen), dan sektor konstruksi sebesar Rp1,79 triliun (4,94 persen).  Dari sisi kepatuhan pelaporan SPT Tahunan, kinerja penerimaan SPT Tahunan Kanwil DJP Jakarta Barat sampai dengan 30 Juli 2024 telah mencapai 84,35 persen, atau telah menerima 347.998 SPT Tahunan dari target sebanyak 412.582 SPT.  Kepala Kanwil DJP Jakarta Barat Farid Bachtiar menyampaikan optimismenya dalam pencapaian target 2024.  Ia yakin bahwa pengusaha atau wajib pajak di Jakarta Barat memiliki optimisme yang sama sehingga dukungan dari para wajib pajak tersebut akan bisa mendorong penerimaan Kanwil DJP Jakarta Barat diatas 100%.  Menambahkan dasar optimismenya, Farid menyampaikan bahwa jumlah wajib pajak di Jakarta Barat dan jumlah wajib pajak yang membayar pajaknya tahun ini mengalami peningkatan, sehingga diharapkan berdampak pada kenaikan pencapaian penerimaan tahun ini.  Melansir konferensi pers Forum Assets Liabilities Committee (ALCO) Regional DKI Jakarta pada tanggal 16 Agustus 2024, Kepala Kanwil Direktorat Jenderal Perbendaharaan Provinsi DKI Jakarta Mei Ling menyampaikan perkembangan beberapa indikator ekonomi di Provinsi DKI Jakarta.  Ekonomi Jakarta pada Triwulan II tahun 2024 bertumbuh sebesar 4,90 persen (yoy) dan sebesar 1,38 persen (qtq), melambat 0,12 poin dari triwulan I 2024 dan di bawah batas psikologis (5 persen).  Pada Juli 2024 terjadi inflasi 1,97 persen (yoy) turun 0,26 poin dari bulan Juni (2,23 persen) dengan IHK 105,04 dan deflasi 0,06 persen (mtm) serta inflasi 0,85 persen (ytd).  Neraca Perdagangan bulan Juli menyajikan kinerja ekspor mencapai 5,10 miliar dolar AS dan impor mencapai 6,50 miliar dolar AS, sehingga tercatat defisit neraca perdagangan sebesar 1,40 miliar dolar AS.  Secara kumulatif Jan-Juli 2024, neraca perdagangan tercatat defisit 6,34 miliar dolar AS atau naik 6,71 miliar dolar AS.  Defisit ini antara lain akibat karakteristik perdagangan Jakarta yang menjadi salah satu hub internasional yang didominasi impor.  Dari sisi penerimaan pajak DKI Jakarta, Kepala Bidang Penyuluhan Pelayanan dan Hubungan Masyarakat Kanwil DJP Jakarta Utara Hendriyan menyampaikan secara rinci kinerja pendapatan pajak di DKI Jakarta yang mengalami perlambatan dengan total capaian sebesar Rp741,43 triliun dengan total capaian 56,29 persen dari target pajak 2024.  Tren penurunan pendapatan pajak akibat penurunan komoditas dan kenaikan restitusi masih berdampak sampai dengan periode Juli dengan kontraksi sebesar 10,28 persen (yoy) akibat penurunan di beberapa jenis pajak, utamanya PPh Non Migas yang turun 10,70 persen (yoy).  Mayoritas jenis pajak utama masih tumbuh positif dengan pertumbuhan tertinggi pada PPh Pasal 21 (25,69 persen), terutama pajak-pajak transaksional (non-PPh Badan) yang masih tumbuh seiring dengan aktivitas ekonomi yang terjaga.  Kinerja PPN terkontraksi, utamanya akibat penurunan PPN Dalam Negeri sebagai dampak kenaikan restitusi.  PPh Migas menurun akibat turunnya penerimaan PPh Minyak Bumi dan Gas Alam karena penurunan lifting migas.  PBB dan Pajak lainnya menurun karena tidak terulangnya pembayaran tagihan pajak pada tahun 2023.  Kepala Bidang Kepabeaan dan Cukai Kanwil Direktorat Jenderal Bea dan Cukai DKI Jakarta Muhammad Hilal Nur Sholihin melengkapi konferensi pers dengan menyampaikan kinerja penerimaan Kepabeanan dan Cukai DKI Jakarta hingga dengan 31 Juli 2024 membaik.  Penerimaan Kepabeanan dan Cukai sebesar Rp12,71 triliun dengan capaian sebesar 45,91 persen dari target APBN, turun 5,84 persen (yoy).  Kinerja Penerimaan Negara Bukan Pajak (PNBP) tetap terjaga ditopang kenaikan PNBP SDA.  Hal ini disampaikan oleh Didik Hariyanto, Kepala Bidang Kepatuhan Internal, Hukum, dan Informasi Kanwil Direktorat Jenderal Kekayaan Negara DKI Jakarta.  Sampai dengan 31 Juli 2024, PNBP mencapai Rp241,61 triliun atau 102,39 persen dari target dan mengalami kenaikan sebesar 2,96 persen (yoy). (PR/02)\n",
      "True Label: Negative, Predicted Label: Negative\n",
      "\n",
      "Text 33: PortalMagetan.com -Info seputar lowongan kerja di industri makanan dan minuman bakal diulas dalam artikel ini memasuki bulan September 2024. Setelah PT Tirta Fresindo Jaya resmi membuka rekrutmen karyawan baru.  Jobseeker yang ingin bergabung dan mendaftar ke PT Tirta Fresindo Jaya agar menyiapkan CV terbaik sehingga meningkatkan potensi dipanggil oleh rekruter untuk sesi wawancara atau interview.  PT Tirta Fresindo Jaya dalam membuka lowongan kerja menetapkan kualifikasi pendidikan minimal S1, dengan jurusan sesuai formasi yang tersedia. Lowongan kerja ini terbuka baik bagi fresh graduate maupun pengalaman.  PT Tirta Fresindo Jaya menyatakan kandidat yang lolos dalam seleksi ini bakal ditempatkan diseluruh wilayah PT Tirta Fresindo Jaya.  PT Tirta Fresindo Jaya (Mayora Group) merupakan anak perusahaan PT. MAYORA INDAH Tbk yang berdiri pada tahun 1977 dengan pabrik pertama berlokasi di Tangerang menjadi perusahaan pablik pada tahun 1990. Kegiatan usaha serta jenis produk yang dihasilkan sesuai dengan anggaran dasarnya, kegiatan usaha perseroan diantaranya adalah dalam bidang industri. Saat ini PT. Mayora Indah Tbk memproduksi dan memiliki 6 devisi yang masing masing menghasilkan berbeda namun terintegrasi. Di Indonesia, perseroan tidak hanya dikenal sebagai perusahaan yang memproduksi makanan dan minuman olahan, tetapi juga dikenal sebgai market leader yang sukses menghasilkan produk produk yang menjadi pelopor pada kategorinya masing masing.  PT Mayora Indah Tbk (MYOR) tak pernah berhenti berinovasi mengeluarkan produk baru. Tiap kali menampilkan iklan di televisi, slogan “Satu Lagi dari Mayora” selalu muncul di akhir iklan. Slogan pemasaran ini mengisyaratkan selalu ada produk baru dari salah satu pemain dalam industri makanan dan minuman di Indonesia itu. Lewat PT Tirta Fresindo Jaya, Mayora merambah pula ke pasar air minum dalam kemasan dengan merek Le Minerale.  Saat ini PT Tirta Fresindo Jaya kembali membuka lowongan kerja terbaru pada bulan September 2024. Adapun dibawah ini adalah posisi jabatan yang saat ini tersedia bagi Anda para pencari kerja yang tertarik untuk mengembangkan karir Anda bersama PT Tirta Fresindo Jaya dengan kualifikasi sebagai berikut.  Lowongan Kerja PT Tirta Fresindo Jaya (Mayora Group)\n",
      "True Label: Neutral, Predicted Label: Neutral\n",
      "\n",
      "Text 34: Dalam momentum hari jadi Provinsi Jabar yang ke-79 tahun, sejumlah rangkaian disiapkan dalam acara West Java Festival 2024. Acara perayaan hari ulang tahun Jabar ini akan diselenggarakan sejak tanggal 21-25 Agustus 2024.  Pada hari puncaknya yakni Minggu nanti malam, ditutup dengan konser musik di Lapangan Saparua Bandung. Konser musik ini akan menampilkan sejumlah artis top ibu kota asal Jabar. Siapa saja kah mereka? Simak berikut daftar pengisi acara dan lini masa mereka yang bakal tampil dalam WJF 2024.Aturan Boleh dan Tidak Boleh di Lapangan Saparua  Sebelum berangkat ada baiknya mengetahui terlebih dahulu apa saja yang boleh dan tidak boleh dibawa. Ini untuk kepentingan dan kenyamanan seluruh pengunjung.Nah detikers, itulah tadi penjelasan terkait panduan dan hal yang perlu diketahui sebelum datang ke Konser WJF 2024 malam ini. Pantau terus update kegiatannya di lamanWest Java Festival 2024 didukung oleh Bank BJB sebagai Official Bank Partner, Le Minerale sebagai Official Mineral Water dan PT Migas Utama Jabar.  Tulis Komentar  Writer:  Terima kasih atas komentar Anda. Komentar Anda akan dipublikasikan setelah ditinjau.  Berita ini telah kami rangkum agar Anda dapat membacanya dengan cepat. Jika Anda tertarik dengan beritanya, Anda dapat membaca teks lengkapnya di sini. Baca lebih lajut:  Indonesia Berita Terbaru, Indonesia Berita utama  Similar News: Anda juga dapat membaca berita serupa dengan ini yang kami kumpulkan dari sumber berita lain.  Ini Rute Angkot Menuju Lapangan Saparua Venue West Java Festival 2024 Puncak event West Java Festival (WJF) 2024 akan berlangsung sore ini, Minggu (25/8/2024). Berikut rute angkot yang melewati kawasan Lapangan Saparua. Sumber: detikcom - 🏆 29. / 51 Baca lebih lajut »  Puncak West Java Festival 2024 Hari Ini, Begini Imbauan Polisi Puncak acara West Java (WJF) 2024 digelar di Lapangan Saparua, Kota Bandung. Berikut imbauan polisi demi kelancaran lalu lintas. Sumber: detikcom - 🏆 29. / 51 Baca lebih lajut »  Seru-Seruan di West Java Festival 2024 Bareng Nidji Sampai Rocket Rockers West Java Festival 2024 hadir di Bandung hingga 25 Agustus. Nikmati penampilan Yovie and Nuno, Nidji, Wali, dan banyak lagi. Dapatkan tiket gratis di Sapawarga! Sumber: detikcom - 🏆 29. / 51 Baca lebih lajut »  Pemprov Jabar libatkan 1.600 seniman pada West Java Festival 2024 Pemerintah Provinsi (Pemprov) Jawa Barat melibatkan 1.600 seniman dari berbagai bidang untuk mengikuti rangkaian kegiatan West Java Festival (WJF) yang ... Sumber: antaranews - 🏆 6. / 78 Baca lebih lajut »\n",
      "True Label: Neutral, Predicted Label: Neutral\n",
      "\n",
      "Text 35: KONTAN.CO.ID - JAKARTA. Laju kredit masih tetap komit di semester kedua tahun 2024 ini, PT Bank Danamon Indonesia Tbk memproyeksikan pertumbuhan penyaluran kredit bakal tumbuh double digit pada semester kedua tahun ini, sejalan dengan target pertumbuhan kredit industri perbankan.  Direktur Bank Danamon, Dadi Budiana mengatakan, pertumbuhan kredit di semester kedua nanti akan tetap ditopang oleh keempat lini bisnis utama, diantaranya enterprise banking, usah kecil dan menengah (UKM), perbankan konsumer dan Adira Finance yang telah menunjukkan pertumbuhan kredit secara konsisten hingga kuartal I-2024.  Guna mencapai rencana bisnis kredit tersebut, Bank Danamon senantiasa mempererat hubungan dengan nasabah yang sudah ada dan mengakuisisi nasabah baru melalui pendekatan pada ekosistem tertentu dan kolaborasi yang kuat dengan MUFG, serta terus meningkatkan proses dan kapabilitas internal untuk menghadirkan solusi keuangan yang inovatif dan sesuai kebutuhan usaha Nasabah.  \"Danamon juga akan terus menjaga penyaluran kreditnya yang terdiversifikasi dengan baik ke berbagai sektor, termasuk sektor trading, household, manufaktur dan sektor potensial lainnya sejalan dengan upaya Pemerintah dalam mendorong pertumbuhan perekonomian nasional,\" ucap Dadi kepada KONTAN, belum lama ini.  Dalam rencana bisnisnya, bank berkode saham BDMN ini menitikberatkan penyaluran kredit pada nasabah di sektor yang potensial, serta memiliki rekam jejak yang baik dengan selalu berpegang pada prinsip kehati-hatian melalui penerapan manajemen risiko yang disiplin. Melalui berbagai upaya ini, Danamon optimis dapat mencapai pertumbuhan kredit yang berkelanjutan dan terus berkembang menjadi grup finansial terkemuka.  Sejauh ini, Bank Danamon mencatat pertumbuhan kredit sebesar 17,94%. Dalam laporan bulanan, kredit Bank Danamon mencapai Rp 136,68 triliun per Mei 2024 dari realisasi penyaluran kredit sebesar Rp 115,89 triliun.\n",
      "True Label: Neutral, Predicted Label: Neutral\n",
      "\n",
      "Text 36: INDODAILY.CO, JAKARTA — Bertepatan dengan hari ulang tahunnya yang ke 68, PT Bank Danamon Indonesia Tbk (Danamon), didukung oleh jaringan global dan lokal bersama MUFG sebagai induk perusahaannya, dan group members-nya yaitu Adira Finance, Home Credit Indonesia, Mandala Finance, dan Zurich Asuransi Indonesia.  Untuk mitra strategisnya yaitu Grab, Akulaku, dan Manulife Indonesia, menegaskan komitmennya untuk terus bertransformasi sebagai Satu Grup Finansial.  ”Tujuan kami adalah untuk menjadi mitra keuangan terpercaya yang senantiasa berorientasi pada nasabah dan inovatif, guna memenuhi kebutuhan para pemangku kepentingan, dengan menyediakan solusi finansial menyeluruh dan kita tumbuh bersama,” ujar Direktur Utama (Dirut) PT Bank Danamon Indonesia Tbk Daisuke Ejima, Rabu (17/7/2024).  Ejima menjelaskan, kesempatan ini bukan sekadar perayaan atas umur panjang Danamon. Namun juga komitmen Danamon untuk tumbuh sebagai grup finansial dan menjadi salah satu dari Top 5 Institusi Keuangan di Indonesia.  Menurut dia, Danamon akan terus fokus pada optimalisasi bisnis melalui pembangunan fondasi infrastruktur teknologi informasi dan digital, sumber daya manusia, branding, serta jaringan kantor cabang dan ATM.  “Arahan strategis ini bertujuan untuk mempertahankan pertumbuhan dua digit dalam penyaluran kredit dan pendanaan dengan profitabilitas yang berkelanjutan,” tuturnya.  Sebagai refleksi dari komitmen untuk terus bertransformasi tersebut, Danamon akan melakukan pembaruan terhadap logo perusahaan, yang akan diumumkan kepada publik bersamaan dengan momentum ulang tahunnya, dan akan mulai berlaku efektif pada 16 Juli 2024.  Ajak Nasabah dan Masyarakat Merayakan Ulang Tahunnya, Danamon Gelar Berbagai Kegiatan, Promo Menarik, dan DXPO by Danamon  Pada momen ulang tahun yang ke 68, Danamon dengan bangga mengajak para nasabah dan seluruh elemen masyarakat untuk bersama-sama merayakan hari yang istimewa bagi Danamon, yang telah berdiri sejak tahun 1956.  Selama periode ulang tahun ini, Danamon akan menghadirkan berbagai program menarik, mulai dari promo spesial hingga kegiatan sosial, untuk merayakan momen berharga ini.  Selama bulan Juli, Danamon menghadirkan promo unggulan berupa cashback untuk pembelanjaan di Toko UNIQLO & UNIQLO.com hingga Rp168.000,-.  Promo ini dapat digunakan selama tanggal 1-31 Juli 2024, dengan transaksi menggunakan QRIS D-Bank PRO, Kartu Debit, Kredit, dan Charge Danamon  Selain itu, Danamon juga untuk kedua kalinya akan menghadirkan DXPO by Danamon di Jakarta pada tanggal 18-21 Juli 2024 di Central Park Mall, dan tahun ini akan hadir juga di Makassar pada tanggal 22-25 Agustus 2024.  DXPO by Danamon dirancang untuk menampilkan jaringan luas Danamon bersama grup perusahaannya, yang menawarkan solusi keuangan menyeluruh, yang disesuaikan dengan kebutuhan nasabah, antara lain: Danamon LEBIH PRO/Danamon LEBIH PRO iB dengan promo hemat 50% hingga Rp35.000.000,- liburan keliling dunia dan naik haji dengan membuka rekening di Travel Fair DXPO by Danamon; Kartu Debit, Kredit, dan Charge Danamon dengan promo hemat hingga Rp6.800.000,-; KPR Danamon dengan promo spesial angsuran setara bunga mulai 1,68% tetap 1 tahun; Kredit Pemilikan Mobil (KPM Prima & KPM Prima Syariah) dengan bunga/margin 2,68% per tahun bersama Adira Finance; D-Bank PRO dengan promo cashback Rp68.000,- untuk transaksi menggunakan QRIS D-Bank PRO di DXPO Market, yang secara khusus menampilkan berbagai tenant beauty dan lifestyle, serta Festival Kuliner Nusantara yang menghadirkan kuliner dari berbagai penjuru daerah di Indonesia yang tidak dapat ditemui di Jakarta; serta Home Credit Indonesia dengan promo dapatkan cicilan ringan bunga 0% dengan tabungan Danamon LEBIH PRO/Danamon LEBIH PRO iB untuk pembelian berbagai produk elektronik.  Sementara, beberapa kegiatan sosial yang akan diadakan antara lain yaitu program edukasi Financial Hospital, yang merupakan program literasi keuangan untuk komunitas Sandwich Generation; donasi panel surya, literasi keuangan, lingkungan, dan kebencanaan untuk komunitas Fadhlul Fadhlan; literasi keuangan serta pelatihan barista bagi komunitas difabel yang diadakan bersama Sunyi Academy; juga pengenalan aktivitas profesi dan produk perbankan, edukasi keuangan, lingkungan dan kebencanaan untuk sekolah-sekolah.  “Inisiatif-inisiatif ini mencerminkan pendekatan holistik Danamon terhadap CSR, dengan menekankan pada pentingnya pendidikan, keberlanjutan lingkungan, dan keterlibatan komunitas,” jelas Ejima.  Untuk informasi lebih lanjut mengenai DXPO by Danamon, serta berbagai program dan promo ulang tahun Danamon, kunjungi bdi.co.id/dxpo dan bdi.co.id/hut68.\n",
      "True Label: Neutral, Predicted Label: Neutral\n",
      "\n",
      "Text 37: TRIBUNNEWS.COM - Kabar terbaru jelang Liga Voli Korea musim 2024/25, Kim Yeon-koung sang kapten Pink Spiders bakal minim bermain, Senin (26/8/2024).  Idola Megawati Hangestri yang merupakan andalan Pink Spiders itu akan lebih banyak diistirahatkan musim ini mengingat kondisi fisiknya.  Minim bermain termasuk siasat pelatih Pink Spiders, Marcello Abbondanza yang tengah mencari penerus Kim Yeon-koung (KYK) kedepannya.  Karena bagi Abbondanza, itulah yang bisa ia lakukan demi mengurangi beban pemain legendaris seperti KYK di Liga Voli Korea musim depan.  Strategi tersebut juga diiringi dengan misi merebut gelar juara yang luput didapat Pink Spiders musim lalu karena kalah dari Hyundai Hillstate.  Abbondaza paham tekanan yang didapat olek KYK untuk bisa mengantar Pink Spiders menjadi juara.  \"Mengurangi beban Kim Yeon-koung adalah bagian terpenting dalam manajemen liga,\" buka Abbondanza dilansir Naver Sports.  \"Kami harus membiarkannya (KYK) beristirahat dengan baik selama musim ini.\"  \"Saya berharap para Outside Hitter kami akan berkembang pesat sehingga mereka dapat bermain menggantikan Kim Yeon-koung sesekali,\" katanya menambahkan.  Dari kacamata Abbondanza, akan sulit bagi KYK untuk bermain di semua pertandingan Liga Voli Korea musim ini.  Sehingga dia akan mengatur sedemikian rupa agar sang pemain andalan tetap fit jika Pink Spiders bisa melaju ke playoff atau final.  \"Akan sulit baginya (Kim Yeon-koung) untuk bermain di setiap pertandingan seperti musim lalu.\"  \"Setelah bermain di semua pertandingan liga dan bermain di babak playoff dan kejuaraan (final), ia pasti akan kelelahan di akhir pertandingan,\" papar Abbondanza.\n",
      "True Label: Positive, Predicted Label: Neutral\n",
      "\n",
      "Text 38: Indramayu,- Kepolisian Sektor Terisi jajaran Polres Indramayu Polda Jabar melakukan patroli rutin yakni sambang Perbankan warga di wilayah Kecamatan Terisi Kabupaten Indramayu. Sabtu (31/8/2024)  Patroli ini difokuskan pada sejumlah lokasi strategis, seperti objek vital (OBVIT), perkantoran, perumahan, jalanan sepi, serta titik-titik kumpul masyarakat.  Kapolres Indramayu, AKBP Ari Setyawan Wibowo, melalui Kapolsek Terisi AKP Joni, menyampaikan bahwa patroli ini merupakan langkah preventif yang dilaksanakan secara rutin untuk menjaga keamanan dan ketertiban di masyarakat.  “Kami memastikan kehadiran polisi di tengah masyarakat, terutama di lokasi-lokasi yang rawan tindak kriminal, sebagai bentuk pencegahan dini terhadap potensi kejahatan,” ujar AKP Joni didampingi Kasi Humas Polres Indramayu, IPTU Junata.  Selain patroli, personel Polsek Terisi juga memberikan himbauan kamtibmas kepada warga yang ditemui selama patroli.  “Kami mengajak masyarakat untuk selalu waspada dan tidak ragu melaporkan hal-hal yang mencurigakan kepada pihak kepolisian,” tambah AKP Joni.  Apabila ada informasi gangguan kamtibmas dapat menghubungi kami melalui Lapor Pak Polisi Siap Mas Indramayu 081999700110 dan call center 110  “Kegiatan ini diharapkan dapat memberikan rasa aman dan nyaman bagi masyarakat serta meminimalisir angka kriminalitas di wilayah hukum Polres Indramayu,” tutup Kapolsek.\n",
      "True Label: Positive, Predicted Label: Positive\n",
      "\n",
      "Text 39: JAM'IYYATUL Qurra wal Huffazh Nahdlatul Ulama (JQHNU), badan otonom Nahdlatul Ulama, menyelenggarakan Multaqo Nasional Ulama Al-Qur'an pada 26-28 Juni 2024. Kegiatan tersebut mendorong pengurangan buta huruf masyarakat akan Al-Qur'an serta untuk meningkatkan kesadaran masyarakat untuk mengkaji sambil melestarikan kitab suci demi kebaikan.  Ketua Umum JQHNU KH Saifullah Ma'shum mengatakan Multaqo Nasional juga bertujuan mengidentifikasi serta merumuskan berbagai persoalan dan tantangan sambil menghimpun gagasan konstruktif bagi kemajuan pendidikan dan dakwah Al-Qur’an di Indonesia.  \"Dalam misi ini, kami tidak bersikap inklusif karena ini penting bagi masyarakat banyak sehingga kami akan bekerja sama dengan siapapun selama ini baik,\" kata Kiai Saifullah di Jombang, Rabu (26/6).  Acara yang dihadiri lebih dari seribu santri dan penghafal Al-Qur'an ini juga diramaikan dengan beragam kegiatan lain seperti dakwah Al-Qur’an serta pembinaan para qurra’ dan huffadz, bazar, ziarah dan tahlil akbar, pengajian umum. Selain itu, juga dilaksanakan dengan seminar seperti tantangan dan strategi dakwah Al-Qur'an di era digital.  Hadir sebagai pembicara cendekiawan NU Nadirsyah Hosen dan KH Musta’in Syafi’i. Seminar membahas tentang kiat-kiat melakukan dakwah Al-Qur'an menggunakan sarana komunikasi populer seperti media sosial.  KH Saifullah melanjutkan bahwa kerja sama dengan berbagai pihak diperlukan untuk negeri dan masyarakat. Menurutnya, setiap pihak tentu memiliki kekuatan dan potensi masing-masing dalam upaya membangun bangsa.  Menurut Saifullah, kolaborasi tidak perlu memandang motif politik atau hal-hal lain selama demi kepentingan publik. Penghafal Al-Qur'an kelahiran Malang ini juga meminta masyarakat agar dapat saling memahami.  \"Kemitraan itu harus kita lakukan. Sebab kita di era sekarang tidak bisa sendirian. Jadi kita saling memahami. Dari sisi industri ingin berpartisipasi terhadap program kami, maka mari kita lakukan bersama-sama. Saya kira yang diuntungkan masyarakat,\" ujar Saifullah.  Sekretaris Umum JQHNU, Muhammad Ulinnuha berterima kasih atas dukungan Aqua dan berharap kolaborasi antara keduanya dapat membawa keberkahan bagi semua yang terlibat dan berkontribusi.  Dia menegaskan, apapun yang diproduksi perusahaan lokal termasuk Aqua tentu akan memberikan manfaat kembali ke seluruh masyarakat Indonesia.  \"Insya Allah mudah-mudahan dicatat sebagai manusia-manusia yang dekat dengan Al-Quranul Karim dan kita berharap semua mendapat keberkahan,\" katanya.  Ini bukan kali pertama Aqua berkolaborasi bersama NU untuk memajukan kesejahteraan umat. Sebelumnya, Aqua juga mendukung akses air bersih dan pengelolaan sampah di beberapa pesantren NU. Air bersih dan fasilitas pengelolaan sampah itu dimanfaatkan santri dan warga sekitar untuk kegiatan sehari-hari.  Direktur Sustainable Development Danone Indonesia, Karyanto Wibowo mengatakan bahwa semua pihak harus saling membantu dalam memajukan umat.  Dia melanjutkan, Aqua akan terus berupaya mendukung peningkatan potensi warga Nahdliyin, khususnya generasi muda NU untuk menghadapi tantangan di masa depan.  \"Alhamdulillah, mewakili Aqua kami bangga diberikan kesempatan untuk mendukung kegiatan Multaqo Nasional Ulama Al-Qur'an,\" kata Karyanto Wibowo.  Multaqo Nasional Ulama merupakan salah satu agenda penting JQHNU. Konsolidasi seluruh ulama Al-Qur'an ini akan mengidentifikasi dan merumuskan berbagai persoalan dan tantangan yang dihadapi JQH. Di dalamnya juga akan melakukan sidang pleno guna melahirkan rekomendasi berkenaan dengan isu-isu terkini. (Z-1)\n",
      "True Label: Negative, Predicted Label: Negative\n",
      "\n",
      "Text 40: Jakarta, 19 Juli 2024 – Adira Finance berkolaborasi dengan Danamon dan MUFG Group dalam acara Danamon Expo (DXPO) 2024 di Central Park Mall, 18-21 Juli. Acara ini digelar untuk merayakan HUT Danamon ke-68.  Adira Finance menghadirkan produk pembiayaan unggulan, seperti Kredit Pemilikan Mobil/Motor (KPM) Prima, yang bekerja sama dengan lebih dari 20 dealer kendaraan.  Pengunjung dapat menikmati promo bunga spesial mulai 2,68 persen (tenor 12 bulan) dan biaya provisi nol persen untuk kredit mobil. Di area test drive, pengunjung bisa mencoba kendaraan pilihan hanya dengan menunjukkan KTP dan SIM.  Selain itu, Adira Finance juga memperkenalkan pembiayaan kendaraan listrik dengan bunga spesial 2,68 persen untuk kredit mobil listrik dan diskon angsuran untuk kredit motor listrik.  Adira Finance juga mengajak pengunjung untuk ikut serta dalam program CSR Sayang Bumiku, bekerja sama dengan Zurich Asuransi Indonesia, dengan edukasi tentang pentingnya menjaga lingkungan dan donasi carbon offset yang akan dikonversi dengan penanaman mangrove.  Untuk pengunjung yang membutuhkan pinjaman dana tunai, Adira Finance menawarkan #SahabatDanaTunai dengan tenor hingga 60 bulan dan dana cair hingga Rp500 juta. Selama acara, tersedia fasilitas persetujuan langsung di tempat.  “DXPO by Danamon menampilkan kemampuan Danamon dengan jaringan luas dari anggota grup dan mitra strategis untuk menawarkan solusi keuangan terintegrasi yang sesuai dengan kebutuhan nasabah agar kita dapat tumbuh bersama,” ujar Wakil Presiden Direktur Danamon, Hafid Hadeli, dikutip VIVA Otomotif dari keterangan resmi.  Home Credit Indonesia, sebagai bagian dari grup MUFG, juga turut berpartisipasi dengan menawarkan cicilan bunga nol persen dan biaya admin Rp68 ribu untuk berbagai produk elektronik.  Selama DXPO, Adira Finance juga memberikan kupon undian HARCILNAS untuk konsumen yang pengajuan pembiayaannya disetujui, dengan hadiah pelunasan cicilan bagi 34 pemenang utama.\n",
      "True Label: Neutral, Predicted Label: Negative\n",
      "\n",
      "Text 41: Kolaborasi kedua perusahaan tersebut pun bertekad untuk saling mendukung dan berbagi keberkahan bagi masyarakat Indonesia, dimulai dari lingkaran terdalam, yaitu bagi para karyawan.  'Sebagai produk nasional dan asli milik Indonesia, kolaborasi Le Minerale dan Pagi Sore ini merupakan upaya kami untuk saling mendukung dalam memajukan produk asli Indonesia, dari Indonesia untuk Indonesia,” jelasnya. “Pengalaman spiritual saat menjalankan ibadah umrah tidak hanya akan memberikan ketenangan, tetapi juga meningkatkan motivasi karyawan untuk terus memberikan yang terbaik dalam pekerjaan sehari-hari,” ujar Febri.Contoh untuk Perusahaan LainDirektur Pagi Sore, Rifky Ramdani berharap agar kerja sama yang terjalin antara pihaknya dan Le Minerale dapat menjadi contoh untuk perusahan lainnya untuk berbuat hal yang serupa.  Ia juga menyebut, program umrah yang digelar Pagi Sore sudah masuk tahun keempat. Ia mengatakan, di tahun pertama, memberangkatkan 60 orang dan sempat terhenti karena Covid-19.  Berita ini telah kami rangkum agar Anda dapat membacanya dengan cepat. Jika Anda tertarik dengan beritanya, Anda dapat membaca teks lengkapnya di sini. Baca lebih lajut:  Indonesia Berita Terbaru, Indonesia Berita utama  Similar News: Anda juga dapat membaca berita serupa dengan ini yang kami kumpulkan dari sumber berita lain.  Perkuat Kolaborasi, Le Minerale Biayai Karyawan Pagi Sore Berangkat ke Tanah Suci JPNN.com : Memperkuat kolaborasi, Le Minerale berbagi hadiah ibadah umrah untuk karyawan restoran padang Pagi Sore. Sumber: jpnncom - 🏆 25. / 59 Baca lebih lajut »  Doa Mohon Terbebas dari Lilitan Utang, Baca Setiap Pagi dan Sore Berita Doa Mohon Terbebas dari Lilitan Utang, Baca Setiap Pagi dan Sore terbaru hari ini 2024-07-25 10:26:21 dari sumber yang terpercaya Sumber: tvOneNews - 🏆 1. / 99 Baca lebih lajut »  Gunung Ibu di Halmahera Meletus 7 kali sejak Rabu Pagi hingga Sore Gunung Ibu di Pulau Halmahera, Maluku Utara, tujuh kali meletus dan mengembuskan abu lebih kurang setinggi 300 meter - 1,2 kilometer ke udara dari puncak kawah. Sumber: VIVAcoid - 🏆 3. / 90 Baca lebih lajut »  Sesibuk Apapun Sempatkanlah Zikir Terutama saat Pagi dan Sore Hari, Ini Hadisnya Berita Sesibuk Apapun Sempatkanlah Zikir Terutama saat Pagi dan Sore Hari, Ini Hadisnya terbaru hari ini 2024-07-17 17:39:17 dari sumber yang terpercaya Sumber: tvOneNews - 🏆 1. / 99 Baca lebih lajut »\n",
      "True Label: Negative, Predicted Label: Negative\n",
      "\n",
      "Text 42: ● Pinjaman dana tunai dengan benefit cair hingga Rp500 juta dan tenor panjang hingga 60 bulan.  ● Doorprize adirapoin s.d 3 juta untuk semua produk pembiayaan.  Bagi konsumen yang ingin mencoba kendaraan impian, dapat mengikuti test drive dengan mengunjungi booth Adira Finance di Corridor Trans Square yang terdapat di Lobby Barat Trans Studio Mall untuk kemudian lakukan registrasi di meja admin.  Lebih lanjut, Adira Finance menyediakan fasilitas approval di tempat untuk kemudahan proses pengajuan pembiayaan.  Konsumen yang pengajuan pembiayaannya disetujui oleh Adira Finance akan langsung mendapatkan tambahan benefit berupa kupon undian HARCILNAS (Harinya Cicilan Lunas).  Sebagai bagian dari perayaan HUT ke-34, Adira Finance memberikan kesempatan kepada 34 pemenang untuk dilunasi cicilan seluruhnya, sedangkan 340 pemenang akan dilunasi cicilan 1 bulan dan 100 pemenang akan mendapatkan hadiah tambahan berupa cashback adirapoin sebesar 5%.  Tidak hanya Adira Finance, pengunjung juga bisa mendapatkan solusi finansial komprehensif dari entitas grup lainnya seperti Danamon dan Home Credit dengan berbagai promo menarik, yaitu:  ● Danamon LEBIH PRO/Danamon LEBIH PRO iB dengan promo hemat 50% hingga Rp35.000.000 untuk liburan keliling dunia, ibadah ke tanah suci, pembelian gadget dan elektronik  ● Kartu Debit, Kredit dan Charge Danamon dengan promo hemat hingga Rp6.800.000 untuk pembelian produk travel, gadget, dan elektronik  ● Home Credit Indonesia dengan promo cicilan 0% untuk pembelian gadget dan elektronik ● KPR Danamon dengan promo spesial suku bunga mulai 4,68% tetap selama 5 tahun dan menghadirkan 6 developer rekanan Danamon, serta\n",
      "True Label: Negative, Predicted Label: Negative\n",
      "\n",
      "Text 43: Dukungan masyarakat dunia terhadap Palestina mengalir deras di berbagai ruang. Tak hanya di media sosial, tapi juga dimanifestasikan dalam aksi konkret seperti penggalangan dana, unjuk rasa, hingga pemboikotan terhadap produk-produk terafiliasi Israel.  Seperti diketahui, konflik Israel-Hamas yang berlangsung sejak Oktober 2023 lalu telah memanaskan situasi di Jalur Gaza.  Biro Pusat Statistik Palestina/Palestinian Central Bureau of Statistics (PCBS) mencatat ada sebanyak 40.188 warga Palestina yang tewas akibat agresi Israel ke wilayah Palestina, terhitung sejak 7 Oktober 2023 hingga 4 Agustus 2024.  Hasil survei GoodStats bertajuk “Sikap dan Perilaku Masyarakat terhadap Aksi Boikot Produk Terafiliasi Israel” mengungkap pola pendirian serta pandangan publik di Indonesia secara spesifik mengenai aksi boikot terhadap produk-produk terafiliasi Israel.  Menurut hasil survei ini, hampir seluruh responden (95,3%) mengaku aware /mengetahui tentang aksi boikot terhadap produk yang terafiliasi Israel.  Mayoritas Warga Indonesia Mendukung Aksi Boikot  Menurut survei GoodStats, mayoritas responden (70,2%) menyatakan mendukung gerakan boikot produk terafiliasi Israel.  Sebaliknya, hanya ada sedikit responden (12,8%) yang mengaku kontra terhadap aksi boikot ini. Sementara sebagian kecil lainnya (17%) mengaku netral.  “Tak cuma mendukung, aksi boikot produk-produk terafiliasi Israel secara konkret juga saat ini diakui tengah dilakukan oleh sebanyak 77,2% responden dalam kesehariannya,” jelas Managing Editor GoodStats, Iip M. Aditiya, Selasa (6/8).  Bagi mereka yang melakukan boikot, motif solidaritas terhadap Palestina (68,1%) dan ingin memberikan tekanan kepada Israel (55,3%) jadi alasan utamanya menurut survei ini.  Selain itu, sebanyak 30% responden juga menjadikan agama/keyakinan sebagai alasan untuk ikut dalam gerakan boikot.  Produk Makanan & Minuman Jadi Sasaran Utama Boikot  Produk makanan dan minuman (81,5%) jadi sasaran utama produk yang diboikot masyarakat dalam aksi boikot terhadap produk terafiliasi Israel.  “Dibandingkan pakaian atau produk elektronik, makanan dan minuman jadi jenis produk paling banyak kena boikot” tutur Iip.  Dalam hal ini, survei GoodStats juga menangkap pola preferensi masyarakat Indonesia terkait pilihan produk alternatif untuk menggantikan produk yang mereka boikot menurut sejumlah kategori.  Untuk kategori makanan cepat saji misalnya, Hoka-Hoka Bento (24,2%) dan Richeese Factory (22,1%) ada di urutan teratas sebagai produk pengganti pilihan masyarakat.  Kemudian di kategori air mineral, Le Minerale jadi produk alternatif utama masyarakat untuk menggantikan produk yang diboikot.  Aksi Boikot Efektif Hentikan Agresi Israel?  Merujuk kembali pada latar belakangnya, gerakan boikot produk terafiliasi Israel timbul sebagai respons publik atas rentetan serangan dan upaya okupansi Israel di teritori Palestina.  Berkaitan dengan ini, sebagian besar responden (55,1%) dalam survei GoodStats yakin bahwa gerakan boikot yang dilakukan akan efektif untuk menekan/menghentikan aksi agresi Israel tersebut.  Terdapat pula 15,8% responden yang menyatakan bahwa aksi boikot ini tak akan efektif dalam meredam agresi Israel terhadap Palestina. Sedangkan 30,1% responden lainnya merasa tak yakin/ragu akan hal ini.  Tentang Survei  Pengumpulan data dalam survei GoodStats ini dilakukan secara daring menggunakan 1.000 sampel responden dengan profil tersegmentasi yang tersebar di seluruh wilayah Indonesia.  Kriteria usia responden dalam survei ini ada di rentang 18-58 tahun, dengan proporsi responden terbanyak (41,2%) ada di kelompok usia 18-25 tahun, dan 26-34 tahun (37,2%).  Managing Editor GoodStats, Iip M. Aditiya menyebut hasil survei ini cukup memberi gambaran soal ketegasan masyarakat Indonesia dalam mempromosikan perdamaian.  “Hasil survei ini secara umum cukup menegaskan bahwa masyarakat merasa punya peran krusial dalam upaya kolektif untuk mempromosikan perdamaian, salah satunya melalui aksi boikot,” tutur Iip.\n",
      "True Label: Negative, Predicted Label: Positive\n",
      "\n",
      "Text 44: TRIBUNNEWSMAKER.COM - 16 posisi siap diisi, Adira Finance buka lowongan kerja 2024, usia 33 tahun boleh daftar.  PT Adira Dinamika Multi Finance Tbk atau Adira Finance buka lowongan kerja untuk mengisi sejumlah posisi.  Pendaftaran lowongan kerja di Adira Finance dibuka sampai 16 September hingga 21 September 2024.  Lowongan kerja Adira Finance terbuka untuk lulusan D3 dan S1 semua jurusan.  PT Adira Dinamika Multi Finance Tbk atau Adira Finance merupakan perusahaan pembiayaan yang sudah didirikan tahun 1990 dan mulai beroperasi pada tahun 1991.  Berikut informasi Lowongan Kerja Adira Finance dilansir Tribun-Timur.com dari laman resminya:  1. HEAD OF DIGITAL COLLABORATION  - Keterampilan kepemimpinan dan manajemen tim, dengan komitmen untuk membina lingkungan kerja yang kolaboratif dan inklusif.  - Kemampuan untuk memprioritaskan tugas, mengatur waktu secara efisien, dan memenuhi tenggat waktu dalam lingkungan yang bergerak cepat  - Individu yang memiliki motivasi diri dan secara konsisten mematuhi prosedur dan standar yang ditetapkan  - Menunjukkan kemampuan untuk melakukan tugas dengan presisi dan akurasi  - Komunikasi tertulis dan verbal yang sangat baik, dan keterampilan negosiasi\n",
      "True Label: Neutral, Predicted Label: Neutral\n",
      "\n",
      "Text 45: FANEWS.ID – Menteri Keuangan, Sri Mulyani, menambah kewenangan Direktorat Jenderal Pajak (DJP) untuk dapat membatasi pembukaan rekening baru bagi nasabah pribadi maupun entitas yang menolak ketentuan identifikasi kegiatan transaksi keuangan. Aturan ini tertuang dalam Pasal 10A ayat (1) Peraturan Menteri Keuangan (PMK) Nomor 47 Tahun 2024 tentang Perubahan Ketiga atas PMK Nomor 70 Tahun 2017 tentang Petunjuk Teknis Mengenai Akses Informasi Keuangan untuk Kepentingan Perpajakan.  Sementara itu, ketentuan ini dirilis untuk memberikan kepastian hukum bagi lembaga jasa keuangan (LJK), lembaga jasa keuangan lainnya, dan/atau entitas lain dalam menyampaikan laporan yang berisi informasi keuangan untuk kepentingan perpajakan. Perubahan PMK ini juga telah mempertimbangkan tidak adanya ketentuan mengenai anti penghindaran sesuai dengan standar pelaporan umum (common reporting standard) pada PMK 70 Tahun 2017.  “Perubahan Kedua atas Peraturan Menteri Keuangan Nomor 70/PMK.03/2017 tentang Petunjuk Teknis mengenai Akses Informasi Keuangan untuk Kepentingan Perpajakan belum mengatur ketentuan anti penghindaran sesuai dengan standar pelaporan umum (common reporting standard), sehingga perlu dilakukan perubahan,” tulis beleid tersebut, dikutip Tirto, Senin (12/8/2024).  Selain membatasi pembukaan rekening baru, PMK ini juga tidak mengizinkan LJK pelapor melayani transaksi baru nasabah lama yang menolak identifikasi kegiatan transaksi keuangan oleh DJP. Adapun transaksi baru yang dimaksud dalam Pasal 9 ayat (1) PMK 47 Tahun 2024 antara lain, setoran, penarikan, transfer, pembukaan rekening atau pembuatan kontrak bagi nasabah perbankan; pembukaan rekening, transaksi beli atau pengalihan bagi nasabah pasar modal; serta penutupan polis baru.  “Dan kegiatan transaksi lainnya bagi pemegang Rekening Keuangan Lama pada lembaga keuangan pelapor yang merupakan LJK Lainnya dan/atau Entitas Lain,” bunyi beleid itu.  Meski begitu, ketentuan larangan bagi LJK pelapor untuk melayani transaksi beru tidak berlaku untuk transaksi atas pemenuhan kewajiban yang telah diperjanjikan sebelumnya antara pemilik Rekening Keuangan Lama dengan lembaga keuangan pelapor; penutupan rekening; atau pemenuhan kewajiban berdasarkan ketentuan peraturan perundang-undangan.  Sementara itu, dalam ketentuan anti penghindaran yang tercantum dalam Bab VA, Sri Mulyani juga melarang setiap orang termasuk LJK, LJK Lainnya, Entitas Lain; pimpinan dan/atau pegawai LJK; pimpinan dan/atau pegawai LJK Lainnya; pimpinan dan/atau pegawai Entitas Lain; Pemegang Rekening Keuangan Orang Pribadi; Pemegang Rekening Keuangan Entitas; penyedia jasa; perantara; dan/atau pihak lain untuk melakukan kesepakatan dan/atau praktik dengan maksud dan tujuan untuk menghindari akses informasi keuangan untuk kepentingan perpajakan. Jika DJP mengetahui adanya kesepakatan antara pihak-pihak tersebut, kesepakatan dianggap tidak berlaku dan/atau tidak terjadi.  Sebaliknya, kewajiban pengungkapan akses informasi tetap harus dijalankan oleh pihak-pihak tersebut. “Direktur Jenderal Pajak berwenang menentukan kesepakatan dan/atau praktik sebagai suatu kesepakatan dan/atau praktik dengan maksud dan tujuan untuk menghindari kewajiban sebagaimana diatur dalam peraturan perundang-undangan yang mengatur mengenai akses informasi keuangan untuk kepentingan perpajakan,” kata PMK 47 Tahun 2024.  Selain itu, DJP juga berwenang untuk memperoleh informasi keuangan yang berkaitan dengan kesepakatan dan/atau praktik penghindaran pengungkapan informasi perpajakan oleh pihak-pihak yang bersepakat. Dalam pengungkapan informasi, terlapor juga dilarang membuat pernyataan palsu atau menyembunyikan atau mengurangkan informasi yang sebenarnya dari informasi yang wajib disampaikan kepada DJP.  Jika terdapat indikasi pelanggaran, DJP berhak meminta surat klarifikasi kepada terlapor dan pihak-pihak lain yang melakukan pelanggaran. Namun, jika surat klarifikasi tidak juga dikirimkan dalam 14 hari sejak permintaan diajukan, DJP berwenang melakukan penelitian terhadap pihak-pihak terkait dan member surat teguran kepada mereka.  Selanjutnya, ketika pelapor tidak juga membuka akses informasi terkait transaksi keuangan meski surat teguran telah dikirimkan, DJP berwenang melakukan pemeriksaan sesuai ketentuan perundang-undangan yang mengatur mengenai tata cara pemeriksaan.\n",
      "True Label: Negative, Predicted Label: Negative\n",
      "\n",
      "Text 46: Liputan6.com, Jakarta Baru-baru ini, pabrik PT Tirta Fresindo Jaya, produsen air minum dalam kemasan (AMDK) Le Minerale, mendapatkan kunjungan dari Kementerian Perindustrian (Kemenperin) pada Jumat (12/07/2024) lalu. Adapun agenda kunjungan tersebut dilakukan untuk menyaksikan langsung proses produksi yang berlokasi di Ciherang, Bogor.  Tak hanya itu, kunjungan ini juga untuk melihat paparan perusahaan memastikan proses terbaik dari hulu hingga hilir. Mulai dari konservasi sumber daya air, proses produksi teknologi modern, pemilihan kemasan, sistem distribusi yang aman dan terhindar dari paparan sinar matahari langsung, sampai upaya mengurangi timbulan sampah lewat gerakan ekonomi sirkular.  \"Le Minerale telah membuktikan komitmennya dalam menjaga kualitas produk dan lingkungan melalui berbagai inisiatif yang menginspirasi. Apa yang dilakukan Le Minerale ini, merupakan praktik bisnis yang patuh dan menunjukan komitmen tinggi terhadap semua regulasi yang ditetapkan pemerintah terkait industri AMDK (air minum dalam kemasan). Kami berharap lebih banyak perusahaan dapat mengikuti jejak Le Minerale dalam menjalankan bisnis yang taat dan berkelanjutan,\" kata Direktur Industri Minuman, Hasil Tembakau dan Bahan Penyegar (Mintemgar) Merrijantij Punguan Pintaria, dalam kunjungannya ke pabrik Le Minerale.\n",
      "True Label: Neutral, Predicted Label: Negative\n",
      "\n",
      "Text 47: Diwarnai semangat transformasi sebagai Satu Grup Finansial, Danamon resmi buka DXPO by Danamon di Central Park Mall, yang akan berlangsung tanggal 18-21 Juli 2024. Pameran ini akan menghadirkan berbagai kegiatan, program, dan promo menarik bagi nasabah dan pengunjung.  Jakarta, Upeks – PT Bank Danamon Indonesia Tbk resmi membuka DXPO by Danamon sebagai bagian dari rangkaian perayaan ulang tahunnya yang ke-68 di Central Park Mall, Jakarta. Acara pembukaan ini diwarnai oleh semangat transformasi Danamon sebagai Satu Grup Finansial.  Hadir pula pada acara ini MUFG sebagai induk perusahaan Danamon, dan grup perusahaan yaitu Adira Finance, Home Credit Indonesia, Zurich Asuransi Indonesia, serta mitra Danamon yaitu Central Park, PT Hankyu Hanshin Properti Indonesia, JCB dan Mastercard.  DXPO by Danamon hadir selama empat hari ke depan (18-21 Juli 2024) dengan tujuan untuk menampilkan jaringan luas Danamon bersama grup perusahaannya, yang menawarkan solusi keuangan menyeluruh yang disesuaikan dengan kebutuhan nasabah, serta untuk mengapresiasi nasabah atas kepercayaan dan loyalitasnya terhadap Danamon selama ini.  “Atas nama Danamon, sayamenyampaikan terima kasih kepada semua pihak yang telah menjadi bagian dari perjalanan kami – para pemegang saham, nasabah, karyawan, dan regulator atas kepercayaan dan dukungan Anda terhadap Danamon selama ini,”ujar Daisuke Ejima, Direktur Utama PT Bank Danamon Indonesia Tbk, Rabu 18 Juli 2024.  Pada acara pembukaan DXPO by Danamon ini, Danamon juga secara resmi memperkenalkan Tabungan Danamon LEBIH PRO, yang merupakan tabungan dengan 9 mata uang sekaligus dalam 1 rekening.  Sementara Consumer Business & Wealth Business Head, PT Bank Danamon Indonesia Tbk, Ivan Jaya mengatakan dalam paparannya, selama 68 tahun, Danamon telah hadir menjadi pionir dalam menyediakan kenyamanan dalam transaksi untuk nasabah kami.  “Pada momentum spesial kali ini, tepatnya di acara DXPO by Danamon, kami dengan bangga mempersembahkan Tabungan Danamon LEBIH PRO, tabungan 9 mata uang, yang menawarkan berbagai fitur menarik untuk memberikan kemudahan bagi nasabah dalam bertransaksi valuta asing, yang dilengkapi dengan Kartu Debit yang didukung oleh Mastercard. Dengan tagline #BanyakLebihnya, Tabungan Danamon LEBIH PRO memiliki berbagai manfaat, antara lain rate berani diadu, di mana Danamon ganti 5X selisihnya jika ada rate yang lebih kompetitif,”paparnya.  Kartu Debit Danamon LEBIH PRO juga dilengkapi dengan beragam fitur lainnya, sehingga nasabah yang sedang traveling dapat menikmati keuntungan seperti:  • Cashback 5% transaksi di luar negeri, tapi khusus selama bulan Juli, transaksi di luar negeri dengan menggunakan Kartu Debit akan mendapatkan cashback sebesar 6,8%.  • Bebas biaya tarik tunai di luar negeri.  • Transaksi dengan fitur contactless.  • Bebas biaya konversi kurs untuk transaksi kartu debit di luar negeri.  • Auto-switching currency. Sebagai contoh, jika nasabah bertransaksi dengan Kartu Debit Danamon LEBIH PRO di Singapura, maka transaksi akan langsung mendebet saldo mata uang SGD.  Adapun promo dan program unggulan di DXPO by Danamon yang dapat dinikmati oleh seluruh konsumen dan nasabah Danamon adalah:  1. Travel Fair: Danamon menyediakan berbagai opsi paket dan promo untuk liburan ke seluruh dunia, bekerja sama dengan 7 travel agent yaitu Antavaya, Bayu Buana, Dwidaya Tour, Golden Rama, Panorama, Smailing Tour dan 4 travel agent Syariah Dream Tour, Iskandaria, Al Magfirah, Tibi Tours. Promo Travel Fair mencakup:  • Hemat 50% Liburan Keliling Dunia dan Naik Haji dengan potongan hingga Rp35 juta dengan membuka tabungan Danamon LEBIH PRO/Danamon LEBIH PRO iB.  • Hemat hingga Rp6,8 juta untuk pembelanjaan di booth Travel Fair untuk penggunaan Kartu Debit, Kredit dan Charge Danamon.  • Cukup bayar 68% untuk mendapatkan proteksi perjalanan dengan pembelian Zurich Travel Insurance, hasil kerja sama dengan group member, Zurich Asuransi Indonesia via D-Bank PRO.  2. KPR Danamon: Nasabah dapat mengunjungi booth KPR Danamon di DXPO by Danamon untuk mendapatkan promo spesial angsuran setara bunga mulai 1,68% tetap selama 1 tahun dari developer terkemuka di Indonesia yang ikut serta dalam DXPO by Danamon, yaitu Alam Sutera, Jababeka, Hankyu Hanshin Group dan Springhill, Tokyu Land Indonesia, Sinar Mas Land dan Panasonic, Paramount, Ciputra, Sinar Mas Land, Mitbana Group dan Sinar Mas Land, serta Agung Podomoro. Selain itu, terdapat juga promo lainnya seperti:  • Bunga KPR hingga setara Rp0 dengan melakukan penempatan dana.  • Program balance transfer (take over) dengan angsuran setara bunga mulai 4,68% secara tetap selama 5 tahun, dan Kredit Multi Guna (KMG) dengan angsuran setara bunga mulai 7,68% secara tetap selama 5 tahun.  3. Festival Kuliner Nusantara: Danamon menghadirkan kuliner dari berbagai penjuru daerah di Indonesia yang tidak dapat ditemui di Jakarta di Festival Kuliner Nusantara, yang berada di DXPO Market yang berlokasi di Tribeca Park, Central Park Mall. Festival ini akan menghadirkan 18 pengusaha makanan khas daerah, mulai dari Seblak Mamang Rapael asal Bandung hingga Bakso Ati Raja asal Makassar, dan masih banyak lagi. Pada festival ini, Danamon juga akan mengadakan acara Celebrity Pop Up yang menghadirkan Rafael Tan, pemilik warung Seblak Mamang Rapael dan anggota boyband Smash, yang akan menyapa dan memasak untuk para pengunjung.  4. Promo Kredit Pemilikan Mobil (KPM) Prima: Booth kolaborasi Danamon dengan Adira Finance akan menampilkan deretan mobil dan motor terbaru serta memberikan kesempatan bagi nasabah dan pengunjung untuk konsultansi dengan para tenaga pemasaran terkait produk Kredit Pemilikan Mobil (KPM Prima & KPM Prima Syariah) dengan penawaran bunga/margin spesial mulai dari 2,68% per tahun.  5. Promo Elektronik dengan Home Credit Indonesia: Promo hemat hingga Rp500.000,-, cicilan 0% dan biaya admin hanya Rp68.000,- untuk berbagai produk elektronik, memberikan kemudahan berbelanja bagi nasabah Danamon.  6. D-Bank PRO: Nasabah dapat menikmati cashback hingga Rp68.000,- untuk transaksi menggunakan QRIS D-Bank PRO di DXPO Market, serta mengunjungi Festival Kuliner Nusantara dan tenant beauty serta lifestyle.  “Berangkat dari visi Danamon untuk menjadi enabler bagi nasabah, Danamon juga memiliki beragam solusi finansial yang sesuai dengan kebutuhan nasabah. Selama DXPO by Danamon, kami menampilkan KPR Danamon Lebih yang bekerja sama dengan sepuluh developer terkemuka di Indonesia dengan total 21 proyek yang akan memberikan banyak pilihan kepada Nasabah yang sedang mencari unit properti. Selain itu, kami juga mengangkat Kartu Kredit Danamon JCB Precious yang bisa mewujudkan keinginan nasabah untuk #BebasDariRutinitas, dan cocok untuk para pecinta traveling karena memiliki keunggulan nilai pertukaran miles yang menarik dan kurs yang kompetitif, serta bebas akses airport lounge domestik dan internasional. Bagi pengunjung yang tertarik bisa langsung mengajukan Kartu Kredit Danamon JCB Precious dengan persetujuan dalam 1 menit.” tutup Enriko Sutarto, Consumer Lending Business Head, PT Bank Danamon Indonesia Tbk. (*)\n",
      "True Label: Neutral, Predicted Label: Neutral\n",
      "\n",
      "Text 48: TRIBUNSTYLE.COM - Inilah jawaban teka-teki Masa Pengenalan Lingkungan Sekolah (MPLS) atau Masa Orientasi Sekolah (MOS) berisi makanan minuman.  Teka-teki MPLS biasanya diberikan panitia kepada para murid baru untuk mengasah kreaktivitas dan mengakrabkan para peserta.  Adapun teka-teki MPLS ini berisikan mengenai makanan dan minuman yang familiar dengan jawaban yang ini.  Selain untuk MPLS, teka-teki ini juga diberikan kepada para mahasiswa baru di perguruan tinggi.  : Jadwal Hari Pertama Masuk Sekolah TK, SD, SMP, SMA Tahun Ajaran Baru 2024/2025 Provinsi di Jawa  Dikutip dari berbagai sumber, inilah teka-teki MPLS yang dapat dijadikan panduan untuk menjawab pertanyaan dari panitia MPLS.  1. Teka-teki Makanan  - Chiki pembohong: snack Lay's  - Planet sedih: Marshmello  - Ayam selimut: Ayam goreng tepung  - Permen gunung cinta: Alpenlible  - Buah selimut: Buah pir atau apel yang dibungkus dengan jaring busa putih  - Nasi suci: Nasi putih  - Roti sundel bolong: donat  - Spongebob goreng: roti goreng  - Snack anak ayam: Chiki  - Biskuit 3d/3 Cara: Oreo  - Nasi jelek: nasi goreng  - Cokelat pintar: smarties  - Permen Ac: Relaxa  - Batu bata Italy: Tango  - Permen cium: chupacup  - Permen Band: Goliat  - Nasi orang meninggal: nasi kuning  - Cemilan jempol: Waffer gerry saluut  - Cokelat lebih baik: Better  - Buah jantung: Pisang  - Pisang 1 sisir: pisang sama sisir  - Biskuit Nabi: Kurma  - Kue bantal: Kue Odading  - Minuman band: Teh Kotak  - Nasi betadine: Nasi merah atau nasi dengan sambal merah  - Permen haram: Permen Kiss  - Permen dangdut: Permen lolipop  - Biskuit raja dangdut: biscuit Roma Kelapa  - Wafer cokelat merk oli: Top  - Telor kerajaan: Egg kingdom  - Kelereng mas: Snack Polong Mas  - Snack 3 saudara: tini wini biti  - Cemilan jempol: Waffer Gerry Saluut  - Buah waktu mama: buah jambu  - Buah mata najwa lagi sauna: buah pisang (banana) yang dikupas  - Biskuit Cium Itali: Malkist Roma  - Buah janda: buah anggur atau terong  - Snack monyet monyet gila: MOnyet MOnyet GIla (MOMOGI)  - Snack mahal mewah: Lexus  - Snack tornado: Twister  - Permen Zebra: Blaster  - Telur kotak: martabak  - Cahaya matahari yang mencair: sabun Sunlight  - Lengket rapet atau jaring spiderman: lem atau lakban  - Jajanan tepat waktu: Good time  - Makanan orang kayu: Richeese  - Cokelat Marshanda: Cha Cha  - Ikan berdiri: teri jengky  - Makanan upin ipin di atas awan: ayam goreng di atas nasi  - Snack obat: pilus kapsul  2. Teka-teki Minuman  - Air putih merdeka: Susu Bendera putih  - Air ustad: Air putih/air mineral  - Teh sawadikap: Thai tea  - Minuman band: Teh Kotak  - Air desa: Air mineral merek Ades  - Teh ulat mendaki: minuman teh Pucuk Harum  - Air tanah: susu cokelat  - Air putih dihormati: Susu bendera putih  - Air semut: Sprite  - Air desa: air putih/Aqua atau minuman merek Ades  - Air lumpur: susu coklat  - Air kehidupan: Air mineral Nestle Pure Life  - Air gunung: Air mineral Aqua  - Air minum orang sehat: Air mineral VIT  - Air minum 6t: Air mineral VIT  - Air keruh: Susu cokelat  - Susu nusantara: Susu Bendera  - Minuman superhero: Ultra(man) Milk  - Minuman kanibal: Nutrisari  - Teh gunung: teh kemasan merek Mountea  - Air Suci: Air kelapa muda atau air putih biasa  - Air penjumlahan: air kali  - Minuman wilayahku: Mizone  - Saya minum 2: Yakult  - Air semut: minuman merek Sprite  - Minuman ratu Mesir: Air mineral merek Cleo  - Air lumpur coklat: Susu cokelat  - Teh hijau baru: minuman merek Nu Greentea  - Air putih: susu  - Minuman sopan: minuman merek Marimas  - Air ketek: Pocari Sweat  - Air putih tidur: Susu bantal  - Minuman anak kembar: Ichi ocha  - Minuman ringan pembangkit ulama: NU Green Tea  - Teletubies mencari keringa: Pocari Sweat  - Minuman matahari hijau: minuman dari SunGreen  - Darah beku: cincau  - Minuman pahlawan: Ultramilk  - Minuman anak kembar: Ichi ocha  - Air mineral yang ada manis-manisnya: Le Minerale  - Air gak loyo: Air vit  - Minuman ratu mesir: Cleo  - Minuman superhero: Ultra(man) Milk  - Minuman kanibal: Nutrisari  - Minuman ustad: air putih  - Air desa: Ades  - Minuman bengkel: 2 Tang\n",
      "True Label: Neutral, Predicted Label: Neutral\n",
      "\n",
      "Text 49: Bisnis.com, JAKARTA — PT Adira Dinamika Multi Finance Tbk. (ADMF) atau Adira Finance mencatat tingkat kredit bermasalah atau non performing financing (NPF) mencapai 2,2% pada Agustus 2024. Angka tersebut masih di bawah batas yang ditetapkan Otoritas Jasa Keuangan (OJK) yakni 5%.  Dalam hal menjaga NPF, Chief of Financial Officer Adira Finance Sylvanus Gani M mengatakan perusahaan terus berusaha untuk menjaga rasio kualitas aset dengan menerapkan prinsip manajemen risiko yang diterapkan dengan hati-hati, memberikan pembiayaan secara segmented sesuai dengan risk appetite perusahaan.  “Serta menerapkan kegiatan collection yang efektif, termasuk menambah kapasitas [jumlah karyawan]pada sejumlah titik-titik tertentu [cabang atau area] yang membutuhkannya,” kata Gani saat dihubungi Bisnis Rabu (11/9/2024).  Gani melihat peningkatan kredit bermasalah perusahaan pembiayaan bisa saja terjadi karena beberapa hal. Pertama melemahnya daya beli masyarakat, khususnya kelas menengah, yang secara umum diakibatkan peningkatan harga kebutuhan pokok.  “Peningkatan harga kebutuhan pokok tersebut tidak diiringi dengan peningkatan upah yang sepadan, sehingga terjadi penurunan pendapatan riil masyarakat karena kenaikan kebutuhan hidup,” katanya.  OJK sebelumnya mencatat piutang pembiayaan perusahaan multifinance mencapai sebanyak Rp494,10 triliun per Juli 2024. Angka tersebut naik 10,53% apabila dibandingkan dengan periode yang sama pada tahun sebelumnya.  Dari sisi kredit bermasalah, OJK mencatat tingkat NPF perusahaan pembiayaan masih terjaga. Adapun rasio NPF gross perusahaan pembiayaan 2,75% pada Juli 2024, yang turun dibandingkan 2,80% pada Juni 2024. Sementara NPF nett mencapai sebanyak sebesar 0,84% pada Juli 2024, dan pada Juni 2024 mencapai 0,87%.\n",
      "True Label: Negative, Predicted Label: Negative\n",
      "\n",
      "Text 50: Jakarta – Beberapa perusahaan pembiayaan saat ini memang belum all-out untuk melakukan pembiayaan kendaraan listrik. Namun beberapa brand pembiayaan ternama sudah memberikan pembiayaan khusus untuk kendaraan listrik terutama untuk brand molis yang sudah punya nama besar di pasar otomotif Indonesia.  Namun jika Anda masih sulit untuk mendapatkan perusahaan pembiayaan atau leasing untuk memberikan kendaraan listrik seperti motor listrik, United E-Motor punya solusinya dengan memfasilitasi masyarakat yang ingin mendapatkan motor listrik cepat dan mudah.  Anda bisa datang ke perhelatan Jakarta Fair Kemayoran (PRJ) 2024 dan mulai menanyakannya di zona pamer milik motor listrik United E-Motor yang berada di bawah PT Terang Dunia Internusa Tbk. Mereka menghadirkan pilihan yang beragam bagi masyarakat yang ingin membeli motor listrik dengan sistem cicilan. Tak tanggung-tanggung, United E-Motor menggandeng 4 nama besar leasing selama PRJ berlangsung, yaitu Adira, Mega Finance, Moladin serta BliBli. “Semakin banyak alternatif pembiayaan, semakin besar pula kesempatan bagi seluruh lapisan masyarakat untuk dapat memiliki motor listrik pilihannya,” ungkap Head of Marketing Communication UNTD, Meilany Suryanata dalam pernyataan resminya.  Tenor cicilan yang ditawarkan masing-masing leasing sangat beragam, mulai dari 3 hingga 36 bulan. Kemudahan ini tentunya menjadi salah satu keunggulan brand molis ini. Selama perhelatan 33 hari, mereka memajang koleksi sepeda motor listrik teranyarnya di JIEXPO Kemayoran Hall A3. Mulai dari tipe T1800, TX1800, TX3000 hingga The All-New MX1200 yang hadir dengan pilihan warna baru.  “Masyarakat masih cukup antusias terhadap produk motor listrik. Masih banyak yang penasaran dengan ketangguhannya, hematnya, serta keunggulan-keunggulan lainnya yang didapatkan jika mereka pakai motor listrik untuk aktivitas sehari-hari. Nah, motor punya beragam tipe yang bisa memenuhi kebutuhan masyarakat, bisa disesuaikan dengan kebutuhan penggunanya.\"  Keseluruhan tipe motor listrik United E-Motor yang ditawarkan mendapatkan subsidi pemerintah sebesar 7 juta Rupiah. Jangan lupa untuk selalu menanyakan program yang bisa Anda manfaatkan agar lebih untung lagi dalam memiliki kendaraan listrik impian.\n",
      "True Label: Neutral, Predicted Label: Neutral\n",
      "\n",
      "Text 51: --  Saat ini super app BRImo menjadi aplikasi mobile banking dengan rating terbaik dibandingkan aplikasi mobile banking perbankan konvensional lainnya di Indonesia. Data tersebut didapatkan berdasarkan review para pengguna Android (Playstore) yang memberikan rating 4,7 dan pengguna IOS (AppStore) memberikan rating 4,7. Hal tersebut menunjukkan kepuasan nasabah terhadap BRImo.  4. Salurkan Kredit UMKM Terbesar di Indonesia Sebesar Rp1.095,64T  Hingga akhir Triwulan II 2024, penyaluran kredit BRI tercatat Rp1.336,78 triliun atau tumbuh 11,20% year on year (yoy). Segmen UMKM masih mendominasi penyaluran kredit BRI, dengan porsi mencapai 81,96% dari total penyaluran kredit BRI, atau sekitar Rp1.095,64 triliun.  Sunarso mengungkapkan bahwa salah satu bentuk komitmen BRI dalam mendukung pertumbuhan ekonomi nasional yakni dengan tetap mendorong penciptaan lapangan pekerjaan khususnya pada segmen UMKM melalui penyaluran kredit yang berkualitas.  5. Berdayakan UMKM Melalui 31.488 Klaster Usaha & 3.602 Desa BRILiaN  Tak hanya pembiayaan semata, BRI juga memiliki berbagai program pemberdayaan UMKM, diantaranya adalah pemberdayaan melalui program Klasterku Hidupku dan Desa BRILiaN. Pemberdayaan Klaster Usaha sendiri merupakan pemberdayaan kepada kelompok usaha yang terbentuk berdasarkan kesamaan usaha, dalam satu wilayah sehingga tercipta keakraban dan kebersamaan dalam peningkatan maupun pengembangan usaha para anggotanya.  Hingga akhir Juli 2024 tercatat BRI telah memiliki 31.488 klaster usaha yang tergabung dalam program Klasterku Hidupku. BRI juga telah menyelenggarakan 2.184 pelatihan dalam program Klasterku Hidupku tersebut.  Disamping itu juga ada program Desa BRILiaN. Desa BRILiaN merupakan program pemberdayaan desa yang bertujuan menghasilkan role model dalam pengembangan desa yang diinisiasi BRI sebagai bentuk agent of development dalam mengembangkan desa. Hingga akhir Juni 2024 tercatat terdapat 3.602 desa yang telah mendapatkan pemberdayaan Desa BRILiaN.  Program ini diawali sejak tahun 2020 yang tidak lepas dari strategi perseroan untuk lebih dalam mengenal potensi wilayah dan merupakan salah satu bagian dari integrasi aktivitas pemberdayaan dan eksistensi mantri BRI bersama inisiatif-inistiatif lainnya yakni Klaster usaha binaan BRI, pasar.id, serta Hyperlocal Ecosystem yang merupakan suatu bentuk Ekosistem Konsolidasi Mikro.  6. Memiliki Portofolio Sustainable Financing Terbesar di Indonesia, Capai Rp793,6T  Hingga Triwulan II 2024 BRI telah membukukan portofolio sustainable financing sebesar Rp793,6 triliun, atau sebesar 65.2% dari total pembiayaan dan investasi corporate bond yang dilakukan BRI. Dalam menyalurkan kredit berkelanjutan, BRI tetap berfokus pada penyaluran kredit kepada Kredit KKUB (Kategori Kegiatan Usaha Berkelanjutan) yang mencapai Rp699,8 triliun pada periode ini, kemudian disusul kredit KUBL (Kegiatan Usaha Berwawasan Lingkungan) sebesar Rp89,8 triliun, yang terdiri dari penyaluran kredit kepada sektor pengelolaan sumber daya alam hayati dan penggunaan lahan yang berwawasan lingkungan senilai Rp60,83 triliun, transportasi hijau sebesar Rp11,47 triliun, energi terbarukan Rp6,48 triliun, dan sektor KUBL lainnya sebesar Rp11 triliun.  Karena komitmennya terhadap sustainable banking, BRI menjadi salah satu First Movers on Sustainable Banking di Indonesia pada 2017. Selanjutnya, pada 2018, BRI menyusun Rencana Aksi Keuangan Berkelanjutan untuk periode 2019 – 2023. Sebagai bentuk penerapan sustainability governance, BRI telah membentuk Komite ESG pada tahun 2021, yang merupakan forum bagi jajaran direksi dalam memonitor dan mengevaluasi implementasi ESG di BRI. Tak hanya itu, BRI juga telah resmi bergabung sebagai anggota di United Nations Global Compact (UNGC) pada 12 Maret 2023. UNGC merupakan lembaga yang mendorong kebijakan dan implementasi keberlanjutan perusahaan, khususnya pada ranah sustainable development goals (SDGs).  7. Penyetor Dividen Terbesar Dengan Setoran Pajak Ke Kas Negara Capai Rp192T Sejak 2019  Di sepanjang tahun 2023 lalu BRI berhasil mencatatkan laba bersih senilai Rp60,4 triliun, atau tumbuh 16,5% yoy. Sebagai bentuk komitmen penciptaan economic value, BRI membagikan dividen sebesar 80% dari total laba bersih atau senilai Rp43,49 triliun kepada pemegang saham baik pemerintah maupun publik. Atas pembagian dividen kepada pemegang saham tersebut, BRI menjadi perusahaan dengan setoran dividen terbesar di tahun 2024. Kementerian BUMN mencatat total dividen BUMN yang disetorkan ke negara mencapai Rp85,5 triliun, dan sebesar 30% diantaranya atau senilai Rp25,7 triliun merupakan kontribusi BRI.  Sementara itu dari sisi pembayaran pajak, pada akhir Juli 2024 lalu BRI mendapatkan apresiasi dari Direktorat Jenderal Pajak Kementerian Keuangan RI. BRI menjadi salah satu diantara 20 grup perusahaan di Indonesia yang menjadi penyumbang setoran pajak terbesar sepanjang 2023. Apabila ditarik lebih jauh, terhitung sejak tahun 2019 hingga akhir Kuartal I 2024 BRI telah menyetorkan Rp192,06 triliun kepada kas negara. Apabila dirinci, pada tahun 2019 BRI menyetorkan Rp26,56 triliun, tahun 2020 menyetorkan Rp28,38 triliun, tahun 2021 menyetorkan Rp27,09 triliun, tahun 2022 menyetorkan Rp34,18 triliun dan tahun 2023 menyetorkan Rp45,34 triliun. Sedangkan untuk 3 bulan pertama di tahun 2024, BRI telah menyetorkan senilai Rp31,03 triliun ke kas negara. Setoran ini berasal dari pembayaran Pajak Penghasilan, Pajak Pertambahan Nilai & Bea Materai, Pajak Penghasilan Badan, Dividen dan Pajak Daerah.\n",
      "True Label: Negative, Predicted Label: Positive\n",
      "\n",
      "Text 52: FAJAR.CO.ID, JAKARTA - Sebagai brand air mineral asli milik Indonesia, Le MInerale berhasil mendapat apresiasi dari Majalah SWA dan Business Digest melalui ajang penghargaan Indonesia Original Brand (IOB) Award 2024, sebagai The 1 st Champion of Indonesia Original Brand 2024 di kategori Air Minum Dalam Kemasan (AMDK) dengan predikat Very Good. Penghargaan ini merupakan program survei, pemeringkatan, dan pemberian penghargaan kepada merek-merek asli Indonesia terbaik. Pada survey ini, Le Minerale berhasil memenangkan indeks tertinggi dibandingkan merk lain dalam hal Kepuasan, Loyalitas, Advokasi dan Daya Saing terhadap Merek Asing.  Rohmat Purnadi, Head of Business Digest SWA mengungkapkan, “Secara keseluruhan, Le Minerale meraih indeks lebih tinggi di parameter parameter survei Indonesia Original Brand 2024. Dari sisi kepuasan pelanggan misalnya, Le Minerale meraih indeks 8.26, lebih tinggi dibanding merek-merek lain yang masuk dalam nominasi survei.”  Survei independen ini dilakukan kepada 5.000 responden di enam kota besar yakni Medan, Jabodetabek, Bandung, Semarang, Surabaya dan Makassar. Adapun survei Indonesia Original Brand 2024 dilakukan pada 111 kategori produk dengan skala penilaian 1-10 meliputi Kepuasan, Loyalitas, Advokasi dan Daya Saing terhadap Merek Asing.  Selain dari sisi kepuasaan pelanggan, Le MInerale juga meraih indeks 8.35 pada daya saing terhadap merk asing. Oleh sebab itu, penghargaan ini membuktikan bahwa, sebagai air mineral, Le Minerale diakui oleh masyarakat sebagai air mineral asli milik Indonesia yang berhasil membuktikan kualitasnya dan tidak kalah dengan merek asing yang ada di Tanah Air.\n",
      "True Label: Negative, Predicted Label: Negative\n",
      "\n",
      "Text 53: JAKARTA, KOMPAS.com - Kepala Badan Gizi Nasional Dadan Hindayana mengatakan, anggaran makan bergizi gratis sebesar Rp 71 triliun seluruhnya akan dikelola oleh lembaga tersebut.  Menurut Dadan, peruntukan anggaran tersebut mencakup pelaksanaan program makan bergizi gratis dan operasional badan gizi itu sendiri.  \"Iya (semua ada di Badan Gizi). Enggak (tidak dipecah-pecah di kementerian lain),\" ujar Dadan di Istana Negara, Jakarta, Senin (19/8/2024).  \"(Rp 71 triliun) menyangkut seluruh program Badan Gizi,\" tegasnya.  Termasuk di dalamnya nanti untuk membayar gaji pegawai di Badan Gizi Nasional.  Dadan menambahkan, nantinya Badan Gizi Nasional akan menggandeng pihak swasta. Sebab program makan bergizi nasional dilaksanakan setiap hari dan menyangkut target yang besar.  \"Ini kan program yang sangat besar, ya, dan dilaksanakan setiap hari, menyangkut target yang besar juga. Jadi, semua pihak pasti welcome terlibat,\" tambahnya.  Sebelumnya, Menteri Keuangan (Menkeu) Sri Mulyani Indrawati mengungkapkan, pemerintah menganggarkan Rp 71 triliun untuk program Makan Bergizi Gratis (MBG) pada 2025.  \"Untuk program Presiden Terpilih Makan Bergizi Gratis sebesar Rp 71 triliun sudah ada di sini (RAPBN 2025), nanti akan dijelaskan dari tim makan bergizi gratis yang terus disempurnakan,\" kata Sri Mulyani dalam Konferensi Pers RAPBN 2025 di Kantor Direktorat Jenderal Pajak, Jakarta, Jumat (16/8/2024).  Sri Mulyani mengatakan program Makan Bergizi Gratis bertujuan untuk menciptakan anak yang cerdas dan pemberdayaan UMKM.  \"Tapi ini multiplayer ekonomi di daerah ditekankan UMKM makin berdaya sehingga ekonomi daerah bisa bergerak,\" ujarnya.  Adapun dalam RAPBN 2025, anggaran untuk program Makan Bergizi Gratis ini masuk ke dalam kategori anggaran pendidikan sebesar Rp 722,6 triliun.  Anggaran pendidikan tersebut akan digunakan untuk peningkatan akses san kualitas pendidikan melalui PIP, KIP Kuliah, BOS, BOP PAUD, dan beasiswa LPDP.  Kemudian pemberian makan bergizi gratis, renovasi sekolah, dan pembangunan sekolah unggulan serta penguatan link and match dengan pasar kerja (vokasi dan sertifikasi).\n",
      "True Label: Neutral, Predicted Label: Neutral\n",
      "\n",
      "Text 54: TRIBUN-PANTURA.COM - Mobil listrik di Indonesia semakin semakin digemari oleh masyarakat. Kondisi tersebut membuat persaingan pasar mobil listrik semakin sengit.  Karenanya, PT Hyundai Motors Indonesia memperkenalkan mobil listrik terbarunya yaitu All-New KONA Electric kepada masyarakat.  All-New KONA Electric merupakan kendaraan listrik (EV) pertama di Indonesia yang menggunakan baterai buatan dalam negeri.  Menjadikannya pelengkap sempurna dalam lini kendaraan listrik Hyundai yang semakin memperkuat posisi Hyundai sebagai game changer di industri otomotif.  \"Kami dengan bangga mengenalkan All-New KONA Electric kepada masyarakat Solo,\" kata Branch Manager Hyundai Adisucipto Solo, Erik Engkwang, saat pameran di atrium Solo Paragon Mall, yang digelar mulai Senin-Minggu (19-25/8/2024).  \"Ini adalah mobil listrik pertama di Indonesia yang memiliki komponen produk dalam negeri,\" jelasnya.  Kehadiran All-New KONA Electric menambah pilihan kendaraan listrik (EV) Hyundai di Indonesia.  Mobil ini menampilkan desain eksterior futuristis, interior yang lapang, serta all-electric range (AER) lebih dari 600 km.  Tersedia dalam lima varian: Signature Long Range, Signature Standard Range, Prime Long Range, Prime Standard Range, dan Style, setiap varian memiliki keunggulan masing-masing.  \"Mobil listrik kini semakin diminati masyarakat, dan All-New KONA Electric ini menambah variasi pilihan yang ideal sesuai kebutuhan mobilitas konsumen,\" tambah Erik.  Di pameran Solo Paragon Mall ini, masyarakat dapat melakukan test drive dan trade-in kendaraan dengan fasilitas One Stop Service.  Pengunjung juga dapat mendapatkan car inspection lengkap serta memilih program pembiayaan terbaik untuk tukar tambah mobil secara aman dan menguntungkan.\n",
      "True Label: Negative, Predicted Label: Negative\n",
      "\n",
      "Text 55: Liputan6.com, Bandung - Media sosial tengah dihebohkan dengan konten viral seorang pria bernama “ Bobby Saputra ” yang mengklaim bahwa dirinya adalah keturunan dari salah satu tokoh miliarder Indonesia.  Melansir dari media sosial TikTok, pria tersebut memperkenalkan dirinya sebagai bagian dari keluarga pemilik perusahaan air minum terkemuka di Indonesia yang dikenal dengan brand “Aqua”.  “Nama saya Bobby, keluarga saya pemilik Aqua,” ucapnya dalam bahasa Inggris.  Pada kesempatan yang sama, sosok Bobby Saputra ini juga menuturkan bahwa ayahnya mempunyai kekayaan yang tidak terbatas sehingga banyak warganet percaya sosoknya adalah salah satu orang terkaya di Indonesia.  “Karena ayah saya punya uang tak terbatas,” ucapnya.  Selain dengan tutur katanya banyak warganet percaya bahwa Bobby Saputra adalah anak keturunan pemilik Aqua dari cara berpakaiannya. Sejumlah warganet menilai tampilannya yang terlihat old money jadi alasan mereka percaya.  Sejak kemunculannya tersebut di media sosial, mulai banyak warganet yang mencari tahu kebenaran sosoknya. Bahkan, belum lama ini “Bobby Saputra” juga hadir dalam sebuah acara di kanal Youtube Deddy Corbuzier.  Belakangan diketahui bahwa sosok Bobby Saputra hanya sebuah tokoh atau person dalam konten. Di balik itu semua, orang sebenarnya memiliki nama Ben Sumadiwiria.  Melansir dari beberapa sumber terungkapnya fakta sosok Bobby Saputra sendiri dibagikan dalam sebuah video podcast di kanal YouTube Bule GoVlog. Beberapa warganet pun kini telah mengetahui siapa sosok sebenarnya di balik karakter “Bobby Saputra”.\n",
      "True Label: Neutral, Predicted Label: Neutral\n",
      "\n",
      "Text 56: VIVA – Kriyanusa yang merupakan pameran kerajinan dan seni kriya berskala nasional kembali hadir dengan mengusung tema “Perajin Muda, Lestarikan Warisan Budaya” pada 28 Agustus – 1 September 2024 di Hall A & Hall B, Jakarta Convention Center (JCC).  Diselenggarakan setiap tahun oleh Dewan Kerajinan Nasional (DEKRANAS), acara ini merupakan bentuk komitmen untuk melestarikan serta mengembangkan hasil produk kriya Indonesia. Acara ini juga dirancang untuk mendorong pertumbuhan ekomoni dan perluasan pasar kriya Indonesia.  Dalam sambutannya, Ketua Umum Dewan Kerajinan Nasional (DEKRANAS) Wury Ma’ruf Amin yang merupakan istri Wakil Presiden Ma’ruf Amin mengungkapkan bahwa pameran tersebut mencerminkan komitmen untuk meneruskan tradisi dan warisan leluhur kepada generasi muda.  \"Indonesia adalah negeri yang kaya akan budaya dan tradisi. Seni kerajinan berbagai daerah yang diwariskan tidak hanya mencerminkan keindahan dan keterampilan, tetapi juga nilai-nilai identitas bangsa,\" katanya.  Ia menambahkan, Kriyanusa adalah panggung bagi para perajin muda Indonesia untuk mempersembahkan karya-karya yang menghidupkan kembali kekayaan budaya Nusantara.  Seperti diketahui, Karya Kerajinan Tangan (Kriya) menjadi salah satu aset berharga untuk memenuhi permintaan pasar global akan kerajinan tangan yang khas Indonesia. Sebanyak ratusan produk milik pengrajin terampil dari seluruh pelosok negeri pun terpajang indah di acara tersebut.  PT Bank Rakyat Indonesia (Persero) Tbk atau BRI sebagai bank dengan fokus pada pemberdayaan UMKM di Indonesia mendukung acara tersebut dan turut serta menampilkan produk kriya terbaik dari UMKM binaan di Rumah BUMN BRI. BRI pun berkesempatan memfasilitasi usaha lokal yang bergerak di bidang kriya tersebut agar semakin dikenal dunia. Sejumlah UMKM binaan hadir memamerkan sejumlah produk, yakni MINIMIZU dan Dannes Teakwood.  Pertama, MINIMIZU yang merupakan brand di bidang seni kreatif yang memiliki produk aquascape, paludarium, terrarium, dan moss art. UMKM ini memproduksi produk unik yang menyediakan berbagai macam bentuk model dan design sesuai permintaan konsumen.  Kemudian UMKM kedua, yakni Danesteakwood, produsen kerajinan kayu jati berbasis social enterprise dan green economy yang memanfaatkan limbah kayu jati untuk dijadikan produk homedecor dan housewares. UMKM ini menggunakan kualitas kayu terbaik dan berupaya memberdayakan pengrajin secara luas hingga ke seluruh pelosok Indonesia.  Terkait dukungan BRI terhadap pameran Kriyanusa 2024, Wakil Direktur Utama Catur Budi Harto mengungkapkan bahwa kesempatan berpartisipasi dalam kegiatan tahunan Dekranas merupakan bentuk komitmen nyata BRI dalam memberdayakan UMKM binaan. Hal ini sejalan dengan komitmen BRI dalam mewujudkan UMKM naik kelas hingga pasar global.  “Harapannya dengan adanya event berskala nasional seperti ini akan terus membuka akses dan kesempatan kepada para pelaku UMKM yang ujungnya dapat membuat mereka naik kelas,” ucapnya.  Adapun UMKM yang bergabung mencapai 420 stan kriya, di antaranya 30% berasal dari pengrajin muda, kemudian ada 24 stan kuliner. Pameran yang tahun ini mengangkat ikon kebudayaan Kalimantan Timur tersebut dimeriahkan dengan berbagai acara seperti pameran, fashion show, talk show, dan lokakarya, serta musik.\n",
      "True Label: Positive, Predicted Label: Neutral\n",
      "\n",
      "Text 57: KONTAN.CO.ID - Promo Indomaret hemat banget masih memberikan harga lebih murah hingga Rp 5.000. Ada promo Indomaret hemat banget sampai paling murah yang akan berakhir besok.  Indomaret memberikan banyak penawaran menarik setiap harinya untuk produk kebutuhan harian sampai promo es krim.  Ada promo ice cream fair Indomaret sampai promo Indomaret super hemat mingguan di bulan Juli tahun 2024.  Kini masih ada banyak penawaran menarik di promo Indomaret weekday hari ini Juli 2024.  Promo Indomaret weekday edisi promo Indomaret hemat banget dan promo Indomaret paling murah.  Ada apa saja? Berikut katalog promo Indomaret hari ini untuk rekomendasi belanja lebih murah.  Promo Indomaret Hemat Banget  Di promo Indomaret hemat banget hari ini ada harga lebih murah Rp 5.000 dengan kartu kredit Mandiri atau debit BRI.  Dapatkan Pop Mie beli 2 lebih hemat harga Rp 9.000 dan belanja produk lain harga hemat mulai Rp 3.000 saja.  Ada HIT semprotan serangga, Le Minerale, Potabee, minyak Tropical, Pepsodent, sampai kopi bubuk Kapal Api.  Katalog promo Indomaret hemat banget terbaru tersebut berlaku mulai tanggal 11-17 Juli 2024 mendatang.  Belanja produk lain minimal Rp 150.000 (tidak termasuk item promo) Berlaku 1 kali/kartu/hari Tidak berlaku kelipatan Pembelian di toko Indomaret  S&K Potongan Rp 5.000 dengan Kartu Debit BRI (Mastercard):  Belanja produk lain minimal Rp 100.000 (tidak termasuk item promo) Berlaku 1 kali/kartu/hari Tidak berlaku kelipatan Pembelian di toko Indomaret  Promo Indomaret Paling Murah  Selanjutnya yaitu promo Indomaret hari ini edisi promo paling murah mulai tanggal 11-17 Juli 2024.  Promo Indomaret paling murah memberikan promo tambah Rp 3.000 dapat 2 atau beli 3 lebih hemat.  Selain itu promo Indomaret paling murah hari ini juga memberikan potongan harga selama akhir pekan.  Ada potongan harga untuk susu Ultra Milk, shampoo Head & Shoulders, Nabati, Garnie Men dan So Klin.  Dapatkan cashback coin Rp 5.000 belanja dengan Gopay atau diskon Rp 2.000 belanja dengan Kredivo.  S&K Bayar dengan Gopay:  Khusus pembayaran penuh di toko Indomaret Minimal belanja Rp 15.000 Limit maksimal 2(dua) kali/ user /periode.  S&K Diskon Rp 2.000 dengan Kredivo:  Untuk pembayaran di toko Indomaret Minimal belanja Rp 50.000  Promo Indomaret paling murah dan hemat banget berlaku nasional. Namun ada selisih harga di luar pulau Jawa, Bali dan Lombok.  Promo Indomaret paling murah dan hemat banget di pertengahan bulan Juli 2024 ini tidak berlaku di toko Indomaret Point.  Syarat dan ketentuan bertanda kartu kredit atau debit ini tidak berlaku untuk produk virtual, rokok, gas elpiji, susu di bawah 1 tahun.\n",
      "True Label: Neutral, Predicted Label: Neutral\n",
      "\n",
      "Text 58: PT Bank Pembangunan Daerah Jawa Timur Tbk melakukan penandatanganan perjanjian kredit dengan PT Petrokimia Gresik di Surabaya, Jawa Timur, Jumat . ANTARA/HO-Bank Jatim  Direktur Mikro, Ritel, dan Menengah Bank Jatim R. Arief Wicaksono menyatakan pihaknya sangat mendukung proyek Phonska V karena bisa memenuhi kebutuhan pupuk majemuk dalam negeri, substitusi impor, serta penghematan devisa negara. Karena sifatnya modifikasi/rehabilitasi, secara keseluruhan peralatan yang ada dapat dikategorikan sebagai peralatan baru, peralatan modifikasi, dan peralatan eksisting.  Berita ini telah kami rangkum agar Anda dapat membacanya dengan cepat. Jika Anda tertarik dengan beritanya, Anda dapat membaca teks lengkapnya di sini. Baca lebih lajut:  Indonesia Berita Terbaru, Indonesia Berita utama  Similar News: Anda juga dapat membaca berita serupa dengan ini yang kami kumpulkan dari sumber berita lain.  Punya 31 Pabrik Pupuk, Begini Upaya Petrokimia Gresik Mitigasi Perubahan Iklim 'Sebagai perusahaan yang memiliki 31 pabrik, Petrokimia Gresik tentu memiliki dampak terhadap lingkungan,' Sumber: suaradotcom - 🏆 28. / 53 Baca lebih lajut »  Semarakkan HUT RI dan Lestarikan Bumi, Petrokimia Gresik Gelar Lomba Bersih Lingkungan Masyarakat Sekitar Berita Semarakkan HUT RI dan Lestarikan Bumi, Petrokimia Gresik Gelar Lomba Bersih Lingkungan Masyarakat Sekitar terbaru hari ini 2024-08-14 14:35:05 dari sumber yang terpercaya Sumber: tvOneNews - 🏆 1. / 99 Baca lebih lajut »  Petrokimia Gresik kirim 19 atlet binaan untuk berlaga di PON 2024 Petrokimia Gresik yang merupakan perusahaan Solusi Agroindustri anggota holding Pupuk Indonesia mengirimkan 19 atlet senam dan voli binaan untuk berlaga dalam ... Sumber: antaranews - 🏆 6. / 78 Baca lebih lajut »\n",
      "True Label: Positive, Predicted Label: Positive\n",
      "\n",
      "Text 59: Jakarta-(10/09/2024) Pelantikan Presiden RI Selanjutnya kian dekat, publik bertanya tanya siapakah pengisi di kabinet pemerintahan yang baru, apakah akan sama dengan sebelumnya, atau justru di isi oleh banyak orang orang yang di luar partai/profesional.  Menurut Pak Hasyim Djoyokusumo saudara dari presiden terpilih bapak Prabowo mengatakan, para pengisi kabinet yang baru akan di isi oleh alumni SMA Taruna Nusantara. Ini menandakan bahwa akan ada banyak orang baru di kabinet Prabowo-Gibran.  Lalu siapakah yang akan mengisi Menparekraf Selanjutnya Pengganti Sandi Uno, apakah dari Partai atau justru dari Profesional. Menurut Ridho Direktur Politik Kita salah satu mahasiswa alumni Universitas Mataram Nusa Tenggara Barat menjelaskan bahwa Menparekraf Selanjutnya harus orang yang bener bener menggeluti pariwisata.  Ridho juga mengungkapkan bahwa Menparekraf Selanjutnya harus orang yang bener bener dekat dengan pelaku wisata di daerah daerah serta mampu merangkul mereka untuk setiap event yang nanti akan di laksanakan oleh Menparekraf itu sendiri.  Besar harapan seluruh masyarakat Indonesia khususnya pelaku wisata bahwa Mentri pariwisata selanjutnya itu pro kepada mereka, dan mensupport seluruh ide dan gagasan dari kelompok kelompok pelaku wisata.\n",
      "True Label: Neutral, Predicted Label: Neutral\n",
      "\n",
      "Text 60: ADVERTISEMENT  kumparan Hadir di WhatsApp Channel  Follow  Menurut Departemen Perdagangan RI Tahun 2009 bahwa industri kreatif adalah industri yang berasal dari pemanfaatan keterampilan, kreativitas, dan bakat yang dimiliki individu dalam menciptakan kesejahteraan dan lapangan pekerjaan. Kemudian Industri Kreatif ini akan berfokus untuk memberdayakan daya cipta dan daya kreasi suatu Individu. Munculnya istilah industri kreatif ini menjadi peluang bagi kaum Gen-z atau pemuda lainnya dalam mencari usaha yang mereka minati dan pasarnya pun sudah jelas ada.  ADVERTISEMENT  Pengertian Industri Kreatif dan Ciri-cirinya dalam Dunia Ekonomi  Kehadiran industri kreatif ini dapat mendorong dalam sektor ekonomi yang berfokus untuk menciptakan produk dan layanan bisnis yang kreatif dan penuh dengan keahlian. Di dorong dengan daya fasilitas yang lengkap, dunia industri kreatif tentunya tidak menutup kemungkinan akan menjadi mata pencaharian yang cukup menjanjikan. Memang fasilitas seperti apa? Yang terpenting dari pergerakan indsutri kreatif ialah mengkoneksikan layanan internet serta handphone/laptop yang memadai.  Peluang mendapatkan pekerjaan dalam dunia industri kreatif sebenarnya dinamis, selaku pelaku dalam dunia industri kreatif kita perlu betul-betul memiliki daya analisis serta jiwa krratif yang tinggi. Karena kita tidak hanya bersaing pada satu dua orang saja, mungkin puluhan ribu sudah menyiapkan hal yang sama. Dari situ kita perlu membutuhkan jiwa kreatif yang tinggi dalam menghadapi dunia industri krearif ini. Ketika kita sudah menguasai hal tersebut, maka tidak menutup kemungkinan kita dapat bersaing secara sehat dengan saingan ratusan ribu pelaku industri kreatif.  ADVERTISEMENT  Relasi industri kreatif dengan sektor ekonomi  Saat ini industri kreatif di Indonesia tengah menjadi sorotan karena telah menyumbang yang cukup signifikan terhadap perekonomian Indonesia. Berdasarkan data dari BEKRAF capaian kontribusi ekonomi kreatif terhadap domestic bruto Indonesia tahun 2017 sebesar 7,28%. Dengan capaian yang cukup besar tersebut, maka kita selaku gen-z harus bisa membaca serta mencermati mengenai sumber apa saja yang terdapat di Industri kreatif.  Berikut beberapa sumber industri kreatif yang menjadi referensi kita bersama, di antaranya ialah:  1. kuliner, sumber kuliner menjadi usaha yang menjanjikan, karena semua orang akan membutuhkan yang namanya makanan. Namun untuk menjadi ciri khas dari kuliner yang kita buat harus memiliki nilai otentik dan ciri khas, supaya menjadi nilai branding tersendiri.  ADVERTISEMENT  2. Fashion, seperti yang kita ketahui bahwa fashion akan menjadi pembahasan yang dinamis dari masa-ke masa. Orang bilang outif lu apa? Ketika sudah terjadi seperti itu, maka fashion akan menjadi tawaran yang menarik. Terlebih fashion yang sifatnya kekinian/trendi.  3. Periklanan, sub sektor periklanan pada umumnya menjadi sumber yang akan terus berputar, karena pada dasarnya periklanan merupakan metode untuk menyampaikan informasi kepada khalayak umum. Dan orang yang memiliki usaha tentu akan membutuhkan iklan sebagai cara mempromosikan produk yang mereka miliki.  4. Fotografi, jenis industri fotografi ini menjadi sektor yang menjanjikan. Karena sepertinya semua moment yang dibuat tentunya akan sangat membutuhkan dokumentasi,dan peran potografi itulah yang akan berperan sangat penting, terlebih dengan maraknya dunia digital ini potografi akan menjadi garda depan untuk mengabadikan setiap moment yang klien inginkan. Seperti kegiatan wisuda, wedding, ulang tahun, kegiatan family gathering, dan kegiatan yang lainnya lagi  ADVERTISEMENT  5. Musik, musik menjadi tawaran yang menjanjikan bagi para musisi, di sisi lain musisi ini memiliki idealisnya masing-masing, namun industri akan menjadi nilai tambah buat mereka untuk memenuhi kebutuhan lainnya, seperti produksi itu senditi. Dan music sekarang sudah tersebar di setiap lini, baik digital atau pun di kehidupan sehari-hari.  Apakah hanya itu saja? tidak, tentunya sangat banyak sekali sub sektor industri kreatif yang lainnya, seperti Tv, radio, podcast, arsitektur, designer, penerbitan, film, animasi, video, seni pertunjukan, aplikasi dan pengembangan permainan dan seni rupa. Dengan melihat besarnya peluang industri kreatif di Indonesia, tidak ada salahnya bagi kita semua untuk bisa mengembangkan jenis usaha ini agar menjadi wirausaha yang sukses dalam bidangnya masing-masing. Selain berfokus terhadap keuntungan atau nilai profit, pengembangan usaha ini juga sangat berpotensi untuk membuka lapangan pekerjaan bagi yang akan membutuhkan. Tentu ini akan sangat berdampak terhadap perputaran roda ekonomi, baik secara makrp ataupun mikro.  Personal Branding terhadap dunia Industri Kreatif  Industri kreatif tidak akan pernah kehabisan dalam membangun roda ekonomi sejauh kita bisa mengelolanya dengan baik. Pengelolaan yang baik itu perlu di tanamkan terlebih dahulu pada diri kita selaku pelaku usaha. Karena kedepannya kita akan bersaing dengan puluhan ribu pelaku industri lainnya, maka dengan hal itu kita perlu membangun dan terus menggali potensi yang kita miliki agar bisa sesuai dengan pasar yang terjadi di industri kreatif.  Kreativitas Generasi Z dalam Industri Kreatif  Untuk terus bertahan pada dunia industri kreatif ini salah satunya kita harus memiliki personal branding yang kuat. Apa itu personal branding? Hemat penulis personal branding ialah bagaimana caranya konsumen harus mengingat kita secara terus menerus dari kondisi dan situasi bagaimanapun. Hal ini berupaya untuk membangun relasi antara pelaku usaha dengan konsumen, sehingga bisa menghasilkan yang Namanya pelanggan. Ketika industri kita sudah berada di tahap memiliki pelanggan, maka secara tidak langsung personal branding kita berhasil di serap oleh konsumen yang kita miliki.\n",
      "True Label: Neutral, Predicted Label: Negative\n",
      "\n",
      "Text 61: A Damenta juga menuturkan bahwa saat ini Palembang sudah masuk dalam Karisma Event Nusantara (KEN) yang diseleksi oleh Kemenparekraf mengalahkan ratusan kabupaten/kota lainya.  Hal ini menunjukan bahwa pemerintah kota terus berkomitmen dalam pengembangan dan kemajuan Kota Palembang dari berbagai sektor terkhusus UMKM dan ekonomi kreatif.***\n",
      "True Label: Negative, Predicted Label: Neutral\n",
      "\n",
      "Text 62: Perajin menghaluskan kayu saat membuat kerajinan replika mobil pesanan pasar ekspor di rumah produksi Tetap Jaya Art, Kemiri, Mojosongo, Boyolali, Jawa Tengah, Rabu (11/9/2024). Berdasarkan data Kementerian Pariwisata dan Ekonomi Kreatif nilai ekspor ekonomi kreatif hingga pertengahan 2024 telah mencapai 12,36 miliar dolar AS atau sudah mencapai 44,89 persen dari target ekspor sebesar 27,53 miliar dolar AS untuk tahun ini. ANTARA FOTO/Aloysius Jarot Nugroho/foc.\n",
      "True Label: Neutral, Predicted Label: Negative\n",
      "\n",
      "Text 63: Newslampungterkini.com – Pemerintah Kota Bandar Lampung kembali mendapatkan penghargaan di tingkat nasional. Kali ini dari Menteri Pariwisata dan Ekonomi Kreatif (Kemenparekraf).  Penghargaan yang diterima langsung Walikota Bandar lampung Eva Dwiana, pada Senin, 9 September 2024. Ini merupakan penghargaan pada program Apresiasi Pemasaran Pariwisata Indonesia (APPI).  Penghargaan yang diterima itu sebelumnya melalui kompetisi Lomba Video Kreatif Bangga Berwisata di Indonesia (BBWI) antar Dinas Pariwisata Daerah se-Indonesia.  Tak tanggung-tanggung, dalam lomba video tersebut Pemkot Bandar Lampung menyabet empat kategori lamba sekaligus, yakni tema Destinasi Wisata meraih Juara ke-3; tema Kuliner juara ke-5; tema Seni dan Budaya juara ke-7; dan tema Even Daerah juara ke-10.  Atas raihan penghargaan tersebut, Walikota Bandar Lampung Eva Dwiana, mengapresiasi penghargaan APPI 2024 yang diserahkan langsung oleh Menparekraf RI Sandiaga Uno.  “Alhamdulilah, Pemerintah Kota Bandar Lampung meraih empat penghargaan di malam APPI 2024 yang diadakan Kementerian Pariwisata dan Ekonomi Kreatif,” kata Walikota Eva Dwiana, Selasa (10/9/2024).  Menurutnya, kolaborasi dalam mengembangkan sektor pariwisata dan ekonomi kreatif menjadi penting agar kunjungan di Kota Bandar Lampung terus meningkat.  Sebelumnya, Walikota Bandar Lampung Eva Dwiana telah lebih dulu menerima penghargaan bergengsi, Satyalancana Wira Karya, di Jakabaring Sport City, Palembang, Sumatera Selatan.  Penghargaan tersebut diserahkan oleh Menteri Koperasi dan UKM (MenKopUKM) Teten Masduki, pada puncak peringatan Hari Usaha Mikro, Kecil, dan Menengah (UMKM) Nasional.\n",
      "True Label: Neutral, Predicted Label: Neutral\n",
      "\n",
      "Text 64: INIBENGKULU – Pinjam KUR BSI ternyata ada yang bisa tanpa agunan, segini jumlah maksimal yang bisa diajukan dan daftar simulasi angsurannya.  KUR BSI merupakan produk pembiayaan untuk modal usaha dan investasi dari pemerintah yang disalurkan melalui Bank Syariah Indonesia (BSI).  Pinjam KUR BSI bisa menjadi pilihan bagi pelaku usaha yang ingin mendapatkan pinjaman untuk usaha namun bebas dari riba. Pasalnya BSI merupakan bank yang menerapkan prinsip syariah.  Pinjaman di Bank BSI tidak menggunakan sistem bunga seperti bank-bank konvensional lainnya melainkan menerapkan prinsip Murabahah dan Ijarah dimana nasabah hanya dikenakan margin atau bagi hasil.  Pada produk pinjaman KUR BSI, nasabah akan dikenakan margin dengan perhitungan setara 6 persen per tahun dalam pembayaran angsurannya.  Kabar baiknya lagi, pinjam KUR BSI ternyata bisa tanpa agunan. Pinjaman KUR BSI yang dapat diajukan tanpa agunan tersedia pada layanan pembiayaan super mikro dan mikro dengan limit pinjaman maksimal masing-masing 10 juta dan 100 juta.  Apa saja syarat pinjaman KUR BSI?  Dikutip dari laman resmi salamdigital.bankbsi.co.id, syarat pinjaman KUR BSI yakni perorangan/individu yang melakukan usaha produktif dengan pengalaman usaha minimal 6 bulan. Tidak pernah menerima pembiayaan/kredit jenis komersial, memiliki izin usaha, NPWP serta KTP dan Kartu Keluarga (KK).  Bagaimana jika memiliki kredit konsumtif seperti pinjol? Tidak masalah, penerima KUR BSI diperbolehkan jika memiliki pembiayaan konsumsi untuk keperluan rumah tangga, pembiayaan skema/skala ultra mikro, pembiayaan pada perusahaan layanan pendanaan bersama berbasis teknologi informasi.  Bahkan bisa menerima KUR secara bersamaan dengan kredit lain seperti KPR, KKP roda 2 produktif, pembiayaan dengan jaminan SK pensiun, kartu kredit, pembiayaan Resi Gudang dan pembiayaan konsumsi untuk keperluan rumah tangga.  Bank BSI hanya memberikan batas maksimal jangka waktu angsuran selama 3 tahun kepada nasabah KUR super mikro dan KUR Mikro. Sebagai pertimbangan sebelum mengajukan pinjaman berikut ini simulasi angsurannya.  Limit Rp 10 juta\n",
      "True Label: Negative, Predicted Label: Negative\n",
      "\n",
      "Text 65: Warta Ekonomi, Jakarta -  PT Bank Danamon Indonesia Tbk (Danamon) dan Badan Penyelenggara Jaminan Sosial (BPJS) Ketenagakerjaan resmi menandatangi nota kesepahaman (Memorandum of Understanding /MoU) terkait penerimaan iuran dan pembayaran klaim di Menara Bank Danamon, Jakarta, Senin (3/6/2024).  Direktur Utama PT Bank Danamon, Daisuke Ejima menuturkan, kerja sama tersebut menjadi salah satu potensi bisnis Bank Danamon dalam meningkatkan jumlah nasabah dan transaksi ke depan.  ”Sebagai salah satu bank persepsi, Danamon juga mendukung program BPJS Ketenagakerjaan dan pemerintah untuk meningkatkan jangkauan perlindungan BPJS Ketenagakerjaan untuk setiap lapisan masyarakat,” ujar Ejima dalam keterangan tertulisnya, Senin (3/6/2024).  Seperti diketahui, sebagai bank yang customer centric, Danamon menawarkan solusi keuangan holistik (one stop financial solution provider) yang sesuai dengan tahapan kehidupan masyarakat.  Hal ini didukung oleh posisi Danamon sebagai bagian dari grup MUFG, dengan ekosistem layanan yang luas, terutama setelah selesainya akuisisi Home Credit Indonesia oleh MUFG; Mandala Finance dan Zurich oleh Adira Finance; serta dukungan mitra strategis Danamon seperti Akulaku, Grab, dan Dana Ventura Garuda Fund oleh MUFG Innovation Partners Co., Ltd (MUIP).  Berkomitmen untuk tumbuh bersama nasabah, Danamon terus meningkatkan kemampuan ekosistem digitalnya dan berupaya menawarkan solusi keuangan terbaik melalui serangkaian inisiatif yang salah satunya adalah kerja sama dengan BPJS Ketenagakerjaan.  Ejima menuturkan, dalam mendukung kerja sama tersebut, Danamon menyediakan berbagai kanal penerimaan iuran dari peserta BPJS Ketenagakerjaan dan pembayaran klaim dari BPJS Ketenagakerjaan.\n",
      "True Label: Neutral, Predicted Label: Neutral\n",
      "\n",
      "Text 66: - Platform jual beli dan investasi aset kriptografi PT Pintu Kemana Saja (Pintu) meyakini Indonesia bisa jadi pemain kunci pasar kripto global.  CMO Pintu Timothius Martin menyatakan, dirinya meyakini Asia Tenggara merupakan kawasan yang sangat penting bagi industri kripto secara global, khususnya Indonesia yang bisa menjadi pemain kunci yang menonjol di Asia Tenggara.  Ini karena didukung dengan banyak faktor positif di antaranya jumlah investor kripto yang mencapai 20 juta orang hingga nilai transaksi dalam enam bulan terakhir mencapai 20 juta dollar AS.  Ilustrasi aset kripto.  \"Angka tersebut sangat besar yang disumbang dari satu negara saja. Jadi pasar kripto di Asia Tenggara punya potensi yang besar karena didukung oleh regulasi yang ramah sehingga membuat penggunanya bisa berinvestasi dengan aman,” kata Timothius dalam siaran pers, Sabtu (31/8/2024).  Indonesia menjadi negara yang tanggap dalam mengatur perdagangan aset kripto dengan berbagai regulasi yang dikeluarkan oleh Badan Pengawas Berjangka Perdagangan Komoditi (Bappebti), di antaranya aturan yang mengkategorikan bahwa aset kripto diakui sebagai komoditas yang dapat diperdagangkan di bursa berjangka.  Kemudian, aturan tentang deretan aset crypto yang diizinkan untuk diperdagangkan, hingga peluncuran lembaga Self-Regulatory Organizations (SRO) yang diresmikan oleh Bappebti untuk mengawasi perdagangan para pelaku usaha kripto agar dapat berlangsung dengan aman dan transparan.  “Kerangka regulasi yang jelas dari Bappebti, hingga dukungan infrastruktur berbagai mitra dari bank-bank besar menjadikan industri kripto dalam negeri dapat tumbuh dengan baik,\" ujar Timothius.  Dia pun meyakini, adopsi kripto yang sekarang baru mencapai 7 persen dari total jumlah populasi Indonesia akan terus tumbuh karena potensinya masih sangat besar.  \"Untuk mendukung peningkatan tersebut, kami akan fokus mengedukasi pasar domestik melalui platform aplikasi crypto all-in-one yang bisa digunakan untuk belajar menjelajahi dunia kripto,” ungkap Timothius.  Aplikasi Pintu, imbuh dia, menjadi perusahaan berbasis teknologi blockchain yang menghadirkan fitur investasi kripto terlengkap. Tiga fitur utamanya antara lain aplikasi Pintu yang fokus pada investor pemula yang di dalamnya juga banyak fitur seperti Pintu Earn, Limit Order, dan Auto Dollar-Cost Averaging (DCA).  Fitur kedua adalah Pintu Web3 Wallet sebuah wallet crypto yang memberikan kemudahan akses ke berbagai aset kripto, mengoleksi non-fungible token (NFT), berinteraksi ke beragam Decentralized Applications (dApps), platform Decentralized Finance (DeFi), hingga Decentralized Exchange (DEX).\n",
      "True Label: Positive, Predicted Label: Positive\n",
      "\n",
      "Text 67: LINGKARPENA.ID | Desa wisata Hanjeli, Desa Waluran/Kecamatan Waluran, Kabupaten Sukabumi, Jawa Barat, berhasil meraih penghargaan Wonderful Indonesia Impact, dari Kementerian Pariwisata dan Ekonomi Kreatif Republik Indonesia.  Penghargaan tersebut diterima pengelola Desa Wisata Hanjeli, Asep Hidayat, pada Kamis, 19 September 2024, bertempat di Hotel Painmon, Jakarta.  “Kami bersyukur Desa Wisata Hanjeli terpilih sebagai Desa wisata terbaik. Malam ini saya langsung menerima penghargaan Indonesia Wonderful Impact,” kat Asep Hidayat kepada Lingkarpena melalui saluran teleponnya.  Untuk meraih penghargaan itu, kata Asep Hidayat, empat bulan yang lalu kami menerima formulir dari Kementetian Pariwisata dan Ekonomi Kreatif Indonesia. Ada 200 desa wisata yang menerima formulir itu, ” jelas Asep.  “Proses pemilihanya sangat ketat. Dari 200 desa wisata diseleksi menjadi 30 terpilih, lalu diseleksi menjadi 6. Desa wisata Hanjeli dari Sukabumi dan Selamik dari Ciamis. Alhamdulilah Desa Wisata Hanjeli bisa mengharumkan nama Kabupaten Sukabumi,” ujarnya.  “Untuk temen-temen desa wisata jangan berkecil hati bahwa potensi apa yang kita punya hari ini, tinggal kita olah, kita terus berinovasi, kita jangan menyerah,” pesan Asep Hidayat, founder Desa Wisata Hanjeli.  Diketahui, Untuk mendukung pengembangan pariwisata di tingkat desa, pemerintah meluncurkan program Wonderful Indonesia Impact.  Program ini bertujuan untuk mendorong inovasi dan kreativitas dalam pengelolaan potensi wisata lokal.  Dengan adanya “Wonderful Indonesia Impact”, diharapkan industri pariwisata Indonesia dapat lebih fokus pada implementasi keberlanjutan dan meningkatkan kualitas pariwisata di tanah air.  Dengan demikian, Indonesia dapat terus menjadi destinasi wisata yang menarik dan berkelanjutan bagi wisatawan dari seluruh dunia. Daftar Pemenang Wonderful Indonesia Impact: Meningkatkan Pariwisata Desa  Berikut adalah daftar 6 pemenang Wonderful Indonesia Impact 2024 dari Kemenparekraf RI:  1. Desa Wisata Pela, Provinsi Kalimantan Timur  2. Desa Wisata Kreatif Terong, Provinsi Bangka Belitung  3. Desa Wisata Hanjeli, Provinsi Jawa Barat  4. Desa Wisata Osing Kemiren, Provinsi Jawa Timur\n",
      "True Label: Neutral, Predicted Label: Neutral\n",
      "\n",
      "Text 68: TRIBUNJATENG.COM - Etawalin Dieng Run 2024 (EDR 2024) adalah event lari yang mengundang atlet dan masyarakat umum dari seluruh Indonesia, khususnya Jawa Tengah.  Setelah sukses pada penyelenggaraan perdana di 2023, tahun ini EDR kembali digelar pada 13 Oktober 2024 dengan rute yang lebih menantang di kawasan dataran tinggi Dieng.  Dengan tema \"Warisan Budaya di Setiap Langkah\", EDR 2024 menawarkan pengalaman unik, memadukan semangat olahraga dengan kekayaan budaya lokal Dieng.  Peserta akan memulai dan mengakhiri lomba di Lapangan Pandawa - Dieng Kulon, dengan pilihan jarak 5K (road run) dan 10K (semi trail run). Rute ini memberikan pemandangan memukau serta udara sejuk khas Dieng, menjadikan pengalaman berlari semakin istimewa.  Pada penyelenggaraan kali ini, hadiah dan doorprize senilai total Rp 100 juta akan diberikan kepada para pemenang kategori 5K dan 10K, baik untuk pria maupun wanita, dengan masing-masing lima pemenang podium.  Event Director, Cacik Gunarti, menjelaskan bahwa rute 10K tahun ini akan lebih menantang dengan kategori semi trail run. “Untuk kategori 10K, sebagian rute merupakan jalur non-aspal, meskipun masih banyak yang melewati jalan aspal,” ujarnya.  Mengapa Dieng?  Dieng dikenal sebagai destinasi wisata eksotis yang menawarkan pemandangan indah dan medan yang menantang bagi para pelari. Dengan elevasi hingga hampir 200 meter, Dieng menawarkan pengalaman yang menggabungkan street run dan trail run.  Ke depannya, rute EDR berpotensi dikembangkan menjadi half marathon (21K) dan full marathon (42K), menambah daya tarik Dieng sebagai destinasi sport tourism nasional maupun internasional.  Selain menjadi event lari, EDR 2024 juga diharapkan dapat meningkatkan perekonomian dan pariwisata lokal melalui partisipasi aktif masyarakat setempat.  Etawalin sebagai Sponsor Utama EDR 2024  Etawalin, minuman sehat berbahan dasar susu kambing etawa dengan 5 herbal alami, kembali menjadi sponsor utama EDR 2024.  Produk ini dipercaya oleh konsumen karena khasiatnya dalam menjaga kesehatan sendi dan tulang. Etawalin mendukung penuh event ini sebagai bagian dari komitmen mereka dalam mendorong gaya hidup sehat di Indonesia.  Pendaftaran EDR 2024 telah dibuka hingga 13 September 2024 dengan kuota 2.500 pelari untuk kategori 5K dan 10K. Acara ini juga akan dimeriahkan dengan pameran kuliner lokal, penampilan tari, dan musik tradisional, yang berlangsung di area start dan finish pada 11-12 Oktober 2024.  Untuk mendapat harga special promo, peserta dapat mendaftar melalui aplikasi TribunX atau website Tribun Booking, serta melalui tautan berikut:  Jangan lewatkan kesempatan untuk merasakan pengalaman berlari di dataran tinggi Dieng yang menantang sekaligus merayakan kekayaan budaya lokal!  Segera daftarkan diri Anda dan dapatkan informasi lebih lanjut di akun Instagram atau TikTok @diengrun.\n",
      "True Label: Neutral, Predicted Label: Neutral\n",
      "\n",
      "Text 69: JAKARTA,SUARAINVESTOR.COM – Komisi X DPR RI menekankan pengaturan RUU tentang Perubahan Ketiga atas UU Nomor 10 Tahun 2009 tentang Kepariwisataan akan didasarkan pada paradigma baru kepariwisataan yakni pariwisata berkualitas.  “Pengaturan substansi RUU Kepariwisataan didasarkan paradigma baru kepariwisataan dari pariwisata massal (mass tourism) kepada pariwisata berkualitas (quality tourism),” ujar Wakil Ketua Komisi X DPR RI Abdul Fikri Faqih saat membacakan kesimpulan Rapat Kerja Komisi X dan Kemenparekraf di Gedung Nusantara I, DPR RI, Senayan, Jakarta, Selasa (17/09/2024).  Selain itu, adapun penguatan identitas bangsa, perekonomian dan pertahanan bangsa dengan tetap menjaga nilai-nilai masyarakat, adat istiadat, kekayaan alam dan warisan budaya di mana pengenalannya dimulai dari pendidikan.  Kemudian pengaturan kelembagaan pariwisata dengan merujuk kelembagaan di Tingkat global dengan mengutamakan spirit kolaborasi serta menjadikan pariwisata sebagai sektor prioritas pembangunan.  Pembahasan pembicaraan tingkat I mengenai RUU tentang Perubahan Ketiga atas UU Nomor 10 Tahun 2009 tentang Kepariwisataan ini juga disepakati untuk dilakukan pada masa Persidangan I Tahun 2024-2025. Namun apabila tidak memungkinkan maka akan dilakukan carry over pada DPR RI periode 2024-2029.\n",
      "True Label: Neutral, Predicted Label: Neutral\n",
      "\n",
      "Text 70: Bisnis.com, JAKARTA— PT Adira Dinamika Multifinance Tbk. (ADMF) atau Adira Finance mencatatkan piutang pembiayaan dikelola mencapai Rp58,4 triliun pada semester I/2024. Angka tersebut meningkat sekitar 15% apabila dibandingkan dengan periode yang sama pada tahun sebelumnya.  “Piutang pembiayaan yang dikelola Perusahaan [termasuk pembiayaan bersama] mengalami pertumbuhan sebesar 15% yoy menjadi Rp58,4 triliun,” kata Presiden Direktur Adira Finance, Dewa Made Susila, dalam Media Update Kinerja Keuangan Adira Finance Semester I/2024 di Jakarta pada Kamis (1/8/2024).  Namun demikian, Made menambahkan seiring dengan lesunya industri otomotif di sepanjang semester pertama tahun ini, pembiayaan baru Adira Finance sedikit mengalami penurunan sebesar 2% yoy menjadi Rp20 triliun.  Diketahui, penjualan ritel mobil baru mengalami penurunan sebesar 15% yoy menjadi 432.000 unit selama semester I/2024. Sementara untuk penjualan sepeda motor baru relatif stabil yaitu sebesar 3 juta unit.  Made mengatakan Adira Finance akan terus menerapkan berbagai inisiatif strategi untuk mendorong kinerja bisnis di tengah tantangan yang terjadi saat ini. Salah satunya adalah terus mengembangkan bisnis nonotomotif seperti pinjaman multiguna.  Selain itu, untuk dapat terus meningkatkan penyaluran pembiayaan, Adira Finance juga akan memperluas jaringan bisnisnya secara selektif di wilayah-wilayah yang berpotensi tinggi.  Hingga 30 Juni 2024, Adira Finance telah mengoperasikan 476 jaringan bisnis di seluruh Indonesia, termasuk cabang syariah. Dari sisi digital, perusahaan terus mengoptimalkan penjualan melalui platform digital seperti Adiraku, momobil.id, momotor.id, dan dicicilaja.com.  Sepanjang semester pertama tahun 2024, perusahaan mencatat pertumbuhan pembiayaan baru di segmen non otomotif sebesar 21% yoy mencapai Rp4,6 triliun.  Pembiayaan multiguna berkontribusi terbesar dalam pembiayaan non-otomotif perusahaan. Selain itu, perusahaan mencatatkan pembiayaan baru di segmen syariah sebesar Rp4,3 triliun atau mewakili 22% dari total pembiayaan baru.  Untuk dapat mendorong pertumbuhan pembiayaan syariah, perusahaan akan terus melakukan kegiatan pemasaran, ekspansi dari kanal-kanal penjualan di komunitas syariah, serta memaksimalkan penjualan produk syariah khususnya non-otomotif seperti produk Adira Multi Dana Syariah (AMANAH).  Direktur Keuangan Adira Finance, Sylvanus Gani Kukuh Mendrofa, menambahkan dari sisi keuangan, Adira Finance membukukan total pendapatan mencapai Rp 5,0 triliun, naik sebesar 11% yoy.  Sementara itu, total beban meningkat sebesar 16% yoy menjadi Rp4,0 triliun pada Semester I/2024.  “Peningkatan pada beban disebabkan in naiknya biaya pendanaan perusahaan seiring dengan peningkatan suku bunga. Dengan demikian, laba bersih perusahaan setelah pajak dibukukan sebesar Rp 765 miliar 7 atau mengalami penurunan sebesar 7% yoy,” kata Gani.  Sementara, Return on Asset (ROA) dan Return on Equity (ROE) perusahaan masing-masing tercatat menjadi sebesar 6,1% dan 14,2% pada semester 1/2024.  Dari sisi pendanaan, Gani menambahkan Adira Finance terus melakukan diversifikasi sumber pendanaan baik melalui dukungan berkelanjutan dari pembiayaan bersama dengan perusahaan induknya, Bank Danamon.  Adira Finance juga memperoleh pinjaman eksternal dari bank baik dalam negeri maupun luar negeri, serta pasar modal melalui obligasi lokal dan sukuk mudharabah.  Per posisi Juni 2024, pembiayaan bersama mewakili 47% dari piutang yang dikelola. Sementara itu, total pinjaman perusahaan pada Juni 2024 meningkat sebesar 44% yoy menjadi Rp21,5 triliun. Perinciannya dari pinjaman bank baik dalam negeri maupun luar negeri, obligasi dan sukuk masing-masing berkontribusi 64% dan 36%.\n",
      "True Label: Neutral, Predicted Label: Neutral\n",
      "\n",
      "Text 71: TANGERANG RAYA, iNewsSerpong.id - Ratusan santri di Kabupaten Tangerang mengikuti pelatihan kecakapan digital melalui program Santri Digitalpreneur, yang digelar Kementerian Pariwisata dan Ekonomi Kreatif (Kemenparekraf).  Program Kemenparekraf ini bertujuan agar para santri dapat menciptakan konten dakwah yang menarik, kreatif, dan inspiratif, serta menyebarkan nilai-nilai kehidupan yang positif secara luas dan efektif.  \"Program ini diselenggarakan untuk mempersiapkan santri menjadi digitalpreneur. Digitalisasi saat ini sudah menjadi keniscayaan yang tidak bisa kita pungkiri,\" ungkap Sandiaga Uno saat menghadiri acara Santri Digitalpreneur di Pondok Pesantren Nur Antika, pada Sabtu, 14 September 2024.  Transformasi Digital  Sandiaga menekankan bahwa pemerintah telah memulai transformasi digital, dan santri diharapkan dapat mengambil peran aktif dalam mengisi ruang-ruang digital dengan konten dakwah yang menarik.  \"Santri bisa menjadi pionir dalam menyebarkan dakwah Islam, membangun komunitas online yang positif, dan memberikan pengaruh bagi perkembangan Islam di Indonesia,\" tambahnya.  Sandiaga menjelaskan bahwa santri akan dibimbing oleh mentor super, Kang Ferry (Ferry Ardiansyah), untuk memahami cara membuat konten yang baik dan menyampaikan narasi positif untuk persatuan bangsa.  \"Konten-konten yang positif dan inspiratif akan memberikan dampak yang luas. Dalam produksinya, kita memerlukan inovasi, adaptasi, dan kolaborasi,\" ungkapnya.  “Menghadapi digitalisasi, kita perlu totalitas dan kreativitas. Kita yakin santri akan berada di garis depan menuju Indonesia Emas 2045. Santri harus bijak dan kreatif dalam menggunakan media digital, yang saat ini merupakan bagian penting dari kehidupan kita,” tegas Sandiaga.  Program Santri Digitalpreneur di Pondok Pesantren Nur Antika berlangsung selama empat hari, dari 14 hingga 17 September 2024, diikuti oleh santri dari 10 pondok pesantren.\n",
      "True Label: Negative, Predicted Label: Negative\n",
      "\n",
      "Text 72: POJOKSATU.id, JAKARTA -- Jakarta International Marathon (JAKIM) 2024 sukses digelar. Sebanyak 15 ribu peserta baik lokal maupun mancanegara ikut serta pada perhelatan yang digelar di Jakarta Pusat, Minggu (23/6/2024).  Sejak dini hari peserta sudah siap dan antusias mengikuti lomba. Ada tiga kategori yang dilombakan, yakni Marathon (42,195K) yang dimulai pukul 04.00 WIB, Half Marathon (21,0975K) mulai pukul 05.15 WIB, dan 10K pada pukul 06.15 WIB. Adapun semua kategori ini mulai start dari Monas.  Salah satu kesuksesan pelaksanaan Jakarta Internasional Marathon 2024 dinilai melalui pemenuhan standarisasi penyelenggaraan dan keselamatan peserta yang telah sesuai, termasuk standar hydration point.  Race Director JAKIM 2024, Satrio Guardian menyatakan, pihaknya telah berupaya maksimal memenuhi standarisasi internasional.  \"Kami telah menyiapkan water station di 20 titik sesuai standar Internasional. Peserta tidak perlu khawatir karena kami telah berkolaborasi dengan Le Minerale, air mineral dengan mineral berkualitas dan berstandar Internasional juga,\" kata Satrio, Minggu (23/6/2024).  Secara keseluruhan acara berlangsung dengan baik, termasuk keamanan para peserta serta kebutuhan hidrasi dan kecukupan mineral peserta. Le Minerale dengan kandungan mineral esensialnya mampu membantu mengatur suhu tubuh pelari agar tetap stabil dan juga berfungsi menyalurkan oksigen ke berbagai jaringan tubuh. Apabila transfer oksigen terhambat, pelari akan mengalami pusing saat mengalami kekurangan cairan dan mineral terutama saat kepanasan saat berlari.  \"Kami memilih Le Minerale sebagai Official Mineral Water karena memiliki kandungan mineral essensial yang terjaga kualitasnya dan telah berstandar Internasional. Terlebih, Le Minerale merupakan satu-satunya Air Mineral Dalam Kemasan (AMDK) yang secara jelas mencantumkan jumlah kandungan mineral di kemasannya.\" jelas Satrio.  Sementara itu, Yuna Eka Kristina, Head of Public Relations and Digital Le Minerale menyampaikan banyak terima kasih atas kepercayaan masyarakat kepada Le Minerale, sehingga terpilih menjadi Official Mineral Water JAKIM 2024.  \"Kami selalu antusias dipercaya untuk mendukung event-event olahraga nasional. Semoga dengan kehadiran Le Minerale sebagai official mineral water, dapat membantu memenuhi kebutuhan mineral tubuh serta mendukung performa para runners, hingga membantu rekondisi fisik para atlet setelah berlari,\" ungkapnya.  Sependapat dengan hal tersebut, salah satu peserta JAKIM 2024 Denny Nurjaya mengatakan pelaksanaan Jakarta Internasional Marathon kali ini sangat baik.  \"Penempatan water station yang tersedia sudah tepat dengan kebutuhan para pelari, di saat butuh air mineral untuk mengembalikan kebugaran tubuh,\" ujarnya.***\n",
      "True Label: Negative, Predicted Label: Negative\n",
      "\n",
      "Text 73: TRIBUNPALU.COM, SIGI - Sekretaris Daerah Kabupaten Sigi, Nuim Hayat, menghadiri kegiatan Libu Bete (Musyawarah Besar) yang diikuti oleh seluruh tokoh adat, majelis adat, dan tim akademik.  Kegiatan ini membahas pengembangan pariwisata di Kecamatan Lindu dengan tetap mempertahankan adat, istiadat, serta kearifan lokal.  Acara ini merupakan bagian dari Festival Danau Lindu 2024, bertujuan mempromosikan potensi pariwisata Lindu secara berkelanjutan.  Dalam musyawarah tersebut, Sekda Nuim Hayat menekankan pentingnya kerja sama antara pemerintah, tokoh adat, dan akademisi dalam mengembangkan potensi pariwisata di Kecamatan Lindu.  \"Saya berharap masukan dari akademisi, tokoh adat, dan Kementerian Pariwisata dapat menjadi catatan untuk evaluasi dan inovasi guna meningkatkan potensi pariwisata Danau Lindu,\" ujar Sekda melalui keterangan tertulisnya Senin, (9/9/2024).  Kegiatan ini juga dihadiri oleh Direktur Pemasaran Pariwisata Nusantara dari Kementerian Pariwisata dan Ekonomi Kreatif Republik Indonesia.  Dalam paparannya, beliau menekankan pentingnya memadukan potensi alam dengan budaya lokal sebagai daya tarik utama wisata.  Ada empat hal penting yang perlu diperhatikan agar Danau Lindu menjadi destinasi wisata unggulan:  1. Ketersediaan Kuliner Tradisional dan Akomodasi: Menyediakan makanan khas dan tempat tinggal dengan konsep kearifan lokal untuk menarik wisatawan, khususnya wisatawan asing.  2. Infrastruktur Jalan: Memperhatikan kualitas infrastruktur jalan sebagai faktor penting dalam kenyamanan wisatawan.  3. Adat Istiadat dan Budaya : Menunjukkan keramahan masyarakat serta melestarikan adat dan budaya untuk menciptakan pengalaman yang menyenangkan bagi wisatawan. 4. Keindahan Alam : Menjaga kebersihan dan keindahan alam, termasuk memastikan lingkungan bebas dari sampah plastik untuk meningkatkan daya tarik wisatawan. (*)  Dengan perhatian pada empat aspek ini, diharapkan Danau Lindu dapat berkembang menjadi salah satu destinasi wisata yang harus dikunjungi. (*)\n",
      "True Label: Neutral, Predicted Label: Neutral\n",
      "\n",
      "Text 74: JAKARTA, Bisnistoday- PT Bank Danamon Indonesia Tbk (Danamon) mengumumkan Laporan Keuangan pada Semester I-2024 melalui Konferensi Pers di Jakarta, Selasa (30/7) yang dilakukan secara virtual.  Danamon berhasil mencapai pertumbuhan tahunan dua digit untuk total Kredit dan Dana Pihak Ketiga, didukung oleh pertumbuhan berkelanjutan di seluruh lini bisnis (Enterprise Banking & Financial Institution, Consumer Banking, SME Banking & Adira Finance).  “Hari ulang tahun ke-68 ini menandai perjalanan berkelanjutan kami sebagai Grup Finansial terkemuka dalam memberikan kontribusi aktif terhadap pertumbuhan perekonomian Indonesia,” ujar Daisuke Ejima, Direktur Utama, PT Bank Danamon Indonesia Tbk.  Kinerja positif Danamon juga ditopang oleh optimalisasi jaringan kantor dan pendekatan ekosistem turut berkontribusi dalam pencapaian finansial di semester ini.  Total Kredit termasuk Trade Finance meningkat sebesar 14% Year-on-Year (YoY) menjadi Rp183,9 triliun. Sejalan dengan pertumbuhan kredit, Dana Pihak Ketiga meningkat sebesar 15% YoY menjadi Rp 146,1 triliun disokong oleh pertumbuhan Granular Funding sebesar 10% pada semester pertama tahun 2024.  Pertumbuhan kredit juga diiringi dengan kualitas aset yang terus terjaga. Hal ini tercermin dari rasio cakupan Non-Performing Loan (NPL) yang meningkat menjadi 263,2% dari 259,9% pada tahun lalu dan rasio Gross NPL membaik 10bps YoY menjadi 2,2%.  Dari sisi rentabilitas, Danamon mencatatkan kenaikan Pendapatan Operasional menjadi Rp9,4 triliun, yang didukung oleh pertumbuhan pendapatan bunga bersih dan pendapatan komisi.  Danamon berhasil membukukan Pre-Provision Operating Profit (PPOP) Rp4,3 triliun ditopang oleh kenaikan Pendapatan Operasional dengan tetap memprioritaskan investasi berkelanjutan untuk pembangunan fondasi bisnis. Pencapaian tersebut berkontribusi terhadap Laba Bersih Setelah Pajak (NPAT) sebesar Rp1,5 triliun.  Komitmen Bertransformasi  Daisuke Ejima, dalam keterangannya menhutarakan, bersama MUFG sebagai perusahaan induk dengan jaringan global dan lokal serta grup perusahaan (Adira Finance, Home Credit Indonesia, Mandala Finance, dan Zurich Indonesia) juga mitra strategis lainnya, Danamon berkomitmen untuk terus bertransformasi sebagai satu grup finansial guna menjadi mitra keuangan terpercaya yang berorientasi kepada nasabah.  Danamon akan terus berinovasi untuk tumbuh bersama menjadi grup finansial terkemuka yang memenuhi kebutuhan nasabah, karyawan, pemegang saham dan regulator.  Sebagai refleksi dari komitmen untuk terus bertransformasi, Danamon dengan bangga mengumumkan pembaruan dari logo Danamon yang diluncurkan bertepatan dengan hari ulang tahun yang ke-68 pada tanggal 16 Juli 2024. Pembaruan logo akan dilakukan secara bertahap, oleh karena itu, akan ada dua logo yang digunakan secara bersamaan di publik yaitu logo sebelum dan sesudah pembaruan. //\n",
      "True Label: Neutral, Predicted Label: Neutral\n",
      "\n",
      "Text 75: GIIAS Surabaya 2024 diikuti oleh 34 merek otomotif global, termasuk 20 kendaraan penumpang seperti Audi, BYD, Chery, Citroen, Daihatsu, DFSK, Honda, Hyundai, KIA, Lexus, Mazda, MG, Mitsubishi Motors, Nissan, Seres, Suzuki, Toyota, VinFast, Volkswagen, dan Wuling.  Untuk kendaraan komersial, hadir DFSK dan Toyota Commercial.  Selain itu, ada juga 12 merek kendaraan roda dua seperti Alva, Aprilia, Benelli, Keeway, Kupprum, Moto Guzzi, Piaggio, Polytron, Royal Enfield, United E-motor, Vespa, dan Volta, serta lebih dari 15 merek industri pendukung yang turut meramaikan pameran.  Pameran ini juga mendapatkan dukungan penuh dari berbagai lini industri, dengan Astra Financial kembali hadir sebagai platinum sponsor bersama FIFGROUP, Astra Credit Companies, Toyota Astra Finance Services, Asuransi Astra, Astra Life, AstraPay, Maucash, Moxa, SEVA, dan BANK SAQU by Bank Jasa Jakarta.  Selain itu, dukungan juga datang dari Shell Helix, PLN, JKIND, Superchallenge, dan Kahf.  Keseruan dan pengalaman otomotif yang hanya bisa didapatkan selama lima hari penyelenggaraan GIIAS Surabaya 2024 tentu menjadi agenda yang tidak boleh dilewatkan oleh para pengunjung.  Tiket dapat dibeli secara online melalui aplikasi Auto360 dengan harga Rp 25.000 untuk weekdays (Rabu-Jumat) dan Rp 40.000 untuk weekends (Sabtu-Minggu).  Tiket on the spot tersedia di tiket box lantai 3 dan mezzanine floor lantai 1, Grand City Convex, dengan harga Rp 35.000 untuk weekdays dan Rp 50.000 untuk weekends.  Jangan lewatkan kesempatan untuk merasakan berbagai inovasi dan teknologi terkini dari industri otomotif di GIIAS Surabaya 2024!***\n",
      "True Label: Neutral, Predicted Label: Neutral\n",
      "\n",
      "Text 76: 12. Buah khatulistiwa = jambu  14. Air manis tidur = le minerale  15. Sapi melihat = telur mata sapi  16. Air mahal = air mineral club  18. Sayur tepat waktu = sayur sop  19. Sayur aturan kerja = sayur sop  20. Makanan khas Sunda = seblak  21. Buah matahari cinta = jeruk sunkist  22. Permen serigala = Foxs\n",
      "True Label: Neutral, Predicted Label: Neutral\n",
      "\n",
      "Text 77: Bandung -  Project Pop ikut memeriahkan konser West Java Festival tahun 2024 di Lapangan Saparua, Kota Bandung, Minggu (25/8/2024) malam. Penonton terlihat ikut digoyang dengan lantunan lagu khas dari Project Pop.  Penampilan Project Pop di WJF 2024 ini sayang tidak komplit karena salah satu personil Project Pop yakni Tika Panggabean tidak bisa hadir dalam konser WJF 2024. Project Pop hanya menghadirkan Udjo, Yosi Mokalu, Odie, serta Gugum.  Meski tanpa Tika, Project Pop tetap menghadirkan Tika lewat beberapa foto yang ditampilkan pada layar panggung. Di dalam foto tersebut Tika tengah berselfie bersama dengan artis seperti Jefri Nicol, Iqbal Ramadan, serta RAN.  Dengan dihadirkannya Tika melalui foto bersama artis, sontak membuat penonton pun berteriak histeris. Dalam penampilan Project Pop di WJF 2024, mereka menyanyikan beberapa lagu andalan seperti My Country, P.O.P, Goyang Duyung, Batal Kawin, hingga Metal vs Dugem.  Tak hanya itu, Project Pop juga sempat menyanyikan satu lagu dari musisi Glenn Fredly yang di mana dilakukan untuk mengenang musisi terkenal tanah air tersebut.  Konser WJF 2024 sendiri telah menampilkan beberapa band terkenal seperti Kuburan Band sebagai pembuka konser, dilanjutkan dengan Nidji, serta Yovie & Nuno.  Sementara sebelumnya, malam pertama konser WJF 2024, Jumat (23/8/2024), menampilkan sederet musisi Tanah Air. Mulai dari grup musik nyentrik asal Majalengka, Mother Bank, Rahardja, Rocket Rockers, Club Dangdut Racun dan RAN.  Di tahun ini, konser WJF akan menghadirkan sejumlah musisi top tanah air. Kuburan Band, Nidji, Tiara Andini, Yovie and Nuno, Project Pop hingga Wali bakal menghibur pengunjung yang hadir.  West Java Festival 2024 didukung oleh Bank BJB sebagai Official Bank Partner, Le Minerale sebagai Official Mineral Water dan PT Migas Utama Jabar.  Acara ini didukung oleh seluruh perangkat daerah di lingkungan Pemdaprov Jabar. Kegiatan ini juga dirangkaikan dengan program Gerakan Nasional Bangga Buatan Indonesia (BBI) dan Bangga Berwisata di Indonesia (BBWI) BBI-BBWI, khususnya di Jawa Barat.  Acara ini bertujuan untuk meningkatkan promosi pariwisata dan ekonomi daerah, serta memperkuat ikatan keluarga dan masyarakat.\n",
      "True Label: Neutral, Predicted Label: Neutral\n",
      "\n",
      "Text 78: REPUBLIKA.CO.ID,JAKARTA -- Daftar produk-produk yang pro Israel selalu mendapat respons pemboikotan dari masyarakat Indonesia. Namun, terkadang ada hoaks yang menyebar. Seperti yang dialami Le Mineral, yang baru-baru ini diterpa hoaks yang menuding bahwa produk asli Indonesia ini terafiliasi dengan Israel.  Menanggapi hal itu, Marketing Director Le Minerale, Febri Satria Hutama menegaskan bahwa Le Minerale tidak terafiliasi dengan negara zionis tersebut. Menurut dia, PT Tirta Fresindo Jaya selaku produsen air kemasan Le Minerale justru dimiliki 100 persen orang Indonesia.  \"Jadi Le Minerale ini bisa kita pastikan 100 persen pemiliknya ini kita adalah orang Indonesia.  Karyawan kita sendiri juga 100 persen warga negara Indonesia. Jadi tentunya kami ingin memberikan manfaat yang sebesar-besarnya untuk masyarakat Indonesia juga,\" ujar Febri saat diwawancara dalam acara \"Le Mineral Berbagi Berkah Ibadah Karyawan Pagi Sore di Restoran Pagi Sore, Jeruk Purut, Jakarta, Jumat (26/7/2024).  Karena itu, dia pun tidak khawatir dengan isu pemboikotan yang dihembuskan pihak-pihak yang tidak bertanggung jawab. Menurut dia, masyarakat Indonesia sudah bisa menilai sendiri produknya, yang mana menjadi kebanggaan Indonesia.  \"Jadi ya kami tidak terlalu khawatir gitu (dengan pemboikotan), karena publik bisa menilai sendiri, bisa melihat sendiri bahwa itu cukup jelas,\" ucap Febri kepada Republika.co.id.  Dia menambahkan, pihaknya juga sudah memberikan pernyataan bahwa Le Minerale sangat menentang bahkan mengutuk agresi yang dilakukan oleh Israel kepada masyarakat Palestina. Bahkan, menurut dia, Le Minerale selalu mendukung kemerdekaan masyarakat Palestina untuk menjadi negara yang berdaulat.  \"Kami juga sudah membuktikan dengan berbagai macam kegiatan yang kita lakukan. Kami berikan sumbangan donasi dan sebagainya. Tetapi yang paling penting pernyataan sikap kita sudah cukup jelas, kami tidak punya afiliasi dan bahkan kami mengutuk apa yang dilakukan oleh Israel teehadap masyarakat Palestina,\" kata Febri.\n",
      "True Label: Negative, Predicted Label: Negative\n",
      "\n",
      "Text 79: Mantan Kepala Sekretaris Kerala SM Vijayanand telah menekankan kebutuhan penting akan sistem peringatan bencana regional yang secara aktif melibatkan partisipasi masyarakat untuk secara efektif mengurangi dampak bencana alam yang berulang di Western Ghats.  Saat meresmikan seminar berjudul 'Wayanad setelah Mundakkai: pelajaran dan strategi', yang diselenggarakan bersama oleh Pusat Ekologi dan Biologi Satwa Liar Hume, Wayanad Prakrithi Samrakshana Samithi, dan Yayasan Penelitian MS Swaminathan di Puthoorvayal, Tn. Vijayanand menganjurkan kerangka kerja perencanaan penggunaan lahan agro-ekologi yang kuat di wilayah tersebut. Ia menggarisbawahi pentingnya menilai daya dukung untuk pertambangan dan pariwisata sambil menumbuhkan kesadaran lingkungan di antara penduduk.  Dalam seminar tersebut, Abhilash, ilmuwan iklim di Universitas Sains dan Teknologi Cochin (Cusat), mengaitkan peningkatan tanah longsor dan longsor di Western Ghats dengan perubahan distribusi curah hujan dan pola intensitas. Dr. Abhilash mengatakan risiko tersebut dapat dikurangi secara efektif melalui penerapan strategi penggunaan lahan ilmiah di lereng dan pemantauan pola cuaca lokal.  Jayaraman, peneliti senior di MS Swaminathan Research Foundation, menyoroti sifat multifaktorial dari prediksi tanah longsor. Ia menyerukan pendekatan analitis untuk menilai ketahanan curah hujan di berbagai medan dalam kondisi konstan, yang memfasilitasi penilaian risiko dini untuk potensi tanah longsor. Dr. Jayaraman juga menunjukkan perlunya pemilihan lokasi rehabilitasi yang cermat bagi para penyintas Mundakkai, dengan mempertimbangkan faktor manusia dan ekologi untuk memastikan solusi pemukiman kembali yang aman, efektif, dan berkelanjutan.  TV Sajeev, Kepala Ilmuwan di Institut Penelitian Hutan Kerala, mengatakan banyak hutan di daerah yang dilanda bencana bukanlah hutan primer, melainkan hutan sekunder yang merupakan hasil penggundulan hutan di masa lampau. Dr. Sajeev mengatakan degradasi ekosistem tersebut dapat menjadi faktor signifikan yang berkontribusi terhadap bencana terkini. Ia menekankan pentingnya menggabungkan pengetahuan iklim asli dengan wawasan ilmiah untuk merancang strategi adaptasi yang lebih baik di tengah bencana alam yang sedang berlangsung yang memengaruhi Negara Bagian tersebut.\n",
      "True Label: Neutral, Predicted Label: Neutral\n",
      "\n",
      "Text 80: KOMPAS.com - Beredar narasi air mineral dalam kemasan merek Le Minerale dan Aqua tidak aman dikonsumsi karena mengandung zat besi dalam kadar tinggi.  Narasi itu disertai video seorang pria membuktikan kandungan zat besi dalam air mineral dengan cara mencelupkan ujung kabel ke air untuk menyalakan lampu.  Terdapat tiga gelas air yang diuji. Air di gelas pertama gagal menyalakan lampu, sedangkan air dari gelas Le Minerale dan Aqua berhasil membuat lampu menyala.  Menurut pria tersebut, air dari gelas Le Minerale dan Aqua dapat menyalakan lampu karena mengandung zat besi tinggi.  Berdasarkan penelusuran Tim Cek Fakta Kompas.com, narasi tersebut hoaks.  Narasi yang beredar  Narasi soal air mineral merek Le Minerale dan Aqua tidak aman dikonsumsi karena mengandung zat besi tinggi dibagikan oleh akun Facebook ini, ini, dan ini, pada Kamis (18/7/2024).  Berikut narasi yang dibagikan:  Kenapa Produk yg berAfiliasi dgn IsraHell berbahaya.. contoh m Air Mineral seperti Aqua dan Le Mineral..? Simak sampai habis..  Hoaks, air mineral tidak layak dikonsumsi karena mengandung zat besi dalam kadar tinggi  Penelusuran Kompas.com  Setelah ditelusuri, narasi air mineral tidak aman dikonsumsi karena mengandung zat besi dalam kadar tinggi sudah lama beredar.  Narasi itu telah dibantah oleh Badan Pengawas Obat dan Makanan (BPOM), pada 2 Juli 2020, melalui keterangan di situs resmi.  BPOM menjelaskan, air mineral bisa menghantarkan listrik karena mengandung mineral yang merupakan sumber elektrolit dan mempunyai sifat penghantar listrik.  Adapun persyaratan keamanan dan mutu produk air mineral, termasuk batas kandungan zat besi, telah ditetapkan mengikuti Standar Nasional Indonesia (SNI) dan diberlakukan secara wajib berdasarkan Peraturan Menteri Perindustrian No. 78/M-IND/Per/11/2016.  BPOM akan menilai keamanan, mutu, dan gizi produk pangan sebelum diedarkan. Produk yang memiliki kandungan cemaran melebihi batas, tidak akan mendapat izin edar.  \"Kepada masyarakat diimbau agar menjadi konsumen cerdas yang tidak mudah terpengaruh oleh isu yang beredar di media sosial,\" kata BPOM.  Sementara itu, pihak Le Minerale melalui Corporate Secretary Mayora, Indah Yuni Gunawan mengatakan, narasi tersebut tidak benar.\n",
      "True Label: Negative, Predicted Label: Negative\n",
      "\n",
      "Text 81: JOGJA - Salah satu perusahaan air minum kemasan asal Indonesia berupaya meminimalisir dampak lingkungan dari penggunaan botol plastik. Bentuknya dengan mendaur ulang botol bekas pakai menjadi berbagai produk.  Sustainability Manager Le Minerale Irene Atmadja mengatakan, sejak tahun 2021 lalu pihaknya telah menjalankan Gerakan Ekonomi Sirkular Nasional (GESN). Hal tersebut sejalan dengan Peraturan Menteri P75/2019 tentang Peta Jalan Pengurangan Sampah melalui Gerakan Ekonomi Sirkular Nasional.  Menurut Irene, selama kurang lebih tiga terakhir Le Minerale telah berhasil menarik kembali 35.000 ton sampah botol dan galon plastik PET. Barang bekas pakai tersebut diolah kembali menjadi bahan baku botol plastik dan galon serta berbagai produk lainnya.  Lebih dari itu, kata dia, Le Minerale juga menggandeng sejumlah brand-brand lokal untuk ikut mendaur ulang plastik botol bekas tersebut. Contohnya seperti Aerostreet dan Cosmonauts untuk membuat baju, jaket, hingga sepatu.  “Kami pun akan segera meluncurkan produk fesyen hasil kolaborasi terbaru dengan brand lokal seperti Pijakbumi dan Kivee,\" ujat Irene dalam keterangan tertulis yang diterima Radar Jogja, Sabtu (10/8).  Dia menyatakan, bahwa sejumlah inovasi daur ulang dari botol plastik itu juga dipamerkan dalam Festival Lingkungan dan Kelestarian Alam (LIKE) 2024, Jakarta. Harapannya, inovasi tersebut juga menginspirasi masyarakat dan industri lain.\n",
      "True Label: Negative, Predicted Label: Negative\n",
      "\n",
      "Text 82: SURABAYA | ARTIK.ID - Seri pameran otomotif GIIAS Surabaya 2024 memasuki hari keempat penyelenggaraannya, yang berlangsung dari 31 Agustus hingga 1 September 2024. Setelah resmi dibuka pada 28 Agustus 2024, pameran ini menawarkan kesempatan bagi para pecinta otomotif di Jawa Timur, khususnya Surabaya, untuk menjelajahi berbagai kendaraan bermotor dari total 34 merek yang dipamerkan di pekan terakhir ini.  Dengan luas pameran terbesar sepanjang sejarah GIIAS Surabaya, pengunjung dapat menikmati pengalaman berkeliling yang lebih nyaman. Di area Convention Hall, merek-merek seperti Daihatsu, Honda, Hyundai, Lexus, Toyota, Toyota Commercial, dan VinFast memamerkan inovasi-inovasi terbaru mereka.  Sementara itu, di area Exhibition Hall, pengunjung dapat menemukan booth dari merek-merek seperti Audi, BYD, Chery, Citroen, DFSK, KIA, Mazda, MG, Mitsubishi Motors, Nissan, Seres, Suzuki, VW, dan Wuling. Selain itu, ada 12 merek kendaraan roda dua yang juga ikut serta, termasuk Alva, Aprilia, Benelli, Keeway, Kupprum, Moto Guzzi, Piaggio, Polytron, Royal Enfield, United E-motor, Vespa, dan Volta.  Untuk menambah keseruan akhir pekan, GIIAS Surabaya 2024 juga menghadirkan Audio Kontes yang bekerja sama dengan EMMA (European Mobile Media Association). Kontes ini menampilkan mobil-mobil dengan modifikasi audio terbaik, memberikan kesempatan bagi pengunjung untuk menyaksikan langsung keunggulan sistem audio mobil mutakhir.  Project Director GIIAS Surabaya 2024, Sri Vista Limbong, Sabtu (32/8) menyatakan, bahwa GIIAS Surabaya 2024 hadir bukan hanya sebagai ajang pameran otomotif, tetapi juga sebagai platform untuk memperkenalkan berbagai inovasi dan teknologi terbaru di industri otomotif kepada para pecinta otomotif.  \"Kami berharap acara ini dapat memberikan pengalaman berharga dan inspiratif bagi setiap pengunjung. Oleh karena itu, kami mengundang seluruh masyarakat Jawa Timur, khususnya Surabaya, untuk menjadikan GIIAS Surabaya 2024 sebagai destinasi akhir pekan mereka bersama keluarga, teman, dan komunitas,” ujar Vista.  GIIAS Surabaya 2024 mendapat dukungan penuh dari berbagai sponsor dan mitra industri. Astra Financial sebagai platinum sponsor didukung oleh FIFGROUP, Astra Credit Companies, Toyota Astra Finance Services, Asuransi Astra, Astra Life, AstraPay, Maucash, Moxa, SEVA, BANK SAQU by Bank Jasa Jakarta, serta dukungan dari Shell Helix, PLN, JKIND, Superchallenge, dan Kahf.  Pengunjung tidak boleh melewatkan kesempatan untuk merasakan berbagai keseruan dan inovasi yang hanya bisa ditemukan di GIIAS Surabaya 2024. Untuk merencanakan kunjungan di akhir pekan terakhir pameran ini bersama keluarga, sahabat, atau rekan kerja.  Pengunjung dapat membeli tiket secara online melalui aplikasi Auto360 dengan harga tiket weekday (Rabu-Jumat) Rp 25.000,- dan Rp 40.000,- untuk weekend (Sabtu-Minggu). Tiket on the spot dapat dibeli di ticket box lantai 3 dan mezzanine floor lantai 1 Grand City Convex dengan harga weekday (Rabu-Jumat) Rp 35.000,- dan Rp 50.000,- pada weekend (Sabtu-Minggu).\n",
      "True Label: Neutral, Predicted Label: Neutral\n",
      "\n",
      "Text 83: JawaPos.com - Lebih dari 12.700 peserta lari lomba ‘Elite’ Label Road Race pertama dan satu-satunya di Indonesia, Maybank Marathon, merampungkan pelaksanaan lomba larinya dengan aman dan lancar. Para peserta lari yang berasal dari 57 negara berdiri dengan antusias di depan start line di Bali United Training Center, Gianyar untuk flag off setiap kategori.  Flag-off pertama dilakukan untuk kategori Marathon dengan melepas sebanyak 3.500 peserta pada pukul 04.30 WITA, kemudian kategori Half Marathon dengan melepas 6.200 peserta pada pukul 05.30 WITA dan sebanyak 3.000 peserta kategori 10K yang dilepas pada pukul 06.00 WITA. Selain itu, flag-off juga dilakukan untuk melepas 100 peserta kategori Wheelchair pada pukul 06.10 WITA dan Children Sprint.  Jelang siang, panitia mengumumkan para pemenang lomba di podium yang sekaligus menjadi penanda selesainya rangkaian Maybank Marathon 2024 yang kerap dijuluki sebagai ‘lebaran’ para pelari. Terdapat 83 pemenang yang berhasil membawa pulang hadiah uang tunai total lebih dari Rp 2,4 miliar.  Pada konferensi pers yang digelar di media center race village Bali United Training Center mengumumkan juara Maybank Marathon 2024 kepada awak media. Untuk kategori Marathon Open Male dimenangkan oleh Paul Tiongik pelari asal Kenya nomor punggung 03 dengan catatan waktu terbaik 02:18:25, sedangkan untuk kategori Marathon Open Female dimenangkan oleh Aurelia Kiptui asal Kenya nomor punggung 22 dengan catatan waktu terbaik 02:36:59. Dengan demikian, kedua juara pertama tersebut menerima hadiah uang tunai masing-masing senilai Rp 250.000.000.  Kemudian, untuk kategori Marathon National Male dimenangkan oleh La Ode Safrudin nomor punggung 21914 dengan catatan waktu terbaik 02:31:16, sedangkan untuk kategori Marathon National Female dimenangkan oleh Isania Tarigan nomor punggung 20124 dengan catatan waktu terbaik 03:14:40. Seluruh juara pertama tersebut menerima hadiah uang tunai masing-masing senilai Rp 100.000.000.  Presiden Direktur Maybank Indonesia Steffano Ridwan mengucapkan selamat kepada para pemenang yang telah berhasil meraih prestasi dan membawa pulang hadiah dari penyelenggaraan Elite Label Road Race Maybank Marathon tahun ini.  Dari segi penyelenggaraan lomba, Steffano juga menyampaikan kekaguman terhadap antusiasme ribuan peserta yang sudah bersiap-siap sejak pagi dini hari untuk berlari di sepanjang rute lomba.  Steffano menyebut bahwa tolok ukur kesuksesan penyelenggaraan Maybank Marathon bukan semata dari prestasi partisipasi jumlah peserta lari, tetapi faktor keamanan dan kenyamanan peserta saat berlari di rute merupakan hal terpenting dalam pelaksanaan event ini.  Steffano mengutarakan pentingnya untuk terus meningkatkan kualitas penyelenggaraan Maybank Marathon. Hal ini terwujud nyata dengan pemilihan lokasi baru di Bali United Training Center, dan predikat Elite Label dari World Athletics yang disandangnya.  “Mewakili Maybank Indonesia dan seluruh panitia Maybank Marathon 2024, kami mengucapkan terima kasih kepada para peserta yang telah mengikuti lomba dengan tertib, dan kepada para petugas di lapangan mulai dari tim pengamanan, medis, pacers, marshalls, dan pecalang yang terus berjaga dengan sigap di sepanjang rute. Selain itu, tidak lupa kami juga ucapkan terima kasih kepada warga Gianyar yang telah menyemangati para peserta di sepanjang rute sehingga turut menambah semarak penyelenggaraan Maybank Marathon 2024,” tukas Steffano.  Penyelenggaraan Maybank Marathon 2024 mendapatkan dukungan dari berbagai elemen termasuk, Pemerintah dan Kepolisian Daerah Provinsi Bali, Palang Merah Indonesia Provinsi Bali, Pemerintah Kabupaten Gianyar, Kodim 1616 Gianyar, Persatuan Atletik Seluruh Indonesia (PASI), sponsor, dan media partner.  Project Director Maybank Marathon Widya Permana menutup acara konferensi pers pengumuman pemenang Maybank Marathon 2024 dengan menyampaikan bahwa panitia akan melanjutkan persiapan untuk Maybank Marathon 2025.  “Peserta yang belum mendapatkan kesempatan berpartisipasi pada Maybank Marathon 2024, masih memiliki kesempatan untuk mengikuti Elite Label Road Race Maybank Marathon 2025. Terus berlatih dan siapkan diri untuk berjumpa tahun depan,” kata Widya.  Maybank Marathon 2024 didukung sponsor yakni, 2XU, Aqua, Etiqa, New Balance, Pocari Sweat, BMW, EJ Sport, Etawalin, Herbalife, MS Glow for Men, Pelita Air, Fitbar, Garmin, Kahf, On Point, Salonpas, Rexona, Shokz, YAMAtune, ZINC, 180spm, Bali Beach Hotel, The Meru, Bali Island School, Bintang Crystal, Biznet, Cardea, Date Crown, Dekoruma, Eva Air, Bali Physio & Sports Injury Center, Nisuma, Optik Tunggal, Prama, Prima, Quick Fresh, Bali Royal Hospital, St Ives, Sunpride, Vaseline, Wadimor, The Westin, dan Wyndham.\n",
      "True Label: Neutral, Predicted Label: Neutral\n",
      "\n",
      "Text 84: Bisnis.com, JAKARTA -- PT Adira Dinamika Multi Finance Tbk. (ADMF) atau Adira Finance memastikan PT Mandala Multifinance Tbk. (MFIN) tetap tercatat di Bursa Efek Indonesia (BEI).  Direktur Adira Finance Sylvanus Gani Mendrofa menyebut, pemegang saham pengendali yakni MUFG Bank Ltd., tengah dalam proses untuk memborong sisa saham publik MFIN dengan harga Rp3.297 per lembar.  \"Sampai saat ini, menurut MUFG, kami ingin masih dalam rencana dan siatuasi yang tetap sama dengan saat ini, sebagai listed-company,\" kata Gani kepada Bisnis, Senin (22/07/2024).  MUFG telah mengumumkan melaksanakan tender offer sisa saham MFIN. Perusahaan keuangan raksasa asal Jepang itu menyiapkan Rp1,69 triliun.  Tender sukarela itu dijalankan setelah MUFG dan Adira Finance rampung mengakuisisi Mandala Finance pada 13 Maret 2024 . Kepemilikan MUFG dan cucu usahanya itu melalui Bank Danamon secara berurutan sebesar 70,16% dan 10%.  MUFG menawarkan tender sukarela rampung dalam 30 hari. Periode penawarannya dilakukan pada 23 Juli-21 Agustus 2024 dan tanggal terakhir pembayaran pada 28 Agustus 2024.  Sedangkan dalam prospektusnya, MUFG belum memutuskan apakah setelah tender offer akan menjadikan Mandala Finance perusahaan tertutup atau tetap menjadi perusahaan terbuka.  Namun demikian, jika aksi korporasi lanjutan dilakukan, perusahaan memastikan akan mematuhi peraturan dan perundang-undangan yang berlaku.  Adapun untuk kinerjanya, MFIN telah menyalurkan pembiayaan sebesar Rp3,2 triliun pada semester I/2024, melesat 17% secara yahunan (year-on-year/yoy) dibanding periode yang sama tahun sebelumnya.  Kontributor terbesar dalam pembiayaan tersebut didominasi oleh pembiayaan motor baru dan bekas. Selain itu juga pembiayaan multiguna untuk berbagai kebutuhan salah satunya sebagai modal kerja sektor produktif UMKM khususnya segmen usaha berskala mikro dan kecil.\n",
      "True Label: Neutral, Predicted Label: Neutral\n",
      "\n",
      "Text 85: KONTAN.CO.ID - JAKARTA. Presiden Joko Widodo (Jokowi) resmi membentuk Badan Gizi Nasional melalui Peraturan Presiden (Perpres) nomor 83 tahun 2024. Beleid itu diundangkan pada 15 Agustus 2024.  \"Badan Gizi Nasional merupakan lembaga pemerintah yang berada di bawah dan bertanggung jawab kepada Presiden,\" tulis Pasal 2 ayat (2) dikutip Minggu (18/8).  Dalam pertimbangannya disebutkan bahwa dalam rangka pembangunan sumber daya manusia berkualitas, perlu dilakukan optimalisasi terhadap penyelenggaraan pemenuhan gizi nasional yang merupakan perwujudan hak asasi manusia sebagaimana yang dijamin dalam UUD 1945.Pemerintah perlu melakukan upaya untuk mengatur tata kelola tercukupinya konsumsi yang aman dan bergizi bagi masyarakat.  \"Badan Gizi Nasional dipimpin oleh Kepala,\" tulis Pasal 2 ayat (3).  Adapun sasaran pemenuhan gizi yang menjadi tugas dan fungsi Badan Gizi Nasional diberikan kepada peserta didik pada jenjang pendidikan anak usia dini, pendidikan dasar, dan pendidikan menengah di lingkungan pendidikan umum, pendidikan kejuruan, pendidikan keagamaan, pendidikan khusus, pendidikan layanan khusus, dan pendidikan pesantren. Selain itu juga diberikan kepada anak usia di bawah lima tahun, ibu hamil, dan ibu menyusui.  Presiden Jokowi mengatakan, strategi kebijakan jangka pendek pelaksanaan APBN tahun 2025 akan difokuskan untuk mengakselerasi pertumbuhan ekonomi, menguatkan kesejahteraan, dan pemerataan antar daerah.  \"Program makan bergizi gratis dilakukan secara bertahap, diselaraskan dengan kesiapan teknis dan kelembagaan, serta tata kelola yang akuntabel,\" jelas Jokowi saat menyampaikan pengantar RAPBN dan Nota Keuangan tahun 2025, Jumat (16/8).  Menteri Keuangan Sri Mulyani mengatakan, RAPBN tahun 2025 telah mengakomodasi program presiden dan wakil presiden terpilih. Termasuk program makan bergizi gratis yang anggarannya sebesar Rp 71 triliun.  Tujuan program ini untuk menciptakan anak yang cerdas, memberi multiplier ekonomi lokal yang membuat UMKM makin berdaya dan ekonomi daerah bisa bergerak.  \"Nanti akan dijelaskan dari tim makanan bergizi gratis yang saat ini terus disempurnakan,\" ujar Sri Mulyani dalam konferensi pers RAPBN dan Nota Keuangan Tahun Anggaran 2025 di Kantor Direktorat Jenderal Pajak Kementerian Keuangan Jakarta, Jumat (16/8).  Ketua Tim Gugus Tugas Sinkronisasi Pemerintahan Prabowo-Gibran, Sufmi Dasco Ahmad mengatakan, pihaknya telah melakukan sinkronisasi pada saat penyusunan APBN tahun 2025. Pelaksanaan berbagai program telah memperhitungkan fiskal dan defisit anggaran tahun 2025 yang direncanakan sebesar 2,53%.  \"Makan bergizi gratis itu masuk ke dalam program pemerintah yang akan dilaksanakan tahun 2025,\" ujar Dasco ditemui usai sidang bersama MPR, DPR, dan DPD di Kompleks Parlemen, Jumat (16/8).\n",
      "True Label: Negative, Predicted Label: Neutral\n",
      "\n",
      "Text 86: TRIBUNJAMBI.COM, JAMBI - Hasil pemeriksaan, polisi Polda Jambi Briptu OB membeli mobil bekas atau seken dari marketplace di sosial media, mobil ini diduga milik bos rental Burhais yang tewas dibakar massa di Sukolilo, Pati, Jawa Tengah beberapa waktu lalu.  Informasi tersebut diketahui dari hasil pemeriksaan yang dilakukan Paminal Propam dan Ditreskrimum Polda Jambi terkait kasus tersebut.  Dirreskrimum Polda Jambi, Kombes Pol Andri Ananta bilang anggota Polri tersebut sudah dimintai keterangan.  Dari pengakuan anggota itu diketahui bahwa dia membeli mobil tersebut dari marketplace sosial media.  \"Paminal sudah mengambil keterangan, kita direktorat juga sudah mengambil keterangan. Belum ada laporan polisi yang dibuat debitur apa mobil itu kehilangan sehingga ada pemblokiran kendaraan tersebut itu tidak ada,\" kata Andri, Minggu (7/7/2024).  Dia menjelaskan, Honda Mobilio yang sebelumnya berada di Briptu OB telah diamankan Ditreskrimum Polda Jambi. Ditreskrimum Polda Jambi pun telah melakukan verifikasi ke pihak leasing.  \"Kami sudah melakukan verifikasi berdasarkan nomor polisi nomor rangka kami kroscek bukan hanya di sini tapi juga di Polda Metro, tidak ada pemblokiran artinya tidak ada laporan polisi,\" jelasnya.  Dari hasil itu Ditreskrimum Polda Jambi melakukan koordinasi pihak Adira selaku leasing, sebab mobil tersebut terdaftar atas nama Sinar Jaya Utama.  \"Sehingga yang bersangkutan (Burhanis) melakukan perikatan dengan leasing Adira Finance. Sampai saat ini pun leasing Adira Finance belum membuat laporan. Jadi kami masih mengamankan kendaraan tersebut,\" ujar Andri.  Untuk diketahui bahwa kasus kematian Burhanis, bos rental mobil asal Jakarta Pusat itu ternyata terkait dengan Jambi.  Burhanis pernah melakukan penarikan mobil ke beberapa daerah, termasuk Jambi. Ada mobil rental milik Burhanis berada di Jambi.  Plh Kasubbid Penmas Humas Polda Jambi Kompol Amin Nasution mengatakan membenarkan adanya kabar tersebut. Namun, menurut pengakuan personel yang bersangkutan mobil Honda Mobilio itu sudah dikembalikan.  Amin juga membenarkan oknum polisi itu berdinas di Jatanras Ditreskrimum Polda Jambi. \"Iya pangkat Briptu, Kami sudah tanyakan kepada anggota yang bersangkutan, pengakuan dia sudah dikembalikan,\" kata Amin, Kamis (20/6).\n",
      "True Label: Neutral, Predicted Label: Neutral\n",
      "\n",
      "Text 87: JAKARTA, KOMPAS.com - Hyundai banyak memberikan ubahan yang cukup signifikan pada Kona Electric. Tidak hanya pada eksterior dan interiornya saja, tapi juga fitur-fitur yang disematkan.  Pada generasi terbaru Kona Electric, Hyundai banyak menyematkan fitur canggih yang dapat menunjang kenyamanan, keselamatan, hingga keamanan penggunanya. Apalagi, pada varian tertinggi, Signature Long Range, fiturnya tidak jauh berbeda dengan Ioniq 5 dan Ioniq 6.  Fitur Hyundai Kona Electric  Untuk menunjang kenyamanan, Kona Electric memiliki fitur Dual Zone Climate. Fitur ini tidak hanya menambah kenyamanan, tapi juga bisa menghemat konsumsi daya. Jika sedang berkendara sendiri, cukup aktifkan \"Driver Only\".  Fitur Hyundai Kona Electric  Kemudian, joknya juga sudah dilengkapi dengan mode \"Heated/Ventilated Seats\". Fitur ini tidak hanya disematkan pada jok pengendara, tapi juga penumpang di baris depan.  Hyundai juga menyediakan cukup banyak power outlet untuk mengecas ponsel, ditambah juga dengan wireless charging pada konsol tengah. Fitur unggulan lainnya adalah \"Vehicle-to Load\" atau V2L. Sehingga, penggunanya bisa mengecas laptop atau menggunakan perangkat elektronik rumahan lainnya.  Kompas.com/Donny Fitur Hyundai Kona Electric  Hyundai juga menyematkan teknologi Bluelink. Dengan adanya Hyundai Bluelink, pengguna mobil ini bisa memantau kondisi atau bahkan mengoperasikan beberapa fiturnya hanya melalui smartphone. Selain itu, terdapat juga bantuan darurat dengan menghubungi Call Center Hyundai melalui tombol yang ada di plafon.  Fitur Hyundai Kona Electric  Tentunya, All New Kona Electric juga sudah dibekali dengan teknologi sistem bantuan pengemudi atau Advanced Driver Assistance Systems (ADAS). Teknologi ini meliputi banyak fitur canggih, seperti Forward Collision-Avoidance Assist (FCA), Lane Keeping Assist (LKA), Smart Cruise Control with Stop and Go, Blind-Spot Collision-Avoidance Assist (BCA), dan masih banyak lainnya.  Namun, sedikit catatan bagi pengendara yang tidak terbiasa dengan ADAS, khususnya fitur FCA. Jika fitur ini diaktifkan, mobil bisa mengambil tindakan sendiri berupa pengereman darurat jika terdeteksi akan menabrak objek di depannya.  Hyundai Kona Electric Signature Long Range  Pada satu sisi, fitur ini membantu agar mobil terhindar dari tabrakan depan. Tapi, di sisi lain, saat pengereman mendadak, belum tentu kendaraan di belakang kita menjaga jarak dengan baik atau bahkan sigap juga untuk melakukan pengereman. Sehingga, ada risiko ditabrak dari belakang ketika mobil melakukan pengereman darurat secara otomatis.  Secara keseluruhan, fitur-fitur yang ada pada All New Kona Electric cukup lengkap dan terbilang canggih. Mobil listrik produksi Indonesia ini dibanderol mulai Rp 499 juta (OTR Jakarta) hingga Rp 590 juta (OTR Jakarta).\n",
      "True Label: Negative, Predicted Label: Negative\n",
      "\n",
      "Text 88: Hyundai Alcazar atau Grand Creta ini jika dihadirkan di Indonesia cocok hadir di kelas medium SUV.  Dengan dimensi yang ga beda jauh dari Honda CR-V maupun Mazda CX-5, Creta bongsor ini bisa jadi opsi baru Hyundai masuk di kelas tersebut.  Namun sejatinya justru malah Hyundai Tucson yang kemungkinan isi segmen ini.  Karena tercatat tertangkap kamera sedang tes jalan dengan balutan kamuflase.***\n",
      "True Label: Neutral, Predicted Label: Negative\n",
      "\n",
      "Text 89: NgertiHukum.id – Untuk melakukan transfer dari Mandiri ke DANA, kamu bisa memilih beberapa cara yang cukup mudah, baik melalui aplikasi Livin’ by Mandiri maupun melalui mesin ATM Mandiri.  Setiap cara memiliki langkah-langkah yang perlu diikuti agar proses transfer berjalan lancar dan saldo DANA kamu terisi dengan cepat.  Dengan mengetahui caranya, kamu tidak perlu khawatir lagi ketika ingin melakukan top-up saldo DANA menggunakan rekening Mandiri.  Nah, kita akan membahas secara detail cara melakukan transfer dari Mandiri ke DANA lewat Livin’ dan juga melalui ATM, sehingga kamu bisa memilih metode yang paling sesuai dengan kebutuhanmu.  Cara Transfer Mandiri Ke Dana  Lewat Livin  Jika kamu lebih suka menggunakan aplikasi mobile banking, Livin’ by Mandiri adalah solusi yang tepat. Berikut ini adalah langkah-langkah yang harus kamu ikuti untuk transfer saldo ke DANA melalui aplikasi ini:  Buka aplikasi Livin’ by Mandiri. Mulailah dengan membuka aplikasi Livin’ di smartphone kamu dan pilih menu Top Up yang ada di halaman utama. Klik opsi E-Wallet. Di dalam menu Top Up, kamu akan menemukan beberapa pilihan, klik pada opsi E-Wallet. Pilih DANA. Dari daftar e-wallet yang tersedia, pilih DANA sebagai tujuan transfer. Masukkan kode virtual account. Masukkan kode virtual account yang dimulai dengan angka 89508, diikuti dengan nomor telepon kamu yang terhubung dengan akun DANA. Input jumlah nominal. Masukkan jumlah nominal yang ingin kamu transfer ke DANA, lalu klik Lanjut. Masukkan PIN Livin’ by Mandiri:. Terakhir, masukkan PIN Livin’ by Mandiri untuk memproses transaksi. Saldo DANA kamu akan segera terisi setelah transaksi selesai.  Setelah proses transfer selesai melalui Livin’ by Mandiri, saldo DANA kamu akan langsung bertambah, dan kamu bisa mengeceknya melalui aplikasi DANA.  Lewat ATM  Jika kamu sedang berada di luar rumah dan tidak memiliki akses ke aplikasi mobile banking, kamu bisa melakukan transfer melalui mesin ATM Mandiri. Berikut ini adalah langkah-langkahnya:  Masukkan kartu dan input PIN ATM: Masukkan kartu ATM Mandiri ke mesin dan masukkan PIN kamu. Pilih menu Pembayaran atau Pembelian: Pada layar menu utama, pilih opsi Pembayaran atau Pembelian. Pilih Multipayment dan masukkan kode virtual account: Pilih menu Multipayment, lalu masukkan kode virtual account DANA yaitu 89508, diikuti dengan nomor telepon yang terdaftar di DANA. Input nominal saldo: Masukkan jumlah saldo yang ingin kamu transfer ke DANA, kemudian tekan Benar. Selesaikan transaksi: Setelah semua informasi sudah benar, lanjutkan dengan menekan tombol konfirmasi. Struk transaksi akan dicetak, dan saldo DANA kamu akan segera terisi.  Proses ini bisa kamu lakukan dengan mudah dan cepat di ATM Mandiri terdekat, dan saldo DANA akan langsung masuk setelah transaksi selesai.  Kode Mandiri Ke DANA  Untuk melakukan transfer dari Mandiri ke DANA, kamu perlu memasukkan kode virtual account DANA yang dimulai dengan angka 89508. Kode ini harus diikuti dengan nomor telepon yang terdaftar di akun DANA kamu. Pastikan kode dan nomor telepon dimasukkan dengan benar agar proses transfer berjalan lancar tanpa hambatan.  Dengan menggunakan kode virtual account ini, transfer dari Mandiri ke DANA bisa dilakukan kapan saja baik melalui Livin’ by Mandiri maupun ATM Mandiri.  Penutup, dengan memahami cara-cara di atas, kamu bisa memilih metode transfer yang paling nyaman dan sesuai dengan situasimu. Apakah menggunakan aplikasi Livin’ yang praktis atau ATM Mandiri yang tersedia di banyak lokasi, semuanya bisa dilakukan dengan mudah untuk mengisi saldo DANA kamu.\n",
      "True Label: Neutral, Predicted Label: Positive\n",
      "\n",
      "Text 90: Ketua Umum PP Pordasi, Triwatty Marciano saat menghadiri Technical Meeting Le Minerale Kejuaraan Nasional Pacu Kuda Seri I 2024 di Lapangan Pacu Kuda Sultan Agung Bantul, Daerah Istimewa Yogyakarta , Sabtu .  Dalam keterangan resmi, PP Pordasi, Sabtu, lapangan pacuan kuda yang dipersiapkan untuk gelaran Pekan Olahraga Nasional Aceh-Sumut 2024 dapat diselesaikan tepat waktu agar dapat menjadi lokasi 10 nomor pertandingan pada tanggal 10-11 September. Venue pacu kuda HM Hasan Gayo, Takengon memiliki panjang lintasan sejauh 1.400 meter dan diproyeksikan akan menjadi pengganti arena pacu kuda Pulomas, Jakarta, sebagai arena terbaik di Indonesia.  Sebelumnya, venue pacu kuda yang dibangun Kementerian PUPR tersebut dikabarkan sudah mencapai perkembangan pembangunan sebesar 72,97 persen pada pertengahan Juli lalu.  Berita ini telah kami rangkum agar Anda dapat membacanya dengan cepat. Jika Anda tertarik dengan beritanya, Anda dapat membaca teks lengkapnya di sini. Baca lebih lajut:  Indonesia Berita Terbaru, Indonesia Berita utama  Similar News: Anda juga dapat membaca berita serupa dengan ini yang kami kumpulkan dari sumber berita lain.  Hasan Nasbi Klaim Prabowo Sedang Beri Arahan Keamanan Negara, Bukan Penyesalan Pembangunan Prabowo justru memberikan arahan kepada TNI-Polri untuk berperan menjaga keamanan negara agar pembangunan tak sia-sia. Sumber: jawapos - 🏆 35. / 51 Baca lebih lajut »  Heru Budi: Jakarta Gelontorkan Rp 18,96 Triliun untuk SDGs Sejak tahun 2017 Jakarta telah menerapkan prinsip tujuan pembangunan berkelanjutan ke dalam rencana pembangunan daerah. Sumber: cnbcindonesia - 🏆 7. / 74 Baca lebih lajut »  Bappenas: Penggunaan data akurat jadi dasar pembuatan program efektif Deputi Bidang Kependudukan dan Ketenagakerjaan Kementerian Perencanaan Pembangunan Nasional/Badan Perencanaan Pembangunan Nasional (PPN/Bappenas) ... Sumber: antaranews - 🏆 6. / 78 Baca lebih lajut »  Bupati Kotim Komitmen Buka Jalan hingga Aliri Listrik ke Pelosok Desa JPNN.com : Pembangunan dan peningkatan infrastruktur menjadi salah satu prioritas pembangunan di bawah kepemimpinan Halikinnor. Sumber: jpnncom - 🏆 25. / 59 Baca lebih lajut »  Budaya Aceh Gayo Menginspirasi Barista Mikael Jasin Racik 3 Kreasi Kopi Baru, Selipkan Semangat Keberlanjutan Barista Mikael Jasin meracik kopi kreasi terbaru untuk Fore Coffee yang memadukan buah tropis dan aroma teh hitam dengan bahan-bahan yang digunakan adalah biji kopi Kamala Pantan Sinaku dari Gayo, susu, oat, dan susu kacang mete. Sumber: liputan6dotcom - 🏆 4. / 83 Baca lebih lajut »\n",
      "True Label: Neutral, Predicted Label: Neutral\n",
      "\n",
      "Text 91: ● Pinjaman dana tunai dengan benefit cair hingga Rp500 juta dan tenor panjang hingga 60 bulan.  ● Doorprize adirapoin s.d 3 juta untuk semua produk pembiayaan.  Bagi konsumen yang ingin mencoba kendaraan impian, dapat mengikuti test drive dengan mengunjungi booth Adira Finance di Corridor Trans Square yang terdapat di Lobby Barat Trans Studio Mall untuk kemudian lakukan registrasi di meja admin.  Lebih lanjut, Adira Finance menyediakan fasilitas approval di tempat untuk kemudahan proses pengajuan pembiayaan.  Konsumen yang pengajuan pembiayaannya disetujui oleh Adira Finance akan langsung mendapatkan tambahan benefit berupa kupon undian HARCILNAS (Harinya Cicilan Lunas).  Sebagai bagian dari perayaan HUT ke-34, Adira Finance memberikan kesempatan kepada 34 pemenang untuk dilunasi cicilan seluruhnya, sedangkan 340 pemenang akan dilunasi cicilan 1 bulan dan 100 pemenang akan mendapatkan hadiah tambahan berupa cashback adirapoin sebesar 5%.  Tidak hanya Adira Finance, pengunjung juga bisa mendapatkan solusi finansial komprehensif dari entitas grup lainnya seperti Danamon dan Home Credit dengan berbagai promo menarik, yaitu:  ● Danamon LEBIH PRO/Danamon LEBIH PRO iB dengan promo hemat 50% hingga Rp35.000.000 untuk liburan keliling dunia, ibadah ke tanah suci, pembelian gadget dan elektronik  ● Kartu Debit, Kredit dan Charge Danamon dengan promo hemat hingga Rp6.800.000 untuk pembelian produk travel, gadget, dan elektronik  ● Home Credit Indonesia dengan promo cicilan 0% untuk pembelian gadget dan elektronik ● KPR Danamon dengan promo spesial suku bunga mulai 4,68% tetap selama 5 tahun dan menghadirkan 6 developer rekanan Danamon, serta\n",
      "True Label: Negative, Predicted Label: Negative\n",
      "\n",
      "Text 92: KOMPAS.com - Provinsi Gorontalo di Pulau Sulawesi bagian utara, dikenal punya banyak wisata bahari.  Salah satunya adalah melihat hiu paus di Botubarani, Kecamatan Kabila Bone, Kabupaten Bone Bolango.  Waktu tempuhnya cukup singkat dari pusat Kota Gorontalo, yakni sekitar setengah jam. Wisatawan juga tidak perlu ke tengah laut lepas untuk bertemu hiu paus.  Itu karena hiu paus bisa ditemukan dengan jarak sekitar 25 meter dari bibir pantai. Wisatawan bahkan bisa berenang dari pantai menuju lokasi hiu paus.  Lihat postingan ini di Instagram  Sebuah kiriman dibagikan oleh Kompas Travel (@kompas.travel)  Kompas.com sempat menjajal sensasi wisata hiu paus Botubarani ini pada Sabtu (30/8/2024) saat agenda Press Tour Gorontalo yang diselenggarakan oleh Kementerian Pariwisata dan Ekonomi Kreatif (Kemenparekraf).  Waktu yang tepat melihat hiu paus di Botubarani  Jika ingin melihat hiu paus di Botubarani, Gorontalo, maka ada waktu-waktu tertentu yang disarankan.  Pemandu wisata bernama Iman mengatakan, pihaknya selalu memantau dan mencatat kemunculan hiu paus di perairan Botubarani selama bertahun-tahun sejak 2016.  “Berdasarkan pengamatan kami, hiu paus paling banyak terlihat antara bulan Mei sampai Juli.” kata dia saat melakukan briefing kepada peserta tur.  Pada periode Mei hingga Juli, sambung dia, biasanya ada lebih dari satu individu hiu paus yang muncul. Bahkan, pernah sampai ada empat hiu paus yang muncul bersamaan.  Hiu Paus Gorontalo menghilang.  Wisatawan yang ingin melihat hiu paus di Botubarani pun disarankan untuk datang pada periode waktu tersebut.  Adapun saat Kompas.com berkunjung pada 30 Agustus 2024, hanya ada satu individu hiu paus yang terlihat.  Pengelola memberi nama hiu paus yang muncul itu dengan sebutan Serli. Meski begitu, nama itu bukan berarti disematkan untuk satu individu hiu paus.  “Serli itu singkatan dari sering terlihat. Jadi hiu paus yang muncul di sini kami beri nama Serli,” ujar Iman.\n",
      "True Label: Neutral, Predicted Label: Neutral\n",
      "\n",
      "Text 93: BANDUNG, KejakimpolNews,com - Ahad 4 Agustus hari ini, Persib Bandung siap akan memperkenalkan seluruh anggota tim, jersey, dan para mitra yang akan menyertai perjalanan tim kebanggaan Bobotoh ini mengarungi kompetisi Liga 1 musim 2024/2025.  Rangkaian ritual menyambut musim baru tersebut dikemas dalam sebuah acara bertajuk \"Pesta Rakyat Persib\" yang digelar di GOR C-Tra Arena, Jalan Cikutra, Kota Bandung.  Commercial Director PT Persib Bandung Bermartabat, Sandy Tantra menjelaskan, acara ini merupakan bentuk komitmen Persib Bandung untuk selalu mendekatkan diri dengan pendukungnya, melibatkan Bobotoh sebagai bagian dari momentum penting awal perjalanan Pangeran Biru mempertahankan gelar juara di musim baru 2024/2025 ini.  \"Untuk menyambut musim baru 2024/2025, kami mengajak seluruh Bobotoh untuk memberikan dukungan semangat kepada Pangeran Biru yang akan memulai perjalanan di musim yang baru ini. Kemenangan di musim sebelumnya tidak lepas dari dukungan para Bobotoh di seluruh dunia,\" katanya.  \"Karenanya, di Pesta Rakyat Persib, kami mengundang Bobotoh dan keluarga untuk hadir berolahraga bersama, berinteraksi dengan sesama pendukung sambil menikmati hiburan dan kuliner lokal. Peluncuran tim dan jersey baru adalah simbol dari semangat baru dan dedikasi kami untuk meraih prestasi terbaik di musim mendatang. Kehadiran mitra sponsor juga sangat berarti bagi keberlanjutan dan perkembangan klub kami, sehingga kami harapkan Pesta Rakyat PERSIB menjadi ajang silaturahmi dan perayaan bersama tim kebanggaan, mitra, dan semua Bobotoh,\" kata Sandy.  Para mitra Persib Bandung akan diperkenalkan dan hadir menjadi bagian penting dalam penyelenggaraan musim baru. Pada musim ini, Persib akan didukung para mitra yaitu Indofood, Kopi ABC, Intersport by Pria Punya Selera, Planet Persib, Greenfields, Le Minerale, Teh Pucuk Harum, Panther Energy Drink, dan Socios.  Selain launching tim, jersey, dan para mitra, Persib juga akan memperkenalkan program terbaru, MemberSIB, program keanggotaan Bobotoh, serta fitur-fitur baru yang akan diluncurkan di acara tersebut.  Dukungan terbaik  Sementara itu, Interim Director of Sports PT Persib Bandung Bermartabat, Adhitia Putra Herawan menambahkan, peluncuran tim dan jersey diharapkan dapat meningkatkan semangat dan antusiasme para pemain serta penggemar untuk berjuang bersama-sama mencetak prestasi terbaik di kompetisi Liga 1 musim 2024/2025 dan AFC Champions League 2 (ACL 2).  Sebagai bentuk dukungan, Adhit mengajak Bobotoh untuk hadir dan merayakan Pesta Rakyat Persib menyambut kompetisi Liga 1 musim 2024/2025. \"Dukungan Bobotoh adalah kekuatan terbesar kami. Dengan semangat kebersamaan ini, kami yakin bisa membawa Persib mencapai prestasi yang lebih tinggi di musim depan. Mari kita sambut musim baru dengan semangat dan optimisme” jelas Adhit.  Lalu, Gelandang Persib, Dedi Kusnandar juga menyambut antusias momen-momen penting yang akan terjadi di Pesta Rakyat Persib.  \"Peluncuran tim dan jersey baru ini merupakan simbol semangat baru dan tekad kami untuk memberikan yang terbaik di kompetisi Liga 1 musim 2024/2025. Kami juga menyambut baik kehadiran mitra sponsor baru yang tentunya akan memberikan banyak dukungan bagi perjalanan kami di musim ini,\" kata pemain yang akrab disapa Dado ini.  Ia pun mengajak Bobotoh untuk datang, memberikan dukungan dan meramaikan acara pembuka musim 2024/2025 ini.  \"Kami mengajak semua Bobotoh untuk datang dan merayakan acara ini bersama-sama. Dukungan kalian adalah motivasi terbesar kami untuk terus berjuang dan meraih prestasi. Mari kita satukan semangat dan tekad untuk membawa Persib ke puncak kejayaan di musim ini,\" ajak Dado.  Segera dapatkan tiketnya melalui link goers.co/persibpestarakyat hanya dengan membayar HTM seharga Rp. 35.000,- yang sudah termasuk 1 bulan keanggotaan MemberSIB Putih.  Berikan dukungan terbaik, jadilah MemberSIB, sampai jumpa di Pesta Rakyat Persib, GOR C-Tra Arena Kota Bandung, Minggu, 4 Agustus 2024 mendatang, mulai pukul 09.00 WIB.**\n",
      "True Label: Neutral, Predicted Label: Neutral\n",
      "\n",
      "Text 94: JAKARTA – Kriyanusa yang merupakan pameran kerajinan dan seni kriya berskala nasional kembali hadir dengan mengusung tema “Perajin Muda, Lestarikan Warisan Budaya” pada 28 Agustus – 1 September 2024 di Hall A & Hall B, Jakarta Convention Center (JCC).  Diselenggarakan setiap tahun oleh Dewan Kerajinan Nasional (DEKRANAS), acara ini merupakan bentuk komitmen untuk melestarikan serta mengembangkan hasil produk kriya Indonesia. Acara ini juga dirancang untuk mendorong pertumbuhan ekomoni dan perluasan pasar kriya Indonesia.  Dalam sambutannya, Ketua Umum Dewan Kerajinan Nasional (DEKRANAS) Wury Ma’ruf Amin yang merupakan istri Wakil Presiden Ma’ruf Amin mengungkapkan bahwa pameran tersebut mencerminkan komitmen untuk meneruskan tradisi dan warisan leluhur kepada generasi muda.  \"Indonesia adalah negeri yang kaya akan budaya dan tradisi. Seni kerajinan berbagai daerah yang diwariskan tidak hanya mencerminkan keindahan dan keterampilan, tetapi juga nilai-nilai identitas bangsa,\" katanya.  Ia menambahkan, Kriyanusa adalah panggung bagi para perajin muda Indonesia untuk mempersembahkan karya-karya yang menghidupkan kembali kekayaan budaya Nusantara.  Seperti diketahui, Karya Kerajinan Tangan (Kriya) menjadi salah satu aset berharga untuk memenuhi permintaan pasar global akan kerajinan tangan yang khas Indonesia. Sebanyak ratusan produk milik pengrajin terampil dari seluruh pelosok negeri pun terpajang indah di acara tersebut.  PT Bank Rakyat Indonesia (Persero) Tbk atau BRI sebagai bank dengan fokus pada pemberdayaan UMKM di Indonesia mendukung acara tersebut dan turut serta menampilkan produk kriya terbaik dari UMKM binaan di Rumah BUMN BRI. BRI pun berkesempatan memfasilitasi usaha lokal yang bergerak di bidang kriya tersebut agar semakin dikenal dunia. Sejumlah UMKM binaan hadir memamerkan sejumlah produk, yakni MINIMIZU dan Dannes Teakwood.  Pertama, MINIMIZU yang merupakan brand di bidang seni kreatif yang memiliki produk aquascape, paludarium, terrarium, dan moss art. UMKM ini memproduksi produk unik yang menyediakan berbagai macam bentuk model dan design sesuai permintaan konsumen.Kemudian UMKM kedua, yakni Danesteakwood, produsen kerajinan kayu jati berbasis social enterprise dan green economy yang memanfaatkan limbah kayu jati untuk dijadikan produk homedecor dan housewares. UMKM ini menggunakan kualitas kayu terbaik dan berupaya memberdayakan pengrajin secara luas hingga ke seluruh pelosok Indonesia.  Terkait dukungan BRI terhadap pameran Kriyanusa 2024, Wakil Direktur Utama Catur Budi Harto mengungkapkan bahwa kesempatan berpartisipasi dalam kegiatan tahunan Dekranas merupakan bentuk komitmen nyata BRI dalam memberdayakan UMKM binaan. Hal ini sejalan dengan komitmen BRI dalam mewujudkan UMKM naik kelas hingga pasar global.  “Harapannya dengan adanya event berskala nasional seperti ini akan terus membuka akses dan kesempatan kepada para pelaku UMKM yang ujungnya dapat membuat mereka naik kelas,” ucapnya.  Adapun UMKM yang bergabung mencapai 420 stan kriya, di antaranya 30% berasal dari pengrajin muda, kemudian ada 24 stan kuliner. Pameran yang tahun ini mengangkat ikon kebudayaan Kalimantan Timur tersebut dimeriahkan dengan berbagai acara seperti pameran, fashion show, talk show, dan lokakarya, serta musik. ***\n",
      "True Label: Positive, Predicted Label: Neutral\n",
      "\n",
      "Text 95: Liputan6.com, Jakarta Momen menarik terjadi dalam konferensi pers Rancangan Anggaran Pendapatan dan Belanja Negara (RAPBN) 2025. Menteri Koordinator Bidang Perekonomian Airlangga Hartarto kembali melontarkan candaan terkait 'kursi diambil'.  Hal itu bermula saat salah satu jurnalis yang akan mengajukan pertanyaan merasa bingung apakah akan berdiri atau duduk ketika memberikan pertanyaan. Kemudian, Airlangga pun melontarkan candaan mengenai ' kursi '.  \"Duduk aja, jangan berdiri. Bahaya kalau berdiri, kursi bisa hilang,\" ujar Airlangga.  Sontak candaan tersebut mengundang tawa semua orang yang berada di dalam ruang konferensi pers di Auditorium Cakti Buddhi Bhakti, Direktorat Jenderal Pajak.  Tak berhenti di situ saja, Airlangga juga kembali menyinggung perebutan mic yang terjadi pada sesi tanya jawab. Ia mengatakan, ternyata perebutan tidak hanya soal kursi saja, melainkan juga mic.  \"Mbak mengambil mic, silakan, boleh. Jadi sekarang berebutan bukan hanya kursi, tapi juga mic,\" imbuh Airlangga.  Mundur dari Ketum Golkar  Diketahui, candaan itu bermula sebelum para menteri mengikuti sidang kabinet perdana di Ibu Kota Nusantara (IKN), Kalimantan Timur, Senin (12/8/2024).  Sebagai informasi, Airlangga baru saja mengundurkan diri dari posisi Ketua Umum Partai Golkar, sedangkan Bahlil disebut-sebut menjadi penggantinya.\n",
      "True Label: Negative, Predicted Label: Negative\n",
      "\n",
      "Text 96: - Pecinta Modest ware di Indonesia tentu sangat senang dengan hadirnya Modinity Warehouse Sale 2024.Acara tahunan ini menawarkan beragam koleksi terbaik dari limaSiapa yang tidak kenal dengan Buttonscarves? Lini fashion Muslim untuk wanita ini berfokus pada beberapa produk seperti hijab, pakaian, dan aksesoris. Selain hadir dengan desain yang elegan dan modern, Buttonscarves juga sangat memperhatikan kualitas bahan dari setiap produk yang dikeluarkannya.  Ada beragam promo menarik yang bisa didapatkan di Modinity Warehouse Sale 2024. Pertama, setiap belanja denganSetiap belanja dengan Debit BRI, Kartu Kredit BRI, dan QRIS di BRImo minimal Rp 5.000.000, 3 orang yang beruntung berhak mendapatkan kesempatan untuk memenangkanSelanjutnya, setiap belanja dengan Debit BRI, Kartu Kredit BRI, dan QRIS di BRImo minimal Rp 10.000.000, 3 orang yang beruntung berhak mendapatkan kesempatan untuk memenangkanproduk Modinity senilai Rp 10.000.000.  Promo spesial ini berlangsung mulai dari 29 Agustus hingga 1 September 2024. Untuk informasi lebih detil mengenai promo spesial BRI di Modinity Warehouse Sale 2024, silahkan kunjungiBRImo di Google Play Store, App Store, dan Huawei App Gallery sekarang untuk merasakan kemudahan bertransaksi perbankan dalam genggaman. Untuk informasi ter-  Berita ini telah kami rangkum agar Anda dapat membacanya dengan cepat. Jika Anda tertarik dengan beritanya, Anda dapat membaca teks lengkapnya di sini. Baca lebih lajut:  Indonesia Berita Terbaru, Indonesia Berita utama  Similar News: Anda juga dapat membaca berita serupa dengan ini yang kami kumpulkan dari sumber berita lain.  5 Brand Ternama dengan Promo Spesial BRI di Modinity Warehouse Sale 2024 Yuk, download BRImo di Google Play Store, App Store, dan Huawei AppGallery sekarang untuk merasakan kemudahan bertransaksi perbankan dalam genggaman. Sumber: suaradotcom - 🏆 28. / 53 Baca lebih lajut »  Borong Fashion di Modinity Warehouse Sale 2024, BRI Bagi-bagi Lucky Dip Rp15 Juta! Portal berita yang menyajikan informasi terhangat baik peristiwa politik, entertainment dan lain lain Sumber: suaradotcom - 🏆 28. / 53 Baca lebih lajut »  Perbedaan Paralimpiade dan Olimpiade Paris 2024, Jangan Salah Sebut Paralimpiade 2024 diselenggarakan setelah berlangsungnya Olimpiade Paris 2024 yang telah usai pada 11 Agustus 2024. Sumber: liputan6dotcom - 🏆 4. / 83 Baca lebih lajut »  Sambut HUT Kemerdekaan RI, 12 Mal dan 15 Hotel di Tangerang Kasih Diskon 79 Persen Tangerang Great Sale 2024 digelar selama satu bulan dari tanggal 14 Agustus-14 September 2024. Sumber: merdekadotcom - 🏆 36. / 51 Baca lebih lajut »\n",
      "True Label: Neutral, Predicted Label: Neutral\n",
      "\n",
      "Text 97: AYOSURABAYA.COM -- Arti air bisa tambah dan minuman anak kembar MPLS bisa kamu temukan di sini.  Air bisa tambah dan minuman anak kembar mungkin saja menjadi teka teki minuman MPLS yang harus dipecahkan.  Biasanya, panitia akan memberikan beberapa teka-teki untuk dipecahkan oleh peserta saat pelaksanaan Masa Pengenalan Lingkungan Sekolah (MPLS).  Setelah peserta memecahkan teka-teki, maka jawabannya yang berupa makanan. minuman, atau barang, bisa dibawa ke sekolah saat kegiatan MPLS.  Inilah arti air bisa tambah, minuman anak kembar, dan teka teki minuman MPLS lainnya, yag sudah dikumpulkan AyoSurabaya dari berbagai sumber.  Air lumpur: Susu cokelat Air mineral merk oasis: Air mineral Cap Oasis Air mineral yang ada manis-manisnya: Le Minerale Air penjumlahan: Air kali Air putih dihormati: Susu  Teh 2 huruf: NU Green Tea Teh yang berkelas: Teh Poci Teletubbies mencari keringat: Pocari sweat The band: Teh kotak Wafer Seduh: Energen  Air bilangan '2,3,5': Air minum Cap Prima Air desa: Ades Air emas dari hutan tropis: Minyak goreng Tropical Air gak loyo: Air vit Air kencing banteng: Kratingdaeng  Buah dari kedai kopi: Fruit Tea Buah teh macintosh: Fruit Tea Apel Darah beku: Cincau Jus Pancasila: Jus belimbing Jus Teknologi: Jus apel  Minuman kanibal: Nutrisari Minuman Miss Universe: UC 1000 Minuman pahlawan: Ultra Milk Minuman perkakas: 2Tang Minuman permisi: mangga\n",
      "True Label: Neutral, Predicted Label: Neutral\n",
      "\n",
      "Text 98: Jakarta (ANTARA) -  PT Toyota-Astra Motor (TAM) menerjunkan sebanyak 13 unit kendaraan elektrifikasi mereka untuk diuji mulai dari Jakarta, Solo, Semarang hingga Yogyakarta, menjadikan kegiatan uji coba kendaraan kali ini paling ramah lingkungan yang diselenggarakan oleh perusahaan tersebut.  Hal itu juga sempat dinyatakan oleh Vice President Director PT Toyota Astra Motor, Henry Tanoto di Solo.  Dalam kegiatan yang bertajuk “Toyota Eco Journey – JTD Electrification Line Up 2024”, ANTARA berkesempatan mengikuti rangkaian yang dilaksanakan sejak 26 sampai dengan 28 Agustus 2024.  Berbagai kendaraan elektrifikasi yang didominasi dengan kendaraan hybrid milik Toyota hampir ANTARA rasakan semua. Dari 13 kendaraan, Toyota menyediakan 4 unit All New Yaris Cross HEV, 3 unit All New Kijang Innova Zenix Q HEV.  Selain itu terdapat juga 1 unit All New Kijang Innova Zenix V HEV, 1 unit All New Alphard HEV, 1 unit All New Vellfire HEV, 1 unit All New RAV4 GR Sport PHEV, dan 1 unit All New Prius HEV yang baru diluncurkan pada GIIAS 2024.  Pada hari pertama, ANTARA bersama tiga orang media lainnya berkesempatan untuk mencoba keandalan, kelincahan serta keiritan yang dimiliki oleh All New Yaris Cross HEV untuk menjajal jalan Trans Jawa.  Terbukti, kendaraan ini memberikan sensasi berkendara yang memberikan rasa nyaman dan juga aman kepada pengendara maupun penumpang dengan kecepatan rata-rata 80 km/h kami berhasil menembus angka 23 km/l.  Untuk angka konsumsi bahan bakar, setiap pengendara akan memberikan hasil yang berbeda tergantung cara mengemudi dan beban yang dibawa. Dalam kegiatan ini, bahkan terdapat salah satu peserta yang berhasil mendapatkan angka efisien yang lebih besar.  Selain All New Yaris Cross HEV, ANTARA juga diberikan kesempatan untuk menjajal All New Kijang Innova Zenix Q HEV yang memberikan kenyamanan dalam berkendara dengan interior yang lapang.  ANTARA juga mendapatkan kesempatan untuk merasakan kenyamanan yang dihadirkan oleh kendaraan Multi Purpose Vehicle (MPV) premium dari Toyota, yakni All New Alphard HEV. Kendaraan canggih dan modern ini, memberikan sensasi kepada para penumpangnya layaknya eksekutif muda. Berbagai peralatan modern juga turut dibenamkan dalam kendaraan ini.  All New Alphard HEV sudah menggunakan Detachable Smartphone-like Remote Control untuk mengatur berbagai fitur yang ada, mulai dari hiburan sampai privasi seperti Adjustable Rear Side Shade.  Tidak hanya itu saja, ruang yang lapang juga dihadirkan berkat desain bangku dengan model Captain Seat yang Fully Electric mampu menambah kenyamanan penumpang di baris kedua.  Tidak heran, jika kendaraan yang memiliki dimensi panjang 5.010 mm, lebar 1.850 mm, dan tinggi 1.945 mm dengan jarak poros roda (wheelbase) 3.000 mm dengan ukuran ban 225/55 R19 ini digemari oleh konsumen yang menginginkan kenyamanan dalam berkendara.  Selain itu, ANTARA juga sempat merasakan berkendara dengan menggunakan All New RAV4 GR Sport PHEV. Kendaraan yang dibanderol dengan harga Rp1,15 miliar ini juga tidak kalah dengan kendaraan-kendaraan yang sudah diuji coba lainnya dalam segi performa.  Kendaraan yang bersaing dengan Mazda CX 9 AWD, Audi Q5 2.0 TFSI Quattro, BMW X1 sDrive18i xLine, Mercedes Benz GLB-Class 200 Progressive Line dan Hyundai Palisade Signature AWD ini hadir dengan mesin PHEV 2487 cc dengan konfigurasi 4 silinder segaris, 4 valve, DOHC.  Dengan bekal yang mumpuni itu, kendaraan ini sanggup mengeluarkan tenaga sebesar 182 hp dengan torsi 227 Nm. Tidak heran, jika kendaraan sanggup memberikan sensasi berkendara yang menyenangkan.  All New RAV4 GR Sport PHEV pada dasarnya memiliki karakter berkendara yang sama dengan HEV Toyota. Bedanya, fitur charging port memberikan fleksibilitas kepada pelanggan yang mau memanfaatkan fasilitas charging station untuk mengisi baterai hybrid, guna menambah jarak tempuh zero emission ala BEV.  Yang menjadi bintang pada uji coba kali ini adalah All New Prius HEV. Mobil hybrid yang baru saja diluncurkan pada ajang Gaikindo Indonesia International Auto Show (GIIAS) 2024 lalu ini memang banyak mendapatkan perhatian baik dari kalangan media hingga masyarakat yang ada di jalan.  Dengan warna kuning yang mencolok, kendaraan ini seolah berbeda dengan kendaraan-kendaraan yang digunakan oleh kebanyakan media yang mengikuti rangkaian tersebut.  Desain yang aerodinamis dan futuristik ini juga seolah mengisyaratkan bahwa kendaraan ini siap untuk memuaskan para penggunanya dalam berkendara di atas rata-rata.  Dalam uji coba ini, Prius generasi kelima ini mencatatkan tingkat efisiensi bahan bakar yang cukup tinggi, yaitu sekitar 29.4 km/L.  Dengan jarak berkendara 215 km dari Jakarta menuju Cirebon dan jarak 225 km dari Cirebon menuju Semarang gabungan dari 12 unit yang dibawa ini berhasil mengurangi emisi karbon sebanyak lebih dari 41 kg CO2 jika dibandingkan dengan mobil ICE.  “HEV Toyota dapat diterima dengan baik karena sesuai ekosistem, ketersediaan infrastruktur, dan kebiasaan berkendara masyarakat. Supaya dapat memberikan informasi lebih komprehensif terkait Hybrid EV Toyota, serta membuktikan keandalannya di medan jalan yang beragam, kami mengajak para jurnalis nasional untuk merasakan langsung kinerjanya dalam journalist test drive kolosal ini,” tutup Marketing Director PT Toyota-Astra Motor (TAM), Anton Jimmi Suwandy.\n",
      "True Label: Neutral, Predicted Label: Neutral\n",
      "\n",
      "Text 99: KONTAN.CO.ID - JAKARTA. Raksasa bank asal Jepang, MUFG, Ltd telah menyiapkan dana senilai Rp 1,69 triliun untuk membeli sisa kepemilikan saham PT Mandala Finance Tbk (MFIN) milik publik. Langkah tersebut dilakukan melalui aksi tender offer wajib sebagai kelanjutan proses akuisisi perusahaan pembiayaan tersebut pada tahun lalu.  Seperti diketahui, saat ini kepemilikan publik atas saham MFIN sebanyak 513.961.400 saham. Harga penawaran tender saham MFIN tersebut telah ditentukan dengan senilai Rp 3.297 per saham.  “MUFG menyatakan memiliki dana yang cukup dan sanggup untuk melaksanakan kewajibannya untuk melakukan pembayaran penuh kepada pemegang saham yang ditawarkan sehubungan dengan penawaran tender wajib,” tulis keterbukaan informasi MUFG, Senin (22/7).  Periode pelaksanaan tender offer wajib ini akan berlangsung selama 30 hari setelah keterbukaan informasi. Artinya, periode tersebut akan berakhir pada 21 Agustus 2024 pukul 15.00 Waktu Indonesia Barat.  MUFG mengungkapkan tujuan dari pembelian saham tersebut untuk memanfaatkan kekuatan MFIN, baik dalam produk maupun keberadaannya, untuk selanjutnya memperkuat dan memperluas usaha pembiayaan otomotif MUFG di Indonesia bersama dengan PT Adira Dinamika Multifinance Tbk (ADMF).  Setelah penawaran tender wajib ini selesai, MUFG berencana terus menjalankan hal-hal yang terkandung di dalam rencana pengembangan operasional yang telah disampaikan MFIN kepada OJK.  Adapun, jika pemegang saham publik melaksanakan hak nya untuk mengikuti tender wajib ini, maka MFIN kemungkinan akan menjadi perusahaan tertutup. Di mana, MUFG akan memegang saham MFIN terbanyak dengan kepemilikan 90%.  “Pengendali baru tidak memiliki rencana konkret untuk mengajukan perubahaan status perusahaan sasaran (MFIN) dari perusahaan terbuka menjadi perusahaan tertutup,” tulis keterbukaan tersebut.\n",
      "True Label: Neutral, Predicted Label: Neutral\n",
      "\n",
      "Text 100: BICARANETWORK.COM - PT Adira Dinamika Multi Finance Tbk. (Adira Finance) membukukan lebih dari 1.500 transaksi Surat Pemesanan Kendaraan (SPK) dalam pelaksanaan Jakarta Fair Kemayoran 2024 sejak 12 Juni lalu.  “Selama tiga minggu pelaksanaan Jakarta Fair Kemayoran 2024, Adira Finance telah berhasil mendapatkan lebih dari 1.500 transaksi SPK,” ucap Head of Retail Motorcycle Financing Adira Finance Andy Sutanto dalam pernyataannya yang diterima di Jakarta, Minggu.  Di Kampung Adira, sebutan bagi booth Adira Finance pada Jakarta Fair kali ini, ia mengatakan bahwa pihaknya memajang puluhan display kendaraan roda dua, baik konvensional maupun listrik dari berbagai merek, untuk membantu para pengunjung mendapatkan informasi lengkap mengenai spesifikasi kendaraan yang mereka inginkan.  Pihaknya juga memberikan fasilitas persetujuan (approval) di tempat sehingga pengunjung bisa langsung mendapatkan persetujuan pembiayaan dengan cepat dan mudah untuk membawa pulang produk yang mereka inginkan tanpa menunggu lama.  Andy menyampaikan bahwa terdapat berbagai penawaran diskon dan hadiah bagi para pengunjung yang bertransaksi di Kampung Adira maupun booth lainnya yang memiliki kerja sama pembiayaan dengan pihaknya.  Salah satunya adalah benefit cicilan ringan dan potongan tenor hingga empat bulan untuk pengajuan kredit motor baru serta cicilan ringan dan bonus asuransi mesin 180 hari dari PT Zurich Asuransi Indonesia (Zurich Indonesia) untuk pengajuan kredit motor bekas.  Terdapat pula benefit bunga spesial mulai dari 2,99 persen per tahun serta bebas biaya provisi untuk pembiayaan mobil cashback hingga 1,5 juta adirapoin untuk tukar tambah kendaraan, serta uang muka atau DP mulai 0 persen untuk pembiayaan sepeda listrik.  Tidak hanya kredit kendaraan, Andy menuturkan bahwa pihaknya juga memfasilitasi pengajuan pembiayaan umroh dengan benefit uang saku Rp1 juta dan 100 ribu adirapoin, serta pinjaman dana tunai multiguna dengan tenor hingga 60 bulan dan plafon hingga Rp500 juta.  Ia mengatakan bahwa bagi konsumen yang beruntung, pihaknya juga menyediakan hadiah pelunasan cicilan seluruhnya untuk 34 pemenang dan pelunasan satu kali cicilan untuk 340 pemenang melalui program Harinya Cicilan Lunas (HARCILNAS) serta lima paket umrah gratis melalui Program UMRAH Untuk Sahabat.  “Kami sudah mendapatkan tiga pemenang Program UMRAH Untuk Sahabat. Masih ada kesempatan untuk pengunjung bisa mendapatkan berbagai promo serta penawaran menarik khusus di Jakarta Fair Kemayoran, termasuk memenangkan umroh gratis dari Adira Finance hingga 14 Juli 2024,” imbuhnya.(*)\n",
      "True Label: Neutral, Predicted Label: Negative\n",
      "\n",
      "Accuracy on the validation set: 0.8200\n",
      "Time taken for tokenization: 0.2751 seconds\n",
      "Time taken for inference: 11.9306 seconds\n",
      "Total time taken: 12.2056 seconds\n"
     ]
    },
    {
     "ename": "",
     "evalue": "",
     "output_type": "error",
     "traceback": [
      "\u001b[1;31mThe Kernel crashed while executing code in the current cell or a previous cell. \n",
      "\u001b[1;31mPlease review the code in the cell(s) to identify a possible cause of the failure. \n",
      "\u001b[1;31mClick <a href='https://aka.ms/vscodeJupyterKernelCrash'>here</a> for more info. \n",
      "\u001b[1;31mView Jupyter <a href='command:jupyter.viewOutput'>log</a> for further details."
     ]
    }
   ],
   "source": [
    "import random\n",
    "import torch\n",
    "import time\n",
    "from transformers import LongformerForSequenceClassification, LongformerTokenizer\n",
    "\n",
    "torch.cuda.empty_cache()\n",
    "\n",
    "\n",
    "# Set random seed for reproducibility\n",
    "random.seed(42)\n",
    "\n",
    "# Load the saved model and tokenizer\n",
    "device = torch.device(\"cuda\" if torch.cuda.is_available() else \"cpu\")\n",
    "model_path = './longformer_model2'  # Path to your saved model\n",
    "model = LongformerForSequenceClassification.from_pretrained(model_path).to(device)\n",
    "tokenizer = LongformerTokenizer.from_pretrained(model_path)\n",
    "\n",
    "print(\"Model and tokenizer successfully loaded!\")\n",
    "\n",
    "# Limit to 100 articles from the validation set\n",
    "val_texts_subset = val_texts[:100]\n",
    "val_labels_subset = val_labels[:100]\n",
    "\n",
    "# Tokenize the subset of the validation set\n",
    "start_tokenization_time = time.time()\n",
    "inputs = tokenizer(val_texts_subset, return_tensors=\"pt\", truncation=True, padding=True, max_length=512).to(device)\n",
    "end_tokenization_time = time.time()\n",
    "\n",
    "# Perform inference\n",
    "model.eval()\n",
    "start_inference_time = time.time()\n",
    "with torch.no_grad():\n",
    "    outputs = model(**inputs)\n",
    "end_inference_time = time.time()\n",
    "\n",
    "# Get the predicted class for each input\n",
    "logits = outputs.logits\n",
    "predicted_classes = torch.argmax(logits, dim=1).tolist()\n",
    "\n",
    "# Print results for the validation set subset\n",
    "label_mapping = {0: \"Positive\", 1: \"Neutral\", 2: \"Negative\"}\n",
    "correct_predictions = 0\n",
    "\n",
    "for i, (text, true_label, predicted_label) in enumerate(zip(val_texts_subset, val_labels_subset, predicted_classes)):\n",
    "    print(f\"Text {i+1}: {text}\")\n",
    "    print(f\"True Label: {label_mapping[true_label]}, Predicted Label: {label_mapping[predicted_label]}\\n\")\n",
    "    if true_label == predicted_label:\n",
    "        correct_predictions += 1\n",
    "\n",
    "# Calculate overall accuracy\n",
    "accuracy = correct_predictions / len(val_labels_subset)\n",
    "print(f\"Accuracy on the validation set: {accuracy:.4f}\")\n",
    "\n",
    "# Calculate timing metrics\n",
    "tokenization_time = end_tokenization_time - start_tokenization_time\n",
    "inference_time = end_inference_time - start_inference_time\n",
    "print(f\"Time taken for tokenization: {tokenization_time:.4f} seconds\")\n",
    "print(f\"Time taken for inference: {inference_time:.4f} seconds\")\n",
    "print(f\"Total time taken: {tokenization_time + inference_time:.4f} seconds\")"
   ]
  },
  {
   "cell_type": "code",
   "execution_count": null,
   "metadata": {},
   "outputs": [],
   "source": [
    "# Load the saved model and tokenizer\n",
    "model = LongformerForSequenceClassification.from_pretrained('./longformer_model').to(device)\n",
    "tokenizer = LongformerTokenizer.from_pretrained('./longformer_model')"
   ]
  },
  {
   "cell_type": "code",
   "execution_count": null,
   "metadata": {},
   "outputs": [],
   "source": [
    "# Define label mapping\n",
    "label_mapping = {0: \"Negative\", 1: \"Neutral\", 2: \"Positive\"}"
   ]
  },
  {
   "cell_type": "code",
   "execution_count": null,
   "metadata": {},
   "outputs": [],
   "source": [
    "# Testing new articles\n",
    "def classify_article(article):\n",
    "    # Tokenize the input article and move the tensors to the correct device\n",
    "    inputs = tokenizer(article, return_tensors=\"pt\", truncation=True, padding=True, max_length=512)\n",
    "    \n",
    "    # Move tokenized inputs to the correct device (GPU or CPU)\n",
    "    inputs = {key: value.to(device) for key, value in inputs.items()}\n",
    "    \n",
    "    with torch.no_grad():\n",
    "        # Perform inference using the model\n",
    "        outputs = model(**inputs)\n",
    "    \n",
    "    logits = outputs.logits\n",
    "    # Get the predicted label (index of the highest logit)\n",
    "    predicted_label = np.argmax(logits.cpu().numpy(), axis=1)[0]\n",
    "    \n",
    "    # Calculate sentiment scores (probabilities)\n",
    "    sentiment_score = torch.softmax(logits, dim=1).cpu().numpy()[0]\n",
    "    \n",
    "    # Map predicted label to sentiment text\n",
    "    sentiment_result = label_mapping[predicted_label]\n",
    "    \n",
    "    return sentiment_result, sentiment_score"
   ]
  },
  {
   "cell_type": "code",
   "execution_count": null,
   "metadata": {},
   "outputs": [
    {
     "name": "stdout",
     "output_type": "stream",
     "text": [
      "The sentiment of the article is: Positive\n",
      "Sentiment scores: [0.00133929 0.01447496 0.98418576]\n"
     ]
    }
   ],
   "source": [
    "# User input for a new article\n",
    "new_article = input(\"Your article:\")\n",
    "sentiment_result, sentiment_score = classify_article(new_article)\n",
    "print(f\"The sentiment of the article is: {sentiment_result}\")\n",
    "print(f\"Sentiment scores: {sentiment_score}\")\n"
   ]
  },
  {
   "cell_type": "code",
   "execution_count": null,
   "metadata": {},
   "outputs": [
    {
     "name": "stderr",
     "output_type": "stream",
     "text": [
      "You are using a model of type encoder_decoder to instantiate a model of type encoder-decoder. This is not supported for all configurations of models and can yield errors.\n",
      "Some weights of the model checkpoint at patrickvonplaten/longformer2roberta-cnn_dailymail-fp16 were not used when initializing EncoderDecoderModel: ['decoder.roberta.pooler.dense.bias', 'decoder.roberta.pooler.dense.weight', 'encoder.embeddings.position_ids']\n",
      "- This IS expected if you are initializing EncoderDecoderModel from the checkpoint of a model trained on another task or with another architecture (e.g. initializing a BertForSequenceClassification model from a BertForPreTraining model).\n",
      "- This IS NOT expected if you are initializing EncoderDecoderModel from the checkpoint of a model that you expect to be exactly identical (initializing a BertForSequenceClassification model from a BertForSequenceClassification model).\n"
     ]
    }
   ],
   "source": [
    "from transformers import LongformerTokenizer, EncoderDecoderModel\n",
    "\n",
    "# Load summarization model and tokenizer\n",
    "summarization_model = EncoderDecoderModel.from_pretrained(\"patrickvonplaten/longformer2roberta-cnn_dailymail-fp16\")\n",
    "summarization_tokenizer = LongformerTokenizer.from_pretrained(\"allenai/longformer-base-4096\")"
   ]
  },
  {
   "cell_type": "code",
   "execution_count": null,
   "metadata": {},
   "outputs": [],
   "source": [
    "# Function to summarize text\n",
    "def summarize_text(text):\n",
    "    input_ids = summarization_tokenizer(text, return_tensors=\"pt\", max_length=4096, truncation=True).input_ids\n",
    "    output_ids = summarization_model.generate(input_ids, max_length=150, min_length=30, length_penalty=2.0, num_beams=4, early_stopping=True)\n",
    "    return summarization_tokenizer.decode(output_ids[0], skip_special_tokens=True)\n"
   ]
  },
  {
   "cell_type": "code",
   "execution_count": null,
   "metadata": {},
   "outputs": [],
   "source": [
    "# User input for text summarization\n",
    "article_to_summarize = input(\"Your article:\")"
   ]
  },
  {
   "cell_type": "code",
   "execution_count": null,
   "metadata": {},
   "outputs": [
    {
     "name": "stdout",
     "output_type": "stream",
     "text": [
      "Summary of the article:\n",
      "The program Harcilnas 2024 is based in Jakarta, Indonesia .\n",
      "The program is aimed at helping the program Harinya Cicilan Lunasan .\n",
      "Program Harcilas is a program ini e-bike, e-bikes, ebike, hinga, e bike, e/bike .\n"
     ]
    }
   ],
   "source": [
    "# Ensure model is moved to the device\n",
    "summarization_model = summarization_model.to(device)\n",
    "\n",
    "# Tokenize and summarize\n",
    "input_ids = summarization_tokenizer(article_to_summarize, return_tensors=\"pt\").input_ids.to(device)\n",
    "output_ids = summarization_model.generate(input_ids)\n",
    "\n",
    "# Get the summary from the output tokens\n",
    "summary = summarization_tokenizer.decode(output_ids[0], skip_special_tokens=True)\n",
    "\n",
    "# Print summary\n",
    "print(\"Summary of the article:\")\n",
    "print(summary)"
   ]
  },
  {
   "cell_type": "code",
   "execution_count": null,
   "metadata": {},
   "outputs": [
    {
     "name": "stderr",
     "output_type": "stream",
     "text": [
      "c:\\Users\\rache\\AppData\\Local\\Programs\\Python\\Python311\\Lib\\site-packages\\huggingface_hub\\file_download.py:147: UserWarning: `huggingface_hub` cache-system uses symlinks by default to efficiently store duplicated files but your machine does not support them in C:\\Users\\rache\\.cache\\huggingface\\hub\\models--facebook--bart-large-cnn. Caching files will still work but in a degraded version that might require more space on your disk. This warning can be disabled by setting the `HF_HUB_DISABLE_SYMLINKS_WARNING` environment variable. For more details, see https://huggingface.co/docs/huggingface_hub/how-to-cache#limitations.\n",
      "To support symlinks on Windows, you either need to activate Developer Mode or to run Python as an administrator. In order to activate developer mode, see this article: https://docs.microsoft.com/en-us/windows/apps/get-started/enable-your-device-for-development\n",
      "  warnings.warn(message)\n"
     ]
    },
    {
     "name": "stdout",
     "output_type": "stream",
     "text": [
      "Summary of the article:\n",
      "Pembayaran kredit sepeda motor yang seringkali menjadi beban bagi sebagian besar masyarakat. Program ini memungkinkan nasabah melunasi kredit atau kredit lainnya secara penuh.\n"
     ]
    }
   ],
   "source": [
    "from transformers import BartForConditionalGeneration, BartTokenizer\n",
    "\n",
    "summarization_model = BartForConditionalGeneration.from_pretrained(\"facebook/bart-large-cnn\").to(device)\n",
    "tokenizer = BartTokenizer.from_pretrained(\"facebook/bart-large-cnn\")\n",
    "\n",
    "# Article text to summarize\n",
    "article_to_summarize = \"\"\"\n",
    "Jakarta, VIVA – Pembayaran kredit sepeda motor yang seringkali menjadi beban bagi sebagian besar masyarakat, kini \n",
    "dapat diatasi melalui program Hari Pembayaran Berbayar atau Harcilnas 2024 yang diselenggarakan oleh PT Adira Dinamika \n",
    "Multi Finance Tbk (Adira Finance). Program ini memungkinkan nasabah melunasi kredit sepeda motor atau kredit lainnya secara \n",
    "penuh hanya dengan menukarkan poin yang terkumpul. Pada Harcilnas periode pertama tahun ini, ada 12 nasabah yang berhasil \n",
    "melunasi seluruh tagihannya.\n",
    "\"\"\"\n",
    "\n",
    "# Use \"summarize:\" prefix\n",
    "input_text = f\"summarize: {article_to_summarize}\"\n",
    "\n",
    "# Tokenize the input text\n",
    "input_ids = tokenizer(input_text, return_tensors=\"pt\", truncation=True, padding=True, max_length=512).input_ids.to(device)\n",
    "\n",
    "# Generate the summary with BART's optimized settings\n",
    "output_ids = summarization_model.generate(\n",
    "    input_ids,\n",
    "    max_length=150,            # Shorter summary length\n",
    "    num_beams=4,               # Beam search for better quality\n",
    "    early_stopping=True,\n",
    ")\n",
    "\n",
    "# Decode the generated summary output\n",
    "summary = tokenizer.decode(output_ids[0], skip_special_tokens=True, clean_up_tokenization_spaces=True)\n",
    "print(\"Summary of the article:\")\n",
    "print(summary)\n"
   ]
  },
  {
   "cell_type": "code",
   "execution_count": null,
   "metadata": {},
   "outputs": [],
   "source": [
    "# Export results to CSV\n",
    "import csv\n",
    "\n",
    "def export_results(sentiment_results, summaries):\n",
    "    with open('results.csv', mode='w', newline='', encoding='utf-8') as file:\n",
    "        writer = csv.writer(file)\n",
    "        writer.writerow(['Article', 'Sentiment', 'Sentiment Scores', 'Summary'])\n",
    "        for article, sentiment, scores, summary in zip([new_article, article_to_summarize], \n",
    "                                                        [sentiment_result, 'N/A'], \n",
    "                                                        [sentiment_score, 'N/A'], \n",
    "                                                        [summary, 'N/A']):\n",
    "            writer.writerow([article, sentiment, scores.tolist() if isinstance(scores, np.ndarray) else scores, summary])"
   ]
  },
  {
   "cell_type": "code",
   "execution_count": null,
   "metadata": {},
   "outputs": [
    {
     "ename": "UnboundLocalError",
     "evalue": "cannot access local variable 'summary' where it is not associated with a value",
     "output_type": "error",
     "traceback": [
      "\u001b[1;31m---------------------------------------------------------------------------\u001b[0m",
      "\u001b[1;31mUnboundLocalError\u001b[0m                         Traceback (most recent call last)",
      "Cell \u001b[1;32mIn[58], line 2\u001b[0m\n\u001b[0;32m      1\u001b[0m \u001b[38;5;66;03m# Call the export function\u001b[39;00m\n\u001b[1;32m----> 2\u001b[0m \u001b[43mexport_results\u001b[49m\u001b[43m(\u001b[49m\u001b[43msentiment_results\u001b[49m\u001b[38;5;241;43m=\u001b[39;49m\u001b[43m[\u001b[49m\u001b[43m(\u001b[49m\u001b[43mnew_article\u001b[49m\u001b[43m,\u001b[49m\u001b[43m \u001b[49m\u001b[43msentiment_result\u001b[49m\u001b[43m,\u001b[49m\u001b[43m \u001b[49m\u001b[43msentiment_score\u001b[49m\u001b[43m)\u001b[49m\u001b[43m]\u001b[49m\u001b[43m,\u001b[49m\u001b[43m \u001b[49m\n\u001b[0;32m      3\u001b[0m \u001b[43m               \u001b[49m\u001b[43msummaries\u001b[49m\u001b[38;5;241;43m=\u001b[39;49m\u001b[43m[\u001b[49m\u001b[43msummary\u001b[49m\u001b[43m]\u001b[49m\u001b[43m)\u001b[49m\n\u001b[0;32m      4\u001b[0m \u001b[38;5;28mprint\u001b[39m(\u001b[38;5;124m\"\u001b[39m\u001b[38;5;124mResults exported to \u001b[39m\u001b[38;5;124m'\u001b[39m\u001b[38;5;124mresults.csv\u001b[39m\u001b[38;5;124m'\u001b[39m\u001b[38;5;124m.\u001b[39m\u001b[38;5;124m\"\u001b[39m)\n",
      "Cell \u001b[1;32mIn[57], line 11\u001b[0m, in \u001b[0;36mexport_results\u001b[1;34m(sentiment_results, summaries)\u001b[0m\n\u001b[0;32m      6\u001b[0m writer \u001b[38;5;241m=\u001b[39m csv\u001b[38;5;241m.\u001b[39mwriter(file)\n\u001b[0;32m      7\u001b[0m writer\u001b[38;5;241m.\u001b[39mwriterow([\u001b[38;5;124m'\u001b[39m\u001b[38;5;124mArticle\u001b[39m\u001b[38;5;124m'\u001b[39m, \u001b[38;5;124m'\u001b[39m\u001b[38;5;124mSentiment\u001b[39m\u001b[38;5;124m'\u001b[39m, \u001b[38;5;124m'\u001b[39m\u001b[38;5;124mSentiment Scores\u001b[39m\u001b[38;5;124m'\u001b[39m, \u001b[38;5;124m'\u001b[39m\u001b[38;5;124mSummary\u001b[39m\u001b[38;5;124m'\u001b[39m])\n\u001b[0;32m      8\u001b[0m \u001b[38;5;28;01mfor\u001b[39;00m article, sentiment, scores, summary \u001b[38;5;129;01min\u001b[39;00m \u001b[38;5;28mzip\u001b[39m([new_article, article_to_summarize], \n\u001b[0;32m      9\u001b[0m                                                 [sentiment_result, \u001b[38;5;124m'\u001b[39m\u001b[38;5;124mN/A\u001b[39m\u001b[38;5;124m'\u001b[39m], \n\u001b[0;32m     10\u001b[0m                                                 [sentiment_score, \u001b[38;5;124m'\u001b[39m\u001b[38;5;124mN/A\u001b[39m\u001b[38;5;124m'\u001b[39m], \n\u001b[1;32m---> 11\u001b[0m                                                 [\u001b[43msummary\u001b[49m, \u001b[38;5;124m'\u001b[39m\u001b[38;5;124mN/A\u001b[39m\u001b[38;5;124m'\u001b[39m]):\n\u001b[0;32m     12\u001b[0m     writer\u001b[38;5;241m.\u001b[39mwriterow([article, sentiment, scores\u001b[38;5;241m.\u001b[39mtolist() \u001b[38;5;28;01mif\u001b[39;00m \u001b[38;5;28misinstance\u001b[39m(scores, np\u001b[38;5;241m.\u001b[39mndarray) \u001b[38;5;28;01melse\u001b[39;00m scores, summary])\n",
      "\u001b[1;31mUnboundLocalError\u001b[0m: cannot access local variable 'summary' where it is not associated with a value"
     ]
    }
   ],
   "source": [
    "# Call the export function\n",
    "export_results(sentiment_results=[(new_article, sentiment_result, sentiment_score)], \n",
    "               summaries=[summary])\n",
    "print(\"Results exported to 'results.csv'.\")"
   ]
  }
 ],
 "metadata": {
  "kernelspec": {
   "display_name": "Python 3",
   "language": "python",
   "name": "python3"
  },
  "language_info": {
   "codemirror_mode": {
    "name": "ipython",
    "version": 3
   },
   "file_extension": ".py",
   "mimetype": "text/x-python",
   "name": "python",
   "nbconvert_exporter": "python",
   "pygments_lexer": "ipython3",
   "version": "3.11.5"
  }
 },
 "nbformat": 4,
 "nbformat_minor": 2
}
