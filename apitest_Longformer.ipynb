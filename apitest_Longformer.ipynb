{
 "cells": [
  {
   "cell_type": "code",
   "execution_count": 77,
   "metadata": {},
   "outputs": [
    {
     "name": "stdout",
     "output_type": "stream",
     "text": [
      "Requirement already satisfied: requests in c:\\users\\vian martinez\\appdata\\local\\programs\\python\\python312\\lib\\site-packages (2.32.3)\n",
      "Requirement already satisfied: charset-normalizer<4,>=2 in c:\\users\\vian martinez\\appdata\\local\\programs\\python\\python312\\lib\\site-packages (from requests) (3.4.0)\n",
      "Requirement already satisfied: idna<4,>=2.5 in c:\\users\\vian martinez\\appdata\\local\\programs\\python\\python312\\lib\\site-packages (from requests) (3.10)\n",
      "Requirement already satisfied: urllib3<3,>=1.21.1 in c:\\users\\vian martinez\\appdata\\local\\programs\\python\\python312\\lib\\site-packages (from requests) (2.2.3)\n",
      "Requirement already satisfied: certifi>=2017.4.17 in c:\\users\\vian martinez\\appdata\\local\\programs\\python\\python312\\lib\\site-packages (from requests) (2024.8.30)\n",
      "Note: you may need to restart the kernel to use updated packages.\n"
     ]
    },
    {
     "name": "stderr",
     "output_type": "stream",
     "text": [
      "\n",
      "[notice] A new release of pip is available: 24.2 -> 24.3.1\n",
      "[notice] To update, run: python.exe -m pip install --upgrade pip\n"
     ]
    }
   ],
   "source": [
    "pip install requests"
   ]
  },
  {
   "cell_type": "code",
   "execution_count": 78,
   "metadata": {},
   "outputs": [
    {
     "name": "stdout",
     "output_type": "stream",
     "text": [
      "Note: you may need to restart the kernel to use updated packages.Requirement already satisfied: torch in c:\\users\\vian martinez\\appdata\\local\\programs\\python\\python312\\lib\\site-packages (2.5.1)\n",
      "Requirement already satisfied: filelock in c:\\users\\vian martinez\\appdata\\local\\programs\\python\\python312\\lib\\site-packages (from torch) (3.16.1)\n",
      "Requirement already satisfied: typing-extensions>=4.8.0 in c:\\users\\vian martinez\\appdata\\local\\programs\\python\\python312\\lib\\site-packages (from torch) (4.12.2)\n",
      "Requirement already satisfied: networkx in c:\\users\\vian martinez\\appdata\\local\\programs\\python\\python312\\lib\\site-packages (from torch) (3.4.2)\n",
      "Requirement already satisfied: jinja2 in c:\\users\\vian martinez\\appdata\\local\\programs\\python\\python312\\lib\\site-packages (from torch) (3.1.4)\n",
      "Requirement already satisfied: fsspec in c:\\users\\vian martinez\\appdata\\local\\programs\\python\\python312\\lib\\site-packages (from torch) (2024.10.0)\n",
      "Requirement already satisfied: setuptools in c:\\users\\vian martinez\\appdata\\local\\programs\\python\\python312\\lib\\site-packages (from torch) (75.3.0)\n",
      "Requirement already satisfied: sympy==1.13.1 in c:\\users\\vian martinez\\appdata\\local\\programs\\python\\python312\\lib\\site-packages (from torch) (1.13.1)\n",
      "Requirement already satisfied: mpmath<1.4,>=1.1.0 in c:\\users\\vian martinez\\appdata\\local\\programs\\python\\python312\\lib\\site-packages (from sympy==1.13.1->torch) (1.3.0)\n",
      "Requirement already satisfied: MarkupSafe>=2.0 in c:\\users\\vian martinez\\appdata\\local\\programs\\python\\python312\\lib\\site-packages (from jinja2->torch) (3.0.2)\n",
      "\n"
     ]
    },
    {
     "name": "stderr",
     "output_type": "stream",
     "text": [
      "\n",
      "[notice] A new release of pip is available: 24.2 -> 24.3.1\n",
      "[notice] To update, run: python.exe -m pip install --upgrade pip\n"
     ]
    }
   ],
   "source": [
    "pip install torch"
   ]
  },
  {
   "cell_type": "code",
   "execution_count": 79,
   "metadata": {},
   "outputs": [
    {
     "name": "stdout",
     "output_type": "stream",
     "text": [
      "Requirement already satisfied: transformers in c:\\users\\vian martinez\\appdata\\local\\programs\\python\\python312\\lib\\site-packages (4.46.1)\n",
      "Requirement already satisfied: filelock in c:\\users\\vian martinez\\appdata\\local\\programs\\python\\python312\\lib\\site-packages (from transformers) (3.16.1)\n",
      "Requirement already satisfied: huggingface-hub<1.0,>=0.23.2 in c:\\users\\vian martinez\\appdata\\local\\programs\\python\\python312\\lib\\site-packages (from transformers) (0.26.2)\n",
      "Requirement already satisfied: numpy>=1.17 in c:\\users\\vian martinez\\appdata\\local\\programs\\python\\python312\\lib\\site-packages (from transformers) (2.1.2)\n",
      "Requirement already satisfied: packaging>=20.0 in c:\\users\\vian martinez\\appdata\\roaming\\python\\python312\\site-packages (from transformers) (24.0)\n",
      "Requirement already satisfied: pyyaml>=5.1 in c:\\users\\vian martinez\\appdata\\local\\programs\\python\\python312\\lib\\site-packages (from transformers) (6.0.2)\n",
      "Requirement already satisfied: regex!=2019.12.17 in c:\\users\\vian martinez\\appdata\\local\\programs\\python\\python312\\lib\\site-packages (from transformers) (2024.9.11)\n",
      "Requirement already satisfied: requests in c:\\users\\vian martinez\\appdata\\local\\programs\\python\\python312\\lib\\site-packages (from transformers) (2.32.3)\n",
      "Requirement already satisfied: safetensors>=0.4.1 in c:\\users\\vian martinez\\appdata\\local\\programs\\python\\python312\\lib\\site-packages (from transformers) (0.4.5)\n",
      "Requirement already satisfied: tokenizers<0.21,>=0.20 in c:\\users\\vian martinez\\appdata\\local\\programs\\python\\python312\\lib\\site-packages (from transformers) (0.20.1)\n",
      "Requirement already satisfied: tqdm>=4.27 in c:\\users\\vian martinez\\appdata\\local\\programs\\python\\python312\\lib\\site-packages (from transformers) (4.66.6)\n",
      "Requirement already satisfied: fsspec>=2023.5.0 in c:\\users\\vian martinez\\appdata\\local\\programs\\python\\python312\\lib\\site-packages (from huggingface-hub<1.0,>=0.23.2->transformers) (2024.10.0)\n",
      "Requirement already satisfied: typing-extensions>=3.7.4.3 in c:\\users\\vian martinez\\appdata\\local\\programs\\python\\python312\\lib\\site-packages (from huggingface-hub<1.0,>=0.23.2->transformers) (4.12.2)\n",
      "Requirement already satisfied: colorama in c:\\users\\vian martinez\\appdata\\roaming\\python\\python312\\site-packages (from tqdm>=4.27->transformers) (0.4.6)\n",
      "Requirement already satisfied: charset-normalizer<4,>=2 in c:\\users\\vian martinez\\appdata\\local\\programs\\python\\python312\\lib\\site-packages (from requests->transformers) (3.4.0)\n",
      "Requirement already satisfied: idna<4,>=2.5 in c:\\users\\vian martinez\\appdata\\local\\programs\\python\\python312\\lib\\site-packages (from requests->transformers) (3.10)\n",
      "Requirement already satisfied: urllib3<3,>=1.21.1 in c:\\users\\vian martinez\\appdata\\local\\programs\\python\\python312\\lib\\site-packages (from requests->transformers) (2.2.3)\n",
      "Requirement already satisfied: certifi>=2017.4.17 in c:\\users\\vian martinez\\appdata\\local\\programs\\python\\python312\\lib\\site-packages (from requests->transformers) (2024.8.30)\n",
      "Note: you may need to restart the kernel to use updated packages.\n"
     ]
    },
    {
     "name": "stderr",
     "output_type": "stream",
     "text": [
      "\n",
      "[notice] A new release of pip is available: 24.2 -> 24.3.1\n",
      "[notice] To update, run: python.exe -m pip install --upgrade pip\n"
     ]
    }
   ],
   "source": [
    "pip install transformers"
   ]
  },
  {
   "cell_type": "code",
   "execution_count": 80,
   "metadata": {},
   "outputs": [],
   "source": [
    "import requests\n",
    "import json\n",
    "import torch\n",
    "from transformers import XLNetTokenizer, XLNetForSequenceClassification"
   ]
  },
  {
   "cell_type": "code",
   "execution_count": 81,
   "metadata": {},
   "outputs": [],
   "source": [
    "# API URLs\n",
    "GET_ONM_DATA_API_URL = \"http://174.138.31.241:6178/online-media/compute/getArticle\"\n",
    "MANAGE_ONM_SENTIMENT_URL = \"http://174.138.31.241:6178/online-media/compute/manageSentimentOnArticle\"\n"
   ]
  },
  {
   "cell_type": "code",
   "execution_count": 82,
   "metadata": {},
   "outputs": [],
   "source": [
    "# Load the trained sentiment analysis model and tokenizer\n",
    "MODEL_DIR = \"C:/Users/Vian Martinez/Downloads/xlnet_sentiment_model_v2-20241218T110833Z-001/xlnet_sentiment_model_v2\"\n",
    "TOKENIZER_DIR = \"C:/Users/Vian Martinez/Downloads/xlnet_sentiment_tokenizer_v2-20241218T110834Z-001/xlnet_sentiment_tokenizer_v2\"\n",
    "device = torch.device(\"cuda\" if torch.cuda.is_available() else \"cpu\")"
   ]
  },
  {
   "cell_type": "code",
   "execution_count": 83,
   "metadata": {},
   "outputs": [],
   "source": [
    "# Load the saved model and tokenizer\n",
    "model = XLNetForSequenceClassification.from_pretrained(MODEL_DIR).to(device)\n",
    "tokenizer = XLNetTokenizer.from_pretrained(TOKENIZER_DIR)"
   ]
  },
  {
   "cell_type": "code",
   "execution_count": 84,
   "metadata": {},
   "outputs": [],
   "source": [
    "# Map label indices to sentiments\n",
    "label_map = {0: \"negative\", 1: \"neutral\", 2: \"positive\"}"
   ]
  },
  {
   "cell_type": "code",
   "execution_count": 85,
   "metadata": {},
   "outputs": [],
   "source": [
    "def get_user_input():\n",
    "    print(\"Enter the following details to fetch articles from the API:\")\n",
    "    project_id = input(\"Project ID: \")\n",
    "    clipping_id = input(\"Clipping ID: \")\n",
    "    end_date = input(\"End Date (YYYY-MM-DD HH:MM:SS): \")\n",
    "    start_date = input(\"Start Date (YYYY-MM-DD HH:MM:SS): \")\n",
    "    page = input(\"Page (default 1): \") or \"1\"\n",
    "    limit = input(\"Limit (default 10): \") or \"10\"\n",
    "    validation_list = input(\"Validation List (e.g., unvalidated): \")\n",
    "\n",
    "    # Construct the request body\n",
    "    body = {\n",
    "        \"projectId\": project_id,\n",
    "        \"clippingId\": clipping_id,\n",
    "        \"endDate\": end_date,\n",
    "        \"startDate\": start_date,\n",
    "        \"page\": int(page),\n",
    "        \"limit\": int(limit),\n",
    "        \"validationList\": [validation_list]\n",
    "    }\n",
    "\n",
    "    return body\n"
   ]
  },
  {
   "cell_type": "code",
   "execution_count": 86,
   "metadata": {},
   "outputs": [],
   "source": [
    "def analyze_sentiment(text):\n",
    "    inputs = tokenizer(text, return_tensors=\"pt\", truncation=True, padding=True, max_length=512)\n",
    "    inputs = {key: val.to(device) for key, val in inputs.items()}\n",
    "    with torch.no_grad():\n",
    "        outputs = model(**inputs)\n",
    "    logits = outputs.logits\n",
    "    predicted_label = torch.argmax(logits, dim=1).item()\n",
    "    return label_map[predicted_label]"
   ]
  },
  {
   "cell_type": "code",
   "execution_count": 87,
   "metadata": {},
   "outputs": [],
   "source": [
    "def update_sentiment(api_url, project_id, clipping_id, original_id, start_date, end_date, page, limit, sentiment):\n",
    "    payload = {\n",
    "        \"projectId\": project_id,\n",
    "        \"clippingId\": clipping_id,\n",
    "        \"originalId\": original_id,  \n",
    "        \"startDate\": start_date,\n",
    "        \"endDate\": end_date,\n",
    "        \"page\": page,\n",
    "        \"limit\": limit,\n",
    "        \"validationList\": [\"unvalidated\"],\n",
    "        \"sentiment\": sentiment\n",
    "    }\n",
    "    headers = {\"Content-Type\": \"application/json\"}\n",
    "    try:\n",
    "        response = requests.post(api_url, json=payload, headers=headers)\n",
    "        if response.status_code == 200:\n",
    "            print(f\"Sentiment updated successfully for Original ID {original_id}.\")\n",
    "        else:\n",
    "            print(f\"Failed to update sentiment for Original ID {original_id}. Status Code: {response.status_code}\")\n",
    "            print(f\"Error: {response.text}\")\n",
    "    except Exception as e:\n",
    "        print(f\"An error occurred while updating sentiment for Original ID {original_id}: {e}\")\n"
   ]
  },
  {
   "cell_type": "code",
   "execution_count": 88,
   "metadata": {},
   "outputs": [],
   "source": [
    "def fetch_articles(api_url, body):\n",
    "    headers = {\"Content-Type\": \"application/json\"}\n",
    "    print(\"\\nSending request to the API...\")\n",
    "    print(\"Request Body:\", json.dumps(body, indent=4))  # Debugging request body\n",
    "    try:\n",
    "        response = requests.post(api_url, json=body, headers=headers)\n",
    "        if response.status_code == 200:\n",
    "            articles = response.json()\n",
    "            print(\"\\nArticles fetched successfully!\")\n",
    "            \n",
    "            for article in articles:\n",
    "                print(\"\\nAnalyzing sentiment for article:\")\n",
    "                print(f\"Title: {article.get('title', 'No Title Available')}\")\n",
    "                print(f\"Original Sentiment: {article.get('sentiment', 'neutral')}\")\n",
    "\n",
    "                # Analyze sentiment of the content\n",
    "                new_sentiment = analyze_sentiment(article.get('content', ''))\n",
    "                article['sentiment'] = new_sentiment\n",
    "\n",
    "                print(f\"Updated Sentiment: {new_sentiment}\")\n",
    "\n",
    "                # Fetch the `originalId` for updating sentiment\n",
    "                original_id = article.get('original_id')\n",
    "                if not original_id:\n",
    "                    print(\"\\nError: 'originalId' not found in the article data. Skipping...\")\n",
    "                    continue\n",
    "\n",
    "                # Update sentiment using the manageSentimentOnArticle API\n",
    "                update_sentiment(\n",
    "                    MANAGE_ONM_SENTIMENT_URL,\n",
    "                    body[\"projectId\"],\n",
    "                    body[\"clippingId\"],\n",
    "                    original_id,  \n",
    "                    body[\"startDate\"],\n",
    "                    body[\"endDate\"],\n",
    "                    body[\"page\"],\n",
    "                    body[\"limit\"],\n",
    "                    new_sentiment\n",
    "                )\n",
    "            \n",
    "            print(\"\\nAll articles processed successfully.\")\n",
    "        else:\n",
    "            print(f\"\\nFailed to fetch articles. Status Code: {response.status_code}\")\n",
    "            print(f\"Error: {response.text}\")\n",
    "    except Exception as e:\n",
    "        print(f\"\\nAn error occurred: {e}\")\n"
   ]
  },
  {
   "cell_type": "code",
   "execution_count": 89,
   "metadata": {},
   "outputs": [
    {
     "name": "stdout",
     "output_type": "stream",
     "text": [
      "Enter the following details to fetch articles from the API:\n",
      "\n",
      "Sending request to the API...\n",
      "Request Body: {\n",
      "    \"projectId\": \"c960b616-7847-472f-9e16-e47941536fd7\",\n",
      "    \"clippingId\": \"ffdc1ddf-c1d7-48d0-9875-d8f02bf0b291\",\n",
      "    \"endDate\": \"2024-12-15 23:59:59\",\n",
      "    \"startDate\": \"2024-12-15 00:00:00\",\n",
      "    \"page\": 1,\n",
      "    \"limit\": 10,\n",
      "    \"validationList\": [\n",
      "        \"unvalidated\"\n",
      "    ]\n",
      "}\n",
      "\n",
      "Articles fetched successfully!\n",
      "\n",
      "Analyzing sentiment for article:\n",
      "Title: ASDP Ambon Operasikan Lima Kapal di Libur Nataru\n",
      "Original Sentiment: neutral\n",
      "Updated Sentiment: neutral\n",
      "Sentiment updated successfully for Original ID d9139cad5d64712056d135fd3bd2f7cfe44495ebbce0b106e46993cf3826c52c.\n",
      "\n",
      "Analyzing sentiment for article:\n",
      "Title: Pemprov Kepri Gelar Ujian PPPK di Batam, Penumpang Kapal RoRo Meningkat\n",
      "Original Sentiment: neutral\n",
      "Updated Sentiment: neutral\n",
      "Sentiment updated successfully for Original ID c37d68d3bc2b4a925f2008f2c9930d581df0f61b3090d04fba2a1c8342f2f00f.\n",
      "\n",
      "Analyzing sentiment for article:\n",
      "Title: Jelang Nataru, Pelabuhan Merak-Bakauheni Siap Hadapi Lonjakan Penumpang!\n",
      "Original Sentiment: neutral\n",
      "Updated Sentiment: neutral\n",
      "Sentiment updated successfully for Original ID bcdc8a5392ea703b90432a4817fbed5fa6bd45de1752cfaef3aeb9bc45327875.\n",
      "\n",
      "Analyzing sentiment for article:\n",
      "Title: Begini Kesiapan Pelabuhan Ketapang dan Gilimanuk jelang Libur Nataru\n",
      "Original Sentiment: neutral\n",
      "Updated Sentiment: neutral\n",
      "Sentiment updated successfully for Original ID 6bab68ba1cf47d40ac54306b8157dac497310830a96b5bd4420bf09e26be4a99.\n",
      "\n",
      "Analyzing sentiment for article:\n",
      "Title: Jadwal Kapal Ferry ASDP Kupang NTT Senin 16 Desember 2024 KMP Inerie II Kupang-Aimere-Waingapu PP\n",
      "Original Sentiment: neutral\n",
      "Updated Sentiment: neutral\n",
      "Sentiment updated successfully for Original ID a5b4b98872d1e16cc92b44bbaf389379645d2a30d49668a81119143d857dd7ca.\n",
      "\n",
      "Analyzing sentiment for article:\n",
      "Title: Ketapang–Gilimanuk Tambah Kapal Menghadapi Mobilitas Nataru, Merak–Bakauheni Waspadai Kepadatan\n",
      "Original Sentiment: neutral\n",
      "Updated Sentiment: negative\n",
      "Sentiment updated successfully for Original ID 261edd86e4d11fc3f4f08431f9c607b202154ec58c069606524ccfae709ebfa0.\n",
      "\n",
      "Analyzing sentiment for article:\n",
      "Title: Korlantas Polri Gelar Tactical Floor Game Pastikan Kesiapan Operasi Lilin 2024\n",
      "Original Sentiment: neutral\n",
      "Updated Sentiment: neutral\n",
      "Sentiment updated successfully for Original ID 892742a609d0baec0e0b54b93da791f06c25726ee2beae2fedf900919b17a644.\n",
      "\n",
      "Analyzing sentiment for article:\n",
      "Title: ASDP Akan Terapkan Skema TBB Kapal Untuk Antisipasi Lonjakan Penumpang Nataru 2024/2025\n",
      "Original Sentiment: neutral\n",
      "Updated Sentiment: neutral\n",
      "Sentiment updated successfully for Original ID eff2ce9a161e2fd71659cbd5e9ef178b2024ba14355f01e606c61bf7fe7f8a2d.\n",
      "\n",
      "Analyzing sentiment for article:\n",
      "Title: ASDP Akan Terapkan Skema TBB Kapal Untuk Antisipasi Lonjakan Penumpang Nataru 2024/2025\n",
      "Original Sentiment: neutral\n",
      "Updated Sentiment: neutral\n",
      "Sentiment updated successfully for Original ID b955d8d20f8282d08bf48dd6b40a124ce1e7825b154d7fbf801cdb36b90c8a79.\n",
      "\n",
      "Analyzing sentiment for article:\n",
      "Title: ASDP Akan Terapkan Skema TBB Kapal Untuk Antisipasi Lonjakan Penumpang Nataru 2024/2025\n",
      "Original Sentiment: neutral\n",
      "Updated Sentiment: neutral\n",
      "Sentiment updated successfully for Original ID 226fdd23debd0ac5e407aa72363c23bd209eafb18263d7147b5a3ee06ba20cc0.\n",
      "\n",
      "All articles processed successfully.\n"
     ]
    }
   ],
   "source": [
    "if __name__ == \"__main__\":\n",
    "    request_body = get_user_input()\n",
    "    fetch_articles(GET_ONM_DATA_API_URL, request_body)"
   ]
  }
 ],
 "metadata": {
  "kernelspec": {
   "display_name": "Python 3",
   "language": "python",
   "name": "python3"
  },
  "language_info": {
   "codemirror_mode": {
    "name": "ipython",
    "version": 3
   },
   "file_extension": ".py",
   "mimetype": "text/x-python",
   "name": "python",
   "nbconvert_exporter": "python",
   "pygments_lexer": "ipython3",
   "version": "3.12.6"
  }
 },
 "nbformat": 4,
 "nbformat_minor": 2
}
