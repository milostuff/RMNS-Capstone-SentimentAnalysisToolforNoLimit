{
 "cells": [
  {
   "cell_type": "code",
   "execution_count": 10,
   "metadata": {},
   "outputs": [],
   "source": [
    "import pandas as pd\n",
    "from sklearn.model_selection import train_test_split\n",
    "from transformers import LongformerTokenizer, LongformerForSequenceClassification, Trainer, TrainingArguments, EarlyStoppingCallback\n",
    "import torch\n",
    "import numpy as np\n",
    "from sklearn.metrics import accuracy_score, f1_score, precision_score, recall_score\n",
    "from sklearn.utils.class_weight import compute_class_weight"
   ]
  },
  {
   "cell_type": "code",
   "execution_count": 11,
   "metadata": {},
   "outputs": [],
   "source": [
    "# Load the dataset\n",
    "df = pd.read_csv(\"combined_output.csv\", on_bad_lines='skip')"
   ]
  },
  {
   "cell_type": "code",
   "execution_count": 12,
   "metadata": {},
   "outputs": [
    {
     "data": {
      "text/html": [
       "<div>\n",
       "<style scoped>\n",
       "    .dataframe tbody tr th:only-of-type {\n",
       "        vertical-align: middle;\n",
       "    }\n",
       "\n",
       "    .dataframe tbody tr th {\n",
       "        vertical-align: top;\n",
       "    }\n",
       "\n",
       "    .dataframe thead th {\n",
       "        text-align: right;\n",
       "    }\n",
       "</style>\n",
       "<table border=\"1\" class=\"dataframe\">\n",
       "  <thead>\n",
       "    <tr style=\"text-align: right;\">\n",
       "      <th></th>\n",
       "      <th>original_id</th>\n",
       "      <th>source_name</th>\n",
       "      <th>title</th>\n",
       "      <th>url</th>\n",
       "      <th>body</th>\n",
       "      <th>date_published</th>\n",
       "      <th>language</th>\n",
       "      <th>date_modified</th>\n",
       "      <th>author_list</th>\n",
       "      <th>images</th>\n",
       "      <th>description</th>\n",
       "      <th>sentiment</th>\n",
       "      <th>emotions</th>\n",
       "      <th>entities</th>\n",
       "      <th>quotations</th>\n",
       "      <th>prValues</th>\n",
       "      <th>clipping</th>\n",
       "      <th>label</th>\n",
       "      <th>category</th>\n",
       "    </tr>\n",
       "  </thead>\n",
       "  <tbody>\n",
       "    <tr>\n",
       "      <th>0</th>\n",
       "      <td>'5404c9d2fd24852afa122f2cc01cb3acba3c5d05b682d...</td>\n",
       "      <td>'kabargayo.com</td>\n",
       "      <td>'Kredit sepeda motor bisa terbayar jika Anda m...</td>\n",
       "      <td>'https://www.kabargayo.com/2024/09/19/kredit-s...</td>\n",
       "      <td>'Jakarta, VIVA – Pembayaran kredit sepeda moto...</td>\n",
       "      <td>19/09/2024 22.32</td>\n",
       "      <td>'id</td>\n",
       "      <td>19/09/2024 22.32</td>\n",
       "      <td>'Aldi Hadad</td>\n",
       "      <td>'https://i1.wp.com/thumb.viva.co.id/media/fron...</td>\n",
       "      <td>NaN</td>\n",
       "      <td>'positive</td>\n",
       "      <td>NaN</td>\n",
       "      <td>'Hari Pembayaran Berbayar atau Harcilnas 2024,...</td>\n",
       "      <td>NaN</td>\n",
       "      <td>5250000</td>\n",
       "      <td>Adira</td>\n",
       "      <td>NaN</td>\n",
       "      <td>NaN</td>\n",
       "    </tr>\n",
       "    <tr>\n",
       "      <th>1</th>\n",
       "      <td>'e1e3f8d68b58568e8217b7562d48de634fceb0d837135...</td>\n",
       "      <td>'viva.co.id</td>\n",
       "      <td>'Kredit Motor Bisa Lunas Jika Bayar Cicilan Te...</td>\n",
       "      <td>'https://www.viva.co.id/otomotif/tips/1753596-...</td>\n",
       "      <td>'Jakarta, VIVA – Cicilan kredit motor yang ser...</td>\n",
       "      <td>19/09/2024 22.30</td>\n",
       "      <td>'id</td>\n",
       "      <td>19/09/2024 22.30</td>\n",
       "      <td>'Krisna Wicaksono</td>\n",
       "      <td>'https://thumb.viva.co.id/media/frontend/thumb...</td>\n",
       "      <td>NaN</td>\n",
       "      <td>'positive</td>\n",
       "      <td>NaN</td>\n",
       "      <td>'Harinya Cicilan Lunas,2024,PT Adira Dinamika ...</td>\n",
       "      <td>NaN</td>\n",
       "      <td>5250000</td>\n",
       "      <td>Adira</td>\n",
       "      <td>NaN</td>\n",
       "      <td>NaN</td>\n",
       "    </tr>\n",
       "    <tr>\n",
       "      <th>2</th>\n",
       "      <td>'dca74b8fa4eabf60cebfa7b811ecb385872a0fd301eaf...</td>\n",
       "      <td>'kabarmegapolitan.pikiran-rakyat.com</td>\n",
       "      <td>'Adira Finance Umumkan Pemenang HARCILNAS 2024...</td>\n",
       "      <td>'https://kabarmegapolitan.pikiran-rakyat.com/b...</td>\n",
       "      <td>'KABARMEGAPOLITAN.com - PT Adira Dinamika Mult...</td>\n",
       "      <td>19/09/2024 21.45</td>\n",
       "      <td>'id</td>\n",
       "      <td>19/09/2024 21.45</td>\n",
       "      <td>'Yuliansyah</td>\n",
       "      <td>'https://assets.pikiran-rakyat.com/www/network...</td>\n",
       "      <td>NaN</td>\n",
       "      <td>'positive</td>\n",
       "      <td>'HARCILNAS merupakan wujud apresiasi kami kepa...</td>\n",
       "      <td>'PT Adira Dinamika,Cicilan Lunas HARCILNAS,12 ...</td>\n",
       "      <td>(Person :Tania Endah Budhi ,Quote : HARCILNAS ...</td>\n",
       "      <td>5250000</td>\n",
       "      <td>Adira</td>\n",
       "      <td>NaN</td>\n",
       "      <td>NaN</td>\n",
       "    </tr>\n",
       "    <tr>\n",
       "      <th>3</th>\n",
       "      <td>'56c73e2a6d254a17a5cc21dee7ed0b4660c3af70c093b...</td>\n",
       "      <td>'banggairaya.id</td>\n",
       "      <td>'Dapatkan Promo Menarik, Yamaha Prima Motor Ra...</td>\n",
       "      <td>'https://banggairaya.id/dapatkan-promo-menarik...</td>\n",
       "      <td>'BANGGAI RAYA- Yamaha Prima Motor ramaikan pam...</td>\n",
       "      <td>19/09/2024 19.45</td>\n",
       "      <td>'id</td>\n",
       "      <td>19/09/2024 19.45</td>\n",
       "      <td>'Chikal Connect</td>\n",
       "      <td>'https://i0.wp.com/banggairaya.id/wp-content/u...</td>\n",
       "      <td>NaN</td>\n",
       "      <td>'neutral</td>\n",
       "      <td>NaN</td>\n",
       "      <td>'RAYA- Yamaha Prima Motor,Banggai Goverment Ex...</td>\n",
       "      <td>NaN</td>\n",
       "      <td>5250000</td>\n",
       "      <td>Adira</td>\n",
       "      <td>NaN</td>\n",
       "      <td>NaN</td>\n",
       "    </tr>\n",
       "    <tr>\n",
       "      <th>4</th>\n",
       "      <td>'1cd6c6db60224b6ee5f49cd5d6c62cd2850d9f3255721...</td>\n",
       "      <td>'jakarta.tribunnews.com</td>\n",
       "      <td>'Sindikat Penipuan Leasing, Satu Bulan Ajukan ...</td>\n",
       "      <td>'https://jakarta.tribunnews.com/2024/09/19/sin...</td>\n",
       "      <td>'Laporan wartawan TribunJakarta.com Yusuf Bach...</td>\n",
       "      <td>19/09/2024 18.43</td>\n",
       "      <td>'id</td>\n",
       "      <td>19/09/2024 18.43</td>\n",
       "      <td>'Yusuf Bachtiar</td>\n",
       "      <td>'https://asset-2.tstatic.net/jakarta/foto/bank...</td>\n",
       "      <td>NaN</td>\n",
       "      <td>'neutral</td>\n",
       "      <td>'Pelaku ini melakukan pembiayaan pembelian ken...</td>\n",
       "      <td>'Yusuf Bachtiar TRIBUNJAKARTACOM,MEDAN,SATRIA,...</td>\n",
       "      <td>(Person :Dedi ,Quote : Pelaku ini melakukan pe...</td>\n",
       "      <td>5250000</td>\n",
       "      <td>Adira</td>\n",
       "      <td>NaN</td>\n",
       "      <td>NaN</td>\n",
       "    </tr>\n",
       "  </tbody>\n",
       "</table>\n",
       "</div>"
      ],
      "text/plain": [
       "                                         original_id  \\\n",
       "0  '5404c9d2fd24852afa122f2cc01cb3acba3c5d05b682d...   \n",
       "1  'e1e3f8d68b58568e8217b7562d48de634fceb0d837135...   \n",
       "2  'dca74b8fa4eabf60cebfa7b811ecb385872a0fd301eaf...   \n",
       "3  '56c73e2a6d254a17a5cc21dee7ed0b4660c3af70c093b...   \n",
       "4  '1cd6c6db60224b6ee5f49cd5d6c62cd2850d9f3255721...   \n",
       "\n",
       "                            source_name  \\\n",
       "0                        'kabargayo.com   \n",
       "1                           'viva.co.id   \n",
       "2  'kabarmegapolitan.pikiran-rakyat.com   \n",
       "3                       'banggairaya.id   \n",
       "4               'jakarta.tribunnews.com   \n",
       "\n",
       "                                               title  \\\n",
       "0  'Kredit sepeda motor bisa terbayar jika Anda m...   \n",
       "1  'Kredit Motor Bisa Lunas Jika Bayar Cicilan Te...   \n",
       "2  'Adira Finance Umumkan Pemenang HARCILNAS 2024...   \n",
       "3  'Dapatkan Promo Menarik, Yamaha Prima Motor Ra...   \n",
       "4  'Sindikat Penipuan Leasing, Satu Bulan Ajukan ...   \n",
       "\n",
       "                                                 url  \\\n",
       "0  'https://www.kabargayo.com/2024/09/19/kredit-s...   \n",
       "1  'https://www.viva.co.id/otomotif/tips/1753596-...   \n",
       "2  'https://kabarmegapolitan.pikiran-rakyat.com/b...   \n",
       "3  'https://banggairaya.id/dapatkan-promo-menarik...   \n",
       "4  'https://jakarta.tribunnews.com/2024/09/19/sin...   \n",
       "\n",
       "                                                body    date_published  \\\n",
       "0  'Jakarta, VIVA – Pembayaran kredit sepeda moto...  19/09/2024 22.32   \n",
       "1  'Jakarta, VIVA – Cicilan kredit motor yang ser...  19/09/2024 22.30   \n",
       "2  'KABARMEGAPOLITAN.com - PT Adira Dinamika Mult...  19/09/2024 21.45   \n",
       "3  'BANGGAI RAYA- Yamaha Prima Motor ramaikan pam...  19/09/2024 19.45   \n",
       "4  'Laporan wartawan TribunJakarta.com Yusuf Bach...  19/09/2024 18.43   \n",
       "\n",
       "  language     date_modified        author_list  \\\n",
       "0      'id  19/09/2024 22.32        'Aldi Hadad   \n",
       "1      'id  19/09/2024 22.30  'Krisna Wicaksono   \n",
       "2      'id  19/09/2024 21.45        'Yuliansyah   \n",
       "3      'id  19/09/2024 19.45    'Chikal Connect   \n",
       "4      'id  19/09/2024 18.43    'Yusuf Bachtiar   \n",
       "\n",
       "                                              images description  sentiment  \\\n",
       "0  'https://i1.wp.com/thumb.viva.co.id/media/fron...         NaN  'positive   \n",
       "1  'https://thumb.viva.co.id/media/frontend/thumb...         NaN  'positive   \n",
       "2  'https://assets.pikiran-rakyat.com/www/network...         NaN  'positive   \n",
       "3  'https://i0.wp.com/banggairaya.id/wp-content/u...         NaN   'neutral   \n",
       "4  'https://asset-2.tstatic.net/jakarta/foto/bank...         NaN   'neutral   \n",
       "\n",
       "                                            emotions  \\\n",
       "0                                                NaN   \n",
       "1                                                NaN   \n",
       "2  'HARCILNAS merupakan wujud apresiasi kami kepa...   \n",
       "3                                                NaN   \n",
       "4  'Pelaku ini melakukan pembiayaan pembelian ken...   \n",
       "\n",
       "                                            entities  \\\n",
       "0  'Hari Pembayaran Berbayar atau Harcilnas 2024,...   \n",
       "1  'Harinya Cicilan Lunas,2024,PT Adira Dinamika ...   \n",
       "2  'PT Adira Dinamika,Cicilan Lunas HARCILNAS,12 ...   \n",
       "3  'RAYA- Yamaha Prima Motor,Banggai Goverment Ex...   \n",
       "4  'Yusuf Bachtiar TRIBUNJAKARTACOM,MEDAN,SATRIA,...   \n",
       "\n",
       "                                          quotations  prValues clipping label  \\\n",
       "0                                                NaN   5250000    Adira   NaN   \n",
       "1                                                NaN   5250000    Adira   NaN   \n",
       "2  (Person :Tania Endah Budhi ,Quote : HARCILNAS ...   5250000    Adira   NaN   \n",
       "3                                                NaN   5250000    Adira   NaN   \n",
       "4  (Person :Dedi ,Quote : Pelaku ini melakukan pe...   5250000    Adira   NaN   \n",
       "\n",
       "   category  \n",
       "0       NaN  \n",
       "1       NaN  \n",
       "2       NaN  \n",
       "3       NaN  \n",
       "4       NaN  "
      ]
     },
     "execution_count": 12,
     "metadata": {},
     "output_type": "execute_result"
    }
   ],
   "source": [
    "df.head()"
   ]
  },
  {
   "cell_type": "code",
   "execution_count": 13,
   "metadata": {},
   "outputs": [],
   "source": [
    "# Clean extra characters from all columns in the DataFrame\n",
    "for column in df.columns:\n",
    "    if df[column].dtype == 'object':  # Check if the column is of string type\n",
    "        df[column] = df[column].str.strip(\"'\")  # Remove extra characters\n",
    "\n",
    "# Filter relevant columns\n",
    "df_filtered = df[['body', 'sentiment']].dropna()\n"
   ]
  },
  {
   "cell_type": "code",
   "execution_count": 5,
   "metadata": {},
   "outputs": [
    {
     "data": {
      "text/html": [
       "<div>\n",
       "<style scoped>\n",
       "    .dataframe tbody tr th:only-of-type {\n",
       "        vertical-align: middle;\n",
       "    }\n",
       "\n",
       "    .dataframe tbody tr th {\n",
       "        vertical-align: top;\n",
       "    }\n",
       "\n",
       "    .dataframe thead th {\n",
       "        text-align: right;\n",
       "    }\n",
       "</style>\n",
       "<table border=\"1\" class=\"dataframe\">\n",
       "  <thead>\n",
       "    <tr style=\"text-align: right;\">\n",
       "      <th></th>\n",
       "      <th>original_id</th>\n",
       "      <th>source_name</th>\n",
       "      <th>title</th>\n",
       "      <th>url</th>\n",
       "      <th>body</th>\n",
       "      <th>date_published</th>\n",
       "      <th>language</th>\n",
       "      <th>date_modified</th>\n",
       "      <th>author_list</th>\n",
       "      <th>images</th>\n",
       "      <th>description</th>\n",
       "      <th>sentiment</th>\n",
       "      <th>emotions</th>\n",
       "      <th>entities</th>\n",
       "      <th>quotations</th>\n",
       "      <th>prValues</th>\n",
       "      <th>clipping</th>\n",
       "      <th>label</th>\n",
       "      <th>category</th>\n",
       "    </tr>\n",
       "  </thead>\n",
       "  <tbody>\n",
       "    <tr>\n",
       "      <th>0</th>\n",
       "      <td>5404c9d2fd24852afa122f2cc01cb3acba3c5d05b682d4...</td>\n",
       "      <td>kabargayo.com</td>\n",
       "      <td>Kredit sepeda motor bisa terbayar jika Anda me...</td>\n",
       "      <td>https://www.kabargayo.com/2024/09/19/kredit-se...</td>\n",
       "      <td>Jakarta, VIVA – Pembayaran kredit sepeda motor...</td>\n",
       "      <td>19/09/2024 22.32</td>\n",
       "      <td>id</td>\n",
       "      <td>19/09/2024 22.32</td>\n",
       "      <td>Aldi Hadad</td>\n",
       "      <td>https://i1.wp.com/thumb.viva.co.id/media/front...</td>\n",
       "      <td>NaN</td>\n",
       "      <td>positive</td>\n",
       "      <td>NaN</td>\n",
       "      <td>Hari Pembayaran Berbayar atau Harcilnas 2024,P...</td>\n",
       "      <td>NaN</td>\n",
       "      <td>5250000</td>\n",
       "      <td>Adira</td>\n",
       "      <td>NaN</td>\n",
       "      <td>NaN</td>\n",
       "    </tr>\n",
       "    <tr>\n",
       "      <th>1</th>\n",
       "      <td>e1e3f8d68b58568e8217b7562d48de634fceb0d8371356...</td>\n",
       "      <td>viva.co.id</td>\n",
       "      <td>Kredit Motor Bisa Lunas Jika Bayar Cicilan Tep...</td>\n",
       "      <td>https://www.viva.co.id/otomotif/tips/1753596-k...</td>\n",
       "      <td>Jakarta, VIVA – Cicilan kredit motor yang seri...</td>\n",
       "      <td>19/09/2024 22.30</td>\n",
       "      <td>id</td>\n",
       "      <td>19/09/2024 22.30</td>\n",
       "      <td>Krisna Wicaksono</td>\n",
       "      <td>https://thumb.viva.co.id/media/frontend/thumbs...</td>\n",
       "      <td>NaN</td>\n",
       "      <td>positive</td>\n",
       "      <td>NaN</td>\n",
       "      <td>Harinya Cicilan Lunas,2024,PT Adira Dinamika M...</td>\n",
       "      <td>NaN</td>\n",
       "      <td>5250000</td>\n",
       "      <td>Adira</td>\n",
       "      <td>NaN</td>\n",
       "      <td>NaN</td>\n",
       "    </tr>\n",
       "    <tr>\n",
       "      <th>2</th>\n",
       "      <td>dca74b8fa4eabf60cebfa7b811ecb385872a0fd301eaf5...</td>\n",
       "      <td>kabarmegapolitan.pikiran-rakyat.com</td>\n",
       "      <td>Adira Finance Umumkan Pemenang HARCILNAS 2024:...</td>\n",
       "      <td>https://kabarmegapolitan.pikiran-rakyat.com/bi...</td>\n",
       "      <td>KABARMEGAPOLITAN.com - PT Adira Dinamika Multi...</td>\n",
       "      <td>19/09/2024 21.45</td>\n",
       "      <td>id</td>\n",
       "      <td>19/09/2024 21.45</td>\n",
       "      <td>Yuliansyah</td>\n",
       "      <td>https://assets.pikiran-rakyat.com/www/network/...</td>\n",
       "      <td>NaN</td>\n",
       "      <td>positive</td>\n",
       "      <td>HARCILNAS merupakan wujud apresiasi kami kepad...</td>\n",
       "      <td>PT Adira Dinamika,Cicilan Lunas HARCILNAS,12 p...</td>\n",
       "      <td>(Person :Tania Endah Budhi ,Quote : HARCILNAS ...</td>\n",
       "      <td>5250000</td>\n",
       "      <td>Adira</td>\n",
       "      <td>NaN</td>\n",
       "      <td>NaN</td>\n",
       "    </tr>\n",
       "    <tr>\n",
       "      <th>3</th>\n",
       "      <td>56c73e2a6d254a17a5cc21dee7ed0b4660c3af70c093b2...</td>\n",
       "      <td>banggairaya.id</td>\n",
       "      <td>Dapatkan Promo Menarik, Yamaha Prima Motor Ram...</td>\n",
       "      <td>https://banggairaya.id/dapatkan-promo-menarik-...</td>\n",
       "      <td>BANGGAI RAYA- Yamaha Prima Motor ramaikan pame...</td>\n",
       "      <td>19/09/2024 19.45</td>\n",
       "      <td>id</td>\n",
       "      <td>19/09/2024 19.45</td>\n",
       "      <td>Chikal Connect</td>\n",
       "      <td>https://i0.wp.com/banggairaya.id/wp-content/up...</td>\n",
       "      <td>NaN</td>\n",
       "      <td>neutral</td>\n",
       "      <td>NaN</td>\n",
       "      <td>RAYA- Yamaha Prima Motor,Banggai Goverment Exp...</td>\n",
       "      <td>NaN</td>\n",
       "      <td>5250000</td>\n",
       "      <td>Adira</td>\n",
       "      <td>NaN</td>\n",
       "      <td>NaN</td>\n",
       "    </tr>\n",
       "    <tr>\n",
       "      <th>4</th>\n",
       "      <td>1cd6c6db60224b6ee5f49cd5d6c62cd2850d9f3255721d...</td>\n",
       "      <td>jakarta.tribunnews.com</td>\n",
       "      <td>Sindikat Penipuan Leasing, Satu Bulan Ajukan K...</td>\n",
       "      <td>https://jakarta.tribunnews.com/2024/09/19/sind...</td>\n",
       "      <td>Laporan wartawan TribunJakarta.com Yusuf Bacht...</td>\n",
       "      <td>19/09/2024 18.43</td>\n",
       "      <td>id</td>\n",
       "      <td>19/09/2024 18.43</td>\n",
       "      <td>Yusuf Bachtiar</td>\n",
       "      <td>https://asset-2.tstatic.net/jakarta/foto/bank/...</td>\n",
       "      <td>NaN</td>\n",
       "      <td>neutral</td>\n",
       "      <td>Pelaku ini melakukan pembiayaan pembelian kend...</td>\n",
       "      <td>Yusuf Bachtiar TRIBUNJAKARTACOM,MEDAN,SATRIA,T...</td>\n",
       "      <td>(Person :Dedi ,Quote : Pelaku ini melakukan pe...</td>\n",
       "      <td>5250000</td>\n",
       "      <td>Adira</td>\n",
       "      <td>NaN</td>\n",
       "      <td>NaN</td>\n",
       "    </tr>\n",
       "  </tbody>\n",
       "</table>\n",
       "</div>"
      ],
      "text/plain": [
       "                                         original_id  \\\n",
       "0  5404c9d2fd24852afa122f2cc01cb3acba3c5d05b682d4...   \n",
       "1  e1e3f8d68b58568e8217b7562d48de634fceb0d8371356...   \n",
       "2  dca74b8fa4eabf60cebfa7b811ecb385872a0fd301eaf5...   \n",
       "3  56c73e2a6d254a17a5cc21dee7ed0b4660c3af70c093b2...   \n",
       "4  1cd6c6db60224b6ee5f49cd5d6c62cd2850d9f3255721d...   \n",
       "\n",
       "                           source_name  \\\n",
       "0                        kabargayo.com   \n",
       "1                           viva.co.id   \n",
       "2  kabarmegapolitan.pikiran-rakyat.com   \n",
       "3                       banggairaya.id   \n",
       "4               jakarta.tribunnews.com   \n",
       "\n",
       "                                               title  \\\n",
       "0  Kredit sepeda motor bisa terbayar jika Anda me...   \n",
       "1  Kredit Motor Bisa Lunas Jika Bayar Cicilan Tep...   \n",
       "2  Adira Finance Umumkan Pemenang HARCILNAS 2024:...   \n",
       "3  Dapatkan Promo Menarik, Yamaha Prima Motor Ram...   \n",
       "4  Sindikat Penipuan Leasing, Satu Bulan Ajukan K...   \n",
       "\n",
       "                                                 url  \\\n",
       "0  https://www.kabargayo.com/2024/09/19/kredit-se...   \n",
       "1  https://www.viva.co.id/otomotif/tips/1753596-k...   \n",
       "2  https://kabarmegapolitan.pikiran-rakyat.com/bi...   \n",
       "3  https://banggairaya.id/dapatkan-promo-menarik-...   \n",
       "4  https://jakarta.tribunnews.com/2024/09/19/sind...   \n",
       "\n",
       "                                                body    date_published  \\\n",
       "0  Jakarta, VIVA – Pembayaran kredit sepeda motor...  19/09/2024 22.32   \n",
       "1  Jakarta, VIVA – Cicilan kredit motor yang seri...  19/09/2024 22.30   \n",
       "2  KABARMEGAPOLITAN.com - PT Adira Dinamika Multi...  19/09/2024 21.45   \n",
       "3  BANGGAI RAYA- Yamaha Prima Motor ramaikan pame...  19/09/2024 19.45   \n",
       "4  Laporan wartawan TribunJakarta.com Yusuf Bacht...  19/09/2024 18.43   \n",
       "\n",
       "  language     date_modified       author_list  \\\n",
       "0       id  19/09/2024 22.32        Aldi Hadad   \n",
       "1       id  19/09/2024 22.30  Krisna Wicaksono   \n",
       "2       id  19/09/2024 21.45        Yuliansyah   \n",
       "3       id  19/09/2024 19.45    Chikal Connect   \n",
       "4       id  19/09/2024 18.43    Yusuf Bachtiar   \n",
       "\n",
       "                                              images description sentiment  \\\n",
       "0  https://i1.wp.com/thumb.viva.co.id/media/front...         NaN  positive   \n",
       "1  https://thumb.viva.co.id/media/frontend/thumbs...         NaN  positive   \n",
       "2  https://assets.pikiran-rakyat.com/www/network/...         NaN  positive   \n",
       "3  https://i0.wp.com/banggairaya.id/wp-content/up...         NaN   neutral   \n",
       "4  https://asset-2.tstatic.net/jakarta/foto/bank/...         NaN   neutral   \n",
       "\n",
       "                                            emotions  \\\n",
       "0                                                NaN   \n",
       "1                                                NaN   \n",
       "2  HARCILNAS merupakan wujud apresiasi kami kepad...   \n",
       "3                                                NaN   \n",
       "4  Pelaku ini melakukan pembiayaan pembelian kend...   \n",
       "\n",
       "                                            entities  \\\n",
       "0  Hari Pembayaran Berbayar atau Harcilnas 2024,P...   \n",
       "1  Harinya Cicilan Lunas,2024,PT Adira Dinamika M...   \n",
       "2  PT Adira Dinamika,Cicilan Lunas HARCILNAS,12 p...   \n",
       "3  RAYA- Yamaha Prima Motor,Banggai Goverment Exp...   \n",
       "4  Yusuf Bachtiar TRIBUNJAKARTACOM,MEDAN,SATRIA,T...   \n",
       "\n",
       "                                          quotations  prValues clipping label  \\\n",
       "0                                                NaN   5250000    Adira   NaN   \n",
       "1                                                NaN   5250000    Adira   NaN   \n",
       "2  (Person :Tania Endah Budhi ,Quote : HARCILNAS ...   5250000    Adira   NaN   \n",
       "3                                                NaN   5250000    Adira   NaN   \n",
       "4  (Person :Dedi ,Quote : Pelaku ini melakukan pe...   5250000    Adira   NaN   \n",
       "\n",
       "   category  \n",
       "0       NaN  \n",
       "1       NaN  \n",
       "2       NaN  \n",
       "3       NaN  \n",
       "4       NaN  "
      ]
     },
     "execution_count": 5,
     "metadata": {},
     "output_type": "execute_result"
    }
   ],
   "source": [
    "df.head()"
   ]
  },
  {
   "cell_type": "code",
   "execution_count": 14,
   "metadata": {},
   "outputs": [],
   "source": [
    "# Balance dataset classes\n",
    "class_counts = df_filtered['sentiment'].value_counts()\n",
    "min_class = class_counts.min()\n",
    "df_balanced = df_filtered.groupby('sentiment').apply(lambda x: x.sample(min_class)).reset_index(drop=True)"
   ]
  },
  {
   "cell_type": "code",
   "execution_count": 15,
   "metadata": {},
   "outputs": [],
   "source": [
    "# Split the data into training and validation sets\n",
    "train_texts, val_texts, train_labels, val_labels = train_test_split(\n",
    "    df_balanced['body'].tolist(), df_balanced['sentiment'].tolist(), test_size=0.2, random_state=42\n",
    ")"
   ]
  },
  {
   "cell_type": "code",
   "execution_count": 8,
   "metadata": {},
   "outputs": [],
   "source": [
    "# Load the Longformer tokenizer\n",
    "tokenizer = LongformerTokenizer.from_pretrained(\"allenai/longformer-base-4096\")\n",
    "\n",
    "# Tokenize the training and validation texts\n",
    "# Increase sequence length\n",
    "train_encodings = tokenizer(train_texts, truncation=True, padding=\"max_length\", max_length=1024)\n",
    "val_encodings = tokenizer(val_texts, truncation=True, padding=\"max_length\", max_length=1024)\n"
   ]
  },
  {
   "cell_type": "code",
   "execution_count": 16,
   "metadata": {},
   "outputs": [],
   "source": [
    "# Map sentiment labels to integers\n",
    "label_mapping = {'positive': 2, 'neutral': 1, 'negative': 0}\n",
    "train_labels = [label_mapping[label] for label in train_labels]\n",
    "val_labels = [label_mapping[label] for label in val_labels]"
   ]
  },
  {
   "cell_type": "code",
   "execution_count": 10,
   "metadata": {},
   "outputs": [],
   "source": [
    "class SentimentDataset(torch.utils.data.Dataset):\n",
    "    def __init__(self, encodings, labels):\n",
    "        self.encodings = encodings\n",
    "        self.labels = labels\n",
    "\n",
    "    def __getitem__(self, idx):\n",
    "        item = {key: torch.tensor(val[idx]) for key, val in self.encodings.items()}\n",
    "        item['labels'] = torch.tensor(self.labels[idx])\n",
    "        return item\n",
    "\n",
    "    def __len__(self):\n",
    "        return len(self.labels)\n"
   ]
  },
  {
   "cell_type": "code",
   "execution_count": 11,
   "metadata": {},
   "outputs": [],
   "source": [
    "# Create datasets\n",
    "train_dataset = SentimentDataset(train_encodings, train_labels)\n",
    "val_dataset = SentimentDataset(val_encodings, val_labels)"
   ]
  },
  {
   "cell_type": "code",
   "execution_count": 12,
   "metadata": {},
   "outputs": [],
   "source": [
    "# Check if GPU is available\n",
    "# device = \"cuda\" if torch.cuda.is_available() else \"cpu\"\n",
    "# print(f\"Using device: {device}\")"
   ]
  },
  {
   "cell_type": "code",
   "execution_count": 40,
   "metadata": {},
   "outputs": [],
   "source": [
    "class LongformerWithWeightedLoss(LongformerForSequenceClassification):\n",
    "    def __init__(self, config, class_weights):\n",
    "        super().__init__(config)\n",
    "        # Ensure class weights are in the correct format\n",
    "        self.class_weights = class_weights.float()\n",
    "        self.loss_fn = torch.nn.CrossEntropyLoss(weight=self.class_weights)\n",
    "\n",
    "    def forward(self, input_ids=None, attention_mask=None, labels=None, **kwargs):\n",
    "        outputs = super().forward(input_ids=input_ids, attention_mask=attention_mask, labels=labels, **kwargs)\n",
    "        logits = outputs.logits\n",
    "        loss = None\n",
    "        if labels is not None:\n",
    "            # Convert labels to float if necessary\n",
    "            labels = labels.to(dtype=torch.long)  # Ensure labels are of the correct type\n",
    "            loss = self.loss_fn(logits, labels)\n",
    "        return {\"loss\": loss, \"logits\": logits}\n"
   ]
  },
  {
   "cell_type": "code",
   "execution_count": 41,
   "metadata": {},
   "outputs": [],
   "source": [
    "# Compute class weights\n",
    "class_weights = compute_class_weight(\n",
    "    class_weight='balanced',\n",
    "    classes=np.unique(train_labels),\n",
    "    y=train_labels\n",
    ")\n",
    "class_weights = torch.tensor(class_weights, dtype=torch.float).to('cuda' if torch.cuda.is_available() else 'cpu')"
   ]
  },
  {
   "cell_type": "code",
   "execution_count": 42,
   "metadata": {},
   "outputs": [
    {
     "name": "stderr",
     "output_type": "stream",
     "text": [
      "Some weights of LongformerForSequenceClassification were not initialized from the model checkpoint at allenai/longformer-base-4096 and are newly initialized: ['classifier.dense.bias', 'classifier.dense.weight', 'classifier.out_proj.bias', 'classifier.out_proj.weight']\n",
      "You should probably TRAIN this model on a down-stream task to be able to use it for predictions and inference.\n",
      "Some weights of LongformerWithWeightedLoss were not initialized from the model checkpoint at allenai/longformer-base-4096 and are newly initialized: ['classifier.dense.bias', 'classifier.dense.weight', 'classifier.out_proj.bias', 'classifier.out_proj.weight', 'loss_fn.weight']\n",
      "You should probably TRAIN this model on a down-stream task to be able to use it for predictions and inference.\n"
     ]
    }
   ],
   "source": [
    "# Load Longformer model for sequence classification\n",
    "model = LongformerForSequenceClassification.from_pretrained(\"allenai/longformer-base-4096\", num_labels=3)\n",
    "model = LongformerWithWeightedLoss.from_pretrained(\"allenai/longformer-base-4096\", config=model.config, class_weights=class_weights)"
   ]
  },
  {
   "cell_type": "code",
   "execution_count": null,
   "metadata": {},
   "outputs": [],
   "source": [
    "# # Modify model loss to include class weights\n",
    "# def compute_loss_with_weights(labels, logits):\n",
    "#     loss_fn = torch.nn.CrossEntropyLoss(weight=class_weights)\n",
    "#     return loss_fn(logits, labels)\n",
    "\n",
    "# model.config.loss_fn = compute_loss_with_weights "
   ]
  },
  {
   "cell_type": "code",
   "execution_count": 43,
   "metadata": {},
   "outputs": [],
   "source": [
    "# Training arguments\n",
    "training_args = TrainingArguments(\n",
    "    output_dir='./results',\n",
    "    eval_strategy=\"epoch\",              # Evaluate at the end of each epoch\n",
    "    save_strategy=\"epoch\",              # Save at the end of each epoch\n",
    "    per_device_train_batch_size=2,      # Adjust based on GPU capacity\n",
    "    per_device_eval_batch_size=2,\n",
    "    gradient_accumulation_steps=4,      # Simulate larger batch size\n",
    "    num_train_epochs=5,\n",
    "    learning_rate=3e-5,                 # Adjust as needed\n",
    "    weight_decay=0.01,                  # Regularization\n",
    "    fp16=True,                          # Mixed precision training\n",
    "    logging_dir='./logs',\n",
    "    logging_steps=10,\n",
    "    save_total_limit=2,                 # Limit the number of saved models\n",
    "    load_best_model_at_end=True,        # Load the best model\n",
    "    metric_for_best_model='eval_loss',\n",
    "    greater_is_better=False,\n",
    "    lr_scheduler_type=\"cosine_with_restarts\",\n",
    ")"
   ]
  },
  {
   "cell_type": "code",
   "execution_count": 44,
   "metadata": {},
   "outputs": [],
   "source": [
    "# Define Trainer\n",
    "trainer = Trainer(\n",
    "    model=model,\n",
    "    args=training_args,\n",
    "    train_dataset=train_dataset,\n",
    "    eval_dataset=val_dataset,\n",
    "    callbacks=[EarlyStoppingCallback(early_stopping_patience=10)],  # Early stopping\n",
    ")"
   ]
  },
  {
   "cell_type": "code",
   "execution_count": 45,
   "metadata": {},
   "outputs": [],
   "source": [
    "import torch\n",
    "torch.cuda.empty_cache()\n"
   ]
  },
  {
   "cell_type": "code",
   "execution_count": 47,
   "metadata": {},
   "outputs": [
    {
     "name": "stderr",
     "output_type": "stream",
     "text": [
      "  0%|          | 0/2530 [03:26<?, ?it/s]\n",
      "  0%|          | 3/2530 [01:08<15:55:19, 22.68s/it]\n",
      "  0%|          | 10/2530 [01:04<4:31:09,  6.46s/it]"
     ]
    },
    {
     "name": "stdout",
     "output_type": "stream",
     "text": [
      "{'loss': 1.1538, 'grad_norm': 4.174160957336426, 'learning_rate': 2.999884358321664e-05, 'epoch': 0.02}\n"
     ]
    },
    {
     "name": "stderr",
     "output_type": "stream",
     "text": [
      "  1%|          | 20/2530 [02:09<4:29:53,  6.45s/it]"
     ]
    },
    {
     "name": "stdout",
     "output_type": "stream",
     "text": [
      "{'loss': 1.1433, 'grad_norm': 2.6724045276641846, 'learning_rate': 2.9995374511173196e-05, 'epoch': 0.04}\n"
     ]
    },
    {
     "name": "stderr",
     "output_type": "stream",
     "text": [
      "  1%|          | 30/2530 [03:13<4:29:41,  6.47s/it]"
     ]
    },
    {
     "name": "stdout",
     "output_type": "stream",
     "text": [
      "{'loss': 1.1241, 'grad_norm': 3.5480241775512695, 'learning_rate': 2.998959331876208e-05, 'epoch': 0.06}\n"
     ]
    },
    {
     "name": "stderr",
     "output_type": "stream",
     "text": [
      "  2%|▏         | 40/2530 [04:18<4:24:29,  6.37s/it]"
     ]
    },
    {
     "name": "stdout",
     "output_type": "stream",
     "text": [
      "{'loss': 1.1011, 'grad_norm': 4.565907955169678, 'learning_rate': 2.9981500897379025e-05, 'epoch': 0.08}\n"
     ]
    },
    {
     "name": "stderr",
     "output_type": "stream",
     "text": [
      "  2%|▏         | 50/2530 [05:21<4:26:19,  6.44s/it]"
     ]
    },
    {
     "name": "stdout",
     "output_type": "stream",
     "text": [
      "{'loss': 1.1035, 'grad_norm': 2.304727077484131, 'learning_rate': 2.9971098494785612e-05, 'epoch': 0.1}\n"
     ]
    },
    {
     "name": "stderr",
     "output_type": "stream",
     "text": [
      "  2%|▏         | 60/2530 [06:26<4:26:53,  6.48s/it]"
     ]
    },
    {
     "name": "stdout",
     "output_type": "stream",
     "text": [
      "{'loss': 1.1291, 'grad_norm': 3.1884634494781494, 'learning_rate': 2.9958387714916904e-05, 'epoch': 0.12}\n"
     ]
    },
    {
     "name": "stderr",
     "output_type": "stream",
     "text": [
      "  3%|▎         | 70/2530 [07:30<4:24:48,  6.46s/it]"
     ]
    },
    {
     "name": "stdout",
     "output_type": "stream",
     "text": [
      "{'loss': 1.125, 'grad_norm': 2.7557833194732666, 'learning_rate': 2.994337051763412e-05, 'epoch': 0.14}\n"
     ]
    },
    {
     "name": "stderr",
     "output_type": "stream",
     "text": [
      "  3%|▎         | 80/2530 [08:35<4:25:20,  6.50s/it]"
     ]
    },
    {
     "name": "stdout",
     "output_type": "stream",
     "text": [
      "{'loss': 1.1148, 'grad_norm': 4.8969879150390625, 'learning_rate': 2.9926049218422463e-05, 'epoch': 0.16}\n"
     ]
    },
    {
     "name": "stderr",
     "output_type": "stream",
     "text": [
      "  4%|▎         | 90/2530 [09:40<4:23:49,  6.49s/it]"
     ]
    },
    {
     "name": "stdout",
     "output_type": "stream",
     "text": [
      "{'loss': 1.1091, 'grad_norm': 2.8232221603393555, 'learning_rate': 2.9906426488034075e-05, 'epoch': 0.18}\n"
     ]
    },
    {
     "name": "stderr",
     "output_type": "stream",
     "text": [
      "  4%|▍         | 100/2530 [10:45<4:22:16,  6.48s/it]"
     ]
    },
    {
     "name": "stdout",
     "output_type": "stream",
     "text": [
      "{'loss': 1.1106, 'grad_norm': 3.2310383319854736, 'learning_rate': 2.9884505352076267e-05, 'epoch': 0.2}\n"
     ]
    },
    {
     "name": "stderr",
     "output_type": "stream",
     "text": [
      "  4%|▍         | 110/2530 [11:50<4:21:11,  6.48s/it]"
     ]
    },
    {
     "name": "stdout",
     "output_type": "stream",
     "text": [
      "{'loss': 1.105, 'grad_norm': 1.727150321006775, 'learning_rate': 2.986028919054496e-05, 'epoch': 0.22}\n"
     ]
    },
    {
     "name": "stderr",
     "output_type": "stream",
     "text": [
      "  5%|▍         | 120/2530 [12:55<4:20:57,  6.50s/it]"
     ]
    },
    {
     "name": "stdout",
     "output_type": "stream",
     "text": [
      "{'loss': 1.1367, 'grad_norm': 2.493455648422241, 'learning_rate': 2.983378173730359e-05, 'epoch': 0.24}\n"
     ]
    },
    {
     "name": "stderr",
     "output_type": "stream",
     "text": [
      "  5%|▌         | 130/2530 [14:00<4:19:54,  6.50s/it]"
     ]
    },
    {
     "name": "stdout",
     "output_type": "stream",
     "text": [
      "{'loss': 1.1247, 'grad_norm': 5.106982707977295, 'learning_rate': 2.9804987079507315e-05, 'epoch': 0.26}\n"
     ]
    },
    {
     "name": "stderr",
     "output_type": "stream",
     "text": [
      "  6%|▌         | 140/2530 [15:05<4:18:53,  6.50s/it]"
     ]
    },
    {
     "name": "stdout",
     "output_type": "stream",
     "text": [
      "{'loss': 1.0919, 'grad_norm': 2.936387777328491, 'learning_rate': 2.9773909656972887e-05, 'epoch': 0.28}\n"
     ]
    },
    {
     "name": "stderr",
     "output_type": "stream",
     "text": [
      "  6%|▌         | 150/2530 [16:09<4:17:15,  6.49s/it]"
     ]
    },
    {
     "name": "stdout",
     "output_type": "stream",
     "text": [
      "{'loss': 1.1167, 'grad_norm': 4.181922912597656, 'learning_rate': 2.974055426149403e-05, 'epoch': 0.3}\n"
     ]
    },
    {
     "name": "stderr",
     "output_type": "stream",
     "text": [
      "  6%|▋         | 160/2530 [17:14<4:12:48,  6.40s/it]"
     ]
    },
    {
     "name": "stdout",
     "output_type": "stream",
     "text": [
      "{'loss': 1.1213, 'grad_norm': 1.7450653314590454, 'learning_rate': 2.970492603610264e-05, 'epoch': 0.32}\n"
     ]
    },
    {
     "name": "stderr",
     "output_type": "stream",
     "text": [
      "  7%|▋         | 170/2530 [18:18<4:14:36,  6.47s/it]"
     ]
    },
    {
     "name": "stdout",
     "output_type": "stream",
     "text": [
      "{'loss': 1.0915, 'grad_norm': 2.061669111251831, 'learning_rate': 2.9667030474275747e-05, 'epoch': 0.34}\n"
     ]
    },
    {
     "name": "stderr",
     "output_type": "stream",
     "text": [
      "  7%|▋         | 180/2530 [19:23<4:13:59,  6.48s/it]"
     ]
    },
    {
     "name": "stdout",
     "output_type": "stream",
     "text": [
      "{'loss': 1.0965, 'grad_norm': 2.184063196182251, 'learning_rate': 2.9626873419088523e-05, 'epoch': 0.36}\n"
     ]
    },
    {
     "name": "stderr",
     "output_type": "stream",
     "text": [
      "  8%|▊         | 190/2530 [20:28<4:12:32,  6.48s/it]"
     ]
    },
    {
     "name": "stdout",
     "output_type": "stream",
     "text": [
      "{'loss': 1.1097, 'grad_norm': 4.798665523529053, 'learning_rate': 2.9584461062313305e-05, 'epoch': 0.38}\n"
     ]
    },
    {
     "name": "stderr",
     "output_type": "stream",
     "text": [
      "  8%|▊         | 200/2530 [21:32<4:04:47,  6.30s/it]"
     ]
    },
    {
     "name": "stdout",
     "output_type": "stream",
     "text": [
      "{'loss': 1.1115, 'grad_norm': 3.4666879177093506, 'learning_rate': 2.9539799943464923e-05, 'epoch': 0.39}\n"
     ]
    },
    {
     "name": "stderr",
     "output_type": "stream",
     "text": [
      "  8%|▊         | 210/2530 [22:36<4:09:33,  6.45s/it]"
     ]
    },
    {
     "name": "stdout",
     "output_type": "stream",
     "text": [
      "{'loss': 1.113, 'grad_norm': 1.7301105260849, 'learning_rate': 2.9492896948792364e-05, 'epoch': 0.41}\n"
     ]
    },
    {
     "name": "stderr",
     "output_type": "stream",
     "text": [
      "  9%|▊         | 220/2530 [23:41<4:09:21,  6.48s/it]"
     ]
    },
    {
     "name": "stdout",
     "output_type": "stream",
     "text": [
      "{'loss': 1.1144, 'grad_norm': 3.3344008922576904, 'learning_rate': 2.944375931021699e-05, 'epoch': 0.43}\n"
     ]
    },
    {
     "name": "stderr",
     "output_type": "stream",
     "text": [
      "  9%|▉         | 230/2530 [24:46<4:08:56,  6.49s/it]"
     ]
    },
    {
     "name": "stdout",
     "output_type": "stream",
     "text": [
      "{'loss': 1.1121, 'grad_norm': 1.0439478158950806, 'learning_rate': 2.939239460421746e-05, 'epoch': 0.45}\n"
     ]
    },
    {
     "name": "stderr",
     "output_type": "stream",
     "text": [
      "  9%|▉         | 240/2530 [25:51<4:07:49,  6.49s/it]"
     ]
    },
    {
     "name": "stdout",
     "output_type": "stream",
     "text": [
      "{'loss': 1.1114, 'grad_norm': 4.002546310424805, 'learning_rate': 2.9338810750661525e-05, 'epoch': 0.47}\n"
     ]
    },
    {
     "name": "stderr",
     "output_type": "stream",
     "text": [
      " 10%|▉         | 250/2530 [26:55<4:01:05,  6.34s/it]"
     ]
    },
    {
     "name": "stdout",
     "output_type": "stream",
     "text": [
      "{'loss': 1.1069, 'grad_norm': 2.5739941596984863, 'learning_rate': 2.928301601158485e-05, 'epoch': 0.49}\n"
     ]
    },
    {
     "name": "stderr",
     "output_type": "stream",
     "text": [
      " 10%|█         | 260/2530 [27:58<4:04:27,  6.46s/it]"
     ]
    },
    {
     "name": "stdout",
     "output_type": "stream",
     "text": [
      "{'loss': 1.1026, 'grad_norm': 3.239820957183838, 'learning_rate': 2.9225018989917138e-05, 'epoch': 0.51}\n"
     ]
    },
    {
     "name": "stderr",
     "output_type": "stream",
     "text": [
      " 11%|█         | 270/2530 [29:03<4:04:42,  6.50s/it]"
     ]
    },
    {
     "name": "stdout",
     "output_type": "stream",
     "text": [
      "{'loss': 1.1254, 'grad_norm': 5.537233352661133, 'learning_rate': 2.9164828628155618e-05, 'epoch': 0.53}\n"
     ]
    },
    {
     "name": "stderr",
     "output_type": "stream",
     "text": [
      " 11%|█         | 280/2530 [30:08<4:03:28,  6.49s/it]"
     ]
    },
    {
     "name": "stdout",
     "output_type": "stream",
     "text": [
      "{'loss': 1.1261, 'grad_norm': 2.435612201690674, 'learning_rate': 2.910245420698622e-05, 'epoch': 0.55}\n"
     ]
    },
    {
     "name": "stderr",
     "output_type": "stream",
     "text": [
      " 11%|█▏        | 290/2530 [31:13<4:02:12,  6.49s/it]"
     ]
    },
    {
     "name": "stdout",
     "output_type": "stream",
     "text": [
      "{'loss': 1.0987, 'grad_norm': 6.53463888168335, 'learning_rate': 2.9037905343852624e-05, 'epoch': 0.57}\n"
     ]
    },
    {
     "name": "stderr",
     "output_type": "stream",
     "text": [
      " 12%|█▏        | 300/2530 [32:18<4:01:45,  6.50s/it]"
     ]
    },
    {
     "name": "stdout",
     "output_type": "stream",
     "text": [
      "{'loss': 1.1198, 'grad_norm': 3.535907506942749, 'learning_rate': 2.8971191991473312e-05, 'epoch': 0.59}\n"
     ]
    },
    {
     "name": "stderr",
     "output_type": "stream",
     "text": [
      " 12%|█▏        | 310/2530 [33:23<4:00:19,  6.50s/it]"
     ]
    },
    {
     "name": "stdout",
     "output_type": "stream",
     "text": [
      "{'loss': 1.1086, 'grad_norm': 2.3132007122039795, 'learning_rate': 2.8902324436306995e-05, 'epoch': 0.61}\n"
     ]
    },
    {
     "name": "stderr",
     "output_type": "stream",
     "text": [
      " 13%|█▎        | 320/2530 [34:28<3:59:25,  6.50s/it]"
     ]
    },
    {
     "name": "stdout",
     "output_type": "stream",
     "text": [
      "{'loss': 1.0979, 'grad_norm': 3.5858161449432373, 'learning_rate': 2.8831313296966565e-05, 'epoch': 0.63}\n"
     ]
    },
    {
     "name": "stderr",
     "output_type": "stream",
     "text": [
      " 13%|█▎        | 330/2530 [35:33<3:58:05,  6.49s/it]"
     ]
    },
    {
     "name": "stdout",
     "output_type": "stream",
     "text": [
      "{'loss': 1.103, 'grad_norm': 1.6011021137237549, 'learning_rate': 2.8758169522581795e-05, 'epoch': 0.65}\n"
     ]
    },
    {
     "name": "stderr",
     "output_type": "stream",
     "text": [
      " 13%|█▎        | 340/2530 [36:38<3:57:30,  6.51s/it]"
     ]
    },
    {
     "name": "stdout",
     "output_type": "stream",
     "text": [
      "{'loss': 1.099, 'grad_norm': 2.3125827312469482, 'learning_rate': 2.8682904391111128e-05, 'epoch': 0.67}\n"
     ]
    },
    {
     "name": "stderr",
     "output_type": "stream",
     "text": [
      " 14%|█▍        | 350/2530 [37:40<3:43:00,  6.14s/it]"
     ]
    },
    {
     "name": "stdout",
     "output_type": "stream",
     "text": [
      "{'loss': 1.094, 'grad_norm': 1.853219985961914, 'learning_rate': 2.8605529507602727e-05, 'epoch': 0.69}\n"
     ]
    },
    {
     "name": "stderr",
     "output_type": "stream",
     "text": [
      " 14%|█▍        | 360/2530 [38:44<3:53:28,  6.46s/it]"
     ]
    },
    {
     "name": "stdout",
     "output_type": "stream",
     "text": [
      "{'loss': 1.1264, 'grad_norm': 1.8638333082199097, 'learning_rate': 2.852605680240511e-05, 'epoch': 0.71}\n"
     ]
    },
    {
     "name": "stderr",
     "output_type": "stream",
     "text": [
      " 15%|█▍        | 370/2530 [39:49<3:53:42,  6.49s/it]"
     ]
    },
    {
     "name": "stdout",
     "output_type": "stream",
     "text": [
      "{'loss': 1.0975, 'grad_norm': 1.0354242324829102, 'learning_rate': 2.8444498529327633e-05, 'epoch': 0.73}\n"
     ]
    },
    {
     "name": "stderr",
     "output_type": "stream",
     "text": [
      " 15%|█▌        | 380/2530 [40:54<3:52:39,  6.49s/it]"
     ]
    },
    {
     "name": "stdout",
     "output_type": "stream",
     "text": [
      "{'loss': 1.1127, 'grad_norm': 2.518148183822632, 'learning_rate': 2.8360867263751055e-05, 'epoch': 0.75}\n"
     ]
    },
    {
     "name": "stderr",
     "output_type": "stream",
     "text": [
      " 15%|█▌        | 390/2530 [41:59<3:50:48,  6.47s/it]"
     ]
    },
    {
     "name": "stdout",
     "output_type": "stream",
     "text": [
      "{'loss': 1.1147, 'grad_norm': 1.3903168439865112, 'learning_rate': 2.8275175900688607e-05, 'epoch': 0.77}\n"
     ]
    },
    {
     "name": "stderr",
     "output_type": "stream",
     "text": [
      " 16%|█▌        | 400/2530 [43:03<3:50:03,  6.48s/it]"
     ]
    },
    {
     "name": "stdout",
     "output_type": "stream",
     "text": [
      "{'loss': 1.0785, 'grad_norm': 3.5134799480438232, 'learning_rate': 2.8187437652797676e-05, 'epoch': 0.79}\n"
     ]
    },
    {
     "name": "stderr",
     "output_type": "stream",
     "text": [
      " 16%|█▌        | 410/2530 [44:08<3:49:11,  6.49s/it]"
     ]
    },
    {
     "name": "stdout",
     "output_type": "stream",
     "text": [
      "{'loss': 1.0855, 'grad_norm': 3.373004674911499, 'learning_rate': 2.8097666048342583e-05, 'epoch': 0.81}\n"
     ]
    },
    {
     "name": "stderr",
     "output_type": "stream",
     "text": [
      " 17%|█▋        | 420/2530 [45:13<3:48:24,  6.49s/it]"
     ]
    },
    {
     "name": "stdout",
     "output_type": "stream",
     "text": [
      "{'loss': 1.1042, 'grad_norm': 2.6540136337280273, 'learning_rate': 2.8005874929108662e-05, 'epoch': 0.83}\n"
     ]
    },
    {
     "name": "stderr",
     "output_type": "stream",
     "text": [
      " 17%|█▋        | 430/2530 [46:18<3:47:15,  6.49s/it]"
     ]
    },
    {
     "name": "stdout",
     "output_type": "stream",
     "text": [
      "{'loss': 1.1114, 'grad_norm': 3.1557300090789795, 'learning_rate': 2.791207844826804e-05, 'epoch': 0.85}\n"
     ]
    },
    {
     "name": "stderr",
     "output_type": "stream",
     "text": [
      " 17%|█▋        | 440/2530 [47:22<3:41:21,  6.35s/it]"
     ]
    },
    {
     "name": "stdout",
     "output_type": "stream",
     "text": [
      "{'loss': 1.1057, 'grad_norm': 3.3654706478118896, 'learning_rate': 2.781629106819733e-05, 'epoch': 0.87}\n"
     ]
    },
    {
     "name": "stderr",
     "output_type": "stream",
     "text": [
      " 18%|█▊        | 450/2530 [48:26<3:44:46,  6.48s/it]"
     ]
    },
    {
     "name": "stdout",
     "output_type": "stream",
     "text": [
      "{'loss': 1.1044, 'grad_norm': 2.0659000873565674, 'learning_rate': 2.7718527558247722e-05, 'epoch': 0.89}\n"
     ]
    },
    {
     "name": "stderr",
     "output_type": "stream",
     "text": [
      " 18%|█▊        | 460/2530 [49:31<3:43:55,  6.49s/it]"
     ]
    },
    {
     "name": "stdout",
     "output_type": "stream",
     "text": [
      "{'loss': 1.1005, 'grad_norm': 3.6929931640625, 'learning_rate': 2.7618802992467718e-05, 'epoch': 0.91}\n"
     ]
    },
    {
     "name": "stderr",
     "output_type": "stream",
     "text": [
      " 19%|█▊        | 470/2530 [50:36<3:42:50,  6.49s/it]"
     ]
    },
    {
     "name": "stdout",
     "output_type": "stream",
     "text": [
      "{'loss': 1.087, 'grad_norm': 2.417505979537964, 'learning_rate': 2.751713274727886e-05, 'epoch': 0.93}\n"
     ]
    },
    {
     "name": "stderr",
     "output_type": "stream",
     "text": [
      " 19%|█▉        | 480/2530 [51:41<3:41:59,  6.50s/it]"
     ]
    },
    {
     "name": "stdout",
     "output_type": "stream",
     "text": [
      "{'loss': 1.0927, 'grad_norm': 1.7178573608398438, 'learning_rate': 2.7413532499104862e-05, 'epoch': 0.95}\n"
     ]
    },
    {
     "name": "stderr",
     "output_type": "stream",
     "text": [
      " 19%|█▉        | 490/2530 [52:46<3:36:45,  6.38s/it]"
     ]
    },
    {
     "name": "stdout",
     "output_type": "stream",
     "text": [
      "{'loss': 1.0926, 'grad_norm': 1.1143302917480469, 'learning_rate': 2.73080182219545e-05, 'epoch': 0.97}\n"
     ]
    },
    {
     "name": "stderr",
     "output_type": "stream",
     "text": [
      " 20%|█▉        | 500/2530 [53:49<3:38:10,  6.45s/it]"
     ]
    },
    {
     "name": "stdout",
     "output_type": "stream",
     "text": [
      "{'loss': 1.1137, 'grad_norm': 2.998089075088501, 'learning_rate': 2.7200606184958567e-05, 'epoch': 0.99}\n"
     ]
    },
    {
     "name": "stderr",
     "output_type": "stream",
     "text": [
      "                                                    \n",
      " 20%|██        | 506/2530 [1:08:37<3:38:53,  6.49s/it]"
     ]
    },
    {
     "name": "stdout",
     "output_type": "stream",
     "text": [
      "{'eval_loss': 1.0992237329483032, 'eval_runtime': 845.3488, 'eval_samples_per_second': 1.198, 'eval_steps_per_second': 0.6, 'epoch': 1.0}\n"
     ]
    },
    {
     "name": "stderr",
     "output_type": "stream",
     "text": [
      " 20%|██        | 510/2530 [1:09:05<52:46:11, 94.05s/it]  "
     ]
    },
    {
     "name": "stdout",
     "output_type": "stream",
     "text": [
      "{'loss': 1.105, 'grad_norm': 1.2614396810531616, 'learning_rate': 2.7091312949861367e-05, 'epoch': 1.01}\n"
     ]
    },
    {
     "name": "stderr",
     "output_type": "stream",
     "text": [
      " 21%|██        | 520/2530 [1:10:10<5:00:50,  8.98s/it] "
     ]
    },
    {
     "name": "stdout",
     "output_type": "stream",
     "text": [
      "{'loss': 1.1106, 'grad_norm': 1.6377100944519043, 'learning_rate': 2.698015536846709e-05, 'epoch': 1.03}\n"
     ]
    },
    {
     "name": "stderr",
     "output_type": "stream",
     "text": [
      " 21%|██        | 530/2530 [1:11:15<3:38:18,  6.55s/it]"
     ]
    },
    {
     "name": "stdout",
     "output_type": "stream",
     "text": [
      "{'loss': 1.119, 'grad_norm': 2.331671714782715, 'learning_rate': 2.6867150580041436e-05, 'epoch': 1.05}\n"
     ]
    },
    {
     "name": "stderr",
     "output_type": "stream",
     "text": [
      " 21%|██▏       | 540/2530 [1:12:19<3:34:28,  6.47s/it]"
     ]
    },
    {
     "name": "stdout",
     "output_type": "stream",
     "text": [
      "{'loss': 1.1073, 'grad_norm': 1.3423969745635986, 'learning_rate': 2.6752316008668916e-05, 'epoch': 1.07}\n"
     ]
    },
    {
     "name": "stderr",
     "output_type": "stream",
     "text": [
      " 22%|██▏       | 550/2530 [1:13:24<3:34:40,  6.51s/it]"
     ]
    },
    {
     "name": "stdout",
     "output_type": "stream",
     "text": [
      "{'loss': 1.1001, 'grad_norm': 1.9027093648910522, 'learning_rate': 2.6635669360566298e-05, 'epoch': 1.09}\n"
     ]
    },
    {
     "name": "stderr",
     "output_type": "stream",
     "text": [
      " 22%|██▏       | 560/2530 [1:14:29<3:32:28,  6.47s/it]"
     ]
    },
    {
     "name": "stdout",
     "output_type": "stream",
     "text": [
      "{'loss': 1.1068, 'grad_norm': 4.592230319976807, 'learning_rate': 2.651722862135245e-05, 'epoch': 1.11}\n"
     ]
    },
    {
     "name": "stderr",
     "output_type": "stream",
     "text": [
      " 23%|██▎       | 570/2530 [1:15:34<3:32:24,  6.50s/it]"
     ]
    },
    {
     "name": "stdout",
     "output_type": "stream",
     "text": [
      "{'loss': 1.1195, 'grad_norm': 2.05647873878479, 'learning_rate': 2.63970120532752e-05, 'epoch': 1.13}\n"
     ]
    },
    {
     "name": "stderr",
     "output_type": "stream",
     "text": [
      " 23%|██▎       | 580/2530 [1:16:39<3:30:53,  6.49s/it]"
     ]
    },
    {
     "name": "stdout",
     "output_type": "stream",
     "text": [
      "{'loss': 1.1076, 'grad_norm': 2.176149845123291, 'learning_rate': 2.627503819239547e-05, 'epoch': 1.15}\n"
     ]
    },
    {
     "name": "stderr",
     "output_type": "stream",
     "text": [
      " 23%|██▎       | 590/2530 [1:17:44<3:29:51,  6.49s/it]"
     ]
    },
    {
     "name": "stdout",
     "output_type": "stream",
     "text": [
      "{'loss': 1.103, 'grad_norm': 1.6473824977874756, 'learning_rate': 2.6151325845729245e-05, 'epoch': 1.16}\n"
     ]
    },
    {
     "name": "stderr",
     "output_type": "stream",
     "text": [
      " 24%|██▎       | 600/2530 [1:18:49<3:28:18,  6.48s/it]"
     ]
    },
    {
     "name": "stdout",
     "output_type": "stream",
     "text": [
      "{'loss': 1.0992, 'grad_norm': 2.0042366981506348, 'learning_rate': 2.6025894088347723e-05, 'epoch': 1.18}\n"
     ]
    },
    {
     "name": "stderr",
     "output_type": "stream",
     "text": [
      " 24%|██▍       | 610/2530 [1:19:54<3:27:46,  6.49s/it]"
     ]
    },
    {
     "name": "stdout",
     "output_type": "stream",
     "text": [
      "{'loss': 1.1053, 'grad_norm': 1.2904692888259888, 'learning_rate': 2.5898762260436156e-05, 'epoch': 1.2}\n"
     ]
    },
    {
     "name": "stderr",
     "output_type": "stream",
     "text": [
      " 25%|██▍       | 620/2530 [1:20:59<3:26:31,  6.49s/it]"
     ]
    },
    {
     "name": "stdout",
     "output_type": "stream",
     "text": [
      "{'loss': 1.0754, 'grad_norm': 1.4390493631362915, 'learning_rate': 2.5769949964311814e-05, 'epoch': 1.22}\n"
     ]
    },
    {
     "name": "stderr",
     "output_type": "stream",
     "text": [
      " 25%|██▍       | 630/2530 [1:22:04<3:25:53,  6.50s/it]"
     ]
    },
    {
     "name": "stdout",
     "output_type": "stream",
     "text": [
      "{'loss': 1.0792, 'grad_norm': 3.210905075073242, 'learning_rate': 2.563947706140151e-05, 'epoch': 1.24}\n"
     ]
    },
    {
     "name": "stderr",
     "output_type": "stream",
     "text": [
      " 25%|██▌       | 640/2530 [1:23:09<3:24:33,  6.49s/it]"
     ]
    },
    {
     "name": "stdout",
     "output_type": "stream",
     "text": [
      "{'loss': 1.1154, 'grad_norm': 1.9668328762054443, 'learning_rate': 2.5507363669179215e-05, 'epoch': 1.26}\n"
     ]
    },
    {
     "name": "stderr",
     "output_type": "stream",
     "text": [
      " 26%|██▌       | 650/2530 [1:24:13<3:23:19,  6.49s/it]"
     ]
    },
    {
     "name": "stdout",
     "output_type": "stream",
     "text": [
      "{'loss': 1.1151, 'grad_norm': 1.618813157081604, 'learning_rate': 2.537363015806412e-05, 'epoch': 1.28}\n"
     ]
    },
    {
     "name": "stderr",
     "output_type": "stream",
     "text": [
      " 26%|██▌       | 660/2530 [1:25:18<3:22:34,  6.50s/it]"
     ]
    },
    {
     "name": "stdout",
     "output_type": "stream",
     "text": [
      "{'loss': 1.1253, 'grad_norm': 2.421704053878784, 'learning_rate': 2.5238297148279813e-05, 'epoch': 1.3}\n"
     ]
    },
    {
     "name": "stderr",
     "output_type": "stream",
     "text": [
      " 26%|██▋       | 670/2530 [1:26:23<3:21:16,  6.49s/it]"
     ]
    },
    {
     "name": "stdout",
     "output_type": "stream",
     "text": [
      "{'loss': 1.1023, 'grad_norm': 1.2199931144714355, 'learning_rate': 2.5101385506674793e-05, 'epoch': 1.32}\n"
     ]
    },
    {
     "name": "stderr",
     "output_type": "stream",
     "text": [
      " 27%|██▋       | 680/2530 [1:27:28<3:20:09,  6.49s/it]"
     ]
    },
    {
     "name": "stdout",
     "output_type": "stream",
     "text": [
      "{'loss': 1.0935, 'grad_norm': 2.8846426010131836, 'learning_rate': 2.4962916343505093e-05, 'epoch': 1.34}\n"
     ]
    },
    {
     "name": "stderr",
     "output_type": "stream",
     "text": [
      " 27%|██▋       | 690/2530 [1:28:33<3:18:52,  6.48s/it]"
     ]
    },
    {
     "name": "stdout",
     "output_type": "stream",
     "text": [
      "{'loss': 1.1044, 'grad_norm': 1.9602367877960205, 'learning_rate': 2.482291100917928e-05, 'epoch': 1.36}\n"
     ]
    },
    {
     "name": "stderr",
     "output_type": "stream",
     "text": [
      " 28%|██▊       | 700/2530 [1:29:38<3:17:42,  6.48s/it]"
     ]
    },
    {
     "name": "stdout",
     "output_type": "stream",
     "text": [
      "{'loss': 1.0978, 'grad_norm': 1.319777011871338, 'learning_rate': 2.4681391090966466e-05, 'epoch': 1.38}\n"
     ]
    },
    {
     "name": "stderr",
     "output_type": "stream",
     "text": [
      " 28%|██▊       | 710/2530 [1:30:43<3:17:12,  6.50s/it]"
     ]
    },
    {
     "name": "stdout",
     "output_type": "stream",
     "text": [
      "{'loss': 1.0987, 'grad_norm': 2.498842477798462, 'learning_rate': 2.4538378409667802e-05, 'epoch': 1.4}\n"
     ]
    },
    {
     "name": "stderr",
     "output_type": "stream",
     "text": [
      " 28%|██▊       | 720/2530 [1:31:48<3:15:44,  6.49s/it]"
     ]
    },
    {
     "name": "stdout",
     "output_type": "stream",
     "text": [
      "{'loss': 1.0982, 'grad_norm': 1.5828238725662231, 'learning_rate': 2.4393895016251943e-05, 'epoch': 1.42}\n"
     ]
    },
    {
     "name": "stderr",
     "output_type": "stream",
     "text": [
      " 29%|██▉       | 730/2530 [1:32:53<3:14:44,  6.49s/it]"
     ]
    },
    {
     "name": "stdout",
     "output_type": "stream",
     "text": [
      "{'loss': 1.1026, 'grad_norm': 2.539292573928833, 'learning_rate': 2.4247963188455027e-05, 'epoch': 1.44}\n"
     ]
    },
    {
     "name": "stderr",
     "output_type": "stream",
     "text": [
      " 29%|██▉       | 740/2530 [1:33:58<3:13:44,  6.49s/it]"
     ]
    },
    {
     "name": "stdout",
     "output_type": "stream",
     "text": [
      "{'loss': 1.1156, 'grad_norm': 2.326648712158203, 'learning_rate': 2.4100605427345704e-05, 'epoch': 1.46}\n"
     ]
    },
    {
     "name": "stderr",
     "output_type": "stream",
     "text": [
      " 30%|██▉       | 750/2530 [1:35:03<3:12:27,  6.49s/it]"
     ]
    },
    {
     "name": "stdout",
     "output_type": "stream",
     "text": [
      "{'loss': 1.0978, 'grad_norm': 1.187072992324829, 'learning_rate': 2.3951844453855727e-05, 'epoch': 1.48}\n"
     ]
    },
    {
     "name": "stderr",
     "output_type": "stream",
     "text": [
      " 30%|███       | 760/2530 [1:36:08<3:11:49,  6.50s/it]"
     ]
    },
    {
     "name": "stdout",
     "output_type": "stream",
     "text": [
      "{'loss': 1.1033, 'grad_norm': 1.7058727741241455, 'learning_rate': 2.3801703205276616e-05, 'epoch': 1.5}\n"
     ]
    },
    {
     "name": "stderr",
     "output_type": "stream",
     "text": [
      " 30%|███       | 770/2530 [1:37:12<3:10:42,  6.50s/it]"
     ]
    },
    {
     "name": "stdout",
     "output_type": "stream",
     "text": [
      "{'loss': 1.0913, 'grad_norm': 1.5051029920578003, 'learning_rate': 2.3650204831723007e-05, 'epoch': 1.52}\n"
     ]
    },
    {
     "name": "stderr",
     "output_type": "stream",
     "text": [
      " 31%|███       | 780/2530 [1:38:17<3:09:30,  6.50s/it]"
     ]
    },
    {
     "name": "stdout",
     "output_type": "stream",
     "text": [
      "{'loss': 1.1058, 'grad_norm': 3.853031873703003, 'learning_rate': 2.3497372692563143e-05, 'epoch': 1.54}\n"
     ]
    },
    {
     "name": "stderr",
     "output_type": "stream",
     "text": [
      " 31%|███       | 790/2530 [1:39:22<3:08:11,  6.49s/it]"
     ]
    },
    {
     "name": "stdout",
     "output_type": "stream",
     "text": [
      "{'loss': 1.103, 'grad_norm': 0.7603291869163513, 'learning_rate': 2.334323035281713e-05, 'epoch': 1.56}\n"
     ]
    },
    {
     "name": "stderr",
     "output_type": "stream",
     "text": [
      " 32%|███▏      | 800/2530 [1:40:27<3:06:55,  6.48s/it]"
     ]
    },
    {
     "name": "stdout",
     "output_type": "stream",
     "text": [
      "{'loss': 1.082, 'grad_norm': 2.471839666366577, 'learning_rate': 2.318780157952345e-05, 'epoch': 1.58}\n"
     ]
    },
    {
     "name": "stderr",
     "output_type": "stream",
     "text": [
      " 32%|███▏      | 810/2530 [1:41:32<3:06:25,  6.50s/it]"
     ]
    },
    {
     "name": "stdout",
     "output_type": "stream",
     "text": [
      "{'loss': 1.1316, 'grad_norm': 5.8995256423950195, 'learning_rate': 2.3031110338074388e-05, 'epoch': 1.6}\n"
     ]
    },
    {
     "name": "stderr",
     "output_type": "stream",
     "text": [
      " 32%|███▏      | 820/2530 [1:42:37<3:05:28,  6.51s/it]"
     ]
    },
    {
     "name": "stdout",
     "output_type": "stream",
     "text": [
      "{'loss': 1.0998, 'grad_norm': 2.591655731201172, 'learning_rate': 2.2873180788520794e-05, 'epoch': 1.62}\n"
     ]
    },
    {
     "name": "stderr",
     "output_type": "stream",
     "text": [
      " 33%|███▎      | 830/2530 [1:43:42<3:03:58,  6.49s/it]"
     ]
    },
    {
     "name": "stdout",
     "output_type": "stream",
     "text": [
      "{'loss': 1.1034, 'grad_norm': 4.002465724945068, 'learning_rate': 2.27140372818469e-05, 'epoch': 1.64}\n"
     ]
    },
    {
     "name": "stderr",
     "output_type": "stream",
     "text": [
      " 33%|███▎      | 840/2530 [1:44:47<3:02:53,  6.49s/it]"
     ]
    },
    {
     "name": "stdout",
     "output_type": "stream",
     "text": [
      "{'loss': 1.0994, 'grad_norm': 2.21405029296875, 'learning_rate': 2.2553704356215642e-05, 'epoch': 1.66}\n"
     ]
    },
    {
     "name": "stderr",
     "output_type": "stream",
     "text": [
      " 34%|███▎      | 850/2530 [1:45:52<3:02:10,  6.51s/it]"
     ]
    },
    {
     "name": "stdout",
     "output_type": "stream",
     "text": [
      "{'loss': 1.0949, 'grad_norm': 1.9501183032989502, 'learning_rate': 2.2392206733185175e-05, 'epoch': 1.68}\n"
     ]
    },
    {
     "name": "stderr",
     "output_type": "stream",
     "text": [
      " 34%|███▍      | 860/2530 [1:46:57<3:00:38,  6.49s/it]"
     ]
    },
    {
     "name": "stdout",
     "output_type": "stream",
     "text": [
      "{'loss': 1.1109, 'grad_norm': 1.5677443742752075, 'learning_rate': 2.2229569313897068e-05, 'epoch': 1.7}\n"
     ]
    },
    {
     "name": "stderr",
     "output_type": "stream",
     "text": [
      " 34%|███▍      | 870/2530 [1:48:02<2:59:37,  6.49s/it]"
     ]
    },
    {
     "name": "stdout",
     "output_type": "stream",
     "text": [
      "{'loss': 1.0873, 'grad_norm': 4.851618766784668, 'learning_rate': 2.2065817175236813e-05, 'epoch': 1.72}\n"
     ]
    },
    {
     "name": "stderr",
     "output_type": "stream",
     "text": [
      " 35%|███▍      | 880/2530 [1:49:07<2:58:13,  6.48s/it]"
     ]
    },
    {
     "name": "stdout",
     "output_type": "stream",
     "text": [
      "{'loss': 1.099, 'grad_norm': 1.392723560333252, 'learning_rate': 2.1900975565967284e-05, 'epoch': 1.74}\n"
     ]
    },
    {
     "name": "stderr",
     "output_type": "stream",
     "text": [
      " 35%|███▌      | 890/2530 [1:50:12<2:57:22,  6.49s/it]"
     ]
    },
    {
     "name": "stdout",
     "output_type": "stream",
     "text": [
      "{'loss': 1.0947, 'grad_norm': 2.178339719772339, 'learning_rate': 2.173506990283561e-05, 'epoch': 1.76}\n"
     ]
    },
    {
     "name": "stderr",
     "output_type": "stream",
     "text": [
      " 36%|███▌      | 900/2530 [1:51:17<2:56:31,  6.50s/it]"
     ]
    },
    {
     "name": "stdout",
     "output_type": "stream",
     "text": [
      "{'loss': 1.1047, 'grad_norm': 1.8291800022125244, 'learning_rate': 2.1568125766654236e-05, 'epoch': 1.78}\n"
     ]
    },
    {
     "name": "stderr",
     "output_type": "stream",
     "text": [
      " 36%|███▌      | 910/2530 [1:52:22<2:55:18,  6.49s/it]"
     ]
    },
    {
     "name": "stdout",
     "output_type": "stream",
     "text": [
      "{'loss': 1.0834, 'grad_norm': 3.165698289871216, 'learning_rate': 2.140016889835663e-05, 'epoch': 1.8}\n"
     ]
    },
    {
     "name": "stderr",
     "output_type": "stream",
     "text": [
      " 36%|███▋      | 920/2530 [1:53:27<2:54:02,  6.49s/it]"
     ]
    },
    {
     "name": "stdout",
     "output_type": "stream",
     "text": [
      "{'loss': 1.0918, 'grad_norm': 2.366227626800537, 'learning_rate': 2.12312251950283e-05, 'epoch': 1.82}\n"
     ]
    },
    {
     "name": "stderr",
     "output_type": "stream",
     "text": [
      " 37%|███▋      | 930/2530 [1:54:32<2:53:11,  6.49s/it]"
     ]
    },
    {
     "name": "stdout",
     "output_type": "stream",
     "text": [
      "{'loss': 1.1075, 'grad_norm': 2.4914615154266357, 'learning_rate': 2.1061320705913778e-05, 'epoch': 1.84}\n"
     ]
    },
    {
     "name": "stderr",
     "output_type": "stream",
     "text": [
      " 37%|███▋      | 940/2530 [1:55:36<2:51:40,  6.48s/it]"
     ]
    },
    {
     "name": "stdout",
     "output_type": "stream",
     "text": [
      "{'loss': 1.1081, 'grad_norm': 1.8227754831314087, 'learning_rate': 2.08904816284001e-05, 'epoch': 1.86}\n"
     ]
    },
    {
     "name": "stderr",
     "output_type": "stream",
     "text": [
      " 38%|███▊      | 950/2530 [1:56:41<2:50:58,  6.49s/it]"
     ]
    },
    {
     "name": "stdout",
     "output_type": "stream",
     "text": [
      "{'loss': 1.1104, 'grad_norm': 2.9958066940307617, 'learning_rate': 2.071873430397747e-05, 'epoch': 1.88}\n"
     ]
    },
    {
     "name": "stderr",
     "output_type": "stream",
     "text": [
      " 38%|███▊      | 960/2530 [1:57:46<2:49:47,  6.49s/it]"
     ]
    },
    {
     "name": "stdout",
     "output_type": "stream",
     "text": [
      "{'loss': 1.0915, 'grad_norm': 2.7777597904205322, 'learning_rate': 2.0546105214177678e-05, 'epoch': 1.9}\n"
     ]
    },
    {
     "name": "stderr",
     "output_type": "stream",
     "text": [
      " 38%|███▊      | 970/2530 [1:58:51<2:48:39,  6.49s/it]"
     ]
    },
    {
     "name": "stdout",
     "output_type": "stream",
     "text": [
      "{'loss': 1.1084, 'grad_norm': 1.5286182165145874, 'learning_rate': 2.037262097649096e-05, 'epoch': 1.92}\n"
     ]
    },
    {
     "name": "stderr",
     "output_type": "stream",
     "text": [
      " 39%|███▊      | 980/2530 [1:59:56<2:47:44,  6.49s/it]"
     ]
    },
    {
     "name": "stdout",
     "output_type": "stream",
     "text": [
      "{'loss': 1.0941, 'grad_norm': 1.1438041925430298, 'learning_rate': 2.019830834026186e-05, 'epoch': 1.93}\n"
     ]
    },
    {
     "name": "stderr",
     "output_type": "stream",
     "text": [
      " 39%|███▉      | 990/2530 [2:01:01<2:46:24,  6.48s/it]"
     ]
    },
    {
     "name": "stdout",
     "output_type": "stream",
     "text": [
      "{'loss': 1.0954, 'grad_norm': 2.214442014694214, 'learning_rate': 2.002319418256479e-05, 'epoch': 1.95}\n"
     ]
    },
    {
     "name": "stderr",
     "output_type": "stream",
     "text": [
      " 40%|███▉      | 1000/2530 [2:02:06<2:45:28,  6.49s/it]"
     ]
    },
    {
     "name": "stdout",
     "output_type": "stream",
     "text": [
      "{'loss': 1.1015, 'grad_norm': 2.129039764404297, 'learning_rate': 1.984730550405989e-05, 'epoch': 1.97}\n"
     ]
    },
    {
     "name": "stderr",
     "output_type": "stream",
     "text": [
      " 40%|███▉      | 1010/2530 [2:03:11<2:44:40,  6.50s/it]"
     ]
    },
    {
     "name": "stdout",
     "output_type": "stream",
     "text": [
      "{'loss': 1.0889, 'grad_norm': 1.8456953763961792, 'learning_rate': 1.967066942482978e-05, 'epoch': 1.99}\n"
     ]
    },
    {
     "name": "stderr",
     "output_type": "stream",
     "text": [
      "                                                       \n",
      " 40%|████      | 1013/2530 [2:20:06<2:40:11,  6.34s/it]"
     ]
    },
    {
     "name": "stdout",
     "output_type": "stream",
     "text": [
      "{'eval_loss': 1.1049301624298096, 'eval_runtime': 996.601, 'eval_samples_per_second': 1.016, 'eval_steps_per_second': 0.509, 'epoch': 2.0}\n"
     ]
    },
    {
     "name": "stderr",
     "output_type": "stream",
     "text": [
      " 40%|████      | 1020/2530 [2:20:54<17:30:46, 41.75s/it]  "
     ]
    },
    {
     "name": "stdout",
     "output_type": "stream",
     "text": [
      "{'loss': 1.1097, 'grad_norm': 2.3184454441070557, 'learning_rate': 1.9493313180198024e-05, 'epoch': 2.01}\n"
     ]
    },
    {
     "name": "stderr",
     "output_type": "stream",
     "text": [
      " 41%|████      | 1030/2530 [2:21:59<3:07:06,  7.48s/it] "
     ]
    },
    {
     "name": "stdout",
     "output_type": "stream",
     "text": [
      "{'loss': 1.1093, 'grad_norm': 2.3042070865631104, 'learning_rate': 1.931526411652967e-05, 'epoch': 2.03}\n"
     ]
    },
    {
     "name": "stderr",
     "output_type": "stream",
     "text": [
      " 41%|████      | 1040/2530 [2:23:04<2:41:56,  6.52s/it]"
     ]
    },
    {
     "name": "stdout",
     "output_type": "stream",
     "text": [
      "{'loss': 1.0992, 'grad_norm': 2.155867576599121, 'learning_rate': 1.913654968701478e-05, 'epoch': 2.05}\n"
     ]
    },
    {
     "name": "stderr",
     "output_type": "stream",
     "text": [
      " 42%|████▏     | 1050/2530 [2:24:09<2:39:40,  6.47s/it]"
     ]
    },
    {
     "name": "stdout",
     "output_type": "stream",
     "text": [
      "{'loss': 1.1026, 'grad_norm': 1.4660122394561768, 'learning_rate': 1.8957197447435458e-05, 'epoch': 2.07}\n"
     ]
    },
    {
     "name": "stderr",
     "output_type": "stream",
     "text": [
      " 42%|████▏     | 1060/2530 [2:25:14<2:39:01,  6.49s/it]"
     ]
    },
    {
     "name": "stdout",
     "output_type": "stream",
     "text": [
      "{'loss': 1.1097, 'grad_norm': 2.9505527019500732, 'learning_rate': 1.8777235051917027e-05, 'epoch': 2.09}\n"
     ]
    },
    {
     "name": "stderr",
     "output_type": "stream",
     "text": [
      " 42%|████▏     | 1070/2530 [2:26:19<2:37:58,  6.49s/it]"
     ]
    },
    {
     "name": "stdout",
     "output_type": "stream",
     "text": [
      "{'loss': 1.095, 'grad_norm': 3.6491384506225586, 'learning_rate': 1.8596690248664103e-05, 'epoch': 2.11}\n"
     ]
    },
    {
     "name": "stderr",
     "output_type": "stream",
     "text": [
      " 43%|████▎     | 1080/2530 [2:27:24<2:37:00,  6.50s/it]"
     ]
    },
    {
     "name": "stdout",
     "output_type": "stream",
     "text": [
      "{'loss': 1.1013, 'grad_norm': 1.9663735628128052, 'learning_rate': 1.8415590875682098e-05, 'epoch': 2.13}\n"
     ]
    },
    {
     "name": "stderr",
     "output_type": "stream",
     "text": [
      " 43%|████▎     | 1090/2530 [2:28:29<2:35:59,  6.50s/it]"
     ]
    },
    {
     "name": "stdout",
     "output_type": "stream",
     "text": [
      "{'loss': 1.1087, 'grad_norm': 1.1590845584869385, 'learning_rate': 1.8233964856484924e-05, 'epoch': 2.15}\n"
     ]
    },
    {
     "name": "stderr",
     "output_type": "stream",
     "text": [
      " 43%|████▎     | 1100/2530 [2:29:34<2:35:01,  6.50s/it]"
     ]
    },
    {
     "name": "stdout",
     "output_type": "stream",
     "text": [
      "{'loss': 1.1086, 'grad_norm': 2.402301073074341, 'learning_rate': 1.805184019578951e-05, 'epoch': 2.17}\n"
     ]
    },
    {
     "name": "stderr",
     "output_type": "stream",
     "text": [
      " 44%|████▍     | 1110/2530 [2:30:38<2:33:48,  6.50s/it]"
     ]
    },
    {
     "name": "stdout",
     "output_type": "stream",
     "text": [
      "{'loss': 1.1019, 'grad_norm': 2.675626039505005, 'learning_rate': 1.7869244975197752e-05, 'epoch': 2.19}\n"
     ]
    },
    {
     "name": "stderr",
     "output_type": "stream",
     "text": [
      " 44%|████▍     | 1120/2530 [2:31:43<2:32:43,  6.50s/it]"
     ]
    },
    {
     "name": "stdout",
     "output_type": "stream",
     "text": [
      "{'loss': 1.0874, 'grad_norm': 3.5328590869903564, 'learning_rate': 1.7686207348866677e-05, 'epoch': 2.21}\n"
     ]
    },
    {
     "name": "stderr",
     "output_type": "stream",
     "text": [
      " 45%|████▍     | 1130/2530 [2:32:48<2:31:35,  6.50s/it]"
     ]
    },
    {
     "name": "stdout",
     "output_type": "stream",
     "text": [
      "{'loss': 1.0949, 'grad_norm': 1.7119258642196655, 'learning_rate': 1.750275553916736e-05, 'epoch': 2.23}\n"
     ]
    },
    {
     "name": "stderr",
     "output_type": "stream",
     "text": [
      " 45%|████▌     | 1140/2530 [2:33:53<2:30:27,  6.49s/it]"
     ]
    },
    {
     "name": "stdout",
     "output_type": "stream",
     "text": [
      "{'loss': 1.0986, 'grad_norm': 1.3919862508773804, 'learning_rate': 1.7318917832333356e-05, 'epoch': 2.25}\n"
     ]
    },
    {
     "name": "stderr",
     "output_type": "stream",
     "text": [
      " 45%|████▌     | 1150/2530 [2:34:58<2:29:06,  6.48s/it]"
     ]
    },
    {
     "name": "stdout",
     "output_type": "stream",
     "text": [
      "{'loss': 1.1036, 'grad_norm': 2.5913338661193848, 'learning_rate': 1.713472257409928e-05, 'epoch': 2.27}\n"
     ]
    },
    {
     "name": "stderr",
     "output_type": "stream",
     "text": [
      " 46%|████▌     | 1160/2530 [2:36:03<2:28:27,  6.50s/it]"
     ]
    },
    {
     "name": "stdout",
     "output_type": "stream",
     "text": [
      "{'loss': 1.0968, 'grad_norm': 2.9442477226257324, 'learning_rate': 1.69501981653302e-05, 'epoch': 2.29}\n"
     ]
    },
    {
     "name": "stderr",
     "output_type": "stream",
     "text": [
      " 46%|████▌     | 1170/2530 [2:37:08<2:27:19,  6.50s/it]"
     ]
    },
    {
     "name": "stdout",
     "output_type": "stream",
     "text": [
      "{'loss': 1.1127, 'grad_norm': 4.0179972648620605, 'learning_rate': 1.6765373057642554e-05, 'epoch': 2.31}\n"
     ]
    },
    {
     "name": "stderr",
     "output_type": "stream",
     "text": [
      " 47%|████▋     | 1180/2530 [2:38:13<2:26:12,  6.50s/it]"
     ]
    },
    {
     "name": "stdout",
     "output_type": "stream",
     "text": [
      "{'loss': 1.101, 'grad_norm': 1.51995849609375, 'learning_rate': 1.6580275749017208e-05, 'epoch': 2.33}\n"
     ]
    },
    {
     "name": "stderr",
     "output_type": "stream",
     "text": [
      " 47%|████▋     | 1190/2530 [2:39:18<2:24:43,  6.48s/it]"
     ]
    },
    {
     "name": "stdout",
     "output_type": "stream",
     "text": [
      "{'loss': 1.1031, 'grad_norm': 2.8017945289611816, 'learning_rate': 1.639493477940539e-05, 'epoch': 2.35}\n"
     ]
    },
    {
     "name": "stderr",
     "output_type": "stream",
     "text": [
      " 47%|████▋     | 1200/2530 [2:40:23<2:23:54,  6.49s/it]"
     ]
    },
    {
     "name": "stdout",
     "output_type": "stream",
     "text": [
      "{'loss': 1.1111, 'grad_norm': 2.223665952682495, 'learning_rate': 1.6209378726328168e-05, 'epoch': 2.37}\n"
     ]
    },
    {
     "name": "stderr",
     "output_type": "stream",
     "text": [
      " 48%|████▊     | 1210/2530 [2:41:27<2:22:54,  6.50s/it]"
     ]
    },
    {
     "name": "stdout",
     "output_type": "stream",
     "text": [
      "{'loss': 1.1041, 'grad_norm': 2.1170573234558105, 'learning_rate': 1.6023636200470068e-05, 'epoch': 2.39}\n"
     ]
    },
    {
     "name": "stderr",
     "output_type": "stream",
     "text": [
      " 48%|████▊     | 1220/2530 [2:42:32<2:21:29,  6.48s/it]"
     ]
    },
    {
     "name": "stdout",
     "output_type": "stream",
     "text": [
      "{'loss': 1.1079, 'grad_norm': 2.9590256214141846, 'learning_rate': 1.583773584126766e-05, 'epoch': 2.41}\n"
     ]
    },
    {
     "name": "stderr",
     "output_type": "stream",
     "text": [
      " 49%|████▊     | 1230/2530 [2:43:37<2:20:25,  6.48s/it]"
     ]
    },
    {
     "name": "stdout",
     "output_type": "stream",
     "text": [
      "{'loss': 1.0945, 'grad_norm': 3.0380055904388428, 'learning_rate': 1.565170631249367e-05, 'epoch': 2.43}\n"
     ]
    },
    {
     "name": "stderr",
     "output_type": "stream",
     "text": [
      " 49%|████▉     | 1240/2530 [2:44:41<2:19:03,  6.47s/it]"
     ]
    },
    {
     "name": "stdout",
     "output_type": "stream",
     "text": [
      "{'loss': 1.0966, 'grad_norm': 2.144970417022705, 'learning_rate': 1.5465576297837337e-05, 'epoch': 2.45}\n"
     ]
    },
    {
     "name": "stderr",
     "output_type": "stream",
     "text": [
      " 49%|████▉     | 1250/2530 [2:45:46<2:18:17,  6.48s/it]"
     ]
    },
    {
     "name": "stdout",
     "output_type": "stream",
     "text": [
      "{'loss': 1.0951, 'grad_norm': 1.168903112411499, 'learning_rate': 1.5279374496481708e-05, 'epoch': 2.47}\n"
     ]
    },
    {
     "name": "stderr",
     "output_type": "stream",
     "text": [
      " 50%|████▉     | 1260/2530 [2:46:51<2:17:12,  6.48s/it]"
     ]
    },
    {
     "name": "stdout",
     "output_type": "stream",
     "text": [
      "{'loss': 1.1014, 'grad_norm': 2.0965237617492676, 'learning_rate': 1.5093129618678527e-05, 'epoch': 2.49}\n"
     ]
    },
    {
     "name": "stderr",
     "output_type": "stream",
     "text": [
      " 50%|█████     | 1270/2530 [2:47:55<2:16:03,  6.48s/it]"
     ]
    },
    {
     "name": "stdout",
     "output_type": "stream",
     "text": [
      "{'loss': 1.1024, 'grad_norm': 2.8617501258850098, 'learning_rate': 1.4906870381321476e-05, 'epoch': 2.51}\n"
     ]
    },
    {
     "name": "stderr",
     "output_type": "stream",
     "text": [
      " 51%|█████     | 1280/2530 [2:49:00<2:15:10,  6.49s/it]"
     ]
    },
    {
     "name": "stdout",
     "output_type": "stream",
     "text": [
      "{'loss': 1.0875, 'grad_norm': 2.158494472503662, 'learning_rate': 1.47206255035183e-05, 'epoch': 2.53}\n"
     ]
    },
    {
     "name": "stderr",
     "output_type": "stream",
     "text": [
      " 51%|█████     | 1290/2530 [2:50:05<2:13:50,  6.48s/it]"
     ]
    },
    {
     "name": "stdout",
     "output_type": "stream",
     "text": [
      "{'loss': 1.1096, 'grad_norm': 1.5240864753723145, 'learning_rate': 1.4534423702162662e-05, 'epoch': 2.55}\n"
     ]
    },
    {
     "name": "stderr",
     "output_type": "stream",
     "text": [
      " 51%|█████▏    | 1300/2530 [2:51:10<2:12:56,  6.48s/it]"
     ]
    },
    {
     "name": "stdout",
     "output_type": "stream",
     "text": [
      "{'loss': 1.1022, 'grad_norm': 2.2761449813842773, 'learning_rate': 1.434829368750633e-05, 'epoch': 2.57}\n"
     ]
    },
    {
     "name": "stderr",
     "output_type": "stream",
     "text": [
      " 52%|█████▏    | 1310/2530 [2:52:14<2:11:58,  6.49s/it]"
     ]
    },
    {
     "name": "stdout",
     "output_type": "stream",
     "text": [
      "{'loss': 1.1042, 'grad_norm': 2.215200662612915, 'learning_rate': 1.4162264158732343e-05, 'epoch': 2.59}\n"
     ]
    },
    {
     "name": "stderr",
     "output_type": "stream",
     "text": [
      " 52%|█████▏    | 1320/2530 [2:53:19<2:10:57,  6.49s/it]"
     ]
    },
    {
     "name": "stdout",
     "output_type": "stream",
     "text": [
      "{'loss': 1.1079, 'grad_norm': 1.698764443397522, 'learning_rate': 1.3976363799529938e-05, 'epoch': 2.61}\n"
     ]
    },
    {
     "name": "stderr",
     "output_type": "stream",
     "text": [
      " 53%|█████▎    | 1330/2530 [2:54:24<2:09:52,  6.49s/it]"
     ]
    },
    {
     "name": "stdout",
     "output_type": "stream",
     "text": [
      "{'loss': 1.1105, 'grad_norm': 4.84207010269165, 'learning_rate': 1.3790621273671834e-05, 'epoch': 2.63}\n"
     ]
    },
    {
     "name": "stderr",
     "output_type": "stream",
     "text": [
      " 53%|█████▎    | 1340/2530 [2:55:29<2:08:39,  6.49s/it]"
     ]
    },
    {
     "name": "stdout",
     "output_type": "stream",
     "text": [
      "{'loss': 1.1051, 'grad_norm': 3.454545259475708, 'learning_rate': 1.3605065220594605e-05, 'epoch': 2.65}\n"
     ]
    },
    {
     "name": "stderr",
     "output_type": "stream",
     "text": [
      " 53%|█████▎    | 1350/2530 [2:56:33<2:07:39,  6.49s/it]"
     ]
    },
    {
     "name": "stdout",
     "output_type": "stream",
     "text": [
      "{'loss': 1.1001, 'grad_norm': 4.542194843292236, 'learning_rate': 1.3419724250982795e-05, 'epoch': 2.67}\n"
     ]
    },
    {
     "name": "stderr",
     "output_type": "stream",
     "text": [
      " 54%|█████▍    | 1360/2530 [2:57:38<2:06:40,  6.50s/it]"
     ]
    },
    {
     "name": "stdout",
     "output_type": "stream",
     "text": [
      "{'loss': 1.0858, 'grad_norm': 2.3242154121398926, 'learning_rate': 1.3234626942357447e-05, 'epoch': 2.69}\n"
     ]
    },
    {
     "name": "stderr",
     "output_type": "stream",
     "text": [
      " 54%|█████▍    | 1370/2530 [2:58:43<2:05:08,  6.47s/it]"
     ]
    },
    {
     "name": "stdout",
     "output_type": "stream",
     "text": [
      "{'loss': 1.1243, 'grad_norm': 1.715355634689331, 'learning_rate': 1.3049801834669801e-05, 'epoch': 2.7}\n"
     ]
    },
    {
     "name": "stderr",
     "output_type": "stream",
     "text": [
      " 55%|█████▍    | 1380/2530 [2:59:47<2:04:10,  6.48s/it]"
     ]
    },
    {
     "name": "stdout",
     "output_type": "stream",
     "text": [
      "{'loss': 1.0955, 'grad_norm': 3.349112033843994, 'learning_rate': 1.2865277425900725e-05, 'epoch': 2.72}\n"
     ]
    },
    {
     "name": "stderr",
     "output_type": "stream",
     "text": [
      " 55%|█████▍    | 1390/2530 [3:00:52<2:03:03,  6.48s/it]"
     ]
    },
    {
     "name": "stdout",
     "output_type": "stream",
     "text": [
      "{'loss': 1.1006, 'grad_norm': 1.8213557004928589, 'learning_rate': 1.2681082167666647e-05, 'epoch': 2.74}\n"
     ]
    },
    {
     "name": "stderr",
     "output_type": "stream",
     "text": [
      " 55%|█████▌    | 1400/2530 [3:01:57<2:02:11,  6.49s/it]"
     ]
    },
    {
     "name": "stdout",
     "output_type": "stream",
     "text": [
      "{'loss': 1.1062, 'grad_norm': 2.8365318775177, 'learning_rate': 1.2497244460832644e-05, 'epoch': 2.76}\n"
     ]
    },
    {
     "name": "stderr",
     "output_type": "stream",
     "text": [
      " 56%|█████▌    | 1410/2530 [3:03:02<2:01:15,  6.50s/it]"
     ]
    },
    {
     "name": "stdout",
     "output_type": "stream",
     "text": [
      "{'loss': 1.0991, 'grad_norm': 2.0795340538024902, 'learning_rate': 1.2313792651133326e-05, 'epoch': 2.78}\n"
     ]
    },
    {
     "name": "stderr",
     "output_type": "stream",
     "text": [
      " 56%|█████▌    | 1420/2530 [3:04:06<1:59:54,  6.48s/it]"
     ]
    },
    {
     "name": "stdout",
     "output_type": "stream",
     "text": [
      "{'loss': 1.1026, 'grad_norm': 4.228910446166992, 'learning_rate': 1.2130755024802252e-05, 'epoch': 2.8}\n"
     ]
    },
    {
     "name": "stderr",
     "output_type": "stream",
     "text": [
      " 57%|█████▋    | 1430/2530 [3:05:11<1:59:00,  6.49s/it]"
     ]
    },
    {
     "name": "stdout",
     "output_type": "stream",
     "text": [
      "{'loss': 1.1009, 'grad_norm': 1.884877324104309, 'learning_rate': 1.1948159804210497e-05, 'epoch': 2.82}\n"
     ]
    },
    {
     "name": "stderr",
     "output_type": "stream",
     "text": [
      " 57%|█████▋    | 1440/2530 [3:06:16<1:57:44,  6.48s/it]"
     ]
    },
    {
     "name": "stdout",
     "output_type": "stream",
     "text": [
      "{'loss': 1.1118, 'grad_norm': 1.7092621326446533, 'learning_rate': 1.1766035143515077e-05, 'epoch': 2.84}\n"
     ]
    },
    {
     "name": "stderr",
     "output_type": "stream",
     "text": [
      " 57%|█████▋    | 1450/2530 [3:07:20<1:56:41,  6.48s/it]"
     ]
    },
    {
     "name": "stdout",
     "output_type": "stream",
     "text": [
      "{'loss': 1.0973, 'grad_norm': 1.0999305248260498, 'learning_rate': 1.1584409124317906e-05, 'epoch': 2.86}\n"
     ]
    },
    {
     "name": "stderr",
     "output_type": "stream",
     "text": [
      " 58%|█████▊    | 1460/2530 [3:08:25<1:55:40,  6.49s/it]"
     ]
    },
    {
     "name": "stdout",
     "output_type": "stream",
     "text": [
      "{'loss': 1.1015, 'grad_norm': 3.0418310165405273, 'learning_rate': 1.14033097513359e-05, 'epoch': 2.88}\n"
     ]
    },
    {
     "name": "stderr",
     "output_type": "stream",
     "text": [
      " 58%|█████▊    | 1470/2530 [3:09:30<1:54:23,  6.47s/it]"
     ]
    },
    {
     "name": "stdout",
     "output_type": "stream",
     "text": [
      "{'loss': 1.1063, 'grad_norm': 2.4686412811279297, 'learning_rate': 1.1222764948082973e-05, 'epoch': 2.9}\n"
     ]
    },
    {
     "name": "stderr",
     "output_type": "stream",
     "text": [
      " 58%|█████▊    | 1480/2530 [3:10:35<1:53:29,  6.49s/it]"
     ]
    },
    {
     "name": "stdout",
     "output_type": "stream",
     "text": [
      "{'loss': 1.0997, 'grad_norm': 2.3565738201141357, 'learning_rate': 1.1042802552564544e-05, 'epoch': 2.92}\n"
     ]
    },
    {
     "name": "stderr",
     "output_type": "stream",
     "text": [
      " 59%|█████▉    | 1490/2530 [3:11:39<1:52:17,  6.48s/it]"
     ]
    },
    {
     "name": "stdout",
     "output_type": "stream",
     "text": [
      "{'loss': 1.112, 'grad_norm': 3.2330892086029053, 'learning_rate': 1.086345031298522e-05, 'epoch': 2.94}\n"
     ]
    },
    {
     "name": "stderr",
     "output_type": "stream",
     "text": [
      " 59%|█████▉    | 1500/2530 [3:12:44<1:51:19,  6.49s/it]"
     ]
    },
    {
     "name": "stdout",
     "output_type": "stream",
     "text": [
      "{'loss': 1.0973, 'grad_norm': 4.444709777832031, 'learning_rate': 1.0684735883470333e-05, 'epoch': 2.96}\n"
     ]
    },
    {
     "name": "stderr",
     "output_type": "stream",
     "text": [
      " 60%|█████▉    | 1510/2530 [3:13:49<1:50:16,  6.49s/it]"
     ]
    },
    {
     "name": "stdout",
     "output_type": "stream",
     "text": [
      "{'loss': 1.0907, 'grad_norm': 2.9566493034362793, 'learning_rate': 1.0506686819801979e-05, 'epoch': 2.98}\n"
     ]
    },
    {
     "name": "stderr",
     "output_type": "stream",
     "text": [
      "                                                       \n",
      " 60%|██████    | 1519/2530 [3:28:57<1:49:11,  6.48s/it]"
     ]
    },
    {
     "name": "stdout",
     "output_type": "stream",
     "text": [
      "{'eval_loss': 1.1332805156707764, 'eval_runtime': 847.3466, 'eval_samples_per_second': 1.195, 'eval_steps_per_second': 0.598, 'epoch': 3.0}\n"
     ]
    },
    {
     "name": "stderr",
     "output_type": "stream",
     "text": [
      " 60%|██████    | 1520/2530 [3:29:03<73:19:39, 261.37s/it]"
     ]
    },
    {
     "name": "stdout",
     "output_type": "stream",
     "text": [
      "{'loss': 1.0711, 'grad_norm': 3.0342366695404053, 'learning_rate': 1.0329330575170221e-05, 'epoch': 3.0}\n"
     ]
    },
    {
     "name": "stderr",
     "output_type": "stream",
     "text": [
      " 60%|██████    | 1530/2530 [3:30:08<3:48:05, 13.69s/it]  "
     ]
    },
    {
     "name": "stdout",
     "output_type": "stream",
     "text": [
      "{'loss': 1.0748, 'grad_norm': 4.88809061050415, 'learning_rate': 1.0152694495940119e-05, 'epoch': 3.02}\n"
     ]
    },
    {
     "name": "stderr",
     "output_type": "stream",
     "text": [
      " 61%|██████    | 1540/2530 [3:31:13<1:50:20,  6.69s/it]"
     ]
    },
    {
     "name": "stdout",
     "output_type": "stream",
     "text": [
      "{'loss': 1.0931, 'grad_norm': 1.9179832935333252, 'learning_rate': 9.976805817435208e-06, 'epoch': 3.04}\n"
     ]
    },
    {
     "name": "stderr",
     "output_type": "stream",
     "text": [
      " 61%|██████▏   | 1550/2530 [3:32:17<1:45:47,  6.48s/it]"
     ]
    },
    {
     "name": "stdout",
     "output_type": "stream",
     "text": [
      "{'loss': 0.9972, 'grad_norm': 7.412996292114258, 'learning_rate': 9.80169165973814e-06, 'epoch': 3.06}\n"
     ]
    },
    {
     "name": "stderr",
     "output_type": "stream",
     "text": [
      " 62%|██████▏   | 1560/2530 [3:33:22<1:44:42,  6.48s/it]"
     ]
    },
    {
     "name": "stdout",
     "output_type": "stream",
     "text": [
      "{'loss': 1.0546, 'grad_norm': 17.79094123840332, 'learning_rate': 9.662176137124742e-06, 'epoch': 3.08}\n"
     ]
    },
    {
     "name": "stderr",
     "output_type": "stream",
     "text": [
      " 62%|██████▏   | 1570/2530 [3:34:27<1:43:56,  6.50s/it]"
     ]
    },
    {
     "name": "stdout",
     "output_type": "stream",
     "text": [
      "{'loss': 1.0704, 'grad_norm': 4.092397212982178, 'learning_rate': 9.48852407563511e-06, 'epoch': 3.1}\n"
     ]
    },
    {
     "name": "stderr",
     "output_type": "stream",
     "text": [
      " 62%|██████▏   | 1580/2530 [3:35:31<1:42:48,  6.49s/it]"
     ]
    },
    {
     "name": "stdout",
     "output_type": "stream",
     "text": [
      "{'loss': 0.9834, 'grad_norm': 5.293342590332031, 'learning_rate': 9.315721822580148e-06, 'epoch': 3.12}\n"
     ]
    },
    {
     "name": "stderr",
     "output_type": "stream",
     "text": [
      " 63%|██████▎   | 1590/2530 [3:36:36<1:41:48,  6.50s/it]"
     ]
    },
    {
     "name": "stdout",
     "output_type": "stream",
     "text": [
      "{'loss': 1.0667, 'grad_norm': 4.342841148376465, 'learning_rate': 9.143796022149936e-06, 'epoch': 3.14}\n"
     ]
    },
    {
     "name": "stderr",
     "output_type": "stream",
     "text": [
      " 63%|██████▎   | 1600/2530 [3:37:41<1:40:43,  6.50s/it]"
     ]
    },
    {
     "name": "stdout",
     "output_type": "stream",
     "text": [
      "{'loss': 1.0018, 'grad_norm': 5.999962329864502, 'learning_rate': 8.972773183395299e-06, 'epoch': 3.16}\n"
     ]
    },
    {
     "name": "stderr",
     "output_type": "stream",
     "text": [
      " 64%|██████▎   | 1610/2530 [3:38:46<1:39:44,  6.50s/it]"
     ]
    },
    {
     "name": "stdout",
     "output_type": "stream",
     "text": [
      "{'loss': 0.9285, 'grad_norm': 8.573980331420898, 'learning_rate': 8.802679676140373e-06, 'epoch': 3.18}\n"
     ]
    },
    {
     "name": "stderr",
     "output_type": "stream",
     "text": [
      " 64%|██████▍   | 1620/2530 [3:39:51<1:38:26,  6.49s/it]"
     ]
    },
    {
     "name": "stdout",
     "output_type": "stream",
     "text": [
      "{'loss': 0.9346, 'grad_norm': 5.249029159545898, 'learning_rate': 8.633541726916698e-06, 'epoch': 3.2}\n"
     ]
    },
    {
     "name": "stderr",
     "output_type": "stream",
     "text": [
      " 64%|██████▍   | 1630/2530 [3:40:56<1:37:14,  6.48s/it]"
     ]
    },
    {
     "name": "stdout",
     "output_type": "stream",
     "text": [
      "{'loss': 0.9654, 'grad_norm': 4.864335060119629, 'learning_rate': 8.465385414919363e-06, 'epoch': 3.22}\n"
     ]
    },
    {
     "name": "stderr",
     "output_type": "stream",
     "text": [
      " 65%|██████▍   | 1640/2530 [3:42:00<1:36:13,  6.49s/it]"
     ]
    },
    {
     "name": "stdout",
     "output_type": "stream",
     "text": [
      "{'loss': 0.9219, 'grad_norm': 5.9684648513793945, 'learning_rate': 8.298236667985894e-06, 'epoch': 3.24}\n"
     ]
    },
    {
     "name": "stderr",
     "output_type": "stream",
     "text": [
      " 65%|██████▌   | 1650/2530 [3:43:05<1:35:01,  6.48s/it]"
     ]
    },
    {
     "name": "stdout",
     "output_type": "stream",
     "text": [
      "{'loss': 0.9375, 'grad_norm': 4.694262981414795, 'learning_rate': 8.13212125859846e-06, 'epoch': 3.26}\n"
     ]
    },
    {
     "name": "stderr",
     "output_type": "stream",
     "text": [
      " 66%|██████▌   | 1660/2530 [3:44:10<1:34:06,  6.49s/it]"
     ]
    },
    {
     "name": "stdout",
     "output_type": "stream",
     "text": [
      "{'loss': 0.9394, 'grad_norm': 3.5855469703674316, 'learning_rate': 7.967064799910043e-06, 'epoch': 3.28}\n"
     ]
    },
    {
     "name": "stderr",
     "output_type": "stream",
     "text": [
      " 66%|██████▌   | 1670/2530 [3:45:15<1:33:01,  6.49s/it]"
     ]
    },
    {
     "name": "stdout",
     "output_type": "stream",
     "text": [
      "{'loss': 1.0385, 'grad_norm': 6.922179698944092, 'learning_rate': 7.803092741795183e-06, 'epoch': 3.3}\n"
     ]
    },
    {
     "name": "stderr",
     "output_type": "stream",
     "text": [
      " 66%|██████▋   | 1680/2530 [3:46:19<1:31:54,  6.49s/it]"
     ]
    },
    {
     "name": "stdout",
     "output_type": "stream",
     "text": [
      "{'loss': 0.9327, 'grad_norm': 3.674916982650757, 'learning_rate': 7.640230366925881e-06, 'epoch': 3.32}\n"
     ]
    },
    {
     "name": "stderr",
     "output_type": "stream",
     "text": [
      " 67%|██████▋   | 1690/2530 [3:47:24<1:30:44,  6.48s/it]"
     ]
    },
    {
     "name": "stdout",
     "output_type": "stream",
     "text": [
      "{'loss': 0.9604, 'grad_norm': 5.4354448318481445, 'learning_rate': 7.478502786873288e-06, 'epoch': 3.34}\n"
     ]
    },
    {
     "name": "stderr",
     "output_type": "stream",
     "text": [
      " 67%|██████▋   | 1700/2530 [3:48:29<1:29:36,  6.48s/it]"
     ]
    },
    {
     "name": "stdout",
     "output_type": "stream",
     "text": [
      "{'loss': 0.95, 'grad_norm': 7.069309711456299, 'learning_rate': 7.317934938235802e-06, 'epoch': 3.36}\n"
     ]
    },
    {
     "name": "stderr",
     "output_type": "stream",
     "text": [
      " 68%|██████▊   | 1710/2530 [3:49:34<1:28:42,  6.49s/it]"
     ]
    },
    {
     "name": "stdout",
     "output_type": "stream",
     "text": [
      "{'loss': 0.9483, 'grad_norm': 5.618178844451904, 'learning_rate': 7.158551578794089e-06, 'epoch': 3.38}\n"
     ]
    },
    {
     "name": "stderr",
     "output_type": "stream",
     "text": [
      " 68%|██████▊   | 1720/2530 [3:50:38<1:27:41,  6.50s/it]"
     ]
    },
    {
     "name": "stdout",
     "output_type": "stream",
     "text": [
      "{'loss': 0.9814, 'grad_norm': 4.6456193923950195, 'learning_rate': 7.000377283693728e-06, 'epoch': 3.4}\n"
     ]
    },
    {
     "name": "stderr",
     "output_type": "stream",
     "text": [
      " 68%|██████▊   | 1730/2530 [3:51:43<1:26:37,  6.50s/it]"
     ]
    },
    {
     "name": "stdout",
     "output_type": "stream",
     "text": [
      "{'loss': 1.0093, 'grad_norm': 5.172972679138184, 'learning_rate': 6.843436441655988e-06, 'epoch': 3.42}\n"
     ]
    },
    {
     "name": "stderr",
     "output_type": "stream",
     "text": [
      " 69%|██████▉   | 1740/2530 [3:52:48<1:25:30,  6.49s/it]"
     ]
    },
    {
     "name": "stdout",
     "output_type": "stream",
     "text": [
      "{'loss': 0.9464, 'grad_norm': 11.002119064331055, 'learning_rate': 6.68775325121738e-06, 'epoch': 3.44}\n"
     ]
    },
    {
     "name": "stderr",
     "output_type": "stream",
     "text": [
      " 69%|██████▉   | 1750/2530 [3:53:53<1:24:15,  6.48s/it]"
     ]
    },
    {
     "name": "stdout",
     "output_type": "stream",
     "text": [
      "{'loss': 0.9161, 'grad_norm': 10.811800956726074, 'learning_rate': 6.533351716998466e-06, 'epoch': 3.46}\n"
     ]
    },
    {
     "name": "stderr",
     "output_type": "stream",
     "text": [
      " 70%|██████▉   | 1760/2530 [3:54:57<1:23:13,  6.48s/it]"
     ]
    },
    {
     "name": "stdout",
     "output_type": "stream",
     "text": [
      "{'loss': 0.8014, 'grad_norm': 8.041816711425781, 'learning_rate': 6.380255646002654e-06, 'epoch': 3.47}\n"
     ]
    },
    {
     "name": "stderr",
     "output_type": "stream",
     "text": [
      " 70%|██████▉   | 1770/2530 [3:56:02<1:22:10,  6.49s/it]"
     ]
    },
    {
     "name": "stdout",
     "output_type": "stream",
     "text": [
      "{'loss': 0.957, 'grad_norm': 2.8815455436706543, 'learning_rate': 6.228488643945408e-06, 'epoch': 3.49}\n"
     ]
    },
    {
     "name": "stderr",
     "output_type": "stream",
     "text": [
      " 70%|███████   | 1780/2530 [3:57:07<1:20:44,  6.46s/it]"
     ]
    },
    {
     "name": "stdout",
     "output_type": "stream",
     "text": [
      "{'loss': 0.9551, 'grad_norm': 10.968076705932617, 'learning_rate': 6.078074111614502e-06, 'epoch': 3.51}\n"
     ]
    },
    {
     "name": "stderr",
     "output_type": "stream",
     "text": [
      " 71%|███████   | 1790/2530 [3:58:11<1:20:03,  6.49s/it]"
     ]
    },
    {
     "name": "stdout",
     "output_type": "stream",
     "text": [
      "{'loss': 0.87, 'grad_norm': 4.634321689605713, 'learning_rate': 5.929035241261899e-06, 'epoch': 3.53}\n"
     ]
    },
    {
     "name": "stderr",
     "output_type": "stream",
     "text": [
      " 71%|███████   | 1800/2530 [3:59:16<1:18:50,  6.48s/it]"
     ]
    },
    {
     "name": "stdout",
     "output_type": "stream",
     "text": [
      "{'loss': 0.9068, 'grad_norm': 6.077610015869141, 'learning_rate': 5.781395013027732e-06, 'epoch': 3.55}\n"
     ]
    },
    {
     "name": "stderr",
     "output_type": "stream",
     "text": [
      " 72%|███████▏  | 1810/2530 [4:00:21<1:17:52,  6.49s/it]"
     ]
    },
    {
     "name": "stdout",
     "output_type": "stream",
     "text": [
      "{'loss': 0.8498, 'grad_norm': 7.696475028991699, 'learning_rate': 5.635176191397048e-06, 'epoch': 3.57}\n"
     ]
    },
    {
     "name": "stderr",
     "output_type": "stream",
     "text": [
      " 72%|███████▏  | 1820/2530 [4:01:25<1:16:38,  6.48s/it]"
     ]
    },
    {
     "name": "stdout",
     "output_type": "stream",
     "text": [
      "{'loss': 0.812, 'grad_norm': 5.2518630027771, 'learning_rate': 5.490401321689762e-06, 'epoch': 3.59}\n"
     ]
    },
    {
     "name": "stderr",
     "output_type": "stream",
     "text": [
      " 72%|███████▏  | 1830/2530 [4:02:30<1:15:39,  6.48s/it]"
     ]
    },
    {
     "name": "stdout",
     "output_type": "stream",
     "text": [
      "{'loss': 0.9106, 'grad_norm': 11.879291534423828, 'learning_rate': 5.34709272658442e-06, 'epoch': 3.61}\n"
     ]
    },
    {
     "name": "stderr",
     "output_type": "stream",
     "text": [
      " 73%|███████▎  | 1840/2530 [4:03:35<1:14:35,  6.49s/it]"
     ]
    },
    {
     "name": "stdout",
     "output_type": "stream",
     "text": [
      "{'loss': 0.923, 'grad_norm': 7.267664432525635, 'learning_rate': 5.205272502676317e-06, 'epoch': 3.63}\n"
     ]
    },
    {
     "name": "stderr",
     "output_type": "stream",
     "text": [
      " 73%|███████▎  | 1850/2530 [4:04:40<1:13:24,  6.48s/it]"
     ]
    },
    {
     "name": "stdout",
     "output_type": "stream",
     "text": [
      "{'loss': 0.8918, 'grad_norm': 9.875836372375488, 'learning_rate': 5.0649625170703885e-06, 'epoch': 3.65}\n"
     ]
    },
    {
     "name": "stderr",
     "output_type": "stream",
     "text": [
      " 74%|███████▎  | 1860/2530 [4:05:44<1:12:28,  6.49s/it]"
     ]
    },
    {
     "name": "stdout",
     "output_type": "stream",
     "text": [
      "{'loss': 0.8569, 'grad_norm': 5.547942638397217, 'learning_rate': 4.926184404009605e-06, 'epoch': 3.67}\n"
     ]
    },
    {
     "name": "stderr",
     "output_type": "stream",
     "text": [
      " 74%|███████▍  | 1870/2530 [4:06:49<1:11:28,  6.50s/it]"
     ]
    },
    {
     "name": "stdout",
     "output_type": "stream",
     "text": [
      "{'loss': 0.7308, 'grad_norm': 9.12745189666748, 'learning_rate': 4.7889595615391775e-06, 'epoch': 3.69}\n"
     ]
    },
    {
     "name": "stderr",
     "output_type": "stream",
     "text": [
      " 74%|███████▍  | 1880/2530 [4:07:54<1:10:16,  6.49s/it]"
     ]
    },
    {
     "name": "stdout",
     "output_type": "stream",
     "text": [
      "{'loss': 0.734, 'grad_norm': 7.3858137130737305, 'learning_rate': 4.65330914820723e-06, 'epoch': 3.71}\n"
     ]
    },
    {
     "name": "stderr",
     "output_type": "stream",
     "text": [
      " 75%|███████▍  | 1890/2530 [4:08:59<1:09:07,  6.48s/it]"
     ]
    },
    {
     "name": "stdout",
     "output_type": "stream",
     "text": [
      "{'loss': 0.9383, 'grad_norm': 12.040438652038574, 'learning_rate': 4.519254079802386e-06, 'epoch': 3.73}\n"
     ]
    },
    {
     "name": "stderr",
     "output_type": "stream",
     "text": [
      " 75%|███████▌  | 1900/2530 [4:10:03<1:08:00,  6.48s/it]"
     ]
    },
    {
     "name": "stdout",
     "output_type": "stream",
     "text": [
      "{'loss': 0.8572, 'grad_norm': 6.978471755981445, 'learning_rate': 4.386815026128778e-06, 'epoch': 3.75}\n"
     ]
    },
    {
     "name": "stderr",
     "output_type": "stream",
     "text": [
      " 75%|███████▌  | 1910/2530 [4:11:08<1:07:01,  6.49s/it]"
     ]
    },
    {
     "name": "stdout",
     "output_type": "stream",
     "text": [
      "{'loss': 0.9254, 'grad_norm': 11.284137725830078, 'learning_rate': 4.256012407818996e-06, 'epoch': 3.77}\n"
     ]
    },
    {
     "name": "stderr",
     "output_type": "stream",
     "text": [
      " 76%|███████▌  | 1920/2530 [4:12:13<1:06:02,  6.50s/it]"
     ]
    },
    {
     "name": "stdout",
     "output_type": "stream",
     "text": [
      "{'loss': 0.8874, 'grad_norm': 17.712158203125, 'learning_rate': 4.1268663931854585e-06, 'epoch': 3.79}\n"
     ]
    },
    {
     "name": "stderr",
     "output_type": "stream",
     "text": [
      " 76%|███████▋  | 1930/2530 [4:13:18<1:04:53,  6.49s/it]"
     ]
    },
    {
     "name": "stdout",
     "output_type": "stream",
     "text": [
      "{'loss': 0.8042, 'grad_norm': 5.439753532409668, 'learning_rate': 3.999396895110668e-06, 'epoch': 3.81}\n"
     ]
    },
    {
     "name": "stderr",
     "output_type": "stream",
     "text": [
      " 77%|███████▋  | 1940/2530 [4:14:22<1:03:54,  6.50s/it]"
     ]
    },
    {
     "name": "stdout",
     "output_type": "stream",
     "text": [
      "{'loss': 0.9138, 'grad_norm': 9.912501335144043, 'learning_rate': 3.8736235679768985e-06, 'epoch': 3.83}\n"
     ]
    },
    {
     "name": "stderr",
     "output_type": "stream",
     "text": [
      " 77%|███████▋  | 1950/2530 [4:15:27<1:02:44,  6.49s/it]"
     ]
    },
    {
     "name": "stdout",
     "output_type": "stream",
     "text": [
      "{'loss': 0.8068, 'grad_norm': 9.117073059082031, 'learning_rate': 3.7495658046356556e-06, 'epoch': 3.85}\n"
     ]
    },
    {
     "name": "stderr",
     "output_type": "stream",
     "text": [
      " 77%|███████▋  | 1960/2530 [4:16:32<1:01:40,  6.49s/it]"
     ]
    },
    {
     "name": "stdout",
     "output_type": "stream",
     "text": [
      "{'loss': 0.8139, 'grad_norm': 6.98477840423584, 'learning_rate': 3.6272427334175628e-06, 'epoch': 3.87}\n"
     ]
    },
    {
     "name": "stderr",
     "output_type": "stream",
     "text": [
      " 78%|███████▊  | 1970/2530 [4:17:37<1:00:32,  6.49s/it]"
     ]
    },
    {
     "name": "stdout",
     "output_type": "stream",
     "text": [
      "{'loss': 0.8403, 'grad_norm': 10.16403579711914, 'learning_rate': 3.506673215182957e-06, 'epoch': 3.89}\n"
     ]
    },
    {
     "name": "stderr",
     "output_type": "stream",
     "text": [
      " 78%|███████▊  | 1980/2530 [4:18:42<59:26,  6.49s/it]  "
     ]
    },
    {
     "name": "stdout",
     "output_type": "stream",
     "text": [
      "{'loss': 0.7291, 'grad_norm': 6.269925117492676, 'learning_rate': 3.3878758404137627e-06, 'epoch': 3.91}\n"
     ]
    },
    {
     "name": "stderr",
     "output_type": "stream",
     "text": [
      " 79%|███████▊  | 1990/2530 [4:19:46<58:26,  6.49s/it]"
     ]
    },
    {
     "name": "stdout",
     "output_type": "stream",
     "text": [
      "{'loss': 0.9462, 'grad_norm': 11.131715774536133, 'learning_rate': 3.2708689263470565e-06, 'epoch': 3.93}\n"
     ]
    },
    {
     "name": "stderr",
     "output_type": "stream",
     "text": [
      " 79%|███████▉  | 2000/2530 [4:20:51<57:22,  6.49s/it]"
     ]
    },
    {
     "name": "stdout",
     "output_type": "stream",
     "text": [
      "{'loss': 0.9172, 'grad_norm': 13.193572998046875, 'learning_rate': 3.1556705141507245e-06, 'epoch': 3.95}\n"
     ]
    },
    {
     "name": "stderr",
     "output_type": "stream",
     "text": [
      " 79%|███████▉  | 2010/2530 [4:21:56<56:06,  6.47s/it]"
     ]
    },
    {
     "name": "stdout",
     "output_type": "stream",
     "text": [
      "{'loss': 0.7556, 'grad_norm': 11.998347282409668, 'learning_rate': 3.042298366141738e-06, 'epoch': 3.97}\n"
     ]
    },
    {
     "name": "stderr",
     "output_type": "stream",
     "text": [
      " 80%|███████▉  | 2020/2530 [4:23:00<55:04,  6.48s/it]"
     ]
    },
    {
     "name": "stdout",
     "output_type": "stream",
     "text": [
      "{'loss': 0.7583, 'grad_norm': 8.6522855758667, 'learning_rate': 2.930769963047394e-06, 'epoch': 3.99}\n"
     ]
    },
    {
     "name": "stderr",
     "output_type": "stream",
     "text": [
      "                                                     \n",
      " 80%|████████  | 2026/2530 [4:40:10<53:08,  6.33s/it]"
     ]
    },
    {
     "name": "stdout",
     "output_type": "stream",
     "text": [
      "{'eval_loss': 0.8006295561790466, 'eval_runtime': 991.9253, 'eval_samples_per_second': 1.021, 'eval_steps_per_second': 0.511, 'epoch': 4.0}\n"
     ]
    },
    {
     "name": "stderr",
     "output_type": "stream",
     "text": [
      " 80%|████████  | 2030/2530 [4:40:39<15:06:41, 108.80s/it]"
     ]
    },
    {
     "name": "stdout",
     "output_type": "stream",
     "text": [
      "{'loss': 0.7541, 'grad_norm': 11.304121017456055, 'learning_rate': 2.8211025013099806e-06, 'epoch': 4.01}\n"
     ]
    },
    {
     "name": "stderr",
     "output_type": "stream",
     "text": [
      " 81%|████████  | 2040/2530 [4:41:44<1:16:37,  9.38s/it]  "
     ]
    },
    {
     "name": "stdout",
     "output_type": "stream",
     "text": [
      "{'loss': 0.8002, 'grad_norm': 8.463007926940918, 'learning_rate': 2.713312890435277e-06, 'epoch': 4.03}\n"
     ]
    },
    {
     "name": "stderr",
     "output_type": "stream",
     "text": [
      " 81%|████████  | 2050/2530 [4:42:49<52:32,  6.57s/it]  "
     ]
    },
    {
     "name": "stdout",
     "output_type": "stream",
     "text": [
      "{'loss': 0.8808, 'grad_norm': 6.70296049118042, 'learning_rate': 2.6074177503852937e-06, 'epoch': 4.05}\n"
     ]
    },
    {
     "name": "stderr",
     "output_type": "stream",
     "text": [
      " 81%|████████▏ | 2060/2530 [4:43:54<50:50,  6.49s/it]"
     ]
    },
    {
     "name": "stdout",
     "output_type": "stream",
     "text": [
      "{'loss': 0.9161, 'grad_norm': 13.414787292480469, 'learning_rate': 2.5034334090156608e-06, 'epoch': 4.07}\n"
     ]
    },
    {
     "name": "stderr",
     "output_type": "stream",
     "text": [
      " 82%|████████▏ | 2070/2530 [4:44:58<49:46,  6.49s/it]"
     ]
    },
    {
     "name": "stdout",
     "output_type": "stream",
     "text": [
      "{'loss': 0.7668, 'grad_norm': 8.39021110534668, 'learning_rate': 2.4013758995580528e-06, 'epoch': 4.09}\n"
     ]
    },
    {
     "name": "stderr",
     "output_type": "stream",
     "text": [
      " 82%|████████▏ | 2080/2530 [4:46:03<48:42,  6.49s/it]"
     ]
    },
    {
     "name": "stdout",
     "output_type": "stream",
     "text": [
      "{'loss': 0.8573, 'grad_norm': 21.08426284790039, 'learning_rate': 2.3012609581480486e-06, 'epoch': 4.11}\n"
     ]
    },
    {
     "name": "stderr",
     "output_type": "stream",
     "text": [
      " 83%|████████▎ | 2090/2530 [4:47:08<47:34,  6.49s/it]"
     ]
    },
    {
     "name": "stdout",
     "output_type": "stream",
     "text": [
      "{'loss': 0.7019, 'grad_norm': 8.095500946044922, 'learning_rate': 2.2031040213987804e-06, 'epoch': 4.13}\n"
     ]
    },
    {
     "name": "stderr",
     "output_type": "stream",
     "text": [
      " 83%|████████▎ | 2100/2530 [4:48:13<46:30,  6.49s/it]"
     ]
    },
    {
     "name": "stdout",
     "output_type": "stream",
     "text": [
      "{'loss': 0.8291, 'grad_norm': 9.17888355255127, 'learning_rate': 2.10692022402079e-06, 'epoch': 4.15}\n"
     ]
    },
    {
     "name": "stderr",
     "output_type": "stream",
     "text": [
      " 83%|████████▎ | 2110/2530 [4:49:18<45:26,  6.49s/it]"
     ]
    },
    {
     "name": "stdout",
     "output_type": "stream",
     "text": [
      "{'loss': 0.7647, 'grad_norm': 9.185944557189941, 'learning_rate': 2.012724396488419e-06, 'epoch': 4.17}\n"
     ]
    },
    {
     "name": "stderr",
     "output_type": "stream",
     "text": [
      " 84%|████████▍ | 2120/2530 [4:50:22<43:54,  6.43s/it]"
     ]
    },
    {
     "name": "stdout",
     "output_type": "stream",
     "text": [
      "{'loss': 0.7499, 'grad_norm': 10.850695610046387, 'learning_rate': 1.920531062753118e-06, 'epoch': 4.19}\n"
     ]
    },
    {
     "name": "stderr",
     "output_type": "stream",
     "text": [
      " 84%|████████▍ | 2130/2530 [4:51:26<43:09,  6.47s/it]"
     ]
    },
    {
     "name": "stdout",
     "output_type": "stream",
     "text": [
      "{'loss': 0.6765, 'grad_norm': 15.76744270324707, 'learning_rate': 1.83035443800402e-06, 'epoch': 4.21}\n"
     ]
    },
    {
     "name": "stderr",
     "output_type": "stream",
     "text": [
      " 85%|████████▍ | 2140/2530 [4:52:31<42:04,  6.47s/it]"
     ]
    },
    {
     "name": "stdout",
     "output_type": "stream",
     "text": [
      "{'loss': 0.7398, 'grad_norm': 6.349808692932129, 'learning_rate': 1.742208426476093e-06, 'epoch': 4.23}\n"
     ]
    },
    {
     "name": "stderr",
     "output_type": "stream",
     "text": [
      " 85%|████████▍ | 2150/2530 [4:53:36<41:03,  6.48s/it]"
     ]
    },
    {
     "name": "stdout",
     "output_type": "stream",
     "text": [
      "{'loss': 0.718, 'grad_norm': 18.586870193481445, 'learning_rate': 1.6561066193062912e-06, 'epoch': 4.24}\n"
     ]
    },
    {
     "name": "stderr",
     "output_type": "stream",
     "text": [
      " 85%|████████▌ | 2160/2530 [4:54:40<39:57,  6.48s/it]"
     ]
    },
    {
     "name": "stdout",
     "output_type": "stream",
     "text": [
      "{'loss': 0.8302, 'grad_norm': 5.394116401672363, 'learning_rate': 1.5720622924379295e-06, 'epoch': 4.26}\n"
     ]
    },
    {
     "name": "stderr",
     "output_type": "stream",
     "text": [
      " 86%|████████▌ | 2170/2530 [4:55:45<38:55,  6.49s/it]"
     ]
    },
    {
     "name": "stdout",
     "output_type": "stream",
     "text": [
      "{'loss': 0.6876, 'grad_norm': 9.859572410583496, 'learning_rate': 1.4900884045736922e-06, 'epoch': 4.28}\n"
     ]
    },
    {
     "name": "stderr",
     "output_type": "stream",
     "text": [
      " 86%|████████▌ | 2180/2530 [4:56:50<37:51,  6.49s/it]"
     ]
    },
    {
     "name": "stdout",
     "output_type": "stream",
     "text": [
      "{'loss': 0.8178, 'grad_norm': 11.324897766113281, 'learning_rate': 1.4101975951775482e-06, 'epoch': 4.3}\n"
     ]
    },
    {
     "name": "stderr",
     "output_type": "stream",
     "text": [
      " 87%|████████▋ | 2190/2530 [4:57:55<36:44,  6.48s/it]"
     ]
    },
    {
     "name": "stdout",
     "output_type": "stream",
     "text": [
      "{'loss': 0.8623, 'grad_norm': 15.308244705200195, 'learning_rate': 1.3324021825258692e-06, 'epoch': 4.32}\n"
     ]
    },
    {
     "name": "stderr",
     "output_type": "stream",
     "text": [
      " 87%|████████▋ | 2200/2530 [4:58:59<35:39,  6.48s/it]"
     ]
    },
    {
     "name": "stdout",
     "output_type": "stream",
     "text": [
      "{'loss': 0.745, 'grad_norm': 7.48248291015625, 'learning_rate': 1.2567141618081056e-06, 'epoch': 4.34}\n"
     ]
    },
    {
     "name": "stderr",
     "output_type": "stream",
     "text": [
      " 87%|████████▋ | 2210/2530 [5:00:04<34:35,  6.48s/it]"
     ]
    },
    {
     "name": "stdout",
     "output_type": "stream",
     "text": [
      "{'loss': 0.7175, 'grad_norm': 14.235809326171875, 'learning_rate': 1.1831452032772499e-06, 'epoch': 4.36}\n"
     ]
    },
    {
     "name": "stderr",
     "output_type": "stream",
     "text": [
      " 88%|████████▊ | 2220/2530 [5:01:09<33:26,  6.47s/it]"
     ]
    },
    {
     "name": "stdout",
     "output_type": "stream",
     "text": [
      "{'loss': 0.745, 'grad_norm': 14.712079048156738, 'learning_rate': 1.1117066504504158e-06, 'epoch': 4.38}\n"
     ]
    },
    {
     "name": "stderr",
     "output_type": "stream",
     "text": [
      " 88%|████████▊ | 2230/2530 [5:02:13<32:24,  6.48s/it]"
     ]
    },
    {
     "name": "stdout",
     "output_type": "stream",
     "text": [
      "{'loss': 0.7993, 'grad_norm': 17.00355339050293, 'learning_rate': 1.0424095183598098e-06, 'epoch': 4.4}\n"
     ]
    },
    {
     "name": "stderr",
     "output_type": "stream",
     "text": [
      " 89%|████████▊ | 2240/2530 [5:03:18<31:20,  6.48s/it]"
     ]
    },
    {
     "name": "stdout",
     "output_type": "stream",
     "text": [
      "{'loss': 0.5189, 'grad_norm': 7.863236904144287, 'learning_rate': 9.752644918543008e-07, 'epoch': 4.42}\n"
     ]
    },
    {
     "name": "stderr",
     "output_type": "stream",
     "text": [
      " 89%|████████▉ | 2250/2530 [5:04:23<30:12,  6.47s/it]"
     ]
    },
    {
     "name": "stdout",
     "output_type": "stream",
     "text": [
      "{'loss': 0.8039, 'grad_norm': 18.050479888916016, 'learning_rate': 9.102819239519683e-07, 'epoch': 4.44}\n"
     ]
    },
    {
     "name": "stderr",
     "output_type": "stream",
     "text": [
      " 89%|████████▉ | 2260/2530 [5:05:27<29:05,  6.46s/it]"
     ]
    },
    {
     "name": "stdout",
     "output_type": "stream",
     "text": [
      "{'loss': 0.7518, 'grad_norm': 12.14304256439209, 'learning_rate': 8.474718342437643e-07, 'epoch': 4.46}\n"
     ]
    },
    {
     "name": "stderr",
     "output_type": "stream",
     "text": [
      " 90%|████████▉ | 2270/2530 [5:06:32<28:04,  6.48s/it]"
     ]
    },
    {
     "name": "stdout",
     "output_type": "stream",
     "text": [
      "{'loss': 0.7931, 'grad_norm': 12.990486145019531, 'learning_rate': 7.868439073486073e-07, 'epoch': 4.48}\n"
     ]
    },
    {
     "name": "stderr",
     "output_type": "stream",
     "text": [
      " 90%|█████████ | 2280/2530 [5:07:37<27:02,  6.49s/it]"
     ]
    },
    {
     "name": "stdout",
     "output_type": "stream",
     "text": [
      "{'loss': 0.7615, 'grad_norm': 11.650672912597656, 'learning_rate': 7.2840749142013e-07, 'epoch': 4.5}\n"
     ]
    },
    {
     "name": "stderr",
     "output_type": "stream",
     "text": [
      " 91%|█████████ | 2290/2530 [5:08:42<25:57,  6.49s/it]"
     ]
    },
    {
     "name": "stdout",
     "output_type": "stream",
     "text": [
      "{'loss': 0.6934, 'grad_norm': 7.159228324890137, 'learning_rate': 6.721715967052794e-07, 'epoch': 4.52}\n"
     ]
    },
    {
     "name": "stderr",
     "output_type": "stream",
     "text": [
      " 91%|█████████ | 2300/2530 [5:09:46<24:54,  6.50s/it]"
     ]
    },
    {
     "name": "stdout",
     "output_type": "stream",
     "text": [
      "{'loss': 0.9263, 'grad_norm': 10.02138900756836, 'learning_rate': 6.181448941550543e-07, 'epoch': 4.54}\n"
     ]
    },
    {
     "name": "stderr",
     "output_type": "stream",
     "text": [
      " 91%|█████████▏| 2310/2530 [5:10:51<23:44,  6.48s/it]"
     ]
    },
    {
     "name": "stdout",
     "output_type": "stream",
     "text": [
      "{'loss': 0.761, 'grad_norm': 11.731865882873535, 'learning_rate': 5.663357140875303e-07, 'epoch': 4.56}\n"
     ]
    },
    {
     "name": "stderr",
     "output_type": "stream",
     "text": [
      " 92%|█████████▏| 2320/2530 [5:11:56<22:37,  6.47s/it]"
     ]
    },
    {
     "name": "stdout",
     "output_type": "stream",
     "text": [
      "{'loss': 0.6946, 'grad_norm': 10.577459335327148, 'learning_rate': 5.16752044903423e-07, 'epoch': 4.58}\n"
     ]
    },
    {
     "name": "stderr",
     "output_type": "stream",
     "text": [
      " 92%|█████████▏| 2330/2530 [5:13:00<21:26,  6.43s/it]"
     ]
    },
    {
     "name": "stdout",
     "output_type": "stream",
     "text": [
      "{'loss': 0.8942, 'grad_norm': 9.19836139678955, 'learning_rate': 4.69401531854366e-07, 'epoch': 4.6}\n"
     ]
    },
    {
     "name": "stderr",
     "output_type": "stream",
     "text": [
      " 92%|█████████▏| 2340/2530 [5:14:05<20:34,  6.50s/it]"
     ]
    },
    {
     "name": "stdout",
     "output_type": "stream",
     "text": [
      "{'loss': 0.6942, 'grad_norm': 11.419611930847168, 'learning_rate': 4.242914758640848e-07, 'epoch': 4.62}\n"
     ]
    },
    {
     "name": "stderr",
     "output_type": "stream",
     "text": [
      " 93%|█████████▎| 2350/2530 [5:15:10<19:30,  6.50s/it]"
     ]
    },
    {
     "name": "stdout",
     "output_type": "stream",
     "text": [
      "{'loss': 0.7775, 'grad_norm': 11.451339721679688, 'learning_rate': 3.8142883240269767e-07, 'epoch': 4.64}\n"
     ]
    },
    {
     "name": "stderr",
     "output_type": "stream",
     "text": [
      " 93%|█████████▎| 2360/2530 [5:16:14<18:21,  6.48s/it]"
     ]
    },
    {
     "name": "stdout",
     "output_type": "stream",
     "text": [
      "{'loss': 0.7302, 'grad_norm': 14.956415176391602, 'learning_rate': 3.4082021041423826e-07, 'epoch': 4.66}\n"
     ]
    },
    {
     "name": "stderr",
     "output_type": "stream",
     "text": [
      " 94%|█████████▎| 2370/2530 [5:17:19<17:16,  6.48s/it]"
     ]
    },
    {
     "name": "stdout",
     "output_type": "stream",
     "text": [
      "{'loss': 0.804, 'grad_norm': 12.54621696472168, 'learning_rate': 3.0247187129764266e-07, 'epoch': 4.68}\n"
     ]
    },
    {
     "name": "stderr",
     "output_type": "stream",
     "text": [
      " 94%|█████████▍| 2380/2530 [5:18:24<16:12,  6.48s/it]"
     ]
    },
    {
     "name": "stdout",
     "output_type": "stream",
     "text": [
      "{'loss': 0.7354, 'grad_norm': 7.35681676864624, 'learning_rate': 2.66389727941308e-07, 'epoch': 4.7}\n"
     ]
    },
    {
     "name": "stderr",
     "output_type": "stream",
     "text": [
      " 94%|█████████▍| 2390/2530 [5:19:28<15:08,  6.49s/it]"
     ]
    },
    {
     "name": "stdout",
     "output_type": "stream",
     "text": [
      "{'loss': 0.7277, 'grad_norm': 14.896217346191406, 'learning_rate': 2.3257934381138714e-07, 'epoch': 4.72}\n"
     ]
    },
    {
     "name": "stderr",
     "output_type": "stream",
     "text": [
      " 95%|█████████▍| 2400/2530 [5:20:33<14:04,  6.49s/it]"
     ]
    },
    {
     "name": "stdout",
     "output_type": "stream",
     "text": [
      "{'loss': 0.7112, 'grad_norm': 6.409152507781982, 'learning_rate': 2.0104593209397116e-07, 'epoch': 4.74}\n"
     ]
    },
    {
     "name": "stderr",
     "output_type": "stream",
     "text": [
      " 95%|█████████▌| 2410/2530 [5:21:38<12:58,  6.49s/it]"
     ]
    },
    {
     "name": "stdout",
     "output_type": "stream",
     "text": [
      "{'loss': 0.5852, 'grad_norm': 7.409276008605957, 'learning_rate': 1.717943548912626e-07, 'epoch': 4.76}\n"
     ]
    },
    {
     "name": "stderr",
     "output_type": "stream",
     "text": [
      " 96%|█████████▌| 2420/2530 [5:22:43<11:53,  6.49s/it]"
     ]
    },
    {
     "name": "stdout",
     "output_type": "stream",
     "text": [
      "{'loss': 0.8388, 'grad_norm': 10.340348243713379, 'learning_rate': 1.4482912247190506e-07, 'epoch': 4.78}\n"
     ]
    },
    {
     "name": "stderr",
     "output_type": "stream",
     "text": [
      " 96%|█████████▌| 2430/2530 [5:23:47<10:42,  6.43s/it]"
     ]
    },
    {
     "name": "stdout",
     "output_type": "stream",
     "text": [
      "{'loss': 0.7769, 'grad_norm': 17.462360382080078, 'learning_rate': 1.2015439257554274e-07, 'epoch': 4.8}\n"
     ]
    },
    {
     "name": "stderr",
     "output_type": "stream",
     "text": [
      " 96%|█████████▋| 2440/2530 [5:24:51<09:41,  6.46s/it]"
     ]
    },
    {
     "name": "stdout",
     "output_type": "stream",
     "text": [
      "{'loss': 0.8206, 'grad_norm': 7.803554058074951, 'learning_rate': 9.777396977174668e-08, 'epoch': 4.82}\n"
     ]
    },
    {
     "name": "stderr",
     "output_type": "stream",
     "text": [
      " 97%|█████████▋| 2450/2530 [5:25:56<08:37,  6.47s/it]"
     ]
    },
    {
     "name": "stdout",
     "output_type": "stream",
     "text": [
      "{'loss': 0.8422, 'grad_norm': 9.731578826904297, 'learning_rate': 7.769130487339071e-08, 'epoch': 4.84}\n"
     ]
    },
    {
     "name": "stderr",
     "output_type": "stream",
     "text": [
      " 97%|█████████▋| 2460/2530 [5:27:00<07:33,  6.47s/it]"
     ]
    },
    {
     "name": "stdout",
     "output_type": "stream",
     "text": [
      "{'loss': 0.8213, 'grad_norm': 18.144376754760742, 'learning_rate': 5.99094944045736e-08, 'epoch': 4.86}\n"
     ]
    },
    {
     "name": "stderr",
     "output_type": "stream",
     "text": [
      " 98%|█████████▊| 2470/2530 [5:28:05<06:29,  6.50s/it]"
     ]
    },
    {
     "name": "stdout",
     "output_type": "stream",
     "text": [
      "{'loss': 0.6953, 'grad_norm': 8.089004516601562, 'learning_rate': 4.4431280123169436e-08, 'epoch': 4.88}\n"
     ]
    },
    {
     "name": "stderr",
     "output_type": "stream",
     "text": [
      " 98%|█████████▊| 2480/2530 [5:29:10<05:24,  6.49s/it]"
     ]
    },
    {
     "name": "stdout",
     "output_type": "stream",
     "text": [
      "{'loss': 0.661, 'grad_norm': 8.362761497497559, 'learning_rate': 3.125904859808237e-08, 'epoch': 4.9}\n"
     ]
    },
    {
     "name": "stderr",
     "output_type": "stream",
     "text": [
      " 98%|█████████▊| 2490/2530 [5:30:15<04:18,  6.47s/it]"
     ]
    },
    {
     "name": "stdout",
     "output_type": "stream",
     "text": [
      "{'loss': 0.8195, 'grad_norm': 14.074579238891602, 'learning_rate': 2.0394830841259373e-08, 'epoch': 4.92}\n"
     ]
    },
    {
     "name": "stderr",
     "output_type": "stream",
     "text": [
      " 99%|█████████▉| 2500/2530 [5:31:19<03:11,  6.37s/it]"
     ]
    },
    {
     "name": "stdout",
     "output_type": "stream",
     "text": [
      "{'loss': 0.729, 'grad_norm': 13.121773719787598, 'learning_rate': 1.1840301994535674e-08, 'epoch': 4.94}\n"
     ]
    },
    {
     "name": "stderr",
     "output_type": "stream",
     "text": [
      " 99%|█████████▉| 2510/2530 [5:32:24<02:09,  6.48s/it]"
     ]
    },
    {
     "name": "stdout",
     "output_type": "stream",
     "text": [
      "{'loss': 0.8098, 'grad_norm': 10.476983070373535, 'learning_rate': 5.596781071339763e-09, 'epoch': 4.96}\n"
     ]
    },
    {
     "name": "stderr",
     "output_type": "stream",
     "text": [
      "100%|█████████▉| 2520/2530 [5:33:29<01:04,  6.47s/it]"
     ]
    },
    {
     "name": "stdout",
     "output_type": "stream",
     "text": [
      "{'loss': 0.7323, 'grad_norm': 9.920268058776855, 'learning_rate': 1.6652307533260303e-09, 'epoch': 4.98}\n"
     ]
    },
    {
     "name": "stderr",
     "output_type": "stream",
     "text": [
      "100%|██████████| 2530/2530 [5:34:33<00:00,  6.46s/it]"
     ]
    },
    {
     "name": "stdout",
     "output_type": "stream",
     "text": [
      "{'loss': 0.6974, 'grad_norm': 13.007787704467773, 'learning_rate': 4.625724192686143e-11, 'epoch': 5.0}\n"
     ]
    },
    {
     "name": "stderr",
     "output_type": "stream",
     "text": [
      "                                                     \n",
      "100%|██████████| 2530/2530 [5:51:10<00:00,  6.46s/it]"
     ]
    },
    {
     "name": "stdout",
     "output_type": "stream",
     "text": [
      "{'eval_loss': 0.7807053327560425, 'eval_runtime': 995.0304, 'eval_samples_per_second': 1.018, 'eval_steps_per_second': 0.51, 'epoch': 5.0}\n"
     ]
    },
    {
     "name": "stderr",
     "output_type": "stream",
     "text": [
      "100%|██████████| 2530/2530 [5:51:12<00:00,  8.33s/it]"
     ]
    },
    {
     "name": "stdout",
     "output_type": "stream",
     "text": [
      "{'train_runtime': 21072.8878, 'train_samples_per_second': 0.961, 'train_steps_per_second': 0.12, 'train_loss': 0.9983279559923255, 'epoch': 5.0}\n"
     ]
    },
    {
     "name": "stderr",
     "output_type": "stream",
     "text": [
      "\n"
     ]
    },
    {
     "data": {
      "text/plain": [
       "TrainOutput(global_step=2530, training_loss=0.9983279559923255, metrics={'train_runtime': 21072.8878, 'train_samples_per_second': 0.961, 'train_steps_per_second': 0.12, 'total_flos': 1.3309223087812608e+16, 'train_loss': 0.9983279559923255, 'epoch': 4.995064165844028})"
      ]
     },
     "execution_count": 47,
     "metadata": {},
     "output_type": "execute_result"
    }
   ],
   "source": [
    "# Train the model\n",
    "trainer.train()"
   ]
  },
  {
   "cell_type": "code",
   "execution_count": 48,
   "metadata": {},
   "outputs": [
    {
     "name": "stdout",
     "output_type": "stream",
     "text": [
      "Number of training examples: 4051\n",
      "Batch size: 2\n"
     ]
    }
   ],
   "source": [
    "print(f\"Number of training examples: {len(train_dataset)}\")\n",
    "print(f\"Batch size: {training_args.per_device_train_batch_size}\")\n"
   ]
  },
  {
   "cell_type": "code",
   "execution_count": 49,
   "metadata": {},
   "outputs": [
    {
     "data": {
      "text/plain": [
       "('./longformer_model3\\\\tokenizer_config.json',\n",
       " './longformer_model3\\\\special_tokens_map.json',\n",
       " './longformer_model3\\\\vocab.json',\n",
       " './longformer_model3\\\\merges.txt',\n",
       " './longformer_model3\\\\added_tokens.json')"
      ]
     },
     "execution_count": 49,
     "metadata": {},
     "output_type": "execute_result"
    }
   ],
   "source": [
    "# Save the trained model and tokenizer\n",
    "model.save_pretrained('./longformer_model3')\n",
    "tokenizer.save_pretrained('./longformer_model3')"
   ]
  },
  {
   "cell_type": "code",
   "execution_count": 50,
   "metadata": {},
   "outputs": [
    {
     "name": "stderr",
     "output_type": "stream",
     "text": [
      "100%|██████████| 507/507 [16:35<00:00,  1.96s/it]\n"
     ]
    }
   ],
   "source": [
    "# Evaluate the model\n",
    "results = trainer.evaluate()"
   ]
  },
  {
   "cell_type": "code",
   "execution_count": 51,
   "metadata": {},
   "outputs": [
    {
     "name": "stdout",
     "output_type": "stream",
     "text": [
      "{'eval_loss': 0.7807053327560425, 'eval_runtime': 997.624, 'eval_samples_per_second': 1.015, 'eval_steps_per_second': 0.508, 'epoch': 4.995064165844028}\n"
     ]
    }
   ],
   "source": [
    "print(results)"
   ]
  },
  {
   "cell_type": "code",
   "execution_count": 52,
   "metadata": {},
   "outputs": [
    {
     "name": "stderr",
     "output_type": "stream",
     "text": [
      "100%|██████████| 507/507 [16:40<00:00,  1.97s/it]"
     ]
    },
    {
     "name": "stdout",
     "output_type": "stream",
     "text": [
      "Accuracy: 0.6614\n",
      "F1 Score: 0.6564\n",
      "Precision: 0.6601\n",
      "Recall: 0.6614\n"
     ]
    },
    {
     "name": "stderr",
     "output_type": "stream",
     "text": [
      "\n"
     ]
    }
   ],
   "source": [
    "# After training, get predictions on the validation dataset\n",
    "predictions = trainer.predict(val_dataset)\n",
    "\n",
    "# Get the predicted logits\n",
    "logits = predictions.predictions\n",
    "\n",
    "# Convert logits to predicted class labels\n",
    "predicted_labels = np.argmax(logits, axis=1)\n",
    "\n",
    "# Get the true labels\n",
    "true_labels = val_labels\n",
    "\n",
    "#  Calculate metrics\n",
    "accuracy = accuracy_score(true_labels, predicted_labels)\n",
    "f1 = f1_score(true_labels, predicted_labels, average='weighted')\n",
    "precision = precision_score(true_labels, predicted_labels, average='weighted')\n",
    "recall = recall_score(true_labels, predicted_labels, average='weighted')\n",
    "\n",
    "print(f\"Accuracy: {accuracy:.4f}\")\n",
    "print(f\"F1 Score: {f1:.4f}\")\n",
    "print(f\"Precision: {precision:.4f}\")\n",
    "print(f\"Recall: {recall:.4f}\")"
   ]
  },
  {
   "cell_type": "code",
   "execution_count": null,
   "metadata": {},
   "outputs": [
    {
     "name": "stdout",
     "output_type": "stream",
     "text": [
      "Model and tokenizer successfully loaded!\n",
      "Text 1: TatarMedia.ID - Jakarta, Komitmen untuk terus tumbuh dan memberikan layanan terbaik kepada para nasabahnya terus ditunjukkan oleh PT Bank Rakyat Indonesia (Pesero) Tbk atau BRI.  Hal ini dibuktikan melalui penghargaan Total Service Quality Satisfaction based on Customer Perception Survey SQIndex 2024 dengan Predikat Diamond di ajang Service Quality Awards 2024.  SQ Award merupakan penghargaan bergengsi bertaraf nasional yang telah diadakan sejak tahun 2007 oleh Majalah Marketing dan Customer Action Recognition and Reward Experience (CARRE). Kali ini, penghargaan diberikan pada 7 Agustus 2024 di Sky Ayana Jimbaran, Bali.  Penghargaan ini bertujuan untuk menganugerahkan perusahaan-perusahaan yang berhasil memberikan layanan terbaik pada industrinya masing-masing dengan meraih nilai tertinggi dan di atas standar industri pada Service Quality Index (SQIndex).  Adapun indikator utama yang dinilai yakni kualitas layanan, meliputi Service Accessibility, Service Process, People, Service Solution dan Perceived Service Value.  Terkait hal ini, Direktur Bisnis Konsumer BRI Handayani mengatakan bahwa penghargaan ini menjadi bukti nyata dari upaya BRI untuk terus berinovasi dan memberikan layanan terbaik bagi para nasabah prima, atau yang kerap dikenal sebagai Pribadi Terpilih BRI.  \"Per 2024 ini, BRI Prioritas telah memenangkan SQ Award selama enam tahun berturut-turut dari penghargaan pertama diterima pada tahun 2019,\" ujarnya.  Seiring dengan penghargaan tersebut BRI juga terus memperluas dan meningkatkan layanannya untuk memenuhi kebutuhan nasabah dengan berbagai fasilitas yang tersedia.  Tercatat saat ini, total outlet layanan nasabah prima BRI sebanyak 207, terdiri dari 1 Signature Private BRI Outlet, 41 Sentra Layanan BRI Prioritas, dan 165 Priority Lounge yang tersebar di seluruh Indonesia.  Selain itu, BRI juga memiliki 136 Kantor Cabang yang mempunyai izin sebagai Agen Penjual Efek Reksa Dana (APERD) dari Otoritas Jasa Keuangan (OJK).\n",
      "True Label: Positive, Predicted Label: Positive\n",
      "\n",
      "Text 2: DIALEKTIKA — Sukses digelar, Pesta Rakyat PERSIB memperkenalkan secara resmi seluruh anggota tim, jersey, dan mitra sponsor Persib untuk bermain di Liga 1 2024/2025.  Pesta Rakyat PERSIB berlangsung di GOR C-Tra Arena, di Jalan Cikutra, Kota Bandung, Jawa Barat, Minggu, 4 Agustus 2024.  Ribuan Bobotoh, bersama dengan seluruh staf, ofisial, dan jajaran direksi PT PERSIB Bandung Bermartabat (PBB), menghadiri Pesta Rakyat PERSIB.  Presentasi mitra sponsor Persib Bandung menandai peluncuran Pesta Rakyat PERSIB. Salah satunya adalah Socios, Indofood, Kopi ABC, InterSport by Pria Punya Selera, Planet Persib, Greenfields, Le Minerale, Teh Pucuk Harum, dan Panther Energy Drink.  Para model ditampilkan di atas panggung bersama Ega Robot, menampilkan jersey resmi Persib Bandung yang akan digunakan selama Liga 1 musim 2024/2025 dan AFC Champions League 2.  Para pemain Persib dipanggil ke atas panggung untuk memperkenalkan diri sebelum acara ditutup.  Seluruh tim pelatih dan ofisial tim kemudian mengikuti mereka ke atas panggung.  Bobotoh yang memadati GOR C-Tra Arena dengan histeris menyambut dan mengelu-elukan setiap pemain, pelath, dan ofisial tim yang luar biasa.  Sebelum itu, Glenn T. Sugita, CEO PT PERSIB Bandung Bermartabat (PBB), memberikan sambutan secara online dan meminta semua orang, termasuk Bobotoh di seluruh dunia, untuk kembali mendukung perjuangan Persib.  “Kita harus bekerja sama untuk mendukung para punggawa Persib dengan dukungan, dedikasi, dan kesetiaan tulus, dan tetap bersama dalam kebahagiaan maupun kesedihan,” ungkapnya.  “Mari kita sambut musim baru 2024/2025 ini bersama keluarga PERSIB dengan satu tujuan: kemenangan Liga 1 musim 2024/2025 dan keberhasilan di AFC Champions League 2 (ACL 2),” sambung Glenn.  Sementara itu, Bobotoh memiliki kesempatan untuk berbincang dengan Manajer Persib H. Umuh Muchtar, pelatih Bojan Hodak, dan kapten tim Marck Klok pada saat yang sama.  Dengan dukungan Bobotoh, mereka berharap Persib dapat kembali menjadi juara.  Umuh Muchtar mengatakan kepada Bobotoh, “Saya ingin mengucapkan terima kasih atas dukungannya pada musim lalu sehingga kami bisa menjadi juara. Pokoknya, kita berharap bisa juara.”  “Saya percaya dukungan besar kalian (Bobotoh semua) akan menjadi motivasi untuk back-to-back tahun ini,” kata Marc Klok, kapten tim Persib.  Pesta Rakyat PERSIB dimeriahkan oleh band-band terkenal serta etnomusikalisasi Pop Sunda. Musik penutup dari KOIL Band menampilkan beberapa lagu mereka dan satu lagu barunya untuk Persib. Lagu ini menginspirasi Bobotoh Persib untuk terus mendukung tim kesayangan mereka untuk menang, bukan untuk perang!  Perampingan Squad Persib  Zalnando dan Reky Rahayu tidak tampak dalam launching skuad Persib hari ini.  Di acara Pesta Rakyat PERSIB diumumkan bahwa Reky Rahayu dan Zalnando dipinjamkan oleh Persib ke klub lain.  Hal itu atas dasar rekomendasi pelatih Persib, Bojan Hodak dan persetujuan dengan para pemain terlibat menentukan keputusan tersebut.  Zalnando dipinjamkan ke PSIS Semarang selama enam bulan. Sementara, Reky Rahayu masih dalam proses perundingan dengan klub yang akan diajukan.  Interim Sporting Director PT PERSIB Bandung Bermartabat (PBB), Adhitia Putra Herawan menerangkan, bahwa meminjamkan kedua pemain untuk memberi mereka kesempatan bermain lebih banyak di klub yang meminjamnya.  Adhit menyatakan bahwa Persib sangat memperhatikan perkembangan karier pemain, karena itu tim pelatih merekomendasikan peminjaman pemain agar mereka dapat terus berkembang bersama klub yang meminjamnya.  Sebelum Liga 1 2019 dimulai, Zalnando bergabung dengan Persib. Selama lima musim, dia bermain untuk Maung Bandung dalam 42 pertandingan.  Sedangkan, Reky Rahayu bergabung dengan Persib di Liga 1 2022/2023. Pada musim pertamanya, dia bermain sebagai pelapis Teja Paku Alam dan tampil 9 kali dari 34 pertandingan.  Namun, selama Liga 1 2023/2024, Reky Rahayu mengalami cedera yang berkepanjangan. Meskipun cederanya mulai sembuh, ia tidak dapat bermain untuk Persib selama musim ini.  Saddil Ramdani sepekan terakhir ramai dirumorkan akan pindah klub dari Sabbah FC Liga Malaysia menuju Persib Bandung.  Akan tetapi, diketahui pemain berusia 25 tahun itu masih terikat kontrak dengan klub Liga Malaysia itu sampai dengan akhir Mei 2025.  Ditegaskan Head of Communications PT PERSIB Bandung Bermartabat (PBB), Adhi Pratama, bahwa pihaknya mengakui bahwa Saddil Ramdani adalah pemain bagus berlabel Timnas Indonesia.  Namun, ihwal perektrutan pemain, manajemen Persib harus mendapat rekomendasi resmi dari tim pelatih.  Diketahui pula saat ini Saddil Ramdani sedang dalam pemuliha cedera.  Pеnjаgа Gаwаng  Kеvіn Rау Mеndоzа  Tеjа Pаku Alаm  Shеvа Sаnggаѕі  Fіtrаh Mаulаnа  Bеk  Nісk Kuіреrѕ  Guѕtаvо Frаnса  Kаkаng Rudіаntо  Hеnhеn Hеrdіаnа  Vісtоr Igbоnеfо  Rоbі Dаrwіѕ  Rеzаldі Hеhаnuѕа  Edо Fеbrіаnѕуаh  Fаrіѕ Abdul Hаfіzh  Aсhmаd Jufrіуаntо  Rасhmаt Irіаntо  Mаrс Klоk  Abdul Azіz  Bесkhаm Putrа  Adаm Alіѕ  Dаvіd dа Sіlvа\n",
      "True Label: Neutral, Predicted Label: Neutral\n",
      "\n",
      "Text 3: Pada 7-8 September 2024, PT Adira Dinamika Multi Finance, Tbk. (Adira Finance) bekerja sama dengan PT Bank Danamon Indonesia Tbk (Danamon) dan PT Zurich General Takaful Indonesia (Zurich Syariah) meluncurkan Festival Pasar Rakyat (FPR) 2024 di Pasar Rangkasbitung, Lebak.  Acara ini menandai awal dari rangkaian kegiatan yang akan menyebar hingga Desember 2024 di lima pasar lainnya di Indonesia, yaitu Pasar Pahing di Kediri, Pasar Legi di Solo, Pasar Kosambi di Bandung, dan Pasar Ngasem di Yogyakarta.  Pasar Rangkasbitung dipilih sebagai lokasi perdana berkat potensinya sebagai pusat ekonomi, sosial, dan budaya di Kabupaten Lebak. Kepala Bidang Perdagangan Dinas Perindustrian dan Perdagangan Kabupaten Lebak, Yani, mengungkapkan bahwa pasar ini memiliki sekitar 2.300 pedagang. Namun, banyak kios kosong karena beberapa pedagang lebih memilih berjualan di luar pasar. Selain itu, pasar masih menghadapi tantangan dalam hal fasilitas dan sertifikasi halal, yang memerlukan perbaikan untuk meningkatkan kenyamanan dan daya tarik pengunjung.  Festival Pasar Rakyat 2024 hadir untuk mendukung dan memberdayakan pedagang, serta mendorong pertumbuhan ekonomi lokal melalui gerakan #SahabatPasarRakyat. Handi, Head of Regional SSD Jabodetabek Adira Finance, menjelaskan bahwa FPR 2024 adalah inisiatif Adira Finance dalam rangka merayakan HUT ke-34 perusahaan. Acara ini bertujuan mendukung keberlanjutan pasar tradisional melalui berbagai kegiatan pemberdayaan, edukasi, kesehatan, serta kesenian dan budaya.  Danamon Syariah juga berperan aktif dalam FPR 2024. Merci Santi Adriani, Syariah Funding Business Head, menyatakan dukungannya terhadap program ini dengan melakukan edukasi tentang layanan keuangan syariah, termasuk produk Tabungan Rencana Haji dan Tabungan Wadiah. Zurich Syariah juga turut serta dengan tujuan meningkatkan inklusi dan literasi asuransi di pasar tradisional.  Acara FPR mencakup berbagai kegiatan seperti edukasi keuangan, digitalisasi pasar, dan asistensi sertifikasi halal. Sebanyak 34 pedagang pasar akan mendapatkan bantuan untuk proses sertifikasi halal, yang penting untuk memastikan produk mereka memenuhi standar kehalalan dan meningkatkan daya saing di pasar.  Untuk menarik minat pengunjung, area mural yang menggambarkan kehidupan setempat juga disediakan. Selain itu, berbagai kegiatan menarik seperti literasi keuangan, pameran inklusi keuangan syariah, uji emisi, test ride, dan lomba fashion show diadakan. Program-program ini tidak hanya meningkatkan daya tarik pasar tetapi juga mendukung kesehatan dan kebersihan lingkungan.  Pada hari pertama acara, pengunjung menikmati berbagai kegiatan seperti pertunjukan seni tradisional, pameran inklusi keuangan syariah, dan layanan kesehatan gratis. Zummi, salah satu pengunjung, mengungkapkan kepuasannya dengan suasana pasar yang lebih hidup dan nyaman.  Di hari kedua, FPR Rangkasbitung menawarkan lebih banyak kegiatan, termasuk zumba, edukasi safety riding, lomba masak, dan kuis berhadiah.  Orok Sukmana, Kepala Dinas Perindustrian dan Perdagangan Kab Lebak, Banten, memberikan apresiasi atas inisiatif ini, menilai FPR 2024 sebagai contoh nyata sinergi antara sektor swasta dan pemerintah dalam mendukung ekonomi lokal dan memperbaiki fasilitas pasar.  Sebagai bagian dari upaya meningkatkan peran aktif masyarakat, Adira Finance juga menyelenggarakan Kompetisi Video #SahabatPasarRakyat dengan hadiah jutaan rupiah. Kompetisi ini berlangsung dari 31 September hingga 20 Desember 2024.  Handi mengajak masyarakat Lebak untuk berpartisipasi dalam FPR 2024 dan mendukung pasar rakyat agar semakin berdaya saing dan sejahtera.  Sebagai informasi, pembiayaan baru Adira Finance wilayah Jabodetabek per Juni 2024 tercatat sebesar Rp5,1 triliun. Segmen sepeda motor berkontribusi sebesar 45% dari total pembiayaan baru di Jabodetabek, diikuti oleh segmen mobil sebesar 33%, dan segmen non-otomotif sebesar 22%. Secara keseluruhan, Area Jabodetabek berkontribusi sekitar 25% dari total pembiayaan baru Adira Finance. (*)\n",
      "True Label: Negative, Predicted Label: Negative\n",
      "\n",
      "Text 4: Anggaran Pendapatan dan Belanja Negara (APBN) Lampung terus berperan menjaga stabilitas dan pertumbuhan ekonomi pada Triwulan II 2024 meski masih dibayangi tantangan ekonomi global. Kinerja ekonomi Lampung mampu tetap resilien, dengan pertumbuhan sebesar 4,80 persen year-on-year (yoy) pada Triwulan II 2024 menguat dibandingkan Triwulan II 2023 tercatat sebesar 4,00 persen (yoy).  Hal tersebut disampaikan Ismail Kepala Bidang Data dan Pengawasan Potensi Perpajakan (DP3) Kantor Wilayah (Kanwil) Direktorat Jenderal Pajak (DJP) Bengkulu dan Lampung dalam paparan Press Conference APBN Kita Provinsi Lampung di Kanwil DJBC Sumatera Bagian Barat, Kota Bandar Lampung (Kamis, 22/8).  \"Risiko dan ketidakpastian masih membayangi iklim politik dan ekonomi global, antara lain disebabkan konflik geopolitik, krisis energi, dan dinamika pasar keuangan (volatilitas nilai tukar & yield). Kondisi global terkini berdampak pada penurunan supply-demand komoditas unggulan dan industri pengolahan Provinsi Lampung,\" katanya.  Realisasi Pendapatan Negara mencapai Rp5,79 triliun (51,71 persen dari target), tumbuh 0,29 persen (yoy). Pertumbuhan ini terutama berasal dari pertumbuhan Pendapatan Negara Bukan Pajak (PNBP) sebesar 4,06 persen (yoy) yang banyak berasal dari pelayanan Badan Layanan Umum (BLU). Komponen Pendapatan Negara lainnya yang bertumbuh adalah Pajak Penghasilan (PPh), Bea Masuk, Cukai, dan Pajak Lainnya masing-masing sebesar 8 persen, 41,13 persen, 1.429,65 persen, dan 34,85 persen (yoy). Namun, Bea Keluar, Pajak Pertambahan Nilai (PPN), dan Pajak Bumi dan Bangunan (PBB) mengalami kontraksi imbas risiko dan ketidakpastian global.  Realisasi Belanja Negara sebesar Rp18,72 triliun (57,43 persen dari pagu), tumbuh 6,25 persen (yoy). Komponen pendukung pertumbuhan ini adalah akselerasi penyerapan anggaran Belanja Pemerintah Pusat (BPP) sebesar Rp5,51 triliun, mencatat pertumbuhan 19,52 persen (yoy), dengan pertumbuhan double digit pada komponen Belanja Pegawai dan Belanja Barang yang masingmasing tumbuh 16,42 persen dan 29,77 persen (yoy).  Komposisi distribusi BPP per fungsi 5 (lima) terbesar berurutan pada Fungsi Pendidikan (24,01 persen), Fungsi Ketertiban dan Keamanan (23,86 persen), Fungsi Pelayanan Umum (17,81 persen), Fungsi Ekonomi (15,34 persen), dan Fungsi Pertahanan (8,76 persen). Realisasi BPP yang manfaatnya langsung menyentuh masyarakat antara lain: Fungsi Pendidikan melalui Kartu Indonesia Pintar Kuliah diterima 6.298 mahasiswa dan Bantuan Operasional Sekolah diterima 53.837 siswa, kemudian Fungsi Kesehatan melalui pendampingan 1000 Hari Pertama Kehidupan pada 131.650 keluarga dengan balita dan Bantuan Pangan dan Gizi pada 1.700 keluarga, selanjutnya Fungsi Ekonomi melalui program pelatihan sistem jaminan mutu pada 330 nelayan dan pendampingan kewirausahaan pada 199 industri kecil.  Realisasi Belanja Negara dalam komponen Transfer ke Daerah (TKD) telah terealisasi sebesar Rp13,20 triliun (59,23 persen dari pagu), tumbuh 1,54 persen (yoy). Pertumbuhan ini didukung realisasi positif Dana Alokasi Umum (DAU), Dana Alokasi Khusus (DAK) Fisik, Dana Desa, dan Insentif Fiskal masing-masing tumbuh 9,23 persen, 0,84 persen, 23,19 persen, dan 53,96 persen. Realisasi Dana Desa dapat tersalur baik, sebesar Rp1.714,53 miliar (75,63 persen dari pagu) s.d. 31 Juli 2024, berkat adanya redesign penyaluran dan peningkatan kepatuhan oleh pemerintah daerah dan desa.  Kinerja program Kredit Usaha Rakyat (KUR) tahun 2024 berjalan dengan baik dan terus bertumbuh. Penyaluran KUR s.d. 31 Juli 2024 mencapai Rp5,84 triliun (64,46 persen dari plafon penyaluran), tumbuh 50,03 persen (yoy), sedangkan penerima manfaat KUR mencapai 114.005 debitur (95,13 persen dari target penerima). Geliat pertumbuhan penyaluran KUR di Provinsi Lampung antara lain didukung pertumbuhan penyaluran di Kabupaten Lampung Tengah, mencapai Rp1.331,34 miliar, tumbuh 76,69 persen (yoy), serta tersalur kepada 27.145 debitur.  \"Penerimaan Pajak menunjukkan pertumbuhan baik mencapai 2,80 persen (yoy), sebesar Rp4,47 triliun (50,63 persen dari target) didorong pertumbuhan penerimaan Pajak Penghasilan (PPh) 8 persen (yoy), dengan nominal Rp2,22 triliun (56,18 persen dari target) dan kinerja pertumbuhan positif Pajak Lainnya yaitu 34,85 persen (yoy), dengan nominal Rp99,59 miliar (65,31 persen dari target),\" ujarnya.  Sebaliknya, kinerja Pajak Pertambahan Nilai (PPN) dan Pajak Bumi Bangunan terkontraksi masing-masing -1,94 persen (yoy) dan -26,84 persen (yoy) disebabkan sektor industri pengolahan yang mengalami penurunan sebesar -18,16 persen (yoy) akibat ketidakpastian ekonomi global. Mitigasi risiko fiskal secara proaktif terus dilakukan melalui penyuluhan dan edukasi perpajakan dalam bentuk Bimbingan Teknis dan asistensi pelaporan pajak kepada Wajib Pajak Orang Pribadi (WP OP) dan Wajib Pajak Institusi/Badan (WP Badan).  Penerimaan Kepabeanan dan Cukai masih dibayangi ketidakpastian global, dengan realisasi penerimaan secara total mencapai Rp516,96 miliar (39,04 persen dari target). Penerimaan Bea Masuk tumbuh signifikan, 41,13 persen (yoy) didorong peningkatan importasi gula dan beras. Pertumbuhan positif juga dicatatkan oleh komponen Penerimaan Cukai, yaitu sebesar 1.429,65 persen (yoy) didorong realisasi cukai pada komoditas rokok elektrik.  Sebaliknya, Bea Keluar mengalami kontraksi -58,13 persen (yoy) akibat penurunan permintaan dan volatilitas harga CPO. Devisa Ekspor mengalami peningkatan 11 juta USD, tumbuh 2,79 persen (yoy). Sementara itu, devisa impor mengalami peningkatan yang dipengaruhi oleh penurunan devisa impor minyak mentah sebesar -89,96 juta USD. Neraca Perdagangan Luar Negeri Juni 2024 masih surplus sebesar 213,12 juta USD.  Mitigasi risiko pelemahan ekspor terus dilakukan secara proaktif, antara lain asistensi dan pendampingan ekspor ke luar negeri kepada UMKM, pemberian kemudahan Pengusaha Kawasan Berikat dalam pemasukan dan pengeluaran barang curah, dan pencanangan desa devisa untuk komoditas pisang, kopi, dan madu sebagai komoditas unggulan Provinsi Lampung.  Kinerja Penerimaan Pendapatan Negara Bukan Pajak (PNBP) hingga Juli 2024 sangat baik, mencapai Rp803,13 miliar (76,87 persen dari target), tumbuh 4,06 persen (yoy). Pertumbuhan ini didorong kinerja penerimaan Pelayanan Kepada Masyarakat yang telah melampaui target APBN (106,53 persen) dengan jumlah penerimaan Rp476,17 miliar.  PNBP BLU mencapai Rp326,97 miliar (54,69 persen) tumbuh 17,16 persen (yoy) didorong penerimaan jasa layanan pendidikan dari Universitas Lampung sebesar Rp171,02 miliar dan penerimaan jasa layanan rumah sakit dari RS Bhayangkari Bandar Lampung sebesar Rp28,36 miliar. Kinerja baik juga dicatatkan PNBP dari Aset, Piutang, dan Lelang, dengan pertumbuhan 24,48 persen (yoy) pada PNBP Aset dan pertumbuhan 87,12 persen (yoy) pada PNBP Bea Lelang. Pertumbuhan tercapai berkat adanya relaksasi pelaksanaan lelang dan reengineering portal lelang.  Defisit Anggaran regional Lampung hingga 31 Juli 2024 sebesar Rp12,92 triliun, meningkat 9,16 persen (yoy). Pelebaran defisit ini menunjukkan upaya ekspansif APBN regional Lampung dalam menghadapi tantangan fluktuasi harga komoditas, penurunan supply-demand komoditas unggulan, serta ketidakpastian ekonomi dan politik global. Peran APBN terus dioptimalkan sebagai shock absorber untuk melindungi masyarakat dan menjaga kestabilan perekonomian di wilayah Lampung.\n",
      "True Label: Negative, Predicted Label: Negative\n",
      "\n",
      "Text 5: kumparan Hadir di WhatsApp Channel  Follow  kumparanMOM Festival Hari Anak 2024 sukses digelar selama 2 hari, 27-28 Juli 2024, di Taman Anggrek, GBK, Senayan. Antusiasme pengunjung tahun ini juga luar biasa, Moms. Dalam dua hari ini, total ada 20.000 pengunjung yang hadir meramaikan.  ADVERTISEMENT  Sesuai harapan, kumparanMOM Festival Hari Anak sukses jadi ajang bermain untuk anak, hingga wadah belajar juga untuk ibu dan ayah.  Menurut Chief of kumparanMOM, Dhini Hidayati, tahun ini kumparanMOM membawa semangat \"Petualangan Anak Nusantara\".  \"Tahun ini, masih dengan misi utama #BanyakMainBanyakBelajar, kumparanMOM akan membawa semangat 'Petualanga Anak Nusantara',\" ujar Dhini saat membuka acara.  \"Berbagai kegiatan yang kami sajikan hari ini, merupakan salah satu upaya untuk mendukung agar anak-anak kita tumbuh dengan rasa bangga dan cinta terhadap keragaman budaya Indonesia,\" tambahnya.  Banyak Acara Seru di kumparanMOM Festival Hari Anak 2024  Ada banyak acara seru yang bisa diikuti di kumparanMOM Festival Hari Anak tahun ini. Berkolaborasi dengan MilkLife, Le Minerale, MyJelly, Kodomo, NUVO Family, Nata Wong Coco, Bright Gas, AICE, dan Taro, tahun ini ada 3 arena bermain yang bisa dijelajahi.  ADVERTISEMENT  Mulai dari Pulau Rekreasi, Pulau Inspirasi, dan Pulau Dagangan. Di setiap pulau, tersedia aktivitas menyenangkan dan bermanfaat untuk tumbuh kembang anak, seperti Pawai Cilik, Dolan Bocah, Kreasi Ceria, hingga playground untuk anak bermain.  Di Hari Kedua ini, acara dibuka dengan Pawai Kostum Nusantara dan Sepeda Hias bareng Taro dan ditutup dengan nyanyi dan bergoyang bareng Baba Lili Tata.  Ya Moms, bukan hanya anak-anak yang bisa bermain di sini, tapi orang tua yang hadir juga bisa ikut menambah wawasan parenting dengan mengikuti Kelas Ibu dan Ayah bersama Le Minerale, Anak Indonesia Sehat Bebas BPA bersama Dokter Spesialis Anak, dr. Kanya Ayu Paramastri, SpA dan Brand Ambassador Le Minerale sekaligus ibu dua anak, Putri Titian.  Selain itu, juga ada kumparan Hangout yang membahas soal \"Memahami Tipe Kecerdasan Anak bersama Helsa Surya, MPsi, Psikolog, Psikolog Anak dari Amanasa.  Para orang tua dan anak-anak yang hadir juga merasa senang dan menikmati acara di hari kedua ini.  \"Ramai banget acaranya. Hadir di sini sampai sore karena mau joged bareng sama Baba Lili Tata, kesukaannya anakku,\" kata Indah Ajeng, ibu satu anak.  \"Tadi ngantre di booth kumparanMOM, main spin wheel, hadiahnya oke-oke, terus banyak yang seru pokoknya di sini,\" jelas Anggraeni.  Nah Moms, terima kasih sudah hadir dan meramaikan kumparanMOM Festival Hari Anak 2024! Semoga acaranya menghibur dan bermanfaat untuk si kecil dan orang tua. Sampai jumpa lagi!\n",
      "True Label: Neutral, Predicted Label: Neutral\n",
      "\n",
      "Text 6: Jakarta, VIVA – Ketua Satgas Perumahan Tim Transisi Prabowo-Gibran, Hashim Djojohadikusumo, menyoroti rendahnya revenue ratio atau rasio penerimaan negara. Hal tersebut disampaikan dalam sambutannya di acara Future of Indonesia Dialogue yang diselenggarakan oleh APEC Business Advisory Council (ABAC) di Jakarta, Sabtu, 31 Agustus 2024.  Dalam sambutan tersebut, Hashim mengungkapkan bahwa revenue ratio Indonesia saat ini berada pada angka 12,7 persen. Angka tersebut, kata dia, merupakan salah satu yang terendah di dunia.  \"Revenue ratio itu penerimaan negara termasuk pajak dibandingkan dengan GDP kita. Dan ternyata revenue ratio kita itu termasuk yang paling rendah di dunia. Bukan di Asia Tenggara, di dunia. Coba dipikirkan,\" ujarnya dalam sambutan tersebut.  Dalam perbandingannya, Hashim menyoroti bahwa Indonesia hanya sedikit lebih baik dari Pakistan. Namun, jauh tertinggal dari negara-negara tetangga seperti Kamboja dan Vietnam.  \"Diramalkan di situ oleh Kementerian Keuangan, revenue ratio kita 12,7 persen konstan selama lima tahun ke depan, 2030. Dan bapak-bapak, hanya satu negara besar yang lebih rendah dari kita itu negara bangkrut, namanya Pakistan. Indonesia di atas sedikit, di atas Pakistan. Tapi Indonesia jauh di bawah dari negara-negara tetangga kita,\" jelasnya.  \"Data dari Bank Dunia, yang saya maksud adalah negara-negara seperti Kamboja, revenue ratio-nya 18 persen, Indonesia 5 persen di bawah Kamboja. Vietnam, negara tetangga kita, revenue ratio 23 persen, berarti 10,3 persen di atas kita,\" kata Hashim.  Dia menekankan potensi peningkatan yang dapat dicapai jika Indonesia berhasil menaikkan revenue ratio. \"Kalau kita bisa seperti Kamboja, kita bisa mendapat setiap tahun Rp1.100 triliun,\" ujarnya.  Dia menjelaskan, jika Indonesia berhasil memperbaiki penerimaan negara, maka program-program strategis pemerintahan dapat berjalan dengan baik. Termasuk, pemberian makanan gratis kepada anak-anak di Indonesia.  \"82 juta jiwa lebih, Pak Prabowo dan Mas Gibran mau berikan makanan sarapan dan makan siang. Itu perlu anggaran 450 triliun. Kalau kita seperti Kamboja, sudah selesai, dan bahkan ada sisa, ada sisa anggaran,\" ujarnya.\n",
      "True Label: Positive, Predicted Label: Positive\n",
      "\n",
      "Text 7: PROMO DAN DISKON - Promo berhadiah Indomaret 11-24 Juli 2024 memberikan promo Pucuk Harum beli 2 gratis 1. Di promo berhadiah Indomaret hari ini, ada promo untuk camilan dan minuman segar.  Indomaret selalu memberikan banyak penawaran menarik dengan berbagai promo seru di setiap harinya untuk belanja hemat.  Salah satunya adalah promo berhadiah Indomaret terbaru yang berlaku mulai tanggal 11-24 Juli 2024. Ada promo beli 3 gratis 1.  Promo Berhadiah Indomaret 11-24 Juli 2024  Di promo berhadiah Indomaret terbaru 11-24 Juli 2024, ada promo beli 3 gratis 1 teh Pucuk Harum botol ukuran 350 ml semua varian.  Promo berhadiah Indomaret terbaru Juli 2024 ini tersedia secara nasional. Namun ada selisih harga di luar pulau Jawa, Bali dan Lombok.  Dapatkan promo beli 1 gratis 1 untuk Kin yogurt sampai beli 1 gratis 1 untuk soft drink Coca-Cola atau Sprite/Fanta/Zero semua varian.  Bagi yang ingin membeli camilan, beli 2 Potabee dan dapatkan gratis 2 cup mie Sedaap instan atau beli 2 Oatside dan gratis 1 Oatside lagi.  Promo berhadiah Indomaret juga memberikan promo beli 1 Nivea body serum 180 ml dan gratis 3 teh kotak Ultra 300 ml semua varian.  Promo berhadiah Indomaret bisa didapatkan di toko-toko Indomaret terdekat. Promo berhadiah Indomaret tidak berlaku di toko Indomaret Point.  Bayar produk favorit di promo berhadiah Indomaret dengan harga lebih murah lagi menggunakan aplikasi Gopay atau Kredivo.  : Promo PSM Alfamart Hari Ini, Ultra Milk Mulai Rp 6.500 dan Le Minerale 2 Lebih Murah  Dapatkan ekstra cashback Rp 5.000 dengan Gopay khusus untuk pembayaran di toko dengan minimal belanja Rp 15.000.  Selain itu ada batas maksimal untuk 2 kali per user per periode. Selanjutnya ada diskon Rp 2.000 bayar dengan Kredivo.  Promo berhadiah Indomaret bayar dengan Kredivo berlaku untuk pembayaran di toko Indomaret dan minimal belanja Rp 50.000.\n",
      "True Label: Neutral, Predicted Label: Neutral\n",
      "\n",
      "Text 8: GARTONnews.com, SURABAYA - PT Hyundai Motors Indonesia mengumumkan kehadirannya di Gaikindo Indonesia International Auto Show (GIIAS) Surabaya 2024 yang berlangsung mulai 28 Agustus sampai 1 September di Grand City Convex.  Pada partisipasinya kali ini, Hyundai menghadirkan all-new KONA Electric (EV pertama di Indonesia dengan baterai rakitan lokal berkualitas global) dan IONIQ 5 N (high-performance EV pertama di Indonesia).  Chief Operating Officer PT Hyundai Motors Indonesia, Fransiscus Soerjopranoto mengatakan, dengan memaknai keterlibatan Hyundai dalam ajang GIIAS Surabaya 2024 untuk memperkuat kepemimpinan perusahaan dalam ekosistem EV di Indonesia.  “Maka dari itu, kami senang bisa menghadirkan all-new KONA Electric dan IONIQ 5 N bagi warga Surabaya, setelah model-model tersebut mendapat animo yang luar biasa di Jakarta dan sekitarnya,” katanya.  Kata dia, perluasan jangkauan produk ini pun menunjukkan komitmen kami untuk terus menjawab kebutuhan dan aspirasi konsumen dengan mengembangkan inovasi terkini lewat EV terdepan di kelasnya, sejalan dengan upaya kami memajukan industri EV di Tanah Air.  All-new KONA Electric Ramaikan GIIAS Surabaya 2024  All-new KONA Electric merupakan EV pertama di Indonesia dengan baterai yang dibuat di dalam negeri. Baterai tersebut diproduksi oleh PT HLI Green Power yang diresmikan pada 3 Juli lalu.  Kehadiran All-new KONA Electric menjadi bukti kepemimpinan Hyundai di sektor kendaraan listrik di Indonesia yang konsisten mendukung komitmen pemerintah dalam mencapai net zero emission di tahun 2060.  All-new KONA Electric yang melengkapi lini kendaraan listrik Hyundai di Indonesia sekaligus menegaskan posisi perusahaan sebagai game changer di industri otomotif Tanah Air.  Pasalnya, all-new KONA Electric mengusung deretan terobosan terdepan di kelasnya dari berbagai sisi, mulai dari profil eksterior yang clean dan aerodinamis, interior lapang, all-electric range (AER) hingga lebih dari 600 km, serta fitur terkini dari ekosistem teknologi canggih Hyundai.\n",
      "True Label: Negative, Predicted Label: Negative\n",
      "\n",
      "Text 9: Deli Serdang, - Dewan Perwakilan Rakyat Daerah Kabupaten Deli serdang meminta kepada Pj.Bupati Deli Serdang Ir Wiriya Arrahman Untuk Mengevaluasi dan Mencopot Kasatpol PP Marzuki karna di nilai tidak tegas dalam menjalankan Peraturan Daerah / Perda di Kabupaten Deli Serdang. Hal itu ditegaskan Anggota DPRD Deli Serdang Dr.Misnan Aljawi,SH.MH, pada rapat sidang Paripurna, Kamis 28/8/ 2024). Lebih Jelas Misnan Aljawi mengatakan, Tugas Penting Satpol PP adalah membantu Bupati dalam hal penegakan Perda berkaitan dengan menertipan dan membongkar bangunan Liar dan bertentangan dengan izin, namun dalam praktek nya Satpol PP di anggap lemah tidak menjalan kan tugas dengan baik dan di pandang oleh DPRD Deli Serdang dianggap masih tebang pilih dalam penertipan bangunan Liar di Deli Serdang. \"Contoh di daerah Sei Ular Kec.Pantai Labu ada pengorekan sungai dan galian C di mana warga ribut dan demon karna mengganggu kenyaman masyarakat sekitar, ketika keluhan masyarakat melapor ke DPRD kami langsung tanggapi dan kami minta satpol PP untuk menghentikannya. namun Satpol PP tidak menjalan kan tugas nya dengan baik. Malah membiarkan galian C itu terus bekerja\" bilang Misnan. Selain itu, di daerah Desa Medan Estate Kec.Percut Sei Tuan ada permasalahan besar yang di hadapi warga dengan menggunakan pasilitas umum untuk pasilitas pribadi. ketika DPRD minta kepada satpol minta untuk bongkar namun tidak juga di bongkar, karna terindikasi ada dugaan transaksi yang terjadi di lapangan. Sedangkan di pajak Gambir Percut Sei Tuan banguna Kios kecil kecilan hanya untuk pedagang jualan namun di bongkar habis oleh Satpol PP padahal bangunan kios ini tidak melanggar. Namun bangunan di sekitarnya yang lebih parah lagi melanggar peraturan daerah dengan terang terangan di biar kan oleh Satpol PP. \"Ini jelas jelas kalau kerja Satpol PP tidak becus dan tidak berpihak kepada masyarakat. Bagaimana retrebusi dan pendapatan Deli Serdang mau naik kalau tugas Satpol PP tidak becus dan masih pilih pilih dalam penegakan peraturan daerah. Oleh karna itu saya meminta kepada Pj Bupati untuk mengevaluasi dan mencopot kepala Satpol PP Kabupaten Deli Serdang\" tegas Misnan Aljawi **  MAN 1 Medan Gelar Shalat Dhuha dan Doa Bersama Untuk Kontingen KSM Sumut  MAN 2 Model Medan Gelar Shalat Dhuha, Hajat dan Doa Bersama  Hyundai Luncurkan All-New KONA Electric Pada Perhelatan Festival Merdeka Berkendara di Kota Medan  Polsek Serbalawan Tangkap Dua Tersangka Narkoba, Shabu 5,20 Gram & Alat Hisap diamankan  Dongkrak UMKM Jakarta, JNE Gandeng Shopee Beri Pelatihan GOLLABORASI 2024  Polres Tanjung Balai Laksanakan Apel Gelar Pasukan Ops Mantap Praja Toba Tahun 2024 Pilkada Walikota dan Wakil Walikota\n",
      "True Label: Neutral, Predicted Label: Neutral\n",
      "\n",
      "Text 10: MANADOPOST.ID- Kriyanusa yang merupakan pameran kerajinan dan seni kriya berskala nasional kembali hadir dengan mengusung tema “Perajin Muda, Lestarikan Warisan Budaya” pada 28 Agustus – 1 September 2024 di Hall A & Hall B, Jakarta Convention Center (JCC).  Diselenggarakan setiap tahun oleh Dewan Kerajinan Nasional (DEKRANAS), acara ini merupakan bentuk komitmen untuk melestarikan serta mengembangkan hasil produk kriya Indonesia. Acara ini juga dirancang untuk mendorong pertumbuhan ekomoni dan perluasan pasar kriya Indonesia.  Dalam sambutannya, Ketua Umum Dewan Kerajinan Nasional (DEKRANAS) Wury Ma’ruf Amin yang merupakan istri Wakil Presiden Ma’ruf Amin mengungkapkan bahwa pameran tersebut mencerminkan komitmen untuk meneruskan tradisi dan warisan leluhur kepada generasi muda.  \"Indonesia adalah negeri yang kaya akan budaya dan tradisi. Seni kerajinan berbagai daerah yang diwariskan tidak hanya mencerminkan keindahan dan keterampilan, tetapi juga nilai-nilai identitas bangsa,\" katanya. Ia menambahkan, Kriyanusa adalah panggung bagi para perajin muda Indonesia untuk mempersembahkan karya-karya yang menghidupkan kembali kekayaan budaya Nusantara.  Seperti diketahui, Karya Kerajinan Tangan (Kriya) menjadi salah satu aset berharga untuk memenuhi permintaan pasar global akan kerajinan tangan yang khas Indonesia. Sebanyak ratusan produk milik pengrajin terampil dari seluruh pelosok negeri pun terpajang indah di acara tersebut.  PT Bank Rakyat Indonesia (Persero) Tbk atau BRI sebagai bank dengan fokus pada pemberdayaan UMKM di Indonesia mendukung acara tersebut dan turut serta menampilkan produk kriya terbaik dari UMKM binaan di Rumah BUMN BRI. BRI pun berkesempatan memfasilitasi usaha lokal yang bergerak di bidang kriya tersebut agar semakin dikenal dunia. Sejumlah UMKM binaan hadir memamerkan sejumlah produk, yakni MINIMIZU dan Dannes Teakwood.  Pertama, MINIMIZU yang merupakan brand di bidang seni kreatif yang memiliki produk aquascape, paludarium, terrarium, dan moss art. UMKM ini memproduksi produk unik yang menyediakan berbagai macam bentuk model dan design sesuai permintaan konsumen.  Kemudian UMKM kedua, yakni Danesteakwood, produsen kerajinan kayu jati berbasis social enterprise dan green economy yang memanfaatkan limbah kayu jati untuk dijadikan produk homedecor dan housewares. UMKM ini menggunakan kualitas kayu terbaik dan berupaya memberdayakan pengrajin secara luas hingga ke seluruh pelosok Indonesia.  Terkait dukungan BRI terhadap pameran Kriyanusa 2024, Wakil Direktur Utama Catur Budi Harto mengungkapkan bahwa kesempatan berpartisipasi dalam kegiatan tahunan Dekranas merupakan bentuk komitmen nyata BRI dalam memberdayakan UMKM binaan. Hal ini sejalan dengan komitmen BRI dalam mewujudkan UMKM naik kelas hingga pasar global.  “Harapannya dengan adanya event berskala nasional seperti ini akan terus membuka akses dan kesempatan kepada para pelaku UMKM yang ujungnya dapat membuat mereka naik kelas,” ucapnya.  Adapun UMKM yang bergabung mencapai 420 stan kriya, di antaranya 30% berasal dari pengrajin muda, kemudian ada 24 stan kuliner. Pameran yang tahun ini mengangkat ikon kebudayaan Kalimantan Timur tersebut dimeriahkan dengan berbagai acara seperti pameran, fashion show, talk show, dan lokakarya, serta musik.\n",
      "True Label: Positive, Predicted Label: Neutral\n",
      "\n",
      "Text 11: TIMESINDONESIA, BANYUWANGI – Dalam mewujudkan kemandirian pangan sehat dan bergizi. Kelompok Wanita Tani Suko Subur yang merupakan grup dampingan dari AQUA Banyuwangi, membuat Bio-Pestisida atau pestisida alternatif yang ramah lingkungan sekaligus aman bagi kesehatan.  Kegiatan membuat Bio-Pestisida tersebut adalah bagian dari program Pertanian Regeneratif bertemakan Tanaman Sayuran Sehat Keluarga Andalan (TASYAKURAN). Program yang diusung PPM Paradigma bersama Balai Penyuluh Pertanian Singojuruh dengan support penuh oleh PT Tirta Investama.  Ibu-ibu dari kelompok Wanita Tani Suko Subur berkumpul melihat perkembangan sayur. (FOTO: AQUA Banyuwangi For TIMES Indonesia)  Sebelumnya, Kelompok Wanita Tani Suko Subur yang berpusat di Desa Benelan Kidul tersebut, pada tahun 2024 telah berhasil menanam beberapa sayuran seperti Sayur Pakcoy, Bawang Prei, Bawang Merah, Tomat, Cabe serta tanaman obat di lahan Demonstrasi Plot (Demplot).  SR CSR AQUA Banyuwangi, Khoirul Hamdani menyampaikan, terus melakukan pendampingan secara rutin untuk memberikan pengetahuan dan inovasi terbaru terkait pertanian kepada ibu-ibu. Sekaligus dilengkapi dengan fasilitas oleh PT Tirta Investama yang dikembangkan secara berkelanjutan.  “Ini sebuah langkah tepat menghadapi beberapa lonjakan bahan pokok serta pemenuhan pangan yang bergizi sebagai role model desa dalam mensukseskan ketahanan pangan di Banyuwangi,” ucap Irul, sapaan karib Khoirul Hamdani pada, Rabu (10/7/2024).  Kali ini anggota kelompok, masih Irul, bersama tim BPP Singojuruh melakukan Diskusi lapang dalam pembuatan pestisida organik pemanfaatan dari bahan dasar disekitar rumah.  Adanya diskusi terkait Bio-Pestisida tersebut bertujuan untuk mengantisipasi terjadinya serangan hama dan penyakit pada tanaman. Pasalnya seperti yang diketahui wilayah Banyuwangi sedang dilanda hujan yang berkepanjangan.  “Tentunya Tim penyuluh selalu memantau hasil dari perkembangan obat dan tanaman yang telah dikerjakan oleh kelompok Wanita Tani Suko Subur,” kata Irul.  Sementara itu, anggota kelompok Wanita Tani Suko Subur, Ina mengatakan, hujan yang terus membasahi lahan pertanian yang sedang digarap itu, menyebabkan beberapa tanaman mulai diserang hama serangga.  “Saya melihat banyak belalang, semut dan hewan lainnya mulai berkeliaran di demplot menggerogoti tanaman,” ujar Ina.  Adanya diskusi serta pelatihan membuat pupuk pestisida ramah lingkungan tersebut menjadi pengalaman pertama bagi ibu-ibu anggota kelompok Wanita Tani Suko Subur. Diungkapkan oleh Uut yang juga anggota kelompok, bahwasanya dirinya sangat antusias meramu obat organik yang diperlukan untuk mengatasi tanaman yang diserang oleh hama dan penyakit pada tanaman.  “Ramuan obat hama organik ini dibuat bersama dengan kelompok mulai kemarin dengan bahan daun pepaya dan tembakau yang dicacah,” tungkap Uut.  Menurut Project Manager Bio-Pestisida Rizki Abdan, daun Pepaya mengandung senyawa golongan alkaloid, terpenoid dan asam amino yang sangat beracun bagi serangga pemakan tumbuhan. Sedangkan daun tembakau memiliki bahan aktif nikotin yang mampu mengendalikan hama serangga berbadan lunak.  “Produksi Bio-Pestisida yang ramah lingkungan dapat diterapkan di rumah masing-masing untuk mengatasi tanaman sayuran sehat di pekarangan rumah,” jelas Abdan. (*)\n",
      "True Label: Negative, Predicted Label: Negative\n",
      "\n",
      "Text 12: Lombok Tengah (ANTARA) - Terletak di ujung utara Kabupaten Lombok Tengah, Nusa Tenggara Barat (NTB), di bawah kaki Gunung Rinjani, Desa Aik Berik memancarkan keindahan alam yang memikat dan memiliki potensi wisata yang luar biasa.  Desa tersebut berhasil masuk dalam 50 besar desa wisata terbaik pada Anugerah Desa Wisata Indonesia (ADWI) 2024, yang diselenggarakan oleh Kementerian Pariwisata dan Ekonomi Kreatif (Kemenparekraf). Prestasi itu mengukuhkan statusnya sebagai salah satu destinasi unggulan di Indonesia.  Desa Aik Berik dikenal dengan hamparan persawahan yang hijau dan subur, dikelilingi oleh pemandangan spektakuler Gunung Rinjani.  Para pengunjung yang menginap di homestay lokal dapat menikmati pemandangan Instagramable, baik saat matahari terbit maupun saat matahari terbenam.  Tak hanya itu, kawasan ini juga dipenuhi oleh perkebunan buah tropis seperti pisang, manggis, durian, dan rambutan, yang menyajikan pengalaman agrowisata yang menyegarkan.  Kelebihan lain dari desa itu adalah keberadaan sekitar 826 hektar hutan negara yang dikelola oleh masyarakat dengan pola HKm. Hutan ini tidak hanya menambah keindahan pemandangan, tetapi juga menawarkan sekitar 10 air terjun yang menakjubkan.  Desa wisata itu bahkan mendapat julukan \"Village of Springs\" karena memiliki 77 sumber mata air dengan debit rata-rata 500 liter per detik dan \"Village of Waterfalls\" berkat kehadiran air terjun yang mengesankan.  Potensi Wisata dan Pengembangan  Penjabat (Pj) Kepala Desa Aik Berik, Tirto Handoyo, menyebutkan desanya tidak hanya menawarkan keindahan alam, tetapi juga memiliki keunggulan sebagai jalur resmi pendakian Gunung Rinjani dan bagian dari Global Geopark Network sejak 2018.  Namun, desa ini juga menghadapi beberapa tantangan, termasuk keterbatasan infrastruktur dan sinyal telepon selular.  Ia mengungkapkan bahwa dengan dukungan pariwisata, sekitar 770 warga desa terlibat sebagai tenaga kerja, termasuk mantan pekerja migran Indonesia (PMI) yang memiliki keterampilan bahasa asing.  \"Itu menunjukkan bahwa pariwisata berperan penting dalam meningkatkan ekonomi lokal dan menyediakan lapangan kerja,\" ucapnya.  Ketua Kelompok Sadar Wisata (Pokdarwis) Desa Aik Berik, Muhammad Rodian Fahlevi mengatakan, pihaknya juga aktif mempromosikan desa melalui berbagai platform media sosial, seperti Instagram, Facebook, TikTok, dan YouTube.  Salah satu promosi yang ditonjolkan adalah keunggulan yang dikenal luas, yakni air terjun Benang Kelambu yang unik karena hanya memiliki satu saudara di Jepang.  Air terjun itu terbentuk dari adanya patahan yang mengenai lapisan air tanah. Atau yang disebut dalam istilah geologi sebagai \"aquifer layer fault\".  Airnya juga sangat jernih dan dapat diminum langsung oleh pengunjung karena menurut para peneliti bahwa air yang keluar dari mata air membutuhkan proses setidaknya selama 200 tahun untuk muncul sebagai mata air.  Jadi ketika pengunjung mandi di Air Terjun Benang Kelambu, mereka dapat membayangkan bahwa mereka sedang dimanjakan oleh air yang telah berusia lebih dari 200 tahun.  Selain air terjun Benang Kelambu, terdapat berbagai atraksi lainnya seperti soft trekking, river tubing, kolam renang, dan budaya lokal seperti gendang belek dan tenun songket.  \"Desa ini juga menyajikan kuliner lokal dan olahan kopi yang menggugah selera,\" ucap Rodian.  Pengakuan dan Prospek Masa Depan  Staf Ahli Menteri Bidang Reformasi Birokrasi dan Regulasi, Kemenparekraf, Kurleni Ukar, mengapresiasi pencapaian Desa Aik Berik yang masuk dalam 50 besar ADWI 2024.  Dengan tema \"Desa Wisata Menuju Pariwisata Hijau Berkelas Dunia,\" ADWI 2024 menilai desa-desa wisata berdasarkan daya tarik, amenitas, pemasaran digital, kembagaan, dan resiliensi.  Tujuan dari kegiatan tersebut diharapkan dapat menjadi daya ungkit bagi ekonomi desa dan sebagai wahana promosi untuk menunjukkan potensi desa-desa wisata di Indonesia kepada wisatawan domestik maupun wisatawan mancanegara.  Selain itu, dapat menjaring database desa wisata baru dari pendaftaran di website jejaring desa wisata (Jadesta).  Chef Vindex Tengker, Dewan Juri ADWI, juga menyoroti keunikan Desa Aik Berik dan potensi wisata alam yang tidak ditemukan di tempat lain.  Menurutnya, digitalisasi pemasaran dan penguatan kelembagaan akan menjadi kunci untuk mengoptimalkan potensi desa ini.  Kepala Dinas Pariwisata NTB, Jamaluddin, menyatakan kebanggaannya atas pencapaian ini, mengingat Desa Aik Berik adalah satu-satunya dari NTB yang masuk dalam 50 besar ADWI 2024.  \"Kita doakan semoga Desa Aik Berik bisa meraih posisi nomor satu di masa depan,\" ujarnya.  Dengan potensi yang melimpah dan pengembangan yang terus dilakukan, Desa Aik Berik berada di jalur yang tepat untuk menjadi destinasi wisata kelas dunia.\n",
      "True Label: Neutral, Predicted Label: Neutral\n",
      "\n",
      "Text 13: Jakarta -  Transmart Full Day Sale hari ini, Minggu 4 Agustus! Transmart Full Day Sale hadir dengan diskon melimpah 50% + 20%, sejak toko buka hingga berakhir jam 10 malam.  Aneka produk banjir diskon, contohnya mulai dari minyak goreng, chicken nugget, teh, hingga air mineral  Berikut rinciannya, silakan dicek:  Bimoli minyak goreng 2 liter ditawarkan ddengan harga Promo Rp 40.900 dari harga awal Rp 44.900. Harganya makin murah menggunakan Allo Prime, Allo Paylater, Kartu Kredit Bank Mega atau Bank Mega Syariah, yaitu menjadi hanya Rp 32.720  Nice Genuine original 900 gram ditawarkan dengan harga Promo Rp 42.900 dari harga awal Rp 46.350. Harganya makin murah menggunakan Allo Prime, Allo Paylater, Kartu Kredit Bank Mega atau Bank Mega Syariah, yaitu menjadi hanya Rp 34.320  Kanzler Chicken Nugget Original/Crispy 450 gram ditawarkan dengan harga Promo Rp 42.000 dari harga awal Rp 49.900. Harganya makin murah menggunakan Allo Prime, Allo Paylater, Kartu Kredit Bank Mega atau Bank Mega Syariah, yaitu menjadi hanya Rp 33.600  Sariwangi Teh Asli 85 gram ditawarkan dengan harga Promo Rp 7.100 dari harga awal Rp 9.600. Harganya makin murah menggunakan Allo Prime, Allo Paylater, Kartu Kredit Bank Mega atau Bank Mega Syariah, yaitu menjadi hanya Rp 5.680*  Chitato Lite all var ditawarkan dengan harga Promo mulai dari* Rp 11.250 dari harga awal Rp 11.800. Harganya makin murah menggunakan Allo Prime, Allo Paylater, Kartu Kredit Bank Mega atau Bank Mega Syariah, yaitu mulai dari Rp 9.000*  Ultra Milk CHoco/Plain 1 Lt ditawarkan dg harga Promo Rp 18.700 dari harga awal Rp 21.200. Harganya makin murah menggunakan Allo Prime, Allo Paylater, Kartu Kredit Bank Mega atau Bank Mega Syariah, yaitu menjadi hanya Rp 14.960*  Le Minerale 1500 mL ditawarkan mulai dari harga Promo Rp 5.600 dari harga awal Rp 5.800. Harganya makin murah menggunakan Allo Prime, Allo Paylater, Kartu Kredit Bank Mega atau Bank Mega Syariah, mulai dari Rp 4.480*  Tropical minyak goreng pouch/botol 2 liter ditawarkan dg harga Promo dengan harga Rp promo 41.000 dari harga awal Rp 44.900. Harganya makin murah menggunakan Allo Prime, Allo Paylater, Kartu Kredit Bank Mega atau Bank Mega Syariah,yaitu menjadi hanya Rp 32.800*\n",
      "True Label: Neutral, Predicted Label: Positive\n",
      "\n",
      "Text 14: JawaPos.com - Pegawai Ditjen Pajak Kementerian Keuangan berinisial FAF diduga telah melakukan kekerasan dalam rumah tangga (KDRT) secara fisik dan psikis kepada istrinya. Kasus ini bermotif terjadinya perselisihan antara korban dan pelaku.  \"Puncaknya saat itu terlapor tidak terima terhadap korban. Korban menyatakan bahwa adik terlapor mengambil uang sewa rumah, yang mana uang itu peruntukannya menurut korban itu untuk kepentingan keluarga korban dan pelapor,\" kata Kabid Humas Polda Metro Jaya Kombes Pol Ade Ary Syam Indradi kepada wartawan, Jumat (30/8).  Pelaku yang merasa tersinggung langsung naik pitam dan terjadi cekcok. Pelaku kemudian melakukan kekerasan fisik.  \"Terlapor kesal akhirnya terlapor melakukan penganiayaan sehingga mengakibatkan luka kepala, kaki, lengan, lebam,\" jelas Ade.  Sebelumnya, pegawai Direktorat Jenderal Pajak berinisial FAF ditetapkan sebagai tersangka karena diduga melakukan KDRT terhadap istrinya. Keputusan ini diambil setelah melalui gelar perkara pada 23 Agustus 2024.  \"Sudah ditetapkan sebagai tersangka,\" ujar Kabid Humas Polda Metro Jaya Kombes Pol Ade Ary Syam Indradi.  Tak lama dari itu, Polres Metro Bekasi Kota resmi menahan FAF. \"Perkemarin malam kita lakukan penangkapan dan tadi siang hari ini sudah kita lakukan penahanan,\" ucap Kasat Reskrim Polres Metro Bekasi Kota, Kompol Audy Joize Oroh.  Penahanan dilakukan usai FAF diperiksa sebagai tersangka. Penyidik menilai, pelaku sudah memenuhi syarat untuk ditahan.\n",
      "True Label: Positive, Predicted Label: Positive\n",
      "\n",
      "Text 15: Tangerangraya.id - Dyandra Promosindo kembali siap memeriahkan industri otomotif Indonesia melalui penyelenggaraan pameran otomotif Indonesia International Motor Show (IIMS) 2025.  Setelah meraih kesuksesan besar pada IIMS 2024, tahun depan IIMS akan kembali menghadirkan ekshibisi perkembangan otomotif, program-program menarik dan atraktif, serta pertunjukan musik dalam konsep ‘Your Infinite Autotainment Experience’.  Kemeriahan IIMS 2025 akan berlangsung pada 13 hingga 23 Februari 2025 di JIExpo Kemayoran, Jakarta, dan siap menjadi sorotan utama bagi para pecinta otomotif dan masyarakat Indonesia.  \"Dengan semangat inovasi dan komitmen, IIMS 2025 akan menjadi panggung di mana kreativitas dan teknologi bersatu.\"  \"Kami siap membawa industri otomotif Indonesia ke level berikutnya, dengan optimisme dan energi baru yang akan dirasakan oleh setiap pengunjung.\"  \"Bagi para stakeholder, IIMS 2025 adalah kesempatan emas untuk terlibat dalam transformasi ini, memperkuat brand, menjalin kolaborasi strategis, dan membuka peluang pasar yang lebih luas,\" kata Presiden Komisaris Dyandra Promosindo Ery Erlangga dalam konferensi pers di Jakarta, Kamis (15/8/2024).  Dyandra Promosindo dengan bangga melanjutkan konsep autotainment yang telah menjadi ciri khas pameran otomotif IIMS, menggabungkan pameran otomotif dengan hiburan dan entertainment untuk memberikan pengalaman yang tak terlupakan bagi setiap pengunjung.  Di IIMS 2025, seluruh area JIExpo Kemayoran akan dioptimalkan untuk menampilkan ragam kendaraan terkini dan industri pendukungnya, menciptakan sebuah pameran yang benar-benar komprehensif.  Salah satu highlight terbaru adalah New Passenger Car Area di Hall B, yang didedikasikan khusus untuk kendaraan roda empat.  Di sini, pengunjung akan disuguhkan inovasi terbaru dari merek-merek otomotif terkemuka.  Untuk menghadirkan pameran otomotif yang lebih megah dan berdampak, Dyandra Promosindo dengan bangga mengumumkan kolaborasi strategis berkelanjutan bersama MUFG dan Danamon sebagai Official Bank Partner dan Adira Finance sebagai Official Multifinance Partner dalam penyelenggaraan IIMS 2025.  Ini merupakan tahun keempat kerjasama antara MUFG, Danamon, dan Adira Finance dalam mendukung IIMS, yang akan terus berlanjut hingga tahun 2026.\n",
      "True Label: Negative, Predicted Label: Negative\n",
      "\n",
      "Text 16: PWMJATENG.COM, Surakarta – Direktur Departemen Ekonomi dan Keuangan Syariah Bank Indonesia, Rifki Ismail, menyoroti pentingnya peran Bank Indonesia dalam pemberdayaan ekonomi pesantren dalam Rapat Koordinasi Nasional (Rakornas) VII Pesantren Muhammadiyah yang digelar di Edutorium KH Ahmad Dahlan Universitas Muhammadiyah Surakarta (UMS).  Rifki menjelaskan bahwa fokus Bank Indonesia bukan pada aspek pendidikan yang diajarkan di pesantren, tetapi pada pengembangan unit bisnis yang dapat menciptakan kemandirian ekonomi pesantren. “Bank Indonesia hanya memfokuskan pada unit bisnisnya. Diharapkan unit ekonomi pesantren dapat mandiri melalui penghasilan dan bisnis yang dikembangkan,” ujarnya pada Rabu (28/8).  Menurutnya, jika unit bisnis pesantren dapat direplikasi, maka dengan jumlah pesantren yang mencapai 41.000, pesantren dapat memberikan kontribusi signifikan terhadap perekonomian nasional. “Unit bisnis pesantren yang dapat mendukung stabilitas inflasi di Indonesia akan lebih mudah bermitra dengan Bank Indonesia,” tambah Rifki, menekankan pentingnya produk pesantren dalam membantu menjaga stabilitas harga.  Saat ini, Bank Indonesia telah bermitra dengan lebih dari 700 pesantren, namun kemitraan ini lebih difokuskan pada aspek ekonomi yang dihasilkan pesantren, bukan pada aspek pendidikan.  Selain Rifki, Muhammad Taufiqurahman, Sekretaris Kelompok Kerja (Pokja) Kemandirian Pesantren dari Kementerian Agama, juga memberikan paparan mengenai kebijakan pemerintah dalam membangun kemandirian pesantren. Ia menyoroti pentingnya Undang-Undang Pesantren No. 18 Tahun 2019 yang menjabarkan fungsi pesantren sebagai sarana pendidikan, dakwah, dan pemberdayaan masyarakat, termasuk dalam bidang ekonomi.  Taufiqurahman menjelaskan bahwa syarat pendirian pondok pesantren mencakup lima hal: adanya seorang kyai, minimal 15 santri, masjid atau mushola, bangunan pondok atau asrama, dan kajian kitab. “Setelah memenuhi syarat-syarat ini, akan dilakukan verifikasi lapangan oleh Kementerian Agama setempat,” jelasnya.  Ia juga menambahkan bahwa dalam Peraturan Presiden No. 82 Tahun 2021 tentang pendanaan pesantren, disebutkan lima sumber pendanaan pesantren, yaitu dari masyarakat, pemerintah pusat, pemerintah daerah, hibah luar negeri, dan dana abadi pesantren.  Pada tahun 2024 ini, Kementerian Agama telah menyalurkan bantuan kemandirian kepada 824 pondok pesantren di tahap pertama, dengan tahap kedua masih dalam proses seleksi. Langkah ini diharapkan dapat semakin memperkuat kemandirian ekonomi pesantren di seluruh Indonesia.\n",
      "True Label: Positive, Predicted Label: Positive\n",
      "\n",
      "Text 17: - Pegawai Bank Indonesia.  - Pimpinan dan pegawai pada Sekretariat MPR/DPR/DPD/DPRD propinsi atau daerah tingkat II.  - Pegawai pada perguruan tinggi.  - Pegawai pada komisi atau badan yang dibentuk berdasarkan UU, Keppres maupun PP.  - Pimpinan dan pegawai pada Sekretariat Presiden, Sekretariat Wakil Presiden, Sekkab, dan Sekmil.  - Pegawai BUMN dan BUMD.  - Pegawai pada badan peradilan.  - Anggota TNI dan Polri serta pegawai sipil di lingkungan TNI dan Polri.  - Pimpinan dan pegawai di lingkungan pemda daerah tingkat I dan II.  Ternyata, Kaesang, baik sebagai anak presiden maupun pimpinan partai politik, tak masuk dalam daftar tersebut.\n",
      "True Label: Positive, Predicted Label: Positive\n",
      "\n",
      "Text 18: SÃO PAULO –  Seorang hakim Mahkamah Agung Brasil pada hari Jumat memerintahkan penangguhan raksasa media sosial milik Elon Musk, X, di Brasil setelah miliarder teknologi itu menolak menunjuk perwakilan hukum di negara tersebut, menurut salinan keputusan yang dilihat oleh The Associated Press.  Tindakan ini semakin meningkatkan perseteruan selama berbulan-bulan antara kedua pria tersebut terkait kebebasan berbicara, akun-akun sayap kanan, dan misinformasi.  Hakim Alexandre de Moraes telah memperingatkan Musk pada Rabu malam bahwa X dapat diblokir di Brasil jika ia gagal mematuhi perintahnya untuk menunjuk perwakilan, dan menetapkan batas waktu 24 jam. Perusahaan tersebut tidak memiliki perwakilan di negara tersebut sejak awal bulan ini. De Moraes mengatakan platform tersebut akan tetap diblokir hingga mematuhi perintah tersebut.  Brasil merupakan pasar penting bagi X, yang telah berjuang mengatasi hilangnya pengiklan sejak Musk membeli Twitter pada tahun 2022. Kelompok riset pasar Emarketer mengatakan sekitar 40 juta warga Brasil, sekitar seperlima dari populasi, mengakses X setidaknya satu kali per bulan.  X telah memposting di halaman resmi Urusan Pemerintahan Global pada Kamis malam bahwa mereka memperkirakan X akan ditutup oleh de Moraes, “hanya karena kami tidak akan mematuhi perintah ilegalnya untuk menyensor lawan politiknya.”  “Ketika kami mencoba membela diri di pengadilan, Hakim de Moraes mengancam perwakilan hukum kami di Brasil dengan hukuman penjara. Bahkan setelah ia mengundurkan diri, ia membekukan semua rekening banknya,” tulis perusahaan tersebut. “Gugatan kami terhadap tindakannya yang jelas-jelas ilegal ditolak atau diabaikan. Rekan-rekan Hakim de Moraes di Mahkamah Agung tidak mau atau tidak mampu melawannya.”  X telah berselisih dengan de Moraes atas keengganannya untuk mematuhi perintah untuk memblokir pengguna.  Akun-akun yang sebelumnya ditutup oleh platform tersebut atas perintah Brasil mencakup anggota parlemen yang berafiliasi dengan partai sayap kanan mantan presiden Jair Bolsonaro dan aktivis yang dituduh merusak demokrasi Brasil.  Musk, yang menyatakan diri sebagai “pemegang kebebasan berbicara absolut”, telah berulang kali mengklaim bahwa tindakan hakim tersebut merupakan penyensoran, dan argumennya telah digaungkan oleh kelompok politik kanan Brasil. Ia sering menghina de Moraes dalam pidatonya, mencirikannya sebagai seorang diktator dan tiran.  Para pembela De Moraes mengatakan tindakannya yang ditujukan kepada X telah sah, didukung oleh sebagian besar majelis hakim pengadilan dan telah berfungsi untuk melindungi demokrasi di saat demokrasi terancam. Perintahnya pada hari Jumat didasarkan pada hukum Brasil yang mengharuskan perusahaan asing memiliki perwakilan di negara tersebut sehingga mereka dapat diberitahu ketika ada kasus hukum terhadap mereka.  Mengingat operator menyadari kebuntuan yang dipublikasikan secara luas dan kewajiban mereka untuk mematuhi perintah dari de Moraes, ditambah fakta bahwa melakukannya tidak rumit, X dapat offline paling cepat 12 jam setelah menerima instruksi mereka, kata Luca Belli, koordinator Pusat Teknologi dan Masyarakat di Getulio Vargas Foundation, sebuah universitas di Rio de Janeiro.\n",
      "True Label: Positive, Predicted Label: Positive\n",
      "\n",
      "Text 19: Kementerian Keuangan (Kemenkeu) Provinsi Sumatera Utara melaporkan total belanja pemerintah pusat di wilayah ini hingga Juli 2024 telah mencapai Rp12,79 triliun. Alokasi terbesar diberikan kepada Kementerian Pekerjaan Umum dan Perumahan Rakyat (PUPR), yang memprioritaskan penambahan nilai jalan dan jembatan.  Hal tersebut disampaikan Kepala Perwakilan Kementerian Keuangan Provinsi Sumatera Utara, Arridel Mindra, dalam konferensi pers, di Gedung Keuangan Negara, Jalan Diponegoro, Medan, Selasa (20/8/2024).  Arridel menambahkan, realisasi belanja dari Kementerian Pendidikan dan Kebudayaan, Kementerian Agama, serta Kementerian Pertahanan juga menunjukkan pencapaian yang signifikan. Ini menegaskan fokus pemerintah dalam membangun infrastruktur dasar, pendidikan, serta keamanan di wilayah tersebut.  Menurut Arridel, investasi besar di sektor-sektor ini sangat penting untuk memastikan pertumbuhan ekonomi di Sumatera Utara didukung infrastruktur yang memadai serta layanan publik yang optimal. Realisasi belanja yang tinggi mencerminkan komitmen pemerintah dalam meningkatkan kualitas hidup masyarakat, sekaligus mempersiapkan Sumut untuk menghadapi tantangan di masa depan.  Arridel juga menyoroti sejumlah proyek strategis di Sumatera Utara yang telah menunjukkan perkembangan pesat hingga pertengahan tahun ini.  Sebagai Kepala Kanwil Direktorat Jenderal Pajak (DJP) Sumut I, ia mengungkapkan, proyek preservasi dan pembangunan jalan nasional sepanjang 765,7 kilometer telah mencapai realisasi sebesar Rp504,32 miliar. Sementara itu, proyek pembangunan Bendungan Lausimeme telah mencatat progres 67,69% dengan realisasi anggaran Rp203,58 miliar dari total pagu sebesar Rp300,74 miliar.  Di sektor pendidikan, rehabilitasi madrasah dan program beasiswa seperti Program Indonesia Pintar (PIP) dan KIP Kuliah terus berjalan dengan baik. Hingga Juli 2024, total anggaran sebesar Rp1,65 miliar telah disalurkan untuk mendukung 1.962 siswa dan mahasiswa penerima bantuan pendidikan.  Manfaat Langsung dari Belanja Pemerintah  Arridel menegaskan, belanja pemerintah pusat di Sumatera Utara memberikan dampak nyata bagi masyarakat. Program-program seperti Program Indonesia Pintar, bantuan sosial, serta pembangunan infrastruktur dasar telah berhasil menjangkau banyak kalangan di provinsi ini.  Sebagai contoh, ribuan siswa di Sumut telah mendapatkan bantuan pendidikan melalui Program Indonesia Pintar, yang berkontribusi pada peningkatan kualitas pendidikan di wilayah tersebut.  Selain itu, pembangunan infrastruktur seperti pasar, jalan, jembatan, serta fasilitas kesehatan dan pendidikan tidak hanya berdampak pada peningkatan kualitas hidup masyarakat, tetapi juga mendorong pertumbuhan ekonomi dengan membuka akses lebih luas bagi perdagangan dan mobilitas. (**)\n",
      "True Label: Neutral, Predicted Label: Negative\n",
      "\n",
      "Text 20: VIVA – Liga 1 musim 2024/2025 telah dimulai dan Persia Jakarta, tim sepak bola kebanggaan ibu kota, telah melakukan berbagai persiapan untuk menghadapi tantangan musim ini.  Salah satu langkah strategis yang dilakukan adalah kerjasama dengan Le Minerale, produk air mineral asli Indonesia yang kualitasnya melebihi standar internasional.  Dipilihnya Le Minerale oleh Persija Jakarta bukan hanya sekedar pilihan komersial, namun juga didasari oleh visi bersama kedua entitas dalam mendukung prestasi Indonesia di kancah sepak bola tanah air.  Dengan memilih Le Minerale, Persija menunjukkan komitmen kuat terhadap produk dalam negeri yang tidak kalah kualitasnya dengan produk global.  Ambono Ianurianto, CEO Persija, mengungkapkan rasa bangganya atas kerja sama ini, berharap dukungan Le Minerale menjadi tambahan semangat bagi Persija untuk meraih hasil terbaik di Ligue 1 musim ini.  “Kerja sama ini tidak hanya bermanfaat bagi Persija, tapi juga mempertebal semangat nasionalisme kita. Sebagai tim yang mewakili Jakarta, kami bangga bisa menggandeng Le Minerale, produk asli Indonesia yang sudah terbukti kualitasnya di berbagai cabang olahraga kelas dunia. .peristiwa tersebut,” kata Ambono dalam keterangan tertulisnya.  Le Minerale sebagai produk asli Indonesia kini telah terbukti daya saingnya sebagai produk asli Indonesia yang berkualitas dan banyak dipercaya serta dipilih sebagai air mineral resmi untuk event-event bertaraf internasional khususnya dalam kompetisi olahraga.  “Kualitas Le Minerale sudah tidak kami ragukan lagi, apalagi dengan informasi kandungan mineral pada kemasannya yang membuat kami yakin akan kandungan mineralnya. Hal ini sangat menjadi perhatian kami, karena bagi atlet Persia, menjaga kebugaran tubuh selama latihan adalah hal yang penting. khususnya sangat penting pada saat pertandingan, dan dalam hal ini pemilihan air mineral yang tepat tentunya sangat penting,” ujarnya.  Direktur Pemasaran Le Minerale, Febri Khotama pun mengungkapkan rasa bangganya atas kepercayaan yang diberikan Persija.  “Kerja sama ini tidak hanya sekedar bisnis, tapi juga semangat nasionalisme yang kita berdua miliki. Le Minerale dan Persija Jakarta adalah dua aset bangsa yang bersinergi mengharumkan nama Indonesia. Kami yakin dengan kualitas yang dimiliki Le Minerale Kami bisa “memberikan dukungan terbaik untuk para atlet dan seluruh pecinta sepak bola Indonesia,” kata Febri.  Febry juga menambahkan, dukungan Le Minerale asal Persia ini merupakan wujud tanggung jawab mereka sebagai produk nasional yang sudah terbukti kualitasnya dan memenuhi standar internasional.  “Banyak feedback positif yang kami terima dari para atlet dan manajemen Persija yang telah merasakan manfaat mineral esensial yang terkandung dalam Le Minerale, terutama rasanya yang segar. Kualitas tersebut akan kami jaga seiring dengan komitmen kami untuk menghadirkan produk terbaik untuk Indonesia. seluruh masyarakat, “khususnya bagi putra-putri terbaik bangsa, seperti para atlet Persia,” ujarnya.  “Dan tidak hanya itu, tentunya melalui kerjasama ini kami juga ingin seluruh suporter dan suporter Persija bisa merasakan kesegaran Le Mineralo dalam setiap kegiatan yang berlangsung,” ujarnya.  Dengan semangat nasionalisme yang tinggi, Le Minerale dan Persija Jakarta bersatu dan mengutarakan harapannya untuk meraih kesuksesan di musim 2024/2025 dan membawa kemajuan bagi dunia sepak bola Indonesia.\n",
      "True Label: Negative, Predicted Label: Negative\n",
      "\n",
      "Text 21: Kota Depok | antarwaktu.com – PT. Bank Rakyat Indonesia Tbk. (BRI) melalui Kantor Wilayah (Kanwil) Jakarta 2 bersama Universitas Indonesia (UI) meresmikan UI—BRI Work Startup Center di Depok, Jawa Barat.  Prosesi peresmian BRI Work tersebut dihadiri Direktur Retail Funding & Distribution Andrijanto, Wakil Rektor Bidang Sumber Daya Manusia dan Aset Universitas Indonesia Prof. Ari Kuncoro , SE, MA, PhD. serta Regional CEO BRI Jakarta 2 Suyitno.  “Jadi, UI—BRI Work Startup Center merupakan salah satu bentuk kerja sama antara UI dengan BRI untuk memfasilitasi dan menunjang peningkatan kualitas penyelenggaraan Perguruan Tinggi, baik bidang akademik maupun non-akademik terutama pada bidang startup. Hal itu, BRI tentunya juga peduli terhadap bidang pendidikan, salah satunya dengan adanya kerjasama seperti ini,” ujar Regional CEO BRI Jakarta 2, Suyitno, Sabtu (31/8/2024).  Ia menjelaskan, bahwa BRI juga tidak berhenti samapai di situ. Ada bidang-bidang lain juga yang selama ini juga di kerjasama kan atau masuk ke dalam program Corporate Social Responsibility (CSR). Antaralain di bidang kesehatan, keagaamaan, sosial lingkungan dan masih banyak lainnya.  “Untuk itu, kami akan terus berupaya semaksimal mungkin memberikan pelayanan serta apresiasi yang baik kepada nasabah maupun lingkungan,” jelas Suyitno.  Suyitno menegaskan, bahwa BRI juga terus mengembangkan layanan, produk dan program sehingga para nasabah semakin nyaman dalam melaksanakan berbagai transaksi baik di kantor cabang maupun dalam penggunaan aplikasi BRImo.  “Artinya, layanan BRI bisa dilakukan di kantor cabang maupun di aplikasi yang tentunya memudahkan nasabah dalam melakukan transaksi perbankan,” tandasnya.\n",
      "True Label: Neutral, Predicted Label: Neutral\n",
      "\n",
      "Text 22: OKe NUSRA - Dewan Perwakilan Rakyat Daerah (DPRD) Kota Kupang Periode 2019 - 2024, mendapatkan peringatan dari Asisten Intelejen (Asintel) Kejaksaan Tinggi Nusa Tenggara Timur (Kejati NTT), Bambang Dwi Murcolono.  Pasalnya, hingga saat ini kelebihan tunjangan perumahan dan transportasi anggota DPRD Kota Kupang periode 2019 - 2024 lalu, belum juga melunasi pengembalian kelebihan tunjangan tersebut.  Asisten Intelejen Kejati NTT, Bambang Dwi Murcolono mengapresiasi itikad baik pimpinan dan anggota DPRD Kota Kupang yang mengembalikan uang kelebihan pembayaran yang diterima oleh Pimpinan dan Anggota DPRD Kota Kupang tersebut.  Asintel Kejati NTT menghimbau agar pimpinan dan anggota DPRD Kota Kupang lainnya yang belum mengembalikan uang kelebihan pembayaran tunjangan yang diterimanya, untuk segera mengembalikannya kepada Jaksa Kejaksaan Tinggi NTT sampai batas waktu yang telah ditentukan.  \"Saya menghimbau agar pimpinan dan anggota DPRD Kota Kupang lainnya yang belum mengembalikan uang kelebihan pembayaran tunjangan yang sudah diterima segera dikembalikan,\" tegas Asintel Kejati NTT, Bambang Dwi Murcolono.  Belum lama ini, Anggota Dewan Perwakilan Rakyat Daerah (DPRD) Kota Kupang periode 2019 - 2024, mengembalikan kelebihan tunjangan transportasi dan tunjangan perumahan anggota DPRD Kota Kupang sebesar Rp555. 300. 000.  Pengembalian kelebihan tunjangan transportasi dan tunjangan perumahan anggota DPRD Kota Kupang ini dilakukan oleh delapan belas (18) anggota DPRD Kota Kupang.  Ini merupakan pengembalian jeuangan daerah Kota Kupang tahap II berupa kelebihan tunjangan transportasi dan tunjangan perumahan Alanggota DPRD Kota Kupang Bulan Oktober 2022 sampai dengan September 2023 serta Kelebihan Belanja Natura dan Pakan Natura Pimpinan DPRD Kota Kupang Bulan Januari sampai dengan Desember 2023.  Pengembalian kelebihan dana tersebut dilakukan oleh sekretaris dewan DPRD Kota Kupang, M.D. Rita Haryani kepada Asisten Intelejen Kejati NTT, Bambang Dwi Murcolono yang disaksikan oleh Asisten Administrasi Umum Setda Kota Kupang, Yanuar Dally. selanjutnya dana tersebut diserahkan oleh Asisten Intelijen Kejati NTT kepada Asisten Administrasi Umum Setda Kota Kupang untuk disetor ke rekening titipan Kejati NTT di Bank NTT.  Sebelumnya pada Kamis 18 Juli 2024 lalu, telah dilakukan pengembalian keuangan daerah Kota Kupang sebesar Rp. 670.500.000 sehingga sampai saat ini total Keuangan Daerah Kota Kupang yang berhasil dikembalikan adalah sebesar Rp. 1.225.800.000 dengan perincian 4 (empat) orang telah mengembalikan seluruhnya (100%), sedangkan sisanya sebanyak 36 orang masih mencicil.  Melalui operasi intelijen diperoleh data dan keterangan bahwa kenaikan Tunjangan Perumahan, Tunjangan Transportasi dan Belanja Natura dan Pakan Natura dari DPRD Kota Kupang yang dilakukan oleh pemerintah Kota Kupang dan DPRD Kota Kupang Tahun 2022 dan Tahun 2023 telah melebihi standar yang telah ditentukan berdasarkan aturan yang berlaku diantaranya Peraturan Menteri Keuangan Nomor : 60/PMK.02/2021 tentang standar biaya masukan tahun anggaran 2022 dan Revieu Inspektorat tahun 2021 sehingga mengakibatkan terjadi selisih pembayaran ataukelebihan pembayaran sebesar Rp.5.824.200.000.***\n",
      "True Label: Positive, Predicted Label: Negative\n",
      "\n",
      "Text 23: Jakarta, MISTAR.ID  Saat ini pemerintah lewat Direktorat Jenderal Pajak (DJP) mempunyai kewenangan ekstra untuk menerima akses informasi keuangan bagi kebutuhan perpajakan.  Kewenangan itu salah satunya mengintip rekening tabungan masyarakat yang jumlahnya Rp 1 miliar. Itu sudah dituangkan dalam pasal 19 Peraturan Menteri Keuangan (PMK) Nomor 19 Tahun 2018. Nominal rekening ini naik dari PMK Nomor 70 Tahun 2017 yang hanya Rp 200 juta.  Pemilik rekening bank yang dapat diintip isinya oleh otoritas pajak pun tak diperbolehkan bersekongkol dengan bank untuk menutup akses itu.  Di pasal 7 PMK menyatakan, pihak lembaga jasa keuangan juga harus menyerahkan laporan yang berisi informasi keuangan untuk masing-masing rekening keuangan yang agregat saldo atau nilai rekening keuangannya melebihi US$ 250.000.  “Bank adalah salah satu jenis lembaga keuangan pelapor informasi keuangan dan berkewajiban untuk melaksanakan identifikasi rekening keuangan (due diligence), serta melaporkannya ke DJP sesuai standar yang berlaku,” papar Direktur Penyuluhan, Pelayanan, dan Hubungan Masyarakat DJP, Dwi Astuti, seperti dikutip, pada Selasa (13/8/24).  Sementara pihak-pihak yang melakukan persekongkolan dalam menghambat DJP mendapatkan akses informasi keuangan untuk kebutuhan perpajakan dimaksud, bakal kehilangan layanan pembukaan rekening baru sampai transaksi di per bank.  Sebetulnya regulasi ini bukan aturan baru. Ketentuan ini telah diatur dalam PMK-70/PMK.03/2017 stdtd PMK-19/PMK.03/2018. Peraturan itu mengharuskan Lembaga Jasa Keuangan (LJK) memberikan laporan.  “Sesuai pasal 19 ayat (4) PMK-70/PMK.03/2017 stdtd PMK-19/PMK.03/2018, Lembaga Jasa Keuangan (LJK) yang melakukan kegiatan di sektor perbankan, pasar modal, perasuransian, lembaga jasa keuangan lainnya, dan/atau entitas lain mempunyai kewajiban untuk menyampaikan laporan memuat informasi keuangan yang dikelolanya selama 1 tahun kalender ke DJP secara otomatis,” imbuh Dwi.  Batasan nilai rekening keuangan yang haruskan dilaporkan oleh LJK sektor perbankan adalah agregat saldo paling sedikit Rp 1 miliar terhadap rekening keuangan yang dimiliki oleh orang pribadi. Lalu tanpa batasan saldo minimal untuk rekening keuangan yang dipunyai oleh entitas. (cnn/cnbc/hm16)\n",
      "True Label: Positive, Predicted Label: Positive\n",
      "\n",
      "Text 24: kembali digelar pada tahun ini. Ajang olahraga itu diselenggarakan di Gianyar-Bali pada 25 Agustus 2024, dengan melibatkan sekitar 13.000 peserta dari Indonesia dan mancanegara.  “Kami sangat mengapresiasi dukungan Aqua pada penyelenggaraan Maybank Marathon 2024 termasuk upaya edukasi dan pengumpulan sampah di sekitar lokasi lomba lari yang menjadikan event kami senantiasa ramah lingkungan,” ujar Widya melalui keterangan tertulis. “Upaya yang Aqua lakukan, baik dengan menyediakan air mineral maupun pengumpulan sampah di perhelatan Maybank Marathon 2024, diharapkan dapat meningkatkan kesadaran para peserta maupun masyarakat Bali akan pentingnya kecukupan air terutama ketika berolahraga, sekaligus memperluas pesan tentang pentingnya menjaga kelestarian lingkungan,” jelas Direktur Corporate Communications Danone Indonesia Arif Mujahidin.  Perayaan Hari Ulang Tahun ke-56 PT Vale Indonesia Tbk baru saja berlangsung dengan tema 'Melangkah Pasti, Bersinergi Membangun Kehidupan Lestari'.  Berita ini telah kami rangkum agar Anda dapat membacanya dengan cepat. Jika Anda tertarik dengan beritanya, Anda dapat membaca teks lengkapnya di sini. Baca lebih lajut:  Indonesia Berita Terbaru, Indonesia Berita utama  Similar News: Anda juga dapat membaca berita serupa dengan ini yang kami kumpulkan dari sumber berita lain.  Sambil Menyelam Minum Air, Maybank Indonesia Jaring Nasabah Baru Lewat Maybank Marathon 2024. Akan tetapi, event ini juga untuk menjaring nasabah baru Maybank Indonesia. Sumber: suaradotcom - 🏆 28. / 53 Baca lebih lajut »  Pendaftaran KIP Kuliah 2024 Dibuka Lagi Hari Ini, Berikut Syarat dan Cara Daftarnya Pendaftaran KIP Kuliah 2024 dibuka lagi mulai 29 Juli 2024 hingga 31 Oktober 2024. Sumber: KompasTV - 🏆 22. / 63 Baca lebih lajut »  Belasan Ribu Pelari Maybank Marathon 2024 di Bali Gunakan Sunscreen untuk Lindungi Kulit Belasan ribu pelari nasional dan internasional pada ajang lomba lari Maybank Marathon ke-13 tahun 2024 di Bali menggunakan Sunscreen Spray Tabir Surya Sumber: VIVAcoid - 🏆 3. / 90 Baca lebih lajut »\n",
      "True Label: Negative, Predicted Label: Negative\n",
      "\n",
      "Text 25: KONTAN.CO.ID - Jakarta. Info penting untuk nasabah PT Adira Dinamika Multi Finance Tbk (ADMF) yang ingin mengikuti program undian Umrah Untuk Sahabat. Besok 30 Juni 2024 adalah batas akhir penukaran Adirapoin untuk penukaran kupon undian Umrah Untuk Sahabat.  Umrah Untuk Sahabat adalah salah satu program unggulan Adira Finance untuk mendorong kinerja pemasaran. Di program ini, perusahaan yang terafiliasi Bank Danamon tersebut memberikan hadiah umrah gratis untuk sekitar 300 pelanggan terpilih.  Pemenang Umrah Untuk Sahabat akan berangkat umrah ke tanah suci sekitar bulan Oktober 2024. Salah satu cara mengikuti program Umrah Untuk Sahabat adalah dengan menukar Adirapoin yang dimiliki nasabah.  \"Batas penukaran Adirapoin dengan kupon undian Umrah Untuk Sahabat adalah 30 Juni 2024, karena bulan Juli akan dilakukan pengundian,\" terang Dewa Made Susila, Direktur Utama Adira Finance, saat dihubungi Kontan, Sabtu 29 Juni 2024.  Mengutip website resmi, Adirapoin adalah program loyalitas untuk konsumen Adira Finance berupa poin yang dapat ditukarkan konsumen dengan potongan angsuran atau voucher (pulsa / PLN / Indomaret / Alfamart). Adirapoin diberikan kepada konsumen aktif dan konsumen yang sudah lunas angsuran sampai 2 tahun ke depan.  Kemudian Adirapoin juga diberikan kepada konsumen perorangan, konsumen yang registrasi Adirapoin melalui SMS, WA atau aplikasi Adiraku, serta konsumen yang membayar angsuran tepat waktu. Tiap pembayaran angsuran sebesar Rp 2.500 mendapatkan Adira poin sesuai dengan tingkatan member, yakni 2 poin untuk member perak, 3 poin member emas dan 4 poin member platinum.  Untuk mendapatkan 1 kupon undian Umrah Untuk Sahabat, pelanggan cukup menukar 5.000 Adirapoin. Cara menukarkan Adirapoin dengan kupon undian Umrah untuk Sahabat dapat dilakukan secara online menggunakan aplikasi Adiraku.  Berikut cara menukar Adirapoin dengan kupon undia Umrah Untuk Sahabat:  Login aplikasi Adiraku Pada halaman Beranda, klik menu Adirapoin Pada halaman adirapoin, klik banner Undian Umrah Muncul halaman penukaran undian, klik Tukar Kupon Pilih jumlah kupon yang akan ditukarkan, lalu klik Tukar Poin Muncul halaman Penukaran kupon undian berhasil.  Jika terjadi kendala saat penukaran Adirapoin, nasabah dapat menghubungi layanan Dering Adira Finance:  1. Call Center 1500511 2. Aplikasi adiraku pada menu Bantuan 3. Whatsapp: 08118115811, ketik: HCS  Penukaran Adirapoin hanya dapat dilakukan di aplikasi Adiraku versi 2.17. Sebelum tukar Adirapoin, nasabah Adira Finance bisa cek jumlah poin yang dimiliki melalui berbagai cara.  Cara cek jumlah Adirapoin  Mengutip website resmi Adira, berikut cara cek jumlah Adirapoin:  1. Cara mengetahui Adirapoin melalui aplikasi Adiraku:  Login pada aplikasi adiraku Pada layar beranda akan terlihat tingkat (level) “Member” dan “Jumlah Poin”  2. Cara mengetahui Adirapoin melalui SMS:  Ketik POIN[spasi]AP[spasi]NIK KTP kirim ke 08118115811  Contoh: POIN AP 0123456789123456  3. Untuk mengetahui Adirapoin melalui SMS:  Jumlah Adirapoin bisa dicek dengan SMS menggunakan nomor handphone yang terdaftar di Adira Finance / nomor yang teregistrasi di adirapoin.  4. Cara mengetahui Adirapoin melalui Whatsapp (WA) Official Adira Finance  Ketik #POIN#AP#NIK KTP kirim ke 08118115811  Contoh: #POIN#AP#0123456789123456  Untuk mengetahui poin melalui WA harus menggunakan nomor handphone yang terdaftar di Adira Finance / nomor yang teregistrasi di adirapoin.  Jadi, apakah Anda ingin umrah gratis? Segera tukarkan Adirapoin dengan kupon undian Umrah Untuk Sahabat sebelum periode penukaran berakhir.  4 Rencana Pensiun ala Robert Kiyosaki, Belum Banyak yang Tahu | KONTAN Personal Finance  4 Rencana Pensiun ala Robert Kiyosaki, Belum Banyak yang Tahu | KONTAN Personal Finance  Pemerintah Segera Berikan Izin Usaha Pertambangan untuk Badan Usaha Milik NU | Kontan News\n",
      "True Label: Negative, Predicted Label: Negative\n",
      "\n",
      "Text 26: Jakarta (19/09) — Komisi X DPR RI menekankan pengaturan RUU tentang Perubahan Ketiga atas UU Nomor 10 Tahun 2009 tentang Kepariwisataan akan didasarkan pada paradigma baru kepariwisataan yakni pariwisata berkualitas. “Pengaturan substansi RUU Kepariwisataan didasarkan paradigma baru kepariwisataan dari pariwisata massal (mass tourism) kepada pariwisata berkualitas (quality tourism),” ujar Wakil Ketua Komisi X DPR RI Abdul Fikri Faqih saat membacakan kesimpulan Rapat Kerja Komisi X dan Kemenparekraf di Gedung Nusantara I, DPR RI, Senayan, Jakarta, Selasa (17/09/2024). Selain itu, adapun penguatan identitas bangsa, perekonomian dan pertahanan bangsa dengan tetap menjaga nilai-nilai masyarakat, adat istiadat, kekayaan alam dan warisan budaya di mana pengenalannya dimulai dari pendidikan. Kemudian pengaturan kelembagaan pariwisata dengan merujuk kelembagaan di Tingkat global dengan mengutamakan spirit kolaborasi serta menjadikan pariwisata sebagai sektor prioritas pembangunan. Pembahasan pembicaraan tingkat I mengenai RUU tentang Perubahan Ketiga atas UU Nomor 10 Tahun 2009 tentang Kepariwisataan ini juga disepakati untuk dilakukan pada masa Persidangan I Tahun 2024-2025. Namun apabila tidak memungkinkan maka akan dilakukan carry over pada DPR RI periode 2024-2029.\n",
      "True Label: Negative, Predicted Label: Negative\n",
      "\n",
      "Text 27: INIBENGKULU – KUR BRI 2024 memiliki tujuan untuk membantu menggerakkan sektor ekonomi kerakyatan melalui penyaluran pinjaman dengan bunga rendah kepada pelaku UMKM di Indonesia.  Selama ini banyak pelaku UMKM yang kesulitas mendapatkan akses pembiayaan perbankan karena terkendala sulitnya persyaratan, salah satunya harus memiliki usaha.  Dengan hadirnya program KUR, salah satunya di Bank BRI, pemerintah mempermudah akses pembiayaan baik modal kerja maupun investasi kepada pelaku UMKM dengan menyediakan pinjaman yang bisa diajukan tanpa harus menggunakan agunan atau jaminan karena sudah mendapat jaminan dari lembaga penjamin.  Tak hanya itu, melalui pembiayaan KUR BRI, pelaku usaha juga tidak perlu merasakan suku bunga tinggi karena bunga KUR mendapat subsidi dari pemerintah.  Setelah disubsidi, bunga KUR yang dibebankan kepada nasabah hanya sebesar 6 persen per tahun, bahkan pada pembiayaan KUR Super Mikro diberikan bunga spesial yakni hanya 3 persen per tahun.  Namun limit yang diberikan kecil yakni maksimal hanya 10 juta dan sasaran utamanya kepada pelaku usaha yang baru pertama kali mengajukan pinjaman KUR.  Secara umum syarat debitur KUR BRI hanya bisa diajukan oleh pemilik usaha yang sudah produktif dan dinilai layak serta belum pernah mendapatkan kredit atau pembiayaan komersial perbankan.  Kepada pemilik usaha yang memenuhi kriteria di atas bisa mengajukan pinjaman melalui 3 jenis pembiayaan dengan limit pinjaman maksimal sampai 500 juta  Pembiayaan limit terendah tersedia pada pembiayaan KUR Super Mikro yakni maksimal 10 juta kemudian ada KUR mikro limit di atas 10 juta sampai 100 juta dan limit pinjaman tertinggi ada pada KUR Kecil yakni di atas 100 juta sampai 500 juta.  Untuk mengajukan KUR di Bank BRI, calon nasabah cukup melengkapi syarat administrasi yakni legalitas usaha seperti SKU dari kades atau lura, NIB atau SIUP, NPWP yang masih aktif serta KTP dan Kartu Keluarga.  Pemerintah melalui permenko no 1 tahun 2023 tentang penyaluran KUR hanya memberi batasan maksimal 100 juta untuk limit yang bisa diajukan tanpa jaminan. Untuk limit di atas 100 juta sampai dengan 500 juta harus menyertakan jaminan.  Berikut ini simulasi tabel angsuran lengkapnya  Itulah pembahasan yang dapat disampaikan mengenai pinjam KUR BRI 500 juta lengkap dengan tabel pinjaman dari 10 sampai 500 juta. ***\n",
      "True Label: Positive, Predicted Label: Positive\n",
      "\n",
      "Text 28: Faktanews24.com | BEKASI – Satreskrim Polres Metro Bekasi Kota, berhasil mengungkap kasus penipuan kredit kendaraan di PT Adira yang melibatkan tiga orang pelaku.  “Pelaku melakukan transaksi jual beli kendaraan dari pihak PT Adira, ditangkap di BTC lantai 2 pada tanggal 25 Juli 2024,” ujar Wakasat Reskrim, Kompol Dedi Iskandar, saat Konferensi Pers, Rabu (18/9/2024).  Kompol Dedi mengatakan, modus yang digunakan pelaku sangat terstruktur. Mereka menyewa rumah kontrak di daerah Pondok Gede, dan membuat surat keterangan palsu sebagai syarat pengajuan kredit.  “Mereka memalsukan AJB (Akta Jual Beli) dan slip gaji, untuk meyakinkan pihak PT Adira, bahwa mereka memiliki penghasilan yang memadai,” ungkapnya.  Tak hanya itu, pelaku juga membuat rekening koran palsu yang menunjukkan transaksi besar. “Setelah dokumen-dokumen palsu tersebut lengkap, pelaku mengajukan permohonan kredit kendaraan,” tambah Kompol Dedi.  Dijelaskan oleh Kompol Dedi, PT Adira, yang tertipu oleh dokumen palsu tersebut, menyetujui permohonan kredit dan menyerahkan kendaraan kepada pelaku. Namun, pelaku tidak membayar kembali angsuran dan menghilang.  “8 unit kendaraan yang diajukan oleh pelaku. Saat ini, kami masih dalam tahap pencarian lainnya,” papar Kompol Dedi.  Polisi berhasil mengamankan satu unit mobil Honda Brio, yang diduga terkait dengan kasus penipuan. Sedangkan dua unit kendaraan lainnya yang diamankan, atas nama pelaku, namun tidak berada di lokasi penangkapan.  Tiga orang pelaku yang berhasil ditangkap adalah RAI (pelaku yang mengajukan permohonan kredit), MHA (pelaku yang memasarkan kendaraan), dan FR (pelaku yang mencari pembeli).  Atas perbuatannya, pelaku dijerat dengan Pasal 378 KUHP tentang penipuan dan atau Pasal 35 Undang-Undang RI Nomor 42 Tahun 1999 tentang Jaminan Fidusia. Ancaman hukumannya adalah penjara selama 5 tahun.  “Kami mengimbau kepada masyarakat untuk berhati-hati dalam melakukan transaksi jual beli kendaraan. Pastikan dokumen yang diajukan valid dan kredibel,” pungkas Kompol Dedi.  Post Views: 24  Penulis  Red_\n",
      "True Label: Neutral, Predicted Label: Neutral\n",
      "\n",
      "Text 29: JAKARTA, investor.id – Upaya nyata dalam memberdayakan UMKM di sektor kuliner terus ditunjukkan oleh PT Bank Rakyat Indonesia (Persero) Tbk. Terbaru, BRI mendukung gelaran event Jelajah Kuliner Indonesia 2024 bertema \"Menjelajahi Rasa, Merayakan Budaya\" berlangsung di Sarinah, Jakarta pada tanggal 6 - 8 September 2024. Event ini menjadi salah satu kegiatan yang bertujuan untuk mempromosikan dan mendukung pengembangan Usaha Mikro, Kecil, dan Menengah (UMKM) di Indonesia, khususnya dalam industri kuliner.  Direktur Commercial, Small, and Medium Business BRI Amam Sukriyanto mengungkapkan bahwa dukungan BRI terhadap event Jelajah Kuliner Nusantara 2024 ini menjadi upaya BRI untuk terus meningkatkan potensi ekonomi di industri ekonomi kreatif, khususnya kuliner.  “Acara ini kami harapkan dapat meningkatkan kapasitas dan kapabilitas UMKM sehingga dapat terbangun usaha yang berkualitas. Di sisi lain masyarakat juga diharapkan dapat menikmati dan mengonsumsi kuliner nusantara sebagai warisan budaya,” katanya.  Mengutip data Kementerian Pariwisata dan Ekonomi Kreatif RI, kuliner sendiri merupakan subsektor penyumbang terbesar dari Produk Domestik Bruto (PDB) ekonomi kreatif. Subsektor kuliner menyumbang Rp 455,44 triliun atau sekitar 41 persen dari total PDB ekonomi kreatif tahun 2020 sebesar Rp 1.134 triliun.  Dalam event ini menghadirkan 100 UMKM binaan BUMN yang terdaftar di PaDi UMKM yang terbagi dalam dua area utama: 80 UMKM di area Pasar Jajan Indonesia dengan konsep minimarket, dan 20 UMKM kuliner otentik di area outdoor yang didatangkan langsung dari berbagai penjuru Indonesia, seperti Bebek Sinjay dari Bangkalan, Madura, Pecel Madiun Yu Gembrot dari Madiun, hingga kuliner khas Indonesia Timur.  Staf Ahli Bidang Keuangan dan Pengembangan UMKM Kementerian BUMN, Loto Srinaita Ginting menyatakan, kegiatan ini tidak hanya bertujuan untuk membantu UMKM yang bergerak dalam sektor makanan dan minuman dalam memperluas pasar dan meningkatkan penjualannya, tetapi juga sebagai upaya Kementerian BUMN untuk memperkenalkan dan melestarikan keanekaragaman kuliner nusantara, khususnya kepada generasi muda yang saat ini digandrungi oleh berbagai jenis makanan dan minuman dari luar negeri.  “Melalui bazar Jelajah Kuliner Indonesia ini, kita berharap generasi muda makin cinta dan bangga dengan makanan dan minuman khas Indonesia. Bahkan tidak itu saja, tapi juga mengkonsumsi dan membudayakan makanan dan minuman khas Indonesia di lingkungannya masing-masing,” ujar Loto.  Kegiatan ini juga menjadi bagian dari upaya Kementerian BUMN untuk mendorong UMKM Go Digital di mana seluruh UMKM yang mengikuti bazar sudah terdaftar pada platform PaDi UMKM. Platform ini dikembangkan atas inisiasi dari Kementerian BUMN untuk mendukung pemasaran UMKM.  Saat ini, PaDi UMKM telah berkembang menjadi marketplace B2B dengan berbagai fitur dan layanan yang dapat memenuhi kebutuhan pengadaan barang dan jasa perusahaan BUMN. Selain dapat mempertemukan seller UMKM dengan buyer BUMN, PaDi UMKM juga memiliki layanan yang dapat digunakan oleh masyarakat umum untuk melakukan transaksi retail, termasuk transaksi yang dilakukan dalam Bazar UMKM untuk Indonesia. Seluruh transaksi yang dilakukan selama bazar, dilakukan menggunakan platform PaDi UMKM.  Jelajah Kuliner Indonesia diharapkan dapat memberikan pengalaman kuliner yang tak terlupakan bagi para Foodies (pengunjung). Selain menikmati berbagai sajian kuliner otentik nusantara, Foodies juga dapat berpartisipasi dalam berbagai kegiatan menarik, seperti talk show dengan narasumber UMKM terbaik, workshop Icip-Icip, live cooking oleh chef terkenal, penampilan spesial dari Ghea Indrawari dan Nadhif Basalamah, serta berbagai fun activity\n",
      "True Label: Neutral, Predicted Label: Positive\n",
      "\n",
      "Text 30: Bank valuta asing Swiss Dukascopy telah meluncurkan laporan keuangannya untuk enam bulan yang berakhir pada 30 Juni 2024.  Laporan terbaru firma yang berpusat di Jenewa itu ditandai oleh metrik yang lemah di berbagai bidang mulai dari pendapatan operasional hingga pendapatan.  Secara khusus, pendapatan setengah tahunan bank valas turun lebih dari sepertiga menjadi CHF 7.1 juta pada paruh pertama tahun 2024, turun dari CHF 11.4 juta tahun lalu. Pendapatan dari aktivitas perdagangan hampir setengahnya menjadi CHF 5.1 juta, turun dari CHF 9.6 juta pada semester pertama tahun 2023.  Beban operasional Dukascopy, termasuk biaya personel dan administrasi, meningkat menjadi CHF 9.80 juta dari CHF 9.75 juta pada tahun sebelumnya. Penyusutan dan penyesuaian nilai pada aset berwujud dan tidak berwujud juga berdampak pada laba bersih, tetapi laba operasional keseluruhan tetap negatif pada CHF 3.1 juta dibandingkan dengan laba CHF 787,635 tahun lalu.  Meski demikian, Dukascopy diuntungkan oleh suku bunga yang lebih tinggi, menghasilkan pendapatan bunga sebesar CHF 1.33 juta dibandingkan dengan CHF 685,683 tahun lalu. Bank juga memperoleh pendapatan bersih sebesar CHF 629,781 dari bisnis dan layanan komisi lainnya.  Angka laba bersih broker, yang tidak memperhitungkan bunga yang diterima dan pendapatan lain, juga menunjukkan kinerja tahun-ke-tahun yang lambat dibandingkan dengan tahun 2023, yang menghasilkan laba sebesar CHF 80,815, dari CHF 438,851 pada tahun sebelumnya.  Dukascopy baru-baru ini menawarkan tawaran pengembalian uang tunai (cashback) sebesar 50% pada komisi volume untuk mantan klien FlowBank.  Langkah ini dilakukan menyusul perintah regulator keuangan Swiss untuk menutup FlowBank karena pelanggaran parah terhadap persyaratan permodalan dan undang-undang pengawasan lainnya. Hal ini menyusul serangkaian tindakan penegakan hukum terhadap bank tersebut yang dimulai pada Oktober 2021.  Pedagang FlowBank sekarang diundang untuk membuka rekening Dukascopy untuk memanfaatkan tawaran ini. Setelah akun dibuka, pedagang perlu memberi tahu manajer akun pribadi mereka tentang kelayakan mereka untuk mulai menerima manfaat uang kembali.  Dukascopy memikat pendatang baru dengan beragam platform perdagangan, dan cakupan aset yang luas, memungkinkan mereka berdagang valas, logam, komoditas, saham, indeks, ETF, obligasi, dan mata uang kripto. Selain itu, Dukascopy menyoroti komitmennya terhadap standar keamanan perbankan Swiss, penetapan harga yang transparan, dan perlindungan simpanan hingga CHF 100,000.  Di tempat lain, bank meluncurkan produk pinjaman baru yang memungkinkan nasabah memanfaatkan aset kripto mereka. Fitur otomatis ini memungkinkan pengguna meminjam hingga 50% dari nilai aset digital mereka dalam mata uang fiat sambil tetap mempertahankan kepemilikan atas investasi kripto asli mereka.  Dukaskopi Bank, yang berkantor pusat di Jenewa, kini menawarkan klien opsi untuk mendapatkan pinjaman tunai dalam dolar AS sambil menjaga investasi mata uang kripto mereka tetap utuh. Di bawah program pinjaman bank yang baru, klien dapat mengakses pinjaman hingga setengah dari nilai aset mata uang kripto mereka dalam mata uang fiat.\n",
      "True Label: Positive, Predicted Label: Positive\n",
      "\n",
      "Text 31: New Delhi, 31 Agustus: Antarmuka Pembayaran Terpadu (UPI) India telah melampaui platform pembayaran digital terkemuka di dunia, memproses hampir INR 81 triliun pada periode April-Juli tahun ini, menunjukkan peningkatan yang mengejutkan sebesar 37 persen (tahun ke tahun). Menurut data terbaru dari pusat pembayaran global Paysecure, UPI memproses 3.729,1 transaksi per detik – meningkat 58 persen dari 2.348 transaksi per detik yang tercatat pada tahun 2022 – melampaui Alipay, PayPal Tiongkok, dan PIX Brasil dalam jumlah transaksi, data menunjukkan.  Pada bulan Juli, transaksi UPI melampaui Rs 20,6 triliun – tertinggi sepanjang masa dalam satu bulan. Nilai transaksi UPI yang diproses bertahan di atas Rp 20 triliun selama tiga bulan berturut-turut. Paysecure memeriksa 40 metode pembayaran alternatif teratas dari seluruh dunia untuk mengungkap data ini. Hasilnya menunjukkan bahwa India memimpin dunia dalam transaksi digital, dengan lebih dari 40 persen pembayaran dilakukan secara digital, dan UPI digunakan untuk sebagian besar pembayaran tersebut. Otoritas Nasional untuk Perlindungan dari Kejahatan Keuangan berupaya menggunakan teknologi canggih untuk mengidentifikasi dan mengekang rekening “uang selundupan” di tengah meningkatnya kejahatan keuangan dan penipuan.  Menurut Dilip Aspe, CEO National Payments Corporation of India, UPI berpotensi mencapai 100 miliar transaksi dalam 10-15 tahun ke depan didukung oleh pertumbuhan kredit. Kredit tersebut telah diluncurkan di UPI dan iklannya akan dirilis dalam beberapa minggu. Sebanyak 13,89 miliar transaksi tercatat di UPI pada bulan Juni, naik dari 14,04 miliar pada bulan Mei, menurut angka resmi.  Menurut laporan perusahaan konsultan PwC India, jumlah transaksi di UPI diperkirakan akan melonjak lebih dari tiga kali lipat dari sekitar 131 miliar pada tahun 2023-24 menjadi 439 miliar pada tahun 2028-29, yang merupakan 91 persen dari total ritel digital. transaksi. Menurut Gubernur RBI Shaktikanta Das, berdasarkan tanggapan menggembirakan yang diterima dari beberapa yurisdiksi, bank apex kini fokus untuk menjadikan “UPI dan RuPay benar-benar global”. IndiGo Airlines bermaksud untuk melanjutkan operasi dari Terminal 1 Bandara Delhi mulai 2 September.  Menyebarkan infrastruktur mirip UPI di yurisdiksi asing, memfasilitasi penerimaan pembayaran berbasis kode QR melalui aplikasi UPI di lokasi pedagang internasional, dan menghubungkan UPI dengan Sistem Pembayaran Cepat (FPS), katanya di Global FinTech Festival di Mumbai minggu ini Pengiriman uang lintas negara merupakan agenda utama mereka.\n",
      "True Label: Positive, Predicted Label: Positive\n",
      "\n",
      "Text 32: NASIONAL, RBTVCAMKOHA.COM - Promo JSM Indomaret Super Hemat periode 26 Juli- 28 Juli 2024, harga sunlight cuma segini.  Promo Indomaret kembali hadir untuk melengkapi kebutuhan harian para pelanggan setianya.  Menawarkan berbagai produk dengan potongan harga yang memuaskan, promo ini merupakan lanjutan dari promo mingguan Indomaret yang bernama Super Hemat.  Promo JSM Indomaret kali ini menawarkan potongan harga menarik untuk beragam merek produk.  Melansir Instagram resmi Indomaret (@indomaret), inilah katalog promo Indomaret Super Hemat periode 26 Juli- 28 Juli 2024:  Simba cereal choco chips+ kalsium 34g Semua varian, dari harga Rp 16.000/2cup menjadi Rp 12.800/cup Apel fuji sun sweet pcs, dari harga Rp 14.000 menjadi Rp 11.900 untuk daerah pulau Jawa dan Sumatera (Aceh& Bangka) Pepsodent pasta gigi white 225g, dari harga Rp 18.200 menjadi Rp 12.500 Rexona deodorant roll on men ice cool/invicible dry 45ml, dari harga Rp 21.500 menjadi Rp 12.900 Happy Tos tortilla chips merah/ hot chili 140g, dari harga Rp 11.300 menjadi Rp 8.500 Sunsilk shampoo co-creations black shine/ soft smooth/ hijab fresh 340/320ml, dari harga Rp 49.600 menjadi Rp 29.900 YOU C1000 health drink vitamin 140ml Semua varian, dari harga Rp 15.600/2btl menjadi Rp 12.900/2btl Pear segar pcs, dari harga Rp 13.500 menjadi Rp 9.900 untuk daerah Bali, Lombok, Sorong, Ternate, Samarinda, Kupang Sania minyak goreng 2000ml pch, dari harga Rp 34.200 menjadi Rp 33.500 Indomie mie goreng kriuk pedas 90g/ plus special pedas 80g rica-rica/ kebuli 85g pck, dari harga Rp 15.500/ 5 pck menjadi Rp 14.400/ 5 pck Frisian flag kental manis putih/ cokelat 545g pch, dari harga 19.000 menjadi Rp 15.500 Mamasuka rumput laut panggang (nori) 2x4 5g pck Semua varian Rp 15.000 menjadi Rp 9.900 Le Minerale air mineral 1500ml btl, dari harga Rp 6.500 menjadi Rp 5.900 Kapal Api kopi Bubuk special mix 10x23g pch, dari Rp 16.300 menjadi Rp 13.900 Sunlight pencuci piring new reffil lime/ habbatussaud/ mint anti bau/ extra lembut 650/ 625ml/ Korean strawberry 560ml pch, beli 2 lebih hemat Rp 9.500/pch. Dengan syarat beli 2 pch dan tidak berlaku promo bank. Daia Bubuk+softener violet/ vio pass/ extrak pemutih/ pink/ romantic pink hijab clean & fresh/ sensasi segar/ fresh lemon 1.7/ 1.6kg bag, dari harga Rp 32.200 menjadi Rp 27.900 Mamy poko pants standar S38’S/ M32’S/ L28’S pck, beli 2 lebih hemat, harga special Rp 99.900/2pck.  Potongan harga pada promo JSM Indomaret periode 26-28 Juli 2024 dapat Anda nikmati dengan mengunjungi toko Indomaret terdekat di kota Anda, kecuali Indomaret Point.  Selain potongan harga tertera, Anda juga berkesempatan untuk mendapatkan cashback atau potongan harga tambahan apabila melakukan transaksi melalui Gopay, Kredivo, Kartu Kredit Mandiri, Kartu Debit BRI Mastercard, Kartu Debit BNI, atau Kartu Kredit BNI dengan syarat dan ketentuan sebagai berikut:\n",
      "True Label: Neutral, Predicted Label: Neutral\n",
      "\n",
      "Text 33: TV Somanathan mengambil alih jabatan sekretaris kabinet pada hari Jumat setelah pensiunnya Rajiv Gauba, kata pernyataan resmi.  Gauba telah menjabat sebagai sekretaris kabinet sejak 2019 dan menyelesaikan masa jabatan lima tahun yang belum pernah terjadi sebelumnya.  Sampai saat ini, sekretaris keuangan serikat, Somanathan, ditunjuk sebagai sekretaris kabinet berikutnya pada tanggal 10 Agustus dengan masa jabatan dua tahun.  Seorang pejabat IAS angkatan 1987 kader Tamil Nadu, Somanathan adalah seorang akuntan berlisensi, akuntan biaya, dan sekretaris perusahaan.  Ia telah memegang tugas penting di Pusat, termasuk sebagai sekretaris bersama dan kemudian sebagai sekretaris tambahan di Kantor Perdana Menteri.  Ia juga menjabat sebagai sekretaris bersama di Kementerian Urusan Perusahaan dan ditugaskan sebagai direktur urusan perusahaan di Bank Dunia di Washington DC.  Somanathan memegang jabatan sekretaris keuangan dan sekretaris di Departemen Pengeluaran saat ia diangkat menjadi sekretaris kabinet.  Di Tamil Nadu, ia menjabat di banyak posisi penting, seperti direktur pelaksana Chennai Metro Rail Corporation dan sekretaris kepala menteri.  Somanathan adalah sekretaris kepala tambahan dan komisaris pajak komersial selama fase penting peluncuran Pajak Barang dan Jasa (GST).\n",
      "True Label: Neutral, Predicted Label: Positive\n",
      "\n",
      "Text 34: SEMARANG, AYOSEMARANG.COM -- Dalam rangka memperingati HUT ke 79 RI, Komunitas sepakbola Jurnalis FC Kota Semarang kembali menggelar turnamen sepakbola Independence Day Journalist Fun Football Agustusan Bal-Balan, di Lapangan Kick Off POJ City Kota Semarang, Jumat 30 Agustus 2024 sore kemarin.  Ajang ini merupakan agenda rutin tahunan Jurnalis FC yang sudah berlangsung dalam tiga tahun terakhir.  Tahun ini, diikuti sebanyak 52 wartawan Kota Semarang. Mereka terbagi dibagi dalam tiga tim.  Turut hadir dalam acara ini sejumlah tamu undangan di antaranya Mayor Arh Sugiharto, Danramil 01 Semarang Barat, Triyo Sumanto yang mewakili Wali Kota Semarang, Hevearita Gunaryanti Rahayu yang berhalangan hadir, serta sejumlah perwakilan sponsor Independence Day Journalist Fun Football Agustusan Bal-Balan.  Selain itu, hadir pula Ketua Seksi Wartawan Olahraga Persatuan Wartawan Indonesia (Siwo PWI) Jateng, Erwin Ardian yang juga turut sebagai peserta dalam ajang ini.  Dalam sambutannya, Erwin mengatakan ajang ini tak sebatas wadah menyalurkan hobi sepak bola bagi insan pers di Kota Semarang, tapi juga untuk menjalin silaturahmi antar stakeholder yang juga turut serta mensupport penuh Independence Day Journalist Fun Football Agustusan Bal-Balan.  \"Makna dari acara ini tidak sebatas sepak bola tapi juga menjadi wadah kami para wartawan untuk berekspresi, serta hidup sehat. Ajang ini juga menjalin silaturahmi antar jurnalis dan para stakeholder di Kota Semarang baik dari Pemkot, TNI Polri, serta para sponsor,\" terang Erwin.  Sementara itu, Ketua Panitia Independence Day Journalist Fun Football Agustusan Bal-Balan, Muhammad Fahni Alfian mengucapkan terimakasih atas dukungan banyak pihak atas terselenggaranya event ini.  Maka tak heran jika meski acara ini bersifat fun entertainment, event ini banjir doorprize dari puluhan sponsor, yakni Ditreskrimsus Polda Jateng, Pertamina, Djarum, Mall 23 Semarang, Yoyok, Sukawi, Bank Mandiri, PT. PLN, Saprotan Utama, BPJS, GP Anshor, Alfamart, Pemkot Semarang, Semen Grobogan, Bos L, Polytron, Samsoe Hidayat.  Kemudian, Pocari Sweat, Global Elektronik, Distro Semarang, Mutiara Music, Modena, Beana Coffe, Serin Scare, Solo Safari, Pelangi.  Tak ketinggalan, sejumlah hotel juga turut serta mensupport event ini, di antaranya Arrus Hotel, Wimarion, Rez Hotel, Novotel, Quest Hotel, Hotel Ibis Simpang Lima, Hotel @Home, Metro Park View, Gets Hotel, Hotel Ciputra, Khas Hotel, Kotta Hotel, Arkenzo, Rooms Inc.\n",
      "True Label: Neutral, Predicted Label: Neutral\n",
      "\n",
      "Text 35: \"Sebagai high-performance EV pertama di Indonesia, IONIQ 5 N menawarkan pengalaman berkendara yang tak tertandingi, hasil dari pengembangan teknologi di Namyang dan uji coba ketat di Nürburgring,\" ungkapnya.  Selain itu, IONIQ 5 N ini juga pernah berhasil meraih sejumlah penghargaan bergengsi, salah satunya Top Gear Car of the Year 2023.  Di Indonesia sendiri, IONIQ 5 N yang dibandrol dengan harga sekitar Rp1,3 miliar ini menyediakan beberapa pilihan warna eksterior yakni Midnight Black Pearl, Magnetic Silver Metallic, Titan Gray Metallic, Optic White, Performance Blue Matte, Optic White Matte, dan Gravity Gold Matte.  Dengan kehadirannya di GIIAS Surabaya 2024 ini, membawa filosofi \"Never just drive\" yang menekankan keseruan dalam berkendara.  Menariknya, selama ajang GIIAS, Hyundai tidak hanya menghadirkan kendaraan canggih, tapi juga menawarkan berbagai promo eksklusif selama ajang pameran otomotif itu termasuk Lucky Draw 1 unit IONIQ 6 untuk setiap pembelian model apapun selama acara berlangsung.\n",
      "True Label: Negative, Predicted Label: Negative\n",
      "\n",
      "Text 36: Jakarta -  Gelaran Festival LIKE 2 yang dihadirkan Kementerian Lingkungan Hidup dan Kehutanan masih menghadirkan beragam keseruan dan kegiatan menarik. Di hari ketiga besok (10/8/2024), KLHK akan me-launching Ekososlab dan penanaman mangrove.  Tak hanya itu, Menteri LHK Siti Nurbaya juga akan melakukan seremoni dan penyerahan bibit kepada tiga orang perwakilan Kaum Muda Menanam. Akan ada pula pelaporan langsung di lebih dari 30 provinsi.  Menariknya, KLHK juga akan menggelar lomba debat diplomasi tema lingkungan (semifinal) kategori SMA dan mahasiswa. Adapun pengumuman lomba untuk final akan dilaksanakan pada hari Minggu (11/8).  Festival LIKE 2 di hari ketiga juga akan menghadirkan malam penganugerahan Kementerian LHK yang bertujuan untuk mengapresiasi capaian individu maupun kelompok. Penghargaan diberikan dalam lima kategori besar yakni, Akademisi, Media, Komunitas (Mitra KLHK & Generasi Muda), Pemda dan Perusahaan.  Adapula penampilan Tulus di I LIKE CONCERT. Tak sampai di situ, berbagai kegiatan talkshow inspiratif juga dihadirkan pada berbagai yakni, Shelter Ekoriparian, Shelter Planologi, Shelter Kolaborasi dan Shelter Kemitraan. Seluruh rangkaian ini dapat diikuti di gelaran Festival LIKE 2 pada 8-11 Agustus 2024 dI Jakarta Convention Center Hall A & B, Senayan, Jakarta.  Festival LIKE 2 juga dapat disaksikan secara langsung di laman detikcom..  Sebagai informasi, Festival LIKE merupakan agenda yang merangkum akumulasi kerja-kerja dan langkah korektif bidang Lingkungan Hidup, Iklim, Kehutanan dan Energi (khususnya energi terbarukan). Adapun tema yang diambil dalam festival ini yaitu '10 Tahun Kerja untuk Sustainabilitas  Acara ini juga akan diisi oleh berbagai kegiatan di antaranya I LIKE CONCERT, I LIKE WALK (Fun Walk), Talkshow, Exhibition, Coaching Clinic, Sellers Meet Buyer, Demo Inovasi, Competition, dan KLHK Appreciation Night.  Festival LIKE 2 disponsori oleh PT Pertamina (Persero), PT Bayan Resources Tbk, PT Amman Mineral Nusa Tenggara (AMMAN), PLN, Adaro, PT Vale Indonesia, APP Group, Merdeka Copper Gold, Astra, Le Minerale, Berau Coal Energy, Borneo Indobara, PT BUMI ResourceS Tbk, Sucofindo, PT Indo Tambangraya Megah Tbk, Harita Nickel, APRIL, Huayou Indonesia, PT Freeport Indonesia, MIND ID, Eramet, Bio Farma, Star Energy Geothermal, PT Pupuk Indonesia (Persero), Unilever, Sido Muncul, PT Kaltim Prima Coal, PT Arutmin Indonesia, PT Gunung Raja Paksi Tbk, WILMAR GROUP, AKR Corporindo, PT Indexim Coalindo, PT Indo Muro Kencana, PT Bukit Asam Tbk, Musim Mas, PT Inalum, PT Kideco Jaya Agung, PT Antam, PT Solusi Bangun Indonesia (Tbk), dan PT Multi Harapan Utama. Serta didukung oleh ExxonMobil Cepu Limited, PT Timah Tbk, PT Wiralab Analitika Solusindo, PT MNC ENERGY INVESTMENTS, PT Tamaris Hidro, PT Gunung Bara Utama, PT Pupuk Iskandar Muda, dan PT Rizqi Semesta.\n",
      "True Label: Neutral, Predicted Label: Neutral\n",
      "\n",
      "Text 37: TIMESINDONESIA, BANYUWANGI – Permasalahan sampah terus menjadi perhatian serius Pemerintah Kabupaten (Pemkab) Banyuwangi, Jawa Timur. Sejumlah pihak pun ikut keroyokan guna mencari solusi. Termasuk para pelaku investasi di Bumi Blambangan seperti yang dilakukan PT Tirta Investama pabrik AQUA Banyuwangi.  Melalui Corporate Social Responsibility (CSR), pelaku investasi di Desa Alasmalang, Kecamatan Singojuruh, ini menelurkan program pengelolaan sampah bertajuk ‘Bijak Berplastik’. Menjadi tujuan besar program adalah mewujudkan pengelolaan sampah yang berkelanjutan di desa dampingan.  Sebagai tindak lanjut, pada 28 Februari-1 Maret 2024, AQUA Banyuwangi, berkolaborasi dengan Yayasan Pembangunan Citra Insan Indonesia (YPCII) menggelar pelatihan pengelolaan sampah, di Desa Benelan Kidul, Kecamatan Singojuruh. Pelatihan tersebut bertujuan untuk meningkatkan kapasitas kelompok pengelola sampah didesa penerima manfaat program.  Pelatihan pengelolaan sampah berkelanjutan yang digelar AQUA Banyuwangi, bersama Yayasan Pembangunan Citra Insan Indonesia (YPCII) di Desa Benelan Kidul, Kecamatan Singojuruh. (FOTO: Syamsul Arifin/TIMES Indonesia)  Sebenarnya, kegiatan itu telah dirancang sejak tahun 2021 di bawah dampingan Lembaga Paradigma selaku mitra program.  Program Manajer Paradigma, Wawan Kuswanto menjelaskan, pelatihan pengelolaan sampah memiliki manfaat cukup vital. Karena sebagai dasar tata kelola persampahan yang ada di desa.  “Melakukan rekayasa sosial atas permasalahan sampah membutuhkan perbaikan di banyak aspek. Tidak hanya aspek fisik, tetapi juga aspek hukum dan sumber daya manusia,” kata Wawan, Rabu (5/6/2024).  Pelatihan pengelolaan sampah berkelanjutan yang digelar AQUA Banyuwangi, bersama Yayasan Pembangunan Citra Insan Indonesia (YPCII) di Desa Benelan Kidul, Kecamatan Singojuruh. (FOTO: Syamsul Arifin/TIMES Indonesia)  “Pelatihan ini untuk mengisi di aspek sumber daya manusianya, setelah di tahun 2023 kemarin kita menemukan beberapa persoalan seperti sampah residu dan tata kelola kelompok pengelola sampah yang belum ideal,” imbuhnya.  Dijelaskan, kolaborasi dengan YPCII juga bukan tanpa alasan. Selain merupakan mitra Danone, YPCII juga mitra Inclusive Recyling Indonesia (IRI) yang mendampingi 24 Tempat Pengolahan Sampah Reduce-Reuse-Recycle (TPS 3R) di Indonesia. Termasuk pendamping TPS 3R di Ibu Kota Nusantara (IKN).  Terdapat lima pelatihan yang diberikan YPCII kepada kelompok pengelola sampah Desa Benelan Kidul. Mulai dari manajemen dan alur pengelolaan sampah, sistem pencatatan dan pelaporan, business model canvas, manajemen keuangan TPS 3R, serta Kesehatan dan Keselamatan Kerja (K3).  Kelompok pengelola sampah yang terdiri dari 9 orang dan 21 orang perwakilan dusun, diajak mendiskusikan permasalahan sampah serta dilatih dengan cara yang menyenangkan. Selain memaparkan materi pelatihan, meraka juga diajak mempraktikkan materi pelatihan dengan gambar dan langsung turun ke lapangan.  Selama kegiatan, fasilitator YPCII, dr Lidya Fransiska, menyampaikan poin-poin pelatihan dengan sangat detail. Harapannya, materi yang diberikan mampu menjadi modal menyempurnakan sistem pengelolaan sampah di Desa Benelan Kidul.  “Apa yang dilakukan oleh teman-teman Paradigma dan kelompok pengelola sampah sudah baik. Tetapi harus disempurnakan, seperti struktur organisasi yang harus jelas, keterlibatan desa, permasalahan residu, cara memilah yang semuanya itu agar TPS 3R bisa hidup”, cetusnya.  Selama 3 hari pelatihan, lanjut Lidya, peserta sudah mengetahui hal-hal mana saja yang harus disempurnakan. Meraka pun mampu menceritakan pengalaman dan kondisi TPS 3R serta semangat kelompok dalam mewujudkan kemajuan lingkungan.  “Tinggal dipupuk lagi dengan pendampingan dari teman-teman Paradigma. Karena kelompok pengelola sampah telah diberi pengetahuan dan telah mampu mempraktikkan hasil pelatihan tersebut di TPS 3R desa,” ungkapnya.  Sementara itu, Radit, perwakilan kelompok pengelola sampah Desa Benelan Kidul, mengaku sangat beruntung bisa mengikuti pelatihan yang digelar AQUA Banyuwangi dan YPCII. Menurutnya, materi yang diberikan mampu menjawab persoalan sampah diwilayah setempat.  “Mulai dari sulitnya masyarakat membayar operasional, pemilahan sampah, sampai sampah residu yang belum terkelola. Kami berterima kasih kepada AQUA dan YPCII semoga hasil dari pelatihan ini bisa diterapkan dan membawa manfaat,” katanya.  Untuk diketahui, pasca pelatihan, AQUA Banyuwangi dan YPCII juga terus melakukan pendampingan. Targetnya, bisa menciptakan kemandirian kelompok pengelola sampah Desa Benelan Kidul. Sekaligus sebagai wujud peran serta aktif, kepedulian, dukungan serta bentuk sinergi pelaku investasi terhadap program Pemkab Banyuwangi dan masyarakat sekitar perusahaan. (*)\n",
      "True Label: Negative, Predicted Label: Negative\n",
      "\n",
      "Text 38: Laporan Wartawan TribunAmbon.com, Jenderal Louis  AMBON, TRIBUNAMBON.COM - Salah seorang wisudawati, Hayatun (23) kaget lantaran namanya dipanggil langsung Direktur Universitas Terbuka Ambon, Yuli Tirtariandi EI Anshori.  Saat maju ke depan, Lulusan Fakultas Ilmu Perpustakaan Pokjar Kabupaten Buru itu awalnya mengira ada yang salah dengan proses wisuda yang diikutinya.  Sontak lagu selamat ulang tahun pun dilantunkan, para hadirin spontan bertepuk tangan.  Ternyata momen Wisuda Daerah Universitas Terbuka Ambon bertepatan dengan hari ulang tahunnya yang ke-23, Sabtu (31/8/2024).  Tak kuasa, tangis haru terasa di seisi ruangan.  Dirut UT Ambon, Yuli Tirtariandi EI Anshori kemudian memberikan kado ulang tahun yang disponsori oleh Bank BTN.  Hayatun saat ditemu TribunAmbon.com usai acara wisuda mengaku kaget atas sureprise yang diberikan.  \"Alhamdulillah, hari ini saya wisuda bertepatan dengan ulang tahun saya yang ke 23 jadinya. Rasanya sureprise kaget kok mereka bisa tahu tanggal lahir saya,\" ungkapnya.  Dia datang ke acara wisuda ditemani sang suami tercinta Haryanto.  Dikatakan rasa bahagia tak terbendung, pasalnya selain ulang tahunnya bertatapan dengan gelar Sarjana yang diraih.  Hayatun kini tengah mengandung buah hati pertamanya.  \"Rasanya tidak bisa menahan air mata, apalagi sekarang sata lagi hamil juga jadi pecah telur umur 23 tahun dapat gelar sarjana dan sebentar lagi jadi ibu, bahagia sekali,\" tuturnya.  Sebagai lulusan, dia berharap Universitas Terbuka Ambon semakin maju dan menciptakan lulusan-lulusan unggul serta berkualitas.  Dirinya juga turut mendoakan kepada semua perempuan terkhususnya ibu rumah tangga yang ingin mengenyam pendidikan tinggi bisa meraih hal itu di Universitas Terbuka.  \"Saya berharap UT kedepannya lebih baik lagi, semoga teman-teman perempuan di luar sana yang belum kuliah, yang hanya ibu rumah tangga dan ingin kuliah bisa berkuliah di UT. Di sini semua kalangan dan semua usia bisa kuliah. Semoga UT kedepannya semakin jaya,\" harapnya.  Diberitakan sebelumnya, Universitas Terbuka Ambon menggelar Wisuda Daerah di Gedung Plaza Presisi Manise Polda Maluku, Sabtu (31/8/2024).  Acara wisuda mengusung tema 'Ukir Masa Depan Berkualitas: Membangun Keunggulan SDM di Era Digital melalui PJJ' meluluskan sebanyak 274 lulusan Diploma dan Sarjana Tahun 2024, di antaranya:  1. Fakultas Sains dan Teknologi: 1 orang 2. Fakultas Ekonomi dan Bisnis: 41 orang 3. Fakultas Hukum, Ilmu Sosial dan Ilmu Politik: 148 orang 4. Fakultas Keguruan dan Ilmu Pendidikan: 84 orang.\n",
      "True Label: Positive, Predicted Label: Positive\n",
      "\n",
      "Text 39: JAKARTA - Promo Kemerdekaan sudah menjadi hal yang sangat dinanti, khususnya bagi para pemburu diskon. Selain merayakan semangat kemerdekaan, bulan Agustus juga menawarkan berbagai promo menarik yang bisa dimanfaatkan.  Daftar 50 Promo Kemerdekaan Indonesia 17 Agustus 2024  Berikut ini adalah daftar 50 promo kemerdekaan yang telah dirangkum dari berbagai sumber oleh Okezone.  :  1. Promo Tempat Wisata & Hiburan Agustus 2024  Berencana untuk liburan dengan teman, pasangan, atau keluarga dalam waktu dekat? Lihat kumpulan promo wisata Agustus 2024 berikut ini:  Berikut adalah daftar promo yang telah diacak dan tanpa tulisan tebal:  1. Taman Mini Indonesia Indah (TMII)  - Promo Annual Pass Diskon 79% atau Rp126 ribu + Gratis 1x Trip Kereta Gantung  - Diskon 17% Official Merchandise Store pada 17-18 Agustus 2024  - Masuk TMII hanya Rp7.900 pada 17 Agustus 2024  - Diskon 17% untuk Taman Burung, Museum Komodo, dan Dunia Air Tawar dari 12-31 Agustus 2024  - Gratis Naik Kereta Gantung khusus pemilik nama Agus pada 17 Agustus 2024  - Gratis Tiket Masuk Museum Bayt Al-Qur'an dan Indonesia Science Center khusus pemilik nama Agus pada 17 Agustus 2024  :  2. Inul Vizta  - Promo karaoke 1 jam berdua hanya Rp79 ribu, termasuk free room 1 jam dan berlaku hingga 20 Agustus 2024  - Pilihan paket: SMALL (2 orang) Rp79 ribu, MEDIUM (4 orang) Rp159 ribu, LARGE (8 orang) Rp399 ribu  3. Waterboom Lippo Cikarang  - Tiket masuk hanya Rp35 ribu untuk semua hari dari 1-7 Agustus 2024  - Tiket dapat dibeli di loket atau secara online melalui Traveloka dan Tiket.com  Follow Berita Okezone di Google News  Dapatkan berita up to date dengan semua berita terkini dari Okezone hanya dengan satu akun di ORION, daftar sekarang dengan klik disini dan nantikan kejutan menarik lainnya  4. Whoosh  - Nikmati diskon 17% untuk tiket keberangkatan pada 17 Agustus 2024, dengan pembelian mulai 6 Agustus 2024  - Promo ini berlaku untuk perjalanan Jakarta-Bandung PP di kelas Ekonomi Premium dan tersedia dari Stasiun Halim, Padalarang, atau Tegalluar  5. Samudra & Sea World  - 1 Harga untuk 2 Rekreasi (Samudra dan Sea World Ancol) mulai dari Rp175 ribu  - 1 Harga untuk 3 Rekreasi (Samudra, Jakarta Bird Land, dan Sea World) mulai dari Rp210 ribu  - Promo berlaku dari 1-31 Agustus 2024 dengan pembelian melalui ancol.com  6. Jakarta Bird Land  - Paket Bertiga seharga Rp40 ribu/tiket (Weekdays)  - Paket Bertiga seharga Rp60 ribu/tiket (Weekend)  - Promo berlaku untuk pembelian tiga tiket dan dapat digunakan untuk kelipatan melalui ancol.com  7. Cimory Dairyland Farm Puncak  - Promo Buy 2 Get 1 Free tiket masuk  - Promo ini hanya berlaku dari 3 hingga 17 Agustus 2024, satu akun hanya bisa mendapatkan satu tiket gratis  8. Jungleland Adventure Theme Park  - Tiket gratis bagi yang merayakan ulang tahun di bulan Agustus dengan syarat membawa minimal satu pendamping  - Promo tiket masuk weekday seharga Rp100 ribu dan weekend Rp130 ribu bagi pemegang KTP Jakarta, Jawa Barat, dan Banten  9. Dufan  - Paket Hemat Berdua seharga Rp200 ribu/tiket untuk pembelian dua tiket (1-31 Agustus 2024) melalui ancol.com  - Paket Hemat Berlima seharga Rp175 ribu/tiket untuk pembelian lima tiket pada periode yang sama  10. Waterboom Jogja  - Tiket masuk seharga Rp45 ribu untuk semua hari  - Tiket gratis bagi pemegang KTP bernama Agus dengan syarat membawa satu pendamping  - Promo berlaku sepanjang Agustus 2024 dengan beberapa syarat, termasuk mengikuti Instagram dan TikTok Waterboom Jogja  11. Taman Safari  - Tiket masuk mulai dari Rp210 ribu, sudah termasuk tiket Safari Siang, Panda Bundling, dan Tiket Kereta Wara-Wiri  - Promo ini berlaku hingga 31 Agustus 2024 dan hanya bisa dibeli melalui situs web Taman Safari Indonesia  12. Transera Waterpark  - Tiket masuk Rp60 ribu pada Senin-Kamis, Rp40 ribu pada Jumat, dan Rp80 ribu pada Sabtu-Minggu  - Paket Tiket Berdua seharga Rp110 ribu pada Senin-Kamis, Rp70 ribu pada Jumat, dan Rp150 ribu pada Sabtu-Minggu  - Paket Semua Wahana (Waterpark dan Drypark) seharga Rp130 ribu pada Senin-Kamis, Rp115 ribu pada Jumat, dan Rp150 ribu pada Sabtu-Minggu  2. Promo Makanan Agustus 2024  Bagi yang ingin mencari promo makanan di Agustus 2024, berikut adalah daftar brand yang menawarkan penawaran menarik pada 17 Agustus 2024!  1. Yoshinoya  - Dapatkan Beef Bowl gratis jika tanggal, bulan, dan tahun lahir Anda mengandung angka 8, dengan pembelian minimal Rp88 ribu.  - Berlaku di seluruh gerai (kecuali bandara dan Dufan) dari 1-31 Agustus 2024 untuk Dine In dan Takeaway.  2. Jungleland Adventure Theme Park  - Bagi yang berulang tahun di bulan Agustus, tiket masuk gratis dengan syarat membawa pendamping minimal satu orang.  - Tiket masuk weekday seharga Rp100 ribu dan weekend Rp130 ribu untuk pemegang KTP Jakarta, Jawa Barat, dan Banten.  3. Taman Safari  - Tiket masuk mulai dari Rp210 ribu, termasuk tiket Safari Siang, Panda Bundling, dan Tiket Kereta Wara-Wiri.  - Promo ini berlaku hingga 31 Agustus 2024, khusus pembelian melalui situs web Taman Safari Indonesia.  4. Sushi Tomoko  - Paket promo: Deals 1 (Rp17.450) untuk Takoyaki, Deals 2 (Rp45.450) untuk Chicken Ramen, Chicken Mentai Sushi, Yuzu Lemonade Splash, Deals 3 (Rp54.450) untuk Chicken Ramen, Chicken Steak, dan 2 Ice Tea.  - Berlaku di semua cabang kecuali Suncity dan Kediri dari 1-31 Agustus 2024.  5. Holland Bakery  - Diskon 79% untuk semua produk pada 17 dan 18 Agustus 2024.  - Promo ini berlaku di semua gerai dan aplikasi Holland Bakery (tidak termasuk pesan antar).  6. Platinum Grill  - Shrimp Dumpling Mayonnaise seharga Rp17 ribu dengan minimal transaksi Rp50 ribu.  - Diskon 17% untuk dua pilihan Paket Merdeka lengkap dengan minuman seharga Rp50 ribuan, berlaku di semua gerai sepanjang Agustus 2024.  7. Gokana Ramen & Teppan  - Diskon 17% untuk beberapa menu: Merdeka 1 (Rp49.545): Gokana 1 dan Ice Lemon Tea, Merdeka 2 (Rp54.545): Beef Original Bento dan Ice Lemon Tea, Merdeka 3 (Rp56.818): Roasted Chicken Ramen dan Ice Lemon Tea.  - Berlaku di semua outlet hingga 31 Agustus 2024.  8. HokBen  - Paket Bundling Ramen mulai dari Rp56 ribu, termasuk side dish dan minuman, dengan lima pilihan Hoka Ramen.  - Promo ini hanya berlaku untuk Dine In dan ramen porsi Large dari 1-31 Agustus 2024.  9. Breadlife  - Kombo Merdeka hanya Rp17.845 untuk dua roti pilihan (Pavarotti, Chocotime Chocolate Bun, Flossy Hottie).  - Promo berlaku untuk pembelian online lewat Delivery seperti GoFood, GrabFood, dan ShopeeFood.  10. Marugame Udon  - Nikmati 1 Udon dan 2 Tempura seharga Rp79 ribu dalam rangka Merdeka.  - Berlaku dari 12-18 Agustus 2024.  11. Roti'O  - Beli 5 Roti'O seharga Rp65 ribu dan dapatkan 1 Ice Cream Cone gratis.  - Promo ini berlaku dari 1-18 Agustus 2024 di semua gerai kecuali bandara dan rest area.  12. Domino's Pizza  - Beli Pizza Medium, tambah Rp8.800 untuk mendapatkan menu tambahan seperti Pizza Mania, Choco Lava, atau Bread Stick.  - Promo berlaku untuk berbagai jenis pizza dari menu Tuna Delight hingga Veggie Mania.  13. Wingstop  - Paket Merah Putih Flavor Box: 12 Boneless (6 Asian Spice + 6 Garlic Parmesan) + 2 dipping sauce + 2 Coca-Cola hanya Rp45.454.  - Berlaku dari 5-11 Agustus 2024, harga belum termasuk pajak.  14. Sari Roti  - Paket bekal seharga Rp18 ribu untuk 4-5 roti.  - Promo ini berlaku dari 5-11 Agustus 2024, pemesanan melalui WhatsApp ke nomor 081132214900 dengan gratis ongkos kirim jika pembelian minimal Rp35 ribu.  15. Raa Cha Suki & BBQ  - Paket BBQ lengkap dengan minum hanya Rp61 ribu.  - Berlaku dari 1-31 Agustus 2024, tidak dapat digabungkan dengan promo lain.  16. Pizza Hut  - Paket Merdeka Makan Enak: Rp60 ribu untuk 2 My Box dan 2 Minuman (Senin-Kamis), dan Rp200 ribu untuk Qu4rtza, Garlic Bread, dan Lasagna (Jumat-Minggu).  - Promo berlaku dari 1-31 Agustus 2024, khusus untuk Takeaway dan Delivery.  17. Ichiban Sushi  - Paket Serba Rp79 ribu meliputi Dirgahayu Ramen, Dirgahayu Sushi, dan Dirgahayu Mix, dengan Tehbotol Sosro Kotak.  - Berlaku Senin-Jumat, kecuali libur nasional dan 17 Agustus 2024.  18. Bakmi GM  - Paket hemat: Hemat Ber 2 (2 Bakmi Special GM, 1 Pangsit Goreng isi 5, 2 Es Teh) Rp88 ribu, Hemat Ber 3 (1 Bakmi Ayam lada Cha-Cha, 2 Nasi Ayam Tumis Kemangi, 3 Es Teh).  - Berlaku untuk Dine In dan Takeaway, harga sudah termasuk pajak dan tidak bisa digabungkan dengan promo lainnya.  19. CF  - Paket spesial: Merdeka A (Rp25 ribu) dan B (Rp34 ribu), termasuk berbagai kombinasi ayam, nasi, dan minuman.  - Berlaku dari 1-15 Agustus 2024.  20. HolyCow  - Pesta Steak Merdeka dengan Australian Rib Eye Steak seharga Rp79 ribu.  - Promo ini hanya berlaku pada 17 Agustus 2024.  21. Transera Waterpark  - Tiket masuk: Rp60 ribu pada Senin-Kamis, Rp40 ribu pada Jumat, Rp80 ribu pada Sabtu-Minggu.  - Paket Tiket Berdua dan Paket Semua Wahana tersedia dengan harga spesial, berlaku dari 1-31 Agustus 2024.  22. Sushi Tomoko  - Paket spesial untuk beberapa menu: Deals 1 (Rp17.450) Takoyaki, Deals 2 (Rp45.450) Chicken Ramen, Chicken Mentai Sushi, Yuzu Lemonade Splash, Deals 3 (Rp54.450) Chicken Ramen, Chicken Steak, 2 Ice Tea.  - Berlaku 1-31 Agustus 2024 di semua cabang kecuali Suncity dan Kediri.  3. Promo Belanja Agustus 2024  Berikut beberapa penawaran belanja menarik dari brand-brand terkenal yang bisa dimanfaatkan pada Agustus 2024:  Berikut beberapa penawaran menarik dari brand-brand ternama pada Agustus 2024:  1. Indomaret  Nikmati berbagai promo serba Rp17.000 dalam Promo Merdeka yang berlangsung dari 8-21 Agustus 2024.  2. Alfamart  Alfamart memeriahkan HUT RI ke-79 dengan promo pembayaran tagihan khusus dari 16-18 Agustus 2024, termasuk:  - Gratis Teh Botol untuk tagihan Telkom Group  - Potongan Rp10.000 untuk tagihan PBB  - Diskon biaya admin angsuran Adira Rp2.500  - Gratis pulsa Rp5.000 untuk tagihan PGN  - Potongan voucher pulsa Rp79.000 untuk tagihan PLN  - Bonus 1.779 A-Poin untuk iuran BPJS Ketenagakerjaan  - Gratis Sunlight/Bango & Rinso untuk tagihan KAI Aset  - Gratis pulsa Rp5.000 untuk iuran BPJS Kesehatan & Denda  3. Hardware  Manfaatkan diskon Salebration hingga 45 persen untuk Tshirt dan potongan 20 persen + 17 persen untuk produk Shirt. Kunjungi hardwareclothing.id untuk penawaran lengkapnya.  4. LocknLock  Raih diskon hingga 79 persen dalam Merdeka Sale yang berlangsung dari 29 Juli hingga 25 Agustus 2024, untuk berbagai produk LocknLock, mulai dari wadah makanan hingga tumbler.  5. Ramayana  Dapatkan diskon hingga 79 persen dengan harga mulai dari Rp45 ribu selama Promo Pesta Rakyat Merah Putih yang berlaku sepanjang Agustus 2024 untuk berbagai brand di Ramayana.  7. KAI  KAI menawarkan promo menarik \"Pinang Ranti\" dengan diskon 79% untuk tiket perjalanan dari 17-31 Agustus 2024. Promo ini berlaku untuk pembelian tiket dari 16-18 Agustus 2024.  Berikut syarat dan ketentuannya:  - Tiket dapat dibeli melalui saluran penjualan resmi (tidak termasuk loket dan loket box).  - Diskon berlaku untuk tarif parsial.  - Tiket dengan diskon dapat diubah jadwal dan dibatalkan sesuai kebijakan yang berlaku.  - Promo ini tergantung pada ketersediaan kuota.  4. Promo Hotel Agustus 2024  Jmerencanakan liburan atau staycation? berikut adalah daftar promo hotel menarik yang bisa dimanfaatkan pada Agustus 2024:  1. Waringin Hospitality  Instagram: @waringin.hospitality  Waringin Hospitality menawarkan makan gratis untuk orang yang bernama \"Agus\" atau memiliki unsur \"Agus\" di namanya. Promo ini berlaku dari 16-18 Agustus 2024 dengan syarat:  - Tulis komentar unik dan lucu di akun Instagram @waringin.hospitality atau kunjungi langsung hotel.  - Harus mengikuti akun Instagram @waringin.hospitality.  - Tunjukkan KTP/SIM untuk verifikasi.  - Dapat mengajak hingga 2 orang kerabat dekat.  - Kuota terbatas untuk 4 orang bernama Agus per hari di setiap hotel dalam jaringan Waringin Hospitality.  2. Manhattan Hotel Jakarta  Instagram: @manhattanhoteljakarta  Manhattan Hotel Jakarta menawarkan promo \"Salebration Promo Merdeka\" mulai dari Rp2.519.450 untuk menginap 2 malam. Promo ini berlaku sepanjang Agustus 2024 dan mencakup:  - Menginap 2 malam.  - Sarapan untuk 2 orang.  - Jajanan & wedang Nusantara untuk 2 orang.  - Diskon 20% untuk spa.  - Diskon 20% untuk makanan dan minuman (tidak termasuk alkohol).  - Akses ke infinity pool dan gym.  3. Savero Hotel Depok  Instagram: @saverohoteldepok  Savero Hotel Depok menawarkan promo \"National is Me\" dengan harga kamar hanya Rp600.000 untuk periode 17-18 Agustus 2024. Promo ini termasuk:  - Kamar untuk 2 orang.  - Sarapan pagi.  - Reservasi dan pertanyaan dapat dilakukan melalui nomor resmi yang tertera di bio Instagram @saverohoteldepok.\n",
      "True Label: Negative, Predicted Label: Neutral\n",
      "\n",
      "Text 40: Sebuah penelitian gabungan Australia-Italia terhadap danau dan sungai telah menemukan jejak antidepresan fluoxetine – lebih dikenal dengan nama merek Prozac – yang dapat mempengaruhi ikan air tawar.  Lima tahun tes Para ilmuwan dari Fakultas Ilmu Biologi di Monash University dan Fakultas Ilmu Ekologi dan Biologi di Universitas Tuscia menyelidiki dampak residu farmasi pada ikan air tawar di Australia.  Fluoxetine, antidepresan terpopuler ketiga dan merupakan inhibitor reuptake serotonin selektif pertama yang sukses secara komersial (SSRI – suatu bentuk antidepresan), adalah salah satu obat utama yang ditemukan.  Mengapa antidepresan ditemukan di danau dan sungai?  Ketika pasien mengonsumsi obat resep jenis apa pun, tubuh mereka tidak menyerap semua obat tersebut. Residunya dikeluarkan melalui urin atau feses, yang kemudian dibuang melalui toilet dan berakhir di saluran air dan pusat pengolahan limbah.  Residu tetap berada di air, dan kehidupan akuatik di saluran air kita dapat menyerap sisa kontaminan. Beberapa perkiraan menyebutkan “ketersediaan hayati” fluoxetine sekitar 70 hingga 72 persen. Bioavailabilitas adalah fraksi obat atau zat lain yang memasuki aliran darah. Sisanya 28 hingga 30 persen dikeluarkan sebagai limbah.  Bahkan di fasilitas pengolahan limbah dimana air limbah diolah untuk menghilangkan kontaminan, banyak instalasi pengolahan air modern tidak dilengkapi untuk menyaring bahan kimia yang terkait dengan produk farmasi.  Ketika air yang telah diolah disuntikkan kembali ke saluran air, air yang terkontaminasi obat-obatan dapat diserap oleh ikan.  Selain itu, obat-obatan yang tidak terpakai atau kadaluarsa sering kali – dan secara tidak benar – dibuang ke toilet, sehingga memperparah masalah ini.  Apa yang ditunjukkan oleh penelitian tersebut?  Pada tahun 2016, para ilmuwan mengambil 3.600 ikan guppy jantan (Poecilia reticulata) dari Alligator Creek di Queensland utara untuk menyelidiki apakah ada ikan yang terkontaminasi fluoxetine. Mereka tidak menemukan kontaminasi.  Para peneliti kemudian mengambil 15 generasi guppy jantan berturut-turut, yang hidup rata-rata selama dua tahun, dan memberikan mereka fluoxetine selama lima tahun.  Ikan secara acak dimasukkan ke dalam salah satu dari tiga tingkat paparan: tanpa fluoxetine (kontrol), “rendah”, atau “tinggi”. Tingkat pengolahan yang ‘rendah’ ​​sesuai dengan konsentrasi fluoxetine yang umum ditemukan di air permukaan normal. Tingkat “tinggi” mewakili konsentrasi yang biasa ditemukan di perairan yang banyak terkena dampak kotoran manusia.  Hasilnya menunjukkan bahwa ikan guppy jantan yang terkena fluoxetine dosis rendah sekalipun mengalami peningkatan ukuran gonopodium, modifikasi sirip dubur yang digunakan untuk membuahi ikan guppy betina. Gonopodium yang lebih panjang dapat meningkatkan peluang keberhasilan perkawinan.  Namun, ikan guppy jantan juga menunjukkan motilitas sperma yang lebih rendah – yang mengakibatkan sperma menjadi kurang mampu “berenang”, yang pada akhirnya menyebabkan rendahnya kesuburan ikan.  Studi tersebut juga menemukan bahwa ikan guppy jantan terpaksa mengalihkan energinya untuk mempertahankan gonopodium yang lebih besar dengan mengorbankan kesehatan mereka secara keseluruhan. Bagaimana hal ini bisa membahayakan kesehatan ikan masih dalam penelitian, kata Giovanni Polverino, salah satu penulis studi dari Universitas Tuscia, kepada Al Jazeera.  “Imbal baliknya adalah memutuskan bagaimana mengalokasikan energi di antara fungsi-fungsi yang bersaing [of the body]Kita telah melihat bahwa dampak polusi mengubah pertukaran ini karena adanya perubahan pada sirip dubur [gonopodium]. Konsekuensinya, harus ada perubahan pada hal lain. Yang kurang jelas adalah bagaimana trade-off ini berubah.”  Kontaminan lain apa yang dapat ditemukan di air tawar?  Menurut penelitian bersama, sejumlah produk farmasi selain fluoxetine telah ditemukan di air tawar studi tahun 2021 berjudul Menghapus Farmasi dari Air Limbah: Analisis Aktivitas Penelitian Global Masa Lalu dan Sekarang, dari Universitas Granada dan Universitas Almeria di Spanyol serta Universitas Francisco de Paula Santander di Kolombia.  Studi tersebut menunjukkan bahwa “di antara produk farmasi, penting untuk membedakan obat penghilang rasa sakit, pengatur lipid, antibiotik, diuretik, obat antiinflamasi nonsteroid, stimulan, antiseptik, beta-blocker, antimikroba, serta metabolit dan produk transformasinya. Polutan ini masuk ke lingkungan selama produksinya melalui air limbah dari daerah perkotaan dan rumah sakit.”  Selain produk farmasi, lingkungan perairan juga dapat terkontaminasi oleh mikroplastik dan logam berat, seperti arsenik, besi atau tembaga, yang berasal dari instalasi pengolahan limbah dan pabrik industri yang secara intensif menggunakan bahan kimia yang melepaskan air limbah yang terkontaminasi logam.  Menurut studi tahun 2022 berjudul “Farmasi di lingkungan perairan” dari Universitas Gdańsk di Polandia, “Berbagai polutan seperti pestisida, logam berat, hidrokarbon aromatik polisiklik, dan yang terbaru juga partikel mikroplastik dan obat-obatan, memasuki badan air sebagai akibat dari aktivitas manusia [human activity] dan menimbulkan ancaman bagi kesehatan tanaman, hewan, dan manusia karena toksisitasnya yang akut dan potensi risiko akumulasi.”  Bagaimana cara mencegahnya?  Para ilmuwan mengatakan proses pengolahan air perlu dimodifikasi untuk menyaring obat-obatan, dan hal ini memerlukan keterlibatan pemerintah.  Kebanyakan pusat pengolahan air diatur di tingkat nasional. Beberapa di antaranya juga mematuhi standar yang ditetapkan oleh organisasi internasional seperti Organisasi Kesehatan Dunia (WHO) dan Organisasi Internasional untuk Standardisasi (ISO), yang menetapkan standar kemurnian air di seluruh dunia.  Meskipun penelitian lebih lanjut diperlukan untuk memahami bagaimana polutan ini dapat membahayakan lingkungan perairan, para ahli mengatakan peningkatan standar pemantauan dan kepatuhan dapat mengurangi dampak bahan kimia tersebut terhadap lingkungan air tawar.  “Untuk saat ini, kami sedang mengumpulkan informasi tentang betapa berbahayanya polusi ini terhadap lingkungan, dan kita perlu beralih ke ranah politik untuk melakukan sesuatu guna menghentikan polutan tersebut memasuki lingkungan,” kata Polverino.  “Sistem pengolahan air limbah kami sangat baik dalam hal partikel dan suhu, serta mampu membersihkan air, namun tidak dapat membersihkan obat-obatan.”\n",
      "True Label: Positive, Predicted Label: Negative\n",
      "\n",
      "Text 41: JAKARTA – Dinas Pariwisata Penajam Paser Utara (PPU) berhasil meraih prestasi cukup membanggakan dengan menempati peringkat keenam dalam kategori Video Kreatif Bangga Berwisata di Indonesia kategori kabupaten/kota dengan tema event daerah pada ajang Apresiasi Pemasaran Pariwisata Indonesia (APPI) 2024.  Penghargaan ini diberikan pada acara Malam Puncak APPI 2024 yang digelar di Balairung Soesilo Soedarman, Gedung Sapta Pesona, Jakarta, Senin (9/9).  Acara ini dihadiri langsung oleh Pj Bupati PPU, Makmur Marbun, didampingi Kadis Pariwisata, Andi Wati dan jajaran yang turut memberikan apresiasi atas capaian tersebut.  Dalam ajang bergengsi yang diselenggarakan oleh Kementerian Pariwisata dan Ekonomi Kreatif (Kemenparekraf) ini, Dinas Pariwisata PPU membawa tema Event Daerah yang menggambarkan potensi besar pariwisata lokal melalui berbagai kegiatan budaya dan acara khas daerah.  Video kreatif yang diproduksi berhasil menarik perhatian juri dan menempatkan PPU dalam daftar pemenang dari 514 dinas pariwisata kabupaten/kota se-Indonesia.  Diserahkan langsung oleh Menteri Parekraf, Sandiaga Uno, Makmur Marbun menyatakan rasa bangganya terhadap pencapaian ini.  “Ini adalah bukti nyata bahwa potensi pariwisata Penajam Paser Utara sangat layak untuk dikembangkan lebih lanjut. Prestasi ini tidak hanya membanggakan, tetapi juga menjadi motivasi bagi kita semua untuk terus mempromosikan keindahan dan kekayaan budaya daerah kita,” ujar Makmur Marbun.  Ajang APPI 2024 bertujuan untuk mendukung target perjalanan wisatawan nusantara hingga 1,5 miliar perjalanan di tahun 2024, serta mendorong promosi destinasi wisata lokal melalui lomba video kreatif. Prestasi ini semakin memperkuat posisi PPU sebagai destinasi wisata yang berpotensi besar untuk menarik wisatawan dari berbagai daerah.  Makmur Marbun juga berharap penghargaan ini dapat menjadi momentum bagi Dinas Pariwisata PPU untuk terus berinovasi dalam mengemas potensi pariwisata lokal.\n",
      "True Label: Negative, Predicted Label: Negative\n",
      "\n",
      "Text 42: INIBENGKULU – Pinjam KUR BRI online merupakan cara pengajuan KUR BRI terbaru yang bisa dilakukan oleh pelaku usaha tanpa harus datang langsung ke bank.  Untuk menggunakan layanan pinjam KUR BRI online calon nasabah cukup dengan mengakses laman kur bri co id melalui HP dan bisa dilakukan dari mana saja.  Sama seperti pengajuan ke bank, pinjam KUR BRI online juga menyediakan limit pinjaman yang sama termasuk pinjam 100 juta tanpa jaminan.  Bagi calon nasabah yang tertarik pinjam KUR BRI Online, simak syarat dan cara pengajuannya berikut ini.  Daftar KUR BRI online di kur bri co id  Hal pertama yang harus dilakukan calon nasabah sebelum mengajukan pinjaman KUR BRI online yakni membuat akun terlebih dahulu. Bagaimana caranya? pertama siapkan dulu email yang masih aktif. Kemudian kunjungi halaman kur.bri.co.id. Pilih daftar.  Masukkan nama lengkap berdasarkan KTP, masukkan email lalu password lalu buat akun. Setelah itu verifikasi pendaftaran dengan memasukkan kode OTP yang masuk ke email. Setelah pendaftaran selesai barulah lanjut ke proses pengajuan pinjaman.  Cara pengajuan pinjaman KUR BRI Online  - Kunjungi kembali halaman kur.bri.co.id - Masuk/Login dengan email dan password - Isi formulir pengajuan - Masukkan data diri sesuai KTP - Data usaha dan keuangan - Jumlah pinjaman - Tenor pinjaman - Unggah dokumen - Pilih unit/cabang - Setujui persyaratan dan ketentuan - Pilih opsi ajukan pinjaman  Syarat pinjam KUR BRI  Siapkan dokumen fotocopi KTP, kartu keluarga, surat keterangan usaha/izin usaha dari desa atau kelurahan dan NPWP untuk pinjaman lebih dari 50 juta.  Selain itu penuhi syarat sebagai penerima yakni melakukan usaha produktif serta layak, usaha sudah berjalan selama enam bulan dan belum pernah menerima kredit pembiayaan komersial kecuali konsumtif.  KUR tanpa jaminan bisa didapatkan nasabah dengan mengajukan pinjaman melalui KUR Super Mikro dan KUR Mikro dengan limit 10 sampai dengan 100 juta.  Bunganya 3 persen per tahun untuk KUR Super Mikro limit maksimal 10 juta dan 6 persen per tahun untuk KUR Mikro dan jangka waktu angsuran maksimal 5 tahun.\n",
      "True Label: Positive, Predicted Label: Positive\n",
      "\n",
      "Text 43: KabarMakassar.com — Desa Ramah Perempuan dan Peduli Anak (DRPPA) merupakan kebutuhan mendesak bagi setiap desa di Sulawesi Selatan (Sulsel). Dengan DRPPA maka akan menciptakan inklusivitas hingga meningkatkan kualitas hidup perempuan dan anak yang ada di Sulsel.  Oleh sebab itu, Kementerian Pemberdayaan Perempuan dan Perlindungan Anak (KemenPPPA) memfasilitasi Rapat Koordinasi Desa Ramah Perempuan dan Peduli Anak yang disambut baik oleh berbagai pihak.  Kepala Dinas Pemberdayaan Perempuan, Perlindungan Anak, Pengendalian Penduduk dan Keluarga Berencana (DP3ADalduk KB) Sulsel, Andi Mirna membuka rapat koordinasi tersebut di Hotel Four Point Makassar pada Senin (09/09).  “Konsep DRPPA dapat dianggap sebagai sebuah laboratorium mini yang diharapkan mampu menciptakan lingkungan yang aman dan layak bagi perempuan dan anak di setiap desa,” ujarnya.  Ia juga menyampaikan bahwa keterlibatan masyarakat merupakan elemen kunci yang paling utama dalam pelaksanaan atau implementasi dari konsep DRPPA tersebut.  “Masyarakat, yang lebih mengenal kondisi dan permasalahan di lingkungan mereka, diharapkan mampu berperan aktif dalam menemukan solusi yang paling sesuai untuk kesejahteraan bersama,” ucapnya.  Melalui pendekatan ini, kata Andi Mirna, desa diharapkan dapat menjadi tempat yang inklusif dan ramah bagi perempuan dan anak, sehingga tercipta suasana yang mendukung tumbuh kembang anak serta kesejahteraan perempuan.  Mewujudkan lingkungan yang aman dan sejahtera akan menjadi langkah penting dalam mencetak generasi emas Sulsel di masa depan.  Diketahui, Dinas Pemberdayaan Masyarakat dan Desa (PMD) Sulsel juga berperan aktif dalam memastikan bahwa transformasi pembangunan yang inklusif dan berkelanjutan dapat terwujud di setiap desa.  Adanya kolaborasi lintas sektor, terutama melalui pengembangan desa wisata ramah perempuan yang baru saja diluncurkan oleh Kementerian Pariwisata dan Ekonomi Kreatif bersama Kemen PPPA, Sulawesi Selatan diharapkan dapat terus meningkatkan kualitas hidup perempuan dan anak di wilayah pedesaan.\n",
      "True Label: Neutral, Predicted Label: Neutral\n",
      "\n",
      "Text 44: TEMPO.CO, Jakarta - Komisi Pemberantasan Korupsi (KPK) meminta Kaesang Pangarep untuk membawa bukti-bukti guna membuktikan bila penggunaan jet pribadi bukanlah gratifikasi. Wakil Ketua KPK Alexander Marwata mengatakan bukti itu bisa berupa bukti transfer atau pembayaran.  “Ketika melakukan deklarasi atau apa pun itu disertai bukti. Misalnya, 'oh enggak, saya bayar sendiri, ini loh bukti transfernya'. Jadi clear dong,\" kata Alex di Gedung Merah Putih KPK, Jakarta Selatan, Jumat, 30 Agustus 2024. “Jadi tidak sekedar deklarasi, tapi bukti juga, supaya masyarakat yang mempertanyakan, di media sosial yang ramai, jadi tercerahkan.”  Kaesang dipersilakan untuk mendeklarasikan atau memberi keterangan kepada publik soal penyewaan jet pribadi itu sebelum dipanggil KPK untuk klarifikasi.  Alex menjelaskan, mekanisme pemanggilan Kaesang merupakan prosedur yang memang berlaku di KPK. “Kalau ada informasi dari masyarakat, kami biasanya mengundang. Kalau terkait dengan laporan penerimaan-penerimaan, lewat Direktorat Gratifikasi Kedeputian Pencegahan, kami mengundang,” tuturnya.  KPK menyatakan anak bungsu Presiden Jokowi itu bisa berurusan dengan Direktorat Jenderal Pajak Kementerian Keuangan jika penggunaan jet pribadi merupakan bagian dari bisnis atau fasilitas dari perusahaan. “Kalau itu fasilitas yang diberikan oleh perusahaan, berarti itu adalah bagian dari penghasilan. Biarlah menjadi urusannya Kementerian Keuangan dalam hal ini dari Direktorat Jenderal Pajak,\" ucap dia.  Advertising  Advertising  Ketika nanti ada laporan pajak, kata Alex, bisa dicek apakah ada penghasilan berupa fasilitas tersebut. “Jadi tidak selesai di KPK, tetapi ketika itu bagian dari fasilitas yang diberikan perusahaan, itu menjadi penghasilan buat yang bersangkutan. Dan itu pasti nanti teman-teman dari Ditjen Pajak lah yang akan menindaklanjuti itu.”  Sebelumnya, beredar di media sosial video pasangan Kaesang Pangarep dan Erina Gudono sedang plesiran ke Amerika Serikat menggungakan jet pribadi jenis Gulfstream G650 dengan nomor penerbangan N588SE. Masyarakat banyak mempertanyakan muasal dari fasilitas mewah tersebut.\n",
      "True Label: Positive, Predicted Label: Positive\n",
      "\n",
      "Text 45: JAKARTA, KOMPAS.com - MAT, korban kekerasan dalam rumah tangga (KDRT) oleh suaminya, seorang pegawai Direktorat Jenderal Pajak (Ditjen Pajak) berinisial FAF. Kini, MAT menderita stres berat akibat penganiayaan yang berlangsung sejak 2021.  “Hasil visum psikiatrikum menunjukkan bahwa MAT mengalami stres. KDRT yang dialaminya menyebabkan tekanan pikiran yang mengakibatkan korban stres,” kata Kasat Reskrim Polres Metro Bekasi Kota, Kompol Audy Joize Oroh, Rabu (28/8/2024).  Polisi telah menahan FAF setelah pemeriksaan dan penetapan sebagai tersangka, Selasa kemarin.  Kekerasan tersebut diduga dipicu oleh masalah ekonomi yang memperburuk konflik antara FAF dan MAT.  “Intinya masalah ekonomi,” ujar Audy.  FAF marah setelah MAT mendesaknya untuk memberikan laporan keuangan keluarga, yang kemudian berujung pada tindakan kekerasan.  Sebelumnya, Kabid Humas Polda Metro Jaya Kombes Pol Ade Ary Syam Indradi mengungkapkan bahwa FAF telah menganiaya MAT sejak 2021.  “KDRT fisik berlangsung sejak tahun 2021 hingga Maret 2023, sedangkan KDRT psikis terjadi sejak Oktober 2023 hingga saat ini,” kata Ade dalam jumpa pers di Polda Metro Jaya, Senin (26/8/2024).  Kasus ini juga viral di media sosial, dengan video KDRT yang diposting oleh akun Instagram @rizkyafrisya dan TikTok @hendii88.  Dalam unggahan tersebut, disebutkan bahwa korban telah melaporkan kasus ini ke polisi sejak 2023, namun hasilnya belum memuaskan.  Direktur Penyuluhan, Pelayanan, dan Hubungan Masyarakat DJP, Dwi Astuti, menyampaikan bahwa kasus ini adalah masalah rumah tangga yang sedang ditangani oleh penegak hukum.  “DJP menghormati proses hukum yang berlaku dan berkomitmen mendukung penyelesaian sesuai dengan ketentuan perundang-undangan,” kata Dwi pada Rabu (21/8/2024).  “DJP tidak mentoleransi pelanggaran kode etik, nilai-nilai kemanusiaan, dan peraturan perundang-undangan,” tambahnya.\n",
      "True Label: Positive, Predicted Label: Positive\n",
      "\n",
      "Text 46: RiderTua.com – Hyundai telah mempersiapkan sejumlah rencana untuk memperlancar elektrifikasi mobilnya di pasar global. Ke depannya, mereka akan menghadirkan lebih dari 10 model baru, entah itu hybrid maupun listrik. Selain mengembangkan mobil baru, Hyundai juga akan mengembangkan baterai entry level jenis NCM (nikel-kobalt-mangan). Tentu saja baterai ini bakal memiliki harga lebih terjangkau dari baterai NCM pada umumnya.  Hyundai Mengembangkan Baterai NCM Dengan Harga Terjangkau  Sejauh ini, sudah ada beberapa jenis baterai yang dipakai oleh mobil ramah lingkungan di seluruh dunia, dan NCM menjadi salah satu diantaranya. Namun sebagian produsen tidak memakai baterai jenis ini karena dianggap memiliki biaya perakitan yang lebih mahal dari baterai pada umumnya. Jelas ini diakibatkan oleh bahan baku yang dipakainya, terdiri dari nikel, kobalt, dan mangan.  Karena penyebab dari mahalnya harga mobil listrik disebabkan oleh baterainya, maka produsen memakai alternatif lain, seperti memakai baterai selain NCM atau bahkan membuat baterainya sendiri. Hyundai sendiri masih tetap mengandalkan baterai NCM karena dianggap cukup awet dan dapat memberikan jarak tempuh cukup jauh. Namun karena harganya yang cukup mahal, mereka berencana untuk membuat versi entry level-nya.  Dibanderol Lebih Terjangkau  Rencana tersebut memang akan diwujudkan di tahun 2030, tapi Hyundai sudah melakukan sejumlah persiapan untuk membuat baterai murah ini. Tentunya kualitasnya tidak murahan, mengingat NCM merupakan jenis baterai yang berkualitas lebih tinggi dari baterai jenis lainnya karena bahan baku yang dipakainya. Tetap saja, mereka harus mencari cara agar dapat menghasilkan baterai dengan harga lebih terjangkau dari harganya sekarang.  Tidak hanya membuat baterai dengan harga murah, Hyundai juga berupaya untuk menghasilkan baterai yang lebih aman, mengingat baterai jenis ini memiliki resiko kebakaran yang cukup tinggi.\n",
      "True Label: Negative, Predicted Label: Negative\n",
      "\n",
      "Text 47: Liputan6.com, Jakarta - Donald Trump tampaknya semakin menyelami dunia mata uang kripto lebih dalam. Langkah ini untuk mencapai ambisinya menjadikan Amerika Serikat (AS) sebagai ibu kota kripto di Planet Bumi.  Mengutip The Straits Times, Sabtu (30/8/2024) miliarder sekaligus mantan Presiden Amerika Serikat (AS) itu mengumumkan dalam postingan video di platform media sosial X, bahwa Donald Trump akan berencana menjadikan AS sebagai pusat kripto dunia.  Unggahan tersebut menyertakan tautan ke laman World Liberty Financial, yang diketahui merupakan proyek keuangan terdesentralisasi yang baru-baru ini dipromosikan oleh putra-putra Donald Trump.  Namun, informasi lebih lanjut terkait susunan proyek yang dipromosikan anak-anak Trump belum diketahui secara jelas.  Meskipun sedikit detail yang terungkap, metadata situs web tersebut menggambarkan proyek tersebut sebagai \"platform DeFi canggih yang akan menghubungkan pengguna dengan alat terbaik keuangan terdesentralisasi untuk investasi kripto yang aman dan menghasilkan keuntungan tinggi.  World Liberty Financial sendiri telah meluncurkan saluran di platform media sosial Telegram dengan lebih dari 52.000 pelanggan.  \"Siang ini, saya memaparkan rencana saya untuk memastikan bahwa Amerika Serikat akan menjadi ibu kota kripto di planet ini,\" ujar Trump dalam postingan video itu.  Sebagai informasi, keuangan terdesentralisasi, atau DeFi, adalah subsektor kripto yang bertujuan untuk menghilangkan perantara seperti bank dan pialang melalui penggunaan aplikasi berbasis perangkat lunak.  Seperti diketahui, Trump telah mengubah total pandangannya terhadap kripto setelah kembali bersaing dalam kampanye Pilpres AS 2024.  Pada Juli 2024, ia menjadi pembicara utama di sebuah konferensi Bitcoin, tempat para donatur diminta membayar biaya sebesar USD 844.600 untuk mendapatkan tempat duduk di meja bundar bersama Trump.\n",
      "True Label: Positive, Predicted Label: Positive\n",
      "\n",
      "Text 48: Simak langkah-langkah untuk mendaftar program Prakerja gelombang 72 berikut ini:  Buat akun Prakerja terlebih dahulu dengan menggunakan email dan password yang aktif. Isi data diri dan verifikasi NIK, KK, dan nomor handphone. Ikuti tes motivasi dan kemampuan dasar. Upayakan untuk menjawab soal dengan tepat, agar peluang keberhasilan lolos Prakerja semakin besar. Setelah selesai tes, daftar gelombang yang sedang berlangsung. Tunggu hingga hasil seleksi gelombang. Hasil seleksi lolos kartu Prakerja, nantinya akan diumumkan melalui akun Prakerja kamu. Jika lolos, akan ada saldo Rp3,5 juta untuk membeli pelatihan. Pilih pelatihan yang Anda inginkan. Ikuti pelatihan dan selesaikan tugas-tugasnya. Dapatkan insentif sebesar Rp600.000 setelah menyelesaikan pelatihan.  Adapun tambahan intensif sebesar Rp100.000, dari mengisi survei. Jangan lupa isi survei agar tambahan saldo DANA gratis bisa cair bersama dengan intensif.  Anda bisa klaim dan cairkan saldo DANA gratis tersebut, melalui dompet elektronik DANA.  Untuk mencairkannya, Anda harus mencantumkan nomor rekening dompet elektronik, maupun bank konvensional lainnya.  Persyaratan Mengikuti Program Prakerja  Sebelum mendaftar program kartu Prakerja gelombang 72, persiapkan diri Anda dengan memenuhi persyaratan yang sudah ditetapkan panitia kartu Prakerja. Berikut persyaratannya:  Merupakan Warga Negara Indonesia (WNI) minimal berusia 18 tahun ke atas. Tidak sedang menempuh pendidikan formal. Sedang mencari kerja, pekerja atau nuruh yang terkena PHK, serta pekerja atau buruh yang membutuhkan peningkatan kompetensi kerja, seperti pekerja atau buruh yang dirumahkan dan pekerja bukan penerima upah, termasuk pelaku usaha mikro dan kecil. Tidak menerima bantuan sosial lainnya selama pandemi COVID-19. Tidak terdaftar sebagai penerima bantuan dari pemerintah seperti Bansos Kemensos (DTKS), penerima BSU, BPUM atau penerima kartu prakerja sebelumnya. Tidak menyandang status sebagai pejabat negara, pimpinan dan anggota DPRD, Aparatur Sipil Negara (ASN), prajurit TNI, anggota POLRI, Kepada Desa dan perangkat Desa, Direksi Komisaris, Dewan Pengawas pada Badan Usaha Milik Negara (BUMN) atau Badan Usaha Milik Daerah (BUMD). Maksimal 2 NIK dalam 1 KK yang menjadi Penerima Kartu Prakerja.  Informasi perkiraan jadwal pembukaan program kartu Prakerja gelombang 72 ini bisa menjadi persiapan bagi para peserta.  Demikian informasi pendaftar serta persyaratan untuk mengikuti program kartu Prakerja gelombang 72.  Bermodalkan NIK dan KTP bisa mengikuti pendaftarannya, agar bisa meraih kesempatan klaim saldo DANA gratis Rp700.000 dari insentifnya.  Cek untuk informasi selengkapnya mengenai jadwal resmi pembukaan program kartu Prakerja gelombang 72, bisa cek website https://dashboard.prakerja.go.id/.\n",
      "True Label: Positive, Predicted Label: Positive\n",
      "\n",
      "Text 49: JAKARTA.NIAGA.ASIA – Bank Indonesia (BI), Bank of Korea (BOK), dan Kementerian Keuangan Korea menyepakati kerangka kerja sama Local Currency Transaction (LCT) dalam mendorong penggunaan mata uang lokal Rupiah-Won untuk transaksi perdagangan antara Indonesia dan Korea Selatan pada hari ini (30/8).  Langkah tersebut merupakan tindak lanjut Memorandum of Understanding (MoU) yang ditandatangani pada Mei 2023 dan kesepakatan kerangka operasionalnya pada Juni 2024.  “Kerangka LCT Indonesia-Korea Selatan akan diimplementasikan secara efektif mulai 30 September 2024,” kata Kepala Departemen Komunikasi Bank Indonesia, Erwin Haryono dalam siaran persnya, Jum’at (30/8/2024).  Menurut Erwin, implementasi kerangka LCT antara Indonesia dan Korea Selatan ini merupakan capaian penting dalam kerja sama keuangan bilateral kedua negara.  Kerangka LCT akan memperkuat interkoneksi bank Appointed Cross Currency Dealer (ACCD) dalam memfasilitasi transaksi berjalan antar negara dengan menggunakan mata uang lokal.  “Kerja sama ini juga mendorong kuotasi nilai tukar secara langsung (direct quotation) antara IDR terhadap KRW serta relaksasi ketentuan yang diperlukan untuk mendorong pemanfaatan LCT,” ujarnya.  Ke depan, implementasi kerangka LCT akan mendorong peningkatan transaksi perdagangan bilateral, mengurangi eksposur risiko nilai tukar, dan meningkatkan efisiensi transaksi.  Dijelaskan Erwin, BI dan BOK menetapkan bank-bank berikut sebagai bank ACCD di Indonesia dan Korea Selatan yang akan memfasilitasi operasionalisasi kerangka LCT Rupiah-Won.  Bank ACCD Korea Selatan:  Tag: Perdagangan\n",
      "True Label: Neutral, Predicted Label: Positive\n",
      "\n",
      "Text 50: Batam, Kabarbatam.com – Gubernur Kepulauan Riau H. Ansar Ahmad turut hadir dalam kemeriahan Pawai Tatung dan Moon Cake Festival yang diselenggarakan di Kota Batam, tepatnya di Persimpangan Jalan Imam Bonjol, Simpang Martabak Har, Kota Batam, Minggu (15/9).  Acara ini tak hanya menjadi simbol perayaan budaya Tionghoa, namun telah berkembang menjadi festival multikultural yang merefleksikan kebersamaan dan keharmonisan masyarakat Kepulauan Riau.  Dalam sambutannya, Gubernur Ansar Ahmad menyampaikan apresiasi kepada seluruh pihak yang terlibat dalam penyelenggaraan acara ini. “Saya atas nama Provinsi Kepri ingin menyampaikan apresiasi yang setinggi-tingginya kepada Bapak/Ibu penyelenggara. Dua tahun lalu, kami berkomitmen menjadikan acara ini sebagai kalender tahunan, karena acara ini bukan hanya milik masyarakat Tionghoa, tapi juga mencerminkan keragaman budaya kita di Kepri,” ujarnya.  Lebih lanjut, Gubernur Ansar menegaskan bahwa Pemprov Kepri akan terus mendorong pengembangan acara ini. “Kami berencana menjadikan festival ini sebagai event nasional, sehingga mendapatkan dukungan penuh dari pemerintah pusat, khususnya dari Kementerian Pariwisata dan Ekonomi Kreatif. Insyaallah, mulai tahun depan, acara ini akan diselenggarakan setiap tahun dengan skala yang lebih besar.”  Gubernur Ansar juga menyoroti pentingnya mendukung sektor pariwisata di Batam, sebagai destinasi wisata unggulan ketiga di Indonesia. “Kepri, khususnya Batam, merupakan destinasi wisata unggulan. Oleh karena itu, event-event pariwisata seperti ini harus terus kita kembangkan untuk meningkatkan angka kunjungan wisata.”  Dalam kesempatan ini, Gubernur juga menggarisbawahi peran penting Kepri sebagai miniatur Indonesia, dengan keberagaman suku, agama, dan budaya yang tetap harmonis. “Kepri adalah provinsi yang sangat heterogen, namun kita patut bersyukur, karena meskipun begitu, konflik antar suku, agama, dan budaya hampir tidak pernah terjadi di sini. Ini adalah bukti nyata toleransi kita.”  Sebagai provinsi yang telah dinobatkan sebagai salah satu daerah terbaik dalam hal toleransi beragama, Gubernur Ansar berharap masyarakat Kepri terus menjaga keharmonisan ini. “Pawai Tatung dan Moon Cake Festival adalah manifestasi dari keragaman dan kebersamaan kita. Malam ini, bukan hanya warga Tionghoa yang hadir, tapi semua suku, agama, dan budaya turut meramaikan.”  Acara ini turut dihadiri oleh sejumlah tokoh penting, seperti Anggota DPRD Provinsi Kepri Asmin Patros, Anggota DPRD Kota Batam Hendra Asman, Ketua Umum MAGABUTRI Rudy Arijanto, Ketua Paguyuban Sosial Marga Tionghoa Indonesia Kepri Rudy Tan, Ketua PSMTI Kota Batam Acun Tan, dan beberapa ketua organisasi Tionghoa lainnya. (ca)\n",
      "True Label: Neutral, Predicted Label: Neutral\n",
      "\n",
      "Text 51: INFO NASIONAL – Le Minerale sebagai produk air minum dalam kemasan (AMDK) asli Indonesia, bekerja sama dengan Masjid Istiqlal untuk mendukung kemajuan produk asli Indonesia. Kerja sama ini terjali lewat penandatanganan nota kesepahaman oleh Sales & Marketing Director Mayora Group, Riko Sistanto dan Imam Besar Masjid Istiqlal Jakarta, Nasaruddin Umar, di Masjid Istiqal, pada Jumat, 9 Agustus 2024.  Riko mengatakan, pihaknya sangat berterima kasih atas kesempatan dan kepercayaan yang diberikan dari pihak Masjid Istiqlal kepada Mayora Group, khususnya Le Minerale untuk menjalin kerja sama. Menurutnya, Masjid Istiqlal menjadi masjid yang menjadi ikon dan kebanggaan Umat Islam di Indonesia.  “Kami sangat bangga bisa menjadi bagian dari komunitas besar ini. Le Minerale merasa sangat terhormat bisa dipilih menjadi air mineral resmi yang akan ada di setiap kegiatan Masjid Istiqlal,” ujarnya.  Ia mengatakan, Le Minerale berkomitmen untuk memberikan produk yang tidak hanya sehat, tetapi juga higienis dan aman untuk dikonsumsi oleh masyarakat. Itu mengapa dalam proses pembuatannya, sumber mata air pegunungan terbaik di Indonesia yang kaya akan mineral alami dipilih oleh Le Minerale.  Sebagai perusahaan nasional, Le Minerale juga melakukan berbagai upaya untuk memberikan kontribusi terbaik bagi bangsa terutama dalam bidang ekonomi, sosial dan juga lingkungan.  Advertising  Advertising  Direktur Pengembangan Bisnis dan Kerja Sama Korporasi Masjid Istiqlal, Ahsanul Haq mengatakan, penandatanganan nota kesepahaman ini agar Masjid Istiqlal bisa memberikan nilai tambah bagi industri.  “Akhir-akhir ini kita sering melihat industri terutama industri manufaktur dan industri food and beverage itu terkena banyak imbas dari mudahnya produk impor masuk ke kita,” katanya.  Menurutnya, menjadikan Le Minerale sebagai mitra adalah pilihan yang tepat karena Le Minerale adalah produk asli Indonesia dan saham terbesarnya dimiliki oleh orang Indonesia.  Kerja sama ini pun menjadi bagian dari kerja produktif Masjid Istiqlal dalam rangka memberdayakan umat melalui masjid.  Ahsanul berharap setiap produk yang bekerja sama dengan Masjid Istiqlal bisa mendapatkan value yang lebih. (*)\n",
      "True Label: Negative, Predicted Label: Negative\n",
      "\n",
      "Text 52: JawaPos.com – Semakin bertambahnya usia, kebijaksanaan dan kecerdasan orang-orang pun akan meningkat. Namun, hal itu harus dicapai dengan kesungguhan dari diri kita sendiri.  Beberapa pria tetap tajam secara kognitif dan perseptif seiring bertambahnya usia. Ini terjadi karena mereka selalu berusaha untuk mengembangkan diri.  Selain itu, dilansir dari Hack Spirit, Sabtu (31/8), pria yang tetap tajam secara kognitif dan perseptif seiring bertambahnya usia biasanya mengadopsi 6 perilaku ini.  1. Mereka tidak mengorbankan tidurnya demi “kesuksesan”  Anda mungkin sudah pernah mendengarnya sebelumnya, tetapi saat Anda membaca artikel ini, Anda mungkin perlu diingatkan.  Tidur sangatlah penting. Faktanya, pakar Matthew Walker PhD mengatakan dalam bukunya Why We Sleep bahwa \"tidur adalah satu hal paling efektif yang dapat kita lakukan untuk menyegarkan kesehatan otak dan tubuh kita setiap hari,\".  Tidur malam yang cukup tidak hanya membantu Anda mengingat informasi baru dengan lebih baik dan mengingatnya, tetapi juga meningkatkan kemampuan Anda untuk berkonsentrasi.  Ini juga memacu kreativitas Anda, dan berkontribusi terhadap kesehatan fisik Anda. Sehingga, dapat memberi Anda lebih banyak waktu dan kemampuan untuk melakukan yang terbaik dan menikmati hidup sepenuhnya.  Jika Anda mengorbankan tidur Anda demi kemenangan sementara, Anda sebenarnya menghambat kesuksesan Anda dalam jangka panjang.  Jika Anda ingin tetap tajam secara kognitif dan tampil sebagai versi paling sehat dan paling produktif selama mungkin, aturan nomor satu adalah tidur yang cukup.\n",
      "True Label: Neutral, Predicted Label: Positive\n",
      "\n",
      "Text 53: HALUANRIAU.CO, PEKANBARU - Tindak pidana korupsi dan kejahatan perbankan nyaris terjadi setiap tahunnya. Untuk menekan angka tersebut agar tidak terus tumbuh, lembaga maupun instansi terkait wajib mengetahui upaya pencegahannya dan menerapkannya dengan maksimal.  Hal tersebut disampaikan oleh, Kasubdit II Ditreskrimsus Polda Riau, dalam acara workshop pencegahan tindak pidana perbankan dengan peserta Pemimpin Divisi, Pemimpin Bagian, General Manager, Branch Manager, Pincapem dan Pinkedai di Ballroom Menara Dang Merdu BRK Syariah, Jumat (30/8)  Tidak hanya pejabat eksekutif, bahkan jajaran Direksi BRK Syariah juga turut hadir, yakni Direktur Kepatuhan dan Manajemen Risiko Fajar Restu Febriansyah, Direktur Dana dan Jasa MA Suharto dan Direktur Operasional Said Syamsuri.  “Penegakan hukum dan tindakan preventif menjadi sangat penting dalam mencegah terjadinya tindak korupsi dan kejahatan perbankan. Praktek tindak korupsi dan kejahatan perbankan terjadi karena kesempatan untuk melakukannya terbuka, ujar Kompol Tedy.  Dijelaskan Mantan Wakapolres Indragiri Hulu ini, tindak pidana perbankan dapat menyebabkan kerugian yang sangat besar bagi perekonomian negara dan masyarakat. Kegiatan workshop yang dilaksanakan Bank Riau Kepri Syariah ini memberikan manfaat yang sangat besar bagi pegawai BRK Syariah untuk langkah-langkah preventif ke depan, serta mencari akar masalah terhadap potensi terjadinya korupsi di sektor perbankan.  “Pembuktian tindak pidana korupsi apapun, pasalnya tidak akan terbantahkan apabila ditemukan adanya proceed of crime dan keuntungan secara ekonomi yang diterima pelaku. Jadi ini sangat penting dipahami oleh setiap pegawai bank untuk membentengi diri,” kata Kompol Tedy.  Turut hadir pada acara tersrbut, pakar hukum dari Komisi Kejaksaan RI, Pujiyono Suwadi, selaku Ketua Komjak RI. Kemudian Kepala Sekretariat Komisi Kejaksaan Republik, Antoni Setiawan serta dari unsur pemerintahan, Sekda Provinsi Riau, SF Hariyanto. rls\n",
      "True Label: Positive, Predicted Label: Positive\n",
      "\n",
      "Text 54: Jakarta -  Penerimaan negara dipatok 2,997 trilyun rupiah, terutama bersumber dari dari pajak sebesar 2,490 trilyun rupiah. Apakah ini masuk akal dan feasible? Sesuai tren perkembangan penerimaan negara RAPBN tahun sebelumnya (2,802 trilyun rupiah) dan juga target penerimaan pada 2024 sebesar 2,309 trilyun rupiah sepertinya sasaran ini feasible karena tidak naik pesat dibandingkan dengan penerimaan negara dan penerimaan pajak dari tahun sebelumnya. Pemerintah sendiri pada saat ini masih pesimis bahwa target penerimaan pajak pada anggaran berjalan tahun 2024 akan bisa dicapai. Apalagi pada tahun 2025 dimana tantangannya jauh lebih besar lagi. Janji kampanye yang menuntut pengeluaran besar, sementara penerimaan pajak tidak bisa digenjot lebih dari kapasitasnya sekarang.  Kondisi sekarang cukup berat di mana daya beli masyarakat turun. Kelas menengah juga berat kondisinya dan bahkan turun kelas. Target ini sulit atau bahkan tidak bisa dicapai jika ekonomi tumbuh stagnan di bawah atau di sekitar 5 persen dan tidak sesuai janji kampanye presiden terpilih yang akan tumbuh lebih tinggi lagi. Tidak usah seperti janji kampanye pertumbuhan ekonomi 8 persen, jika pertumbuhan ekonomi bisa didorong 6-6,5 persen, maka sasaran penerimaan pajak tersebut bisa dicapai.  Jadi, faktor ekonomi makro pertumbuhan ekonomi, investasi dan iklim investasi serta kegiatan perdagangan terutama ekspor akan menentukan target penerimaan pajak tersebut bisa dicapai atau tidak. Pertumbuhan ekonomi yang lebih tinggi dari sekarang bisa dicapai jika ada kebijakan makro struktural di mana investasi dan ekspor bisa didorong menjadi lokomotifnya. Sekarang Indonesia, dalam hal, kebijakan seperti ini kalah dengan negara tetangga Vietnam dan Filipina.  Dalam postur RAPBN kita dapat melihat dan membahas defisit APBN Indonesia yang terus berlanjut dari tahun ke tahun dan bahkan terus meningkat. Defisit anggaran RAPBN 2025 yang direncanakan 616,2 triliun rupiah. Seperti tahun-tahun sebelumnya, defisit ini sangat besar dan mau tidak mau harus ditambal dengan utang. Selama 10 tahun masa pemerintahan Jokowi ini kebijakan utang memang ugal-ugalan sehingga warisannya akan terbawa pada masa pemerintahan Prabowo.  Dengan janji politik yang banyak sekali, maka sulit bagi pemerintahan yang akan datang bisa mengurangi ketergantungan pada utang dengan mengoptimalkan penerimaan negara dari sektor-sektor yang ada. Sehingga laju penerbitan surat utang negara akan terus meningkat dan merusak iklim makro karena suku bunga akan didorong naik terus.  Sampai pertengahan tahun 2024 ini, telah ditawarkan setidaknya hampir seribu trilyun rupiah SBN tetapi laku di pasar hanya separuhnya sekitar 517 trilyun rupiah. Sebelumnya tahun 2023, SBN yang ditawarkan di pasar mencapai 1,800 trilyun rupiah, tetapi laku di pasar sebesar 807 trilyun rupiah. Jadi, selama 10 tahun ini pemerintah Jokowi sudah mendorong ekonomi utang masuk jurang sehingga harus gali lubang tutup lubang.  Pemerintahan SBY menawarkan utang sekitar 2,608 trilyun rupiah. Sepuluh tahun berikutnya, jumlah utang mencapai 8,338 trilyun rupiah, naik tiga kali lipat dengan pembayaran bunga yang sangat tinggi sebesar 497 trilyun rupiah. Beban bunga utang ini jauh lebih besar dari pos anggaran kementerian, sektor maupun propinsi mana pun. Jika dibandingkan misalnya dengan APBD propinsi, pembayaran utang ini 1,600 persen lebih tinggi total APBD rakyat Jawa Barat.  Sekarang daya beli masyarakat turun. Target pertumbuhan ekonomi 5 persen sebenarnya tidak cukup untuk memulihkan daya beli tersebut. Jadi harus ada upaya reformasi struktural agar tingkat pertumbuhan ekonomi lebih tinggi dari, yang ditargetkan 5,2 persen pada tahun 2025. Ini diperlukan agar ada ruang lebih untuk mendukung peningkatan penerimaan pajak. Namun, jika daya beli masyarakat melemah atau terjadi tekanan inflasi yang tinggi, maka kemampuan masyarakat untuk membayar pajak bisa terpengaruh. Pemerintah sekarang akan berjibaku menjaga keseimbangan antara pengumpulan pajak dan tidak memberatkan ekonomi masyarakat.  Dalam hal penerimaan pajak dan menjaga momentum ekonomi yang baik, faktor internal kementerian keuangan dan direktorat jenderal pajak ke depan akan sangat menentukan. Kemampuan Kementerian Keuangan dan sekaligus siapa menterinya akan menjadi faktor kritis. Reformasi perpajakan mutlak perlu terus dilanjutkan, termasuk digitalisasi dan perluasan basis pajak. Sektor apa saja yang harus digali, tidak bisa tidak adalah sektor industri (non-migas), termasuk jasa, sebagai tiang utama. Tetapi sektor ini melorot dan tumbuh rendah serta mengalami stagnasi bertahun-tahun karena tidak ada sentuhan kebijakan. Jika pertumbuhan sektor ini bisa tumbuh 8-10 persen, maka pengumpulan pajak akan mendapat ruang yang leluasa.  Sektor baru yang harus digali tidak lain adalah ekonomi digital dan ekonomi kreatif, termasuk sektor terlantar yakni pariwisata. Dengan berkembangnya e-commerce, fintech, dan layanan berbasis digital, sektor ini merupakan peluang besar untuk menambah penerimaan pajak melalui pengenaan pajak pada platform digital dan transaksi daring.\n",
      "True Label: Neutral, Predicted Label: Negative\n",
      "\n",
      "Text 55: Dukungan masyarakat dunia terhadap Palestina mengalir deras di berbagai ruang. Tak hanya di media sosial, tapi juga dimanifestasikan dalam aksi konkret seperti penggalangan dana, unjuk rasa, hingga pemboikotan terhadap produk-produk terafiliasi Israel.  Seperti diketahui, konflik Israel-Hamas yang berlangsung sejak Oktober 2023 lalu telah memanaskan situasi di Jalur Gaza.  Biro Pusat Statistik Palestina/Palestinian Central Bureau of Statistics (PCBS) mencatat ada sebanyak 40.188 warga Palestina yang tewas akibat agresi Israel ke wilayah Palestina, terhitung sejak 7 Oktober 2023 hingga 4 Agustus 2024.  Hasil survei GoodStats bertajuk “Sikap dan Perilaku Masyarakat terhadap Aksi Boikot Produk Terafiliasi Israel” mengungkap pola pendirian serta pandangan publik di Indonesia secara spesifik mengenai aksi boikot terhadap produk-produk terafiliasi Israel.  Menurut hasil survei ini, hampir seluruh responden (95,3%) mengaku aware /mengetahui tentang aksi boikot terhadap produk yang terafiliasi Israel.  Mayoritas Warga Indonesia Mendukung Aksi Boikot  Menurut survei GoodStats, mayoritas responden (70,2%) menyatakan mendukung gerakan boikot produk terafiliasi Israel.  Sebaliknya, hanya ada sedikit responden (12,8%) yang mengaku kontra terhadap aksi boikot ini. Sementara sebagian kecil lainnya (17%) mengaku netral.  “Tak cuma mendukung, aksi boikot produk-produk terafiliasi Israel secara konkret juga saat ini diakui tengah dilakukan oleh sebanyak 77,2% responden dalam kesehariannya,” jelas Managing Editor GoodStats, Iip M. Aditiya, Selasa (6/8).  Bagi mereka yang melakukan boikot, motif solidaritas terhadap Palestina (68,1%) dan ingin memberikan tekanan kepada Israel (55,3%) jadi alasan utamanya menurut survei ini.  Selain itu, sebanyak 30% responden juga menjadikan agama/keyakinan sebagai alasan untuk ikut dalam gerakan boikot.  Produk Makanan & Minuman Jadi Sasaran Utama Boikot  Produk makanan dan minuman (81,5%) jadi sasaran utama produk yang diboikot masyarakat dalam aksi boikot terhadap produk terafiliasi Israel.  “Dibandingkan pakaian atau produk elektronik, makanan dan minuman jadi jenis produk paling banyak kena boikot” tutur Iip.  Dalam hal ini, survei GoodStats juga menangkap pola preferensi masyarakat Indonesia terkait pilihan produk alternatif untuk menggantikan produk yang mereka boikot menurut sejumlah kategori.  Untuk kategori makanan cepat saji misalnya, Hoka-Hoka Bento (24,2%) dan Richeese Factory (22,1%) ada di urutan teratas sebagai produk pengganti pilihan masyarakat.  Kemudian di kategori air mineral, Le Minerale jadi produk alternatif utama masyarakat untuk menggantikan produk yang diboikot.  Aksi Boikot Efektif Hentikan Agresi Israel?  Merujuk kembali pada latar belakangnya, gerakan boikot produk terafiliasi Israel timbul sebagai respons publik atas rentetan serangan dan upaya okupansi Israel di teritori Palestina.  Berkaitan dengan ini, sebagian besar responden (55,1%) dalam survei GoodStats yakin bahwa gerakan boikot yang dilakukan akan efektif untuk menekan/menghentikan aksi agresi Israel tersebut.  Terdapat pula 15,8% responden yang menyatakan bahwa aksi boikot ini tak akan efektif dalam meredam agresi Israel terhadap Palestina. Sedangkan 30,1% responden lainnya merasa tak yakin/ragu akan hal ini.  Tentang Survei  Pengumpulan data dalam survei GoodStats ini dilakukan secara daring menggunakan 1.000 sampel responden dengan profil tersegmentasi yang tersebar di seluruh wilayah Indonesia.  Kriteria usia responden dalam survei ini ada di rentang 18-58 tahun, dengan proporsi responden terbanyak (41,2%) ada di kelompok usia 18-25 tahun, dan 26-34 tahun (37,2%).  Managing Editor GoodStats, Iip M. Aditiya menyebut hasil survei ini cukup memberi gambaran soal ketegasan masyarakat Indonesia dalam mempromosikan perdamaian.  “Hasil survei ini secara umum cukup menegaskan bahwa masyarakat merasa punya peran krusial dalam upaya kolektif untuk mempromosikan perdamaian, salah satunya melalui aksi boikot,” tutur Iip.\n",
      "True Label: Negative, Predicted Label: Positive\n",
      "\n",
      "Text 56: SAO PAULO — Brazil mulai memblokir platform media sosial milik Elon Musk, X, Sabtu dini hari, membuatnya sebagian besar tidak dapat diakses baik melalui web maupun aplikasi selulernya setelah perusahaan tersebut menolak mematuhi perintah hakim.  X melewatkan tenggat waktu yang ditetapkan oleh Hakim Agung Alexandre de Moraes untuk menunjuk perwakilan hukum di Brasil, yang memicu penangguhan tersebut. Hal ini menandai eskalasi perseteruan selama berbulan-bulan antara Musk dan de Moraes terkait kebebasan berbicara, akun-akun sayap kanan, dan misinformasi.  Untuk memblokir X, regulator telekomunikasi Brasil, Anatel, meminta penyedia layanan internet untuk menangguhkan akses pengguna ke platform media sosial tersebut. Hingga Sabtu tengah malam waktu setempat, operator besar mulai melakukannya.  De Moraes telah memperingatkan Musk pada Rabu malam bahwa X dapat diblokir di Brasil jika ia gagal mematuhi perintahnya untuk menunjuk perwakilan, dan menetapkan batas waktu 24 jam. Perusahaan tersebut tidak memiliki perwakilan di negara tersebut sejak awal bulan ini.  “Elon Musk menunjukkan rasa tidak hormatnya yang total terhadap kedaulatan Brasil dan, khususnya, terhadap lembaga peradilan, dengan menempatkan dirinya sebagai entitas supranasional sejati dan kebal terhadap hukum masing-masing negara,” tulis de Moraes dalam keputusannya pada hari Jumat.  Hakim mengatakan platform tersebut akan tetap ditangguhkan hingga mematuhi perintahnya, dan juga menetapkan denda harian sebesar 50.000 real ($8.900) bagi orang atau perusahaan yang menggunakan VPN untuk mengaksesnya.  Dalam putusan selanjutnya, ia menarik kembali keputusan awalnya untuk menetapkan batas waktu 5 hari bagi penyedia layanan internet itu sendiri — dan bukan hanya regulator telekomunikasi — untuk memblokir akses ke X, serta arahannya bagi toko aplikasi untuk menghapus jaringan privat virtual, atau VPN.  Perselisihan tersebut juga menyebabkan pembekuan rekening bank di Brazil milik penyedia internet satelit milik Musk, Starlink, minggu ini.  Brasil merupakan salah satu pasar terbesar untuk X, yang telah berjuang dengan hilangnya pengiklan sejak Musk membeli Twitter pada tahun 2022. Kelompok riset pasar Emarketer mengatakan sekitar 40 juta warga Brasil, sekitar seperlima dari populasi, mengakses X setidaknya satu kali per bulan.  “Ini adalah hari yang menyedihkan bagi pengguna X di seluruh dunia, terutama mereka yang berada di Brasil, yang ditolak aksesnya ke platform kami. Saya berharap hal ini tidak terjadi – hati saya hancur,” kata CEO X Linda Yaccarino Jumat malam, seraya menambahkan bahwa Brasil gagal menegakkan janji konstitusinya untuk melarang penyensoran.  X telah memposting di halaman resmi Urusan Pemerintah Global pada Kamis malam bahwa mereka memperkirakan X akan ditutup oleh de Moraes, “hanya karena kami tidak akan mematuhi perintah ilegalnya untuk menyensor lawan politiknya.”  “Ketika kami mencoba membela diri di pengadilan, Hakim de Moraes mengancam perwakilan hukum kami di Brasil dengan hukuman penjara. Bahkan setelah dia mengundurkan diri, dia membekukan semua rekening banknya,” tulis perusahaan tersebut.  X telah berselisih dengan de Moraes atas keengganannya untuk mematuhi perintah untuk memblokir pengguna.  Akun-akun yang sebelumnya ditutup oleh platform tersebut atas perintah Brasil mencakup anggota parlemen yang berafiliasi dengan partai sayap kanan mantan Presiden Jair Bolsonaro dan aktivis yang dituduh merusak demokrasi Brasil. Pengacara X pada bulan April mengirimkan dokumen ke Mahkamah Agung, yang menyatakan bahwa sejak 2019, platform tersebut telah menangguhkan atau memblokir 226 pengguna.  Dalam keputusannya hari Jumat, de Moraes mengutip pernyataan Musk sebagai bukti bahwa tindakan X “jelas bermaksud untuk terus mendorong unggahan yang mengandung ekstremisme, ujaran kebencian, dan wacana anti-demokrasi, dan mencoba menariknya dari kendali yurisdiksi.”  Pada bulan April, de Moraes memasukkan Musk sebagai target dalam penyelidikan yang sedang berlangsung atas penyebaran berita palsu dan membuka penyelidikan terpisah terhadap eksekutif tersebut atas dugaan penghalangan.  Musk, yang menyatakan diri sebagai “pemegang absolut kebebasan berbicara,” telah berulang kali mengklaim bahwa tindakan hakim tersebut merupakan penyensoran, dan argumennya telah digaungkan oleh kelompok politik kanan Brasil. Ia sering menghina de Moraes dalam pidatonya, mencirikannya sebagai seorang diktator dan tiran.  Para pembela De Moraes mengatakan tindakannya yang ditujukan kepada X telah sah, didukung oleh sebagian besar majelis hakim pengadilan dan telah berfungsi untuk melindungi demokrasi di saat demokrasi terancam. Ia menulis pada hari Jumat bahwa putusannya didasarkan pada hukum Brasil yang mengharuskan perusahaan jasa internet untuk memiliki perwakilan di negara tersebut sehingga mereka dapat diberi tahu ketika ada keputusan pengadilan yang relevan dan mengambil tindakan yang diperlukan — yang menetapkan penghapusan konten terlarang yang diunggah oleh pengguna, dan antisipasi penyebaran misinformasi selama pemilihan umum kota pada bulan Oktober.  Penutupan yang mengancam ini bukanlah hal baru di Brasil.  Hakim tunggal Brasil menutup WhatsApp milik Meta, aplikasi pengiriman pesan yang paling banyak digunakan di negara itu, beberapa kali pada tahun 2015 dan 2016 karena perusahaan tersebut menolak memenuhi permintaan polisi untuk data pengguna. Pada tahun 2022, de Moraes mengancam aplikasi pengiriman pesan Telegram dengan penutupan nasional, dengan alasan aplikasi tersebut telah berulang kali mengabaikan permintaan otoritas Brasil untuk memblokir profil dan memberikan informasi. Ia memerintahkan Telegram untuk menunjuk perwakilan lokal; perusahaan tersebut akhirnya mematuhi dan tetap online.  X dan inkarnasi sebelumnya, Twitter, telah dilarang di beberapa negara — sebagian besar rezim otoriter seperti Rusia, Tiongkok, Iran, Myanmar, Korea Utara, Venezuela, dan Turkmenistan. Negara-negara lain, seperti Pakistan, Turki, dan Mesir, juga telah menangguhkan X untuk sementara waktu sebelumnya, biasanya untuk meredakan perbedaan pendapat dan kerusuhan. Twitter dilarang di Mesir setelah pemberontakan Musim Semi Arab, yang oleh sebagian orang disebut sebagai “revolusi Twitter,” tetapi sejak itu telah dipulihkan.  Pencarian pada hari Jumat di X menunjukkan ratusan pengguna Brasil bertanya tentang VPN yang berpotensi memungkinkan mereka untuk terus menggunakan platform tersebut dengan membuatnya tampak seperti mereka masuk dari luar negeri. Tidak jelas bagaimana pihak berwenang Brasil akan mengawasi praktik ini dan mengenakan denda yang disebutkan oleh de Moraes.  “Ini adalah tindakan yang tidak biasa, tetapi tujuan utamanya adalah untuk memastikan bahwa perintah pengadilan untuk menangguhkan operasi platform tersebut, pada kenyataannya, efektif,” kata Filipe Medon, seorang spesialis hukum digital dan profesor di sekolah hukum Getulio Vargas Foundation, sebuah universitas di Rio de Janeiro, kepada The Associated Press.  Mariana de Souza Alves Lima, yang dikenal dengan nama pengguna MariMoon, menunjukkan kepada 1,4 juta pengikutnya di X ke mana ia ingin pergi, dengan mengunggah tangkapan layar jejaring sosial pesaingnya, BlueSky.  Pada Kamis malam, Starlink mengatakan di X bahwa de Moraes minggu ini membekukan keuangannya, mencegahnya melakukan transaksi apa pun di negara tempat ia memiliki lebih dari 250.000 pelanggan.  “Perintah ini didasarkan pada penetapan yang tidak berdasar bahwa Starlink harus bertanggung jawab atas denda yang dijatuhkan—secara tidak konstitusional—terhadap X. Perintah ini dikeluarkan secara rahasia dan tanpa memberikan Starlink proses hukum yang semestinya sebagaimana dijamin oleh Konstitusi Brasil. Kami bermaksud untuk menangani masalah ini secara hukum,” kata Starlink dalam pernyataannya. Firma hukum yang mewakili Starlink mengatakan kepada AP bahwa perusahaan tersebut mengajukan banding, tetapi tidak akan memberikan komentar lebih lanjut.  Musk membalas orang-orang yang membagikan laporan pembekuan tersebut, dengan menambahkan hinaan yang ditujukan kepada de Moraes. “Orang ini @Alexandre adalah penjahat kelas kakap, menyamar sebagai hakim,” tulisnya.  Musk kemudian mengunggah di X bahwa SpaceX, yang mengelola Starlink, akan menyediakan layanan internet gratis di Brasil “hingga masalah ini terselesaikan” karena “kami tidak dapat menerima pembayaran, tetapi tidak ingin memutus sambungan dari siapa pun.”  Dalam keputusannya, de Moraes mengatakan bahwa ia memerintahkan pembekuan aset Starlink, karena X tidak memiliki cukup uang di rekeningnya untuk menutupi denda yang terus meningkat, dan dengan alasan bahwa kedua perusahaan tersebut merupakan bagian dari kelompok ekonomi yang sama.  Meski perintah penangguhan X diikuti peringatan dan denda sehingga merupakan tindakan yang tepat, mengambil tindakan terhadap Starlink tampaknya “sangat dipertanyakan,” kata Luca Belli, koordinator Pusat Teknologi dan Masyarakat Yayasan Getulio Vargas.\n",
      "True Label: Neutral, Predicted Label: Positive\n",
      "\n",
      "Text 57: JAKARTA, KOMPAS.com - Polda Metro Jaya tengah menelusuri laporan soal kasus dugaan kekerasan dalam rumah tangga (KDRT) di wilayah Kota Bekasi.  Pelaku KDRT ini diduga seorang pegawai Direktorat Jenderal Pajak (DJP).  “Polda Metro Jaya sedang mengecek dan sedang kami cek ya. Tadi, rekan-rekan kami sudah mengecek apakah ada laporan polisi yang sudah masuk (ke Polda Metro Jaya),” ungkap Kabid Humas Polda Metro Jaya Kombes Pol Ade Ary Syam Indradi, Rabu (21/8/2024).  Meski begitu, kasus KDRT menjadi salah satu perhatian Polda Metro Jaya untuk menuntaskan perkaranya.  “Ya ini menjadi concern kami juga Polda Metro Jaya. Jika nanti laporannya sudah ada, pasti akan ditindaklanjuti,” ujar Ade.  Adapun viral di media sosial Instagram dari akun @rizkyafrisya yang memperlihatkan KDRT pelaku terhadap istrinya.  “Korban adalah teman saya, tolong bantu UP ya guys. Karena, video di (akun Instagram) jkt.spot di- takedown oleh adminnya. Pelaku KDRT merupakan pegawai instansi pemerintah,” tulis akun Instagram @rizkyafrisya.  Video KDRT ini juga diviralkan oleh akun Tiktok @hendii88.  Dalam keterangan yang ditulis akun tersebut, korban sudah melaporkan ke polisi sejak 2023. Hanya saja, belum sesuai harapan korban.  Direktur Penyuluhan, Pelayanan, dan Hubungan Masyarakat DJP, Dwi Astuti menyampaikan, kasus KDRT yang dimaksud murni merupakan permasalahan rumah tangga yang bersangkutan.  “Saat ini, sudah dilaporkan dan ditangani oleh aparatur penegak hukum,” kata Dwi dalam keterangannya, Rabu (21/8/2024).  Terkait perkara tersebut, DJP telah melakukan pembinaan kepada pelaku sesuai dengan peraturan kepegawaian yang berlaku.  “DJP menghormati proses hukum berlaku serta berkomitmen mendukung proses hukum sesuai dengan ketentuan perundang-undangan yang berlaku,” ujar Dwi.  “DJP tidak mentoleransi seluruh perbuatan yang melanggar kode etik, nilai-nilai kemanusiaan, serta peraturan perundang-undangan,” lanjut dia.\n",
      "True Label: Positive, Predicted Label: Positive\n",
      "\n",
      "Text 58: Kerjasama ini mendukung untuk mencintai produk Indonesia  Dream - Masjid Istiqlal berkolaborasi dengan Le Minerale untuk mendukung kemajuan produk asli milik Indonesia. Peresmian kolaborasi ini ditandai dalam penandatanganan nota kesepahaman (MOU) yang dilaksanakan di Masjid Istiqlal, Jakarta pada Jumat, 9 Agustus 2024.  Kerjasama ini mendukung untuk mencintai produk Indonesia “Kita kan dianjurkan, mari kita mencintai Indonesia, mari mencintai produk dalam negeri, mari kita mencintai karya-karya penuh dari orang Indonesia,\" kata Imam Besar Masjid Istiqlal, Nasaruddin Umar.  Masjid Istiqlal menggandeng Le Minerale untuk memberikan berbagai kontribusi dan dampak yang positif, salah satunya memberangkatkan umroh untuk marbot Istiqlal. Adapula beasiswa bagi anak marbot Istiqlal.  Le Minerale juga akan melakukan peremajaan pusat kuliner Istiqlal yakni Jumat Berkah yang merupakan pembagian makan siang gratis bagi mereka yang membutuhkan di lingkungan Istiqlal. Kemudian Ramadhan Festival, acara kajian, bazaar dan kuliner untuk memeriahkan bulan suci Ramadhan. “Tentu kita wajib berterima kasih pada semua pihak yang mau bekerjasama dengan Istiqlal, khususnya untuk Le Minerale. Bukan hanya satu orang yang diumrahkan tapi ternyata jumlahnya banyak,” tutup Nasaruddin.  Inisiatif ini juga diharapkan dapat menjadi contoh positif bagi masyarakat dan masjid-masjid lainnya untuk menebarkan kebaikan yang bisa bermanfaat bagi Istiqlal dan Indonesia. Sebagai perusahaan asli milik Indonesia, Le Minerale secara berkesinambungan melakukan berbagai upaya untuk memberikan kontribusi terbaik bagi bangsa, terutama dalam bidang ekonomi, sosial dan juga lingkungan.  Dalam kesempatan yang sama, Marketing Director Le Minerale, Febri Satria Hutama menyampaikan terima kasih atas kepercayaan yang diberikan Masjid Istiqlal. \"Sebagai produk asli milik Indonesia, Le Minerale merasa sangat terhormat dipilih untuk menjadi air mineral resmi yang akan ada di setiap kegiatan masjid Istiqlal, yang merupakan masjid negara, ikon, dan kebanggaan umat muslim Indonesia,\" ungkapnya.  Selain itu, Le Minerale menyatakan komitmennya untuk menjalankan bisnis sesuai dengan nilai-nilai pancasila dan kebangsaan, dan berusaha untuk menginspirasi generasi Indonesia untuk memiliki nilai dan norma kebangsaan yang kuat. “Nah, ini tentunya sejalan dengan prinsip kami, nilai-nilai yang kami junjung di Le Minerale sebagai perusahaan asli milik Indonesia. Tentunya kami ingin memajukan masyarakat Indonesia dan juga lingkungan yang ada di sekitar kita,” tutup Febri.\n",
      "True Label: Negative, Predicted Label: Negative\n",
      "\n",
      "Text 59: Follow  Iklan - Geser ke atas untuk melanjutkan  Rekomendasi  david naif anak  Kondisi itu diungkapkan David 'Naif' saat kembali mendampingi anaknya menjalani pemeriksaan lanjutan di Mapolda Metro Jaya, Jakarta, Selasa (13/8).  Baca Selengkapnya  Rekomendasi  Rumah Tahan Gempa Tertarik Bangun Rumah Tahan Gempa? Ternyata Biayanya Tak Sampai Rp100 Juta  Rumah tahan gempa di Indonesia menggunakan teknologi RISHA.  Baca Selengkapnya  Rekomendasi  news update 7 Desain Atap Minimalis Bikin Rumah Terasa Lebih Adem dan Nyaman  Keberadaan atap dalam sebuah rumah memiliki peran yang sangat vital, baik dari segi estetika maupun fungsional.  Baca Selengkapnya  Rekomendasi  Bandung Ketika Nasi dan Sambal Terasi Bikin Pemuda Belanda Rindu Bandung, Ngaku Tak Betah di Negeri Sendiri  Saking inginnya merasakan menu makanan tradisional tersebut, sampai-sampai pemuda itu membayangkan dirinya sedang menikmati sepiring nasi beserta sambal terasi  Baca Selengkapnya  Rekomendasi  Presiden Jokowi Karpet Kuning untuk Jokowi Bergabung ke Golkar  Partai Golkar sangat terbuka kepada siapapun yang ingin bergabung ke partai berlogo pohon beringin.  Baca Selengkapnya  Rekomendasi  kebiasaan bangun pagi 14 Tips Bangun Pagi dengan Kondisi Segar, Awali Hari dengan Semangat  Bangun pagi telah lama dianggap sebagai kebiasaan yang bermanfaat untuk kesehatan dan produktivitas.  Baca Selengkapnya  Rekomendasi  Ikke Nurjanah Potret Adira Putri Cantik Ikke Nurjanah di Atas Panggung, Ikuti Jejak Sang Ibu Jadi Penyanyi  Siti Adira Kania, anak dari pasangan penyanyi terkenal, memiliki bakat yang tak kalah hebat dengan orangtuanya.  Baca Selengkapnya  Rekomendasi  Khloe Kardashian Desain Rumah Mewah Khloe Kardashian Miliki Kesan Unik dan Mewah Ala Maroko  Pemandangan Malibu Canyon yang spektakuler juga menjadi salah satu highlight dari properti ini.  Baca Selengkapnya  Rekomendasi  Kejagung Tangis Eks Plt Kadis ESDM Babel Usai Jadi Tersangka Baru Korupsi Timah  SPT terlihat menutup wajahnya saat keluar gedung pemeriksaan.  Baca Selengkapnya  Rekomendasi  Rapat pleno golkar Golkar Gelar Rapat Pleno Malam Ini, Tentukan Plt Ketum Pengganti Airlangga  Partai Golkar menggelar rapat pleno di Kantor DPP Partai Golkar, Jakarta, Selasa (13/8).  Baca Selengkapnya  Rekomendasi  Saka Tatal Kubu Saka Tatal Minta Tujuh Terpidana Segera Dibebaskan, Ini Alasannya  Yasin meminta kepada Kapolri Jenderal Listyo Sigit Prabowo beserta jajarannya untuk melihat duduk perkara kasus pembunuhan Vina dan Eky.  Baca Selengkapnya  Rekomendasi  annisa trihapsari Potret Dua Cucu Ganteng Annisa Trihapsari yang Tak Tersorot, Putra dari Danvy Rukmana  Danvy Rukmana, si sulung dari Annisa Trihapsari dan Ari Sigit, telah menemukan kebahagiaannya dalam pernikahan  Baca Selengkapnya  Rekomendasi  news update Apa itu Allantoin di Dalam Skincare? Ini Manfaatnya untuk Wajah  Salah satu bahan yang sering diandalkan dalam produk perawatan kulit anti-penuaan adalah allantoin.  Baca Selengkapnya  Rekomendasi  sri mulyani Hampir Tiap Bulan Sri Mulyani Tambah Anggaran Pembangunan IKN, Totalnya Kini Rp42,5 Triliun  Penambahan anggaran terkini digunakan untuk memenuhi kualitas pembangunan infrastruktur IKN.  Baca Selengkapnya  Rekomendasi  Kesehatan 7 Bahaya Angin Malam untuk Kesehatan, Bisa Tingkatkan Risiko Infeksi Saluran Pernapasan  Angin malam sering kali dianggap sepele, namun ternyata memiliki dampak yang signifikan terhadap kesehatan.  Baca Selengkapnya  Rekomendasi  Golkar Munas Golkar Berpeluang Ubah ADRT  Wakil Ketua Umum Partai Golkar, Adies Kadir menyebut Munas Golkar mendatang berpeluang mengubah AD/ART kepartaian.  Baca Selengkapnya  Rekomendasi  Anies Baswedan PKB Tak Undang Anies Baswedan ke Muktamar: Kan Bukan Ketum Partai  PKB sendiri bakal turut mengundang para pimpinan partai dalam acara tersebut termasuk Presiden Jokowi.  Baca Selengkapnya  Rekomendasi  ayah dan anak Diam-Diam Pulang ke Rumah, Kedekatan Anak Perempuan dan Ayahnya Ini Curi Perhatian  Aksinya yang tak biasa ini membuatnya jadi figur ayah yang dirindukan banyak anak di internet.  Baca Selengkapnya\n",
      "True Label: Neutral, Predicted Label: Neutral\n",
      "\n",
      "Text 60: JAKARTA — Brand air minum mineral asli Indonesia, AQUA, dengan bangga mengumumkan terjalinnya kerja sama strategis dengan Persatuan Sepak Bola Seluruh Indonesia (PSSI) sebagai official mineral water Tim Nasional Sepak Bola Indonesia (Timnas Indonesia). AQUA akan menjamin ketersediaan air minum mineral berkualitas terbaik untuk Timnas Indonesia guna memenuhi kebutuhan hidrasi mereka.  Terpilihnya AQUA sebagai official mineral water tak lepas dari komitmen AQUA untuk senantiasa mendukung para pahlawan sepak bola Indonesia agar dapat tampil optimal dan meraih prestasi terbaik. Vice President Marketing Danone Indonesia, Sri Widowati, mengatakan kerja sama antara AQUA dan PSSI ini merupakan bentuk penghargaan AQUA atas dedikasi dan pencapaian luar biasa Timnas Indonesia.  “Dedikasi dan perjuangan para atlet Timnas Indonesia patut diacungi jempol. Timnas Indonesia sebagai tim terbaik sudah selayaknya mendapatkan air berkualitas terbaik. Dengan terpilihnya AQUA sebagai official mineral water Timnas Indonesia, kami berkomitmen untuk menjamin ketersediaan air minum mineral berkualitas guna memenuhi kebutuhan hidrasi mereka,” ujar Sri dalam siaran persnya.  Setiap tetes AQUA mengandung air mineral 100 persen murni dari 19 gunung terlindungi yang tersebar di seluruh Indonesia. Sumber air AQUA berasal dari lapisan tanah dalam yang terlindungi dan telah melewati sembilan kriteria, lima tahapan, serta minimal satu tahun penelitian. Sehingga, AQUA menghasilkan air minum berkualitas dengan kebaikan mineral alami yang esensial untuk performa optimal.  Proses penyaringan air minum AQUA dilakukan secara alami menggunakan berlapis-lapis bebatuan dan diproses tanpa sentuhan manusia. Hasilnya, setiap kemasan AQUA mengandung air mineral 100 persen murni yang berasal 100 persen dari Indonesia, tanpa tambahan pemanis, pemutih maupun bahan tambahan lainnya.  Direktur PT Garuda Sepak Bola Indonesia (PT GSI), Marsal Masita, mengatakan kolaborasi ini adalah langkah bersama sebagai bagian dari keluarga besar Indonesia untuk mendukung sepak bola Indonesia agar dapat tampil optimal dan meraih prestasi. GSI mengucapkan terima kasih kepada AQUA atas dukungan yang diberikan.  “Melalui kerja sama dengan AQUA, Timnas Indonesia mendapatkan air minum mineral berkualitas untuk mendukung kebugaran dan penampilan mereka yang optimal selama latihan dan pertandingan,” katanya.  Selain hidrasi berkualitas, AQUA juga mempunyai sejarah panjang dalam mendukung tercapainya prestasi bangsa, terutama dalam olahraga sepak bola. Sejak 2003, AQUA menyelenggarakan AQUA DNC, turnamen sepak bola anak U-12 terbesar di Indonesia.  Melalui AQUA DNC, ribuan pemain muda telah berpartisipasi untuk meraih mimpi dan mencapai prestasi sebagai pemain sepakbola di liga Indonesia atau bahkan sebagai pemain Timnas Indonesia. Beberapa pemain Timnas Indonesia yang pernah berlaga di AQUA DNC, antara lain Evan Dimas, Egy Maulana Vikri, dan Andik Vermansyah.  Dengan terpilih sebagai official mineral water Timnas Indonesia, AQUA berharap dapat terus mendukung perkembangan olahraga sepak bola Indonesia dan menginspirasi generasi masa depan untuk mewujudkan mimpi, mengukir prestasi di kancah sepak bola internasional.  Komitmen menjaga lingkungan  Sejalan dengan strategi perusahaan untuk secara konsisten menghadirkan kesehatan melalui produk berkualitas, AQUA berkomitmen untuk menjaga kelestarian alam secara berkelanjutan. AQUA berupaya mengurangi risiko operasional dan terus menghadirkan dampak positif terhadap lingkungan. Dengan menjaga kelestarian lingkungan, kemurnian dan kualitas air pun dapat terjaga.  Upaya-upaya AQUA mencakup pelestarian dan pemulihan daerah sekita sumber air untuk memastikan ketersediaan air minum berkualitas bagi masyarakat serta menjalankan konservasi lingkungan secara terintegrasi, dari mulai proses pengambilan air, produksi, distribusi produk hingga pengelolaan sampah pasca-konsumsi. Sebagai contoh, AQUA telah menunjukkan inisiatif nyata dalam pengelolaan sampah plastik melalui pengembangan enam Unit Bisnis Daur Ulang (RBU) dan 10 collection center.  1 2\n",
      "True Label: Negative, Predicted Label: Negative\n",
      "\n",
      "Text 61: Tujuan utamanya adalah menciptakan dampak positif bagi perusahaan dengan memilih karyawan terbaik dan memberikan pelatihan rutin dan juga tepat sasaran untuk mengembangkan talenta dan keahlian mereka.  Bagi para pemimpin, Danamon menghadirkan program pembelajaran khusus yaitu Danamon Leadership Academy agar mampu menghadirkan pemimpin-pemimpin yang efektif dan inspiratif. Selain itu, Danamon juga memfasilitasi karyawan untuk belajar dari mana saja dengan menggunakan e-learning serta online learning platform.  Danamon, sebagai bagian dari MUFG Financial Group bersama dengan anggota group lainnya Adira Finance, Zurich Asuransi Indonesia, dan Home Kredit Indonesia menawarkan kesempatan eksposur global melalui program seperti Indonesia Talent Swap dan Global Experience Talent Swap, yang memberikan kesempatan kepada karyawan untuk melakukan pertukaran karyawan secara temporer ke perusahaan dari MUFG Financial Group di dalam maupun luar negeri.  Danamon juga memberikan kesempatan bagi karyawan untuk menunjukkan inovasi mereka melalui program Danamon Innovation Race (DIR), yang bertujuan untuk membentuk budaya berinovasi, customer centricity, dan menjalankan business improvement berkelanjutan demi membangun budaya kinerja yang tinggi dan memberikan apresiasi atas inovasi tersebut.  Berbagai pelatihan Danamon sediakan untuk pengembangan diri karyawan, memungkinkan mereka memilih pelatihan sesuai kebutuhan dan aspirasi mereka. Selain itu, Danamon menyediakan wadah bagi karyawan untuk mengekspresikan minat, bakat, dan kreativitas mereka melalui komunitas internal, D’Club, yang mencakup kegiatan olahraga, seni, dan hobi lainnya.  Guna mencapai tujuan pada 2024, Danamon akan memperkuat kerja sama dengan Group Partner (MUFG, Adira Finance, Zurich Asuransi Indonesia, dan Home Credit Indonesia), mengembangkan program kepemimpinan karier yang komprehensif, serta memanfaatkan digitalisasi di tempat kerja.  Penghargaan ini menjadi motivasi bagi Danamon untuk terus mengembangkan lingkungan kerja yang kolaboratif, suportif dan inovatif, guna mencapai visi dan misi perusahaan.\n",
      "True Label: Neutral, Predicted Label: Neutral\n",
      "\n",
      "Text 62: Google Pay, aplikasi pembayaran Unified Prepaid Interface (UPI), meluncurkan fitur baru di Global Fintech Fest (GFF) 2024. Perusahaan mengatakan, fitur baru yang akan diluncurkan akhir tahun ini akan memudahkan pengguna dalam melakukan pembayaran. melakukan pembayaran dan bertransaksi melalui aplikasi. Beberapa fitur yang diumumkan di GFF antara lain UPI Circle, UPI Voucher atau eRupi, pemindaian QR Clickpay, pembayaran Utilitas Prabayar, Tap & Pay dengan kartu RuPay dan masih banyak lagi. Selain itu, perusahaan juga mengumumkan beberapa kemitraan pada acara tersebut.  Google Pay Memperkenalkan Fitur Baru di GFF 2024  Aplikasi pembayaran UPI merinci fitur-fitur baru di a postingan blog dan mengatakan bahwa fungsi ini akan memberikan kemudahan, kenyamanan, dan kesederhanaan dalam cara pengguna berinteraksi dengan pembayaran dan instrumen keuangan.  UPI Circle adalah fitur baru dari NPCI rom yang memungkinkan pemegang akun UPI mengizinkan orang tepercaya melakukan pembayaran digital meskipun mereka tidak memiliki rekening bank. Fitur ini dapat bermanfaat bagi anggota keluarga lanjut usia yang tidak memiliki rekening bank atau akun tertaut Google Pay tetapi perlu melakukan pembayaran UPI.  Anggota keluarga ini bisa mendapatkan hak istimewa Delegasi Parsial di mana pengguna utama harus menyetujui setiap transaksi atau hak istimewa Delegasi Penuh di mana mereka bisa mendapatkan batas bulanan hingga Rs. 15.000. Fitur ini diluncurkan bekerja sama dengan National Payments Corporation of India (NPCI).  Voucher UPI atau eRupi, fitur transfer manfaat langsung (DBT) yang diluncurkan pada tahun 2021, akan segera didukung di Google Pay. Masyarakat dengan fitur ini dapat menghasilkan voucher prabayar yang ditautkan ke nomor ponsel dan dapat digunakan untuk melakukan pembayaran digital meskipun pengguna belum menautkan rekening bank ke UPI. Fitur ini akan dibawa ke platform bekerja sama dengan NPCI dan Departemen Jasa Keuangan.  Pemindaian QR Clickpay adalah fitur baru lainnya untuk pembayaran tagihan yang hadir di Google Pay. Ini memungkinkan pengguna membayar tagihan mereka di Google Pay dengan memindai kode QR dalam aplikasi. Pembayaran ini hanya dapat dilakukan ketika biller telah membuat kode QR khusus untuk pelanggan. Setelah dipindai, pengguna akan melihat total tagihan yang harus mereka bayarkan, menurut Google.  Google Pay juga akan memungkinkan pengguna membayar tagihan utilitas di muka dengan fitur baru. Mirip dengan fitur di Paytm, aplikasi akan menemukan tagihan utilitas prabayar pengguna setelah mereka menambahkan data pelanggan ke aplikasi. Setelah selesai, pengguna akan dapat melakukan pembayaran berulang ke biller yang mendukung pembayaran prabayar. Fitur ini akan berfungsi di berbagai kategori. Ditambahkan bekerja sama dengan NPCI Bharat Billpay.  Ketuk & Bayar dengan Kartu RuPay juga akan ditambahkan ke Google Pay akhir tahun ini. Dengan ini, pemegang kartu RuPay dapat menambahkan kartu Rupay mereka ke aplikasi dan mengetuk ponsel cerdas mereka yang mendukung komunikasi jarak dekat (NFC) di mesin kartu dan melakukan pembayaran. Khususnya, informasi kartu tidak disimpan dalam aplikasi, kata perusahaan itu.  Terakhir, UPI Lite mendapat fitur autopay. Pengguna akan dapat melakukan top up akun UPI Lite secara otomatis ketika saldo berada di bawah jumlah tertentu.\n",
      "True Label: Positive, Predicted Label: Positive\n",
      "\n",
      "Text 63: Mobil N Vision 74 coupe adalah perwujudan keren dari “visi kinerja tinggi elektrifikasi” Hyundai dua tahun yang lalu yang kita harapkan akan menjadi kendaraan nyata. Sepertinya lebih mungkin sekarang setelah disebutkan dalam rencana Hyundai untuk meluncurkan 21 model listrik penuh pada tahun 2030. Slide ini (di bawah) berasal dari presentasi Hari Investor CEO 2024 perusahaan, … Baca Selengkapnya\n",
      "True Label: Negative, Predicted Label: Negative\n",
      "\n",
      "Text 64: Berdasarkan nominal dan jadwal tersebut, pencairan bansos PKH dilakukan melalui PT Pos Indonesia. Untuk pengambilan uang, KPM dapat mengujungi kantor pos di wilayah masing-masing sambil membawa KTP dan KK.  Selain lewat PT Pos Indonesia, adapula bansos PKH yang dicairkan melalui rekening Kartu Keluarga Sejahtera (KKS) di bank penyalur BNI, BRI, BTN, Mandiri, dan BSI.  Adapun penyaluran via bank penyalur biasanya dilakukan per dua bulan sekali atau enam tahap dalam satu tahun.  Cara Daftar PKH  Anda yang belum menjadi KPM bisa melakukan pendaftaran sesuai syarat penerima PKH. Daftar bansos ini bisa dilakukan dengan dua cara, sebagai berikut.  Online: Via Aplikasi Cek Bansos. Offline: Via kantor desa/kelurahan setempat sambil membawa dokumen KTP dan KK.  Cara Cek Bansos PKH Lewat HP  Berikut ini cara cek bansos PKH lewat HP bagi KPM yang sudah terverifikasi.  Kunjungi situs Cek Bansos Kemensos di cekbansos.kemensos.go.id Isi kolom wilayah meliputi: Provinsi, Kabupaten/Kota, Kecamatan, dan Desa Masukkan nama Penerima Manfaat PKH seusi identitas KTP Ketik empat kode huruf captcha yang ditampilkan di layar Klik 'CARI DATA' Sistem Cek Bansos akan memindai nama penerima PKH sesuai data wilayah yang diinput Selesai, hasil akan ditampikan di layar perangkat Anda  Demikian informasi seputar bansos PKH 2024 yang disalurkan pemerintah kepada NIK KTP yang sudah terdaftar.\n",
      "True Label: Positive, Predicted Label: Positive\n",
      "\n",
      "Text 65: REJANGLEBONG, RAKYATBENGKULU.COM - Kantor Bank BCA KCP Curup, di Kelurahan Pasar tengah Kecamatan Curup Kabupaten Rejang Lebong Provinsi Bengkulu, Sabtu, 31 Agustus 2024 sekira pukul 03.30 WIB dibobol maling.  Akibat kejadian itu,BCA mengalami kerugian hingga Rp27 juta, karena uang sejumlah itu digondol maling.  Tindak pidana pencurian dengan pemberatan tersebut, diketahui Security Ilham Agung Samudra (28) sekira pukul 06.30 WIB.  Pada saat Ilham ingin membuka rolling pintu Kantor BCA dan masuk ke dalam kantor, melihat Printer yang berada di meja Costumer service sudah tidak ada.  Kemudian saksi Ilham melaporkan kepada Hendrianto yang merupakan karyawan Bank BCA tersebut.  Sekira pukul 12.30 WIB, karyawan Bank BCA Cabang Curup melaporkan kejadian tersebut ke SPKT Polres Rejang Lebong.  Kapolres Rejang Lebong, AKBP Eko Budiman S.IK, M.IK melalui Kasatreskrim, Iptu. Denyfita Mochtar S.Tr.K didampingi Kasi Humas, AKP Sinar Simanjuntak membenarkan peristiwa itu.  Dikatakannya, setelah mendapat laporan dari karyawan Bank BCA, unit Reskrim Polres Rejang Lebong langsung melakukan identifikasi dengan datang ke lokasi untuk melalukan olah tempat kejadian perkara.  \"Olah TKP telah dilakukan, dan uang yang hilang senilai Rp 27 juta. Kita sudah menyita CCTV dari bank tersebut dan terduga pelaku masih dalam penyelidikan,\" terang Kasi Humas.  Kronologis kejadian, Sabtu, Tanggal 31 Agustus 2024 sekira jam 03.30 WIB telah terjadi tindak pidana pencurian dengan pemberatan di Kantor Bank BCA KCP Curup.  Kejadian tersebut diketahui pertama kali oleh Saksi Ilham, yang merupakan Security di Kantor Bank BCA.  Pada pukul 06.30 WIB, saat saksi membuka rolling pintu Kantor BCA dan masuk ke dalam kantor, melihat printer yang berada di meja Customer Service sudah tidak ada.\n",
      "True Label: Positive, Predicted Label: Positive\n",
      "\n",
      "Text 66: daulat.co - Komisi X DPR RI menyetujui pagu anggaran definitif Perpustakaan Nasional (Perpusnas) tahun 2025 sebesar Rp721,6 miliar.  Keputusan ini ditetapkan setelah pihaknya menerima Surat Ketua Badan Anggaran (Banggar) DPR Nomor B/11277/AG.05.02/09/2024 pada tanggal 10 September 2024.  Pernyataan ini disampaikan oleh Wakil Ketua Komisi X DPR Hetifah Sjaifudian saat membacakan laporan singkat agenda Raker Komisi X DPR dengan Plt Perpusnas E. Aminuddin Aziz di Gedung DPR RI, Senayan, Jakarta, Rabu (18/9/2024).  Politisi Fraksi Partai Golkar itu mengingatkan anggaran tersebut nantinya digunakan untuk program yang dibutuhkan oleh publik untuk memperbaiki literasi.  \"Komisi X DPR dan Perpusnas sepakat bahwa anggaran ini dimanfaatkan untuk program strategis nasional dan program yang dibutuhkan publik dengan memperhatikan saran, pandangan, dan usulan sesuai dengan peraturan perundang-undangan,\" ujarnya.  Sebagai informasi, pagu anggaran definitif Kemenparekraf tahun 2025 akan dimanfaatkan untuk 2 (dua) program utama.  Secara rinci di antaranya Program Perpustakaan dan Literasi sebesar Rp459,5 miliar dan program Dukungan Manajemen sebesar Rp262,08 miliar.\n",
      "True Label: Negative, Predicted Label: Negative\n",
      "\n",
      "Text 67: Warta Ekonomi, Jakarta -  Pakar Marketing dan Branding, Andre Donas menyayangkan ada sejumlah pihak yang menyinggung penggunaan logo Danone di label Aqua. Menurutnya, sah-sah saja Aqua tidak menggunakan logo Danone dengan alasan apapun sehingga tidak perlu dipermasalahkan.  \"Tidak ada logo Danone dalam label Aqua itu merupakan hal yang biasa dan wajar sehingga tidak perlu diperdebatkan,\" kata Andre Donas di Jakarta.  Andre mengungkapkan bahwa Aqua tentu memiliki strategi tersendiri dengan tidak menyematkan logo Danone pada label kemasan mereka. Dia mengatakan, lagi pula Aqua merupakan produk lokal yang sudah besar dari awal bahkan sebelum kedatangan Danone.  Dosen Periklanan Politeknik Negeri Media Kreatif (Polimedia) ini melanjutkan, banyak brand atau produk kenamaan yang tidak menggunakan perusahaan induk mereka. Misalnya saja Fastron yang sempat tidak menyematkan nama Pertamina dalam produk mereka.  \"Hal ini merupakan hal yang biasa apabila kemudian perusahaan induk mereka dianggap sebagai liabilitas dalam pemasaran produk,\" katanya.  Belum lagi, sambung Andre, biaya restitusi yang harus dibayarkan kepada perusahaan induk. Dia mengatakan, bisa jadi Aqua tidak menyematkan logo Danone karena enggan untuk membayar royalti tersebut yang jumlahnya tentu tidak kecil.  Menurutnya, jauh apabila dikaitkan antara tidak menyematkan logo Danone dengan boikot yang saat ini sedang berlangsung. Dia berpendapat, hal ini mengingat Aqua merupakan perusahaan lokal pun sebelum Danone berinvestasi di Indonesia.  Andre menyebut, investasi entitas apapun dalam setiap korporasi dapat berganti dengan mudah. Misalnya saja Facebook mengakuisisi WhatsApp pada 2014 lalu. Dia mengatakan, bisa saja Facebook di kemudian hari melepas dan menjual WhatsApp ke pihak manapun.  \"Jadi saya melihat ini menjadi strategi perusahaan untuk efisiensi sekaligus penegasan bahwa Aqua memang merupakan produk 100 persen asli Indonesia yang tidak memiliki keterkaitan dengan Israel,\" katanya.  Lebih jauh, Andre melihat bahwa ada persaingan usaha dibalik isu penggunaan logo Danone tersebut. Menurutnya, ada pihak yang tidak bertanggung jawab ingin merebut pasar dengan cara menjelek-jelekan kompetitor.  Kasus berbeda dilakoni Le Minerale yang disebut-sebut harus membayar royalti ke perusahaan asing yakni Matsui Koshi Limited yang merupakan perusahaan cangkang di British Virgin Island. Meskipun di Indonesia berada di bawah PT Tirta Fresindo Jaya namun lisensi asli produk tersebut berada di bawah kuasa Matsui Koshi.  Artinya, Le Minerale harus membayar upeti kepada perusahaan cangkang tersebut meskipun masuk di Indonesia melalui Mayora di bawah bendera PT Tirta Fresindo Jaya. Kepemilikan lisensi Le Minerale oleh entitas asing ini juga menimbulkan pertanyaan apakah produk tersebut benar-benar asli Indonesia atau tidak.***\n",
      "True Label: Positive, Predicted Label: Neutral\n",
      "\n",
      "Text 68: TIMESINDONESIA, JAKARTA – Majelis Ulama Indonesia (MUI) DKI Jakarta menggandeng Le Minerale untuk memberikan bantuan sebanyak 2.600 galon air Le Minerale untuk korban kebakaran di Manggarai. Bantuan ini merupakan bentuk kepedulian dan solidaritas sesama bangsa Indonesia.  Pemberian galon Le Minerale tersebut dilaksanakan di area relokasi warga, tepatnya di Rumah Susun (Rusun) Pasar Rumput , Setiabudi, Jakarta Selatan pada Jumat (23/8/2024).  Serah terima bantuan dilakukan oleh perwakilan MUI DKI Jakarta dan perwakilan Le Minerale kepada Lurah Manggarai, Muhammad Arafat. Sebagai kepala lurah wilayah terdampak, Arafat mengucapkan terima kasih kepada MUI DKI Jakarta dan Le Minerale atas sumbangan yang diberikan.  “Kami sangat berterima kasih kepada Le Minerale dan MUI atas kepedulian dan dukungan mereka. Bantuan ini tidak hanya membantu memenuhi kebutuhan mendesak masyarakat kami, tetapi juga memberikan semangat dan harapan baru bagi mereka yang sedang menghadapi masa-masa sulit,” ujar Arafat.  Di masa sulit ini kehadiran air galon Le Minerale sangat dibutuhkan para korban terdampak. Tercatat 1.016 jiwa dari 254 KK terdampak kebakaran di Manggarai. Sehingga kehadiran air galon Le Minerale dinantikan warga.  “Sempat ngobrol dengan warga, bantuan dari Le Minerale ini sangat dinantikan, sekali lagi, terima kasih kepada Le Minerale atas kontribusi mereka yang sangat berarti.” imbuhnya.  Sementara Ketua Bidang Sosial dan CSR MUI DKI Jakarta, Z. Wennar, menyampaikan apresiasi dan terima kasih yang mendalam kepada Le Minerale atas bantuan yang telah diberikan.  “Kami ucapkan terima kasih banyak kepada Le Minerale karena kepedulianya terhadap korban kebakaran di Manggarai. Bantuan ini sangat berarti dalam kondisi darurat dan akan membantu meringankan beban para korban,” ujar Z. Wennar.  “Bantuan dari Le Minerale sebagai produk asli milik Indonesia adalah aksi nyata dari tanggung jawab sosial perusahaan yang patut dicontoh. Kami berharap kerja sama seperti ini dapat terus terjalin demi kesejahteraan masyarakat yang lebih baik,” tambah Z. Wennar.  Hal senada juga diungkapkan oleh Ketua Seni dan Budaya MUI Jakarta, KH. Lutfi Hakim, “Jadi ini kerjasama kemanusiaan yang harus kita rawat, kami sangat senang dan bergembira dengan bantuan dari Le Minerale,” ujar Lutfi.  Ditemui di lokasi yang sama, warga pun menyambut antusias saat pembagian air galon Le Minerale di Rusun Pasar Rumput.  Salah satunya Endang Lestari (54), warga yang terdampak kebakaran, terlihat senyum sumringah saat menerima air galon Le Minerale.  \"Alhamdulillah banget dapat bantuan Le Minerale. Terima kasih bantuannya. Air ini betul-betul bermanfaat buat kita di sini,\" ujarnya  Sama halnya dengan Dewi Puji Astuti yang merasa gembira menerima bantuan dari Le Minerale.  \"Saya senang bisa dapat air ini, kita butuh banget air buat minum karena di sini serba terbatas. Terbatas semuanya. Kita udah nggak punya apa-apalagi karena semuanya habis terbakar.”  Kerjasama bantuan kemanusiaan ini merupakan bukti nyata kontribusi positif bagi masyarakat yang diharapkan dapat memberikan banyak manfaat.  Yuna Eka Kristina, Head of Public Relations and Digital Le Minerale, mengungkapkan,“Bantuan ini merupakan bukti kepedulian dan solidaritas dari Le Minerale. Kami sebagai produk asli milik Indonesia ingin selalu ada bagi masyarakat Indonesia untuk kebaikan Indonesia. Bantuan kemanusiaan ini semoga dapat memberikan manfaat, meringankan beban di masa sulit ini dan harapan baru bagi mereka.” (*)\n",
      "True Label: Negative, Predicted Label: Negative\n",
      "\n",
      "Text 69: KEDIRI, JP Radar Kediri – PT Bank Central Asia Tbk (BCA) menggelar event bertajuk BCA Kediri Autoshow 2024 di Atrium Hall Kediri Town Square. Acara tersebut berlangsung selama tiga hari mulai Jumat 30 Agustus hingga 1 September 2024. BCA Kediri Autoshow 2024 menghadirkan beragam promo dan bunga spesial.  Meliputi kredit kendaraan bermotor (KKB), kredit sepeda motor (KSM), kredit pemilikan rumah (KPR) dan solusi menarik lainnya yang dapat dinikmati seluruh nasabah dan masyarakat.  BCA Kediri Autoshow 2024 dibuka oleh Kepala Kepala Kantor Wilayah VII BCA Hianni yang diikuti seluruh jajaran manajemen BCA Kediri kemarin.  Sebelumnya, BCA juga menggelar BCA Expo 2024 di ICE BSD, Tangerang, pada 16-18 Agustus 2024. Kemudian juga di 6 kota lainnya. Meliputi Bali, Surabaya, Bandung, Malang, Medan, dan Semarang.  Gelaran tersebut merupakan bentuk apresiasi BCA kepada seluruh nasabah dan masyarakat dengan memberikan kemudahan transaksi penawaran spesial.  Kepala Kantor Wilayah VII BCA Hianni mengatakan, BCA Kediri Autoshow 2024 hadir secara khusus sebagai rasa terima kasih kepada seluruh nasabah tercinta, mitra BCA, dan masyarakat Kediri dan sekitarnya.  Kegiatan ini untuk mendekatkan nasabah dengan mitra kerja BCA dari dealer hingga tenant properti untuk menjalin kerja sama yang positif.  \"Dengan berbagai promo yang kami persembahkan, kami harap dapat membantu seluruh nasabah untuk menjemput kendaraan atau hunian impian mereka, serta mendorong roda perekonomian nasional,\" ujarnya.  Selama gelaran BCA Kediri Autoshow 2024, BCA menghadirkan penawaran bunga spesial KPR mulai dari 1,45% eff. p.a. fixed per tahun. Sementara untuk KKB, terdapat bunga spesial 2% flat p.a. untuk tenor 1 tahun.  Di kesempatan ini, BCA Kediri juga menghadirkan promo spesial KSM dengan potongan cicilan Rp 130.000 per bulan dan juga potong tenor cicilan 1x.\n",
      "True Label: Positive, Predicted Label: Positive\n",
      "\n",
      "Text 70: Warta Ekonomi, Jakarta -  IndoFringe International Festival of Performing Arts dan InovArt dengan bangga membuka pameran seni tunggal berjudul “A Nature’s Symphony: Whispering Leaves, Joyful Dances, Gods of Grace” yang menampilkan karya seni dari Duta Besar Jayant N. Khobragade, Duta Besar India untuk ASEAN.  Pameran ini akan diselenggarakan di Mangkuluhur ARTOTEL Suites dari 11 hingga 15 September 2024, dan didukung oleh Wonderful Indonesia serta Kementerian Pariwisata dan Ekonomi Kreatif Republik Indonesia.  Pameran ini menampilkan lebih dari 35 lukisan yang telah dikurasi dengan cermat, memberikan kesempatan langka bagi pengunjung untuk menyaksikan karya seni yang mendalam dan memukau, mencakup tiga tema berbeda. Inisiatif kolaboratif ini bertujuan untuk tidak hanya mempromosikan pertumbuhan seni dan budaya, tetapi juga memperkuat hubungan lintas batas, khususnya antara Indonesia dan India.  Upacara pembukaan yang akan dilaksanakan pada 10 September 2024 ini akan dihadiri oleh para pejabat terhormat, termasuk Sandiaga S. Uno, Menteri Pariwisata dan Ekonomi Kreatif Republik Indonesia, serta para duta besar, diplomat, pejabat pemerintah, dan pemimpin bisnis.  Menteri Uno menyampaikan pentingnya pameran ini dengan mengatakan, “Pameran ini tidak hanya memperkenalkan seni inovatif dari seorang diplomat India yang terampil kepada publik Indonesia, tetapi juga menyambut program InovArt dari IndoFringe yang berusaha membangun ekosistem berkelanjutan dan kolaboratif untuk bakat-bakat baru di bidang seni rupa di seluruh Indonesia.”  IndoFringe, yang diluncurkan pada tahun 2023, adalah inisiatif pembangunan bangsa yang mengadakan festival seni lokal di 50 kota di Indonesia selama lima tahun terakhir.  Menteri Uno menekankan bahwa inisiatif ini akan memberdayakan komunitas lokal dengan membangun pusat-pusat ekonomi kreatif, yang akan menciptakan lapangan kerja dan distribusi kekayaan yang merata. “Saya sangat percaya bahwa masyarakat PT Chairos International Ventures harus diberikan keterampilan dan kesempatan untuk membangun pusat ekonomi kreatif di sekitar tempat tinggal mereka. Program-program semacam ini akan sangat bermanfaat dalam memberdayakan generasi muda Indonesia untuk memilih ekonomi kreatif sebagai profesi dan karir, dan bukan hanya sekadar hobi,” tambahnya.  Peluncuran pameran akan menampilkan pengungkapan salah satu lukisan kunci, bersama dengan pengumuman lelang amal online untuk sebuah karya istimewa oleh Duta Besar Khobragade. Lelang ini, yang akan berlangsung hingga 1 Oktober 2024, akan mendukung beasiswa U-GO INOTEK yang membantu pendidikan tinggi bagi wanita muda Indonesia yang berusaha memberikan dampak berarti di komunitas mereka.  Duta Besar Jayant Khobragade membagikan refleksinya, menyatakan, “Saya merasa sangat terharu melihat warisan bersama antara India dan Indonesia serta ruang ASEAN yang lebih luas yang menghubungkan berbagai geografi dan era. Koneksi ini, di zaman kita, menginspirasi tidak hanya banyak karya tetapi juga tema baru tentang Kebaikan Sang Pencipta. Dengan demikian, menyatukan genre sebelumnya tentang kedekatan dengan alam dan eksistensi manusia dalam dimensi halus ini dengan tema baru dan memberikan makna baru pada karya dan eksistensi saya.”  Ia berharap pameran ini akan memajukan dialog budaya dan meningkatkan antusiasme di dunia seni. Sachin V. Gopalan, Ketua IndoFringe, lebih lanjut menekankan pentingnya acara ini.  “Misi IndoFringe adalah membangun ekosistem berkelanjutan untuk semua bentuk seni pertunjukan dan visual di seluruh Indonesia. InovArt adalah inisiatif utama yang membina seniman-seniman paling berbakat dan inovatif, yang mengarah pada kolaborasi internasional dan evolusi artistik.”  Tahun ini, program sekolah InovArt akan menyatukan ribuan seniman pelajar dari 500 sekolah di 20 kota untuk memecahkan rekor dunia dalam seni kolaboratif.\n",
      "True Label: Neutral, Predicted Label: Neutral\n",
      "\n",
      "Text 71: PROMO DAN DISKON - Promo Indomaret paling murah dan promo Indomaret hemat banget akan berakhir hari ini 31 Juli 2024. Ada promo Pepsodent, Sunsilk sampai Daia di promo Indomaret hari ini.  Katalog promo Indomaret hari ini masuk dalam promo Indomaret hemat banget dan paling murah 25-31 Juli 2024.  Promo Indomaret memberikan potongan harga untuk belanja produk harian di awal pekan pada akhir bulan Juli tahun 2024.  Ada promo minyak goreng sampai promo mie instan di promo Indomaret hari ini terbaru bulan Juli ini.  Berikut katalog promo Indomaret terbaru yang juga memberikan cashback bayar dengan aplikasi Gopay.  Katalog Promo Indomaret Terbaru  Di promo Indomaret hari ini edisi promo Indomaret hemat banget 25-31 Juli 2024 ada promo minyak goreng Sania.  Dapatkan juga promo Indomie beli 5 lebih hemat harga Rp 14.400 dan kental manis Frisian Flag harga Rp 10.500.  Promo minuman di promo Indomaret hari ini juga hadirkan Le Minerale Rp 5.900 dan Kapal Api Rp 13.900.  Jangan lewatkan juga Mamy Poko dan Sunlight beli 2 lebih hemat sampai Daia harga lebih terjangkau.  Promo Indomaret hari ini memberikan harga lebih murah bayar dengan kartu kredit Mandiri, debit/kredit BNI dan debit BRI.  Selanjutnya ada promo Indomaret hari ini edisi promo paling murah menjelang akhir bulan Juli tahun 2024 ini.  Nikmati sereal choco chips Simba beli 2 lebih hemat dan You C1000 beli 2 lebih hemat juga harga Rp 12.000-an.  : Promo Minyak Goreng Murah Mulai 25 Juli 2024 di Indomaret, Alfamart dan Superindo  Ada promo produk perawatan dan kebersihan tubuh yaitu Pepsodent dan Rexona harga mulai Rp 12.000-an juga.  Promo Indomaret hari ini edisi paling murah siapkan promo shampoo Sunsilk harga mulai Rp 29.900.  Belanja lebih murah di promo Indomaret hari ini spesial paling murah ini dengan Gopay dan Kredivo.  Jangan lupa, promo Indomaret hari ini edisi paling murah dan hemat banget tidak berlaku di toko Indomaret Point.  Harga berlaku nasional namun ada perbedaan selisih harga di luar pulau Jawa, Bali dan Lombok.\n",
      "True Label: Neutral, Predicted Label: Neutral\n",
      "\n",
      "Text 72: Bandung, IDN Times - Bisphonel-A atau BPA saat ini menjadi bahan kimia yang diperdebatkan karena disebut banyak ditemukan pada air minum dalam kemasan (AMDK) galon. Badan Pengawas Obat dan Makanan (BPOM) bahkan telah menerbitkan Peraturan BPOM Nomor 6 Tahun 2024 tentang Perubahan Kedua atas Peraturan Badan Pengawas Obat dan Makanan Nomor 31 Tahun 2018 tentang Label Pangan Olahan.  Pada belied tersebut, terdapat dua pasal tambahan terkait pelabelan risiko Bisfenol A (BPA) pada kemasan air minum dalam kemasan (AMDK), yaitu 48A dan 61A. Namun, aturan BPA dalam AMDK galon pun masih menjadi perdebatan apakah bisa membahayakan ketika dikonsumsi.  Dr Akhmad Zainal Abidin selaku Kepala Laboratorium Teknologi Polimer dan Membran ITB menuturkan bahwa pihaknya sudah melakukan penelitian lebih lanjut mengenai kandungan BPA dalam AMDK galon.  Hasilnya, dari empat merek AMDK galon yang diuji tidak menunjukkan adanya BPA yang bisa membahayakan. Ketika air minum tersebut mengandung BPA, kadarnya pun masih sangat aman, berada jauh dari ambang batas yang ditetapkan BPOM dan organisasi kesehatan dunia (WHO)  \"Temuan ini menegaskan bahwa kemasan galon polikarbonat yang duji aman untuk penyimpanan air minum,\" kata Akhmad dalam konferensi pers di Bandung, Senin (26/8/2024). Adapun merek AMDK galon yang diteliti adalah Amidis, Aqua, Crystallin, dan Vit.  1. BPA sudah ada di berbagai produk makanan dan minuman  Dia menjelaska, BPA pertama kali dibuat pada tahun 1891, telah digunakan secara luas terutama dalam pembuatan plastik polikarbonat. BPA tahan terhadap suhu dari 40 hingga 145 derajat celcius. Selain digunakan dalam produk kemasan pangan, BPA juga ditemukan dalam berbagai produk sehari-hari seperti tambal gigi, makanan dan minurnan kaleng, serta kertas termal yang digunakan untuk struk belanja.  “BPA ini tidak lepas dari kehidupan sehari hari kita. Suka tidak suka, sadar tidak sadar kita terpapar oleh BPA. Jadi, hal yang perlu diperhatikan pada kemasan ini adalah batas aman, dan itu sudah diatur oleh regulator,” kata dia.  Terkait dengan adanya aturan dari BPOM mengenai pelabelan BPA Free, Zainal justru mempertanyakannya. Sebab, label tersebut bukan mengindikasikan makanan atau minuman tertentu tidak berbahaya.  \"Maka bagi saja ini adalah sebuah pembodohan kalau sesuatu itu BPA free bukan berarti itu sehat,\" kata dia.  Keinginan label ini bahkan tidak sesuai dengan banyak penelitian yang menyebut bahwa kandungan BPA sebenarnya tidak jadi masalah asalkan di bawah batas ambang.  2. Tidak ada penyakit tertentu yang disebabkan oleh BPA  Sementara itu, Dokter Spesialis Penyakit Dalam dengan subspesialis Endokrinologi, Metabolisme, dan Diabetes, Dr. dr. Laurentius Aswin Pramono meminta masyarakat tidak parno dengan berbagai pemberitaan atau informasi adanya kandungan BPA pada AMDK galon. Menurutnya, selama ini tidak ada kasus seseorang terkena penyakit karena BPA pada kandungan air minum.  Sayangnya, belakangan ini narasi mengenai bahaya BPA bagi kesehatan masyarakat terus berkembang meski belum ada riset dan kesepakatan ahli yang mendasari pernyataan tersebut.  \"Belum ada penelitian yang secara pasti membuktikan BPA menyebabkan gangguan kesehatan. Saya tegaskan bahwa sampai saat ini, belum ada bukti kuat atau data ilmiah yang cukup untuk menyatakan bahwa BPA dapat menyebabkan masalah kesehatan, baik itu gangguan hormonal atau bahkan diabetes,\" kata Laurentius.  Hasil penelitian yang ada saat ini membuktikan BPA ketika masuk ke dalam tubuh akan didetoksifikasi oleh hati, dibuang menjadi urin dan feses, sehingga zat tersebut tidak masuk ke dalam sistem peredaran darah. Artinya, sejumlah kecil BPA yang masuk ke dalam tubuh tidak berbahaya bagi kesehatan.  3. Jangan khawatir minum air dari galon polikarbonat  Dengan berbagai literasi dan fakta yang ada, Laurentius meminta masyarakat tidak mengkhawatirkan sesuatu yang belum jelas informasinya. Saat ini banyak propaganda yang menyudutkan pihak tertentu lewat polemik BPA.  Menurutnyam semua produk yang memang wajib dikonsumsi dengan benar, tapi jauh lebih baik ketika sudah ada bukti kedokteran untuk menyebut sesuatu bisa menimbulkan penyakit ketika dikonsumsi. Pun dengan BPA layaknya semua partikel kimiawi yang tentunya tidak boleh kita konsumsi secara berlebihan dan di atas ambang batas.  \"Produk-produk terkenal tentu punya standar kualitas produknya. Masyarakat tidak perlu khawatir memilih air minum dalam kemasan galon polikarbonat yang beredar di pasaran, karena terbukti aman,\" kata dia.\n",
      "True Label: Negative, Predicted Label: Neutral\n",
      "\n",
      "Text 73: “Ketika meninjau proses produksi hingga pengemasan, kami melihat Le Minerale telah mematuhi seluruh parameter Standar Nasional Indonesia (SNI) dan diproduksi sesuai dan bahkan melebihi standar industri air kemasan dan keamanan pangan,” ungkap Merri. Atas upayanya ini, Le Minerale telah mendapatkan sertifikat SNI 3553 tahun 2015 serta Food Safety System Certification (FSSC) 22000.  Komitmen tersebut terus dijaga Le Minerale juga di proses distribusi. Dalam proses distribusi, Le Minerale menggunakan standar pengiriman dan penyimpanan produk yang tidak terpapar sinar matahari langsung dan disimpan di tempat yang bersih, sejuk, serta tidak berdekatan dengan benda berbau tajam, guna menjaga kualitas produk hingga sampai ke tangan konsumen.  “Dalam regulasi telah ditetapkan bahwa produsen AMDK berkewajiban untuk menjaga agar distribusi yang bisa dikontrol produsen, mesti dipastikan tidak boleh terpapar langsung oleh matahari. Apresiasi kami terhadap Le Minerale yang juga menjaga proses distribusi tersebut. Kami meninjau tempat penyimpanan hingga armada pengiriman. Semua truk armada Le Minerale semua tertutup. Oleh karena itu kami yakin, bukan hanya dalam proses produksi, Le Minerale juga didistribusikan dengan aman,” lanjutnya.  Selain memastikan proses produksi hingga distribusi dengan standar terbaik, Le Minerale telah menunjukkan komitmen kuat dalam mendukung upaya pemerintah untuk memelihara dan menjaga keberlanjutan sumber daya air yang merupakan aset vital bagi bangsa. Selama bertahun-tahun, Le Minerale telah berkontribusi pada konservasi air melalui berbagai inisiatif yang sejalan dengan peta jalan perluasan penerapan rencana pengamanan air minum 2021-2025 yang dikembangkan oleh Bappenas.\n",
      "True Label: Neutral, Predicted Label: Negative\n",
      "\n",
      "Text 74: kumparan Hadir di WhatsApp Channel  Follow  ETAX 40005: Error di Service Registrasi Null merupakan salah satu kendala yang kerap dialami wajib pajak saat daftar di aplikasi e-Faktur. Biasanya, notifikasi ini muncul pada saat pengguna membuka aplikasi.  ADVERTISEMENT  Wajib pajak perlu mengetahui penyebab munculnya error ETAX 40005 terlebih dahulu agar dapat melanjutkan proses registrasi. Nah, simak ulasan di bawah ini untuk mengetahui solusinya!  Penyebab ETAX 40005: Error di Service Registrasi Null  e-Faktur adalah sistem elektronik milik DJP (Direktorat Jenderal Pajak) yang dirancang untuk mencegah penyalahgunaan faktur pajak. Aplikasi ini juga memudahkan pengusaha kena pajak dalam membuat faktur pajak elektronik atau bukti pungutan PPN secara elektronik.  Keberadaan e-Faktur juga membantu pengusaha mendapatkan nomor seri faktur pajak secara online. Artinya, mereka tidak perlu repot datang ke Kantor Pelayanan Pajak (KPP).  Meski terbilang praktis, beberapa pengguna masih sering mengalami kendala saat mengakses aplikasi ini. Salah satu contohnya adalah error ETAX 40005.  ADVERTISEMENT  Mengutip Buku Petunjuk Update e-Faktur 4.0 terbitan DJP, ETAX 40005 error di service registrasi null disebabkan karena pengguna melakukan aktivasi e-faktur dengan kode yang sudah digunakan sebelumnya. Sebagai informasi, kode aktivasi e-Faktur adalah kode aktivasi yang diperoleh setiap melakukan reset pada aplikasi e-faktur. Kode ini hanya dapat digunakan untuk satu kali aktivasi.  Untuk mengatasi mengatasi ETAX 40005: Error di Service Registrasi Null, pengguna harus mereset aplikasi client dari web e-Nofa. Setelah itu, salin kode aktivasi e-Faktur desktop yang baru dan aktivasi ulang aplikasi dengan kode tersebut. Kode aktivasi dapat dilihat di menu profil.  Manfaat e-Faktur  Dasar hukum e-faktur diatur dalam Perdirjen Pajak Nomor PER-03/PJ/2022 tentang Faktur Pajak sebagaimana telah diubah dengan PER-11/PJ/2022 dan Perdirjen Pajak Nomor PER04/PJ/2020 tentang Petunjuk Teknis Pelaksanaan Administrasi Nomor Pokok Wajib Pajak, Sertifikat Elektronik, dan Pengukuhan Pengusaha Kena Pajak.  Regulasi tersebut mengatur tentang tata cara penggunaan e-Faktur beserta manfaatnya yang dapat dirasakan tidak hanya oleh pengusaha, tapi juga untuk pemerintah dan konsumen  1. Pengusaha/Penjual  2. Pemerintah  3. Konsumen  ADVERTISEMENT  : Cara Beli e-Meterai 10.000 secara Online dan Offline  (GLW)\n",
      "True Label: Negative, Predicted Label: Negative\n",
      "\n",
      "Text 75: JAKARTA, KOMPAS.com - Sebagai produk asli Indonesia, Le Minerale berkomitmen mendukung kemajuan dunia usaha dalam negeri. Inisiatif ini dilakukan melalui kerja sama dan dukungan terhadap pelaku usaha dalam negeri.  Teranyar, Le Minerale bersama Restoran Padang Pagi Sore menyelenggarakan program “Berbagi Berkah Ibadah Umrah untuk Karyawan Pagi Sore\".  Program tersebut diresmikan di Restoran Pagi Sore Jeruk Purut, Cipete, Jakarta Selatan, Kamis (25/7/2024).  Pada program tersebut, Le Minerale memberikan hadiah ibadah umrah untuk tujuh karyawan Pagi Sore. Hadiah ini diberikan sebagai bentuk apresiasi kerja keras mereka.  Karyawan yang menerima hadiah itu harus memenuhi sejumlah syarat, di antaranya memiliki masa kerja minimal 5 tahun untuk karyawan pria dan minimal 3 tahun untuk karyawan wanita.  Adapun karyawan Pagi Sore yang mendapatkan hadiah tersebut, yakni Rozikin dari cabang Pajajaran, Muhammad Abdul Aziz cabang BSD, Cismo cabang Saharjo, Marino cabang Sunter, Tuhaidi cabang Cempaka Putih, Fakhira cabang Kalimalang, serta Hendar Kurniawan cabang Cisarua.  Sebelumnya, Le Minerale dan Restoran Padang Pagi Sore telah berkolaborasi dengan menjadikan Le Minerale sebagai air minum di setiap cabang Restoran Pagi Sore sejak 2023.  Marketing Director Le Minerale Febri Satria Hutama menjelaskan bahwa sebagai produk asli Indonesia, kolaborasi tersebut dibangun atas inisiatif Le Minerale untuk saling mendukung dalam memajukan produk asli Indonesia.  Ia berharap, kehadiran Le Minerale sebagai air minum di Restoran Pagi Sore dapat berkontribusi untuk kemajuan bisnis rumah makan ini.  Oleh karena itu, Febri berterima kasih atas kepercayaan dan kesempatan yang diberikan Restoran Pagi Sore terhadap Le Minerale.  “Sebagai bentuk apresiasi, kami mengadakan program Berbagi Berkah Ibadah Umrah untuk karyawan Pagi Sore,\" ujar Febri saat peluncuran program tersebut di Restoran Pagi Sore Jeruk Purut, Kamis.  Marketing Director Le Minerale Febri Satria Hutama.  Febri berharap, hadiah umrah tersebut dapat memberikan dampak positif terhadap penerima. Sementara itu, karyawan yang belum mendapatkan hadiah umrah diharapkan bisa mendapatkan kesempatan ini pada tahun mendatang.  \"Selain memberikan relaksasi dan inspirasi, kami percaya bahwa pengalaman spiritual dapat meningkatkan motivasi karyawan untuk memberikan kinerja terbaik,” tuturnya.  Pada kesempatan sama, Direktur Pagi Sore Rifky Ramdani berterima kasih pada Le Minerale karena telah berbagi berkah berupa undian umrah kepada karyawan Pagi Sore.  Selain memperkuat semangat kerja dalam tim, lanjutnya, hadiah itu juga dapat memotivasi karyawan untuk mencapai prestasi dan meningkatkan kinerja lebih baik di masa depan.  Menurutnya, hadiah umrah lebih dari sekadar penghargaan. Inisiatif ini merupakan upaya untuk memberikan manfaat besar pada karyawan yang telah berkomitmen tinggi terhadap perusahaan.  “Umrah tersebut diberikan kepada karyawan dengan masa kerja lebih dari tiga tahun. Oleh karena itu, kami sangat bangga bisa memberikan kesempatan ini kepada karyawan yang telah berdedikasi secara konsisten,\" kata Rifky.  Pada kesempatan tersebut, pendakwah Husein Ja'far Al Hadar atau yang dikenal Habib Ja'far turut memberikan tausiah. Sang ulama pun mengapresiasi kolaborasi Le Minerale dan Pagi Sore dalam memberangkatkan umrah tujuh karyawan Pagi Sore.  Menurutnya, kolaborasi dua produk asli Indonesia itu tidak hanya saling mendukung untuk kepentingan bisnis, tetapi juga bernilai spiritual. Kerja sama ini dapat meningkatkan keimanan serta nilai kemanusiaan untuk menguatkan tali persaudaraan sesama bangsa Indonesia.  Ia berharap, kolaborasi Le Minerale dan Pagi Sore dapat terus berlanjut. Pasalnya, kerja sama ini menjadi sedekah yang mulia karena membahagiakan hati orang lain. Selain memajukan perusahaan, kolaborasi ini juga membawa keberkahan karena menabur kebaikan untuk orang lain.  “Insyaallah, kebaikan ini dapat menjadi keberkahan untuk kita semua. Semoga kolaborasi ini bisa menjadi contoh bagi produk nasional lainnya,\" kata Habib Ja'far.  Habib Ja'far.  Kepada karyawan yang terpilih berangkat umrah, Habib Ja'far berpesan agar mereka tidak hanya menjadi tamu Allah di Mekkah, tapi menjadi kekasih Allah. Caranya, dengan melakukan berbagai kebaikan sebanyak-banyaknya selama melaksanakan umrah di baitullah atau rumah Allah.  “Buat yang berangkat umrah, saya berpesan agar mendoakan Le Minerale dan Pagi Sore yang telah menyelenggarakan program ini. Selain itu, doakan juga teman-teman lainnya supaya bisa berangkat umrah atau haji suatu hari nanti,” pesannya.  Untuk diketahui, Pagi Sore telah melaksanakan program umrah gratis untuk karyawan sejak 2020. Program ini dilaksanakan dua kali setiap tahun dengan keberangkatan pada April dan Oktober.  Tahun ini, Pagi Sore telah melakukan undian pertama terhadap seluruh karyawan Pagi Sore dari 13 outlet. Hasilnya, Pagi Sore telah mendapatkan lima orang perwakilan dari setiap outlet.  Selanjutnya, Pagi Sore melakukan undian kedua dan berhasil mendapatkan 13 nama dari masing-masing outlet. Dari 13 nama tersebut, Pagi Sore mendapatkan tujuh orang pemenang undian hadiah umrah pada Kamis.\n",
      "True Label: Negative, Predicted Label: Negative\n",
      "\n",
      "Text 76: POSKOTA.CO.ID - Dana bansos yang bertotalkan Rp2.400.000 telah diterima NIK KTP dengan nama tertera yang telah terdaftar dari pemerintah Program BPNT 2024, ketahui informasi selengkapnya berikut ini.  Bagi Keluarga Penerima Manfaat (KPM) ada kabar baik karena pencairan bantuan sosial BPNT Periode Juli - September 2024 akan cair.  Bantuan ini diberikan kepada Keluarga Penerima Manfaat (KPM) yang telah memenuhi syarat, dengan nilai sebesar Rp600.000 untuk periode Juli hingga September 2024.  BPNT tahap ketiga ini diperkirakan akan cair pada awal bulan September 2024. Dana sebesar Rp600.000 tersebut mencakup bantuan untuk bulan Juli hingga September, dan akan dicairkan melalui kantor pos.  Mekanisme ini dilakukan setelah lebih dari 90% penyaluran sebelumnya melalui Kartu Keluarga Sejahtera (KKS) Merah Putih berhasil dilakukan.  Cara Mencairkan BPNT 2024  Dana BPNT untuk 2024 bisa dicairkan dengan dua cara berikut:  1. Melalui Bank Himbara: Jika Anda memiliki rekening di salah satu bank Himbara (BRI, BNI, Mandiri, atau BTN), Anda bisa langsung mengecek saldo dan mencairkan bantuan melalui ATM atau aplikasi mobile banking dari bank tersebut.  2. Melalui Kantor Pos: Bagi KPM yang tidak memiliki rekening bank, Anda bisa mencairkan dana bantuan melalui Kantor Pos terdekat. Tunggu pemberitahuan dari Kantor Pos setempat untuk waktu pencairannya.\n",
      "True Label: Positive, Predicted Label: Positive\n",
      "\n",
      "Text 77: Media Asuransi, JAKARTA – Otoritas Jasa Keuangan (OJK) terus berupaya meningkatkan literasi dan inklusi keuangan masyarakat, khususnya kalangan perempuan dan pelaku UMKM (usaha mikro, kecil, dan menengah) yang berperan penting dalam peningkatan ekonomi masyarakat.  Kepala Eksekutif Pengawas Perilaku Pelaku Usaha Jasa Keuangan, Edukasi dan Pelindungan Konsumen (PEPK) OJK, Friderica Widyasari Dewi, menyatakan bahwa hal itu saat menjadi narasumber pada kegiatan Edukasi Keuangan bagi Pelaku UMKM dan Ibu Rumah Tangga dengan tema “Perempuan Pejuang Ekonomi Keluarga” yang dilaksanakan di Kantor OJK Provinsi Jawa Timur, Surabaya, Jumat, 30 Agustus 2024.  Hadir juga sebagai pembicara dalam kegiatan yang merupakan kolaborasi OJK dan Bank Indonesia (BI) serta bagian dari program Gerakan Nasional Cerdas Keuangan (GENCARKAN) itu, anggota Komisi XI DPR RI, Indah Kurnia, dan Deputi Gubernur Senior Bank Indonesia, Destry Damayanti.  Friderica dalam kesempatan tersebut menekankan pentingnya literasi keuangan kepada masyarakat, khususnya kepada kelompok perempuan pelaku UMKM, sehingga dapat memanfaatkan layanan produk dan jasa keuangan yang legal untuk meningkatkan perekonomian keluarga. Selain itu, literasi keuangan penting agar masyarakat terhindar dari penawaran pinjaman online ilegal serta penipuan berkedok investasi.  “Ibu-ibu ketika kita menggunakan produk dan jasa keuangan, ibu-ibu pertama harus paham dulu. Karena banyak sekali mereka di luar sana yang mengincar kita untuk menipu kita. Kalau kita sudah pakai produk dan jasa keuangan yang benar, jangan menggunakan produk dan jasa keuangan yang ilegal. Ibu-ibu harus cerdas keuangan ya, harus pintar mengelola keuangan keluarga, harus bisa menjaga diri dan keluarga dari berbagai modus penipuan untuk masa depan yang sejahtera,” kata Friderica dalam keterangan resmi yang dikutip Sabtu, 31 Agustus 2024.  Indah Kurnia dalam paparannya menjelaskan bahwa para ibu berperan penting sebagai bendahara keluarga dalam mengelola keuangan rumah tangga sehingga harus bijak dalam menggunakan akses keuangan yang tersedia. “Ibu-Ibu tetaplah menjadi pejuang ekonomi keluarga, tetaplah membanggakan, dan tetaplah jadi orang yang cerdas, teliti, peduli, peka, kenali penawaran bodong yang too good to be true,” kata Indah.  Sementara itu, Destry Damayanti menyampaikan tentang pentingnya untuk berhati-hati dalam melakukan transaksi keuangan khususnya secara digital. “Bank Indonesia mengajak Ibu-Ibu untuk selalu peka terhadap transaksi keuangan, yaitu dengan peduli dan tahu benar apa yang dilakukan juga mengenali untuk apa transaksinya, kalau ada apa-apa jangan takut untuk speak up diadukan ke nomor-nomor pusat pengaduan,” kata Destry.  Kegiatan dilanjutkan dengan sesi talkshow edukasi keuangan antara lain Pengenalan Produk Kredit Usaha Rakyat (KUR), Tabungan Emas, serta Alat Pembayaran Digital sebagai topik yang relevan bagi Ibu Rumah Tangga dan Pelaku UMKM di wilayah Kota Surabaya.  Hadir dalam kegiatan tersebut Plt Kepala OJK Jawa Timur, Bambang Mukti Riyadi, Plh Kepala Bank Indonesia Jawa Timur, M Noor Nugroho, Kepala Biro Perekonomian Sekretariat Daerah Provinsi Jawa Timur, MHD Aftabuddin RZ, pejabat OJK dan BI dari kantor pusat dan daerah serta industri jasa keuangan di Jawa Timur.  Kegiatan edukasi keuangan ini terselenggara secara hybrid dengan jangkauan peserta sebanyak 1.670 peserta pelaku UMKM dan ibu rumah tangga terdiri dari 366 peserta yang hadir secara tatap muka dan 1.304 peserta hadir secara online.  Selanjutnya, sebagai bagian dari rangkaian edukasi keuangan, terdapat layanan informasi keuangan di booth antara lain OJK, Bank Indonesia, Bank Jatim, PT Pegadaian, serta OVO sebagai sarana informasi maupun penyediaan fasilitas terhadap akses keuangan bagi para peserta edukasi.\n",
      "True Label: Positive, Predicted Label: Positive\n",
      "\n",
      "Text 78: Trenggalek - Bahu-membahu mengatasi kelangkaan air bersih di Kabupaten Trenggalek dilakukan banyak pihak. Selain oleh Pemkab Trenggalek melalui BPBD, salah satu yang turut peduli yakni dari Kodim 0806 Trenggalek.  Tidak hanya mengirimkan air bersih, Kodim Trenggalek juga membagikan bantuan air minum pada masyarakat. \"Kalau selama ini bantuan air bersih saja, kita tambahi air minum. Kita distribusikan 100 galon air Le Minerale ke masyarakat,\" ucap Komandan Kodim 0806 Trenggalek Letkol Czi Yudo Aji Susanto.  Bantuan tersebut disampaikan kepada masyarakat di Desa Ngulanwetan, Kecamatan Pogalan, Trenggalek. Penentuan titik ini disampaikan Yudo juga melalui kolaborasi dengan pemkab sehingga bantuan tepat sasaran.  Selain bantuan kemarin, rencananya drop air bersih juga akan dilaksanakan minggu depan dengan lokasi yang berbeda. \"Ini aksi solidaritas dari kami. Mungkin kita yang di sini masih bisa minum, mandi, dengan air yang cukup, tapi tidak dengan saudara-saudara kita yang wilayahnya mengalami kekeringan. Kita dasarkan kegiatan ini pada ibadah sehingga semoga mendapatkan rida Tuhan YME,\" ujar alumnus Akmil ini.  Pada peringatan HUT TNI tahun ini didominasi kegiatan sosial. \"Ada bedah rumah, dan nanti juga ada makan gratis yang makanannya kita ambilkan dari UMKM di wilayah koramil masing-masing,\" jelas Yudo.  Kodim 0806 Trenggalek juga merangkul berbagai pihak sehingga menjadi program bersama. \"Kita laksanakan bersama, bergerak bersama, melepaskan ego masing-masing, jadi tidak kayak bikin negara sendiri. Terima kasih saya sampaikan kepada Pemkab Trenggalek dan semua pihak atas dukungannya,\" pungkas Yudo. (tin /c1/wen)\n",
      "True Label: Neutral, Predicted Label: Negative\n",
      "\n",
      "Text 79: batampos - Kepala OJK Kepri, Sinar Danandjaya mengungkapkan kekhawatirannya terkait pinjaman online yang semakin meresahkan masyarakat. Data menunjukkan bahwa 42 persen peminjam online adalah guru.  “Namun tidak secara rincian apakah mereka Aparatur Sipil Negara (ASN) atau bukan,” kata Sinar, Jumat (30/8).  Selain itu, 21 persen peminjam merupakan korban Pemutusan Hubungan Kerja (PHK), yang sering terjebak dalam siklus utang baru untuk menutup pinjaman lama. Sementara Ibu Rumah Tangga (IRT) menyumbang 16 persen dari total peminjam.  Sinar Danandjaya berharap situasi ini akan membaik di tahun ini, berkat upaya peningkatan literasi keuangan.  \"Masih banyak yang tidak tahu perbedaan antara pinjaman online legal dan ilegal. Kami gencarkan literasi keuangan untuk mengatasi masalah ini,\" ujarnya.  OJK Kepri mengimbau masyarakat untuk hanya memanfaatkan pinjaman online untuk kebutuhan produktif dan menghindari penggunaan untuk gaya hidup, karena bunga dan denda yang tinggi.  \"Kami berupaya membuka akses keuangan yang legal dan aman,\" tambahnya.  Dalam upaya menangani pinjaman online ilegal, OJK bekerja sama dengan Kominfo dan Bank Indonesia (BI). Kominfo bertugas menutup aplikasi dan situs ilegal, sementara OJK menutup rekening terkait untuk mencegah perputaran dana.  \"Penanganan bersama ini bertujuan untuk melindungi masyarakat dari pinjaman ilegal yang sering menawarkan proses cepat dengan risiko bunga tak terbatas dan denda besar,\" jelasnya .  Kurangnya literasi digital dan kesulitan ekonomi berkontribusi pada tingginya kasus pinjaman ilegal. “OJK, Kominfo, dan perbankan berkomitmen untuk memperbaiki situasi ini dan menjaga keamanan finansial masyarakat,” tutupnya. (*)\n",
      "True Label: Positive, Predicted Label: Positive\n",
      "\n",
      "Text 80: SURABAYA - PT Bank Pembangunan Daerah Jawa Timur Tbk (Bank Jatim) baru saja melakukan penandatanganan perjanjian kredit dengan PT Petrokimia Gresik. Kredit yang akan dikerjasamakan ini adalah Kredit Investasi Corporate Financing dengan plafon sebesar Rp326 miliar.  Nantinya, kucuran kredit tersebut akan digunakan untuk pembangunan pabrik pupuk NPK Phonska V. Adapun proyek pembangunan pabrik pupuk NPK Phonska V ini dibangun dengan cara modifikasi terhadap pabrik SP-36 eksisting (RFO PF-I) agar dapat memproduksi pupuk NPK Phonska dengan kapasitas 600.000 MTPY menggunakan metode NPK Chemical Reaction.  Direktur Mikro, Ritel, dan Menengah Bank Jatim R. Arief Wicaksono menjelaskan, pihaknya sangat mendukung proyek Phonska V ini karena bisa memenuhi kebutuhan pupuk majemuk dalam negeri, substitusi impor, serta penghematan devisa negara.  “Selain itu, dengan adanya sinergitas ini membuktikan juga bahwa kami turut berpartisipasi aktif mendukung program pemerintah dalam mencapai kedaulatan pangan nasional,” terangnya, Sabtu (31/8/2024).  Proyek pembangunan Pabrik Phonska V adalah modifikasi/rehabilitasi pabrik pupuk fosfat existing (PF-1) yang saat ini hanya bisa memproduksi pupuk fosfat SP36.  Nantinya setelah dilakukan modifikasi dan rehabilitasi, pabrik itu akan lebih fleksibel untuk bisa membuat beberapa formula pupuk majemuk NPK. Karena sifatnya modifikasi/rehabilitasi, secara keseluruhan peralatan yang ada dapat dikategorikan sebagai peralatan baru, peralatan modifikasi, dan peralatan eksisting.  Dengan kucuran pembiayaan Investasi Corporate Financing ini, Bank Jatim berharap kinerja penyaluran kredit Bank Jatim, khususnya penyaluran pembiayaan ke segmen korporat dapat lebih terakselerasi.  “Kerja sama ini adalah bukti komitmen kami untuk berperan aktif dalam pembangunan ekonomi dan industri Jatim,” ujar Arief.  Sementara itu, Direktur Keuangan dan Umum PT Petrokimia Gresik, Robby Setiabudi Madjid menjelaskan, Petrokimia Gresik telah menginisiasi proyek Phonska V dengan nilai proyek sebesar Rp467,07 miliar.  Proyek tersebut tidak hanya bertujuan untuk meningkatkan kapasitas produksi pupuk, tetapi juga untuk memastikan ketersediaan pupuk bersubsidi bagi petani di seluruh Indonesia.  “Dengan adanya penambahan kapasitas produksi melalui Proyek Phonska V ini, kami berharap dapat berkontribusi lebih besar dalam mendukung program yang telah dicanangkan oleh pemerintah,” ungkapnya.\n",
      "True Label: Positive, Predicted Label: Positive\n",
      "\n",
      "Text 81: FAJAR.CO.ID, MAKASSAR - PT Bank Danamon Indonesia Tbk (“Danamon”) secara resmi membuka penyelenggaraan DXPO by Danamon 2024 Makassar, yang berlokasi di Trans Studio Mall, pada 22 hingga 25 Agustus 2024, sebagai bagian dari rangkaian perayaan ulang tahun ke-68 Danamon.  Acara pembukaan DXPO by Danamon 2024 di Makassar ini juga dihadiri oleh para perwakilan dari grup perusahaan Danamon, yaitu Adira Finance, Home Credit Indonesia, dan Zurich Asuransi Indonesia, serta perwakilan dari Trans Studio Mall. Melalui acara tersebut, Danamon bersama grup perusahaannya menawarkan berbagai solusi keuangan yang disesuaikan dengan kebutuhan nasabah yang beragam agar dapat menjadi mitra perbankan ideal pilihan nasabah.  Daisuke Ejima, Direktur Utama PT Bank Danamon Indonesia Tbk, mengungkapkan, penyelenggaraan DXPO by Danamon 2024 merupakan cerminan dari tujuan Danamon untuk menjadi mitra keuangan terpercaya yang senantiasa berorientasi pada nasabah dan inovatif, guna memenuhi kebutuhan nasabah dan para pemangku kepentingan, dengan menyediakan solusi finansial menyeluruh agar dapat tumbuh bersama.  “Dalam rangka perayaan ulang tahun Danamon ke 68, dan dengan semangat untuk terus bertransformasi sebagai Satu Grup Finansial, Danamon menyelenggarakan DXPO by Danamon 2024 di Makassar untuk pertama kalinya. Selama empat hari ke depan, Danamon bersama grup perusahaannya akan memamerkan kemampuan produk, layanan, dan channel yang dimiliki, serta menghadirkan berbagai promo dan kegiatan menarik yang sayang untuk dilewatkan kepada nasabah dan seluruh pengunjung DXPO by Danamon 2024 di Makassar,” ujar Ejima.\n",
      "True Label: Neutral, Predicted Label: Neutral\n",
      "\n",
      "Text 82: - Air bilangan '2,3,5': Air minum Cap Prima  - Air desa: Ades  - Air emas dari hutan tropis: Minyak goreng Tropical  - Air mineral merk oasis: Air mineral Cap Oasis  - Air mineral yang ada manis-manisnya: Le Minerale  - Air penjumlahan: Air kali\n",
      "True Label: Neutral, Predicted Label: Neutral\n",
      "\n",
      "Text 83: ● Pinjaman dana tunai dengan benefit cair hingga Rp500 juta dan tenor panjang hingga 60 bulan.  ● Doorprize adirapoin s.d 3 juta untuk semua produk pembiayaan.  Bagi konsumen yang ingin mencoba kendaraan impian, dapat mengikuti test drive dengan mengunjungi booth Adira Finance di Corridor Trans Square yang terdapat di Lobby Barat Trans Studio Mall untuk kemudian lakukan registrasi di meja admin.  Lebih lanjut, Adira Finance menyediakan fasilitas approval di tempat untuk kemudahan proses pengajuan pembiayaan.  Konsumen yang pengajuan pembiayaannya disetujui oleh Adira Finance akan langsung mendapatkan tambahan benefit berupa kupon undian HARCILNAS (Harinya Cicilan Lunas).  Sebagai bagian dari perayaan HUT ke-34, Adira Finance memberikan kesempatan kepada 34 pemenang untuk dilunasi cicilan seluruhnya, sedangkan 340 pemenang akan dilunasi cicilan 1 bulan dan 100 pemenang akan mendapatkan hadiah tambahan berupa cashback adirapoin sebesar 5%.  Tidak hanya Adira Finance, pengunjung juga bisa mendapatkan solusi finansial komprehensif dari entitas grup lainnya seperti Danamon dan Home Credit dengan berbagai promo menarik, yaitu:  ● Danamon LEBIH PRO/Danamon LEBIH PRO iB dengan promo hemat 50% hingga Rp35.000.000 untuk liburan keliling dunia, ibadah ke tanah suci, pembelian gadget dan elektronik  ● Kartu Debit, Kredit dan Charge Danamon dengan promo hemat hingga Rp6.800.000 untuk pembelian produk travel, gadget, dan elektronik  ● Home Credit Indonesia dengan promo cicilan 0% untuk pembelian gadget dan elektronik ● KPR Danamon dengan promo spesial suku bunga mulai 4,68% tetap selama 5 tahun dan menghadirkan 6 developer rekanan Danamon, serta\n",
      "True Label: Negative, Predicted Label: Negative\n",
      "\n",
      "Text 84: LENGKONG, AYOBANDUNG.COM - Kementerian Pariwisata dan Ekonomi Kreatif (Menparekraf), Sandiaga Uno bicara mengaku memiliki strategi khusus dalam meningkatkan pengembangan pariwisata di Ibu Kota Nusantara, Kalimantan Timur.  Sandiaga Uno mengungkapkan bahwa IKN ini sangat menarik sebab pihaknya mengaku telah memetakan kawasan di sekitar ibu kota baru yang direncanakan sebagai destinasi untuk healing dan refreshing.  Namun, kata Sandiaga, tetap ramah di kantong dan tidak memberatkan pikiran.  \"Desa-desa wisata dan kawasan konservasi akan kami kembangkan dengan konsep pariwisata berbasis komunitas dan kelestarian lingkungan,\" katanya.  Menurutnya, saat ini pihaknya fokus pada desa-desa wisata sebagai ujung tombak, dengan sejumlah destinasi berbasis pariwisata hijau kelas dunia yang siap kami kembangkan di IKN.  \"Baru-baru ini, kami juga telah membuka akses bagi 300 orang di kawasan IKN, sebagai bagian dari strategi pengembangan destinasi ini,\" tegasnya.  Ia pun menambahkan bahwa pada tahap awal diarahkan dalam pembangunan pariwisata yang holistik, berkualitas, serta berorientasi pada pariwisata hijau dan keberlanjutan lingkungan.  \" Nantinya hal ini akan menjadi fokus utama dalam pengembangan ke depan,\" tandasnya.  Diketahui, pembangunan IKN Nusantara diharapkan mampu mewujudkan visi dan misi menuju Indonesia Emas 2045.  Presiden Jokowi mengatakan bahwa IKN Nusantara dibangun bukan peninggalan dari kolonial melainkan karya anak-anak bangsa.***\n",
      "True Label: Negative, Predicted Label: Negative\n",
      "\n",
      "Text 85: 23. Sayur berpengaman = sayur sop  24. Makanan singa bergoyang = leo  25. Dodol berdarah = sosis pakai saos  26. Minuman sehat dan bugar = air mineral VIT  27. Bakal ayam goreng = telur ayam goreng  28. Buah shio = buah naga  29. Botak berkutu = onde onde  30. Minuman florida = floridina  31. Minuman Berasa = le minerale  32. Minion dari Maluku = Pisang Ambon  33. Permen Keluarga = yupi  34. Permen Ceker = hot hot pop\n",
      "True Label: Neutral, Predicted Label: Neutral\n",
      "\n",
      "Text 86: INFO NASIONAL - Aksi boikot terhadap sejumlah produk yang terafiliasi Israel ternyata efektif. produk-produk perusahaan multinasional yang terafiliasi israel mulai merasakan dampaknya, termasuk di Indonesia.  Namun, sering kali dari aksi boikot ini sejumlah produk asli Indonesia menjadi imbas dari hoax seolah menjadi produk yang terafiliasi Israel. Salah satu produk asli Indonesia yang menjadi korban adalah produk air minum dalam kemasan (AMDK) Le Minerale.  Banyak disinformasi yang mendiskreditkan Le Minerale sebagai produk yang terafiliasi Israel. Padahal, Le Minerale tidak memiliki afiliasi apapun dengan Israel, apalagi membantu ataupun berkontribusi terhadap pendukukan israel di palestina.  Marketing Director Le Minerale, Febri Satria Hutama mengatakan, seluruh proses produksi Le Minerale sepenuhnya diproduksi di indonesia.  “Kepemilikan kami 100 persen Indonesia, karyawan kami 100 persen warga negara Indonesia, dan produk perusahaan kami, baik dalam kemasan botol maupun galon, sepenuhnya diproduksi di Indonesia. Justru produk kami merupakan kebanggaan Indonesia karena berhasil melakukan ekspor ke berbagai negara,\" ujarnya.  Advertising  Advertising  Bahkan, Majelis Ulama Indonesia (MUI) menyatakan bahwa Le Minerale merupakan produk asli buatan Indonesia.  Menurut Wasekjen MUI Ikhsan Abdullah, produk lokal yang tidak memiliki afiliasi dengan upaya pendudukan zionis di Palestina terbebas dari fatwa boikot.  Kata dia, sangat mudah bagi masyarakat untuk mengetahui suatu produk yang beredar adalah produk lokal atau tidak.  \"Yang pertama, mereknya lokal, pekerjanya pekerja lokal, bahan-bahannya lokal. Artinya industri lokal,\" ujarnya.  Bukan hanya tidak terafiliasi dengan pendudukan israel di Palestina, Le Minerale juga menunjukkan komitmennya untuk mendukung Palestina atas nama kemanusiaan dengan mengirimkan ratusan ton produknya.  Wakil Sekretaris Jenderal MUI, Arif Fakhrudin menyebut, apa yang dilakukan Le Minerale merupakan langkah konkret untuk membantu warga Palestina.  \"Menjadi suatu kebanggaan, produk nasional kita, Le Minerale, memiliki komitmen yang kuat tidak hanya sebatas pada pernyataan sikap dan bentuk empati tapi mendukung secara nyata sejalan dengan kebijakan luar negeri kita yaitu membantu Palestina,” kata dia. (*)\n",
      "True Label: Negative, Predicted Label: Negative\n",
      "\n",
      "Text 87: Bisnis.com, JAKARTA – Penerimaan negara dari pajak pada 2025 direncanakan mencapai Rp2.490,9 triliun atau naik Rp181 triliun dari rencana tahun ini yang senilai Rp2.309,9 triliun.  Menteri Kuangan Sri Mulyani Indrawati menyebutkan pajak yang tumbuh 6,94% (year-on-year /yoy) tersebut akan diakselerasi sejalan dengan Undang-Undang Harmonisasi Peraturan Perpajakan (UU HPP).  “[Optimalisasi pendapatan] Melalui undang-undang HPP yaitu reform dari sisi legislasi, peraturan, peningkatan tax ratio, pelaksanaan core tax system yang kita harapkan bisa memulai live akhir tahun ini,” ujarnya dalam konferensi pers RAPBN 2025, Jumat (16/8/2024).  Dalam APBN terakhir Sri Mulyani ini, juga mendorong penerimaan negara dari penguatan Costums-Excise Information System and Automation (CEISA) atau aplikasi penghubung Pengguna Jasa dengan Bea Cukai.  Selain itu, semakin andalnya Sistem Informasi Mineral dan Batubara antara Kementerian dan Lembaga (SIMBARA) yang kini tak terbatas untuk komoditas batu bara saja, diharapkan data mengerek penerimaan negara.  Di sisi lain, kompatibilitas dengan dengan digital dan sistem perpajakan global juga perlu pemerintah antisipasi karena rezim perpajakan global menjadi perhatian banyak negara-negara yang sekarang juga sedang berkontestasi politik.  Bukan hanya fokus memungut, pemerintah juga akan memberikan sejumlah insentif perpajakan untuk mendorong peningkatan penerimaan negara bukan pajak (PNBP).  “Dan pajak bea cukai bisa juga dalam bentuk insentif, tidak dipungut atau ditanggung pemerintah supaya bisa menciptakan insentif bagi sektor-sektor tertentu,” tuturnya.  Meski demikian, dari konferensi pers yang berlangsung hampir dua jam tersebut, Sri Mulyani sama sekali tidak mengamini rencana kenaikan Pajak Pertambahan Nilai (PPN) 1% menjadi 12% pada 2025. Sebagaimana hal tersebut tercantum dalam UU HPP.  Sri Mulyani hanya menekankan bahwa presiden terpilih sudah sepenuhnya menyadari hal-hal yang tercantum dalam UU HPP.  “Jadi nanti akan kita lihat bagaimana, apakah target [penerimaan] ini memasukkan [PPN 12%]? Tentu kita akan melihat potensi ekonomi kita tax ratio dan intensifikasi ekstensifikasi dan area-area yang kita identifikasi bisa menyumbangkan penerimaan tersebut,” jelasnya.  Tim Transisi dan Airlangga Buka Suara  Sementara itu, Ketua Tim Gugus Tugas Sinkronisasi Prabowo - Gibran Sufmi Dasco menuturkan pada dasarnya postur RAPBN 2025 telah sesuai dan sinkron dengan apa yang diharapkan pemerintahan baru.  Dasco menyampaikan PPN baru akan naik pada tahun depan dan kemungkinan besar pemerintah telah mempertimbangkan kenaikan pungutan tersebut terhadap rencana penerimaan.  “PPN baru naik nanti, mungkin sudah dihitung,” tuturnya kepada wartawan di Kompleks Parlemen, Jumat (16/8/2024).  Kesempatan berbeda, Menteri Koordinator bidang Perekonomian Airlangga Hartarto menegaskan sejatinya ketentuan kenaikan PPN sudah tercantum dalam UU HPP.  Dengan demikian, selama pasal tersebut belum dibatalkan dengan UU lain maka kenakan PPN 12% akan tetap terjadi.  \"[Tetap naik 12%] sesuai dengan HPP,\" ujar Airlangga di Kantor Pusat Direktorat Jenderal Pajak (DJP), Jakarta Selatan, Jumat (16/8/2024).\n",
      "True Label: Negative, Predicted Label: Negative\n",
      "\n",
      "Text 88: KOMPAS.com - Tiket transportasi umum di Jakarta bisa dibeli dengan menggunakan QRIS di Aplikasi JakLingko.  Cara ini sangat praktis karena hanya memerlukan uang elektronik di handphone saja sehingga tidak perlu membawa kartu uang elektronik.  Selain itu, kelebihan lainnya masyarakat bisa membeli tiket transportasi di Jakarta dengan tarif terintegrasi. Dengan kata lain bisa lebih murah dibanding pembayaran tiket reguler.  Tiket yang dipesan melalui aplikasi JakLingko meliputi tiket Kereta Commuter Line, Transjakarta, LRT Jakarta dan MRT Jakarta.  Adapun berikut ini cara pesan tiket transportasi umum di Jakarta dengan metode QRIS di apliksi JakLingko.  Unduh aplikasi JakLingko melalui Appstore/Playstore di handphone. Buat akun jika belum memilikinya.  Tangkapan Layar panduan membeli tiket transportasi umum di Jakarta dengan Aplikasi JakLingko (1)  Setelah berhasil login maka selanjutnya klik \"Tiket\"  Panduan membeli tiket transportasi umum di Jakarta dengan Aplikasi JakLingko.  Ketik rute perjalanan dari dan ke tempat tujuan.  Panduan membeli tiket transportasi umum di Jakarta dengan Aplikasi JakLingko.  Pilih rute yang diinginkan. Nantinya akan muncul tarif terintegrasi yang harus dibayar.  Panduan membeli tiket transportasi umum di Jakarta dengan Aplikasi JakLingko.  Pilih metode pembayaran dengan QRIS.  Panduan membeli tiket transportasi umum di Jakarta dengan Aplikasi JakLingko.  Unduh barcode QRIS. Masuk ke M-Banking atau pembayaran online lainnya seperti Shopeepay, Dana, Ovo, LinkAja, Astrapay dan lainnya. Scan barcode QRIS yang sudah disimpan di galeri handphone. Pembayaran berhasil dan kembali ke merchant. Selanjutnya lihat riwayat tiket dan scan barcode saat di gate asal keberangkatan dan tujuan keberangkatan.\n",
      "True Label: Positive, Predicted Label: Negative\n",
      "\n",
      "Text 89: TRIBUNJATENG.COM, SEMARANG - Seusai meluncurkan all-new Kona Electric pada perhelatan Gaikindo Indonesia International Auto Show (GIIAS) 2024 bulan Juli lalu, PT Hyundai Motors Indonesia kini memperkenalkan all-new Kona Electric secara resmi di Semarang.  Peluncuran ini dilaksanakan pada perhelatan Festival Merdeka Berkendara, diselenggarakan Hyundai dalam memperingati HUT Kemerdekaan ke-79 RI pada 24-25 Agustus 2024 di The Park Mall Semarang, Sabtu (24/8/2024).  \"Kami merasa bangga dapat meluncurkan all-new Kona Electric untuk masyarakat Semarang.  Selain itu, Festival Merdeka Berkendara adalah wujud komitmen Hyundai dalam mengutamakan pelanggan, masyarakat luas, dan para pahlawan masa kini dengan menawarkan solusi mobilitas terbaik melalui penawaran khusus kepemilikan produk Hyundai,\" kata Chief Operating Officer PT Hyundai Motors Indonesia, Fransiscus Soerjopranoto.  Dijelaskan, Hyundai merancang all-new Kona Electric dengan inovasi teknologi canggih untuk menghadirkan pengalaman mobilitas baru di segmen B-SUV yang terus berkembang di Indonesia.  Dengan desain futuristis, all-new Kona Electric menawarkan varian dengan jangkauan berkendara mencapai lebih dari 600 km.  \"Kami berharap all-new KONA Electric menjadi pilihan utama masyarakat Semarang untuk mobilitas sehari-hari,\" tambahnya.  Sementara itu dijelaskan, All-new Kona Electric merupakan kendaraan listrik (EV) pertama di Indonesia yang menggunakan baterai buatan dalam negeri.  Hyundai all-new Kona Electric hadir menggunakan baterai yang diproduksi di Indonesia oleh PT HLI Green Power yang diresmikan 3 Juli lalu.  All-new Kona Electric dilengkapi port charger standar global (CCS2) yang dinilai kompatibel dengan berbagai stasiun pengisian daya di Indonesia.  Hyundai merancang all-new Kona Electric dengan panjang 4.355 mm, lebar 1.825 mm, tinggi 1.580 mm, dan wheelbase 2.660 mm.  All-new Kona Electric juga dilengkapi dengan wireless connectivity melalui dukungan Android Auto dan Apple Carplay. Sementara itu, Hyundai pun turut melengkapi all-new Kona Electric dengan inovasi teknologi terkini, salah satunya fitur konektivitas dari Hyundai Bluelink.  All-new Kona Electric hadir dengan sembilan pilihan warna eksterior, yaitu Optic White Matte, Creamy White Pearl, Creamy White Pearl Two-tone, Titan Grey Metallic, Magnetic Silver Metallic, Magnetic Silver Metallic Two-tone, Dragon Red Pearl, Dragon Red Pearl Two-tone, dan Midnight Black Pearl.  Harga all-new Kona Electric (On The Road/OTR Semarang) - PPN 1 persen, yakni Signature Long Range Rp 591.800.000; Signature Standard Range Rp 576.900.000; Prime Long Range Rp 561.900.000; Prime Standard Range Rp 516.900.000; dan Style Rp 500.700.000.  Di sisi itu, sebagai puncak rangkaian Merdeka berkendara, Hyundai membawa kemeriahan di 8 kota secara serentak selama 24–25 Agustus 2024 melalui Festival Merdeka Berkendara.  Pada kegiatan ini, Hyundai memungkinkan masyarakat setempat untuk mengenal lebih dekat lini kendaran listrik terbaru dari Hyundai yaitu all-new Kona Electric, serta Stargazer, Creta, dan Ioniq 5 yang tampil dalam eksibisi.  Pengunjung pun bisa merasakan langsung pengalaman berkendara dan keunggulan dari model-model tersebut dengan mengikuti test drive.  Pada rangkaian acara ini memungkinkan pelanggan Hyundai dan pengguna mobil merek lainnya untuk melakukan trade-in kendaraan berkat kehadiran area One Stop Service. (*)\n",
      "True Label: Negative, Predicted Label: Negative\n",
      "\n",
      "Text 90: JAKARTA, POSKOTA.CO.ID - Kredit Usaha Rakyat (KUR) BRI memberikan solusi bagi Anda para pelaku Usaha Mikro, Kecil, dan Menengah (UMKM) dengan pinjaman modal usaha hingga Rp500 juta.  Adanya KUR menjadi salah satu program pinjaman yang dirancang untuk membantu pelaku Usaha Mikro, Kecil, dan Menengah (UMKM) dalam mendapatkan modal usaha.  Sebagai salah satu bank penyalur KUR terbesar di Indonesia, BRI memberikan pinjaman dengan bunga rendah dan syarat yang relatif ringan.  Bagi Anda yang membutuhkan modal usaha, KUR BRI bisa menjadi pilihan ideal untuk membantu mengembangkan usaha.  Karena program ini disubsidi oleh pemerintah, sehingga suku bunga yang ditawarkan relatif rendah dibandingkan dengan pinjaman komersial biasa.  Ada beberapa jenis KUR yang ditawarkan oleh BRI termasuk KUR Mikro, KUR Kecil, dan KUR TKI, dengan batasan plafon pinjaman yang berbeda, disesuaikan dengan kebutuhan pengusaha.  Jenis-Jenis KUR BRI  1. KUR Mikro  KUR Mikro adalah pinjaman tanpa agunan dengan plafon maksimal hingga Rp50 juta per debitur. Pinjaman ini ditujukan bagi pelaku usaha mikro yang membutuhkan modal kerja atau modal investasi untuk mengembangkan usahanya.  Pinjaman yang diberikan memiliki jangka waktu maksimal hingga 3 tahun untuk modal kerja dan 5 tahun untuk investasi, KUR Mikro memberikan fleksibilitas bagi pengusaha kecil dalam mengelola modal mereka.  Keunggulan KUR Mikro BRI ini hadir tanpa agunan tambahan, proses pengajuannya yang cepat dan mudah, hingga suku bunga rendah hanya sekitar 6% per tahun.  2. KUR Kecil\n",
      "True Label: Positive, Predicted Label: Positive\n",
      "\n",
      "Text 91: Bangkinang Kota, auramedia.co – 4 September 2024, Menyambut momentum Hari Pelanggan Nasional (HARPELNAS) 2024, PT Adira Dinamika Multi Finance, Tbk. (Adira Finance) menyelenggarakan kegiatan bertajuk “Adira Menyapa Sahabat” dengan tema Sahabat Setia Selalu Bersama. Acara ini diadakan sebagai bentuk apresiasi kepada pelanggan setia yang telah menjadi bagian penting dalam perjalanan Adira Finance selama lebih dari tiga dekade.  Kegiatan “Adira Menyapa Sahabat” ini tidak hanya menjadi ajang untuk mempererat hubungan dengan pelanggan, tetapi juga untuk menunjukkan komitmen Adira Finance dalam memberikan pelayanan terbaik melalui penerapan prinsip 5S: Senyum, Semangat, Sigap, Simpatik, dan Solutif.  “Kami percaya bahwa pelayanan yang prima adalah kunci untuk membangun kepercayaan dan kepuasan pelanggan. Melalui penerapan 5S, kami berupaya untuk memberikan pengalaman layanan yang menyenangkan dan solutif bagi setiap pelanggan.” ujar Head of Branch Adira Rini Angraini dalam rilisnya rabu (4/9/2024) di Bangkinang  Program Loyalty Pelanggan: HARCILNAS dan Umrah Untuk Sahabat  Sebagai wujud apresiasi terhadap loyalitas pelanggan, Adira Finance menyelenggarakan program Harinya Cicilan Lunas (HARCILNAS) dan Umrah untuk Sahabat. HARCILNAS adalah program undian berhadiah yang memberikan kesempatan kepada pelanggan aktif untuk memenangkan pelunasan cicilan, baik seluruhnya maupun 1x cicilan. Sementara itu, program Umrah Untuk Sahabat memberikan pengalaman spiritual istimewa bagi ratusan pelanggan yang beruntung untuk melaksanakan ibadah umrah secara gratis.  Penawaran Khusus Selama HARPELNAS 2024  Perayaan HARPELNAS 2024 ini juga menjadi momen penting bagi Adira Finance untuk lebih dekat dengan pelanggan. Dengan menggelar acara “Adira Menyapa Sahabat” di berbagai cabang, Adira Finance berupaya untuk mendengarkan langsung aspirasi dan masukan dari pelanggan. Lebih lanjut, para pelanggan tersebut akan diberikan exclusive merchandise, bibit  pohon yang merupakan bagian dari program CSR Sayang Bumiku dan pemberian 200 kupon undian Harinya Cicilan Lunas (HARCILNAS).  Di kesempatan ini, Adira Finance juga menawarkan berbagai benefit menarik bagi pelanggan yang mengajukan pembiayaan selama periode HARPELNAS, baik melalui kanal offline di cabang maupun online melalui aplikasi Adiraku dan platform digital lainnya.  Untuk pelanggan yang mengajukan pinjaman dana tunai dengan jaminan BPKB kendaraan (mobil/ motor) di cabang akan mendapatkan cashback Rp 500 ribu (jaminan motor) dan cashback Rp 1 juta (jaminan mobil) Bagi pelanggan yang melakukan pengambilan BPKB di cabang dan mengajukan pembiayaan mobil/ motor baru melalui customer service akan mendapatkan cashback maksimal Rp 500 ribu adirapoin. Bagi pelanggan yang memberikan rating dan review terkait aplikasi adiraku selama periode 4-8 September 2024 akan mendapatkan 5 kupon HARCILNAS.  Tidak hanya aktivitas offline, Adira Finance juga telah menyiapkan sejumlah program khusus yang dapat dinikmati pelanggan selama periode HARPELNAS, antara lain:  Untuk pelanggan yang mengajukan mobil (baru/bekas) melalui aplikasi momobil.id dan adiraku akan mendapatkan cashback adirapoin Rp 500 ribu, sedangkan untuk program tukar tambah akan mendapatkan cashback adirapoin RP 1,5 juta. Tersedia juga tambahan potongan diskon cuci mobil dari moservice.id. Pelanggan yang mengajukan motor (baru/bekas) melalui aplikasi momotor.id akan mendapatkan cashback adirapoin Rp 150 ribu, sedangkan untuk program tukar tambah akan mendapatkan cashback adirapoin hingga Rp 1 juta (untuk merek tertentu). Tersedia juga tambahan potongan diskon cuci motor dari moservice.id. Khusus pelanggan yang mengajukan pinjaman dana tunai melalui aplikasi adiraku akan mendapatkan penawaran bunga mulai dari 0,72% dan cashback potongan biaya admin hingga Rp 1 juta.  “Kami percaya bahwa masukan dari pelanggan sangat penting untuk perbaikan kualitas layanan kami. Momen ini menjadi kesempatan bagi kami untuk mendengarkan apa yang diinginkan pelanggan, sehingga kami dapat terus berinovasi dan meningkatkan layanan kami,” tutup Rini Angraini selaku Head of Branch  Informasi lebih lanjut mengenai produk dan program unggulan Adira Finance, silakan kunjungi www.adira.co.id atau media sosial resmi Adira Finance.  Tentang Adira Finance  PT Adira Dinamika Multi Finance, Tbk. (Adira Finance) didirikan pada tahun 1990, awalnya beroperasi sebagai perusahaan pembiayaan mobil, kemudian pada tahun 1997 melebarkan sayap ke pembiayaan sepeda motor. Pada tahun 2004, Adira Finance telah mencatatkan saham di Bursa Efek Jakarta (sekarang Bursa Efek Indonesia) dan kemudian diakuisisi oleh PT Bank Danamon Indonesia Tbk. (Bank Danamon). Saat ini, kepemilikan Bank Danamon di perusahaan adalah 92,07%. Sebagai anak perusahaan Bank Danamon, Adira Finance merupakan bagian dari MUFG Group yang merupakan salah satu bank terbesar di dunia.  Adira Finance telah menjadi Perusahaan terkemuka di bidang pembiayaan yang melayani berbagai merek dan produk. Perseroan menyediakan solusi keuangan sesuai dengan siklus hidup pelanggan, mulai dari otomotif (mobil dan motor), alat berat, sepeda listrik, pembiayaan umrah, hingga pinjaman dana tunai tunai dengan jaminan BPKB. Untuk simulasi kredit silakan kunjungi adira.id/e/mpl2024 dan pengajuan kredit silakan kunjungi adira.id/e/mpl2024-form.  Adira Finance memiliki 480 jaringan usaha yang terdiri dari kantor cabang dan kantor perwakilan di seluruh Indonesia. Untuk pengalaman transaksi real-time, mudah, aman, dan nyaman, Adira Finance menyediakan aplikasi layanan pelanggan digital Adiraku.  Saat ini Adira Finance memegang Peringkat idAAA dari PEFINDO, dan peringkat kredit internasional BBB dari Fitch dan Baa1 dari Moodys. Peringkat BBB dari Fitch merupakan peringkat investment grade yang setara dengan sovereign rating Indonesia sedangkan peringkat Baa1 dari Moody’s lebih tinggi dari sovereign rating Indonesia. Adira Finance melayani 2 juta pelanggan aktif di seluruh Indonesia dengan total piutang yang dikelola sebesar Rp 55,7 triliun (2023). Selengkapnya kunjungi www.adira.co.id.(***)\n",
      "True Label: Negative, Predicted Label: Negative\n",
      "\n",
      "Text 92: Jakarta, CNN Indonesia --  Menyambut Hari Kemerdekaan ke-79 Republik Indonesia, Transmart Full Day Sale kembali dengan diskon spesial hingga 50 persen pada hari ini, Minggu (11/8).  Mulai dari produk segar, kebutuhan harian, elektronik, furnitur, fashion item, sampai sepeda listrik semua didiskon.  ADVERTISEMENT  SCROLL TO CONTINUE WITH CONTENT  Nggak cuma itu, bagi pengguna Allo Prime, Kartu Kredit Bank Mega dan Bank Mega Syariah bisa berkesempatan dapat diskon tambahan sampai dengan 20 persen.  Cek terlebih dulu daftar produk yang didiskon di seluruh gerai Transmart se-Indonesia hari ini.  Ayam broiler harga normal Rp35.500 per ekor, harga diskon Rp28.400 per ekor. Harga berlaku di Jabodetabek & Karawang. Ayam broiler harga normal Rp32.500 per ekor, harga diskon Rp26.000 per ekor. Harga berlaku di Jawa Barat & Jawa Tengah. Ayam broiler harga normal Rp36.500 per ekor, harga diskon Rp29.200 per ekor. Harga berlaku di Jawa Timur. Ayam broiler harga normal Rp33.900 per ekor, harga diskon Rp27.120 per ekor. Harga berlaku di Padang. Ayam broiler harga normal Rp35.900 per ekor, harga diskon Rp28.720 per ekor. Harga berlaku di Palembang & Lampung. Anggur red globe harga normal Rp5.550 per 100gr, harga diskon Rp4.440 per 100gr. Harga berlaku di Jabodetabek & Karawang. Anggur red globe harga normal Rp5.390 per 100gr, harga diskon Rp4.312 per 100gr. Harga berlaku di Jawa Barat. Anggur red globe harga normal Rp4.990 per 100gr, harga diskon Rp3.992 per 100gr. Harga berlaku di Jawa Timur. Anggur red globe harga normal Rp5.200 per 100gr, harga diskon Rp4.160 per 100gr. Harga berlaku di Jawa Tengah. Anggur red globe harga normal Rp6.450 per 100gr, harga diskon Rp5.160 per 100gr. Harga berlaku di Makassar. Buah naga merah harga normal Rp2.890 per 100gr, harga diskon Rp2.312 per 100gr. Harga berlaku di Jabodetabek. Buah naga merah harga normal Rp2.750 per 100gr, harga diskon Rp2.200 per 100gr. Harga berlaku di Jawa Barat & Jawa Tengah. Buah naga merah harga normal Rp2.990 per 100gr, harga diskon Rp2.392per 100gr. Harga berlaku di Jawa Timur & Banjarmasin. Buah naga merah harga normal Rp2.590 per 100gr, harga diskon Rp2.072 per 100gr. Harga berlaku di Karawang. Buah naga merah harga normal Rp3.490 per 100gr, harga diskon Rp2.792 per 100gr. Harga berlaku di Makassar & Palu.  Produk kebutuhan harian:  Bimoli minyak goreng 2LT harga normal Rp44.900, harga diskon Rp32.720. Lifebuoy body wash refill 825ml harga normal Rp49.500, harga diskon Rp28.400. Nice genuine 900gr harga normal Rp46.350, harga diskon Rp34.320. ABC kecap manis refill 685gr harga normal Rp23.900, harga diskon Rp18.320. Le Minerale botol 600ml harga normal Rp8.000 per 3btl harga diskon Rp6.400 per 3btl. Ultra milk UHT full cream/choco 750ml-1000ml harga normal mulai Rp16.500, harga diskon Rp9.592. Kanzler chicken nugget original/crispy 450gr harga normal Rp49.900, harga diskon Rp33.600. Aice mochi choco/vanilla/strawberry/durian family pack 390gr harga normal Rp22.600, harga diskon Rp9.040. Sedap minyak goreng 2LT harga normal Rp49.900, harga diskon Rp29.680. Frestea jasmine/apple+lemongrass 1,5LT harga normal Rp16.900, harga diskon Rp10.500. Sariwangi teh asli 50x1,9grx24 harga normal Rp14.000, harga diskon Rp10.000. Van houten chunky almond/cashew/milk 40gr harga normal Rp18.000, harga diskon Rp14.000. Merries pants good skin M50/L44/XL38/XXL28 harga normal Rp104.200, harga diskon Rp75.680. Biore body foam 400ml harga normal Rp28.200, harga diskon Rp16.000. Kraft quick melt mozza 165gr harga normal Rp33.100, harga diskon Rp24.000. Quaker instan/quick cooking refill 800gr harga normal Rp50.000, harga diskon Rp32.000. Paseo elegant 250's harga normal Rp22.100, harga diskon Rp10.320. SoKlin liquid softergent 1600ml harga normal Rp44.900, harga diskon Rp26.560. Harga berlaku di Pulau Jawa & Bali. Mama lemon/lime dishwashing liquid 1500ml harga normal Rp23.500, harga diskon Rp16.960. Harga berlaku di Pulau Jawa & Bali. Rinso Molto anti noda classic/rose fresh/perfume essence 700ml harga normal Rp24.400, harga diskon Rp17.200. Harga berlaku di Pulau Jawa & Bali. Daia softergent 1800gr harga normal Rp35.500, harga diskon Rp25.760. Attack jaz1 softener 750gr/pesona segar/semerbak cinta 800gr harga normal Rp20.300, harga diskon Rp14.320. Harga berlaku di Pulau Jawa & Bali. Sunsilk shampoo soft&smooth/black shine/anti dandruff 170ml harga normal Rp26.500, harga diskon Rp18.800. Fiesta crispy bubble nugget 500gr harga normal Rp59.900, harga diskon Rp32.000. Lifebuoy body wash refill 825ml harga normal Rp49.500, harga diskon Rp28.400. ABC sambal asli/ekstra pedas/manis pedas 335ml harga normal Rp18.700, harga diskon Rp11.920. Ekonomi dishwashing liquid 650ml harga normal Rp9.400, harga diskon Rp6.960. Kapal api special mix 160gr harga normal Rp19.000, harga diskon Rp14.240.  Sepeda listrik dan sepeda:  Aneka sepeda listrik diskon hingga 25% + 20% dari harga normal Rp6.450.000 menjadi Rp3.680.000 per unit khusus di gerai Transmart Pulau Jawa. Pembeli hemat Rp2.770.000. Aneka sepeda listrik diskon hingga 25% + 20% dari harga normal Rp6.750.000 menjadi Rp3.968.000 per unit khusus di gerai Transmart luar Pulau Jawa. Pembeli hemat Rp2.782.000. Aneka sepeda diskon hingga 60% + 20% dari harga normal mulai Rp1.250.000 jadi mulai Rp680.000 per unit khusus di gerai Transmart Pulau Jawa. Aneka sepeda diskon hingga 60% + 20% dari harga normal mulai Rp1.320.000 jadi mulai Rp736.000 per unit khusus di gerai Transmart luar Pulau Jawa.  Elektronik:  AC Split 1 PK, harga diskon Rp3.239.000 dari harga normal Rp4.399.000 per unit. Diskonnya sampai Rp1.160.000. Bonus pipa dan instalasi standar. Harga berlaku di Pulau Jawa, Bali, dan Lampung. AC Split 1 PK, harga diskon Rp3.319.200 dari harga normal Rp4.499.000 per unit. Diskonnya sampai Rp1.180.000. Bonus pipa dan instalasi standar. Harga berlaku di luar Pulau Jawa, Bali, dan Lampung. Kulkas SBS 436L, harga diskon Rp6.399.200 dari harga normal Rp8.999.000 per unit. Diskonnya sampai Rp2.599.800. Harga berlaku di Pulau Jawa, Bali, dan Lampung. Kulkas SBS 436L, harga diskon Rp6.839.200 dari harga normal Rp9.499.000 per unit. Diskonnya sampai Rp2.659.800. Harga berlaku di luar Pulau Jawa, Bali, dan Lampung. LED TV 50\" UHD Smart, harga diskon mulai Rp4.239.200 dari harga normal mulai Rp6.049.000 per unit. Diskonnya sampai Rp1.809.800. LED TV 65\" UHD Smart, harga diskon mulai Rp7.239.200 dari harga normal mulai Rp11.209.000 per unit. Diskonnya sampai Rp3.969.800.  Sepatu anak dan dewasa:  Jackson Shoes and Sandals diskon 70% dengan tambahan diskon 20% ketika menggunakan Allo Prime atau kartu kredit Bank Mega dan Bank Mega Syariah. Yongki Komaladi Shoes and Sandals berlaku harga spesial Rp179.000 plus diskon tambahan 20% ketika menggunakan Allo Prime atau kartu kredit Bank Mega dan Bank Mega Syariah. Koleksi Justice League, Disney Princess, dan Disney Tsum Tsum Phylon beli 2 hanya Rp79 ribu plus tambahan diskon 20% ketika menggunakan Allo Prime atau kartu kredit Bank Mega dan Bank Mega Syariah. Dr. Kevin Sneakers diskon 50% + 20% plus tambahan diskon 20% menggunakan Allo Prime atau kartu kredit Bank Mega dan Bank Mega Syariah. Ando Sneakers diskon 30% + 17% plus tambahan diskon 20% menggunakan Allo Prime atau kartu kredit Bank Mega dan Bank Mega Syariah. Otha Sneakers harga spesial Rp279.000 plus tambahan diskon 20% menggunakan Allo Prime atau kartu kredit Bank Mega dan Bank Mega Syariah.  Furnitur:  Royal Foam Grand X Foam Mattress, harga diskon Rp583.200. Harga berlaku di Pulau Jawa dan Bali. Royal Foam Grand X Foam Mattress, harga diskon Rp614.000 Harga berlaku di Makassar, Lampung, dan Jambi. Airland Matterss New Montreal Set, harga diskon Rp10.799.200. Harga berlaku di Jabodetabek dan Serang. Airland Matterss New Montreal Set, harga diskon Rp10.959.200. Harga berlaku di luar Jabodetabek. Dining set, harga diskon mulai Rp959.200. Lemari pakaian diskon sampai 60% dan harga diskon mulai Rp515.600. Harga berlaku di Pulau Jawa. Lemari pakaian diskon sampai 60% dan harga diskon mulai Rp580.000. Harga berlaku di Sumatra dan Kalimantan. Lemari pakaian diskon sampai 60% dan harga diskon mulai Rp618.800. Harga berlaku di Sulawesi dan Nusa Tenggara. Elite Serenity Impressa Orthopedic Mattress, harga diskon Rp1.307.200. Harga berlaku di Pulau Jawa dan Bali. Elite Serenity Impressa Orthopedic Mattress, harga diskon Rp1.452.800. Harga berlaku di Makassar, Lampung, dan Jambi.  Murah-murah, kan, produk di Transmart? Tunggu apa lagi, segera merapat ke Transmart terdekat untuk menikmati diskon melimpah di gelaran Full Day Sale hari ini aja! Selamat belanja!  (avd/fef)\n",
      "True Label: Neutral, Predicted Label: Positive\n",
      "\n",
      "Text 93: JAKARTA, POSKOTA.CO.ID - Pemerintah akan kembali membuka Program Kartu Prakerja Gelombang 72. Untuk itu, siapkan persyaratannya agar anda mendapatkan insentif saldo dana Rp700.000 masuk ke dompet digital Anda.  Hingga kini jadwal pembukaan Pendaftaran Program Kartu Prakerja Gelombang 72 belum diketahui pasti. Untuk itu, ikuti terus perkembangannya agar insentif saldo dana Rp700.000 tidak terlewatkan.  Agar memudahkan saat pendaftaran, segera persiapkan data-data milik Anda agar bisa klaim insentif saldo dana Rp700.000 dari pemerintah masuk rekening Anda.  Simak bocorannya pada artikel dibawah ini cara lolos Program Prakerja Gelombang 72.  Pembukaan jadwal Program Prakerja Gelombang 72 sangat dinantikan masyarakat. Untuk itu, pantengin terus websitenya.  Biasanya program tersebut dibuka setiap hari Jum'at setelah dua atau tiga Minggu sejak program gelombang sebelumnya ditutup.  Untuk itu, segera cek website https://dashboard.prakerja.go.id agar informasi pembukaan tidak terlewat.  Lumayan, apabila Anda dinyatakan lolos maka akan mendapat insentif berupa saldo dana sebesar Rp4.200.000.  Dari total insentif tersebut yang bisa dicairkan melalui dompet elektronik sebesar Rp700.000.  Program prakerja terus dinanti oleh masyarakat Indonesia, hal ini dikarenakan prakerja memberikan bantuan dana yang terbilang banyak untuk mereka yang ingin mendaftar pekerjaan.  Program Prakerja ini diciptakan oleh pemerintah guna membantu masyarakat Indonesia dalam mencari pekerjaan atau sedang ingin meningkatkan kualitas pekerjaan mereka.  Bagi Anda yang menantikan pendaftaran Program Kartu Prakerja Gelombang 72. Bisa Anda dapatkan informasi dan pengumuman resmi melalui kanal-kanal resmi Kartu Prakerja, seperti akun Instagram resmi @prakerja.go.id dan situs resmi prakerja.go.id.  Namun perlu diingat, bahwa jadwal ini belum pasti dan masih bisa berubah sewaktu-waktu. Untuk itu, pastikan Anda selalu memantau informasi resmi terbaru di website Prakerja (https://dashboard.prakerja.go.id/daftar) dan media sosial resmi Prakerja.  Berikut ini adalah syarat daftar Prakerja Gelombang 72 yang wajib diperhatikan:  1. Pelamar harus Warga Negara Indonesia (WNI).  2. Usia minimal pelamar 18 tahun, maksimal berusia 64 tahun.  3. Pelamar tidak sedang menempuh pendidikan formal apapun.  4. Pelamar bukan merupakan abdi negara atau aparatur sipil negara.  5. Pelamar merupakan pekerja, buruh, UMKM yang membutuhkan peningkatan kompetensi dan skill.  6. Pelamar harus mempunyai akun Kartu Prakerja.  Cara Daftar Prakerja Gelombang 72  Pendaftaran Kartu Prakerja Gelombang 72 hanya dilaksanakan secara online melalui website resmi Prakerja (https://dashboard.prakerja.go.id/daftar).  Berikut ini adalah tata cara lengkap mendaftarnya:  1. Silakan buat akun Prakerja dengan cara buka website https://dashboard.prakerja.go.id/daftar dan klik “Daftar Sekarang”.  2. Silakan masukkan data diri seperti email, NIK, nomor KK, nomor HP, dan password.  3. Melakukan verifikasi data. Lakukan verifikasi email dan nomor HP yang telah kamu isi sebelumnya.  4. Langkah selanjutnya, ikuti tes kemampuan dasar yang telah disediakan.  5. Kemudian, gabung gelombang dengan cara pilih gelombang yang tersedia lalu klik “Gabung Gelombang”.  6. Terakhir, kamu harus menunggu pengumuman hasil seleksi melalui dashboard Prakerja atau email.  Jika kamu lolos seleksi, maka nantinya kamu akan mendapatkan saldo pelatihan sebesar Rp3.500.000.  Pastikan kamu memilih pelatihan yang kamu inginkan melalui platform digital Prakerja dan lakukan pembayaran dengan nomor Kartu Prakerja.  Setelah itu, kamu harus mengikuti pelatihan yang kamu pilih dan selesaikan semua tugas dan ujian.  Begitu sudah menyelesaikan pelatihan, jangan lupa berikan rating dan ulasan terhadap pelatihan tersebut melalui dashboard Prakerja.  Besaran Insentif Prakerja Gelombang 72  Total insentif yang dapat diterima peserta Prakerja Gelombang 72 ialah sebesar Rp4.200.000. Insentif tersebut terdiri dari:  - Biaya Pelatihan: Rp3.500.000  - Insentif Pasca pelatihan: Rp600.000 (diberikan sekali)  - Insentif Survei: Rp100.000 (untuk dua kali pengisian survei)  Saldo Dana gratis Rp700.000 akan masuk ke dompet digital atau rekening bank setelah Anda dinyatakan lolos dan menyelesaikan beberapa tahapan yang ditentukan.  Untuk membantu mengerjakan tes, Anda bisa menyiapkan alat bantu (kertas, pensil/pulpen) untuk menyelesaikan soal.  - Anda bisa menyiapkan alat bantu (kertas, pensil/pulpen)  - Pastikan Anda berada di tempat yang kondusif agar kamu fokus dalam pengerjaan tes  - Pastikan koneksi internet yang stabil  - Demi kelancaran pengerjaan tes, kami sarankan untuk menggunakan browser Google Chrome, Mozilla Firefox, atau Safari.  - Jika halaman tes tertutup, Anda harus mengulang pengerjaan tes dari awal  - Tes hanya dapat dilakukan 1 (satu) kali dan tidak ada pengulangan. Jadi, pastikan Anda mempersiapkan diri untuk mengerjakan tes sebaik mungkin  Manfaat Prakerja Gelombang 72  Selain saldo DANA gratis Rp700.000, Prakerja Gelombang 72 menawarkan berbagai manfaat lain, antara lain:  - Pelatihan di Berbagai Bidang  - Pelatihan yang sesuai dengan kebutuhan pasar kerja untuk meningkatkan keterampilan Anda.  - Sertifikat Pelatihan  - Sertifikat yang dapat meningkatkan nilai jual Anda di mata calon pemberi kerja.  - Akses Peluang Kerja  - Akses ke berbagai peluang kerja melalui mitra Prakerja.  Program Prakerja ini tidak hanya membantu meningkatkan keterampilan, tetapi juga memberikan dukungan finansial yang dapat digunakan untuk berbagai keperluan. Jadi manfaatkan pendaftaran Program Prakerja Gelombang 72 mendatang, jangan sampai terlewatkan.\n",
      "True Label: Positive, Predicted Label: Negative\n",
      "\n",
      "Text 94: Kantor Wilayah (Kanwil) Direktorat Jenderal Pajak (DJP) Jakarta Barat hingga 31 Juli 2024, telah membukukan capaian penerimaan bruto sebesar Rp 41,12 triliun dan penerimaan neto sebesar Rp 36,29 triliun atau 55,98 persen dari target APBN sebesar Rp 64,83 triliun. Capaian ini mengalami pertumbuhan dibandingkan tahun lalu sebesar 3,33 persen.  Sedangkan secara nasional, realisasi penerimaan pajak sampai dengan 30 Juni 2024, penerimaan bruto sebesar Rp 1.240,13 triliun dan penerimaan neto sebesar Rp 1.045,32 triliun atau 52,56 persen dari target APBN sebesar Rp 1.988,88 triliun.  Capaian Kanwil DJP Jakarta Barat Semester I tahun 2024 berdasarkan jenis pajaknya terdiri dari Pajak Penghasilan sebesar Rp 17,53 triliun, Pajak Pertambahan Nilai dan Pajak Penjualan Barang Mewah sebesar Rp 18,73 triliun, PBB dan BPHTB negatif sebesar Rp 18,7 juta, Pendapatan PPh DTP sebesar Rp 1,37 juta, dan Pajak lainnya sebesar Rp 23,65 miliar.  Empat sektor kegiatan usaha di Jakarta Barat yang memberi kontribusi dominan sebesar 75,96 persen terhadap realisasi penerimaan adalah sektor perdagangan sebesar Rp 17,99 triliun (49,59 persen), sektor industri pengolahan sebesar Rp 5,62 triliun (15,50 persen), sektor pengangkutan pergudangan sebesar Rp 2,15 triliun (5,94 persen), dan sektor konstruksi sebesar Rp 1,79 triliun (4,94 persen).  Dari sisi kepatuhan pelaporan SPT Tahunan, kinerja penerimaan SPT Tahunan Kanwil DJP Jakarta Barat sampai dengan 30 Juli 2024, telah mencapai 84,35 persen atau telah menerima 347.998 SPT Tahunan dari target sebanyak 412.582 SPT.  Kepala Kanwil DJP Jakarta Barat Farid Bachtiar menyampaikan optimismenya dalam pencapaian target 2024, Jumat (16/8/2024).  Farid juga memiliki keyakinan bahwa pengusaha atau wajib pajak di Jakarta Barat memiliki optimisme yang sama sehingga dukungan dari para wajib pajak tersebut akan bisa mendorong penerimaan Kanwil DJP Jakarta Barat di atas 100 persen.\n",
      "True Label: Negative, Predicted Label: Negative\n",
      "\n",
      "Text 95: Medan (ANTARA) - Kejaksaan Negeri (Kejari) Medan, telah melimpahkan berkas perkara dugaan korupsi yang merugikan keuangan negara senilai Rp4,48 miliar ke Pengadilan Tipikor pada Pengadilan Negeri (PN) Medan, Sumatera Utara.  “Berkas perkara dugaan korupsi atas nama terdakwa Ikhsan Bohari telah kita limpahkan ke Pengadilan Tipikor Medan,” kata Kasi Pidsus Kejari Medan Mochamad Ali Rizza ketika dihubungi ANTARA dari Medan, Sabtu.  Rizza menyebutkan, pelimpahan berkas perkara tersebut dilaksanakan pada Kamis (22/8). Saat ini pihaknya tinggal menunggu jadwal persidangan dari pihak Pengadilan Tipikor Medan.  “Tim JPU Pidsus Kejari Medan, tinggal menunggu jadwal persidangan, sidang perdana itu beragendakan pembacaan surat dakwaan,” sebut dia.  Nantinya dalam sidang perdana, kata Rizza, pihaknya telah menunjuk tim JPU Pidsus Kejari Medan yang akan membacakan surat dakwaan terhadap terdakwa.  “Tim JPU yang akan membacakan surat dakwaan yakni Suryanta Desy Christiani, Nurainun, Fauzan Irgi Hasibuan dan Julita Rismayadi,” kata Mochamad Ali Rizza.  Secara terpisah, Juru Bicara PN Medan M. Nazir mengatakan pihaknya telah menerima pelimpahan berkas perkara dugaan tersebut.  “Berkas perkara itu telah diterima pihak Kepaniteraan Tipikor PN Medan dan teregister dengan nomor perkara: 87/Pid.Sus-TPK/2024/PN Mdn,” sebut Nazir.  Berdasarkan sistem informasi penelusuran perkara (SIPP) PN Medan, jadwal sidang perdana dengan agenda pembacaan dakwaan dari JPU digelar pada Kamis (5/9) mendatang.  “Benar, sidang perdananya dijadwalkan pada Kamis (5/9), mendatang,” ujar Nazir.  Sebelumnya Kejari Medan menetapkan Ikhsan Bohari (47) selaku debitur pada bank plat merah di Medan sebagai tersangka dugaan korupsi pemberian fasilitas pembiayaan kredit oleh bank plat merah di Medan kepada Bohari Group tahun 2017-2019, Kamis (20/6).  Kepala Kejari Medan Muttaqin Harahap mengatakan, modus yang dilakukan Ikhsan Bohari adalah dengan mengajukan fasilitas kredit berupa Kredit Modal Kerja (KMK) dan Kredit Investasi (KI).  “Tersangka memalsukan dokumen kontrak kerja dan pembelian barang dari pinjaman kredit bank pelat merah di ibu kota Provinsi Sumatera Utara,” ujarnya.  Kemudian, lanjut dia, tersangka menerima sembilan fasilitas kredit menggunakan tiga perusahaan, yakni PT Bohari Mandiri Bersaudara, PT Bahari Samudra Sentosa, dan CV Gambir Mas Pangkalan pada 2017-2019 senilai Rp17,9 miliar lebih.  Lebih lanjut, Muttaqin mengatakan setelah dilakukan serangkaian penyelidikan dan penyidikan, tersangka IB telah mengembalikan uang sebesar Rp7,7 miliar lebih, namun terdapat selisih nilai pokok kredit yang masih macet.  \"Berdasarkan perhitungan BPK (Badan Pemeriksa Keuangan) RI, akibat perbuatan tersangka mengakibatkan kerugian negara sebesar Rp4.486.838.491,00 atau Rp4,4 miliar lebih,\" jelas Muttaqin.  Akibat perbuatannya, Ikhsan Bohari dijerat Pasal 2 Subs Pasal 3 Jo Pasal 18 Undang-undang Nomor 31 Tahun 1999, sebagaimana diubah dengan Undang-undang Nomor 20 Tahun 2001 tentang Pemberantasan Tindak Pidana Korupsi Jo Pasal 65 ayat (1) KUHPidana.\n",
      "True Label: Positive, Predicted Label: Neutral\n",
      "\n",
      "Text 96: - PT Terang Dunia Internusa Tbk, menjamin layanan purnajual yang cepat dan tepat bagi para pelanggannya yang menggunakan sepeda motor listrik.  Menurut General Manager UNTD Andry Dwinanda, layanan purnajual menjadi salah satu benefit yang ditawarkan United E-Motor sebagai salah satu komitmen untuk memberikan pelayanan terbaiknya.  \"Layanan purnajual ini merupakan bagian dari rangkaian strategi marketing yang kami jalankan, dan hal itu sangat krusial. Pelayanan terhadap pelanggan sangat kami perhatikan, tentunya agar masyarakat yang membeli produk United E-Motor bisa merasakan pengalaman yang terbaik,\" ujar Andry dalam keterangan resminya, Sabtu (27/7/2024).  Adapun pengalaman terbaik yang dimaksud mulai dari hulu ke hilir, atau dari saat pertama mengunjungi store, proses transaksi, hingga saat pelanggan membutuhkan pelayanan jika ada kerusakan atau sekadar mencari informasi mengenai produk yang dimiliki.  Layanan purnajual United E-Motor  Pengguna motor listrik, khusus United E-Motor, tak perlu khawatir untuk masalah perawatan dan servis, karena telah mendapat jaminan layanan purnajual yang cepat dan tepat untuk para pelanggannya.  Layanan purnajual kini telah tersedia di seluruh authorized store United E-Motor yang tersebar di wilayah Indonesia.  Pelanggan bisa langsung mengunjungi jaringan terdekat untuk mendapat informasi mengenai produk dan layanan yang. Beragam kemudahan pembiayaan pun tersedia lewat cicilan dengan tenor beragam dari berbagai leasing ternama yang telah bekerja sama, salah satunya Adira Finance.  \"Masyarakat tidak perlu kuatir atau takut untuk membeli motor listrik, karena United E-Motor punya banyak keuntungan. Salah satunya layanan home service yang sangat memudahkan konsumen yang membutuhkan servis atau perbaikan motornya namun tidak bisa keluar rumah cukup dengan menghubungi Customer Service kami,\" ucap Andry.  Layanan purnajual United E-Motor  Saat ini, United E-Motor telah merilis beragam motor listrik yang dapat disesuaikan dengan kebutuhan berkendara. Mulai dari tipe MX1200 dengan model dinamis yang cocok di perkotaan, hingga koleksi T-Series (T1800, TX1800 dan TX3000) yang tampil dengan model sporty dan mampu dibawa berkendara di segala medan.\n",
      "True Label: Neutral, Predicted Label: Neutral\n",
      "\n",
      "Text 97: REPUBLIKA.CO.ID, LABUAN BAJO — Timbunan sampah merupakan salah satu masalah mendasar yang perlu diselesaikan dalam rangka meningkatkan kualitas destinasi wisata. Berdasarkan data World Population Review terdapat 4,8 juta hingga 12,7 juta ton sampah yang dibuang ke laut setiap tahun di dunia.  Deputi Bidang Pemasaran Kementerian Pariwisata dan Ekonomi Kreatif (Kemenparekraf), Ni Made Ayu Marthini, mengatakan perlu kolaborasi seluruh pemangku kepentingan seperti pemerintah, pelaku industri pariwisata, sektor swasta, hingga pegiat lingkungan dan masyarakat untuk bersama-sama turut menjaga lingkungan melalui aktivitas mengurangi sampah. Sebagai salah satu negara dengan luas laut terbesar di dunia, masyarakat Indonesia juga diharapkan dapat meningkatkan kesadaran terhadap kelestarian lingkungan.  \"Kita dikasih keindahan alam oleh Tuhan harus dijaga, jangan menunggu ada krisis. Mari kita jaga bersama,\" ujarnya.  Salah satu mitra Kemenparekraf dalam mewujudkan destinasi wisata yang bersih adalah perusahaan Air Minum Dalam Kemasan (AMDK) Aqua. Kemarin (30/5/2024), Aqua melakukan inisiatif gerakan bersih-bersih pantai bersama pegiat lingkungan Pandawara Group yang digelar di Pantai Binongko, Labuan Bajo.  Staf Ahli Menparekraf Bidang Manajemen Krisis Fadjar Hutomo menekankan pentingnya tindakan pencegahan sebelum terjadinya krisis di sektor pariwisata. Menurut dia, tindakan abai terhadap kelestarian alam dapat meningkatkan risiko terjadinya bencana ekologi.  Ia juga memberikan apresiasi kepada Aqua sebagai mitra co-branding Wonderful Indonesia yang diinisiasi Kemenparekraf, serta Pandawara Group selaku anak-anak muda yang peduli dan konsisten dalam hal kelestarian alam. “Jangan saling tunggu, ini harus dilakukan semua. Apa yang diteladankan oleh teman-teman Pandawara ini semoga menjadi inspirasi untuk menjaga lingkungan,\" katanya.  Aqua telah mengembangkan enam unit bisnis daur ulang (RBU) dan 10 collection center, melakukan pendampingan kepada 26 Tempat Pengolahan Sampah Reuse-Reduce-Recycle (TPS3R) dan 2 TPST serta lebih dari 60 unit bank sampah, termasuk di kawasan destinasi wisata prioritas Candi Borobudur, Labuan Bajo, Danau Toba, Mandalika dan Likupang.  Melalui inisiatif tersebut, lebih dari 22 ribu ton sampah plastik per tahunnya berhasil dikumpulkan yang kemudian didaur ulang menjadi bahan baku kemasan botol baru ataupun produk lain yang memiliki nilai ekonomi. Khusus di Labuan Bajo, Aqua sejak tahun 2019 bekerjasama dengan mitra lokal yaitu Kole Project mendirikan Rumah Daur Ulang (Recycle Business Unit) untuk mengirimkan sekitar 20 ton/bulan sampah ke pabrik pengolahan untuk didaur ulang menjadi bahan baku, dengan melibatkan sekitar lebih dari 50 orang termasuk kalangan difabel yang mendapatkan manfaat ekonomi sirkular.\n",
      "True Label: Positive, Predicted Label: Neutral\n",
      "\n",
      "Text 98: Pada 2023, SPBT di Pamarican dan Kebumen tercatat telah melibatkan 12.522 petani dalam pengelolaan dan pengoperasiannya. Khusus SPBT Pamarican yang telah berjalan lebih dahulu, data tahun 2021 menunjukkan keterlibatan 6.200 petani dan 258 kelompok tani dalam pengoperasiannya.  Ali mengatakan, Bank Mandiri memantau kontribusi SPBT pada pemberdayaan dan kewirausahaan petani melalui perhitungan social return of investment (SROI).  “Perhitungan SROI membantu kita menilai seberapa besar manfaat, efektivitas, serta dampak dari program yang Bank Mandiri laksanakan. Dengan ini, kita juga memantau dan mengevaluasi CSR Bank Mandiri dalam mendukung petani Indonesia,“ katanya.  Laporan Berkelanjutan Bank Mandiri tahun 2023 mencatat, SROI untuk SPBT Pamarican mencapai 3,7 dari nilai awal saat investasi, sedangkan untuk SPBT Kebumen sebesar 3,2.  Selain bantuan pembangunan fasilitas, Bank Mandiri juga mendukung inklusi keuangan dan permodalan petani untuk mengolah lahan pertanian melalui penyaluran Kredit Usaha Mikro (KUM) dan Kredit Usaha Rakyat (KUR) guna mendukung kemudahan akses terhadap layanan perbankan (access to finance) bagi kalangan underserved atau masyarakat yang kurang terlayani akses perbankan. Sektor pertanian tercatat menerima kucuran KUM sebesar Rp5,65 Triliun hingga Juni 2024.  Komitmen Bank Mandiri mendukung pertanian ini juga dilaksanakan guna mencapai tujuan nomor 1 (satu) dari pembangunan berkelanjutan atau Sustainable Development Goal, yakni No Poverty untuk pengentasan kemiskinan.  Selain itu, dukungan Bank Mandiri ini adalah upaya mewujudkan visi menjadi “Indonesia´s Sustainability Champion,” terutama memenuhi salah satu pilar kerangka environment, social, and governance yaitu Sustainability Beyond Banking.\n",
      "True Label: Positive, Predicted Label: Positive\n",
      "\n",
      "Text 99: PROMO DAN DISKON - Promo Indomaret weekend masih memberikan mie Sedaap beli 3 lebih hemat. Dapatkan juga promo Bear Brand lebih murah di promo Indomaret weekend terbaru Agustus 2024.  Promo Indomaret weekend terbaru di bulan Agustus 2024 merilis katalog promo paling murah dan promo hemat banget mulai hari ini.  Dapatkan banyak penawaran menarik dengan harga lebih murah di promo Indomaret weekend paling murah dan hemat banget.  Ada apa saja? Berikut katalog promo Indomaret 22-28 Agustus 2024 edisi promo paling murah dan promo hemat banget.  Promo Indomaret Weekend 23-25 Agustus 2024  Di promo Indomaret weekend 23-25 Agustus 2024 edisi promo paling murah dapatkan harga spesial untuk Sunlight dan Nivea  Ada sabun cuci piring Sunlight 700/650 ml semua varian harga Rp 9.500 dengan syarat beli 2 dan Nivea deodorant roll Rp 16.500.  Selanjutnya di promo Indomaret weekend ada minuman Aqua 600 ml harga spesial Rp 6.000/2 botol atau Pucuk Harum beli 2 lebih hemat.  Jangan lewatkan juga Frisian Flag Rp 4.900, Cimory yogurt beli 2 gratis 1 dan shampoo Zinc harga Rp 14.900 di promo Indomaret weekend .  Promo Indomaret paling murah memberikan cashback coin Rp 5.000 dengan Gopay atau diskon Rp 2.000 dengan Kredivo.  Dapatkan juga produk-produk dengan penawaran menarik di promo Indomaret weekend 23-25 Agustus 2024 edisi hemat banget.  Belanja minyak goreng Tropical 2 liter Rp 34.700, mie Sedaap goreng beli 3 lebih hemat dan Bear Brand Rp 9.700 saja.  Di promo Indomaret weekend juga ada promo lebih murah untuk Lemonilo, Luwak white coffee dan Good Day.  Promo Indomaret weekend memberikan potongan harga untuk produk perawatan tubuh dan kebersihan rumah tangga sampai popok bayi.  : Promo Deterjen & Sabun Mandi di Alfamart-Indomaret dan Superindo, Giv Diskon 45%  Belanja Garnier Men harga Rp 29.500, So Klin pewangi Rp 7.900 dan Baby Happy harga spesial Rp 47.900 di promo Indomaret weekend .  Ada harga lebih murah Rp 5.000 dengan kartu kredit Mandiri, kartu debit BRI, dan QR Code Brimo di promo Indomaret hemat banget.  Promo Indomaret paling murah dan hemat banget berlaku nasional. Harga yang tertera adalah untuk pulau Jawa, Bali dan Lombok.  Promo Indomaret weekend tersebut tidak berlaku di toko Indomaret Point. Segera belanja di promo Indomaret hari ini.\n",
      "True Label: Neutral, Predicted Label: Neutral\n",
      "\n",
      "Text 100: PT AKR Corporindo Tbk (AKRA) menargetkan pendapatan Rp 18 triliun hingga Rp 20 triliun dari monetisasi lahan di Kawasan Industri Khusus (KIK) Java Integrated Industrial and Port Estate (JIIPE) di Gresik, Jawa Timur.  Direktur dan Corporate Secretary AKRA Suresh Vembu mengatakan perusahaan menargetkan penjualan lahan di kawasan industri 100-115 hektare (ha) tahun ini. Perusahaan juga masih memiliki landbank lebih dari 700 ha.  \"Saat ini kami sedang memonetisasi inventory tanah yang dijual ke industri dan memiliki potensi indikatif sekitar Rp 18-20 triliun dalam revenue level di tujuh hingga delapan tahun ke depan,\" kata Suresh dalam Public Expose Live 2024, di Jakarta, Jumat (30/8).  Menurutnya, pada kuartal III ini akan masuk tenant baru perusahaan kimia asal Cina. Selain itu, masih ada beberapa prospek calon tenant yang masih dalam proses negosiasi.  Perusahaan juga memonetisasi utilitas jaringan listrik, air, dan gas di kawasan industri JIIPE. Selain itu, pendapatan perseroan juga ditambah dari hasil pengoperasian pelabuhan dengan kapasitas 10 juta ton kargo curah per tahun, dengan luas 400 ha.  Ekosistem Industri Tembaga  Tahun ini, smelter tembaga milik PT Freeport Indonesia di KIK JIIPE telah diresmikan. Smelter ini akan menghasilkan tembaga 650.000 ton, emas sekitar 60 ton, dan perak 220 ton per tahun.  \"Smelter tembaga ini akan menghasilkan pendapatan sewa bagi JIIPE selama 80 tahun,\" ujar Suresh.  Suresh optimistis dengan beroperasinya smelter tembaga terbesar di dunia milik Freeport di JIIPE, ekosistem industri berbasis tembaga dan turunannya akan berkembang di KIK tersebut.  Pada semester I 2024, AKRA mencatatkan laba bersih yang diatribusikan kepada pemilik entitas induk sebesar Rp 1 triliun atau hampir sama seperti laba bersih 2023. Sementara itu, pendapatan dari segmen kawasan industri tumbuh 9,7% secara tahunan (year-on-year) menjadi Rp 673 miliar.  Pendapatan dari segmen ini didorong oleh penjualan lahan dan pertumbuhan pendapatan berulang (recurring income) dari utilitas sebesar 91,8% yoy menjadi Rp 75 miliar. Kontribusi segmen kawasan industri terhadap laba bruto konsolidasi AKRA mencapai 22% atau sebesar Rp 353 miliar, naik 8,9% yoy.\n",
      "True Label: Neutral, Predicted Label: Neutral\n",
      "\n",
      "Accuracy on the validation set: 0.7800\n",
      "Time taken for tokenization: 0.3666 seconds\n",
      "Time taken for inference: 13.4345 seconds\n",
      "Total time taken: 13.8012 seconds\n"
     ]
    },
    {
     "ename": "",
     "evalue": "",
     "output_type": "error",
     "traceback": [
      "\u001b[1;31mThe Kernel crashed while executing code in the current cell or a previous cell. \n",
      "\u001b[1;31mPlease review the code in the cell(s) to identify a possible cause of the failure. \n",
      "\u001b[1;31mClick <a href='https://aka.ms/vscodeJupyterKernelCrash'>here</a> for more info. \n",
      "\u001b[1;31mView Jupyter <a href='command:jupyter.viewOutput'>log</a> for further details."
     ]
    }
   ],
   "source": [
    "import random\n",
    "import torch\n",
    "import time\n",
    "from transformers import LongformerForSequenceClassification, LongformerTokenizer\n",
    "\n",
    "torch.cuda.empty_cache()\n",
    "\n",
    "\n",
    "# Set random seed for reproducibility\n",
    "random.seed(42)\n",
    "\n",
    "# Load the saved model and tokenizer\n",
    "device = torch.device(\"cuda\" if torch.cuda.is_available() else \"cpu\")\n",
    "model_path = './longformer_model3'  # Path to your saved model\n",
    "model = LongformerForSequenceClassification.from_pretrained(model_path).to(device)\n",
    "tokenizer = LongformerTokenizer.from_pretrained(model_path)\n",
    "\n",
    "print(\"Model and tokenizer successfully loaded!\")\n",
    "\n",
    "# Limit to 100 articles from the validation set\n",
    "val_texts_subset = val_texts[:100]\n",
    "val_labels_subset = val_labels[:100]\n",
    "\n",
    "# Tokenize the subset of the validation set\n",
    "start_tokenization_time = time.time()\n",
    "inputs = tokenizer(val_texts_subset, return_tensors=\"pt\", truncation=True, padding=True, max_length=512).to(device)\n",
    "end_tokenization_time = time.time()\n",
    "\n",
    "# Perform inference\n",
    "model.eval()\n",
    "start_inference_time = time.time()\n",
    "with torch.no_grad():\n",
    "    outputs = model(**inputs)\n",
    "end_inference_time = time.time()\n",
    "\n",
    "# Get the predicted class for each input\n",
    "logits = outputs.logits\n",
    "predicted_classes = torch.argmax(logits, dim=1).tolist()\n",
    "\n",
    "# Print results for the validation set subset\n",
    "label_mapping = {0: \"Positive\", 1: \"Neutral\", 2: \"Negative\"}\n",
    "correct_predictions = 0\n",
    "\n",
    "for i, (text, true_label, predicted_label) in enumerate(zip(val_texts_subset, val_labels_subset, predicted_classes)):\n",
    "    print(f\"Text {i+1}: {text}\")\n",
    "    print(f\"True Label: {label_mapping[true_label]}, Predicted Label: {label_mapping[predicted_label]}\\n\")\n",
    "    if true_label == predicted_label:\n",
    "        correct_predictions += 1\n",
    "\n",
    "# Calculate overall accuracy\n",
    "accuracy = correct_predictions / len(val_labels_subset)\n",
    "print(f\"Accuracy on the validation set: {accuracy:.4f}\")\n",
    "\n",
    "# Calculate timing metrics\n",
    "tokenization_time = end_tokenization_time - start_tokenization_time\n",
    "inference_time = end_inference_time - start_inference_time\n",
    "print(f\"Time taken for tokenization: {tokenization_time:.4f} seconds\")\n",
    "print(f\"Time taken for inference: {inference_time:.4f} seconds\")\n",
    "print(f\"Total time taken: {tokenization_time + inference_time:.4f} seconds\")"
   ]
  },
  {
   "cell_type": "code",
   "execution_count": 53,
   "metadata": {},
   "outputs": [
    {
     "name": "stdout",
     "output_type": "stream",
     "text": [
      "Using device: cuda\n"
     ]
    }
   ],
   "source": [
    "# Check if GPU is available\n",
    "device = \"cuda\" if torch.cuda.is_available() else \"cpu\"\n",
    "print(f\"Using device: {device}\")"
   ]
  },
  {
   "cell_type": "code",
   "execution_count": null,
   "metadata": {},
   "outputs": [],
   "source": [
    "# Load the saved model and tokenizer\n",
    "model = LongformerForSequenceClassification.from_pretrained('./longformer_model').to(device)\n",
    "tokenizer = LongformerTokenizer.from_pretrained('./longformer_model')"
   ]
  },
  {
   "cell_type": "code",
   "execution_count": null,
   "metadata": {},
   "outputs": [],
   "source": [
    "# Define label mapping\n",
    "label_mapping = {0: \"Negative\", 1: \"Neutral\", 2: \"Positive\"}"
   ]
  },
  {
   "cell_type": "code",
   "execution_count": null,
   "metadata": {},
   "outputs": [],
   "source": [
    "# Testing new articles\n",
    "def classify_article(article):\n",
    "    # Tokenize the input article and move the tensors to the correct device\n",
    "    inputs = tokenizer(article, return_tensors=\"pt\", truncation=True, padding=True, max_length=512)\n",
    "    \n",
    "    # Move tokenized inputs to the correct device (GPU or CPU)\n",
    "    inputs = {key: value.to(device) for key, value in inputs.items()}\n",
    "    \n",
    "    with torch.no_grad():\n",
    "        # Perform inference using the model\n",
    "        outputs = model(**inputs)\n",
    "    \n",
    "    logits = outputs.logits\n",
    "    # Get the predicted label (index of the highest logit)\n",
    "    predicted_label = np.argmax(logits.cpu().numpy(), axis=1)[0]\n",
    "    \n",
    "    # Calculate sentiment scores (probabilities)\n",
    "    sentiment_score = torch.softmax(logits, dim=1).cpu().numpy()[0]\n",
    "    \n",
    "    # Map predicted label to sentiment text\n",
    "    sentiment_result = label_mapping[predicted_label]\n",
    "    \n",
    "    return sentiment_result, sentiment_score"
   ]
  },
  {
   "cell_type": "code",
   "execution_count": null,
   "metadata": {},
   "outputs": [
    {
     "name": "stdout",
     "output_type": "stream",
     "text": [
      "The sentiment of the article is: Positive\n",
      "Sentiment scores: [0.00133929 0.01447496 0.98418576]\n"
     ]
    }
   ],
   "source": [
    "# User input for a new article\n",
    "new_article = input(\"Your article:\")\n",
    "sentiment_result, sentiment_score = classify_article(new_article)\n",
    "print(f\"The sentiment of the article is: {sentiment_result}\")\n",
    "print(f\"Sentiment scores: {sentiment_score}\")\n"
   ]
  },
  {
   "cell_type": "code",
   "execution_count": null,
   "metadata": {},
   "outputs": [
    {
     "name": "stderr",
     "output_type": "stream",
     "text": [
      "You are using a model of type encoder_decoder to instantiate a model of type encoder-decoder. This is not supported for all configurations of models and can yield errors.\n",
      "Some weights of the model checkpoint at patrickvonplaten/longformer2roberta-cnn_dailymail-fp16 were not used when initializing EncoderDecoderModel: ['decoder.roberta.pooler.dense.bias', 'decoder.roberta.pooler.dense.weight', 'encoder.embeddings.position_ids']\n",
      "- This IS expected if you are initializing EncoderDecoderModel from the checkpoint of a model trained on another task or with another architecture (e.g. initializing a BertForSequenceClassification model from a BertForPreTraining model).\n",
      "- This IS NOT expected if you are initializing EncoderDecoderModel from the checkpoint of a model that you expect to be exactly identical (initializing a BertForSequenceClassification model from a BertForSequenceClassification model).\n"
     ]
    }
   ],
   "source": [
    "from transformers import LongformerTokenizer, EncoderDecoderModel\n",
    "\n",
    "# Load summarization model and tokenizer\n",
    "summarization_model = EncoderDecoderModel.from_pretrained(\"patrickvonplaten/longformer2roberta-cnn_dailymail-fp16\")\n",
    "summarization_tokenizer = LongformerTokenizer.from_pretrained(\"allenai/longformer-base-4096\")"
   ]
  },
  {
   "cell_type": "code",
   "execution_count": null,
   "metadata": {},
   "outputs": [],
   "source": [
    "# Function to summarize text\n",
    "def summarize_text(text):\n",
    "    input_ids = summarization_tokenizer(text, return_tensors=\"pt\", max_length=4096, truncation=True).input_ids\n",
    "    output_ids = summarization_model.generate(input_ids, max_length=150, min_length=30, length_penalty=2.0, num_beams=4, early_stopping=True)\n",
    "    return summarization_tokenizer.decode(output_ids[0], skip_special_tokens=True)\n"
   ]
  },
  {
   "cell_type": "code",
   "execution_count": null,
   "metadata": {},
   "outputs": [],
   "source": [
    "# User input for text summarization\n",
    "article_to_summarize = input(\"Your article:\")"
   ]
  },
  {
   "cell_type": "code",
   "execution_count": null,
   "metadata": {},
   "outputs": [
    {
     "name": "stdout",
     "output_type": "stream",
     "text": [
      "Summary of the article:\n",
      "The program Harcilnas 2024 is based in Jakarta, Indonesia .\n",
      "The program is aimed at helping the program Harinya Cicilan Lunasan .\n",
      "Program Harcilas is a program ini e-bike, e-bikes, ebike, hinga, e bike, e/bike .\n"
     ]
    }
   ],
   "source": [
    "# Ensure model is moved to the device\n",
    "summarization_model = summarization_model.to(device)\n",
    "\n",
    "# Tokenize and summarize\n",
    "input_ids = summarization_tokenizer(article_to_summarize, return_tensors=\"pt\").input_ids.to(device)\n",
    "output_ids = summarization_model.generate(input_ids)\n",
    "\n",
    "# Get the summary from the output tokens\n",
    "summary = summarization_tokenizer.decode(output_ids[0], skip_special_tokens=True)\n",
    "\n",
    "# Print summary\n",
    "print(\"Summary of the article:\")\n",
    "print(summary)"
   ]
  },
  {
   "cell_type": "code",
   "execution_count": null,
   "metadata": {},
   "outputs": [
    {
     "name": "stderr",
     "output_type": "stream",
     "text": [
      "c:\\Users\\rache\\AppData\\Local\\Programs\\Python\\Python311\\Lib\\site-packages\\huggingface_hub\\file_download.py:147: UserWarning: `huggingface_hub` cache-system uses symlinks by default to efficiently store duplicated files but your machine does not support them in C:\\Users\\rache\\.cache\\huggingface\\hub\\models--facebook--bart-large-cnn. Caching files will still work but in a degraded version that might require more space on your disk. This warning can be disabled by setting the `HF_HUB_DISABLE_SYMLINKS_WARNING` environment variable. For more details, see https://huggingface.co/docs/huggingface_hub/how-to-cache#limitations.\n",
      "To support symlinks on Windows, you either need to activate Developer Mode or to run Python as an administrator. In order to activate developer mode, see this article: https://docs.microsoft.com/en-us/windows/apps/get-started/enable-your-device-for-development\n",
      "  warnings.warn(message)\n"
     ]
    },
    {
     "name": "stdout",
     "output_type": "stream",
     "text": [
      "Summary of the article:\n",
      "Pembayaran kredit sepeda motor yang seringkali menjadi beban bagi sebagian besar masyarakat. Program ini memungkinkan nasabah melunasi kredit atau kredit lainnya secara penuh.\n"
     ]
    }
   ],
   "source": [
    "from transformers import BartForConditionalGeneration, BartTokenizer\n",
    "\n",
    "summarization_model = BartForConditionalGeneration.from_pretrained(\"facebook/bart-large-cnn\").to(device)\n",
    "tokenizer = BartTokenizer.from_pretrained(\"facebook/bart-large-cnn\")\n",
    "\n",
    "# Article text to summarize\n",
    "article_to_summarize = \"\"\"\n",
    "Jakarta, VIVA – Pembayaran kredit sepeda motor yang seringkali menjadi beban bagi sebagian besar masyarakat, kini \n",
    "dapat diatasi melalui program Hari Pembayaran Berbayar atau Harcilnas 2024 yang diselenggarakan oleh PT Adira Dinamika \n",
    "Multi Finance Tbk (Adira Finance). Program ini memungkinkan nasabah melunasi kredit sepeda motor atau kredit lainnya secara \n",
    "penuh hanya dengan menukarkan poin yang terkumpul. Pada Harcilnas periode pertama tahun ini, ada 12 nasabah yang berhasil \n",
    "melunasi seluruh tagihannya.\n",
    "\"\"\"\n",
    "\n",
    "# Use \"summarize:\" prefix\n",
    "input_text = f\"summarize: {article_to_summarize}\"\n",
    "\n",
    "# Tokenize the input text\n",
    "input_ids = tokenizer(input_text, return_tensors=\"pt\", truncation=True, padding=True, max_length=512).input_ids.to(device)\n",
    "\n",
    "# Generate the summary with BART's optimized settings\n",
    "output_ids = summarization_model.generate(\n",
    "    input_ids,\n",
    "    max_length=150,            # Shorter summary length\n",
    "    num_beams=4,               # Beam search for better quality\n",
    "    early_stopping=True,\n",
    ")\n",
    "\n",
    "# Decode the generated summary output\n",
    "summary = tokenizer.decode(output_ids[0], skip_special_tokens=True, clean_up_tokenization_spaces=True)\n",
    "print(\"Summary of the article:\")\n",
    "print(summary)\n"
   ]
  },
  {
   "cell_type": "code",
   "execution_count": null,
   "metadata": {},
   "outputs": [],
   "source": [
    "# Export results to CSV\n",
    "import csv\n",
    "\n",
    "def export_results(sentiment_results, summaries):\n",
    "    with open('results.csv', mode='w', newline='', encoding='utf-8') as file:\n",
    "        writer = csv.writer(file)\n",
    "        writer.writerow(['Article', 'Sentiment', 'Sentiment Scores', 'Summary'])\n",
    "        for article, sentiment, scores, summary in zip([new_article, article_to_summarize], \n",
    "                                                        [sentiment_result, 'N/A'], \n",
    "                                                        [sentiment_score, 'N/A'], \n",
    "                                                        [summary, 'N/A']):\n",
    "            writer.writerow([article, sentiment, scores.tolist() if isinstance(scores, np.ndarray) else scores, summary])"
   ]
  },
  {
   "cell_type": "code",
   "execution_count": null,
   "metadata": {},
   "outputs": [
    {
     "ename": "UnboundLocalError",
     "evalue": "cannot access local variable 'summary' where it is not associated with a value",
     "output_type": "error",
     "traceback": [
      "\u001b[1;31m---------------------------------------------------------------------------\u001b[0m",
      "\u001b[1;31mUnboundLocalError\u001b[0m                         Traceback (most recent call last)",
      "Cell \u001b[1;32mIn[58], line 2\u001b[0m\n\u001b[0;32m      1\u001b[0m \u001b[38;5;66;03m# Call the export function\u001b[39;00m\n\u001b[1;32m----> 2\u001b[0m \u001b[43mexport_results\u001b[49m\u001b[43m(\u001b[49m\u001b[43msentiment_results\u001b[49m\u001b[38;5;241;43m=\u001b[39;49m\u001b[43m[\u001b[49m\u001b[43m(\u001b[49m\u001b[43mnew_article\u001b[49m\u001b[43m,\u001b[49m\u001b[43m \u001b[49m\u001b[43msentiment_result\u001b[49m\u001b[43m,\u001b[49m\u001b[43m \u001b[49m\u001b[43msentiment_score\u001b[49m\u001b[43m)\u001b[49m\u001b[43m]\u001b[49m\u001b[43m,\u001b[49m\u001b[43m \u001b[49m\n\u001b[0;32m      3\u001b[0m \u001b[43m               \u001b[49m\u001b[43msummaries\u001b[49m\u001b[38;5;241;43m=\u001b[39;49m\u001b[43m[\u001b[49m\u001b[43msummary\u001b[49m\u001b[43m]\u001b[49m\u001b[43m)\u001b[49m\n\u001b[0;32m      4\u001b[0m \u001b[38;5;28mprint\u001b[39m(\u001b[38;5;124m\"\u001b[39m\u001b[38;5;124mResults exported to \u001b[39m\u001b[38;5;124m'\u001b[39m\u001b[38;5;124mresults.csv\u001b[39m\u001b[38;5;124m'\u001b[39m\u001b[38;5;124m.\u001b[39m\u001b[38;5;124m\"\u001b[39m)\n",
      "Cell \u001b[1;32mIn[57], line 11\u001b[0m, in \u001b[0;36mexport_results\u001b[1;34m(sentiment_results, summaries)\u001b[0m\n\u001b[0;32m      6\u001b[0m writer \u001b[38;5;241m=\u001b[39m csv\u001b[38;5;241m.\u001b[39mwriter(file)\n\u001b[0;32m      7\u001b[0m writer\u001b[38;5;241m.\u001b[39mwriterow([\u001b[38;5;124m'\u001b[39m\u001b[38;5;124mArticle\u001b[39m\u001b[38;5;124m'\u001b[39m, \u001b[38;5;124m'\u001b[39m\u001b[38;5;124mSentiment\u001b[39m\u001b[38;5;124m'\u001b[39m, \u001b[38;5;124m'\u001b[39m\u001b[38;5;124mSentiment Scores\u001b[39m\u001b[38;5;124m'\u001b[39m, \u001b[38;5;124m'\u001b[39m\u001b[38;5;124mSummary\u001b[39m\u001b[38;5;124m'\u001b[39m])\n\u001b[0;32m      8\u001b[0m \u001b[38;5;28;01mfor\u001b[39;00m article, sentiment, scores, summary \u001b[38;5;129;01min\u001b[39;00m \u001b[38;5;28mzip\u001b[39m([new_article, article_to_summarize], \n\u001b[0;32m      9\u001b[0m                                                 [sentiment_result, \u001b[38;5;124m'\u001b[39m\u001b[38;5;124mN/A\u001b[39m\u001b[38;5;124m'\u001b[39m], \n\u001b[0;32m     10\u001b[0m                                                 [sentiment_score, \u001b[38;5;124m'\u001b[39m\u001b[38;5;124mN/A\u001b[39m\u001b[38;5;124m'\u001b[39m], \n\u001b[1;32m---> 11\u001b[0m                                                 [\u001b[43msummary\u001b[49m, \u001b[38;5;124m'\u001b[39m\u001b[38;5;124mN/A\u001b[39m\u001b[38;5;124m'\u001b[39m]):\n\u001b[0;32m     12\u001b[0m     writer\u001b[38;5;241m.\u001b[39mwriterow([article, sentiment, scores\u001b[38;5;241m.\u001b[39mtolist() \u001b[38;5;28;01mif\u001b[39;00m \u001b[38;5;28misinstance\u001b[39m(scores, np\u001b[38;5;241m.\u001b[39mndarray) \u001b[38;5;28;01melse\u001b[39;00m scores, summary])\n",
      "\u001b[1;31mUnboundLocalError\u001b[0m: cannot access local variable 'summary' where it is not associated with a value"
     ]
    }
   ],
   "source": [
    "# Call the export function\n",
    "export_results(sentiment_results=[(new_article, sentiment_result, sentiment_score)], \n",
    "               summaries=[summary])\n",
    "print(\"Results exported to 'results.csv'.\")"
   ]
  }
 ],
 "metadata": {
  "kernelspec": {
   "display_name": "Python 3",
   "language": "python",
   "name": "python3"
  },
  "language_info": {
   "codemirror_mode": {
    "name": "ipython",
    "version": 3
   },
   "file_extension": ".py",
   "mimetype": "text/x-python",
   "name": "python",
   "nbconvert_exporter": "python",
   "pygments_lexer": "ipython3",
   "version": "3.11.5"
  }
 },
 "nbformat": 4,
 "nbformat_minor": 2
}
