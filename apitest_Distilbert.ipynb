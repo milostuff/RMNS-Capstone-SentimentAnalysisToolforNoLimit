{
 "cells": [
  {
   "cell_type": "code",
   "execution_count": 13,
   "metadata": {},
   "outputs": [
    {
     "name": "stdout",
     "output_type": "stream",
     "text": [
      "Requirement already satisfied: requests in c:\\users\\vian martinez\\appdata\\local\\programs\\python\\python312\\lib\\site-packages (2.32.3)\n",
      "Requirement already satisfied: charset-normalizer<4,>=2 in c:\\users\\vian martinez\\appdata\\local\\programs\\python\\python312\\lib\\site-packages (from requests) (3.4.0)\n",
      "Requirement already satisfied: idna<4,>=2.5 in c:\\users\\vian martinez\\appdata\\local\\programs\\python\\python312\\lib\\site-packages (from requests) (3.10)\n",
      "Requirement already satisfied: urllib3<3,>=1.21.1 in c:\\users\\vian martinez\\appdata\\local\\programs\\python\\python312\\lib\\site-packages (from requests) (2.2.3)\n",
      "Requirement already satisfied: certifi>=2017.4.17 in c:\\users\\vian martinez\\appdata\\local\\programs\\python\\python312\\lib\\site-packages (from requests) (2024.8.30)\n",
      "Note: you may need to restart the kernel to use updated packages.\n"
     ]
    },
    {
     "name": "stderr",
     "output_type": "stream",
     "text": [
      "\n",
      "[notice] A new release of pip is available: 24.2 -> 24.3.1\n",
      "[notice] To update, run: python.exe -m pip install --upgrade pip\n"
     ]
    }
   ],
   "source": [
    "pip install requests"
   ]
  },
  {
   "cell_type": "code",
   "execution_count": 14,
   "metadata": {},
   "outputs": [
    {
     "name": "stdout",
     "output_type": "stream",
     "text": [
      "Requirement already satisfied: torch in c:\\users\\vian martinez\\appdata\\local\\programs\\python\\python312\\lib\\site-packages (2.5.1)\n",
      "Requirement already satisfied: filelock in c:\\users\\vian martinez\\appdata\\local\\programs\\python\\python312\\lib\\site-packages (from torch) (3.16.1)\n",
      "Requirement already satisfied: typing-extensions>=4.8.0 in c:\\users\\vian martinez\\appdata\\local\\programs\\python\\python312\\lib\\site-packages (from torch) (4.12.2)\n",
      "Requirement already satisfied: networkx in c:\\users\\vian martinez\\appdata\\local\\programs\\python\\python312\\lib\\site-packages (from torch) (3.4.2)\n",
      "Requirement already satisfied: jinja2 in c:\\users\\vian martinez\\appdata\\local\\programs\\python\\python312\\lib\\site-packages (from torch) (3.1.4)\n",
      "Requirement already satisfied: fsspec in c:\\users\\vian martinez\\appdata\\local\\programs\\python\\python312\\lib\\site-packages (from torch) (2024.10.0)\n",
      "Requirement already satisfied: setuptools in c:\\users\\vian martinez\\appdata\\local\\programs\\python\\python312\\lib\\site-packages (from torch) (75.3.0)\n",
      "Requirement already satisfied: sympy==1.13.1 in c:\\users\\vian martinez\\appdata\\local\\programs\\python\\python312\\lib\\site-packages (from torch) (1.13.1)\n",
      "Requirement already satisfied: mpmath<1.4,>=1.1.0 in c:\\users\\vian martinez\\appdata\\local\\programs\\python\\python312\\lib\\site-packages (from sympy==1.13.1->torch) (1.3.0)\n",
      "Requirement already satisfied: MarkupSafe>=2.0 in c:\\users\\vian martinez\\appdata\\local\\programs\\python\\python312\\lib\\site-packages (from jinja2->torch) (3.0.2)\n",
      "Note: you may need to restart the kernel to use updated packages.\n"
     ]
    },
    {
     "name": "stderr",
     "output_type": "stream",
     "text": [
      "\n",
      "[notice] A new release of pip is available: 24.2 -> 24.3.1\n",
      "[notice] To update, run: python.exe -m pip install --upgrade pip\n"
     ]
    }
   ],
   "source": [
    "pip install torch"
   ]
  },
  {
   "cell_type": "code",
   "execution_count": 15,
   "metadata": {},
   "outputs": [
    {
     "name": "stdout",
     "output_type": "stream",
     "text": [
      "Requirement already satisfied: transformers in c:\\users\\vian martinez\\appdata\\local\\programs\\python\\python312\\lib\\site-packages (4.46.1)\n",
      "Requirement already satisfied: filelock in c:\\users\\vian martinez\\appdata\\local\\programs\\python\\python312\\lib\\site-packages (from transformers) (3.16.1)\n",
      "Requirement already satisfied: huggingface-hub<1.0,>=0.23.2 in c:\\users\\vian martinez\\appdata\\local\\programs\\python\\python312\\lib\\site-packages (from transformers) (0.26.2)\n",
      "Requirement already satisfied: numpy>=1.17 in c:\\users\\vian martinez\\appdata\\local\\programs\\python\\python312\\lib\\site-packages (from transformers) (2.1.2)\n",
      "Requirement already satisfied: packaging>=20.0 in c:\\users\\vian martinez\\appdata\\roaming\\python\\python312\\site-packages (from transformers) (24.0)\n",
      "Requirement already satisfied: pyyaml>=5.1 in c:\\users\\vian martinez\\appdata\\local\\programs\\python\\python312\\lib\\site-packages (from transformers) (6.0.2)\n",
      "Requirement already satisfied: regex!=2019.12.17 in c:\\users\\vian martinez\\appdata\\local\\programs\\python\\python312\\lib\\site-packages (from transformers) (2024.9.11)\n",
      "Requirement already satisfied: requests in c:\\users\\vian martinez\\appdata\\local\\programs\\python\\python312\\lib\\site-packages (from transformers) (2.32.3)\n",
      "Requirement already satisfied: safetensors>=0.4.1 in c:\\users\\vian martinez\\appdata\\local\\programs\\python\\python312\\lib\\site-packages (from transformers) (0.4.5)\n",
      "Requirement already satisfied: tokenizers<0.21,>=0.20 in c:\\users\\vian martinez\\appdata\\local\\programs\\python\\python312\\lib\\site-packages (from transformers) (0.20.1)\n",
      "Requirement already satisfied: tqdm>=4.27 in c:\\users\\vian martinez\\appdata\\local\\programs\\python\\python312\\lib\\site-packages (from transformers) (4.66.6)\n",
      "Requirement already satisfied: fsspec>=2023.5.0 in c:\\users\\vian martinez\\appdata\\local\\programs\\python\\python312\\lib\\site-packages (from huggingface-hub<1.0,>=0.23.2->transformers) (2024.10.0)\n",
      "Requirement already satisfied: typing-extensions>=3.7.4.3 in c:\\users\\vian martinez\\appdata\\local\\programs\\python\\python312\\lib\\site-packages (from huggingface-hub<1.0,>=0.23.2->transformers) (4.12.2)\n",
      "Requirement already satisfied: colorama in c:\\users\\vian martinez\\appdata\\roaming\\python\\python312\\site-packages (from tqdm>=4.27->transformers) (0.4.6)\n",
      "Requirement already satisfied: charset-normalizer<4,>=2 in c:\\users\\vian martinez\\appdata\\local\\programs\\python\\python312\\lib\\site-packages (from requests->transformers) (3.4.0)\n",
      "Requirement already satisfied: idna<4,>=2.5 in c:\\users\\vian martinez\\appdata\\local\\programs\\python\\python312\\lib\\site-packages (from requests->transformers) (3.10)\n",
      "Requirement already satisfied: urllib3<3,>=1.21.1 in c:\\users\\vian martinez\\appdata\\local\\programs\\python\\python312\\lib\\site-packages (from requests->transformers) (2.2.3)\n",
      "Requirement already satisfied: certifi>=2017.4.17 in c:\\users\\vian martinez\\appdata\\local\\programs\\python\\python312\\lib\\site-packages (from requests->transformers) (2024.8.30)\n",
      "Note: you may need to restart the kernel to use updated packages.\n"
     ]
    },
    {
     "name": "stderr",
     "output_type": "stream",
     "text": [
      "\n",
      "[notice] A new release of pip is available: 24.2 -> 24.3.1\n",
      "[notice] To update, run: python.exe -m pip install --upgrade pip\n"
     ]
    }
   ],
   "source": [
    "pip install transformers"
   ]
  },
  {
   "cell_type": "code",
   "execution_count": 16,
   "metadata": {},
   "outputs": [],
   "source": [
    "import requests\n",
    "import json\n",
    "import torch\n",
    "from transformers import  DistilBertTokenizer, DistilBertForSequenceClassification"
   ]
  },
  {
   "cell_type": "code",
   "execution_count": 17,
   "metadata": {},
   "outputs": [],
   "source": [
    "# API URLs\n",
    "GET_ONM_DATA_API_URL = \"http://174.138.31.241:6178/online-media/compute/getArticle\"\n",
    "MANAGE_ONM_SENTIMENT_URL = \"http://174.138.31.241:6178/online-media/compute/manageSentimentOnArticle\"\n"
   ]
  },
  {
   "cell_type": "code",
   "execution_count": 18,
   "metadata": {},
   "outputs": [],
   "source": [
    "# Load the trained sentiment analysis model and tokenizer\n",
    "MODEL_DIR = \"C:/Users/Vian Martinez/Downloads/distilbert2-20241227T114345Z-001/distilbert2\"\n",
    "TOKENIZER_DIR = \"C:/Users/Vian Martinez/Downloads/distilbert2-20241227T114345Z-001/distilbert2\"\n",
    "device = torch.device(\"cuda\" if torch.cuda.is_available() else \"cpu\")"
   ]
  },
  {
   "cell_type": "code",
   "execution_count": 19,
   "metadata": {},
   "outputs": [],
   "source": [
    "# Load the saved model and tokenizer\n",
    "model = DistilBertForSequenceClassification.from_pretrained(MODEL_DIR).to(device)\n",
    "tokenizer = DistilBertTokenizer.from_pretrained(TOKENIZER_DIR)"
   ]
  },
  {
   "cell_type": "code",
   "execution_count": 20,
   "metadata": {},
   "outputs": [],
   "source": [
    "# Map label indices to sentiments\n",
    "label_map = {0: \"negative\", 1: \"neutral\", 2: \"positive\"}"
   ]
  },
  {
   "cell_type": "code",
   "execution_count": 21,
   "metadata": {},
   "outputs": [],
   "source": [
    "def get_user_input():\n",
    "    print(\"Enter the following details to fetch articles from the API:\")\n",
    "    project_id = input(\"Project ID: \")\n",
    "    clipping_id = input(\"Clipping ID: \")\n",
    "    end_date = input(\"End Date (YYYY-MM-DD HH:MM:SS): \")\n",
    "    start_date = input(\"Start Date (YYYY-MM-DD HH:MM:SS): \")\n",
    "    page = input(\"Page (default 1): \") or \"1\"\n",
    "    limit = input(\"Limit (default 10): \") or \"10\"\n",
    "    validation_list = input(\"Validation List (e.g., unvalidated): \")\n",
    "\n",
    "    # Construct the request body\n",
    "    body = {\n",
    "        \"projectId\": project_id,\n",
    "        \"clippingId\": clipping_id,\n",
    "        \"endDate\": end_date,\n",
    "        \"startDate\": start_date,\n",
    "        \"page\": int(page),\n",
    "        \"limit\": int(limit),\n",
    "        \"validationList\": [validation_list]\n",
    "    }\n",
    "\n",
    "    return body\n"
   ]
  },
  {
   "cell_type": "code",
   "execution_count": 22,
   "metadata": {},
   "outputs": [],
   "source": [
    "def analyze_sentiment(text):\n",
    "    inputs = tokenizer(text, return_tensors=\"pt\", truncation=True, padding=True, max_length=512)\n",
    "    inputs = {key: val.to(device) for key, val in inputs.items()}\n",
    "    with torch.no_grad():\n",
    "        outputs = model(**inputs)\n",
    "    logits = outputs.logits\n",
    "    predicted_label = torch.argmax(logits, dim=1).item()\n",
    "    return label_map[predicted_label]"
   ]
  },
  {
   "cell_type": "code",
   "execution_count": 23,
   "metadata": {},
   "outputs": [],
   "source": [
    "def update_sentiment(api_url, project_id, clipping_id, original_id, start_date, end_date, page, limit, sentiment):\n",
    "    payload = {\n",
    "        \"projectId\": project_id,\n",
    "        \"clippingId\": clipping_id,\n",
    "        \"originalId\": original_id,  \n",
    "        \"startDate\": start_date,\n",
    "        \"endDate\": end_date,\n",
    "        \"page\": page,\n",
    "        \"limit\": limit,\n",
    "        \"validationList\": [\"unvalidated\"],\n",
    "        \"sentiment\": sentiment\n",
    "    }\n",
    "    headers = {\"Content-Type\": \"application/json\"}\n",
    "    try:\n",
    "        response = requests.post(api_url, json=payload, headers=headers)\n",
    "        if response.status_code == 200:\n",
    "            print(f\"Sentiment updated successfully for Original ID {original_id}.\")\n",
    "        else:\n",
    "            print(f\"Failed to update sentiment for Original ID {original_id}. Status Code: {response.status_code}\")\n",
    "            print(f\"Error: {response.text}\")\n",
    "    except Exception as e:\n",
    "        print(f\"An error occurred while updating sentiment for Original ID {original_id}: {e}\")\n"
   ]
  },
  {
   "cell_type": "code",
   "execution_count": 24,
   "metadata": {},
   "outputs": [],
   "source": [
    "def fetch_articles(api_url, body):\n",
    "    headers = {\"Content-Type\": \"application/json\"}\n",
    "    print(\"\\nSending request to the API...\")\n",
    "    print(\"Request Body:\", json.dumps(body, indent=4)) \n",
    "    try:\n",
    "        response = requests.post(api_url, json=body, headers=headers)\n",
    "        if response.status_code == 200:\n",
    "            articles = response.json()\n",
    "            print(\"\\nArticles fetched successfully!\")\n",
    "            \n",
    "            for article in articles:\n",
    "                print(\"\\nAnalyzing sentiment for article:\")\n",
    "                print(f\"Title: {article.get('title', 'No Title Available')}\")\n",
    "                print(f\"Original Sentiment: {article.get('sentiment', 'neutral')}\")\n",
    "\n",
    "                # Analyze sentiment of the content\n",
    "                new_sentiment = analyze_sentiment(article.get('content', ''))\n",
    "                article['sentiment'] = new_sentiment\n",
    "\n",
    "                print(f\"Updated Sentiment: {new_sentiment}\")\n",
    "\n",
    "                # Fetch the `originalId` for updating sentiment\n",
    "                original_id = article.get('original_id')\n",
    "                if not original_id:\n",
    "                    print(\"\\nError: 'originalId' not found in the article data. Skipping...\")\n",
    "                    continue\n",
    "\n",
    "                # Update sentiment using the manageSentimentOnArticle API\n",
    "                update_sentiment(\n",
    "                    MANAGE_ONM_SENTIMENT_URL,\n",
    "                    body[\"projectId\"],\n",
    "                    body[\"clippingId\"],\n",
    "                    original_id,  \n",
    "                    body[\"startDate\"],\n",
    "                    body[\"endDate\"],\n",
    "                    body[\"page\"],\n",
    "                    body[\"limit\"],\n",
    "                    new_sentiment\n",
    "                )\n",
    "            \n",
    "            print(\"\\nAll articles processed successfully.\")\n",
    "        else:\n",
    "            print(f\"\\nFailed to fetch articles. Status Code: {response.status_code}\")\n",
    "            print(f\"Error: {response.text}\")\n",
    "    except Exception as e:\n",
    "        print(f\"\\nAn error occurred: {e}\")\n"
   ]
  },
  {
   "cell_type": "code",
   "execution_count": 25,
   "metadata": {},
   "outputs": [
    {
     "name": "stdout",
     "output_type": "stream",
     "text": [
      "Enter the following details to fetch articles from the API:\n",
      "\n",
      "Sending request to the API...\n",
      "Request Body: {\n",
      "    \"projectId\": \"c960b616-7847-472f-9e16-e47941536fd7\",\n",
      "    \"clippingId\": \"ffdc1ddf-c1d7-48d0-9875-d8f02bf0b291\",\n",
      "    \"endDate\": \"2024-12-15 23:59:59\",\n",
      "    \"startDate\": \"2024-12-15 00:00:00\",\n",
      "    \"page\": 1,\n",
      "    \"limit\": 10,\n",
      "    \"validationList\": [\n",
      "        \"unvalidated\"\n",
      "    ]\n",
      "}\n",
      "\n",
      "Articles fetched successfully!\n",
      "\n",
      "Analyzing sentiment for article:\n",
      "Title: Jelang Libur Natal, Wamenpar Tinjau Kesiapan Pelabuhan Ketapang-Gilimanuk\n",
      "Original Sentiment: neutral\n",
      "Updated Sentiment: neutral\n",
      "Sentiment updated successfully for Original ID 7e8c43ca30c58a22a1267c1b733920b7b9390b7836d97c5995028524df405867.\n",
      "\n",
      "Analyzing sentiment for article:\n",
      "Title: Jelang Nataru, BUMN Pelayaran Tambah Kapasitas Pelabuhan-Dermaga\n",
      "Original Sentiment: neutral\n",
      "Updated Sentiment: neutral\n",
      "Sentiment updated successfully for Original ID f4b1f7ea45e32692d27d8d15d08e45ec3fc7790a5d26d8f69c546c560e9ec201.\n",
      "\n",
      "Analyzing sentiment for article:\n",
      "Title: Suasana Pelabuhan Merak Menjelang Libur Natal-Tahun Baru\n",
      "Original Sentiment: neutral\n",
      "Updated Sentiment: neutral\n",
      "Sentiment updated successfully for Original ID 902a9a9ab7c96b3749c7889ca5ef466dda9b60528d042b3ee7ff3259caded43a.\n",
      "\n",
      "Analyzing sentiment for article:\n",
      "Title: Pastikan Kesiapan Pelayanan Nataru, Jasa Raharja, Kemenhub, dan Korlantas Polri Survei Pelabuhan Merak dan Bakauheni\n",
      "Original Sentiment: neutral\n",
      "Updated Sentiment: neutral\n",
      "Sentiment updated successfully for Original ID dab27a5d60e39623f116605c40919f1afe803e1f7bac03f28147d698d02e6986.\n",
      "\n",
      "Analyzing sentiment for article:\n",
      "Title: Jumlah penumpang diperkirakan meningkat 4,1%, ASDP pastikan kesiapan layanan transit di Nataru\n",
      "Original Sentiment: neutral\n",
      "Updated Sentiment: neutral\n",
      "Sentiment updated successfully for Original ID 396042692d8a6a4140e7e1998f0e6ff8168931caef9b95c0a99244d48dba7357.\n",
      "\n",
      "Analyzing sentiment for article:\n",
      "Title: Penumpang Diprediksi Naik 4,1 Persen, ASDP Pastikan Layanan Penyeberangan Siap di Nataru\n",
      "Original Sentiment: neutral\n",
      "Updated Sentiment: neutral\n",
      "Sentiment updated successfully for Original ID 950dead4222f7ba9d1159962ede72734dfbd236793a6bda0f151452e3aa4eb03.\n",
      "\n",
      "Analyzing sentiment for article:\n",
      "Title: Wamenpar Ni Luh Puspa Tinjau Fasilitas Transportasi Publik Nataru 2025 di Pelabuhan Ketapang Banyuwangi, Ini Kesiapan yang Dilakukan\n",
      "Original Sentiment: neutral\n",
      "Updated Sentiment: neutral\n",
      "Sentiment updated successfully for Original ID 8f615e068c59054e1cbdc7f93f9ce86cf54c3e16f1b8f355084daa1564f7bac1.\n",
      "\n",
      "Analyzing sentiment for article:\n",
      "Title: Wamenpar Tinjau Kesiapan Pelabuhan Ketapang-Gilimanuk Jelang Libur Natal dan Tahun Baru\n",
      "Original Sentiment: neutral\n",
      "Updated Sentiment: neutral\n",
      "Sentiment updated successfully for Original ID b37745bcb2ff7fbcbafe524fb0a3c241cedcf68b6d1ab986b04032426605a6ab.\n",
      "\n",
      "Analyzing sentiment for article:\n",
      "Title: Terbongkarnya Penyelundupan Balok timah di Pelabuhan Tanjung Kalian Disoroti Warga, Pertanyakan Pengawasan oleh Pihak Terkait\n",
      "Original Sentiment: neutral\n",
      "Updated Sentiment: negative\n",
      "Sentiment updated successfully for Original ID 9e41583d7664443f032f77455802b7df7b783471e0dba68f069b0b33ac302120.\n",
      "\n",
      "Analyzing sentiment for article:\n",
      "Title: Persiapan Pelabuhan Gilimanuk Sambut Libur Akhir Tahun\n",
      "Original Sentiment: neutral\n",
      "Updated Sentiment: neutral\n",
      "Sentiment updated successfully for Original ID a0c5471112696ced490215592cdbdaa19fae04562aefa65ffd05470569a205c6.\n",
      "\n",
      "All articles processed successfully.\n"
     ]
    }
   ],
   "source": [
    "if __name__ == \"__main__\":\n",
    "    request_body = get_user_input()\n",
    "    fetch_articles(GET_ONM_DATA_API_URL, request_body)"
   ]
  }
 ],
 "metadata": {
  "kernelspec": {
   "display_name": "Python 3",
   "language": "python",
   "name": "python3"
  },
  "language_info": {
   "codemirror_mode": {
    "name": "ipython",
    "version": 3
   },
   "file_extension": ".py",
   "mimetype": "text/x-python",
   "name": "python",
   "nbconvert_exporter": "python",
   "pygments_lexer": "ipython3",
   "version": "3.12.6"
  }
 },
 "nbformat": 4,
 "nbformat_minor": 2
}
