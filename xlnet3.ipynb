{
 "cells": [
  {
   "cell_type": "code",
   "execution_count": 1,
   "metadata": {},
   "outputs": [
    {
     "name": "stdout",
     "output_type": "stream",
     "text": [
      "WARNING:tensorflow:From c:\\Users\\rache\\AppData\\Local\\Programs\\Python\\Python311\\Lib\\site-packages\\tf_keras\\src\\losses.py:2976: The name tf.losses.sparse_softmax_cross_entropy is deprecated. Please use tf.compat.v1.losses.sparse_softmax_cross_entropy instead.\n",
      "\n"
     ]
    }
   ],
   "source": [
    "import pandas as pd\n",
    "from sklearn.model_selection import train_test_split\n",
    "from transformers import XLNetTokenizer, XLNetForSequenceClassification, Trainer, TrainingArguments, EarlyStoppingCallback\n",
    "import torch\n",
    "import numpy as np\n",
    "from sklearn.metrics import accuracy_score, f1_score, precision_score, recall_score\n",
    "from sklearn.utils.class_weight import compute_class_weight"
   ]
  },
  {
   "cell_type": "code",
   "execution_count": 2,
   "metadata": {},
   "outputs": [],
   "source": [
    "# Clear CUDA cache\n",
    "torch.cuda.empty_cache()\n",
    "\n",
    "# Run garbage collection\n",
    "import gc\n",
    "gc.collect()\n",
    "\n",
    "# Verify the GPU is cleared\n",
    "torch.cuda.empty_cache()"
   ]
  },
  {
   "cell_type": "code",
   "execution_count": 3,
   "metadata": {},
   "outputs": [],
   "source": [
    "# Load the dataset\n",
    "df = pd.read_csv(\"combined_output.csv\", on_bad_lines='skip')"
   ]
  },
  {
   "cell_type": "code",
   "execution_count": 4,
   "metadata": {},
   "outputs": [
    {
     "data": {
      "text/html": [
       "<div>\n",
       "<style scoped>\n",
       "    .dataframe tbody tr th:only-of-type {\n",
       "        vertical-align: middle;\n",
       "    }\n",
       "\n",
       "    .dataframe tbody tr th {\n",
       "        vertical-align: top;\n",
       "    }\n",
       "\n",
       "    .dataframe thead th {\n",
       "        text-align: right;\n",
       "    }\n",
       "</style>\n",
       "<table border=\"1\" class=\"dataframe\">\n",
       "  <thead>\n",
       "    <tr style=\"text-align: right;\">\n",
       "      <th></th>\n",
       "      <th>original_id</th>\n",
       "      <th>source_name</th>\n",
       "      <th>title</th>\n",
       "      <th>url</th>\n",
       "      <th>body</th>\n",
       "      <th>date_published</th>\n",
       "      <th>language</th>\n",
       "      <th>date_modified</th>\n",
       "      <th>author_list</th>\n",
       "      <th>images</th>\n",
       "      <th>description</th>\n",
       "      <th>sentiment</th>\n",
       "      <th>emotions</th>\n",
       "      <th>entities</th>\n",
       "      <th>quotations</th>\n",
       "      <th>prValues</th>\n",
       "      <th>clipping</th>\n",
       "      <th>label</th>\n",
       "      <th>category</th>\n",
       "    </tr>\n",
       "  </thead>\n",
       "  <tbody>\n",
       "    <tr>\n",
       "      <th>0</th>\n",
       "      <td>'5404c9d2fd24852afa122f2cc01cb3acba3c5d05b682d...</td>\n",
       "      <td>'kabargayo.com</td>\n",
       "      <td>'Kredit sepeda motor bisa terbayar jika Anda m...</td>\n",
       "      <td>'https://www.kabargayo.com/2024/09/19/kredit-s...</td>\n",
       "      <td>'Jakarta, VIVA – Pembayaran kredit sepeda moto...</td>\n",
       "      <td>19/09/2024 22.32</td>\n",
       "      <td>'id</td>\n",
       "      <td>19/09/2024 22.32</td>\n",
       "      <td>'Aldi Hadad</td>\n",
       "      <td>'https://i1.wp.com/thumb.viva.co.id/media/fron...</td>\n",
       "      <td>NaN</td>\n",
       "      <td>'positive</td>\n",
       "      <td>NaN</td>\n",
       "      <td>'Hari Pembayaran Berbayar atau Harcilnas 2024,...</td>\n",
       "      <td>NaN</td>\n",
       "      <td>5250000</td>\n",
       "      <td>Adira</td>\n",
       "      <td>NaN</td>\n",
       "      <td>NaN</td>\n",
       "    </tr>\n",
       "    <tr>\n",
       "      <th>1</th>\n",
       "      <td>'e1e3f8d68b58568e8217b7562d48de634fceb0d837135...</td>\n",
       "      <td>'viva.co.id</td>\n",
       "      <td>'Kredit Motor Bisa Lunas Jika Bayar Cicilan Te...</td>\n",
       "      <td>'https://www.viva.co.id/otomotif/tips/1753596-...</td>\n",
       "      <td>'Jakarta, VIVA – Cicilan kredit motor yang ser...</td>\n",
       "      <td>19/09/2024 22.30</td>\n",
       "      <td>'id</td>\n",
       "      <td>19/09/2024 22.30</td>\n",
       "      <td>'Krisna Wicaksono</td>\n",
       "      <td>'https://thumb.viva.co.id/media/frontend/thumb...</td>\n",
       "      <td>NaN</td>\n",
       "      <td>'positive</td>\n",
       "      <td>NaN</td>\n",
       "      <td>'Harinya Cicilan Lunas,2024,PT Adira Dinamika ...</td>\n",
       "      <td>NaN</td>\n",
       "      <td>5250000</td>\n",
       "      <td>Adira</td>\n",
       "      <td>NaN</td>\n",
       "      <td>NaN</td>\n",
       "    </tr>\n",
       "    <tr>\n",
       "      <th>2</th>\n",
       "      <td>'dca74b8fa4eabf60cebfa7b811ecb385872a0fd301eaf...</td>\n",
       "      <td>'kabarmegapolitan.pikiran-rakyat.com</td>\n",
       "      <td>'Adira Finance Umumkan Pemenang HARCILNAS 2024...</td>\n",
       "      <td>'https://kabarmegapolitan.pikiran-rakyat.com/b...</td>\n",
       "      <td>'KABARMEGAPOLITAN.com - PT Adira Dinamika Mult...</td>\n",
       "      <td>19/09/2024 21.45</td>\n",
       "      <td>'id</td>\n",
       "      <td>19/09/2024 21.45</td>\n",
       "      <td>'Yuliansyah</td>\n",
       "      <td>'https://assets.pikiran-rakyat.com/www/network...</td>\n",
       "      <td>NaN</td>\n",
       "      <td>'positive</td>\n",
       "      <td>'HARCILNAS merupakan wujud apresiasi kami kepa...</td>\n",
       "      <td>'PT Adira Dinamika,Cicilan Lunas HARCILNAS,12 ...</td>\n",
       "      <td>(Person :Tania Endah Budhi ,Quote : HARCILNAS ...</td>\n",
       "      <td>5250000</td>\n",
       "      <td>Adira</td>\n",
       "      <td>NaN</td>\n",
       "      <td>NaN</td>\n",
       "    </tr>\n",
       "    <tr>\n",
       "      <th>3</th>\n",
       "      <td>'56c73e2a6d254a17a5cc21dee7ed0b4660c3af70c093b...</td>\n",
       "      <td>'banggairaya.id</td>\n",
       "      <td>'Dapatkan Promo Menarik, Yamaha Prima Motor Ra...</td>\n",
       "      <td>'https://banggairaya.id/dapatkan-promo-menarik...</td>\n",
       "      <td>'BANGGAI RAYA- Yamaha Prima Motor ramaikan pam...</td>\n",
       "      <td>19/09/2024 19.45</td>\n",
       "      <td>'id</td>\n",
       "      <td>19/09/2024 19.45</td>\n",
       "      <td>'Chikal Connect</td>\n",
       "      <td>'https://i0.wp.com/banggairaya.id/wp-content/u...</td>\n",
       "      <td>NaN</td>\n",
       "      <td>'neutral</td>\n",
       "      <td>NaN</td>\n",
       "      <td>'RAYA- Yamaha Prima Motor,Banggai Goverment Ex...</td>\n",
       "      <td>NaN</td>\n",
       "      <td>5250000</td>\n",
       "      <td>Adira</td>\n",
       "      <td>NaN</td>\n",
       "      <td>NaN</td>\n",
       "    </tr>\n",
       "    <tr>\n",
       "      <th>4</th>\n",
       "      <td>'1cd6c6db60224b6ee5f49cd5d6c62cd2850d9f3255721...</td>\n",
       "      <td>'jakarta.tribunnews.com</td>\n",
       "      <td>'Sindikat Penipuan Leasing, Satu Bulan Ajukan ...</td>\n",
       "      <td>'https://jakarta.tribunnews.com/2024/09/19/sin...</td>\n",
       "      <td>'Laporan wartawan TribunJakarta.com Yusuf Bach...</td>\n",
       "      <td>19/09/2024 18.43</td>\n",
       "      <td>'id</td>\n",
       "      <td>19/09/2024 18.43</td>\n",
       "      <td>'Yusuf Bachtiar</td>\n",
       "      <td>'https://asset-2.tstatic.net/jakarta/foto/bank...</td>\n",
       "      <td>NaN</td>\n",
       "      <td>'neutral</td>\n",
       "      <td>'Pelaku ini melakukan pembiayaan pembelian ken...</td>\n",
       "      <td>'Yusuf Bachtiar TRIBUNJAKARTACOM,MEDAN,SATRIA,...</td>\n",
       "      <td>(Person :Dedi ,Quote : Pelaku ini melakukan pe...</td>\n",
       "      <td>5250000</td>\n",
       "      <td>Adira</td>\n",
       "      <td>NaN</td>\n",
       "      <td>NaN</td>\n",
       "    </tr>\n",
       "  </tbody>\n",
       "</table>\n",
       "</div>"
      ],
      "text/plain": [
       "                                         original_id  \\\n",
       "0  '5404c9d2fd24852afa122f2cc01cb3acba3c5d05b682d...   \n",
       "1  'e1e3f8d68b58568e8217b7562d48de634fceb0d837135...   \n",
       "2  'dca74b8fa4eabf60cebfa7b811ecb385872a0fd301eaf...   \n",
       "3  '56c73e2a6d254a17a5cc21dee7ed0b4660c3af70c093b...   \n",
       "4  '1cd6c6db60224b6ee5f49cd5d6c62cd2850d9f3255721...   \n",
       "\n",
       "                            source_name  \\\n",
       "0                        'kabargayo.com   \n",
       "1                           'viva.co.id   \n",
       "2  'kabarmegapolitan.pikiran-rakyat.com   \n",
       "3                       'banggairaya.id   \n",
       "4               'jakarta.tribunnews.com   \n",
       "\n",
       "                                               title  \\\n",
       "0  'Kredit sepeda motor bisa terbayar jika Anda m...   \n",
       "1  'Kredit Motor Bisa Lunas Jika Bayar Cicilan Te...   \n",
       "2  'Adira Finance Umumkan Pemenang HARCILNAS 2024...   \n",
       "3  'Dapatkan Promo Menarik, Yamaha Prima Motor Ra...   \n",
       "4  'Sindikat Penipuan Leasing, Satu Bulan Ajukan ...   \n",
       "\n",
       "                                                 url  \\\n",
       "0  'https://www.kabargayo.com/2024/09/19/kredit-s...   \n",
       "1  'https://www.viva.co.id/otomotif/tips/1753596-...   \n",
       "2  'https://kabarmegapolitan.pikiran-rakyat.com/b...   \n",
       "3  'https://banggairaya.id/dapatkan-promo-menarik...   \n",
       "4  'https://jakarta.tribunnews.com/2024/09/19/sin...   \n",
       "\n",
       "                                                body    date_published  \\\n",
       "0  'Jakarta, VIVA – Pembayaran kredit sepeda moto...  19/09/2024 22.32   \n",
       "1  'Jakarta, VIVA – Cicilan kredit motor yang ser...  19/09/2024 22.30   \n",
       "2  'KABARMEGAPOLITAN.com - PT Adira Dinamika Mult...  19/09/2024 21.45   \n",
       "3  'BANGGAI RAYA- Yamaha Prima Motor ramaikan pam...  19/09/2024 19.45   \n",
       "4  'Laporan wartawan TribunJakarta.com Yusuf Bach...  19/09/2024 18.43   \n",
       "\n",
       "  language     date_modified        author_list  \\\n",
       "0      'id  19/09/2024 22.32        'Aldi Hadad   \n",
       "1      'id  19/09/2024 22.30  'Krisna Wicaksono   \n",
       "2      'id  19/09/2024 21.45        'Yuliansyah   \n",
       "3      'id  19/09/2024 19.45    'Chikal Connect   \n",
       "4      'id  19/09/2024 18.43    'Yusuf Bachtiar   \n",
       "\n",
       "                                              images description  sentiment  \\\n",
       "0  'https://i1.wp.com/thumb.viva.co.id/media/fron...         NaN  'positive   \n",
       "1  'https://thumb.viva.co.id/media/frontend/thumb...         NaN  'positive   \n",
       "2  'https://assets.pikiran-rakyat.com/www/network...         NaN  'positive   \n",
       "3  'https://i0.wp.com/banggairaya.id/wp-content/u...         NaN   'neutral   \n",
       "4  'https://asset-2.tstatic.net/jakarta/foto/bank...         NaN   'neutral   \n",
       "\n",
       "                                            emotions  \\\n",
       "0                                                NaN   \n",
       "1                                                NaN   \n",
       "2  'HARCILNAS merupakan wujud apresiasi kami kepa...   \n",
       "3                                                NaN   \n",
       "4  'Pelaku ini melakukan pembiayaan pembelian ken...   \n",
       "\n",
       "                                            entities  \\\n",
       "0  'Hari Pembayaran Berbayar atau Harcilnas 2024,...   \n",
       "1  'Harinya Cicilan Lunas,2024,PT Adira Dinamika ...   \n",
       "2  'PT Adira Dinamika,Cicilan Lunas HARCILNAS,12 ...   \n",
       "3  'RAYA- Yamaha Prima Motor,Banggai Goverment Ex...   \n",
       "4  'Yusuf Bachtiar TRIBUNJAKARTACOM,MEDAN,SATRIA,...   \n",
       "\n",
       "                                          quotations  prValues clipping label  \\\n",
       "0                                                NaN   5250000    Adira   NaN   \n",
       "1                                                NaN   5250000    Adira   NaN   \n",
       "2  (Person :Tania Endah Budhi ,Quote : HARCILNAS ...   5250000    Adira   NaN   \n",
       "3                                                NaN   5250000    Adira   NaN   \n",
       "4  (Person :Dedi ,Quote : Pelaku ini melakukan pe...   5250000    Adira   NaN   \n",
       "\n",
       "   category  \n",
       "0       NaN  \n",
       "1       NaN  \n",
       "2       NaN  \n",
       "3       NaN  \n",
       "4       NaN  "
      ]
     },
     "execution_count": 4,
     "metadata": {},
     "output_type": "execute_result"
    }
   ],
   "source": [
    "df.head()"
   ]
  },
  {
   "cell_type": "code",
   "execution_count": 5,
   "metadata": {},
   "outputs": [],
   "source": [
    "# Clean extra characters from all columns in the DataFrame\n",
    "for column in df.columns:\n",
    "    if df[column].dtype == 'object':  # Check if the column is of string type\n",
    "        df[column] = df[column].str.strip(\"'\")  # Remove extra characters\n",
    "\n",
    "# Filter relevant columns\n",
    "df_filtered = df[['body', 'sentiment']].dropna()\n"
   ]
  },
  {
   "cell_type": "code",
   "execution_count": 6,
   "metadata": {},
   "outputs": [
    {
     "data": {
      "text/html": [
       "<div>\n",
       "<style scoped>\n",
       "    .dataframe tbody tr th:only-of-type {\n",
       "        vertical-align: middle;\n",
       "    }\n",
       "\n",
       "    .dataframe tbody tr th {\n",
       "        vertical-align: top;\n",
       "    }\n",
       "\n",
       "    .dataframe thead th {\n",
       "        text-align: right;\n",
       "    }\n",
       "</style>\n",
       "<table border=\"1\" class=\"dataframe\">\n",
       "  <thead>\n",
       "    <tr style=\"text-align: right;\">\n",
       "      <th></th>\n",
       "      <th>original_id</th>\n",
       "      <th>source_name</th>\n",
       "      <th>title</th>\n",
       "      <th>url</th>\n",
       "      <th>body</th>\n",
       "      <th>date_published</th>\n",
       "      <th>language</th>\n",
       "      <th>date_modified</th>\n",
       "      <th>author_list</th>\n",
       "      <th>images</th>\n",
       "      <th>description</th>\n",
       "      <th>sentiment</th>\n",
       "      <th>emotions</th>\n",
       "      <th>entities</th>\n",
       "      <th>quotations</th>\n",
       "      <th>prValues</th>\n",
       "      <th>clipping</th>\n",
       "      <th>label</th>\n",
       "      <th>category</th>\n",
       "    </tr>\n",
       "  </thead>\n",
       "  <tbody>\n",
       "    <tr>\n",
       "      <th>0</th>\n",
       "      <td>5404c9d2fd24852afa122f2cc01cb3acba3c5d05b682d4...</td>\n",
       "      <td>kabargayo.com</td>\n",
       "      <td>Kredit sepeda motor bisa terbayar jika Anda me...</td>\n",
       "      <td>https://www.kabargayo.com/2024/09/19/kredit-se...</td>\n",
       "      <td>Jakarta, VIVA – Pembayaran kredit sepeda motor...</td>\n",
       "      <td>19/09/2024 22.32</td>\n",
       "      <td>id</td>\n",
       "      <td>19/09/2024 22.32</td>\n",
       "      <td>Aldi Hadad</td>\n",
       "      <td>https://i1.wp.com/thumb.viva.co.id/media/front...</td>\n",
       "      <td>NaN</td>\n",
       "      <td>positive</td>\n",
       "      <td>NaN</td>\n",
       "      <td>Hari Pembayaran Berbayar atau Harcilnas 2024,P...</td>\n",
       "      <td>NaN</td>\n",
       "      <td>5250000</td>\n",
       "      <td>Adira</td>\n",
       "      <td>NaN</td>\n",
       "      <td>NaN</td>\n",
       "    </tr>\n",
       "    <tr>\n",
       "      <th>1</th>\n",
       "      <td>e1e3f8d68b58568e8217b7562d48de634fceb0d8371356...</td>\n",
       "      <td>viva.co.id</td>\n",
       "      <td>Kredit Motor Bisa Lunas Jika Bayar Cicilan Tep...</td>\n",
       "      <td>https://www.viva.co.id/otomotif/tips/1753596-k...</td>\n",
       "      <td>Jakarta, VIVA – Cicilan kredit motor yang seri...</td>\n",
       "      <td>19/09/2024 22.30</td>\n",
       "      <td>id</td>\n",
       "      <td>19/09/2024 22.30</td>\n",
       "      <td>Krisna Wicaksono</td>\n",
       "      <td>https://thumb.viva.co.id/media/frontend/thumbs...</td>\n",
       "      <td>NaN</td>\n",
       "      <td>positive</td>\n",
       "      <td>NaN</td>\n",
       "      <td>Harinya Cicilan Lunas,2024,PT Adira Dinamika M...</td>\n",
       "      <td>NaN</td>\n",
       "      <td>5250000</td>\n",
       "      <td>Adira</td>\n",
       "      <td>NaN</td>\n",
       "      <td>NaN</td>\n",
       "    </tr>\n",
       "    <tr>\n",
       "      <th>2</th>\n",
       "      <td>dca74b8fa4eabf60cebfa7b811ecb385872a0fd301eaf5...</td>\n",
       "      <td>kabarmegapolitan.pikiran-rakyat.com</td>\n",
       "      <td>Adira Finance Umumkan Pemenang HARCILNAS 2024:...</td>\n",
       "      <td>https://kabarmegapolitan.pikiran-rakyat.com/bi...</td>\n",
       "      <td>KABARMEGAPOLITAN.com - PT Adira Dinamika Multi...</td>\n",
       "      <td>19/09/2024 21.45</td>\n",
       "      <td>id</td>\n",
       "      <td>19/09/2024 21.45</td>\n",
       "      <td>Yuliansyah</td>\n",
       "      <td>https://assets.pikiran-rakyat.com/www/network/...</td>\n",
       "      <td>NaN</td>\n",
       "      <td>positive</td>\n",
       "      <td>HARCILNAS merupakan wujud apresiasi kami kepad...</td>\n",
       "      <td>PT Adira Dinamika,Cicilan Lunas HARCILNAS,12 p...</td>\n",
       "      <td>(Person :Tania Endah Budhi ,Quote : HARCILNAS ...</td>\n",
       "      <td>5250000</td>\n",
       "      <td>Adira</td>\n",
       "      <td>NaN</td>\n",
       "      <td>NaN</td>\n",
       "    </tr>\n",
       "    <tr>\n",
       "      <th>3</th>\n",
       "      <td>56c73e2a6d254a17a5cc21dee7ed0b4660c3af70c093b2...</td>\n",
       "      <td>banggairaya.id</td>\n",
       "      <td>Dapatkan Promo Menarik, Yamaha Prima Motor Ram...</td>\n",
       "      <td>https://banggairaya.id/dapatkan-promo-menarik-...</td>\n",
       "      <td>BANGGAI RAYA- Yamaha Prima Motor ramaikan pame...</td>\n",
       "      <td>19/09/2024 19.45</td>\n",
       "      <td>id</td>\n",
       "      <td>19/09/2024 19.45</td>\n",
       "      <td>Chikal Connect</td>\n",
       "      <td>https://i0.wp.com/banggairaya.id/wp-content/up...</td>\n",
       "      <td>NaN</td>\n",
       "      <td>neutral</td>\n",
       "      <td>NaN</td>\n",
       "      <td>RAYA- Yamaha Prima Motor,Banggai Goverment Exp...</td>\n",
       "      <td>NaN</td>\n",
       "      <td>5250000</td>\n",
       "      <td>Adira</td>\n",
       "      <td>NaN</td>\n",
       "      <td>NaN</td>\n",
       "    </tr>\n",
       "    <tr>\n",
       "      <th>4</th>\n",
       "      <td>1cd6c6db60224b6ee5f49cd5d6c62cd2850d9f3255721d...</td>\n",
       "      <td>jakarta.tribunnews.com</td>\n",
       "      <td>Sindikat Penipuan Leasing, Satu Bulan Ajukan K...</td>\n",
       "      <td>https://jakarta.tribunnews.com/2024/09/19/sind...</td>\n",
       "      <td>Laporan wartawan TribunJakarta.com Yusuf Bacht...</td>\n",
       "      <td>19/09/2024 18.43</td>\n",
       "      <td>id</td>\n",
       "      <td>19/09/2024 18.43</td>\n",
       "      <td>Yusuf Bachtiar</td>\n",
       "      <td>https://asset-2.tstatic.net/jakarta/foto/bank/...</td>\n",
       "      <td>NaN</td>\n",
       "      <td>neutral</td>\n",
       "      <td>Pelaku ini melakukan pembiayaan pembelian kend...</td>\n",
       "      <td>Yusuf Bachtiar TRIBUNJAKARTACOM,MEDAN,SATRIA,T...</td>\n",
       "      <td>(Person :Dedi ,Quote : Pelaku ini melakukan pe...</td>\n",
       "      <td>5250000</td>\n",
       "      <td>Adira</td>\n",
       "      <td>NaN</td>\n",
       "      <td>NaN</td>\n",
       "    </tr>\n",
       "  </tbody>\n",
       "</table>\n",
       "</div>"
      ],
      "text/plain": [
       "                                         original_id  \\\n",
       "0  5404c9d2fd24852afa122f2cc01cb3acba3c5d05b682d4...   \n",
       "1  e1e3f8d68b58568e8217b7562d48de634fceb0d8371356...   \n",
       "2  dca74b8fa4eabf60cebfa7b811ecb385872a0fd301eaf5...   \n",
       "3  56c73e2a6d254a17a5cc21dee7ed0b4660c3af70c093b2...   \n",
       "4  1cd6c6db60224b6ee5f49cd5d6c62cd2850d9f3255721d...   \n",
       "\n",
       "                           source_name  \\\n",
       "0                        kabargayo.com   \n",
       "1                           viva.co.id   \n",
       "2  kabarmegapolitan.pikiran-rakyat.com   \n",
       "3                       banggairaya.id   \n",
       "4               jakarta.tribunnews.com   \n",
       "\n",
       "                                               title  \\\n",
       "0  Kredit sepeda motor bisa terbayar jika Anda me...   \n",
       "1  Kredit Motor Bisa Lunas Jika Bayar Cicilan Tep...   \n",
       "2  Adira Finance Umumkan Pemenang HARCILNAS 2024:...   \n",
       "3  Dapatkan Promo Menarik, Yamaha Prima Motor Ram...   \n",
       "4  Sindikat Penipuan Leasing, Satu Bulan Ajukan K...   \n",
       "\n",
       "                                                 url  \\\n",
       "0  https://www.kabargayo.com/2024/09/19/kredit-se...   \n",
       "1  https://www.viva.co.id/otomotif/tips/1753596-k...   \n",
       "2  https://kabarmegapolitan.pikiran-rakyat.com/bi...   \n",
       "3  https://banggairaya.id/dapatkan-promo-menarik-...   \n",
       "4  https://jakarta.tribunnews.com/2024/09/19/sind...   \n",
       "\n",
       "                                                body    date_published  \\\n",
       "0  Jakarta, VIVA – Pembayaran kredit sepeda motor...  19/09/2024 22.32   \n",
       "1  Jakarta, VIVA – Cicilan kredit motor yang seri...  19/09/2024 22.30   \n",
       "2  KABARMEGAPOLITAN.com - PT Adira Dinamika Multi...  19/09/2024 21.45   \n",
       "3  BANGGAI RAYA- Yamaha Prima Motor ramaikan pame...  19/09/2024 19.45   \n",
       "4  Laporan wartawan TribunJakarta.com Yusuf Bacht...  19/09/2024 18.43   \n",
       "\n",
       "  language     date_modified       author_list  \\\n",
       "0       id  19/09/2024 22.32        Aldi Hadad   \n",
       "1       id  19/09/2024 22.30  Krisna Wicaksono   \n",
       "2       id  19/09/2024 21.45        Yuliansyah   \n",
       "3       id  19/09/2024 19.45    Chikal Connect   \n",
       "4       id  19/09/2024 18.43    Yusuf Bachtiar   \n",
       "\n",
       "                                              images description sentiment  \\\n",
       "0  https://i1.wp.com/thumb.viva.co.id/media/front...         NaN  positive   \n",
       "1  https://thumb.viva.co.id/media/frontend/thumbs...         NaN  positive   \n",
       "2  https://assets.pikiran-rakyat.com/www/network/...         NaN  positive   \n",
       "3  https://i0.wp.com/banggairaya.id/wp-content/up...         NaN   neutral   \n",
       "4  https://asset-2.tstatic.net/jakarta/foto/bank/...         NaN   neutral   \n",
       "\n",
       "                                            emotions  \\\n",
       "0                                                NaN   \n",
       "1                                                NaN   \n",
       "2  HARCILNAS merupakan wujud apresiasi kami kepad...   \n",
       "3                                                NaN   \n",
       "4  Pelaku ini melakukan pembiayaan pembelian kend...   \n",
       "\n",
       "                                            entities  \\\n",
       "0  Hari Pembayaran Berbayar atau Harcilnas 2024,P...   \n",
       "1  Harinya Cicilan Lunas,2024,PT Adira Dinamika M...   \n",
       "2  PT Adira Dinamika,Cicilan Lunas HARCILNAS,12 p...   \n",
       "3  RAYA- Yamaha Prima Motor,Banggai Goverment Exp...   \n",
       "4  Yusuf Bachtiar TRIBUNJAKARTACOM,MEDAN,SATRIA,T...   \n",
       "\n",
       "                                          quotations  prValues clipping label  \\\n",
       "0                                                NaN   5250000    Adira   NaN   \n",
       "1                                                NaN   5250000    Adira   NaN   \n",
       "2  (Person :Tania Endah Budhi ,Quote : HARCILNAS ...   5250000    Adira   NaN   \n",
       "3                                                NaN   5250000    Adira   NaN   \n",
       "4  (Person :Dedi ,Quote : Pelaku ini melakukan pe...   5250000    Adira   NaN   \n",
       "\n",
       "   category  \n",
       "0       NaN  \n",
       "1       NaN  \n",
       "2       NaN  \n",
       "3       NaN  \n",
       "4       NaN  "
      ]
     },
     "execution_count": 6,
     "metadata": {},
     "output_type": "execute_result"
    }
   ],
   "source": [
    "df.head()"
   ]
  },
  {
   "cell_type": "code",
   "execution_count": 7,
   "metadata": {},
   "outputs": [],
   "source": [
    "# Balance dataset classes\n",
    "class_counts = df_filtered['sentiment'].value_counts()\n",
    "min_class = class_counts.min()\n",
    "df_balanced = df_filtered.groupby('sentiment').apply(lambda x: x.sample(min_class)).reset_index(drop=True)"
   ]
  },
  {
   "cell_type": "code",
   "execution_count": 8,
   "metadata": {},
   "outputs": [],
   "source": [
    "# Ensure balanced classes during split\n",
    "train_texts, val_texts, train_labels, val_labels = train_test_split(\n",
    "    df_filtered['body'].tolist(), df_filtered['sentiment'].tolist(),\n",
    "    test_size=0.2, random_state=42, stratify=df_filtered['sentiment']\n",
    ")"
   ]
  },
  {
   "cell_type": "code",
   "execution_count": 9,
   "metadata": {},
   "outputs": [],
   "source": [
    "\n",
    "# Load tokenizer and tokenize texts\n",
    "tokenizer = XLNetTokenizer.from_pretrained(\"xlnet-base-cased\")\n",
    "train_encodings = tokenizer(train_texts, truncation=True, padding=True, max_length=512)\n",
    "val_encodings = tokenizer(val_texts, truncation=True, padding=True, max_length=512)\n"
   ]
  },
  {
   "cell_type": "code",
   "execution_count": 10,
   "metadata": {},
   "outputs": [],
   "source": [
    "# Map sentiment labels to integers\n",
    "label_mapping = {'positive': 2, 'neutral': 1, 'negative': 0}\n",
    "train_labels = [label_mapping[label] for label in train_labels]\n",
    "val_labels = [label_mapping[label] for label in val_labels]"
   ]
  },
  {
   "cell_type": "code",
   "execution_count": 11,
   "metadata": {},
   "outputs": [],
   "source": [
    "class SentimentDataset(torch.utils.data.Dataset):\n",
    "    def __init__(self, encodings, labels):\n",
    "        self.encodings = encodings\n",
    "        self.labels = labels\n",
    "\n",
    "    def __getitem__(self, idx):\n",
    "        item = {key: torch.tensor(val[idx]) for key, val in self.encodings.items()}\n",
    "        item['labels'] = torch.tensor(self.labels[idx])\n",
    "        return item\n",
    "\n",
    "    def __len__(self):\n",
    "        return len(self.labels)\n"
   ]
  },
  {
   "cell_type": "code",
   "execution_count": 12,
   "metadata": {},
   "outputs": [],
   "source": [
    "# Create datasets\n",
    "train_dataset = SentimentDataset(train_encodings, train_labels)\n",
    "val_dataset = SentimentDataset(val_encodings, val_labels)"
   ]
  },
  {
   "cell_type": "code",
   "execution_count": 13,
   "metadata": {},
   "outputs": [
    {
     "name": "stdout",
     "output_type": "stream",
     "text": [
      "Using device: cuda\n"
     ]
    }
   ],
   "source": [
    "# Check if GPU is available\n",
    "device = \"cuda\" if torch.cuda.is_available() else \"cpu\"\n",
    "print(f\"Using device: {device}\")"
   ]
  },
  {
   "cell_type": "code",
   "execution_count": 14,
   "metadata": {},
   "outputs": [
    {
     "name": "stderr",
     "output_type": "stream",
     "text": [
      "Some weights of XLNetForSequenceClassification were not initialized from the model checkpoint at xlnet-base-cased and are newly initialized: ['logits_proj.bias', 'logits_proj.weight', 'sequence_summary.summary.bias', 'sequence_summary.summary.weight']\n",
      "You should probably TRAIN this model on a down-stream task to be able to use it for predictions and inference.\n"
     ]
    }
   ],
   "source": [
    "# Load XLNet model for sequence classification\n",
    "model = XLNetForSequenceClassification.from_pretrained(\"xlnet-base-cased\", num_labels=3)"
   ]
  },
  {
   "cell_type": "code",
   "execution_count": 15,
   "metadata": {},
   "outputs": [],
   "source": [
    "class_weights = compute_class_weight('balanced', classes=np.unique(train_labels), y=train_labels)\n",
    "class_weights = torch.tensor(class_weights, dtype=torch.float).to(device)\n",
    "\n",
    "# Adjust model's loss function to include class weights\n",
    "model.config.problem_type = \"single_label_classification\"\n",
    "model.config.class_weights = class_weights.tolist()"
   ]
  },
  {
   "cell_type": "code",
   "execution_count": 16,
   "metadata": {},
   "outputs": [],
   "source": [
    "from sklearn.metrics import accuracy_score\n",
    "import numpy as np\n",
    "\n",
    "def compute_metrics(eval_pred):\n",
    "    logits, labels = eval_pred\n",
    "    preds = np.argmax(logits, axis=-1)\n",
    "    acc = accuracy_score(labels, preds)\n",
    "    return {'eval_accuracy': acc}\n"
   ]
  },
  {
   "cell_type": "code",
   "execution_count": 17,
   "metadata": {},
   "outputs": [
    {
     "name": "stderr",
     "output_type": "stream",
     "text": [
      "c:\\Users\\rache\\AppData\\Local\\Programs\\Python\\Python311\\Lib\\site-packages\\transformers\\training_args.py:1545: FutureWarning: `evaluation_strategy` is deprecated and will be removed in version 4.46 of 🤗 Transformers. Use `eval_strategy` instead\n",
      "  warnings.warn(\n"
     ]
    }
   ],
   "source": [
    "training_args = TrainingArguments(\n",
    "    output_dir=\"./results\",\n",
    "    evaluation_strategy=\"steps\",  # Evaluate more frequently\n",
    "    eval_steps=200,              # Adjust based on dataset size\n",
    "    save_strategy=\"steps\",\n",
    "    save_steps=200,\n",
    "    per_device_train_batch_size=8,  # Lower batch size for better generalization\n",
    "    per_device_eval_batch_size=16,\n",
    "    gradient_accumulation_steps=2,  # Simulates a larger batch size\n",
    "    num_train_epochs=6,            # Train for more epochs\n",
    "    learning_rate=1e-5,            # Lower learning rate for better fine-tuning\n",
    "    weight_decay=0.01,\n",
    "    warmup_steps=500,              # Gradual learning rate increase\n",
    "    logging_dir=\"./logs\",\n",
    "    logging_steps=50,\n",
    "    save_total_limit=2,\n",
    "    load_best_model_at_end=True,\n",
    "    metric_for_best_model=\"eval_accuracy\",\n",
    "    greater_is_better=True,\n",
    "    lr_scheduler_type=\"cosine_with_restarts\",  # More effective for fine-tuning\n",
    "    fp16=True,                   # Enable mixed precision training\n",
    ")\n"
   ]
  },
  {
   "cell_type": "code",
   "execution_count": 18,
   "metadata": {},
   "outputs": [],
   "source": [
    "from transformers import Trainer\n",
    "\n",
    "trainer = Trainer(\n",
    "    model=model,\n",
    "    args=training_args,\n",
    "    train_dataset=train_dataset,\n",
    "    eval_dataset=val_dataset,\n",
    "    tokenizer=tokenizer,\n",
    "    compute_metrics=compute_metrics,  # Include custom metrics\n",
    ")\n"
   ]
  },
  {
   "cell_type": "code",
   "execution_count": 19,
   "metadata": {},
   "outputs": [],
   "source": [
    "import torch\n",
    "\n",
    "torch.cuda.empty_cache()\n",
    "torch.cuda.reset_peak_memory_stats()"
   ]
  },
  {
   "cell_type": "code",
   "execution_count": 20,
   "metadata": {},
   "outputs": [
    {
     "data": {
      "application/vnd.jupyter.widget-view+json": {
       "model_id": "bf615606f7164a1ca20538a7b036950d",
       "version_major": 2,
       "version_minor": 0
      },
      "text/plain": [
       "  0%|          | 0/1800 [00:00<?, ?it/s]"
      ]
     },
     "metadata": {},
     "output_type": "display_data"
    },
    {
     "name": "stdout",
     "output_type": "stream",
     "text": [
      "{'loss': 1.0472, 'grad_norm': 18.638700485229492, 'learning_rate': 1.8922222222222224e-05, 'epoch': 0.22}\n",
      "{'loss': 0.8686, 'grad_norm': 19.8570556640625, 'learning_rate': 1.7811111111111112e-05, 'epoch': 0.44}\n",
      "{'loss': 0.7459, 'grad_norm': 19.30426597595215, 'learning_rate': 1.67e-05, 'epoch': 0.67}\n",
      "{'loss': 0.7409, 'grad_norm': 13.437138557434082, 'learning_rate': 1.558888888888889e-05, 'epoch': 0.89}\n"
     ]
    },
    {
     "data": {
      "application/vnd.jupyter.widget-view+json": {
       "model_id": "948cae57c703437f83a7e407fc52a8ae",
       "version_major": 2,
       "version_minor": 0
      },
      "text/plain": [
       "  0%|          | 0/57 [00:00<?, ?it/s]"
      ]
     },
     "metadata": {},
     "output_type": "display_data"
    },
    {
     "name": "stdout",
     "output_type": "stream",
     "text": [
      "{'eval_accuracy': 0.7179344808439756, 'eval_loss': 0.6741003394126892, 'eval_runtime': 360.7419, 'eval_samples_per_second': 4.992, 'eval_steps_per_second': 0.158, 'epoch': 1.0}\n",
      "{'loss': 0.6517, 'grad_norm': 15.205403327941895, 'learning_rate': 1.447777777777778e-05, 'epoch': 1.11}\n",
      "{'loss': 0.5937, 'grad_norm': 11.223296165466309, 'learning_rate': 1.3366666666666669e-05, 'epoch': 1.33}\n",
      "{'loss': 0.5848, 'grad_norm': 17.775564193725586, 'learning_rate': 1.2255555555555556e-05, 'epoch': 1.56}\n",
      "{'loss': 0.5825, 'grad_norm': 16.878305435180664, 'learning_rate': 1.1144444444444445e-05, 'epoch': 1.78}\n",
      "{'loss': 0.5773, 'grad_norm': 17.598421096801758, 'learning_rate': 1.0044444444444446e-05, 'epoch': 2.0}\n"
     ]
    },
    {
     "data": {
      "application/vnd.jupyter.widget-view+json": {
       "model_id": "c92c894a10ec4828a3bd35a3a4be9b23",
       "version_major": 2,
       "version_minor": 0
      },
      "text/plain": [
       "  0%|          | 0/57 [00:00<?, ?it/s]"
      ]
     },
     "metadata": {},
     "output_type": "display_data"
    },
    {
     "name": "stdout",
     "output_type": "stream",
     "text": [
      "{'eval_accuracy': 0.7445863409217102, 'eval_loss': 0.6423030495643616, 'eval_runtime': 361.0947, 'eval_samples_per_second': 4.988, 'eval_steps_per_second': 0.158, 'epoch': 2.0}\n",
      "{'loss': 0.4558, 'grad_norm': 12.489052772521973, 'learning_rate': 8.933333333333333e-06, 'epoch': 2.22}\n",
      "{'loss': 0.4652, 'grad_norm': 12.065128326416016, 'learning_rate': 7.822222222222224e-06, 'epoch': 2.44}\n",
      "{'loss': 0.4915, 'grad_norm': 16.34526824951172, 'learning_rate': 6.711111111111111e-06, 'epoch': 2.67}\n",
      "{'loss': 0.487, 'grad_norm': 15.237283706665039, 'learning_rate': 5.600000000000001e-06, 'epoch': 2.89}\n"
     ]
    },
    {
     "data": {
      "application/vnd.jupyter.widget-view+json": {
       "model_id": "b95f2ff81ff64a9393515a2f1f010d3b",
       "version_major": 2,
       "version_minor": 0
      },
      "text/plain": [
       "  0%|          | 0/57 [00:00<?, ?it/s]"
      ]
     },
     "metadata": {},
     "output_type": "display_data"
    },
    {
     "name": "stdout",
     "output_type": "stream",
     "text": [
      "{'eval_accuracy': 0.7684619655746807, 'eval_loss': 0.579537570476532, 'eval_runtime': 359.8464, 'eval_samples_per_second': 5.005, 'eval_steps_per_second': 0.158, 'epoch': 3.0}\n",
      "{'loss': 0.4446, 'grad_norm': 22.059194564819336, 'learning_rate': 4.488888888888889e-06, 'epoch': 3.11}\n",
      "{'loss': 0.3964, 'grad_norm': 16.094192504882812, 'learning_rate': 3.377777777777778e-06, 'epoch': 3.33}\n",
      "{'loss': 0.3887, 'grad_norm': 20.18824005126953, 'learning_rate': 2.266666666666667e-06, 'epoch': 3.56}\n",
      "{'loss': 0.3723, 'grad_norm': 13.33903694152832, 'learning_rate': 1.1666666666666668e-06, 'epoch': 3.78}\n",
      "{'loss': 0.3921, 'grad_norm': 34.81520080566406, 'learning_rate': 5.555555555555556e-08, 'epoch': 4.0}\n"
     ]
    },
    {
     "data": {
      "application/vnd.jupyter.widget-view+json": {
       "model_id": "bf92d2bfbe3f49ddafb5da10da097bd6",
       "version_major": 2,
       "version_minor": 0
      },
      "text/plain": [
       "  0%|          | 0/57 [00:00<?, ?it/s]"
      ]
     },
     "metadata": {},
     "output_type": "display_data"
    },
    {
     "name": "stdout",
     "output_type": "stream",
     "text": [
      "{'eval_accuracy': 0.7712382009994447, 'eval_loss': 0.6496511697769165, 'eval_runtime': 362.0603, 'eval_samples_per_second': 4.974, 'eval_steps_per_second': 0.157, 'epoch': 4.0}\n",
      "{'train_runtime': 16599.3214, 'train_samples_per_second': 1.735, 'train_steps_per_second': 0.108, 'train_loss': 0.5714531347486708, 'epoch': 4.0}\n"
     ]
    },
    {
     "data": {
      "text/plain": [
       "TrainOutput(global_step=1800, training_loss=0.5714531347486708, metrics={'train_runtime': 16599.3214, 'train_samples_per_second': 1.735, 'train_steps_per_second': 0.108, 'total_flos': 8204620087296000.0, 'train_loss': 0.5714531347486708, 'epoch': 4.0})"
      ]
     },
     "execution_count": 20,
     "metadata": {},
     "output_type": "execute_result"
    }
   ],
   "source": [
    "# Train the model\n",
    "trainer.train()"
   ]
  },
  {
   "cell_type": "code",
   "execution_count": 21,
   "metadata": {},
   "outputs": [
    {
     "name": "stdout",
     "output_type": "stream",
     "text": [
      "Number of training examples: 7200\n",
      "Batch size: 16\n"
     ]
    }
   ],
   "source": [
    "print(f\"Number of training examples: {len(train_dataset)}\")\n",
    "print(f\"Batch size: {training_args.per_device_train_batch_size}\")\n"
   ]
  },
  {
   "cell_type": "code",
   "execution_count": 22,
   "metadata": {},
   "outputs": [
    {
     "data": {
      "text/plain": [
       "('./xlnet_model2\\\\tokenizer_config.json',\n",
       " './xlnet_model2\\\\special_tokens_map.json',\n",
       " './xlnet_model2\\\\spiece.model',\n",
       " './xlnet_model2\\\\added_tokens.json')"
      ]
     },
     "execution_count": 22,
     "metadata": {},
     "output_type": "execute_result"
    }
   ],
   "source": [
    "# Save the trained model and tokenizer\n",
    "model.save_pretrained('./xlnet_model3')\n",
    "tokenizer.save_pretrained('./xlnet_model3')"
   ]
  },
  {
   "cell_type": "code",
   "execution_count": 23,
   "metadata": {},
   "outputs": [
    {
     "data": {
      "application/vnd.jupyter.widget-view+json": {
       "model_id": "76139f1fa87b439cb6ac7f4e6a8cd859",
       "version_major": 2,
       "version_minor": 0
      },
      "text/plain": [
       "  0%|          | 0/57 [00:00<?, ?it/s]"
      ]
     },
     "metadata": {},
     "output_type": "display_data"
    }
   ],
   "source": [
    "# Evaluate the model\n",
    "results = trainer.evaluate()"
   ]
  },
  {
   "cell_type": "code",
   "execution_count": 24,
   "metadata": {},
   "outputs": [
    {
     "name": "stdout",
     "output_type": "stream",
     "text": [
      "{'eval_accuracy': 0.7712382009994447, 'eval_loss': 0.6496511697769165, 'eval_runtime': 362.6635, 'eval_samples_per_second': 4.966, 'eval_steps_per_second': 0.157, 'epoch': 4.0}\n"
     ]
    }
   ],
   "source": [
    "print(results)"
   ]
  },
  {
   "cell_type": "code",
   "execution_count": 25,
   "metadata": {},
   "outputs": [
    {
     "data": {
      "application/vnd.jupyter.widget-view+json": {
       "model_id": "47e4a8eb230a49d7bb342e3cc2b07338",
       "version_major": 2,
       "version_minor": 0
      },
      "text/plain": [
       "  0%|          | 0/57 [00:00<?, ?it/s]"
      ]
     },
     "metadata": {},
     "output_type": "display_data"
    },
    {
     "name": "stdout",
     "output_type": "stream",
     "text": [
      "Accuracy: 0.7712\n",
      "F1 Score: 0.7697\n",
      "Precision: 0.7710\n",
      "Recall: 0.7712\n",
      "\n",
      "Classification Report:\n",
      "              precision    recall  f1-score   support\n",
      "\n",
      "           0       0.76      0.63      0.69       338\n",
      "           1       0.78      0.80      0.79       836\n",
      "           2       0.77      0.80      0.78       627\n",
      "\n",
      "    accuracy                           0.77      1801\n",
      "   macro avg       0.77      0.75      0.76      1801\n",
      "weighted avg       0.77      0.77      0.77      1801\n",
      "\n"
     ]
    }
   ],
   "source": [
    "from sklearn.metrics import accuracy_score, f1_score, precision_score, recall_score, classification_report\n",
    "\n",
    "# After training, get predictions on the validation dataset\n",
    "predictions = trainer.predict(val_dataset)\n",
    "\n",
    "# Get the predicted logits\n",
    "logits = predictions.predictions\n",
    "\n",
    "# Convert logits to predicted class labels\n",
    "predicted_labels = np.argmax(logits, axis=1)\n",
    "\n",
    "# Get the true labels\n",
    "true_labels = val_labels\n",
    "\n",
    "# Calculate evaluation metrics\n",
    "accuracy = accuracy_score(true_labels, predicted_labels)\n",
    "f1 = f1_score(true_labels, predicted_labels, average='weighted')\n",
    "precision = precision_score(true_labels, predicted_labels, average='weighted')\n",
    "recall = recall_score(true_labels, predicted_labels, average='weighted')\n",
    "\n",
    "# Display metrics\n",
    "print(f\"Accuracy: {accuracy:.4f}\")\n",
    "print(f\"F1 Score: {f1:.4f}\")\n",
    "print(f\"Precision: {precision:.4f}\")\n",
    "print(f\"Recall: {recall:.4f}\")\n",
    "\n",
    "# Detailed classification report\n",
    "print(\"\\nClassification Report:\")\n",
    "print(classification_report(true_labels, predicted_labels))\n"
   ]
  },
  {
   "cell_type": "code",
   "execution_count": 26,
   "metadata": {},
   "outputs": [
    {
     "name": "stdout",
     "output_type": "stream",
     "text": [
      "Using device: cuda\n"
     ]
    }
   ],
   "source": [
    "# Check if GPU is available\n",
    "device = \"cuda\" if torch.cuda.is_available() else \"cpu\"\n",
    "print(f\"Using device: {device}\")"
   ]
  }
 ],
 "metadata": {
  "kernelspec": {
   "display_name": "Python 3",
   "language": "python",
   "name": "python3"
  },
  "language_info": {
   "codemirror_mode": {
    "name": "ipython",
    "version": 3
   },
   "file_extension": ".py",
   "mimetype": "text/x-python",
   "name": "python",
   "nbconvert_exporter": "python",
   "pygments_lexer": "ipython3",
   "version": "3.11.5"
  }
 },
 "nbformat": 4,
 "nbformat_minor": 2
}
