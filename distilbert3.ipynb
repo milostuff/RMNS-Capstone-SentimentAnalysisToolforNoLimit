{
 "cells": [
  {
   "cell_type": "code",
   "execution_count": 1,
   "metadata": {},
   "outputs": [
    {
     "name": "stdout",
     "output_type": "stream",
     "text": [
      "WARNING:tensorflow:From c:\\Users\\rache\\AppData\\Local\\Programs\\Python\\Python311\\Lib\\site-packages\\tf_keras\\src\\losses.py:2976: The name tf.losses.sparse_softmax_cross_entropy is deprecated. Please use tf.compat.v1.losses.sparse_softmax_cross_entropy instead.\n",
      "\n"
     ]
    }
   ],
   "source": [
    "import pandas as pd\n",
    "from sklearn.model_selection import train_test_split\n",
    "from transformers import DistilBertTokenizer, DistilBertForSequenceClassification, Trainer, TrainingArguments, EarlyStoppingCallback\n",
    "import torch\n",
    "import numpy as np\n",
    "from sklearn.metrics import accuracy_score, f1_score, precision_score, recall_score\n",
    "from sklearn.utils.class_weight import compute_class_weight"
   ]
  },
  {
   "cell_type": "code",
   "execution_count": 2,
   "metadata": {},
   "outputs": [],
   "source": [
    "# Load the dataset\n",
    "df = pd.read_csv(\"combined_output.csv\", on_bad_lines='skip')"
   ]
  },
  {
   "cell_type": "code",
   "execution_count": 3,
   "metadata": {},
   "outputs": [
    {
     "data": {
      "text/html": [
       "<div>\n",
       "<style scoped>\n",
       "    .dataframe tbody tr th:only-of-type {\n",
       "        vertical-align: middle;\n",
       "    }\n",
       "\n",
       "    .dataframe tbody tr th {\n",
       "        vertical-align: top;\n",
       "    }\n",
       "\n",
       "    .dataframe thead th {\n",
       "        text-align: right;\n",
       "    }\n",
       "</style>\n",
       "<table border=\"1\" class=\"dataframe\">\n",
       "  <thead>\n",
       "    <tr style=\"text-align: right;\">\n",
       "      <th></th>\n",
       "      <th>original_id</th>\n",
       "      <th>source_name</th>\n",
       "      <th>title</th>\n",
       "      <th>url</th>\n",
       "      <th>body</th>\n",
       "      <th>date_published</th>\n",
       "      <th>language</th>\n",
       "      <th>date_modified</th>\n",
       "      <th>author_list</th>\n",
       "      <th>images</th>\n",
       "      <th>description</th>\n",
       "      <th>sentiment</th>\n",
       "      <th>emotions</th>\n",
       "      <th>entities</th>\n",
       "      <th>quotations</th>\n",
       "      <th>prValues</th>\n",
       "      <th>clipping</th>\n",
       "      <th>label</th>\n",
       "      <th>category</th>\n",
       "    </tr>\n",
       "  </thead>\n",
       "  <tbody>\n",
       "    <tr>\n",
       "      <th>0</th>\n",
       "      <td>'5404c9d2fd24852afa122f2cc01cb3acba3c5d05b682d...</td>\n",
       "      <td>'kabargayo.com</td>\n",
       "      <td>'Kredit sepeda motor bisa terbayar jika Anda m...</td>\n",
       "      <td>'https://www.kabargayo.com/2024/09/19/kredit-s...</td>\n",
       "      <td>'Jakarta, VIVA – Pembayaran kredit sepeda moto...</td>\n",
       "      <td>19/09/2024 22.32</td>\n",
       "      <td>'id</td>\n",
       "      <td>19/09/2024 22.32</td>\n",
       "      <td>'Aldi Hadad</td>\n",
       "      <td>'https://i1.wp.com/thumb.viva.co.id/media/fron...</td>\n",
       "      <td>NaN</td>\n",
       "      <td>'positive</td>\n",
       "      <td>NaN</td>\n",
       "      <td>'Hari Pembayaran Berbayar atau Harcilnas 2024,...</td>\n",
       "      <td>NaN</td>\n",
       "      <td>5250000</td>\n",
       "      <td>Adira</td>\n",
       "      <td>NaN</td>\n",
       "      <td>NaN</td>\n",
       "    </tr>\n",
       "    <tr>\n",
       "      <th>1</th>\n",
       "      <td>'e1e3f8d68b58568e8217b7562d48de634fceb0d837135...</td>\n",
       "      <td>'viva.co.id</td>\n",
       "      <td>'Kredit Motor Bisa Lunas Jika Bayar Cicilan Te...</td>\n",
       "      <td>'https://www.viva.co.id/otomotif/tips/1753596-...</td>\n",
       "      <td>'Jakarta, VIVA – Cicilan kredit motor yang ser...</td>\n",
       "      <td>19/09/2024 22.30</td>\n",
       "      <td>'id</td>\n",
       "      <td>19/09/2024 22.30</td>\n",
       "      <td>'Krisna Wicaksono</td>\n",
       "      <td>'https://thumb.viva.co.id/media/frontend/thumb...</td>\n",
       "      <td>NaN</td>\n",
       "      <td>'positive</td>\n",
       "      <td>NaN</td>\n",
       "      <td>'Harinya Cicilan Lunas,2024,PT Adira Dinamika ...</td>\n",
       "      <td>NaN</td>\n",
       "      <td>5250000</td>\n",
       "      <td>Adira</td>\n",
       "      <td>NaN</td>\n",
       "      <td>NaN</td>\n",
       "    </tr>\n",
       "    <tr>\n",
       "      <th>2</th>\n",
       "      <td>'dca74b8fa4eabf60cebfa7b811ecb385872a0fd301eaf...</td>\n",
       "      <td>'kabarmegapolitan.pikiran-rakyat.com</td>\n",
       "      <td>'Adira Finance Umumkan Pemenang HARCILNAS 2024...</td>\n",
       "      <td>'https://kabarmegapolitan.pikiran-rakyat.com/b...</td>\n",
       "      <td>'KABARMEGAPOLITAN.com - PT Adira Dinamika Mult...</td>\n",
       "      <td>19/09/2024 21.45</td>\n",
       "      <td>'id</td>\n",
       "      <td>19/09/2024 21.45</td>\n",
       "      <td>'Yuliansyah</td>\n",
       "      <td>'https://assets.pikiran-rakyat.com/www/network...</td>\n",
       "      <td>NaN</td>\n",
       "      <td>'positive</td>\n",
       "      <td>'HARCILNAS merupakan wujud apresiasi kami kepa...</td>\n",
       "      <td>'PT Adira Dinamika,Cicilan Lunas HARCILNAS,12 ...</td>\n",
       "      <td>(Person :Tania Endah Budhi ,Quote : HARCILNAS ...</td>\n",
       "      <td>5250000</td>\n",
       "      <td>Adira</td>\n",
       "      <td>NaN</td>\n",
       "      <td>NaN</td>\n",
       "    </tr>\n",
       "    <tr>\n",
       "      <th>3</th>\n",
       "      <td>'56c73e2a6d254a17a5cc21dee7ed0b4660c3af70c093b...</td>\n",
       "      <td>'banggairaya.id</td>\n",
       "      <td>'Dapatkan Promo Menarik, Yamaha Prima Motor Ra...</td>\n",
       "      <td>'https://banggairaya.id/dapatkan-promo-menarik...</td>\n",
       "      <td>'BANGGAI RAYA- Yamaha Prima Motor ramaikan pam...</td>\n",
       "      <td>19/09/2024 19.45</td>\n",
       "      <td>'id</td>\n",
       "      <td>19/09/2024 19.45</td>\n",
       "      <td>'Chikal Connect</td>\n",
       "      <td>'https://i0.wp.com/banggairaya.id/wp-content/u...</td>\n",
       "      <td>NaN</td>\n",
       "      <td>'neutral</td>\n",
       "      <td>NaN</td>\n",
       "      <td>'RAYA- Yamaha Prima Motor,Banggai Goverment Ex...</td>\n",
       "      <td>NaN</td>\n",
       "      <td>5250000</td>\n",
       "      <td>Adira</td>\n",
       "      <td>NaN</td>\n",
       "      <td>NaN</td>\n",
       "    </tr>\n",
       "    <tr>\n",
       "      <th>4</th>\n",
       "      <td>'1cd6c6db60224b6ee5f49cd5d6c62cd2850d9f3255721...</td>\n",
       "      <td>'jakarta.tribunnews.com</td>\n",
       "      <td>'Sindikat Penipuan Leasing, Satu Bulan Ajukan ...</td>\n",
       "      <td>'https://jakarta.tribunnews.com/2024/09/19/sin...</td>\n",
       "      <td>'Laporan wartawan TribunJakarta.com Yusuf Bach...</td>\n",
       "      <td>19/09/2024 18.43</td>\n",
       "      <td>'id</td>\n",
       "      <td>19/09/2024 18.43</td>\n",
       "      <td>'Yusuf Bachtiar</td>\n",
       "      <td>'https://asset-2.tstatic.net/jakarta/foto/bank...</td>\n",
       "      <td>NaN</td>\n",
       "      <td>'neutral</td>\n",
       "      <td>'Pelaku ini melakukan pembiayaan pembelian ken...</td>\n",
       "      <td>'Yusuf Bachtiar TRIBUNJAKARTACOM,MEDAN,SATRIA,...</td>\n",
       "      <td>(Person :Dedi ,Quote : Pelaku ini melakukan pe...</td>\n",
       "      <td>5250000</td>\n",
       "      <td>Adira</td>\n",
       "      <td>NaN</td>\n",
       "      <td>NaN</td>\n",
       "    </tr>\n",
       "  </tbody>\n",
       "</table>\n",
       "</div>"
      ],
      "text/plain": [
       "                                         original_id  \\\n",
       "0  '5404c9d2fd24852afa122f2cc01cb3acba3c5d05b682d...   \n",
       "1  'e1e3f8d68b58568e8217b7562d48de634fceb0d837135...   \n",
       "2  'dca74b8fa4eabf60cebfa7b811ecb385872a0fd301eaf...   \n",
       "3  '56c73e2a6d254a17a5cc21dee7ed0b4660c3af70c093b...   \n",
       "4  '1cd6c6db60224b6ee5f49cd5d6c62cd2850d9f3255721...   \n",
       "\n",
       "                            source_name  \\\n",
       "0                        'kabargayo.com   \n",
       "1                           'viva.co.id   \n",
       "2  'kabarmegapolitan.pikiran-rakyat.com   \n",
       "3                       'banggairaya.id   \n",
       "4               'jakarta.tribunnews.com   \n",
       "\n",
       "                                               title  \\\n",
       "0  'Kredit sepeda motor bisa terbayar jika Anda m...   \n",
       "1  'Kredit Motor Bisa Lunas Jika Bayar Cicilan Te...   \n",
       "2  'Adira Finance Umumkan Pemenang HARCILNAS 2024...   \n",
       "3  'Dapatkan Promo Menarik, Yamaha Prima Motor Ra...   \n",
       "4  'Sindikat Penipuan Leasing, Satu Bulan Ajukan ...   \n",
       "\n",
       "                                                 url  \\\n",
       "0  'https://www.kabargayo.com/2024/09/19/kredit-s...   \n",
       "1  'https://www.viva.co.id/otomotif/tips/1753596-...   \n",
       "2  'https://kabarmegapolitan.pikiran-rakyat.com/b...   \n",
       "3  'https://banggairaya.id/dapatkan-promo-menarik...   \n",
       "4  'https://jakarta.tribunnews.com/2024/09/19/sin...   \n",
       "\n",
       "                                                body    date_published  \\\n",
       "0  'Jakarta, VIVA – Pembayaran kredit sepeda moto...  19/09/2024 22.32   \n",
       "1  'Jakarta, VIVA – Cicilan kredit motor yang ser...  19/09/2024 22.30   \n",
       "2  'KABARMEGAPOLITAN.com - PT Adira Dinamika Mult...  19/09/2024 21.45   \n",
       "3  'BANGGAI RAYA- Yamaha Prima Motor ramaikan pam...  19/09/2024 19.45   \n",
       "4  'Laporan wartawan TribunJakarta.com Yusuf Bach...  19/09/2024 18.43   \n",
       "\n",
       "  language     date_modified        author_list  \\\n",
       "0      'id  19/09/2024 22.32        'Aldi Hadad   \n",
       "1      'id  19/09/2024 22.30  'Krisna Wicaksono   \n",
       "2      'id  19/09/2024 21.45        'Yuliansyah   \n",
       "3      'id  19/09/2024 19.45    'Chikal Connect   \n",
       "4      'id  19/09/2024 18.43    'Yusuf Bachtiar   \n",
       "\n",
       "                                              images description  sentiment  \\\n",
       "0  'https://i1.wp.com/thumb.viva.co.id/media/fron...         NaN  'positive   \n",
       "1  'https://thumb.viva.co.id/media/frontend/thumb...         NaN  'positive   \n",
       "2  'https://assets.pikiran-rakyat.com/www/network...         NaN  'positive   \n",
       "3  'https://i0.wp.com/banggairaya.id/wp-content/u...         NaN   'neutral   \n",
       "4  'https://asset-2.tstatic.net/jakarta/foto/bank...         NaN   'neutral   \n",
       "\n",
       "                                            emotions  \\\n",
       "0                                                NaN   \n",
       "1                                                NaN   \n",
       "2  'HARCILNAS merupakan wujud apresiasi kami kepa...   \n",
       "3                                                NaN   \n",
       "4  'Pelaku ini melakukan pembiayaan pembelian ken...   \n",
       "\n",
       "                                            entities  \\\n",
       "0  'Hari Pembayaran Berbayar atau Harcilnas 2024,...   \n",
       "1  'Harinya Cicilan Lunas,2024,PT Adira Dinamika ...   \n",
       "2  'PT Adira Dinamika,Cicilan Lunas HARCILNAS,12 ...   \n",
       "3  'RAYA- Yamaha Prima Motor,Banggai Goverment Ex...   \n",
       "4  'Yusuf Bachtiar TRIBUNJAKARTACOM,MEDAN,SATRIA,...   \n",
       "\n",
       "                                          quotations  prValues clipping label  \\\n",
       "0                                                NaN   5250000    Adira   NaN   \n",
       "1                                                NaN   5250000    Adira   NaN   \n",
       "2  (Person :Tania Endah Budhi ,Quote : HARCILNAS ...   5250000    Adira   NaN   \n",
       "3                                                NaN   5250000    Adira   NaN   \n",
       "4  (Person :Dedi ,Quote : Pelaku ini melakukan pe...   5250000    Adira   NaN   \n",
       "\n",
       "   category  \n",
       "0       NaN  \n",
       "1       NaN  \n",
       "2       NaN  \n",
       "3       NaN  \n",
       "4       NaN  "
      ]
     },
     "execution_count": 3,
     "metadata": {},
     "output_type": "execute_result"
    }
   ],
   "source": [
    "df.head()"
   ]
  },
  {
   "cell_type": "code",
   "execution_count": 4,
   "metadata": {},
   "outputs": [],
   "source": [
    "# Clean extra characters from all columns in the DataFrame\n",
    "for column in df.columns:\n",
    "    if df[column].dtype == 'object':  # Check if the column is of string type\n",
    "        df[column] = df[column].str.strip(\"'\")  # Remove extra characters\n",
    "\n",
    "# Filter relevant columns\n",
    "df_filtered = df[['body', 'sentiment']].dropna()\n"
   ]
  },
  {
   "cell_type": "code",
   "execution_count": 5,
   "metadata": {},
   "outputs": [
    {
     "data": {
      "text/html": [
       "<div>\n",
       "<style scoped>\n",
       "    .dataframe tbody tr th:only-of-type {\n",
       "        vertical-align: middle;\n",
       "    }\n",
       "\n",
       "    .dataframe tbody tr th {\n",
       "        vertical-align: top;\n",
       "    }\n",
       "\n",
       "    .dataframe thead th {\n",
       "        text-align: right;\n",
       "    }\n",
       "</style>\n",
       "<table border=\"1\" class=\"dataframe\">\n",
       "  <thead>\n",
       "    <tr style=\"text-align: right;\">\n",
       "      <th></th>\n",
       "      <th>original_id</th>\n",
       "      <th>source_name</th>\n",
       "      <th>title</th>\n",
       "      <th>url</th>\n",
       "      <th>body</th>\n",
       "      <th>date_published</th>\n",
       "      <th>language</th>\n",
       "      <th>date_modified</th>\n",
       "      <th>author_list</th>\n",
       "      <th>images</th>\n",
       "      <th>description</th>\n",
       "      <th>sentiment</th>\n",
       "      <th>emotions</th>\n",
       "      <th>entities</th>\n",
       "      <th>quotations</th>\n",
       "      <th>prValues</th>\n",
       "      <th>clipping</th>\n",
       "      <th>label</th>\n",
       "      <th>category</th>\n",
       "    </tr>\n",
       "  </thead>\n",
       "  <tbody>\n",
       "    <tr>\n",
       "      <th>0</th>\n",
       "      <td>5404c9d2fd24852afa122f2cc01cb3acba3c5d05b682d4...</td>\n",
       "      <td>kabargayo.com</td>\n",
       "      <td>Kredit sepeda motor bisa terbayar jika Anda me...</td>\n",
       "      <td>https://www.kabargayo.com/2024/09/19/kredit-se...</td>\n",
       "      <td>Jakarta, VIVA – Pembayaran kredit sepeda motor...</td>\n",
       "      <td>19/09/2024 22.32</td>\n",
       "      <td>id</td>\n",
       "      <td>19/09/2024 22.32</td>\n",
       "      <td>Aldi Hadad</td>\n",
       "      <td>https://i1.wp.com/thumb.viva.co.id/media/front...</td>\n",
       "      <td>NaN</td>\n",
       "      <td>positive</td>\n",
       "      <td>NaN</td>\n",
       "      <td>Hari Pembayaran Berbayar atau Harcilnas 2024,P...</td>\n",
       "      <td>NaN</td>\n",
       "      <td>5250000</td>\n",
       "      <td>Adira</td>\n",
       "      <td>NaN</td>\n",
       "      <td>NaN</td>\n",
       "    </tr>\n",
       "    <tr>\n",
       "      <th>1</th>\n",
       "      <td>e1e3f8d68b58568e8217b7562d48de634fceb0d8371356...</td>\n",
       "      <td>viva.co.id</td>\n",
       "      <td>Kredit Motor Bisa Lunas Jika Bayar Cicilan Tep...</td>\n",
       "      <td>https://www.viva.co.id/otomotif/tips/1753596-k...</td>\n",
       "      <td>Jakarta, VIVA – Cicilan kredit motor yang seri...</td>\n",
       "      <td>19/09/2024 22.30</td>\n",
       "      <td>id</td>\n",
       "      <td>19/09/2024 22.30</td>\n",
       "      <td>Krisna Wicaksono</td>\n",
       "      <td>https://thumb.viva.co.id/media/frontend/thumbs...</td>\n",
       "      <td>NaN</td>\n",
       "      <td>positive</td>\n",
       "      <td>NaN</td>\n",
       "      <td>Harinya Cicilan Lunas,2024,PT Adira Dinamika M...</td>\n",
       "      <td>NaN</td>\n",
       "      <td>5250000</td>\n",
       "      <td>Adira</td>\n",
       "      <td>NaN</td>\n",
       "      <td>NaN</td>\n",
       "    </tr>\n",
       "    <tr>\n",
       "      <th>2</th>\n",
       "      <td>dca74b8fa4eabf60cebfa7b811ecb385872a0fd301eaf5...</td>\n",
       "      <td>kabarmegapolitan.pikiran-rakyat.com</td>\n",
       "      <td>Adira Finance Umumkan Pemenang HARCILNAS 2024:...</td>\n",
       "      <td>https://kabarmegapolitan.pikiran-rakyat.com/bi...</td>\n",
       "      <td>KABARMEGAPOLITAN.com - PT Adira Dinamika Multi...</td>\n",
       "      <td>19/09/2024 21.45</td>\n",
       "      <td>id</td>\n",
       "      <td>19/09/2024 21.45</td>\n",
       "      <td>Yuliansyah</td>\n",
       "      <td>https://assets.pikiran-rakyat.com/www/network/...</td>\n",
       "      <td>NaN</td>\n",
       "      <td>positive</td>\n",
       "      <td>HARCILNAS merupakan wujud apresiasi kami kepad...</td>\n",
       "      <td>PT Adira Dinamika,Cicilan Lunas HARCILNAS,12 p...</td>\n",
       "      <td>(Person :Tania Endah Budhi ,Quote : HARCILNAS ...</td>\n",
       "      <td>5250000</td>\n",
       "      <td>Adira</td>\n",
       "      <td>NaN</td>\n",
       "      <td>NaN</td>\n",
       "    </tr>\n",
       "    <tr>\n",
       "      <th>3</th>\n",
       "      <td>56c73e2a6d254a17a5cc21dee7ed0b4660c3af70c093b2...</td>\n",
       "      <td>banggairaya.id</td>\n",
       "      <td>Dapatkan Promo Menarik, Yamaha Prima Motor Ram...</td>\n",
       "      <td>https://banggairaya.id/dapatkan-promo-menarik-...</td>\n",
       "      <td>BANGGAI RAYA- Yamaha Prima Motor ramaikan pame...</td>\n",
       "      <td>19/09/2024 19.45</td>\n",
       "      <td>id</td>\n",
       "      <td>19/09/2024 19.45</td>\n",
       "      <td>Chikal Connect</td>\n",
       "      <td>https://i0.wp.com/banggairaya.id/wp-content/up...</td>\n",
       "      <td>NaN</td>\n",
       "      <td>neutral</td>\n",
       "      <td>NaN</td>\n",
       "      <td>RAYA- Yamaha Prima Motor,Banggai Goverment Exp...</td>\n",
       "      <td>NaN</td>\n",
       "      <td>5250000</td>\n",
       "      <td>Adira</td>\n",
       "      <td>NaN</td>\n",
       "      <td>NaN</td>\n",
       "    </tr>\n",
       "    <tr>\n",
       "      <th>4</th>\n",
       "      <td>1cd6c6db60224b6ee5f49cd5d6c62cd2850d9f3255721d...</td>\n",
       "      <td>jakarta.tribunnews.com</td>\n",
       "      <td>Sindikat Penipuan Leasing, Satu Bulan Ajukan K...</td>\n",
       "      <td>https://jakarta.tribunnews.com/2024/09/19/sind...</td>\n",
       "      <td>Laporan wartawan TribunJakarta.com Yusuf Bacht...</td>\n",
       "      <td>19/09/2024 18.43</td>\n",
       "      <td>id</td>\n",
       "      <td>19/09/2024 18.43</td>\n",
       "      <td>Yusuf Bachtiar</td>\n",
       "      <td>https://asset-2.tstatic.net/jakarta/foto/bank/...</td>\n",
       "      <td>NaN</td>\n",
       "      <td>neutral</td>\n",
       "      <td>Pelaku ini melakukan pembiayaan pembelian kend...</td>\n",
       "      <td>Yusuf Bachtiar TRIBUNJAKARTACOM,MEDAN,SATRIA,T...</td>\n",
       "      <td>(Person :Dedi ,Quote : Pelaku ini melakukan pe...</td>\n",
       "      <td>5250000</td>\n",
       "      <td>Adira</td>\n",
       "      <td>NaN</td>\n",
       "      <td>NaN</td>\n",
       "    </tr>\n",
       "  </tbody>\n",
       "</table>\n",
       "</div>"
      ],
      "text/plain": [
       "                                         original_id  \\\n",
       "0  5404c9d2fd24852afa122f2cc01cb3acba3c5d05b682d4...   \n",
       "1  e1e3f8d68b58568e8217b7562d48de634fceb0d8371356...   \n",
       "2  dca74b8fa4eabf60cebfa7b811ecb385872a0fd301eaf5...   \n",
       "3  56c73e2a6d254a17a5cc21dee7ed0b4660c3af70c093b2...   \n",
       "4  1cd6c6db60224b6ee5f49cd5d6c62cd2850d9f3255721d...   \n",
       "\n",
       "                           source_name  \\\n",
       "0                        kabargayo.com   \n",
       "1                           viva.co.id   \n",
       "2  kabarmegapolitan.pikiran-rakyat.com   \n",
       "3                       banggairaya.id   \n",
       "4               jakarta.tribunnews.com   \n",
       "\n",
       "                                               title  \\\n",
       "0  Kredit sepeda motor bisa terbayar jika Anda me...   \n",
       "1  Kredit Motor Bisa Lunas Jika Bayar Cicilan Tep...   \n",
       "2  Adira Finance Umumkan Pemenang HARCILNAS 2024:...   \n",
       "3  Dapatkan Promo Menarik, Yamaha Prima Motor Ram...   \n",
       "4  Sindikat Penipuan Leasing, Satu Bulan Ajukan K...   \n",
       "\n",
       "                                                 url  \\\n",
       "0  https://www.kabargayo.com/2024/09/19/kredit-se...   \n",
       "1  https://www.viva.co.id/otomotif/tips/1753596-k...   \n",
       "2  https://kabarmegapolitan.pikiran-rakyat.com/bi...   \n",
       "3  https://banggairaya.id/dapatkan-promo-menarik-...   \n",
       "4  https://jakarta.tribunnews.com/2024/09/19/sind...   \n",
       "\n",
       "                                                body    date_published  \\\n",
       "0  Jakarta, VIVA – Pembayaran kredit sepeda motor...  19/09/2024 22.32   \n",
       "1  Jakarta, VIVA – Cicilan kredit motor yang seri...  19/09/2024 22.30   \n",
       "2  KABARMEGAPOLITAN.com - PT Adira Dinamika Multi...  19/09/2024 21.45   \n",
       "3  BANGGAI RAYA- Yamaha Prima Motor ramaikan pame...  19/09/2024 19.45   \n",
       "4  Laporan wartawan TribunJakarta.com Yusuf Bacht...  19/09/2024 18.43   \n",
       "\n",
       "  language     date_modified       author_list  \\\n",
       "0       id  19/09/2024 22.32        Aldi Hadad   \n",
       "1       id  19/09/2024 22.30  Krisna Wicaksono   \n",
       "2       id  19/09/2024 21.45        Yuliansyah   \n",
       "3       id  19/09/2024 19.45    Chikal Connect   \n",
       "4       id  19/09/2024 18.43    Yusuf Bachtiar   \n",
       "\n",
       "                                              images description sentiment  \\\n",
       "0  https://i1.wp.com/thumb.viva.co.id/media/front...         NaN  positive   \n",
       "1  https://thumb.viva.co.id/media/frontend/thumbs...         NaN  positive   \n",
       "2  https://assets.pikiran-rakyat.com/www/network/...         NaN  positive   \n",
       "3  https://i0.wp.com/banggairaya.id/wp-content/up...         NaN   neutral   \n",
       "4  https://asset-2.tstatic.net/jakarta/foto/bank/...         NaN   neutral   \n",
       "\n",
       "                                            emotions  \\\n",
       "0                                                NaN   \n",
       "1                                                NaN   \n",
       "2  HARCILNAS merupakan wujud apresiasi kami kepad...   \n",
       "3                                                NaN   \n",
       "4  Pelaku ini melakukan pembiayaan pembelian kend...   \n",
       "\n",
       "                                            entities  \\\n",
       "0  Hari Pembayaran Berbayar atau Harcilnas 2024,P...   \n",
       "1  Harinya Cicilan Lunas,2024,PT Adira Dinamika M...   \n",
       "2  PT Adira Dinamika,Cicilan Lunas HARCILNAS,12 p...   \n",
       "3  RAYA- Yamaha Prima Motor,Banggai Goverment Exp...   \n",
       "4  Yusuf Bachtiar TRIBUNJAKARTACOM,MEDAN,SATRIA,T...   \n",
       "\n",
       "                                          quotations  prValues clipping label  \\\n",
       "0                                                NaN   5250000    Adira   NaN   \n",
       "1                                                NaN   5250000    Adira   NaN   \n",
       "2  (Person :Tania Endah Budhi ,Quote : HARCILNAS ...   5250000    Adira   NaN   \n",
       "3                                                NaN   5250000    Adira   NaN   \n",
       "4  (Person :Dedi ,Quote : Pelaku ini melakukan pe...   5250000    Adira   NaN   \n",
       "\n",
       "   category  \n",
       "0       NaN  \n",
       "1       NaN  \n",
       "2       NaN  \n",
       "3       NaN  \n",
       "4       NaN  "
      ]
     },
     "execution_count": 5,
     "metadata": {},
     "output_type": "execute_result"
    }
   ],
   "source": [
    "df.head()"
   ]
  },
  {
   "cell_type": "code",
   "execution_count": 6,
   "metadata": {},
   "outputs": [],
   "source": [
    "# Balance dataset classes\n",
    "class_counts = df_filtered['sentiment'].value_counts()\n",
    "min_class = class_counts.min()\n",
    "df_balanced = df_filtered.groupby('sentiment').apply(lambda x: x.sample(min_class)).reset_index(drop=True)"
   ]
  },
  {
   "cell_type": "code",
   "execution_count": 7,
   "metadata": {},
   "outputs": [],
   "source": [
    "# Ensure balanced classes during split\n",
    "train_texts, val_texts, train_labels, val_labels = train_test_split(\n",
    "    df_filtered['body'].tolist(), df_filtered['sentiment'].tolist(),\n",
    "    test_size=0.2, random_state=42, stratify=df_filtered['sentiment']\n",
    ")"
   ]
  },
  {
   "cell_type": "code",
   "execution_count": 8,
   "metadata": {},
   "outputs": [],
   "source": [
    "# Load tokenizer and tokenize texts\n",
    "tokenizer = DistilBertTokenizer.from_pretrained(\"distilbert-base-uncased\")\n",
    "train_encodings = tokenizer(train_texts, truncation=True, padding=True, max_length=512)\n",
    "val_encodings = tokenizer(val_texts, truncation=True, padding=True, max_length=512)\n"
   ]
  },
  {
   "cell_type": "code",
   "execution_count": 9,
   "metadata": {},
   "outputs": [],
   "source": [
    "# Map sentiment labels to integers\n",
    "label_mapping = {'positive': 2, 'neutral': 1, 'negative': 0}\n",
    "train_labels = [label_mapping[label] for label in train_labels]\n",
    "val_labels = [label_mapping[label] for label in val_labels]"
   ]
  },
  {
   "cell_type": "code",
   "execution_count": 10,
   "metadata": {},
   "outputs": [],
   "source": [
    "class SentimentDataset(torch.utils.data.Dataset):\n",
    "    def __init__(self, encodings, labels):\n",
    "        self.encodings = encodings\n",
    "        self.labels = labels\n",
    "\n",
    "    def __getitem__(self, idx):\n",
    "        item = {key: torch.tensor(val[idx]) for key, val in self.encodings.items()}\n",
    "        item['labels'] = torch.tensor(self.labels[idx])\n",
    "        return item\n",
    "\n",
    "    def __len__(self):\n",
    "        return len(self.labels)\n"
   ]
  },
  {
   "cell_type": "code",
   "execution_count": 11,
   "metadata": {},
   "outputs": [],
   "source": [
    "# Create datasets\n",
    "train_dataset = SentimentDataset(train_encodings, train_labels)\n",
    "val_dataset = SentimentDataset(val_encodings, val_labels)"
   ]
  },
  {
   "cell_type": "code",
   "execution_count": 12,
   "metadata": {},
   "outputs": [
    {
     "name": "stdout",
     "output_type": "stream",
     "text": [
      "Using device: cuda\n"
     ]
    }
   ],
   "source": [
    "# Check if GPU is available\n",
    "device = \"cuda\" if torch.cuda.is_available() else \"cpu\"\n",
    "print(f\"Using device: {device}\")"
   ]
  },
  {
   "cell_type": "code",
   "execution_count": 13,
   "metadata": {},
   "outputs": [
    {
     "name": "stderr",
     "output_type": "stream",
     "text": [
      "Some weights of DistilBertForSequenceClassification were not initialized from the model checkpoint at distilbert-base-uncased and are newly initialized: ['classifier.bias', 'classifier.weight', 'pre_classifier.bias', 'pre_classifier.weight']\n",
      "You should probably TRAIN this model on a down-stream task to be able to use it for predictions and inference.\n"
     ]
    }
   ],
   "source": [
    "# Load Longformer model for sequence classification\n",
    "model = DistilBertForSequenceClassification.from_pretrained(\"distilbert-base-uncased\", num_labels=3)"
   ]
  },
  {
   "cell_type": "code",
   "execution_count": 14,
   "metadata": {},
   "outputs": [],
   "source": [
    "class_weights = compute_class_weight('balanced', classes=np.unique(train_labels), y=train_labels)\n",
    "class_weights = torch.tensor(class_weights, dtype=torch.float).to(device)\n",
    "\n",
    "# Adjust model's loss function to include class weights\n",
    "model.config.problem_type = \"single_label_classification\"\n",
    "model.config.class_weights = class_weights.tolist()"
   ]
  },
  {
   "cell_type": "code",
   "execution_count": 15,
   "metadata": {},
   "outputs": [],
   "source": [
    "from sklearn.metrics import accuracy_score\n",
    "import numpy as np\n",
    "\n",
    "def compute_metrics(eval_pred):\n",
    "    logits, labels = eval_pred\n",
    "    preds = np.argmax(logits, axis=-1)\n",
    "    acc = accuracy_score(labels, preds)\n",
    "    return {'eval_accuracy': acc}\n"
   ]
  },
  {
   "cell_type": "code",
   "execution_count": 16,
   "metadata": {},
   "outputs": [
    {
     "name": "stderr",
     "output_type": "stream",
     "text": [
      "c:\\Users\\rache\\AppData\\Local\\Programs\\Python\\Python311\\Lib\\site-packages\\transformers\\training_args.py:1545: FutureWarning: `evaluation_strategy` is deprecated and will be removed in version 4.46 of 🤗 Transformers. Use `eval_strategy` instead\n",
      "  warnings.warn(\n"
     ]
    }
   ],
   "source": [
    "from transformers import TrainingArguments\n",
    "\n",
    "training_args = TrainingArguments(\n",
    "    output_dir=\"./results\",\n",
    "    evaluation_strategy=\"steps\",  # More frequent evaluation\n",
    "    eval_steps=200,  # Evaluate more frequently for better monitoring\n",
    "    save_strategy=\"steps\",\n",
    "    save_steps=200,\n",
    "    per_device_train_batch_size=32,  # Larger batch size for stability\n",
    "    per_device_eval_batch_size=64,  # Larger eval batch size\n",
    "    gradient_accumulation_steps=2,  # Simulate larger batches\n",
    "    num_train_epochs=6,  # Longer training for better results\n",
    "    learning_rate=3e-5,  # Slightly reduced LR for stability\n",
    "    weight_decay=0.01,  # Regularization for better generalization\n",
    "    fp16=True,  # Mixed precision for faster training\n",
    "    logging_dir=\"./logs\",\n",
    "    logging_steps=50,  # Frequent logging for monitoring\n",
    "    load_best_model_at_end=True,  # Load best model at the end\n",
    "    metric_for_best_model=\"eval_accuracy\",  # Use accuracy as best model metric\n",
    "    greater_is_better=True,\n",
    "    lr_scheduler_type=\"cosine_with_restarts\",  # Smooth learning rate decay\n",
    "    warmup_steps=200,  # Longer warm-up for stability\n",
    "    save_total_limit=3,  # Keep more checkpoints for safety\n",
    ")\n"
   ]
  },
  {
   "cell_type": "code",
   "execution_count": 17,
   "metadata": {},
   "outputs": [],
   "source": [
    "from transformers import Trainer\n",
    "\n",
    "trainer = Trainer(\n",
    "    model=model,\n",
    "    args=training_args,\n",
    "    train_dataset=train_dataset,\n",
    "    eval_dataset=val_dataset,\n",
    "    tokenizer=tokenizer,\n",
    "    compute_metrics=compute_metrics,  # Include custom metrics\n",
    ")\n"
   ]
  },
  {
   "cell_type": "code",
   "execution_count": 18,
   "metadata": {},
   "outputs": [],
   "source": [
    "import torch\n",
    "\n",
    "torch.cuda.empty_cache()\n",
    "torch.cuda.reset_peak_memory_stats()"
   ]
  },
  {
   "cell_type": "code",
   "execution_count": 19,
   "metadata": {},
   "outputs": [
    {
     "data": {
      "application/vnd.jupyter.widget-view+json": {
       "model_id": "18d89cb58e65479dbce038f7c49ef442",
       "version_major": 2,
       "version_minor": 0
      },
      "text/plain": [
       "  0%|          | 0/672 [00:00<?, ?it/s]"
      ]
     },
     "metadata": {},
     "output_type": "display_data"
    },
    {
     "name": "stdout",
     "output_type": "stream",
     "text": [
      "{'loss': 1.0582, 'grad_norm': 0.7676056623458862, 'learning_rate': 7.5e-06, 'epoch': 0.44}\n",
      "{'loss': 1.0164, 'grad_norm': 1.9296014308929443, 'learning_rate': 1.5e-05, 'epoch': 0.89}\n",
      "{'loss': 0.8712, 'grad_norm': 3.5376548767089844, 'learning_rate': 2.25e-05, 'epoch': 1.33}\n",
      "{'loss': 0.7597, 'grad_norm': 11.02445125579834, 'learning_rate': 2.985e-05, 'epoch': 1.78}\n"
     ]
    },
    {
     "data": {
      "application/vnd.jupyter.widget-view+json": {
       "model_id": "33f6c896f89745b7b62ded021cf3aa8c",
       "version_major": 2,
       "version_minor": 0
      },
      "text/plain": [
       "  0%|          | 0/29 [00:00<?, ?it/s]"
      ]
     },
     "metadata": {},
     "output_type": "display_data"
    },
    {
     "name": "stdout",
     "output_type": "stream",
     "text": [
      "{'eval_accuracy': 0.7057190449750139, 'eval_loss': 0.7058994174003601, 'eval_runtime': 22.1518, 'eval_samples_per_second': 81.303, 'eval_steps_per_second': 1.309, 'epoch': 1.78}\n",
      "{'loss': 0.6544, 'grad_norm': 6.5381340980529785, 'learning_rate': 2.920929188742639e-05, 'epoch': 2.22}\n",
      "{'loss': 0.6256, 'grad_norm': 4.113133907318115, 'learning_rate': 2.6859664429194316e-05, 'epoch': 2.67}\n",
      "{'loss': 0.5674, 'grad_norm': 12.621991157531738, 'learning_rate': 2.3208620902784484e-05, 'epoch': 3.11}\n",
      "{'loss': 0.4978, 'grad_norm': 8.399321556091309, 'learning_rate': 1.865680727413076e-05, 'epoch': 3.56}\n"
     ]
    },
    {
     "data": {
      "application/vnd.jupyter.widget-view+json": {
       "model_id": "cf3845ef283c4b48b17dfeab37ed92ce",
       "version_major": 2,
       "version_minor": 0
      },
      "text/plain": [
       "  0%|          | 0/29 [00:00<?, ?it/s]"
      ]
     },
     "metadata": {},
     "output_type": "display_data"
    },
    {
     "name": "stdout",
     "output_type": "stream",
     "text": [
      "{'eval_accuracy': 0.7623542476401999, 'eval_loss': 0.6019715070724487, 'eval_runtime': 21.8733, 'eval_samples_per_second': 82.338, 'eval_steps_per_second': 1.326, 'epoch': 3.56}\n",
      "{'loss': 0.5004, 'grad_norm': 9.688924789428711, 'learning_rate': 1.370371519673206e-05, 'epoch': 4.0}\n",
      "{'loss': 0.3993, 'grad_norm': 8.474952697753906, 'learning_rate': 8.892870472281623e-06, 'epoch': 4.44}\n",
      "{'loss': 0.4022, 'grad_norm': 7.239161014556885, 'learning_rate': 4.7521894396680756e-06, 'epoch': 4.89}\n",
      "{'loss': 0.3585, 'grad_norm': 4.980536937713623, 'learning_rate': 1.7360482628389473e-06, 'epoch': 5.33}\n"
     ]
    },
    {
     "data": {
      "application/vnd.jupyter.widget-view+json": {
       "model_id": "e5a97bbc3a2e43bb88f4ccb59f69c0f4",
       "version_major": 2,
       "version_minor": 0
      },
      "text/plain": [
       "  0%|          | 0/29 [00:00<?, ?it/s]"
      ]
     },
     "metadata": {},
     "output_type": "display_data"
    },
    {
     "name": "stdout",
     "output_type": "stream",
     "text": [
      "{'eval_accuracy': 0.7806774014436424, 'eval_loss': 0.5940728187561035, 'eval_runtime': 21.862, 'eval_samples_per_second': 82.381, 'eval_steps_per_second': 1.327, 'epoch': 5.33}\n",
      "{'loss': 0.3411, 'grad_norm': 6.1303558349609375, 'learning_rate': 1.7542212366829236e-07, 'epoch': 5.78}\n",
      "{'train_runtime': 1850.5512, 'train_samples_per_second': 23.344, 'train_steps_per_second': 0.363, 'train_loss': 0.6109332562912078, 'epoch': 5.97}\n"
     ]
    },
    {
     "data": {
      "text/plain": [
       "TrainOutput(global_step=672, training_loss=0.6109332562912078, metrics={'train_runtime': 1850.5512, 'train_samples_per_second': 23.344, 'train_steps_per_second': 0.363, 'total_flos': 5697259482120192.0, 'train_loss': 0.6109332562912078, 'epoch': 5.973333333333334})"
      ]
     },
     "execution_count": 19,
     "metadata": {},
     "output_type": "execute_result"
    }
   ],
   "source": [
    "# Train the model\n",
    "trainer.train()"
   ]
  },
  {
   "cell_type": "code",
   "execution_count": 20,
   "metadata": {},
   "outputs": [
    {
     "name": "stdout",
     "output_type": "stream",
     "text": [
      "Number of training examples: 7200\n",
      "Batch size: 32\n"
     ]
    }
   ],
   "source": [
    "print(f\"Number of training examples: {len(train_dataset)}\")\n",
    "print(f\"Batch size: {training_args.per_device_train_batch_size}\")\n"
   ]
  },
  {
   "cell_type": "code",
   "execution_count": 21,
   "metadata": {},
   "outputs": [
    {
     "data": {
      "text/plain": [
       "('./distilbert3\\\\tokenizer_config.json',\n",
       " './distilbert3\\\\special_tokens_map.json',\n",
       " './distilbert3\\\\vocab.txt',\n",
       " './distilbert3\\\\added_tokens.json')"
      ]
     },
     "execution_count": 21,
     "metadata": {},
     "output_type": "execute_result"
    }
   ],
   "source": [
    "# Save the trained model and tokenizer\n",
    "model.save_pretrained('./distilbert3')\n",
    "tokenizer.save_pretrained('./distilbert3')"
   ]
  },
  {
   "cell_type": "code",
   "execution_count": 22,
   "metadata": {},
   "outputs": [
    {
     "data": {
      "application/vnd.jupyter.widget-view+json": {
       "model_id": "24ebada9f4d9484a96ac010c97913e20",
       "version_major": 2,
       "version_minor": 0
      },
      "text/plain": [
       "  0%|          | 0/29 [00:00<?, ?it/s]"
      ]
     },
     "metadata": {},
     "output_type": "display_data"
    }
   ],
   "source": [
    "# Evaluate the model\n",
    "results = trainer.evaluate()"
   ]
  },
  {
   "cell_type": "code",
   "execution_count": 23,
   "metadata": {},
   "outputs": [
    {
     "name": "stdout",
     "output_type": "stream",
     "text": [
      "{'eval_accuracy': 0.7806774014436424, 'eval_loss': 0.5940728187561035, 'eval_runtime': 21.8487, 'eval_samples_per_second': 82.431, 'eval_steps_per_second': 1.327, 'epoch': 5.973333333333334}\n"
     ]
    }
   ],
   "source": [
    "print(results)"
   ]
  },
  {
   "cell_type": "code",
   "execution_count": 24,
   "metadata": {},
   "outputs": [
    {
     "data": {
      "application/vnd.jupyter.widget-view+json": {
       "model_id": "e0a79816fab54724b53ffc13de9ab477",
       "version_major": 2,
       "version_minor": 0
      },
      "text/plain": [
       "  0%|          | 0/29 [00:00<?, ?it/s]"
      ]
     },
     "metadata": {},
     "output_type": "display_data"
    },
    {
     "name": "stdout",
     "output_type": "stream",
     "text": [
      "Accuracy: 0.7807\n",
      "F1 Score: 0.7796\n",
      "Precision: 0.7820\n",
      "Recall: 0.7807\n",
      "\n",
      "Classification Report:\n",
      "              precision    recall  f1-score   support\n",
      "\n",
      "           0       0.76      0.65      0.70       338\n",
      "           1       0.82      0.79      0.80       836\n",
      "           2       0.75      0.84      0.79       627\n",
      "\n",
      "    accuracy                           0.78      1801\n",
      "   macro avg       0.77      0.76      0.76      1801\n",
      "weighted avg       0.78      0.78      0.78      1801\n",
      "\n"
     ]
    }
   ],
   "source": [
    "from sklearn.metrics import accuracy_score, f1_score, precision_score, recall_score, classification_report\n",
    "\n",
    "# After training, get predictions on the validation dataset\n",
    "predictions = trainer.predict(val_dataset)\n",
    "\n",
    "# Get the predicted logits\n",
    "logits = predictions.predictions\n",
    "\n",
    "# Convert logits to predicted class labels\n",
    "predicted_labels = np.argmax(logits, axis=1)\n",
    "\n",
    "# Get the true labels\n",
    "true_labels = val_labels\n",
    "\n",
    "# Calculate evaluation metrics\n",
    "accuracy = accuracy_score(true_labels, predicted_labels)\n",
    "f1 = f1_score(true_labels, predicted_labels, average='weighted')\n",
    "precision = precision_score(true_labels, predicted_labels, average='weighted')\n",
    "recall = recall_score(true_labels, predicted_labels, average='weighted')\n",
    "\n",
    "# Display metrics\n",
    "print(f\"Accuracy: {accuracy:.4f}\")\n",
    "print(f\"F1 Score: {f1:.4f}\")\n",
    "print(f\"Precision: {precision:.4f}\")\n",
    "print(f\"Recall: {recall:.4f}\")\n",
    "\n",
    "\n",
    "# Detailed classification report\n",
    "print(\"\\nClassification Report:\")\n",
    "print(classification_report(true_labels, predicted_labels))\n"
   ]
  },
  {
   "cell_type": "code",
   "execution_count": 25,
   "metadata": {},
   "outputs": [
    {
     "name": "stdout",
     "output_type": "stream",
     "text": [
      "Using device: cuda\n"
     ]
    }
   ],
   "source": [
    "# Check if GPU is available\n",
    "device = \"cuda\" if torch.cuda.is_available() else \"cpu\"\n",
    "print(f\"Using device: {device}\")"
   ]
  },
  {
   "cell_type": "code",
   "execution_count": 26,
   "metadata": {},
   "outputs": [
    {
     "ename": "NameError",
     "evalue": "name 'LongformerForSequenceClassification' is not defined",
     "output_type": "error",
     "traceback": [
      "\u001b[1;31m---------------------------------------------------------------------------\u001b[0m",
      "\u001b[1;31mNameError\u001b[0m                                 Traceback (most recent call last)",
      "Cell \u001b[1;32mIn[26], line 2\u001b[0m\n\u001b[0;32m      1\u001b[0m \u001b[38;5;66;03m# Load the saved model and tokenizer\u001b[39;00m\n\u001b[1;32m----> 2\u001b[0m model \u001b[38;5;241m=\u001b[39m \u001b[43mLongformerForSequenceClassification\u001b[49m\u001b[38;5;241m.\u001b[39mfrom_pretrained(\u001b[38;5;124m'\u001b[39m\u001b[38;5;124m./longformer_model6\u001b[39m\u001b[38;5;124m'\u001b[39m)\u001b[38;5;241m.\u001b[39mto(device)\n\u001b[0;32m      3\u001b[0m tokenizer \u001b[38;5;241m=\u001b[39m LongformerTokenizer\u001b[38;5;241m.\u001b[39mfrom_pretrained(\u001b[38;5;124m'\u001b[39m\u001b[38;5;124m./longformer_model6\u001b[39m\u001b[38;5;124m'\u001b[39m)\n",
      "\u001b[1;31mNameError\u001b[0m: name 'LongformerForSequenceClassification' is not defined"
     ]
    }
   ],
   "source": [
    "# Load the saved model and tokenizer\n",
    "model = LongformerForSequenceClassification.from_pretrained('./longformer_model6').to(device)\n",
    "tokenizer = LongformerTokenizer.from_pretrained('./longformer_model6')"
   ]
  }
 ],
 "metadata": {
  "kernelspec": {
   "display_name": "Python 3",
   "language": "python",
   "name": "python3"
  },
  "language_info": {
   "codemirror_mode": {
    "name": "ipython",
    "version": 3
   },
   "file_extension": ".py",
   "mimetype": "text/x-python",
   "name": "python",
   "nbconvert_exporter": "python",
   "pygments_lexer": "ipython3",
   "version": "3.11.5"
  }
 },
 "nbformat": 4,
 "nbformat_minor": 2
}
